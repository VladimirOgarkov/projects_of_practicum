{
  "cells": [
    {
      "cell_type": "markdown",
      "id": "be536957",
      "metadata": {
        "deletable": false,
        "editable": false,
        "id": "be536957"
      },
      "source": [
        "# Исследование надежности заемщиков\n"
      ]
    },
    {
      "cell_type": "code",
      "execution_count": null,
      "id": "9e5ce3ee",
      "metadata": {
        "deletable": false,
        "id": "9e5ce3ee"
      },
      "outputs": [],
      "source": [
        "# импорт библиотеки pandas\n",
        "import pandas as pd"
      ]
    },
    {
      "cell_type": "markdown",
      "id": "db5f7390",
      "metadata": {
        "deletable": false,
        "editable": false,
        "id": "db5f7390"
      },
      "source": [
        "## Откроем таблицу и изучим общую информацию о данных"
      ]
    },
    {
      "cell_type": "code",
      "execution_count": null,
      "id": "411fee5a",
      "metadata": {
        "id": "411fee5a"
      },
      "outputs": [],
      "source": [
        "data = pd.read_csv('/datasets/data.csv')"
      ]
    },
    {
      "cell_type": "markdown",
      "id": "8782f554",
      "metadata": {
        "deletable": false,
        "editable": false,
        "id": "8782f554"
      },
      "source": [
        "**Выведем первые 20 строчек датафрейма `data` на экран.**"
      ]
    },
    {
      "cell_type": "code",
      "execution_count": null,
      "id": "4e08d6ff",
      "metadata": {
        "deletable": false,
        "id": "4e08d6ff",
        "outputId": "86d51991-d094-4e58-d201-d7ad23bb24a1",
        "colab": {
          "base_uri": "https://localhost:8080/",
          "height": 1000
        }
      },
      "outputs": [
        {
          "output_type": "execute_result",
          "data": {
            "text/plain": [
              "    children  days_employed  dob_years            education  education_id  \\\n",
              "0          1   -8437.673028         42               высшее             0   \n",
              "1          1   -4024.803754         36              среднее             1   \n",
              "2          0   -5623.422610         33              Среднее             1   \n",
              "3          3   -4124.747207         32              среднее             1   \n",
              "4          0  340266.072047         53              среднее             1   \n",
              "5          0    -926.185831         27               высшее             0   \n",
              "6          0   -2879.202052         43               высшее             0   \n",
              "7          0    -152.779569         50              СРЕДНЕЕ             1   \n",
              "8          2   -6929.865299         35               ВЫСШЕЕ             0   \n",
              "9          0   -2188.756445         41              среднее             1   \n",
              "10         2   -4171.483647         36               высшее             0   \n",
              "11         0    -792.701887         40              среднее             1   \n",
              "12         0            NaN         65              среднее             1   \n",
              "13         0   -1846.641941         54  неоконченное высшее             2   \n",
              "14         0   -1844.956182         56               высшее             0   \n",
              "15         1    -972.364419         26              среднее             1   \n",
              "16         0   -1719.934226         35              среднее             1   \n",
              "17         0   -2369.999720         33               высшее             0   \n",
              "18         0  400281.136913         53              среднее             1   \n",
              "19         0  -10038.818549         48              СРЕДНЕЕ             1   \n",
              "\n",
              "       family_status  family_status_id gender income_type  debt  \\\n",
              "0    женат / замужем                 0      F   сотрудник     0   \n",
              "1    женат / замужем                 0      F   сотрудник     0   \n",
              "2    женат / замужем                 0      M   сотрудник     0   \n",
              "3    женат / замужем                 0      M   сотрудник     0   \n",
              "4   гражданский брак                 1      F   пенсионер     0   \n",
              "5   гражданский брак                 1      M   компаньон     0   \n",
              "6    женат / замужем                 0      F   компаньон     0   \n",
              "7    женат / замужем                 0      M   сотрудник     0   \n",
              "8   гражданский брак                 1      F   сотрудник     0   \n",
              "9    женат / замужем                 0      M   сотрудник     0   \n",
              "10   женат / замужем                 0      M   компаньон     0   \n",
              "11   женат / замужем                 0      F   сотрудник     0   \n",
              "12  гражданский брак                 1      M   пенсионер     0   \n",
              "13   женат / замужем                 0      F   сотрудник     0   \n",
              "14  гражданский брак                 1      F   компаньон     1   \n",
              "15   женат / замужем                 0      F   сотрудник     0   \n",
              "16   женат / замужем                 0      F   сотрудник     0   \n",
              "17  гражданский брак                 1      M   сотрудник     0   \n",
              "18    вдовец / вдова                 2      F   пенсионер     0   \n",
              "19         в разводе                 3      F   сотрудник     0   \n",
              "\n",
              "     total_income                                 purpose  \n",
              "0   253875.639453                           покупка жилья  \n",
              "1   112080.014102                 приобретение автомобиля  \n",
              "2   145885.952297                           покупка жилья  \n",
              "3   267628.550329              дополнительное образование  \n",
              "4   158616.077870                         сыграть свадьбу  \n",
              "5   255763.565419                           покупка жилья  \n",
              "6   240525.971920                       операции с жильем  \n",
              "7   135823.934197                             образование  \n",
              "8    95856.832424                   на проведение свадьбы  \n",
              "9   144425.938277                 покупка жилья для семьи  \n",
              "10  113943.491460                    покупка недвижимости  \n",
              "11   77069.234271       покупка коммерческой недвижимости  \n",
              "12            NaN                         сыграть свадьбу  \n",
              "13  130458.228857                 приобретение автомобиля  \n",
              "14  165127.911772              покупка жилой недвижимости  \n",
              "15  116820.904450  строительство собственной недвижимости  \n",
              "16  289202.704229                            недвижимость  \n",
              "17   90410.586745              строительство недвижимости  \n",
              "18   56823.777243      на покупку подержанного автомобиля  \n",
              "19  242831.107982            на покупку своего автомобиля  "
            ],
            "text/html": [
              "\n",
              "  <div id=\"df-168afa52-091c-4360-8868-0199885b163c\">\n",
              "    <div class=\"colab-df-container\">\n",
              "      <div>\n",
              "<style scoped>\n",
              "    .dataframe tbody tr th:only-of-type {\n",
              "        vertical-align: middle;\n",
              "    }\n",
              "\n",
              "    .dataframe tbody tr th {\n",
              "        vertical-align: top;\n",
              "    }\n",
              "\n",
              "    .dataframe thead th {\n",
              "        text-align: right;\n",
              "    }\n",
              "</style>\n",
              "<table border=\"1\" class=\"dataframe\">\n",
              "  <thead>\n",
              "    <tr style=\"text-align: right;\">\n",
              "      <th></th>\n",
              "      <th>children</th>\n",
              "      <th>days_employed</th>\n",
              "      <th>dob_years</th>\n",
              "      <th>education</th>\n",
              "      <th>education_id</th>\n",
              "      <th>family_status</th>\n",
              "      <th>family_status_id</th>\n",
              "      <th>gender</th>\n",
              "      <th>income_type</th>\n",
              "      <th>debt</th>\n",
              "      <th>total_income</th>\n",
              "      <th>purpose</th>\n",
              "    </tr>\n",
              "  </thead>\n",
              "  <tbody>\n",
              "    <tr>\n",
              "      <th>0</th>\n",
              "      <td>1</td>\n",
              "      <td>-8437.673028</td>\n",
              "      <td>42</td>\n",
              "      <td>высшее</td>\n",
              "      <td>0</td>\n",
              "      <td>женат / замужем</td>\n",
              "      <td>0</td>\n",
              "      <td>F</td>\n",
              "      <td>сотрудник</td>\n",
              "      <td>0</td>\n",
              "      <td>253875.639453</td>\n",
              "      <td>покупка жилья</td>\n",
              "    </tr>\n",
              "    <tr>\n",
              "      <th>1</th>\n",
              "      <td>1</td>\n",
              "      <td>-4024.803754</td>\n",
              "      <td>36</td>\n",
              "      <td>среднее</td>\n",
              "      <td>1</td>\n",
              "      <td>женат / замужем</td>\n",
              "      <td>0</td>\n",
              "      <td>F</td>\n",
              "      <td>сотрудник</td>\n",
              "      <td>0</td>\n",
              "      <td>112080.014102</td>\n",
              "      <td>приобретение автомобиля</td>\n",
              "    </tr>\n",
              "    <tr>\n",
              "      <th>2</th>\n",
              "      <td>0</td>\n",
              "      <td>-5623.422610</td>\n",
              "      <td>33</td>\n",
              "      <td>Среднее</td>\n",
              "      <td>1</td>\n",
              "      <td>женат / замужем</td>\n",
              "      <td>0</td>\n",
              "      <td>M</td>\n",
              "      <td>сотрудник</td>\n",
              "      <td>0</td>\n",
              "      <td>145885.952297</td>\n",
              "      <td>покупка жилья</td>\n",
              "    </tr>\n",
              "    <tr>\n",
              "      <th>3</th>\n",
              "      <td>3</td>\n",
              "      <td>-4124.747207</td>\n",
              "      <td>32</td>\n",
              "      <td>среднее</td>\n",
              "      <td>1</td>\n",
              "      <td>женат / замужем</td>\n",
              "      <td>0</td>\n",
              "      <td>M</td>\n",
              "      <td>сотрудник</td>\n",
              "      <td>0</td>\n",
              "      <td>267628.550329</td>\n",
              "      <td>дополнительное образование</td>\n",
              "    </tr>\n",
              "    <tr>\n",
              "      <th>4</th>\n",
              "      <td>0</td>\n",
              "      <td>340266.072047</td>\n",
              "      <td>53</td>\n",
              "      <td>среднее</td>\n",
              "      <td>1</td>\n",
              "      <td>гражданский брак</td>\n",
              "      <td>1</td>\n",
              "      <td>F</td>\n",
              "      <td>пенсионер</td>\n",
              "      <td>0</td>\n",
              "      <td>158616.077870</td>\n",
              "      <td>сыграть свадьбу</td>\n",
              "    </tr>\n",
              "    <tr>\n",
              "      <th>5</th>\n",
              "      <td>0</td>\n",
              "      <td>-926.185831</td>\n",
              "      <td>27</td>\n",
              "      <td>высшее</td>\n",
              "      <td>0</td>\n",
              "      <td>гражданский брак</td>\n",
              "      <td>1</td>\n",
              "      <td>M</td>\n",
              "      <td>компаньон</td>\n",
              "      <td>0</td>\n",
              "      <td>255763.565419</td>\n",
              "      <td>покупка жилья</td>\n",
              "    </tr>\n",
              "    <tr>\n",
              "      <th>6</th>\n",
              "      <td>0</td>\n",
              "      <td>-2879.202052</td>\n",
              "      <td>43</td>\n",
              "      <td>высшее</td>\n",
              "      <td>0</td>\n",
              "      <td>женат / замужем</td>\n",
              "      <td>0</td>\n",
              "      <td>F</td>\n",
              "      <td>компаньон</td>\n",
              "      <td>0</td>\n",
              "      <td>240525.971920</td>\n",
              "      <td>операции с жильем</td>\n",
              "    </tr>\n",
              "    <tr>\n",
              "      <th>7</th>\n",
              "      <td>0</td>\n",
              "      <td>-152.779569</td>\n",
              "      <td>50</td>\n",
              "      <td>СРЕДНЕЕ</td>\n",
              "      <td>1</td>\n",
              "      <td>женат / замужем</td>\n",
              "      <td>0</td>\n",
              "      <td>M</td>\n",
              "      <td>сотрудник</td>\n",
              "      <td>0</td>\n",
              "      <td>135823.934197</td>\n",
              "      <td>образование</td>\n",
              "    </tr>\n",
              "    <tr>\n",
              "      <th>8</th>\n",
              "      <td>2</td>\n",
              "      <td>-6929.865299</td>\n",
              "      <td>35</td>\n",
              "      <td>ВЫСШЕЕ</td>\n",
              "      <td>0</td>\n",
              "      <td>гражданский брак</td>\n",
              "      <td>1</td>\n",
              "      <td>F</td>\n",
              "      <td>сотрудник</td>\n",
              "      <td>0</td>\n",
              "      <td>95856.832424</td>\n",
              "      <td>на проведение свадьбы</td>\n",
              "    </tr>\n",
              "    <tr>\n",
              "      <th>9</th>\n",
              "      <td>0</td>\n",
              "      <td>-2188.756445</td>\n",
              "      <td>41</td>\n",
              "      <td>среднее</td>\n",
              "      <td>1</td>\n",
              "      <td>женат / замужем</td>\n",
              "      <td>0</td>\n",
              "      <td>M</td>\n",
              "      <td>сотрудник</td>\n",
              "      <td>0</td>\n",
              "      <td>144425.938277</td>\n",
              "      <td>покупка жилья для семьи</td>\n",
              "    </tr>\n",
              "    <tr>\n",
              "      <th>10</th>\n",
              "      <td>2</td>\n",
              "      <td>-4171.483647</td>\n",
              "      <td>36</td>\n",
              "      <td>высшее</td>\n",
              "      <td>0</td>\n",
              "      <td>женат / замужем</td>\n",
              "      <td>0</td>\n",
              "      <td>M</td>\n",
              "      <td>компаньон</td>\n",
              "      <td>0</td>\n",
              "      <td>113943.491460</td>\n",
              "      <td>покупка недвижимости</td>\n",
              "    </tr>\n",
              "    <tr>\n",
              "      <th>11</th>\n",
              "      <td>0</td>\n",
              "      <td>-792.701887</td>\n",
              "      <td>40</td>\n",
              "      <td>среднее</td>\n",
              "      <td>1</td>\n",
              "      <td>женат / замужем</td>\n",
              "      <td>0</td>\n",
              "      <td>F</td>\n",
              "      <td>сотрудник</td>\n",
              "      <td>0</td>\n",
              "      <td>77069.234271</td>\n",
              "      <td>покупка коммерческой недвижимости</td>\n",
              "    </tr>\n",
              "    <tr>\n",
              "      <th>12</th>\n",
              "      <td>0</td>\n",
              "      <td>NaN</td>\n",
              "      <td>65</td>\n",
              "      <td>среднее</td>\n",
              "      <td>1</td>\n",
              "      <td>гражданский брак</td>\n",
              "      <td>1</td>\n",
              "      <td>M</td>\n",
              "      <td>пенсионер</td>\n",
              "      <td>0</td>\n",
              "      <td>NaN</td>\n",
              "      <td>сыграть свадьбу</td>\n",
              "    </tr>\n",
              "    <tr>\n",
              "      <th>13</th>\n",
              "      <td>0</td>\n",
              "      <td>-1846.641941</td>\n",
              "      <td>54</td>\n",
              "      <td>неоконченное высшее</td>\n",
              "      <td>2</td>\n",
              "      <td>женат / замужем</td>\n",
              "      <td>0</td>\n",
              "      <td>F</td>\n",
              "      <td>сотрудник</td>\n",
              "      <td>0</td>\n",
              "      <td>130458.228857</td>\n",
              "      <td>приобретение автомобиля</td>\n",
              "    </tr>\n",
              "    <tr>\n",
              "      <th>14</th>\n",
              "      <td>0</td>\n",
              "      <td>-1844.956182</td>\n",
              "      <td>56</td>\n",
              "      <td>высшее</td>\n",
              "      <td>0</td>\n",
              "      <td>гражданский брак</td>\n",
              "      <td>1</td>\n",
              "      <td>F</td>\n",
              "      <td>компаньон</td>\n",
              "      <td>1</td>\n",
              "      <td>165127.911772</td>\n",
              "      <td>покупка жилой недвижимости</td>\n",
              "    </tr>\n",
              "    <tr>\n",
              "      <th>15</th>\n",
              "      <td>1</td>\n",
              "      <td>-972.364419</td>\n",
              "      <td>26</td>\n",
              "      <td>среднее</td>\n",
              "      <td>1</td>\n",
              "      <td>женат / замужем</td>\n",
              "      <td>0</td>\n",
              "      <td>F</td>\n",
              "      <td>сотрудник</td>\n",
              "      <td>0</td>\n",
              "      <td>116820.904450</td>\n",
              "      <td>строительство собственной недвижимости</td>\n",
              "    </tr>\n",
              "    <tr>\n",
              "      <th>16</th>\n",
              "      <td>0</td>\n",
              "      <td>-1719.934226</td>\n",
              "      <td>35</td>\n",
              "      <td>среднее</td>\n",
              "      <td>1</td>\n",
              "      <td>женат / замужем</td>\n",
              "      <td>0</td>\n",
              "      <td>F</td>\n",
              "      <td>сотрудник</td>\n",
              "      <td>0</td>\n",
              "      <td>289202.704229</td>\n",
              "      <td>недвижимость</td>\n",
              "    </tr>\n",
              "    <tr>\n",
              "      <th>17</th>\n",
              "      <td>0</td>\n",
              "      <td>-2369.999720</td>\n",
              "      <td>33</td>\n",
              "      <td>высшее</td>\n",
              "      <td>0</td>\n",
              "      <td>гражданский брак</td>\n",
              "      <td>1</td>\n",
              "      <td>M</td>\n",
              "      <td>сотрудник</td>\n",
              "      <td>0</td>\n",
              "      <td>90410.586745</td>\n",
              "      <td>строительство недвижимости</td>\n",
              "    </tr>\n",
              "    <tr>\n",
              "      <th>18</th>\n",
              "      <td>0</td>\n",
              "      <td>400281.136913</td>\n",
              "      <td>53</td>\n",
              "      <td>среднее</td>\n",
              "      <td>1</td>\n",
              "      <td>вдовец / вдова</td>\n",
              "      <td>2</td>\n",
              "      <td>F</td>\n",
              "      <td>пенсионер</td>\n",
              "      <td>0</td>\n",
              "      <td>56823.777243</td>\n",
              "      <td>на покупку подержанного автомобиля</td>\n",
              "    </tr>\n",
              "    <tr>\n",
              "      <th>19</th>\n",
              "      <td>0</td>\n",
              "      <td>-10038.818549</td>\n",
              "      <td>48</td>\n",
              "      <td>СРЕДНЕЕ</td>\n",
              "      <td>1</td>\n",
              "      <td>в разводе</td>\n",
              "      <td>3</td>\n",
              "      <td>F</td>\n",
              "      <td>сотрудник</td>\n",
              "      <td>0</td>\n",
              "      <td>242831.107982</td>\n",
              "      <td>на покупку своего автомобиля</td>\n",
              "    </tr>\n",
              "  </tbody>\n",
              "</table>\n",
              "</div>\n",
              "      <button class=\"colab-df-convert\" onclick=\"convertToInteractive('df-168afa52-091c-4360-8868-0199885b163c')\"\n",
              "              title=\"Convert this dataframe to an interactive table.\"\n",
              "              style=\"display:none;\">\n",
              "        \n",
              "  <svg xmlns=\"http://www.w3.org/2000/svg\" height=\"24px\"viewBox=\"0 0 24 24\"\n",
              "       width=\"24px\">\n",
              "    <path d=\"M0 0h24v24H0V0z\" fill=\"none\"/>\n",
              "    <path d=\"M18.56 5.44l.94 2.06.94-2.06 2.06-.94-2.06-.94-.94-2.06-.94 2.06-2.06.94zm-11 1L8.5 8.5l.94-2.06 2.06-.94-2.06-.94L8.5 2.5l-.94 2.06-2.06.94zm10 10l.94 2.06.94-2.06 2.06-.94-2.06-.94-.94-2.06-.94 2.06-2.06.94z\"/><path d=\"M17.41 7.96l-1.37-1.37c-.4-.4-.92-.59-1.43-.59-.52 0-1.04.2-1.43.59L10.3 9.45l-7.72 7.72c-.78.78-.78 2.05 0 2.83L4 21.41c.39.39.9.59 1.41.59.51 0 1.02-.2 1.41-.59l7.78-7.78 2.81-2.81c.8-.78.8-2.07 0-2.86zM5.41 20L4 18.59l7.72-7.72 1.47 1.35L5.41 20z\"/>\n",
              "  </svg>\n",
              "      </button>\n",
              "      \n",
              "  <style>\n",
              "    .colab-df-container {\n",
              "      display:flex;\n",
              "      flex-wrap:wrap;\n",
              "      gap: 12px;\n",
              "    }\n",
              "\n",
              "    .colab-df-convert {\n",
              "      background-color: #E8F0FE;\n",
              "      border: none;\n",
              "      border-radius: 50%;\n",
              "      cursor: pointer;\n",
              "      display: none;\n",
              "      fill: #1967D2;\n",
              "      height: 32px;\n",
              "      padding: 0 0 0 0;\n",
              "      width: 32px;\n",
              "    }\n",
              "\n",
              "    .colab-df-convert:hover {\n",
              "      background-color: #E2EBFA;\n",
              "      box-shadow: 0px 1px 2px rgba(60, 64, 67, 0.3), 0px 1px 3px 1px rgba(60, 64, 67, 0.15);\n",
              "      fill: #174EA6;\n",
              "    }\n",
              "\n",
              "    [theme=dark] .colab-df-convert {\n",
              "      background-color: #3B4455;\n",
              "      fill: #D2E3FC;\n",
              "    }\n",
              "\n",
              "    [theme=dark] .colab-df-convert:hover {\n",
              "      background-color: #434B5C;\n",
              "      box-shadow: 0px 1px 3px 1px rgba(0, 0, 0, 0.15);\n",
              "      filter: drop-shadow(0px 1px 2px rgba(0, 0, 0, 0.3));\n",
              "      fill: #FFFFFF;\n",
              "    }\n",
              "  </style>\n",
              "\n",
              "      <script>\n",
              "        const buttonEl =\n",
              "          document.querySelector('#df-168afa52-091c-4360-8868-0199885b163c button.colab-df-convert');\n",
              "        buttonEl.style.display =\n",
              "          google.colab.kernel.accessAllowed ? 'block' : 'none';\n",
              "\n",
              "        async function convertToInteractive(key) {\n",
              "          const element = document.querySelector('#df-168afa52-091c-4360-8868-0199885b163c');\n",
              "          const dataTable =\n",
              "            await google.colab.kernel.invokeFunction('convertToInteractive',\n",
              "                                                     [key], {});\n",
              "          if (!dataTable) return;\n",
              "\n",
              "          const docLinkHtml = 'Like what you see? Visit the ' +\n",
              "            '<a target=\"_blank\" href=https://colab.research.google.com/notebooks/data_table.ipynb>data table notebook</a>'\n",
              "            + ' to learn more about interactive tables.';\n",
              "          element.innerHTML = '';\n",
              "          dataTable['output_type'] = 'display_data';\n",
              "          await google.colab.output.renderOutput(dataTable, element);\n",
              "          const docLink = document.createElement('div');\n",
              "          docLink.innerHTML = docLinkHtml;\n",
              "          element.appendChild(docLink);\n",
              "        }\n",
              "      </script>\n",
              "    </div>\n",
              "  </div>\n",
              "  "
            ]
          },
          "metadata": {},
          "execution_count": 38
        }
      ],
      "source": [
        "data.head(20)"
      ]
    },
    {
      "cell_type": "markdown",
      "id": "df4b0b93",
      "metadata": {
        "deletable": false,
        "editable": false,
        "id": "df4b0b93"
      },
      "source": [
        "**Выведем основную информацию о датафрейме с помощью метода `info()`.**"
      ]
    },
    {
      "cell_type": "code",
      "execution_count": null,
      "id": "ca4e4d29",
      "metadata": {
        "deletable": false,
        "id": "ca4e4d29",
        "outputId": "b6078c50-9f17-4514-913d-1a231de5fb97",
        "colab": {
          "base_uri": "https://localhost:8080/"
        }
      },
      "outputs": [
        {
          "output_type": "stream",
          "name": "stdout",
          "text": [
            "<class 'pandas.core.frame.DataFrame'>\n",
            "RangeIndex: 21525 entries, 0 to 21524\n",
            "Data columns (total 12 columns):\n",
            " #   Column            Non-Null Count  Dtype  \n",
            "---  ------            --------------  -----  \n",
            " 0   children          21525 non-null  int64  \n",
            " 1   days_employed     19351 non-null  float64\n",
            " 2   dob_years         21525 non-null  int64  \n",
            " 3   education         21525 non-null  object \n",
            " 4   education_id      21525 non-null  int64  \n",
            " 5   family_status     21525 non-null  object \n",
            " 6   family_status_id  21525 non-null  int64  \n",
            " 7   gender            21525 non-null  object \n",
            " 8   income_type       21525 non-null  object \n",
            " 9   debt              21525 non-null  int64  \n",
            " 10  total_income      19351 non-null  float64\n",
            " 11  purpose           21525 non-null  object \n",
            "dtypes: float64(2), int64(5), object(5)\n",
            "memory usage: 2.0+ MB\n"
          ]
        }
      ],
      "source": [
        "data.info()"
      ]
    },
    {
      "cell_type": "markdown",
      "id": "429e60ea",
      "metadata": {
        "deletable": false,
        "editable": false,
        "id": "429e60ea"
      },
      "source": [
        "## Предобработка данных"
      ]
    },
    {
      "cell_type": "markdown",
      "id": "8ef21983",
      "metadata": {
        "deletable": false,
        "editable": false,
        "id": "8ef21983"
      },
      "source": [
        "### Удаление пропусков"
      ]
    },
    {
      "cell_type": "markdown",
      "id": "f2314d0d",
      "metadata": {
        "deletable": false,
        "editable": false,
        "id": "f2314d0d"
      },
      "source": [
        "**Выведем количество пропущенных значений для каждого столбца.**"
      ]
    },
    {
      "cell_type": "code",
      "execution_count": null,
      "id": "365b76f7",
      "metadata": {
        "deletable": false,
        "id": "365b76f7",
        "outputId": "6f32240e-b46b-43a7-fd66-fb42794c056c",
        "colab": {
          "base_uri": "https://localhost:8080/"
        }
      },
      "outputs": [
        {
          "output_type": "execute_result",
          "data": {
            "text/plain": [
              "children               0\n",
              "days_employed       2174\n",
              "dob_years              0\n",
              "education              0\n",
              "education_id           0\n",
              "family_status          0\n",
              "family_status_id       0\n",
              "gender                 0\n",
              "income_type            0\n",
              "debt                   0\n",
              "total_income        2174\n",
              "purpose                0\n",
              "dtype: int64"
            ]
          },
          "metadata": {},
          "execution_count": 40
        }
      ],
      "source": [
        "data.isna().sum()"
      ]
    },
    {
      "cell_type": "markdown",
      "id": "2d3c720b",
      "metadata": {
        "deletable": false,
        "editable": false,
        "id": "2d3c720b"
      },
      "source": [
        "**В двух столбцах есть пропущенные значения. Один из них — `days_employed`. Пропуски в этом столбце обработаем на следующем этапе. Другой столбец с пропущенными значениями — `total_income` — хранит данные о доходах. На сумму дохода сильнее всего влияет тип занятости, поэтому заполним пропуски в этом столбце медианным значением по каждому типу из столбца `income_type`. Например, у человека с типом занятости `сотрудник` пропуск в столбце `total_income` заполним медианным доходом среди всех записей с тем же типом.**"
      ]
    },
    {
      "cell_type": "code",
      "execution_count": null,
      "id": "cb5b3e9b",
      "metadata": {
        "deletable": false,
        "id": "cb5b3e9b"
      },
      "outputs": [],
      "source": [
        "for t in data['income_type'].unique():\n",
        "    data.loc[(data['income_type'] == t) & (data['total_income'].isna()), 'total_income'] = \\\n",
        "    data.loc[(data['income_type'] == t), 'total_income'].median()"
      ]
    },
    {
      "cell_type": "markdown",
      "id": "a8bcfd75",
      "metadata": {
        "deletable": false,
        "editable": false,
        "id": "a8bcfd75"
      },
      "source": [
        "### Обработка аномальных значений"
      ]
    },
    {
      "cell_type": "markdown",
      "id": "0a8ba68a",
      "metadata": {
        "deletable": false,
        "editable": false,
        "id": "0a8ba68a"
      },
      "source": [
        "**Заменим все отрицательные значения столбца `days_employed` положительными с помощью метода `abs()`.**"
      ]
    },
    {
      "cell_type": "code",
      "execution_count": null,
      "id": "9546fb22",
      "metadata": {
        "deletable": false,
        "id": "9546fb22"
      },
      "outputs": [],
      "source": [
        "data['days_employed'] = data['days_employed'].abs()"
      ]
    },
    {
      "cell_type": "markdown",
      "id": "8bb7e45d",
      "metadata": {
        "deletable": false,
        "editable": false,
        "id": "8bb7e45d"
      },
      "source": [
        "**Для каждого типа занятости выведем медианное значение трудового стажа `days_employed` в днях.**"
      ]
    },
    {
      "cell_type": "code",
      "execution_count": null,
      "id": "c1546169",
      "metadata": {
        "deletable": false,
        "id": "c1546169",
        "outputId": "a517f351-a9cb-4f4a-ee6f-c7ab9dce7d42",
        "colab": {
          "base_uri": "https://localhost:8080/"
        }
      },
      "outputs": [
        {
          "output_type": "execute_result",
          "data": {
            "text/plain": [
              "income_type\n",
              "безработный        366413.652744\n",
              "в декрете            3296.759962\n",
              "госслужащий          2689.368353\n",
              "компаньон            1547.382223\n",
              "пенсионер          365213.306266\n",
              "предприниматель       520.848083\n",
              "сотрудник            1574.202821\n",
              "студент               578.751554\n",
              "Name: days_employed, dtype: float64"
            ]
          },
          "metadata": {},
          "execution_count": 43
        }
      ],
      "source": [
        "data.groupby('income_type')['days_employed'].agg('median')"
      ]
    },
    {
      "cell_type": "markdown",
      "id": "e2352330",
      "metadata": {
        "deletable": false,
        "editable": false,
        "id": "e2352330"
      },
      "source": [
        "У двух типов (безработные и пенсионеры) получатся аномально большие значения. Оставим их как есть, т.к. этот столбец не понадобится нам для исследования."
      ]
    },
    {
      "cell_type": "markdown",
      "id": "c39196a2",
      "metadata": {
        "deletable": false,
        "editable": false,
        "id": "c39196a2"
      },
      "source": [
        "**Выведем перечень уникальных значений столбца `children`.**"
      ]
    },
    {
      "cell_type": "code",
      "execution_count": null,
      "id": "2d886fb0",
      "metadata": {
        "deletable": false,
        "id": "2d886fb0",
        "outputId": "8b565bca-1250-4122-e8d8-1148116d5a35",
        "colab": {
          "base_uri": "https://localhost:8080/"
        }
      },
      "outputs": [
        {
          "output_type": "execute_result",
          "data": {
            "text/plain": [
              "array([ 1,  0,  3,  2, -1,  4, 20,  5])"
            ]
          },
          "metadata": {},
          "execution_count": 44
        }
      ],
      "source": [
        "data['children'].unique()"
      ]
    },
    {
      "cell_type": "markdown",
      "id": "182570b2",
      "metadata": {
        "deletable": false,
        "editable": false,
        "id": "182570b2"
      },
      "source": [
        "**В столбце `children` есть два аномальных значения. Удалим строки, в которых встречаются такие аномальные значения из датафрейма `data`.**"
      ]
    },
    {
      "cell_type": "code",
      "execution_count": null,
      "id": "2ff08bc8",
      "metadata": {
        "deletable": false,
        "id": "2ff08bc8"
      },
      "outputs": [],
      "source": [
        "data = data[(data['children'] != -1) & (data['children'] != 20)]"
      ]
    },
    {
      "cell_type": "markdown",
      "id": "33a44568",
      "metadata": {
        "deletable": false,
        "editable": false,
        "id": "33a44568"
      },
      "source": [
        "**Ещё раз выведем перечень уникальных значений столбца `children`, чтобы убедиться, что артефакты удалены.**"
      ]
    },
    {
      "cell_type": "code",
      "execution_count": null,
      "id": "fdde417c",
      "metadata": {
        "deletable": false,
        "id": "fdde417c",
        "outputId": "0e851170-496a-4888-fecd-5ff27bae7e86",
        "colab": {
          "base_uri": "https://localhost:8080/"
        }
      },
      "outputs": [
        {
          "output_type": "execute_result",
          "data": {
            "text/plain": [
              "array([1, 0, 3, 2, 4, 5])"
            ]
          },
          "metadata": {},
          "execution_count": 46
        }
      ],
      "source": [
        "data['children'].unique()"
      ]
    },
    {
      "cell_type": "markdown",
      "id": "0550084e",
      "metadata": {
        "deletable": false,
        "editable": false,
        "id": "0550084e"
      },
      "source": [
        "### Удаление пропусков (продолжение)"
      ]
    },
    {
      "cell_type": "markdown",
      "id": "96ef7d95",
      "metadata": {
        "deletable": false,
        "editable": false,
        "id": "96ef7d95"
      },
      "source": [
        "**Заполним пропуски в столбце `days_employed` медианными значениями по каждому типу занятости `income_type`.**"
      ]
    },
    {
      "cell_type": "code",
      "execution_count": null,
      "id": "4f48a3ca",
      "metadata": {
        "deletable": false,
        "id": "4f48a3ca"
      },
      "outputs": [],
      "source": [
        "for t in data['income_type'].unique():\n",
        "    data.loc[(data['income_type'] == t) & (data['days_employed'].isna()), 'days_employed'] = \\\n",
        "    data.loc[(data['income_type'] == t), 'days_employed'].median()"
      ]
    },
    {
      "cell_type": "markdown",
      "id": "04c61cfe",
      "metadata": {
        "deletable": false,
        "editable": false,
        "id": "04c61cfe"
      },
      "source": [
        "**Убедимся, что все пропуски заполнены. Проверим себя и ещё раз выведем количество пропущенных значений для каждого столбца.**"
      ]
    },
    {
      "cell_type": "code",
      "execution_count": null,
      "id": "0d800750",
      "metadata": {
        "deletable": false,
        "id": "0d800750",
        "outputId": "0d9cd427-f3db-42f1-cc5f-6e9a9c9c3e23",
        "colab": {
          "base_uri": "https://localhost:8080/"
        }
      },
      "outputs": [
        {
          "output_type": "execute_result",
          "data": {
            "text/plain": [
              "children            0\n",
              "days_employed       0\n",
              "dob_years           0\n",
              "education           0\n",
              "education_id        0\n",
              "family_status       0\n",
              "family_status_id    0\n",
              "gender              0\n",
              "income_type         0\n",
              "debt                0\n",
              "total_income        0\n",
              "purpose             0\n",
              "dtype: int64"
            ]
          },
          "metadata": {},
          "execution_count": 48
        }
      ],
      "source": [
        "data.isna().sum()"
      ]
    },
    {
      "cell_type": "markdown",
      "id": "9b67c480",
      "metadata": {
        "deletable": false,
        "editable": false,
        "id": "9b67c480"
      },
      "source": [
        "### Изменение типов данных"
      ]
    },
    {
      "cell_type": "markdown",
      "id": "92e2fc42",
      "metadata": {
        "deletable": false,
        "editable": false,
        "id": "92e2fc42"
      },
      "source": [
        "**Заменим вещественный тип данных в столбце `total_income` на целочисленный с помощью метода `astype()`.**"
      ]
    },
    {
      "cell_type": "code",
      "execution_count": null,
      "id": "91e91d6e",
      "metadata": {
        "deletable": false,
        "id": "91e91d6e"
      },
      "outputs": [],
      "source": [
        "data['total_income'] = data['total_income'].astype(int)"
      ]
    },
    {
      "cell_type": "markdown",
      "id": "ad3b492f",
      "metadata": {
        "deletable": false,
        "editable": false,
        "id": "ad3b492f"
      },
      "source": [
        "### Обработка дубликатов"
      ]
    },
    {
      "cell_type": "markdown",
      "id": "890ddaa2",
      "metadata": {
        "deletable": false,
        "editable": false,
        "id": "890ddaa2"
      },
      "source": [
        "**Обработаем неявные дубликаты в столбце `education`. В этом столбце есть одни и те же значения, но записанные по-разному: с использованием заглавных и строчных букв. Приведём их к нижнему регистру. Проверим остальные столбцы.**"
      ]
    },
    {
      "cell_type": "code",
      "execution_count": null,
      "id": "fa78bcc3",
      "metadata": {
        "deletable": false,
        "id": "fa78bcc3"
      },
      "outputs": [],
      "source": [
        "data['education'] = data['education'].str.lower()"
      ]
    },
    {
      "cell_type": "markdown",
      "id": "7a247f26",
      "metadata": {
        "deletable": false,
        "editable": false,
        "id": "7a247f26"
      },
      "source": [
        "**Выведем на экран количество строк-дубликатов в данных. Если такие строки присутствуют, удалим их.**"
      ]
    },
    {
      "cell_type": "code",
      "execution_count": null,
      "id": "976e8c91",
      "metadata": {
        "deletable": false,
        "id": "976e8c91",
        "outputId": "79d39de5-f494-42d3-fd12-2de4aa7a21e9",
        "colab": {
          "base_uri": "https://localhost:8080/"
        }
      },
      "outputs": [
        {
          "output_type": "execute_result",
          "data": {
            "text/plain": [
              "71"
            ]
          },
          "metadata": {},
          "execution_count": 51
        }
      ],
      "source": [
        "data.duplicated().sum()"
      ]
    },
    {
      "cell_type": "code",
      "execution_count": null,
      "id": "44bf6af6",
      "metadata": {
        "deletable": false,
        "id": "44bf6af6"
      },
      "outputs": [],
      "source": [
        "data = data.drop_duplicates()"
      ]
    },
    {
      "cell_type": "markdown",
      "id": "24bae396",
      "metadata": {
        "deletable": false,
        "editable": false,
        "id": "24bae396"
      },
      "source": [
        "### Категоризация данных"
      ]
    },
    {
      "cell_type": "markdown",
      "id": "f190533f",
      "metadata": {
        "deletable": false,
        "editable": false,
        "id": "f190533f"
      },
      "source": [
        "**На основании диапазонов, указанных ниже, создадим в датафрейме `data` столбец `total_income_category` с категориями:**\n",
        "\n",
        "- 0–30000 — `'E'`;\n",
        "- 30001–50000 — `'D'`;\n",
        "- 50001–200000 — `'C'`;\n",
        "- 200001–1000000 — `'B'`;\n",
        "- 1000001 и выше — `'A'`.\n",
        "\n",
        "\n",
        "**Например, кредитополучателю с доходом 25000 назначим категорию `'E'`, а клиенту, получающему 235000, — `'B'`. Создадим функцию `categorize_income()` и применим метод `apply()`.**"
      ]
    },
    {
      "cell_type": "code",
      "execution_count": null,
      "id": "e79eba7f",
      "metadata": {
        "deletable": false,
        "id": "e79eba7f"
      },
      "outputs": [],
      "source": [
        "def categorize_income(income):\n",
        "    try:\n",
        "        if 0 <= income <= 30000:\n",
        "            return 'E'\n",
        "        elif 30001 <= income <= 50000:\n",
        "            return 'D'\n",
        "        elif 50001 <= income <= 200000:\n",
        "            return 'C'\n",
        "        elif 200001 <= income <= 1000000:\n",
        "            return 'B'\n",
        "        elif income >= 1000001:\n",
        "            return 'A'\n",
        "    except:\n",
        "        pass"
      ]
    },
    {
      "cell_type": "code",
      "execution_count": null,
      "id": "08bc1000",
      "metadata": {
        "deletable": false,
        "id": "08bc1000"
      },
      "outputs": [],
      "source": [
        "data['total_income_category'] = data['total_income'].apply(categorize_income)"
      ]
    },
    {
      "cell_type": "markdown",
      "id": "f1d087c7",
      "metadata": {
        "deletable": false,
        "editable": false,
        "id": "f1d087c7"
      },
      "source": [
        "**Выведем на экран перечень уникальных целей взятия кредита из столбца `purpose`.**"
      ]
    },
    {
      "cell_type": "code",
      "execution_count": null,
      "id": "213aaba0",
      "metadata": {
        "deletable": false,
        "id": "213aaba0",
        "outputId": "bf20cdd2-8ec4-45bf-9fd7-7a0eaacc5131",
        "colab": {
          "base_uri": "https://localhost:8080/"
        }
      },
      "outputs": [
        {
          "output_type": "execute_result",
          "data": {
            "text/plain": [
              "array(['покупка жилья', 'приобретение автомобиля',\n",
              "       'дополнительное образование', 'сыграть свадьбу',\n",
              "       'операции с жильем', 'образование', 'на проведение свадьбы',\n",
              "       'покупка жилья для семьи', 'покупка недвижимости',\n",
              "       'покупка коммерческой недвижимости', 'покупка жилой недвижимости',\n",
              "       'строительство собственной недвижимости', 'недвижимость',\n",
              "       'строительство недвижимости', 'на покупку подержанного автомобиля',\n",
              "       'на покупку своего автомобиля',\n",
              "       'операции с коммерческой недвижимостью',\n",
              "       'строительство жилой недвижимости', 'жилье',\n",
              "       'операции со своей недвижимостью', 'автомобили',\n",
              "       'заняться образованием', 'сделка с подержанным автомобилем',\n",
              "       'получение образования', 'автомобиль', 'свадьба',\n",
              "       'получение дополнительного образования', 'покупка своего жилья',\n",
              "       'операции с недвижимостью', 'получение высшего образования',\n",
              "       'свой автомобиль', 'сделка с автомобилем',\n",
              "       'профильное образование', 'высшее образование',\n",
              "       'покупка жилья для сдачи', 'на покупку автомобиля', 'ремонт жилью',\n",
              "       'заняться высшим образованием'], dtype=object)"
            ]
          },
          "metadata": {},
          "execution_count": 67
        }
      ],
      "source": [
        "data['purpose'].unique()"
      ]
    },
    {
      "cell_type": "markdown",
      "id": "6164e0a3",
      "metadata": {
        "deletable": false,
        "editable": false,
        "id": "6164e0a3"
      },
      "source": [
        "**Создадим функцию, которая на основании данных из столбца `purpose` сформирует новый столбец `purpose_category`, в который войдут следующие категории:**\n",
        "\n",
        "- `'операции с автомобилем'`,\n",
        "- `'операции с недвижимостью'`,\n",
        "- `'проведение свадьбы'`,\n",
        "- `'получение образования'`.\n",
        "\n",
        "**Например, если в столбце `purpose` находится подстрока `'на покупку автомобиля'`, то в столбце `purpose_category` появится строка `'операции с автомобилем'`.**\n",
        "\n",
        "**Создадим функцию с именем `categorize_purpose()` и применим метод `apply()`.**"
      ]
    },
    {
      "cell_type": "code",
      "execution_count": null,
      "id": "ed6be517",
      "metadata": {
        "deletable": false,
        "id": "ed6be517"
      },
      "outputs": [],
      "source": [
        "def categorize_purpose(row):\n",
        "    try:\n",
        "        if 'автом' in row:\n",
        "            return 'операции с автомобилем'\n",
        "        elif 'жил' in row or 'недвиж' in row:\n",
        "            return 'операции с недвижимостью'\n",
        "        elif 'свад' in row:\n",
        "            return 'проведение свадьбы'\n",
        "        elif 'образов' in row:\n",
        "            return 'получение образования'\n",
        "    except:\n",
        "        return 'нет категории'"
      ]
    },
    {
      "cell_type": "code",
      "execution_count": null,
      "id": "87707341",
      "metadata": {
        "deletable": false,
        "id": "87707341",
        "colab": {
          "base_uri": "https://localhost:8080/",
          "height": 1000
        },
        "outputId": "c38fa6ea-8349-4122-a6ed-0940c5e97c45"
      },
      "outputs": [
        {
          "output_type": "execute_result",
          "data": {
            "text/plain": [
              "    children  days_employed  dob_years            education  education_id  \\\n",
              "0          1    8437.673028         42               высшее             0   \n",
              "1          1    4024.803754         36              среднее             1   \n",
              "2          0    5623.422610         33              среднее             1   \n",
              "3          3    4124.747207         32              среднее             1   \n",
              "4          0  340266.072047         53              среднее             1   \n",
              "5          0     926.185831         27               высшее             0   \n",
              "6          0    2879.202052         43               высшее             0   \n",
              "7          0     152.779569         50              среднее             1   \n",
              "8          2    6929.865299         35               высшее             0   \n",
              "9          0    2188.756445         41              среднее             1   \n",
              "10         2    4171.483647         36               высшее             0   \n",
              "11         0     792.701887         40              среднее             1   \n",
              "12         0  365286.622650         65              среднее             1   \n",
              "13         0    1846.641941         54  неоконченное высшее             2   \n",
              "14         0    1844.956182         56               высшее             0   \n",
              "15         1     972.364419         26              среднее             1   \n",
              "16         0    1719.934226         35              среднее             1   \n",
              "17         0    2369.999720         33               высшее             0   \n",
              "18         0  400281.136913         53              среднее             1   \n",
              "19         0   10038.818549         48              среднее             1   \n",
              "\n",
              "       family_status  family_status_id gender income_type  debt  total_income  \\\n",
              "0    женат / замужем                 0      F   сотрудник     0        253875   \n",
              "1    женат / замужем                 0      F   сотрудник     0        112080   \n",
              "2    женат / замужем                 0      M   сотрудник     0        145885   \n",
              "3    женат / замужем                 0      M   сотрудник     0        267628   \n",
              "4   гражданский брак                 1      F   пенсионер     0        158616   \n",
              "5   гражданский брак                 1      M   компаньон     0        255763   \n",
              "6    женат / замужем                 0      F   компаньон     0        240525   \n",
              "7    женат / замужем                 0      M   сотрудник     0        135823   \n",
              "8   гражданский брак                 1      F   сотрудник     0         95856   \n",
              "9    женат / замужем                 0      M   сотрудник     0        144425   \n",
              "10   женат / замужем                 0      M   компаньон     0        113943   \n",
              "11   женат / замужем                 0      F   сотрудник     0         77069   \n",
              "12  гражданский брак                 1      M   пенсионер     0        118514   \n",
              "13   женат / замужем                 0      F   сотрудник     0        130458   \n",
              "14  гражданский брак                 1      F   компаньон     1        165127   \n",
              "15   женат / замужем                 0      F   сотрудник     0        116820   \n",
              "16   женат / замужем                 0      F   сотрудник     0        289202   \n",
              "17  гражданский брак                 1      M   сотрудник     0         90410   \n",
              "18    вдовец / вдова                 2      F   пенсионер     0         56823   \n",
              "19         в разводе                 3      F   сотрудник     0        242831   \n",
              "\n",
              "                                   purpose total_income_category  \\\n",
              "0                            покупка жилья                     B   \n",
              "1                  приобретение автомобиля                     C   \n",
              "2                            покупка жилья                     C   \n",
              "3               дополнительное образование                     B   \n",
              "4                          сыграть свадьбу                     C   \n",
              "5                            покупка жилья                     B   \n",
              "6                        операции с жильем                     B   \n",
              "7                              образование                     C   \n",
              "8                    на проведение свадьбы                     C   \n",
              "9                  покупка жилья для семьи                     C   \n",
              "10                    покупка недвижимости                     C   \n",
              "11       покупка коммерческой недвижимости                     C   \n",
              "12                         сыграть свадьбу                     C   \n",
              "13                 приобретение автомобиля                     C   \n",
              "14              покупка жилой недвижимости                     C   \n",
              "15  строительство собственной недвижимости                     C   \n",
              "16                            недвижимость                     B   \n",
              "17              строительство недвижимости                     C   \n",
              "18      на покупку подержанного автомобиля                     C   \n",
              "19            на покупку своего автомобиля                     B   \n",
              "\n",
              "            purpose_category  \n",
              "0   операции с недвижимостью  \n",
              "1     операции с автомобилем  \n",
              "2   операции с недвижимостью  \n",
              "3      получение образования  \n",
              "4         проведение свадьбы  \n",
              "5   операции с недвижимостью  \n",
              "6   операции с недвижимостью  \n",
              "7      получение образования  \n",
              "8         проведение свадьбы  \n",
              "9   операции с недвижимостью  \n",
              "10  операции с недвижимостью  \n",
              "11  операции с недвижимостью  \n",
              "12        проведение свадьбы  \n",
              "13    операции с автомобилем  \n",
              "14  операции с недвижимостью  \n",
              "15  операции с недвижимостью  \n",
              "16  операции с недвижимостью  \n",
              "17  операции с недвижимостью  \n",
              "18    операции с автомобилем  \n",
              "19    операции с автомобилем  "
            ],
            "text/html": [
              "\n",
              "  <div id=\"df-30ec86d2-77c2-4bb0-aee7-983b857d3e9f\">\n",
              "    <div class=\"colab-df-container\">\n",
              "      <div>\n",
              "<style scoped>\n",
              "    .dataframe tbody tr th:only-of-type {\n",
              "        vertical-align: middle;\n",
              "    }\n",
              "\n",
              "    .dataframe tbody tr th {\n",
              "        vertical-align: top;\n",
              "    }\n",
              "\n",
              "    .dataframe thead th {\n",
              "        text-align: right;\n",
              "    }\n",
              "</style>\n",
              "<table border=\"1\" class=\"dataframe\">\n",
              "  <thead>\n",
              "    <tr style=\"text-align: right;\">\n",
              "      <th></th>\n",
              "      <th>children</th>\n",
              "      <th>days_employed</th>\n",
              "      <th>dob_years</th>\n",
              "      <th>education</th>\n",
              "      <th>education_id</th>\n",
              "      <th>family_status</th>\n",
              "      <th>family_status_id</th>\n",
              "      <th>gender</th>\n",
              "      <th>income_type</th>\n",
              "      <th>debt</th>\n",
              "      <th>total_income</th>\n",
              "      <th>purpose</th>\n",
              "      <th>total_income_category</th>\n",
              "      <th>purpose_category</th>\n",
              "    </tr>\n",
              "  </thead>\n",
              "  <tbody>\n",
              "    <tr>\n",
              "      <th>0</th>\n",
              "      <td>1</td>\n",
              "      <td>8437.673028</td>\n",
              "      <td>42</td>\n",
              "      <td>высшее</td>\n",
              "      <td>0</td>\n",
              "      <td>женат / замужем</td>\n",
              "      <td>0</td>\n",
              "      <td>F</td>\n",
              "      <td>сотрудник</td>\n",
              "      <td>0</td>\n",
              "      <td>253875</td>\n",
              "      <td>покупка жилья</td>\n",
              "      <td>B</td>\n",
              "      <td>операции с недвижимостью</td>\n",
              "    </tr>\n",
              "    <tr>\n",
              "      <th>1</th>\n",
              "      <td>1</td>\n",
              "      <td>4024.803754</td>\n",
              "      <td>36</td>\n",
              "      <td>среднее</td>\n",
              "      <td>1</td>\n",
              "      <td>женат / замужем</td>\n",
              "      <td>0</td>\n",
              "      <td>F</td>\n",
              "      <td>сотрудник</td>\n",
              "      <td>0</td>\n",
              "      <td>112080</td>\n",
              "      <td>приобретение автомобиля</td>\n",
              "      <td>C</td>\n",
              "      <td>операции с автомобилем</td>\n",
              "    </tr>\n",
              "    <tr>\n",
              "      <th>2</th>\n",
              "      <td>0</td>\n",
              "      <td>5623.422610</td>\n",
              "      <td>33</td>\n",
              "      <td>среднее</td>\n",
              "      <td>1</td>\n",
              "      <td>женат / замужем</td>\n",
              "      <td>0</td>\n",
              "      <td>M</td>\n",
              "      <td>сотрудник</td>\n",
              "      <td>0</td>\n",
              "      <td>145885</td>\n",
              "      <td>покупка жилья</td>\n",
              "      <td>C</td>\n",
              "      <td>операции с недвижимостью</td>\n",
              "    </tr>\n",
              "    <tr>\n",
              "      <th>3</th>\n",
              "      <td>3</td>\n",
              "      <td>4124.747207</td>\n",
              "      <td>32</td>\n",
              "      <td>среднее</td>\n",
              "      <td>1</td>\n",
              "      <td>женат / замужем</td>\n",
              "      <td>0</td>\n",
              "      <td>M</td>\n",
              "      <td>сотрудник</td>\n",
              "      <td>0</td>\n",
              "      <td>267628</td>\n",
              "      <td>дополнительное образование</td>\n",
              "      <td>B</td>\n",
              "      <td>получение образования</td>\n",
              "    </tr>\n",
              "    <tr>\n",
              "      <th>4</th>\n",
              "      <td>0</td>\n",
              "      <td>340266.072047</td>\n",
              "      <td>53</td>\n",
              "      <td>среднее</td>\n",
              "      <td>1</td>\n",
              "      <td>гражданский брак</td>\n",
              "      <td>1</td>\n",
              "      <td>F</td>\n",
              "      <td>пенсионер</td>\n",
              "      <td>0</td>\n",
              "      <td>158616</td>\n",
              "      <td>сыграть свадьбу</td>\n",
              "      <td>C</td>\n",
              "      <td>проведение свадьбы</td>\n",
              "    </tr>\n",
              "    <tr>\n",
              "      <th>5</th>\n",
              "      <td>0</td>\n",
              "      <td>926.185831</td>\n",
              "      <td>27</td>\n",
              "      <td>высшее</td>\n",
              "      <td>0</td>\n",
              "      <td>гражданский брак</td>\n",
              "      <td>1</td>\n",
              "      <td>M</td>\n",
              "      <td>компаньон</td>\n",
              "      <td>0</td>\n",
              "      <td>255763</td>\n",
              "      <td>покупка жилья</td>\n",
              "      <td>B</td>\n",
              "      <td>операции с недвижимостью</td>\n",
              "    </tr>\n",
              "    <tr>\n",
              "      <th>6</th>\n",
              "      <td>0</td>\n",
              "      <td>2879.202052</td>\n",
              "      <td>43</td>\n",
              "      <td>высшее</td>\n",
              "      <td>0</td>\n",
              "      <td>женат / замужем</td>\n",
              "      <td>0</td>\n",
              "      <td>F</td>\n",
              "      <td>компаньон</td>\n",
              "      <td>0</td>\n",
              "      <td>240525</td>\n",
              "      <td>операции с жильем</td>\n",
              "      <td>B</td>\n",
              "      <td>операции с недвижимостью</td>\n",
              "    </tr>\n",
              "    <tr>\n",
              "      <th>7</th>\n",
              "      <td>0</td>\n",
              "      <td>152.779569</td>\n",
              "      <td>50</td>\n",
              "      <td>среднее</td>\n",
              "      <td>1</td>\n",
              "      <td>женат / замужем</td>\n",
              "      <td>0</td>\n",
              "      <td>M</td>\n",
              "      <td>сотрудник</td>\n",
              "      <td>0</td>\n",
              "      <td>135823</td>\n",
              "      <td>образование</td>\n",
              "      <td>C</td>\n",
              "      <td>получение образования</td>\n",
              "    </tr>\n",
              "    <tr>\n",
              "      <th>8</th>\n",
              "      <td>2</td>\n",
              "      <td>6929.865299</td>\n",
              "      <td>35</td>\n",
              "      <td>высшее</td>\n",
              "      <td>0</td>\n",
              "      <td>гражданский брак</td>\n",
              "      <td>1</td>\n",
              "      <td>F</td>\n",
              "      <td>сотрудник</td>\n",
              "      <td>0</td>\n",
              "      <td>95856</td>\n",
              "      <td>на проведение свадьбы</td>\n",
              "      <td>C</td>\n",
              "      <td>проведение свадьбы</td>\n",
              "    </tr>\n",
              "    <tr>\n",
              "      <th>9</th>\n",
              "      <td>0</td>\n",
              "      <td>2188.756445</td>\n",
              "      <td>41</td>\n",
              "      <td>среднее</td>\n",
              "      <td>1</td>\n",
              "      <td>женат / замужем</td>\n",
              "      <td>0</td>\n",
              "      <td>M</td>\n",
              "      <td>сотрудник</td>\n",
              "      <td>0</td>\n",
              "      <td>144425</td>\n",
              "      <td>покупка жилья для семьи</td>\n",
              "      <td>C</td>\n",
              "      <td>операции с недвижимостью</td>\n",
              "    </tr>\n",
              "    <tr>\n",
              "      <th>10</th>\n",
              "      <td>2</td>\n",
              "      <td>4171.483647</td>\n",
              "      <td>36</td>\n",
              "      <td>высшее</td>\n",
              "      <td>0</td>\n",
              "      <td>женат / замужем</td>\n",
              "      <td>0</td>\n",
              "      <td>M</td>\n",
              "      <td>компаньон</td>\n",
              "      <td>0</td>\n",
              "      <td>113943</td>\n",
              "      <td>покупка недвижимости</td>\n",
              "      <td>C</td>\n",
              "      <td>операции с недвижимостью</td>\n",
              "    </tr>\n",
              "    <tr>\n",
              "      <th>11</th>\n",
              "      <td>0</td>\n",
              "      <td>792.701887</td>\n",
              "      <td>40</td>\n",
              "      <td>среднее</td>\n",
              "      <td>1</td>\n",
              "      <td>женат / замужем</td>\n",
              "      <td>0</td>\n",
              "      <td>F</td>\n",
              "      <td>сотрудник</td>\n",
              "      <td>0</td>\n",
              "      <td>77069</td>\n",
              "      <td>покупка коммерческой недвижимости</td>\n",
              "      <td>C</td>\n",
              "      <td>операции с недвижимостью</td>\n",
              "    </tr>\n",
              "    <tr>\n",
              "      <th>12</th>\n",
              "      <td>0</td>\n",
              "      <td>365286.622650</td>\n",
              "      <td>65</td>\n",
              "      <td>среднее</td>\n",
              "      <td>1</td>\n",
              "      <td>гражданский брак</td>\n",
              "      <td>1</td>\n",
              "      <td>M</td>\n",
              "      <td>пенсионер</td>\n",
              "      <td>0</td>\n",
              "      <td>118514</td>\n",
              "      <td>сыграть свадьбу</td>\n",
              "      <td>C</td>\n",
              "      <td>проведение свадьбы</td>\n",
              "    </tr>\n",
              "    <tr>\n",
              "      <th>13</th>\n",
              "      <td>0</td>\n",
              "      <td>1846.641941</td>\n",
              "      <td>54</td>\n",
              "      <td>неоконченное высшее</td>\n",
              "      <td>2</td>\n",
              "      <td>женат / замужем</td>\n",
              "      <td>0</td>\n",
              "      <td>F</td>\n",
              "      <td>сотрудник</td>\n",
              "      <td>0</td>\n",
              "      <td>130458</td>\n",
              "      <td>приобретение автомобиля</td>\n",
              "      <td>C</td>\n",
              "      <td>операции с автомобилем</td>\n",
              "    </tr>\n",
              "    <tr>\n",
              "      <th>14</th>\n",
              "      <td>0</td>\n",
              "      <td>1844.956182</td>\n",
              "      <td>56</td>\n",
              "      <td>высшее</td>\n",
              "      <td>0</td>\n",
              "      <td>гражданский брак</td>\n",
              "      <td>1</td>\n",
              "      <td>F</td>\n",
              "      <td>компаньон</td>\n",
              "      <td>1</td>\n",
              "      <td>165127</td>\n",
              "      <td>покупка жилой недвижимости</td>\n",
              "      <td>C</td>\n",
              "      <td>операции с недвижимостью</td>\n",
              "    </tr>\n",
              "    <tr>\n",
              "      <th>15</th>\n",
              "      <td>1</td>\n",
              "      <td>972.364419</td>\n",
              "      <td>26</td>\n",
              "      <td>среднее</td>\n",
              "      <td>1</td>\n",
              "      <td>женат / замужем</td>\n",
              "      <td>0</td>\n",
              "      <td>F</td>\n",
              "      <td>сотрудник</td>\n",
              "      <td>0</td>\n",
              "      <td>116820</td>\n",
              "      <td>строительство собственной недвижимости</td>\n",
              "      <td>C</td>\n",
              "      <td>операции с недвижимостью</td>\n",
              "    </tr>\n",
              "    <tr>\n",
              "      <th>16</th>\n",
              "      <td>0</td>\n",
              "      <td>1719.934226</td>\n",
              "      <td>35</td>\n",
              "      <td>среднее</td>\n",
              "      <td>1</td>\n",
              "      <td>женат / замужем</td>\n",
              "      <td>0</td>\n",
              "      <td>F</td>\n",
              "      <td>сотрудник</td>\n",
              "      <td>0</td>\n",
              "      <td>289202</td>\n",
              "      <td>недвижимость</td>\n",
              "      <td>B</td>\n",
              "      <td>операции с недвижимостью</td>\n",
              "    </tr>\n",
              "    <tr>\n",
              "      <th>17</th>\n",
              "      <td>0</td>\n",
              "      <td>2369.999720</td>\n",
              "      <td>33</td>\n",
              "      <td>высшее</td>\n",
              "      <td>0</td>\n",
              "      <td>гражданский брак</td>\n",
              "      <td>1</td>\n",
              "      <td>M</td>\n",
              "      <td>сотрудник</td>\n",
              "      <td>0</td>\n",
              "      <td>90410</td>\n",
              "      <td>строительство недвижимости</td>\n",
              "      <td>C</td>\n",
              "      <td>операции с недвижимостью</td>\n",
              "    </tr>\n",
              "    <tr>\n",
              "      <th>18</th>\n",
              "      <td>0</td>\n",
              "      <td>400281.136913</td>\n",
              "      <td>53</td>\n",
              "      <td>среднее</td>\n",
              "      <td>1</td>\n",
              "      <td>вдовец / вдова</td>\n",
              "      <td>2</td>\n",
              "      <td>F</td>\n",
              "      <td>пенсионер</td>\n",
              "      <td>0</td>\n",
              "      <td>56823</td>\n",
              "      <td>на покупку подержанного автомобиля</td>\n",
              "      <td>C</td>\n",
              "      <td>операции с автомобилем</td>\n",
              "    </tr>\n",
              "    <tr>\n",
              "      <th>19</th>\n",
              "      <td>0</td>\n",
              "      <td>10038.818549</td>\n",
              "      <td>48</td>\n",
              "      <td>среднее</td>\n",
              "      <td>1</td>\n",
              "      <td>в разводе</td>\n",
              "      <td>3</td>\n",
              "      <td>F</td>\n",
              "      <td>сотрудник</td>\n",
              "      <td>0</td>\n",
              "      <td>242831</td>\n",
              "      <td>на покупку своего автомобиля</td>\n",
              "      <td>B</td>\n",
              "      <td>операции с автомобилем</td>\n",
              "    </tr>\n",
              "  </tbody>\n",
              "</table>\n",
              "</div>\n",
              "      <button class=\"colab-df-convert\" onclick=\"convertToInteractive('df-30ec86d2-77c2-4bb0-aee7-983b857d3e9f')\"\n",
              "              title=\"Convert this dataframe to an interactive table.\"\n",
              "              style=\"display:none;\">\n",
              "        \n",
              "  <svg xmlns=\"http://www.w3.org/2000/svg\" height=\"24px\"viewBox=\"0 0 24 24\"\n",
              "       width=\"24px\">\n",
              "    <path d=\"M0 0h24v24H0V0z\" fill=\"none\"/>\n",
              "    <path d=\"M18.56 5.44l.94 2.06.94-2.06 2.06-.94-2.06-.94-.94-2.06-.94 2.06-2.06.94zm-11 1L8.5 8.5l.94-2.06 2.06-.94-2.06-.94L8.5 2.5l-.94 2.06-2.06.94zm10 10l.94 2.06.94-2.06 2.06-.94-2.06-.94-.94-2.06-.94 2.06-2.06.94z\"/><path d=\"M17.41 7.96l-1.37-1.37c-.4-.4-.92-.59-1.43-.59-.52 0-1.04.2-1.43.59L10.3 9.45l-7.72 7.72c-.78.78-.78 2.05 0 2.83L4 21.41c.39.39.9.59 1.41.59.51 0 1.02-.2 1.41-.59l7.78-7.78 2.81-2.81c.8-.78.8-2.07 0-2.86zM5.41 20L4 18.59l7.72-7.72 1.47 1.35L5.41 20z\"/>\n",
              "  </svg>\n",
              "      </button>\n",
              "      \n",
              "  <style>\n",
              "    .colab-df-container {\n",
              "      display:flex;\n",
              "      flex-wrap:wrap;\n",
              "      gap: 12px;\n",
              "    }\n",
              "\n",
              "    .colab-df-convert {\n",
              "      background-color: #E8F0FE;\n",
              "      border: none;\n",
              "      border-radius: 50%;\n",
              "      cursor: pointer;\n",
              "      display: none;\n",
              "      fill: #1967D2;\n",
              "      height: 32px;\n",
              "      padding: 0 0 0 0;\n",
              "      width: 32px;\n",
              "    }\n",
              "\n",
              "    .colab-df-convert:hover {\n",
              "      background-color: #E2EBFA;\n",
              "      box-shadow: 0px 1px 2px rgba(60, 64, 67, 0.3), 0px 1px 3px 1px rgba(60, 64, 67, 0.15);\n",
              "      fill: #174EA6;\n",
              "    }\n",
              "\n",
              "    [theme=dark] .colab-df-convert {\n",
              "      background-color: #3B4455;\n",
              "      fill: #D2E3FC;\n",
              "    }\n",
              "\n",
              "    [theme=dark] .colab-df-convert:hover {\n",
              "      background-color: #434B5C;\n",
              "      box-shadow: 0px 1px 3px 1px rgba(0, 0, 0, 0.15);\n",
              "      filter: drop-shadow(0px 1px 2px rgba(0, 0, 0, 0.3));\n",
              "      fill: #FFFFFF;\n",
              "    }\n",
              "  </style>\n",
              "\n",
              "      <script>\n",
              "        const buttonEl =\n",
              "          document.querySelector('#df-30ec86d2-77c2-4bb0-aee7-983b857d3e9f button.colab-df-convert');\n",
              "        buttonEl.style.display =\n",
              "          google.colab.kernel.accessAllowed ? 'block' : 'none';\n",
              "\n",
              "        async function convertToInteractive(key) {\n",
              "          const element = document.querySelector('#df-30ec86d2-77c2-4bb0-aee7-983b857d3e9f');\n",
              "          const dataTable =\n",
              "            await google.colab.kernel.invokeFunction('convertToInteractive',\n",
              "                                                     [key], {});\n",
              "          if (!dataTable) return;\n",
              "\n",
              "          const docLinkHtml = 'Like what you see? Visit the ' +\n",
              "            '<a target=\"_blank\" href=https://colab.research.google.com/notebooks/data_table.ipynb>data table notebook</a>'\n",
              "            + ' to learn more about interactive tables.';\n",
              "          element.innerHTML = '';\n",
              "          dataTable['output_type'] = 'display_data';\n",
              "          await google.colab.output.renderOutput(dataTable, element);\n",
              "          const docLink = document.createElement('div');\n",
              "          docLink.innerHTML = docLinkHtml;\n",
              "          element.appendChild(docLink);\n",
              "        }\n",
              "      </script>\n",
              "    </div>\n",
              "  </div>\n",
              "  "
            ]
          },
          "metadata": {},
          "execution_count": 57
        }
      ],
      "source": [
        "data['purpose_category'] = data['purpose'].apply(categorize_purpose)\n",
        "data.head(20)"
      ]
    },
    {
      "cell_type": "markdown",
      "id": "640dd348",
      "metadata": {
        "deletable": false,
        "editable": false,
        "id": "640dd348"
      },
      "source": [
        "### Исследование данных"
      ]
    },
    {
      "cell_type": "markdown",
      "id": "188df4b6",
      "metadata": {
        "deletable": false,
        "editable": false,
        "id": "188df4b6"
      },
      "source": [
        "#### Есть ли зависимость между количеством детей и возвратом кредита в срок?"
      ]
    },
    {
      "cell_type": "code",
      "execution_count": null,
      "id": "b786a06f",
      "metadata": {
        "deletable": false,
        "id": "b786a06f",
        "scrolled": true,
        "colab": {
          "base_uri": "https://localhost:8080/",
          "height": 297
        },
        "outputId": "0717b774-74fe-40f5-802c-bb2613ec4fd8"
      },
      "outputs": [
        {
          "output_type": "execute_result",
          "data": {
            "text/plain": [
              "           debt           ratio\n",
              "          count   sum          \n",
              "children                       \n",
              "0         14091  1063  7.543822\n",
              "1          4808   444  9.234609\n",
              "2          2052   194  9.454191\n",
              "3           330    27  8.181818\n",
              "4            41     4  9.756098\n",
              "5             9     0  0.000000"
            ],
            "text/html": [
              "\n",
              "  <div id=\"df-129b2206-3477-4c7f-9c39-71fba3fd90b4\">\n",
              "    <div class=\"colab-df-container\">\n",
              "      <div>\n",
              "<style scoped>\n",
              "    .dataframe tbody tr th:only-of-type {\n",
              "        vertical-align: middle;\n",
              "    }\n",
              "\n",
              "    .dataframe tbody tr th {\n",
              "        vertical-align: top;\n",
              "    }\n",
              "\n",
              "    .dataframe thead tr th {\n",
              "        text-align: left;\n",
              "    }\n",
              "\n",
              "    .dataframe thead tr:last-of-type th {\n",
              "        text-align: right;\n",
              "    }\n",
              "</style>\n",
              "<table border=\"1\" class=\"dataframe\">\n",
              "  <thead>\n",
              "    <tr>\n",
              "      <th></th>\n",
              "      <th colspan=\"2\" halign=\"left\">debt</th>\n",
              "      <th>ratio</th>\n",
              "    </tr>\n",
              "    <tr>\n",
              "      <th></th>\n",
              "      <th>count</th>\n",
              "      <th>sum</th>\n",
              "      <th></th>\n",
              "    </tr>\n",
              "    <tr>\n",
              "      <th>children</th>\n",
              "      <th></th>\n",
              "      <th></th>\n",
              "      <th></th>\n",
              "    </tr>\n",
              "  </thead>\n",
              "  <tbody>\n",
              "    <tr>\n",
              "      <th>0</th>\n",
              "      <td>14091</td>\n",
              "      <td>1063</td>\n",
              "      <td>7.543822</td>\n",
              "    </tr>\n",
              "    <tr>\n",
              "      <th>1</th>\n",
              "      <td>4808</td>\n",
              "      <td>444</td>\n",
              "      <td>9.234609</td>\n",
              "    </tr>\n",
              "    <tr>\n",
              "      <th>2</th>\n",
              "      <td>2052</td>\n",
              "      <td>194</td>\n",
              "      <td>9.454191</td>\n",
              "    </tr>\n",
              "    <tr>\n",
              "      <th>3</th>\n",
              "      <td>330</td>\n",
              "      <td>27</td>\n",
              "      <td>8.181818</td>\n",
              "    </tr>\n",
              "    <tr>\n",
              "      <th>4</th>\n",
              "      <td>41</td>\n",
              "      <td>4</td>\n",
              "      <td>9.756098</td>\n",
              "    </tr>\n",
              "    <tr>\n",
              "      <th>5</th>\n",
              "      <td>9</td>\n",
              "      <td>0</td>\n",
              "      <td>0.000000</td>\n",
              "    </tr>\n",
              "  </tbody>\n",
              "</table>\n",
              "</div>\n",
              "      <button class=\"colab-df-convert\" onclick=\"convertToInteractive('df-129b2206-3477-4c7f-9c39-71fba3fd90b4')\"\n",
              "              title=\"Convert this dataframe to an interactive table.\"\n",
              "              style=\"display:none;\">\n",
              "        \n",
              "  <svg xmlns=\"http://www.w3.org/2000/svg\" height=\"24px\"viewBox=\"0 0 24 24\"\n",
              "       width=\"24px\">\n",
              "    <path d=\"M0 0h24v24H0V0z\" fill=\"none\"/>\n",
              "    <path d=\"M18.56 5.44l.94 2.06.94-2.06 2.06-.94-2.06-.94-.94-2.06-.94 2.06-2.06.94zm-11 1L8.5 8.5l.94-2.06 2.06-.94-2.06-.94L8.5 2.5l-.94 2.06-2.06.94zm10 10l.94 2.06.94-2.06 2.06-.94-2.06-.94-.94-2.06-.94 2.06-2.06.94z\"/><path d=\"M17.41 7.96l-1.37-1.37c-.4-.4-.92-.59-1.43-.59-.52 0-1.04.2-1.43.59L10.3 9.45l-7.72 7.72c-.78.78-.78 2.05 0 2.83L4 21.41c.39.39.9.59 1.41.59.51 0 1.02-.2 1.41-.59l7.78-7.78 2.81-2.81c.8-.78.8-2.07 0-2.86zM5.41 20L4 18.59l7.72-7.72 1.47 1.35L5.41 20z\"/>\n",
              "  </svg>\n",
              "      </button>\n",
              "      \n",
              "  <style>\n",
              "    .colab-df-container {\n",
              "      display:flex;\n",
              "      flex-wrap:wrap;\n",
              "      gap: 12px;\n",
              "    }\n",
              "\n",
              "    .colab-df-convert {\n",
              "      background-color: #E8F0FE;\n",
              "      border: none;\n",
              "      border-radius: 50%;\n",
              "      cursor: pointer;\n",
              "      display: none;\n",
              "      fill: #1967D2;\n",
              "      height: 32px;\n",
              "      padding: 0 0 0 0;\n",
              "      width: 32px;\n",
              "    }\n",
              "\n",
              "    .colab-df-convert:hover {\n",
              "      background-color: #E2EBFA;\n",
              "      box-shadow: 0px 1px 2px rgba(60, 64, 67, 0.3), 0px 1px 3px 1px rgba(60, 64, 67, 0.15);\n",
              "      fill: #174EA6;\n",
              "    }\n",
              "\n",
              "    [theme=dark] .colab-df-convert {\n",
              "      background-color: #3B4455;\n",
              "      fill: #D2E3FC;\n",
              "    }\n",
              "\n",
              "    [theme=dark] .colab-df-convert:hover {\n",
              "      background-color: #434B5C;\n",
              "      box-shadow: 0px 1px 3px 1px rgba(0, 0, 0, 0.15);\n",
              "      filter: drop-shadow(0px 1px 2px rgba(0, 0, 0, 0.3));\n",
              "      fill: #FFFFFF;\n",
              "    }\n",
              "  </style>\n",
              "\n",
              "      <script>\n",
              "        const buttonEl =\n",
              "          document.querySelector('#df-129b2206-3477-4c7f-9c39-71fba3fd90b4 button.colab-df-convert');\n",
              "        buttonEl.style.display =\n",
              "          google.colab.kernel.accessAllowed ? 'block' : 'none';\n",
              "\n",
              "        async function convertToInteractive(key) {\n",
              "          const element = document.querySelector('#df-129b2206-3477-4c7f-9c39-71fba3fd90b4');\n",
              "          const dataTable =\n",
              "            await google.colab.kernel.invokeFunction('convertToInteractive',\n",
              "                                                     [key], {});\n",
              "          if (!dataTable) return;\n",
              "\n",
              "          const docLinkHtml = 'Like what you see? Visit the ' +\n",
              "            '<a target=\"_blank\" href=https://colab.research.google.com/notebooks/data_table.ipynb>data table notebook</a>'\n",
              "            + ' to learn more about interactive tables.';\n",
              "          element.innerHTML = '';\n",
              "          dataTable['output_type'] = 'display_data';\n",
              "          await google.colab.output.renderOutput(dataTable, element);\n",
              "          const docLink = document.createElement('div');\n",
              "          docLink.innerHTML = docLinkHtml;\n",
              "          element.appendChild(docLink);\n",
              "        }\n",
              "      </script>\n",
              "    </div>\n",
              "  </div>\n",
              "  "
            ]
          },
          "metadata": {},
          "execution_count": 58
        }
      ],
      "source": [
        "# Создадим сводную таблицу, с общим количестом заемщиков и количеством должников в зависимости от количества детей\n",
        "# Для этого применим к датафрейму группировку по количеству детей, а к значениям из столбца 'debt'\n",
        "# применим функции 'count' - общее количество заёмщиков и 'sum' - количество должников\n",
        "\n",
        "children_debt = data.groupby('children').agg({'debt':['count','sum']})\n",
        "\n",
        "# Добавим столбец 'ratio', где будет видно процентное соотношение количества должников\n",
        "# к общему количеству заемщиков в зависимости от количества детей у клиентов.\n",
        "\n",
        "children_debt['ratio'] = (children_debt['debt']['sum'] / children_debt['debt']['count']) * 100\n",
        "children_debt"
      ]
    },
    {
      "cell_type": "code",
      "execution_count": null,
      "id": "0cec0fa3",
      "metadata": {
        "colab": {
          "base_uri": "https://localhost:8080/"
        },
        "id": "0cec0fa3",
        "outputId": "ccba50c9-8f78-484e-c37c-10438a3a38f1"
      },
      "outputs": [
        {
          "output_type": "stream",
          "name": "stdout",
          "text": [
            "Процент клиентов, не вернувших кредит в срок\n",
            "Клиенты без детей: 7.54 %\n",
            "Клиенты с одним ребёнком: 9.23 %\n",
            "Клиенты с двумя детьми: 9.45 %\n",
            "Клиенты с тремя детьми: 8.18 %\n",
            "Клиенты с четырьмя детьми: 9.76 %\n"
          ]
        }
      ],
      "source": [
        "# Для наглядности выведем на экран результаты, округлив значения до двух символов после запятой\n",
        "\n",
        "print('Процент клиентов, не вернувших кредит в срок')\n",
        "print('Клиенты без детей:', round(children_debt['ratio'][0], 2),'%')\n",
        "print('Клиенты с одним ребёнком:', round(children_debt['ratio'][1], 2),'%')\n",
        "print('Клиенты с двумя детьми:', round(children_debt['ratio'][2], 2),'%')\n",
        "print('Клиенты с тремя детьми:', round(children_debt['ratio'][3], 2),'%')\n",
        "print('Клиенты с четырьмя детьми:', round(children_debt['ratio'][4], 2),'%')"
      ]
    },
    {
      "cell_type": "markdown",
      "id": "86208a31",
      "metadata": {
        "id": "86208a31"
      },
      "source": [
        "<div class=\"alert-info\">  \n",
        "В целом - появление ребёнка в семье увеличивает вероятность появления задолженности по кредиту.\n",
        "Но на мой взгляд, данные по клиентам без детей, с одним ребёнком и с двумя детьми - более показательны, т.к. общее количество заёмщиков в этих категориях - достаточно внушительное, в то время, как заёмщиков с тремя детьми всего 330, с четырьмя детьми - 41, с пятью - 9.\n",
        "Но общая тенденция в любом случае проглядывается.</div>\n"
      ]
    },
    {
      "cell_type": "markdown",
      "id": "ef298db6",
      "metadata": {
        "deletable": false,
        "id": "ef298db6"
      },
      "source": [
        "<div class=\"alert-info\">\n",
        "<b>Вывод: Наличие ребёнка в семье клиента увеличивает возможность появления задолженности по кредиту, а если сравнить только самые многочисленные выборки с 0, 1 и 2 детьми, можно сказать, что чем больше у заемщика детей, тем выше риск допустить просрочку.</b></div>"
      ]
    },
    {
      "cell_type": "markdown",
      "id": "3b2af550",
      "metadata": {
        "deletable": false,
        "editable": false,
        "id": "3b2af550"
      },
      "source": [
        "#### Есть ли зависимость между семейным положением и возвратом кредита в срок?"
      ]
    },
    {
      "cell_type": "code",
      "execution_count": null,
      "id": "321f428e",
      "metadata": {
        "deletable": false,
        "id": "321f428e",
        "colab": {
          "base_uri": "https://localhost:8080/",
          "height": 266
        },
        "outputId": "e57cdb5c-b27e-4467-e3ea-e6d6bddd7e5d"
      },
      "outputs": [
        {
          "output_type": "execute_result",
          "data": {
            "text/plain": [
              "                        debt          ratio\n",
              "                       count  sum          \n",
              "family_status                              \n",
              "Не женат / не замужем   2796  273  9.763948\n",
              "в разводе               1189   84  7.064760\n",
              "вдовец / вдова           951   63  6.624606\n",
              "гражданский брак        4134  385  9.313014\n",
              "женат / замужем        12261  927  7.560558"
            ],
            "text/html": [
              "\n",
              "  <div id=\"df-c4036d63-8bd6-41f2-b527-5d19aa007378\">\n",
              "    <div class=\"colab-df-container\">\n",
              "      <div>\n",
              "<style scoped>\n",
              "    .dataframe tbody tr th:only-of-type {\n",
              "        vertical-align: middle;\n",
              "    }\n",
              "\n",
              "    .dataframe tbody tr th {\n",
              "        vertical-align: top;\n",
              "    }\n",
              "\n",
              "    .dataframe thead tr th {\n",
              "        text-align: left;\n",
              "    }\n",
              "\n",
              "    .dataframe thead tr:last-of-type th {\n",
              "        text-align: right;\n",
              "    }\n",
              "</style>\n",
              "<table border=\"1\" class=\"dataframe\">\n",
              "  <thead>\n",
              "    <tr>\n",
              "      <th></th>\n",
              "      <th colspan=\"2\" halign=\"left\">debt</th>\n",
              "      <th>ratio</th>\n",
              "    </tr>\n",
              "    <tr>\n",
              "      <th></th>\n",
              "      <th>count</th>\n",
              "      <th>sum</th>\n",
              "      <th></th>\n",
              "    </tr>\n",
              "    <tr>\n",
              "      <th>family_status</th>\n",
              "      <th></th>\n",
              "      <th></th>\n",
              "      <th></th>\n",
              "    </tr>\n",
              "  </thead>\n",
              "  <tbody>\n",
              "    <tr>\n",
              "      <th>Не женат / не замужем</th>\n",
              "      <td>2796</td>\n",
              "      <td>273</td>\n",
              "      <td>9.763948</td>\n",
              "    </tr>\n",
              "    <tr>\n",
              "      <th>в разводе</th>\n",
              "      <td>1189</td>\n",
              "      <td>84</td>\n",
              "      <td>7.064760</td>\n",
              "    </tr>\n",
              "    <tr>\n",
              "      <th>вдовец / вдова</th>\n",
              "      <td>951</td>\n",
              "      <td>63</td>\n",
              "      <td>6.624606</td>\n",
              "    </tr>\n",
              "    <tr>\n",
              "      <th>гражданский брак</th>\n",
              "      <td>4134</td>\n",
              "      <td>385</td>\n",
              "      <td>9.313014</td>\n",
              "    </tr>\n",
              "    <tr>\n",
              "      <th>женат / замужем</th>\n",
              "      <td>12261</td>\n",
              "      <td>927</td>\n",
              "      <td>7.560558</td>\n",
              "    </tr>\n",
              "  </tbody>\n",
              "</table>\n",
              "</div>\n",
              "      <button class=\"colab-df-convert\" onclick=\"convertToInteractive('df-c4036d63-8bd6-41f2-b527-5d19aa007378')\"\n",
              "              title=\"Convert this dataframe to an interactive table.\"\n",
              "              style=\"display:none;\">\n",
              "        \n",
              "  <svg xmlns=\"http://www.w3.org/2000/svg\" height=\"24px\"viewBox=\"0 0 24 24\"\n",
              "       width=\"24px\">\n",
              "    <path d=\"M0 0h24v24H0V0z\" fill=\"none\"/>\n",
              "    <path d=\"M18.56 5.44l.94 2.06.94-2.06 2.06-.94-2.06-.94-.94-2.06-.94 2.06-2.06.94zm-11 1L8.5 8.5l.94-2.06 2.06-.94-2.06-.94L8.5 2.5l-.94 2.06-2.06.94zm10 10l.94 2.06.94-2.06 2.06-.94-2.06-.94-.94-2.06-.94 2.06-2.06.94z\"/><path d=\"M17.41 7.96l-1.37-1.37c-.4-.4-.92-.59-1.43-.59-.52 0-1.04.2-1.43.59L10.3 9.45l-7.72 7.72c-.78.78-.78 2.05 0 2.83L4 21.41c.39.39.9.59 1.41.59.51 0 1.02-.2 1.41-.59l7.78-7.78 2.81-2.81c.8-.78.8-2.07 0-2.86zM5.41 20L4 18.59l7.72-7.72 1.47 1.35L5.41 20z\"/>\n",
              "  </svg>\n",
              "      </button>\n",
              "      \n",
              "  <style>\n",
              "    .colab-df-container {\n",
              "      display:flex;\n",
              "      flex-wrap:wrap;\n",
              "      gap: 12px;\n",
              "    }\n",
              "\n",
              "    .colab-df-convert {\n",
              "      background-color: #E8F0FE;\n",
              "      border: none;\n",
              "      border-radius: 50%;\n",
              "      cursor: pointer;\n",
              "      display: none;\n",
              "      fill: #1967D2;\n",
              "      height: 32px;\n",
              "      padding: 0 0 0 0;\n",
              "      width: 32px;\n",
              "    }\n",
              "\n",
              "    .colab-df-convert:hover {\n",
              "      background-color: #E2EBFA;\n",
              "      box-shadow: 0px 1px 2px rgba(60, 64, 67, 0.3), 0px 1px 3px 1px rgba(60, 64, 67, 0.15);\n",
              "      fill: #174EA6;\n",
              "    }\n",
              "\n",
              "    [theme=dark] .colab-df-convert {\n",
              "      background-color: #3B4455;\n",
              "      fill: #D2E3FC;\n",
              "    }\n",
              "\n",
              "    [theme=dark] .colab-df-convert:hover {\n",
              "      background-color: #434B5C;\n",
              "      box-shadow: 0px 1px 3px 1px rgba(0, 0, 0, 0.15);\n",
              "      filter: drop-shadow(0px 1px 2px rgba(0, 0, 0, 0.3));\n",
              "      fill: #FFFFFF;\n",
              "    }\n",
              "  </style>\n",
              "\n",
              "      <script>\n",
              "        const buttonEl =\n",
              "          document.querySelector('#df-c4036d63-8bd6-41f2-b527-5d19aa007378 button.colab-df-convert');\n",
              "        buttonEl.style.display =\n",
              "          google.colab.kernel.accessAllowed ? 'block' : 'none';\n",
              "\n",
              "        async function convertToInteractive(key) {\n",
              "          const element = document.querySelector('#df-c4036d63-8bd6-41f2-b527-5d19aa007378');\n",
              "          const dataTable =\n",
              "            await google.colab.kernel.invokeFunction('convertToInteractive',\n",
              "                                                     [key], {});\n",
              "          if (!dataTable) return;\n",
              "\n",
              "          const docLinkHtml = 'Like what you see? Visit the ' +\n",
              "            '<a target=\"_blank\" href=https://colab.research.google.com/notebooks/data_table.ipynb>data table notebook</a>'\n",
              "            + ' to learn more about interactive tables.';\n",
              "          element.innerHTML = '';\n",
              "          dataTable['output_type'] = 'display_data';\n",
              "          await google.colab.output.renderOutput(dataTable, element);\n",
              "          const docLink = document.createElement('div');\n",
              "          docLink.innerHTML = docLinkHtml;\n",
              "          element.appendChild(docLink);\n",
              "        }\n",
              "      </script>\n",
              "    </div>\n",
              "  </div>\n",
              "  "
            ]
          },
          "metadata": {},
          "execution_count": 60
        }
      ],
      "source": [
        "# Создадим сводную таблицу, с общим количестом заемщиков и количеством должников в зависимости от семейного положения\n",
        "# Для этого применим к датафрейму группировку по семейному положению, а к значениям из столбца 'debt'\n",
        "# применим функции 'count' - общее количество заёмщиков и 'sum' - количество должников\n",
        "\n",
        "family_debt = data.groupby('family_status').agg({'debt':['count','sum']})\n",
        "\n",
        "# Добавим столбец 'ratio', где будет видно процентное соотношение количества должников\n",
        "# к общему количеству заемщиков в зависимости от семейного положения клиентов.\n",
        "\n",
        "family_debt['ratio'] = (family_debt['debt']['sum'] / family_debt['debt']['count']) * 100\n",
        "family_debt"
      ]
    },
    {
      "cell_type": "code",
      "execution_count": null,
      "id": "c0b2868a",
      "metadata": {
        "colab": {
          "base_uri": "https://localhost:8080/"
        },
        "id": "c0b2868a",
        "outputId": "afb8b24a-5a3c-49b2-e572-fa87b2ccf3ef"
      },
      "outputs": [
        {
          "output_type": "stream",
          "name": "stdout",
          "text": [
            "Процент клиентов, не вернувших кредит в срок\n",
            "Вдовец / вдова: 6.62 %\n",
            "В разводе: 7.06 %\n",
            "Женат / замужем: 7.56 %\n",
            "Гражданский брак: 9.31 %\n",
            "Не женат / не замужем: 9.76 %\n"
          ]
        }
      ],
      "source": [
        "# Для наглядности выведем на экран результаты, округлив значения до двух символов после запятой\n",
        "\n",
        "print('Процент клиентов, не вернувших кредит в срок')\n",
        "print('Вдовец / вдова:', round(family_debt['ratio'][2], 2),'%')\n",
        "print('В разводе:', round(family_debt['ratio'][1], 2),'%')\n",
        "print('Женат / замужем:', round(family_debt['ratio'][4], 2),'%')\n",
        "print('Гражданский брак:', round(family_debt['ratio'][3], 2),'%')\n",
        "print('Не женат / не замужем:', round(family_debt['ratio'][0], 2),'%')"
      ]
    },
    {
      "cell_type": "markdown",
      "id": "6d38ab5f",
      "metadata": {
        "id": "6d38ab5f"
      },
      "source": [
        "<div class=\"alert-info\">   \n",
        "Самые ответственные плательщики - это вдовы и вдовцы.\n",
        "    \n",
        "Если разделить клиентов на тех кто был когда-либо <b>в браке</b> и тех, кто <b>не</b> был <b>в браке</b>, то получается, что официальный статус семьянина положительно сказывается на отношении к выполненнию обязательств по кредиту.</div>"
      ]
    },
    {
      "cell_type": "markdown",
      "id": "ecc32cca",
      "metadata": {
        "deletable": false,
        "id": "ecc32cca"
      },
      "source": [
        "<div class=\"alert-info\">\n",
        "<b>Вывод:</b>\n",
        "    \n",
        "Зависимость между семейным положением и возвратом кредита в срок <b>ЕСТЬ</b>.\n",
        "Клиенты, не состоящие в браке официально чаще имеют просрочки с выплатами по долгу.</div>"
      ]
    },
    {
      "cell_type": "markdown",
      "id": "1d354027",
      "metadata": {
        "deletable": false,
        "editable": false,
        "id": "1d354027"
      },
      "source": [
        "#### Есть ли зависимость между уровнем дохода и возвратом кредита в срок?"
      ]
    },
    {
      "cell_type": "code",
      "execution_count": null,
      "id": "4f76d439",
      "metadata": {
        "deletable": false,
        "id": "4f76d439",
        "colab": {
          "base_uri": "https://localhost:8080/",
          "height": 266
        },
        "outputId": "fb2ed9a2-4a60-429e-fc40-fe6f7b81a501"
      },
      "outputs": [
        {
          "output_type": "execute_result",
          "data": {
            "text/plain": [
              "                        debt           ratio\n",
              "                       count   sum          \n",
              "total_income_category                       \n",
              "A                         25     2  8.000000\n",
              "B                       5014   354  7.060231\n",
              "C                      15921  1353  8.498210\n",
              "D                        349    21  6.017192\n",
              "E                         22     2  9.090909"
            ],
            "text/html": [
              "\n",
              "  <div id=\"df-ae67def0-f31b-4076-8f52-6ef928eefaf7\">\n",
              "    <div class=\"colab-df-container\">\n",
              "      <div>\n",
              "<style scoped>\n",
              "    .dataframe tbody tr th:only-of-type {\n",
              "        vertical-align: middle;\n",
              "    }\n",
              "\n",
              "    .dataframe tbody tr th {\n",
              "        vertical-align: top;\n",
              "    }\n",
              "\n",
              "    .dataframe thead tr th {\n",
              "        text-align: left;\n",
              "    }\n",
              "\n",
              "    .dataframe thead tr:last-of-type th {\n",
              "        text-align: right;\n",
              "    }\n",
              "</style>\n",
              "<table border=\"1\" class=\"dataframe\">\n",
              "  <thead>\n",
              "    <tr>\n",
              "      <th></th>\n",
              "      <th colspan=\"2\" halign=\"left\">debt</th>\n",
              "      <th>ratio</th>\n",
              "    </tr>\n",
              "    <tr>\n",
              "      <th></th>\n",
              "      <th>count</th>\n",
              "      <th>sum</th>\n",
              "      <th></th>\n",
              "    </tr>\n",
              "    <tr>\n",
              "      <th>total_income_category</th>\n",
              "      <th></th>\n",
              "      <th></th>\n",
              "      <th></th>\n",
              "    </tr>\n",
              "  </thead>\n",
              "  <tbody>\n",
              "    <tr>\n",
              "      <th>A</th>\n",
              "      <td>25</td>\n",
              "      <td>2</td>\n",
              "      <td>8.000000</td>\n",
              "    </tr>\n",
              "    <tr>\n",
              "      <th>B</th>\n",
              "      <td>5014</td>\n",
              "      <td>354</td>\n",
              "      <td>7.060231</td>\n",
              "    </tr>\n",
              "    <tr>\n",
              "      <th>C</th>\n",
              "      <td>15921</td>\n",
              "      <td>1353</td>\n",
              "      <td>8.498210</td>\n",
              "    </tr>\n",
              "    <tr>\n",
              "      <th>D</th>\n",
              "      <td>349</td>\n",
              "      <td>21</td>\n",
              "      <td>6.017192</td>\n",
              "    </tr>\n",
              "    <tr>\n",
              "      <th>E</th>\n",
              "      <td>22</td>\n",
              "      <td>2</td>\n",
              "      <td>9.090909</td>\n",
              "    </tr>\n",
              "  </tbody>\n",
              "</table>\n",
              "</div>\n",
              "      <button class=\"colab-df-convert\" onclick=\"convertToInteractive('df-ae67def0-f31b-4076-8f52-6ef928eefaf7')\"\n",
              "              title=\"Convert this dataframe to an interactive table.\"\n",
              "              style=\"display:none;\">\n",
              "        \n",
              "  <svg xmlns=\"http://www.w3.org/2000/svg\" height=\"24px\"viewBox=\"0 0 24 24\"\n",
              "       width=\"24px\">\n",
              "    <path d=\"M0 0h24v24H0V0z\" fill=\"none\"/>\n",
              "    <path d=\"M18.56 5.44l.94 2.06.94-2.06 2.06-.94-2.06-.94-.94-2.06-.94 2.06-2.06.94zm-11 1L8.5 8.5l.94-2.06 2.06-.94-2.06-.94L8.5 2.5l-.94 2.06-2.06.94zm10 10l.94 2.06.94-2.06 2.06-.94-2.06-.94-.94-2.06-.94 2.06-2.06.94z\"/><path d=\"M17.41 7.96l-1.37-1.37c-.4-.4-.92-.59-1.43-.59-.52 0-1.04.2-1.43.59L10.3 9.45l-7.72 7.72c-.78.78-.78 2.05 0 2.83L4 21.41c.39.39.9.59 1.41.59.51 0 1.02-.2 1.41-.59l7.78-7.78 2.81-2.81c.8-.78.8-2.07 0-2.86zM5.41 20L4 18.59l7.72-7.72 1.47 1.35L5.41 20z\"/>\n",
              "  </svg>\n",
              "      </button>\n",
              "      \n",
              "  <style>\n",
              "    .colab-df-container {\n",
              "      display:flex;\n",
              "      flex-wrap:wrap;\n",
              "      gap: 12px;\n",
              "    }\n",
              "\n",
              "    .colab-df-convert {\n",
              "      background-color: #E8F0FE;\n",
              "      border: none;\n",
              "      border-radius: 50%;\n",
              "      cursor: pointer;\n",
              "      display: none;\n",
              "      fill: #1967D2;\n",
              "      height: 32px;\n",
              "      padding: 0 0 0 0;\n",
              "      width: 32px;\n",
              "    }\n",
              "\n",
              "    .colab-df-convert:hover {\n",
              "      background-color: #E2EBFA;\n",
              "      box-shadow: 0px 1px 2px rgba(60, 64, 67, 0.3), 0px 1px 3px 1px rgba(60, 64, 67, 0.15);\n",
              "      fill: #174EA6;\n",
              "    }\n",
              "\n",
              "    [theme=dark] .colab-df-convert {\n",
              "      background-color: #3B4455;\n",
              "      fill: #D2E3FC;\n",
              "    }\n",
              "\n",
              "    [theme=dark] .colab-df-convert:hover {\n",
              "      background-color: #434B5C;\n",
              "      box-shadow: 0px 1px 3px 1px rgba(0, 0, 0, 0.15);\n",
              "      filter: drop-shadow(0px 1px 2px rgba(0, 0, 0, 0.3));\n",
              "      fill: #FFFFFF;\n",
              "    }\n",
              "  </style>\n",
              "\n",
              "      <script>\n",
              "        const buttonEl =\n",
              "          document.querySelector('#df-ae67def0-f31b-4076-8f52-6ef928eefaf7 button.colab-df-convert');\n",
              "        buttonEl.style.display =\n",
              "          google.colab.kernel.accessAllowed ? 'block' : 'none';\n",
              "\n",
              "        async function convertToInteractive(key) {\n",
              "          const element = document.querySelector('#df-ae67def0-f31b-4076-8f52-6ef928eefaf7');\n",
              "          const dataTable =\n",
              "            await google.colab.kernel.invokeFunction('convertToInteractive',\n",
              "                                                     [key], {});\n",
              "          if (!dataTable) return;\n",
              "\n",
              "          const docLinkHtml = 'Like what you see? Visit the ' +\n",
              "            '<a target=\"_blank\" href=https://colab.research.google.com/notebooks/data_table.ipynb>data table notebook</a>'\n",
              "            + ' to learn more about interactive tables.';\n",
              "          element.innerHTML = '';\n",
              "          dataTable['output_type'] = 'display_data';\n",
              "          await google.colab.output.renderOutput(dataTable, element);\n",
              "          const docLink = document.createElement('div');\n",
              "          docLink.innerHTML = docLinkHtml;\n",
              "          element.appendChild(docLink);\n",
              "        }\n",
              "      </script>\n",
              "    </div>\n",
              "  </div>\n",
              "  "
            ]
          },
          "metadata": {},
          "execution_count": 62
        }
      ],
      "source": [
        "# Создадим сводную таблицу, с общим количестом заемщиков и количеством должников в зависимости от уровнем дохода\n",
        "# Для этого применим к датафрейму группировку по категории дохода, а к значениям из столбца 'debt'\n",
        "# применим функции 'count' - общее количество заёмщиков и 'sum' - количество должников\n",
        "\n",
        "income_debt = data.groupby('total_income_category').agg({'debt':['count','sum']})\n",
        "\n",
        "# Добавим столбец 'ratio', где будет видно процентное соотношение количества должников\n",
        "# к общему количеству заемщиков в зависимости от дохода клиентов.\n",
        "\n",
        "income_debt['ratio'] = (income_debt['debt']['sum'] / income_debt['debt']['count']) * 100\n",
        "income_debt"
      ]
    },
    {
      "cell_type": "markdown",
      "id": "f9e84209",
      "metadata": {
        "id": "f9e84209"
      },
      "source": [
        "**Категории дохода клиента:**\n",
        "\n",
        "- 1000001 и выше — `'A'`;\n",
        "- 200001–1000000 — `'B'`;\n",
        "- 50001–200000 — `'C'`;\n",
        "- 30001–50000 — `'D'`;\n",
        "- 0–30000 — `'E'`.\n",
        "\n",
        "<div class=\"alert-info\">\n",
        "На мой взгляд, использование клиентов с доходом категорий \"А\" и \"E\" будет не показательно, т.к. количество заёмщиков в этих категориях слишком мало (22 и 25) </div>"
      ]
    },
    {
      "cell_type": "code",
      "execution_count": null,
      "id": "a7b14b10",
      "metadata": {
        "colab": {
          "base_uri": "https://localhost:8080/"
        },
        "id": "a7b14b10",
        "outputId": "cc0aab8f-092f-4cc7-c0ce-71c7370c0a79"
      },
      "outputs": [
        {
          "output_type": "stream",
          "name": "stdout",
          "text": [
            "Процент клиентов, не вернувших кредит в срок\n",
            "200001–1000000: 7.06 %\n",
            "50001–200000: 8.5 %\n",
            "30001–50000: 6.02 %\n"
          ]
        }
      ],
      "source": [
        "# Для наглядности выведем на экран результаты, округлив значения до двух символов после запятой\n",
        "\n",
        "print('Процент клиентов, не вернувших кредит в срок')\n",
        "#print('1000001 и выше:', round(income_debt['ratio'][0], 2),'%')\n",
        "print('200001–1000000:', round(income_debt['ratio'][1], 2),'%')\n",
        "print('50001–200000:', round(income_debt['ratio'][2], 2),'%')\n",
        "print('30001–50000:', round(income_debt['ratio'][3], 2),'%')\n",
        "#print('0–30000:', round(income_debt['ratio'][4], 2),'%')"
      ]
    },
    {
      "cell_type": "markdown",
      "id": "0102ffde",
      "metadata": {
        "id": "0102ffde"
      },
      "source": [
        "<div class=\"alert-info\">   \n",
        "Самые ответственные плательщики - это клиенты, у которых доход <b>от 30001 до 50000</b>.\n"
      ]
    },
    {
      "cell_type": "markdown",
      "id": "579cb220",
      "metadata": {
        "deletable": false,
        "id": "579cb220"
      },
      "source": [
        "<div class=\"alert-info\">\n",
        "<b>Вывод:</b>\n",
        "\n",
        "Бóльший доход клиента <b>НЕ</b> означает, что он вовремя выплатит долг по кредиту.\n",
        "    \n",
        "Зависимость между уровнем дохода и возвратом кредита в срок конечно есть, но не прямая.\n",
        "    \n",
        "В любом случае, полученные данные можно использовать в дальнейшем.\n",
        "В то же время, если сравнить только две самые большие категории C (50 - 200) и B (200 - 1 млн), выходит что заемщики с более высоким доходом являются более надежными.\n",
        "\n",
        "Также тут напрашивается рекомендация банку - изменить градацию по доходам, для получения более сбалансированных выборок.</div>"
      ]
    },
    {
      "cell_type": "markdown",
      "id": "b2cc3bdb",
      "metadata": {
        "deletable": false,
        "editable": false,
        "id": "b2cc3bdb"
      },
      "source": [
        "#### Как разные цели кредита влияют на его возврат в срок?"
      ]
    },
    {
      "cell_type": "code",
      "execution_count": null,
      "id": "8b553012",
      "metadata": {
        "deletable": false,
        "id": "8b553012",
        "colab": {
          "base_uri": "https://localhost:8080/",
          "height": 235
        },
        "outputId": "4576219c-333d-4041-b620-55f27ca3f741"
      },
      "outputs": [
        {
          "output_type": "execute_result",
          "data": {
            "text/plain": [
              "                           debt          ratio\n",
              "                          count  sum          \n",
              "purpose_category                              \n",
              "операции с автомобилем     4279  400  9.347978\n",
              "операции с недвижимостью  10751  780  7.255139\n",
              "получение образования      3988  369  9.252758\n",
              "проведение свадьбы         2313  183  7.911803"
            ],
            "text/html": [
              "\n",
              "  <div id=\"df-00aa0472-ccb8-4845-af4a-ad7782602a6a\">\n",
              "    <div class=\"colab-df-container\">\n",
              "      <div>\n",
              "<style scoped>\n",
              "    .dataframe tbody tr th:only-of-type {\n",
              "        vertical-align: middle;\n",
              "    }\n",
              "\n",
              "    .dataframe tbody tr th {\n",
              "        vertical-align: top;\n",
              "    }\n",
              "\n",
              "    .dataframe thead tr th {\n",
              "        text-align: left;\n",
              "    }\n",
              "\n",
              "    .dataframe thead tr:last-of-type th {\n",
              "        text-align: right;\n",
              "    }\n",
              "</style>\n",
              "<table border=\"1\" class=\"dataframe\">\n",
              "  <thead>\n",
              "    <tr>\n",
              "      <th></th>\n",
              "      <th colspan=\"2\" halign=\"left\">debt</th>\n",
              "      <th>ratio</th>\n",
              "    </tr>\n",
              "    <tr>\n",
              "      <th></th>\n",
              "      <th>count</th>\n",
              "      <th>sum</th>\n",
              "      <th></th>\n",
              "    </tr>\n",
              "    <tr>\n",
              "      <th>purpose_category</th>\n",
              "      <th></th>\n",
              "      <th></th>\n",
              "      <th></th>\n",
              "    </tr>\n",
              "  </thead>\n",
              "  <tbody>\n",
              "    <tr>\n",
              "      <th>операции с автомобилем</th>\n",
              "      <td>4279</td>\n",
              "      <td>400</td>\n",
              "      <td>9.347978</td>\n",
              "    </tr>\n",
              "    <tr>\n",
              "      <th>операции с недвижимостью</th>\n",
              "      <td>10751</td>\n",
              "      <td>780</td>\n",
              "      <td>7.255139</td>\n",
              "    </tr>\n",
              "    <tr>\n",
              "      <th>получение образования</th>\n",
              "      <td>3988</td>\n",
              "      <td>369</td>\n",
              "      <td>9.252758</td>\n",
              "    </tr>\n",
              "    <tr>\n",
              "      <th>проведение свадьбы</th>\n",
              "      <td>2313</td>\n",
              "      <td>183</td>\n",
              "      <td>7.911803</td>\n",
              "    </tr>\n",
              "  </tbody>\n",
              "</table>\n",
              "</div>\n",
              "      <button class=\"colab-df-convert\" onclick=\"convertToInteractive('df-00aa0472-ccb8-4845-af4a-ad7782602a6a')\"\n",
              "              title=\"Convert this dataframe to an interactive table.\"\n",
              "              style=\"display:none;\">\n",
              "        \n",
              "  <svg xmlns=\"http://www.w3.org/2000/svg\" height=\"24px\"viewBox=\"0 0 24 24\"\n",
              "       width=\"24px\">\n",
              "    <path d=\"M0 0h24v24H0V0z\" fill=\"none\"/>\n",
              "    <path d=\"M18.56 5.44l.94 2.06.94-2.06 2.06-.94-2.06-.94-.94-2.06-.94 2.06-2.06.94zm-11 1L8.5 8.5l.94-2.06 2.06-.94-2.06-.94L8.5 2.5l-.94 2.06-2.06.94zm10 10l.94 2.06.94-2.06 2.06-.94-2.06-.94-.94-2.06-.94 2.06-2.06.94z\"/><path d=\"M17.41 7.96l-1.37-1.37c-.4-.4-.92-.59-1.43-.59-.52 0-1.04.2-1.43.59L10.3 9.45l-7.72 7.72c-.78.78-.78 2.05 0 2.83L4 21.41c.39.39.9.59 1.41.59.51 0 1.02-.2 1.41-.59l7.78-7.78 2.81-2.81c.8-.78.8-2.07 0-2.86zM5.41 20L4 18.59l7.72-7.72 1.47 1.35L5.41 20z\"/>\n",
              "  </svg>\n",
              "      </button>\n",
              "      \n",
              "  <style>\n",
              "    .colab-df-container {\n",
              "      display:flex;\n",
              "      flex-wrap:wrap;\n",
              "      gap: 12px;\n",
              "    }\n",
              "\n",
              "    .colab-df-convert {\n",
              "      background-color: #E8F0FE;\n",
              "      border: none;\n",
              "      border-radius: 50%;\n",
              "      cursor: pointer;\n",
              "      display: none;\n",
              "      fill: #1967D2;\n",
              "      height: 32px;\n",
              "      padding: 0 0 0 0;\n",
              "      width: 32px;\n",
              "    }\n",
              "\n",
              "    .colab-df-convert:hover {\n",
              "      background-color: #E2EBFA;\n",
              "      box-shadow: 0px 1px 2px rgba(60, 64, 67, 0.3), 0px 1px 3px 1px rgba(60, 64, 67, 0.15);\n",
              "      fill: #174EA6;\n",
              "    }\n",
              "\n",
              "    [theme=dark] .colab-df-convert {\n",
              "      background-color: #3B4455;\n",
              "      fill: #D2E3FC;\n",
              "    }\n",
              "\n",
              "    [theme=dark] .colab-df-convert:hover {\n",
              "      background-color: #434B5C;\n",
              "      box-shadow: 0px 1px 3px 1px rgba(0, 0, 0, 0.15);\n",
              "      filter: drop-shadow(0px 1px 2px rgba(0, 0, 0, 0.3));\n",
              "      fill: #FFFFFF;\n",
              "    }\n",
              "  </style>\n",
              "\n",
              "      <script>\n",
              "        const buttonEl =\n",
              "          document.querySelector('#df-00aa0472-ccb8-4845-af4a-ad7782602a6a button.colab-df-convert');\n",
              "        buttonEl.style.display =\n",
              "          google.colab.kernel.accessAllowed ? 'block' : 'none';\n",
              "\n",
              "        async function convertToInteractive(key) {\n",
              "          const element = document.querySelector('#df-00aa0472-ccb8-4845-af4a-ad7782602a6a');\n",
              "          const dataTable =\n",
              "            await google.colab.kernel.invokeFunction('convertToInteractive',\n",
              "                                                     [key], {});\n",
              "          if (!dataTable) return;\n",
              "\n",
              "          const docLinkHtml = 'Like what you see? Visit the ' +\n",
              "            '<a target=\"_blank\" href=https://colab.research.google.com/notebooks/data_table.ipynb>data table notebook</a>'\n",
              "            + ' to learn more about interactive tables.';\n",
              "          element.innerHTML = '';\n",
              "          dataTable['output_type'] = 'display_data';\n",
              "          await google.colab.output.renderOutput(dataTable, element);\n",
              "          const docLink = document.createElement('div');\n",
              "          docLink.innerHTML = docLinkHtml;\n",
              "          element.appendChild(docLink);\n",
              "        }\n",
              "      </script>\n",
              "    </div>\n",
              "  </div>\n",
              "  "
            ]
          },
          "metadata": {},
          "execution_count": 64
        }
      ],
      "source": [
        "# Создадим сводную таблицу, с общим количестом заемщиков и количеством должников в зависимости от целей кредита\n",
        "# Для этого применим к датафрейму группировку по целям кредита, а к значениям из столбца 'debt'\n",
        "# применим функции 'count' - общее количество заёмщиков и 'sum' - количество должников\n",
        "\n",
        "purpose_debt = data.groupby('purpose_category').agg({'debt':['count','sum']})\n",
        "\n",
        "# Добавим столбец 'ratio', где будет видно процентное соотношение количества должников\n",
        "# к общему количеству заемщиков в зависимости от целей кредита.\n",
        "\n",
        "purpose_debt['ratio'] = (purpose_debt['debt']['sum'] / purpose_debt['debt']['count']) * 100\n",
        "purpose_debt"
      ]
    },
    {
      "cell_type": "code",
      "execution_count": null,
      "id": "5c7555e1",
      "metadata": {
        "colab": {
          "base_uri": "https://localhost:8080/"
        },
        "id": "5c7555e1",
        "outputId": "a23e9931-790f-4ba7-b920-1d763dd4f3cc"
      },
      "outputs": [
        {
          "output_type": "stream",
          "name": "stdout",
          "text": [
            "Процент клиентов, не вернувших кредит в срок\n",
            "Операции с недвижимостью: 7.26 %\n",
            "Проведение свадьбы: 7.91 %\n",
            "Получение образования: 9.25 %\n",
            "Операции с автомобилем: 9.35 %\n"
          ]
        }
      ],
      "source": [
        "# Для наглядности выведем на экран результаты, округлив значения до двух символов после запятой\n",
        "\n",
        "print('Процент клиентов, не вернувших кредит в срок')\n",
        "print('Операции с недвижимостью:', round(purpose_debt['ratio'][1], 2),'%')\n",
        "print('Проведение свадьбы:', round(purpose_debt['ratio'][3], 2),'%')\n",
        "print('Получение образования:', round(purpose_debt['ratio'][2], 2),'%')\n",
        "print('Операции с автомобилем:', round(purpose_debt['ratio'][0], 2),'%')"
      ]
    },
    {
      "cell_type": "markdown",
      "id": "4c81b446",
      "metadata": {
        "id": "4c81b446"
      },
      "source": [
        "<div class=\"alert-info\">\n",
        "Кредит, оформленный на операции с недвижимостью возвращается в срок гораздо чаще, чем кредит на операции с автомобилем.</div>"
      ]
    },
    {
      "cell_type": "markdown",
      "id": "abc2e6be",
      "metadata": {
        "deletable": false,
        "id": "abc2e6be"
      },
      "source": [
        "<div class=\"alert-info\"><b>Вывод:</b>\n",
        "    \n",
        "Самой востребованной целью кредита являются операции с недвижимостью, и клиенты чаще возвращают заёмные средства в срок.\n",
        "    \n",
        "Второй категорией по востребованности являются операции с автомобилем, но количество должников здесь уже заметно выше. Автокредиты выглядят наиболее проблемными.</div>\n"
      ]
    },
    {
      "cell_type": "markdown",
      "id": "6d54b058",
      "metadata": {
        "deletable": false,
        "editable": false,
        "id": "6d54b058"
      },
      "source": [
        "#### Возможные причины появления пропусков в исходных данных."
      ]
    },
    {
      "cell_type": "markdown",
      "id": "6ec8814e",
      "metadata": {
        "deletable": false,
        "id": "6ec8814e"
      },
      "source": [
        "Так как пропуски допущены в столбцах \"общий трудовой стаж\" и \"ежемесячный доход\", предполагаю, что пропуски допущены в данных из-за особенностей, связанных с работой, либо её отсутствием. Например у пенсионеров такая информация является неактуальной, у госслужащих, возможно, она засекречена, в связи с занимаемой должностью.\n",
        "Также пропуски могут быть вызваны техническими причинами, например какими то сбоями при выгрузке данных."
      ]
    },
    {
      "cell_type": "markdown",
      "id": "f7a99998",
      "metadata": {
        "deletable": false,
        "editable": false,
        "id": "f7a99998"
      },
      "source": [
        "### Общий вывод."
      ]
    },
    {
      "cell_type": "markdown",
      "id": "06d8c231",
      "metadata": {
        "deletable": false,
        "id": "06d8c231"
      },
      "source": [
        "<div class=\"alert-info\">\n",
        "В данном проекте мной были заполнены пропуски в данных, удалены дубликаты, а также проведена категоризация данных - категории клиентов по доходам, а так же категории кредитов по целям кредитования. <br>Далее в сводных таблицах я проанализировал, какие критерии влияют на своевременность возврата кредита клиентами.\n",
        "\n",
        "\n",
        "Подводя итог, можно сказать, что не все результаты - предсказуемы. Например, увеличение дохода клиента не означает, что кредит будет погашен вовремя.\n",
        "\n",
        "Но все зависимости своевременной выплаты долга от таких критериев как \"количество детей\", \"семейное положение\", \"уровень дохода\" и \"цель кредита\" - налицо.\n",
        "\n",
        "Полученные данные очень показательны, и могут быть использованы в дальнейшем для определения платёжеспособности потенциального заёмщика.\n",
        "\n",
        "Например самый \"ответственный\" плательщик, исходя из результатов, - это клиент без детей, но когда-либо состоявший в официальном браке; с доходом от 30000 до 50000 и берущий кредит для операций с недвижимостью.<br>\n",
        "А вот если заявку на кредит для получения образования либо операций с автомобилем заполнил неженатый/незамужний клиент с доходом от 50000 до 200000, да ещё и с двумя детьми, то стоит более пристально изучить его кредитную историю.</div>"
      ]
    }
  ],
  "metadata": {
    "ExecuteTimeLog": [
      {
        "duration": 450,
        "start_time": "2022-12-17T06:50:21.485Z"
      },
      {
        "duration": 78,
        "start_time": "2022-12-17T06:50:25.355Z"
      },
      {
        "duration": 73,
        "start_time": "2022-12-17T06:50:27.212Z"
      },
      {
        "duration": 23,
        "start_time": "2022-12-17T06:50:31.339Z"
      },
      {
        "duration": 69,
        "start_time": "2022-12-17T07:08:33.574Z"
      },
      {
        "duration": 70,
        "start_time": "2022-12-17T07:08:45.389Z"
      },
      {
        "duration": 16,
        "start_time": "2022-12-17T07:08:45.461Z"
      },
      {
        "duration": 33,
        "start_time": "2022-12-17T07:08:45.479Z"
      },
      {
        "duration": 28,
        "start_time": "2022-12-17T07:08:45.515Z"
      },
      {
        "duration": 39,
        "start_time": "2022-12-17T07:08:45.545Z"
      },
      {
        "duration": 3,
        "start_time": "2022-12-17T07:08:45.586Z"
      },
      {
        "duration": 28,
        "start_time": "2022-12-17T07:08:45.591Z"
      },
      {
        "duration": 5,
        "start_time": "2022-12-17T07:08:45.636Z"
      },
      {
        "duration": 18,
        "start_time": "2022-12-17T07:08:45.642Z"
      },
      {
        "duration": 11,
        "start_time": "2022-12-17T07:08:45.662Z"
      },
      {
        "duration": 43,
        "start_time": "2022-12-17T07:08:45.675Z"
      },
      {
        "duration": 22,
        "start_time": "2022-12-17T07:08:45.719Z"
      },
      {
        "duration": 5,
        "start_time": "2022-12-17T07:08:45.743Z"
      },
      {
        "duration": 18,
        "start_time": "2022-12-17T07:08:45.750Z"
      },
      {
        "duration": 24,
        "start_time": "2022-12-17T07:08:45.770Z"
      },
      {
        "duration": 18,
        "start_time": "2022-12-17T07:08:45.796Z"
      },
      {
        "duration": 20,
        "start_time": "2022-12-17T07:08:45.816Z"
      },
      {
        "duration": 15,
        "start_time": "2022-12-17T07:08:45.837Z"
      },
      {
        "duration": 14,
        "start_time": "2022-12-17T07:08:45.854Z"
      },
      {
        "duration": 6,
        "start_time": "2022-12-17T07:08:45.870Z"
      },
      {
        "duration": 23,
        "start_time": "2022-12-17T07:08:53.167Z"
      },
      {
        "duration": 46,
        "start_time": "2022-12-21T03:53:50.778Z"
      },
      {
        "duration": 538,
        "start_time": "2022-12-21T03:54:03.719Z"
      },
      {
        "duration": 24,
        "start_time": "2022-12-21T03:54:04.259Z"
      },
      {
        "duration": 16,
        "start_time": "2022-12-21T03:54:04.285Z"
      },
      {
        "duration": 9,
        "start_time": "2022-12-21T03:54:04.303Z"
      },
      {
        "duration": 33,
        "start_time": "2022-12-21T03:54:04.322Z"
      },
      {
        "duration": 4,
        "start_time": "2022-12-21T03:54:04.356Z"
      },
      {
        "duration": 12,
        "start_time": "2022-12-21T03:54:04.361Z"
      },
      {
        "duration": 4,
        "start_time": "2022-12-21T03:54:04.375Z"
      },
      {
        "duration": 9,
        "start_time": "2022-12-21T03:54:04.381Z"
      },
      {
        "duration": 32,
        "start_time": "2022-12-21T03:54:04.393Z"
      },
      {
        "duration": 34,
        "start_time": "2022-12-21T03:54:04.426Z"
      },
      {
        "duration": 9,
        "start_time": "2022-12-21T03:54:04.462Z"
      },
      {
        "duration": 3,
        "start_time": "2022-12-21T03:54:04.472Z"
      },
      {
        "duration": 13,
        "start_time": "2022-12-21T03:54:04.477Z"
      },
      {
        "duration": 39,
        "start_time": "2022-12-21T03:54:04.491Z"
      },
      {
        "duration": 16,
        "start_time": "2022-12-21T03:54:04.531Z"
      },
      {
        "duration": 4,
        "start_time": "2022-12-21T03:54:04.548Z"
      },
      {
        "duration": 12,
        "start_time": "2022-12-21T03:54:04.553Z"
      },
      {
        "duration": 5,
        "start_time": "2022-12-21T03:54:04.566Z"
      },
      {
        "duration": 6,
        "start_time": "2022-12-21T03:54:04.572Z"
      },
      {
        "duration": 21,
        "start_time": "2022-12-21T03:54:10.630Z"
      },
      {
        "duration": 16,
        "start_time": "2022-12-21T03:54:20.470Z"
      },
      {
        "duration": 17,
        "start_time": "2022-12-21T03:54:31.622Z"
      },
      {
        "duration": 16,
        "start_time": "2022-12-21T04:00:24.072Z"
      },
      {
        "duration": 18,
        "start_time": "2022-12-21T04:00:31.997Z"
      },
      {
        "duration": 19,
        "start_time": "2022-12-21T04:04:44.485Z"
      },
      {
        "duration": 33,
        "start_time": "2022-12-21T04:05:39.874Z"
      },
      {
        "duration": 18,
        "start_time": "2022-12-21T04:05:50.105Z"
      },
      {
        "duration": 19,
        "start_time": "2022-12-21T04:09:23.869Z"
      },
      {
        "duration": 7,
        "start_time": "2022-12-21T04:34:25.690Z"
      },
      {
        "duration": 5,
        "start_time": "2022-12-21T04:34:34.353Z"
      },
      {
        "duration": 6,
        "start_time": "2022-12-21T04:35:58.760Z"
      },
      {
        "duration": 5,
        "start_time": "2022-12-21T04:37:10.968Z"
      },
      {
        "duration": 7,
        "start_time": "2022-12-21T04:39:03.625Z"
      },
      {
        "duration": 6,
        "start_time": "2022-12-21T04:39:35.195Z"
      },
      {
        "duration": 6,
        "start_time": "2022-12-21T04:50:00.599Z"
      },
      {
        "duration": 6,
        "start_time": "2022-12-21T04:50:16.439Z"
      },
      {
        "duration": 6,
        "start_time": "2022-12-21T04:50:25.972Z"
      },
      {
        "duration": 8,
        "start_time": "2022-12-21T04:50:41.203Z"
      },
      {
        "duration": 7,
        "start_time": "2022-12-21T04:50:53.720Z"
      },
      {
        "duration": 19,
        "start_time": "2022-12-21T04:55:31.764Z"
      },
      {
        "duration": 17,
        "start_time": "2022-12-21T04:56:27.053Z"
      },
      {
        "duration": 9,
        "start_time": "2022-12-21T04:59:08.158Z"
      },
      {
        "duration": 23,
        "start_time": "2022-12-21T05:27:08.020Z"
      },
      {
        "duration": 18,
        "start_time": "2022-12-21T05:29:29.704Z"
      },
      {
        "duration": 5,
        "start_time": "2022-12-21T05:44:39.626Z"
      },
      {
        "duration": 5,
        "start_time": "2022-12-21T05:45:57.066Z"
      },
      {
        "duration": 6,
        "start_time": "2022-12-21T05:46:45.716Z"
      },
      {
        "duration": 7,
        "start_time": "2022-12-21T05:47:13.434Z"
      },
      {
        "duration": 7,
        "start_time": "2022-12-21T05:48:06.749Z"
      },
      {
        "duration": 6,
        "start_time": "2022-12-21T05:48:39.918Z"
      },
      {
        "duration": 7,
        "start_time": "2022-12-21T05:49:08.071Z"
      },
      {
        "duration": 8,
        "start_time": "2022-12-21T05:49:58.042Z"
      },
      {
        "duration": 7,
        "start_time": "2022-12-21T05:51:04.570Z"
      },
      {
        "duration": 7,
        "start_time": "2022-12-21T05:51:14.346Z"
      },
      {
        "duration": 7,
        "start_time": "2022-12-21T05:51:30.354Z"
      },
      {
        "duration": 7,
        "start_time": "2022-12-21T05:51:39.342Z"
      },
      {
        "duration": 8,
        "start_time": "2022-12-21T05:51:46.961Z"
      },
      {
        "duration": 20,
        "start_time": "2022-12-21T06:02:52.712Z"
      },
      {
        "duration": 1160,
        "start_time": "2022-12-21T06:10:50.629Z"
      },
      {
        "duration": 1243,
        "start_time": "2022-12-21T06:12:11.001Z"
      },
      {
        "duration": 7,
        "start_time": "2022-12-21T06:12:54.445Z"
      },
      {
        "duration": 7,
        "start_time": "2022-12-21T06:14:08.861Z"
      },
      {
        "duration": 7,
        "start_time": "2022-12-21T06:21:35.746Z"
      },
      {
        "duration": 6,
        "start_time": "2022-12-21T06:36:09.473Z"
      },
      {
        "duration": 71,
        "start_time": "2022-12-21T06:36:45.840Z"
      },
      {
        "duration": 71,
        "start_time": "2022-12-21T06:37:06.170Z"
      },
      {
        "duration": 7,
        "start_time": "2022-12-21T06:37:15.333Z"
      },
      {
        "duration": 6,
        "start_time": "2022-12-21T06:37:25.277Z"
      },
      {
        "duration": 6,
        "start_time": "2022-12-21T06:38:09.916Z"
      },
      {
        "duration": 5,
        "start_time": "2022-12-21T06:39:19.536Z"
      },
      {
        "duration": 5,
        "start_time": "2022-12-21T06:39:44.615Z"
      },
      {
        "duration": 6,
        "start_time": "2022-12-21T06:40:02.056Z"
      },
      {
        "duration": 85,
        "start_time": "2022-12-21T06:41:42.059Z"
      },
      {
        "duration": 7,
        "start_time": "2022-12-21T06:41:51.292Z"
      },
      {
        "duration": 7,
        "start_time": "2022-12-21T06:42:00.070Z"
      },
      {
        "duration": 6,
        "start_time": "2022-12-21T06:42:31.897Z"
      },
      {
        "duration": 5,
        "start_time": "2022-12-21T06:43:19.736Z"
      },
      {
        "duration": 77,
        "start_time": "2022-12-21T06:43:43.110Z"
      },
      {
        "duration": 7,
        "start_time": "2022-12-21T06:43:52.650Z"
      },
      {
        "duration": 5,
        "start_time": "2022-12-21T06:44:10.877Z"
      },
      {
        "duration": 6,
        "start_time": "2022-12-21T06:45:20.530Z"
      },
      {
        "duration": 6,
        "start_time": "2022-12-21T06:45:38.031Z"
      },
      {
        "duration": 86,
        "start_time": "2022-12-21T06:46:19.163Z"
      },
      {
        "duration": 5,
        "start_time": "2022-12-21T06:46:25.915Z"
      },
      {
        "duration": 27,
        "start_time": "2022-12-21T07:02:32.645Z"
      },
      {
        "duration": 22,
        "start_time": "2022-12-21T07:03:20.316Z"
      },
      {
        "duration": 5,
        "start_time": "2022-12-21T07:12:23.213Z"
      },
      {
        "duration": 5,
        "start_time": "2022-12-21T07:12:45.073Z"
      },
      {
        "duration": 7,
        "start_time": "2022-12-21T07:12:58.621Z"
      },
      {
        "duration": 5,
        "start_time": "2022-12-21T07:13:03.545Z"
      },
      {
        "duration": 7,
        "start_time": "2022-12-21T07:13:21.745Z"
      },
      {
        "duration": 5,
        "start_time": "2022-12-21T07:13:35.115Z"
      },
      {
        "duration": 5,
        "start_time": "2022-12-21T07:15:46.347Z"
      },
      {
        "duration": 5,
        "start_time": "2022-12-21T07:15:54.550Z"
      },
      {
        "duration": 6,
        "start_time": "2022-12-21T07:16:56.677Z"
      },
      {
        "duration": 7,
        "start_time": "2022-12-21T07:17:11.297Z"
      },
      {
        "duration": 5,
        "start_time": "2022-12-21T07:19:24.382Z"
      },
      {
        "duration": 6,
        "start_time": "2022-12-21T07:22:38.821Z"
      },
      {
        "duration": 6,
        "start_time": "2022-12-21T07:23:10.857Z"
      },
      {
        "duration": 6,
        "start_time": "2022-12-21T07:23:32.839Z"
      },
      {
        "duration": 6,
        "start_time": "2022-12-21T07:23:51.368Z"
      },
      {
        "duration": 5,
        "start_time": "2022-12-21T07:24:42.891Z"
      },
      {
        "duration": 773,
        "start_time": "2022-12-21T11:52:43.975Z"
      },
      {
        "duration": 35,
        "start_time": "2022-12-21T11:52:44.751Z"
      },
      {
        "duration": 32,
        "start_time": "2022-12-21T11:52:44.789Z"
      },
      {
        "duration": 21,
        "start_time": "2022-12-21T11:52:44.823Z"
      },
      {
        "duration": 61,
        "start_time": "2022-12-21T11:52:44.846Z"
      },
      {
        "duration": 4,
        "start_time": "2022-12-21T11:52:44.910Z"
      },
      {
        "duration": 19,
        "start_time": "2022-12-21T11:52:44.916Z"
      },
      {
        "duration": 12,
        "start_time": "2022-12-21T11:52:44.937Z"
      },
      {
        "duration": 19,
        "start_time": "2022-12-21T11:52:44.951Z"
      },
      {
        "duration": 58,
        "start_time": "2022-12-21T11:52:44.975Z"
      },
      {
        "duration": 59,
        "start_time": "2022-12-21T11:52:45.035Z"
      },
      {
        "duration": 21,
        "start_time": "2022-12-21T11:52:45.097Z"
      },
      {
        "duration": 9,
        "start_time": "2022-12-21T11:52:45.121Z"
      },
      {
        "duration": 19,
        "start_time": "2022-12-21T11:52:45.132Z"
      },
      {
        "duration": 45,
        "start_time": "2022-12-21T11:52:45.153Z"
      },
      {
        "duration": 18,
        "start_time": "2022-12-21T11:52:45.200Z"
      },
      {
        "duration": 3,
        "start_time": "2022-12-21T11:52:45.220Z"
      },
      {
        "duration": 16,
        "start_time": "2022-12-21T11:52:45.225Z"
      },
      {
        "duration": 10,
        "start_time": "2022-12-21T11:52:45.243Z"
      },
      {
        "duration": 14,
        "start_time": "2022-12-21T11:52:45.255Z"
      },
      {
        "duration": 41,
        "start_time": "2022-12-21T11:52:45.293Z"
      },
      {
        "duration": 34,
        "start_time": "2022-12-21T11:52:45.336Z"
      },
      {
        "duration": 10,
        "start_time": "2022-12-21T11:52:45.373Z"
      },
      {
        "duration": 43,
        "start_time": "2022-12-21T11:52:45.385Z"
      },
      {
        "duration": 6,
        "start_time": "2022-12-21T11:52:45.430Z"
      },
      {
        "duration": 29,
        "start_time": "2022-12-21T11:52:45.437Z"
      },
      {
        "duration": 7,
        "start_time": "2022-12-21T11:52:45.467Z"
      },
      {
        "duration": 49,
        "start_time": "2022-12-21T11:52:45.478Z"
      },
      {
        "duration": 5,
        "start_time": "2022-12-21T11:52:49.593Z"
      },
      {
        "duration": 8,
        "start_time": "2022-12-21T11:54:03.749Z"
      },
      {
        "duration": 6,
        "start_time": "2022-12-21T11:54:42.606Z"
      },
      {
        "duration": 8,
        "start_time": "2022-12-21T11:54:57.887Z"
      },
      {
        "duration": 71,
        "start_time": "2022-12-21T11:55:19.394Z"
      },
      {
        "duration": 7,
        "start_time": "2022-12-21T11:55:28.883Z"
      },
      {
        "duration": 77,
        "start_time": "2022-12-21T13:06:33.452Z"
      },
      {
        "duration": 17,
        "start_time": "2022-12-21T13:06:33.531Z"
      },
      {
        "duration": 31,
        "start_time": "2022-12-21T13:06:33.549Z"
      },
      {
        "duration": 9,
        "start_time": "2022-12-21T13:06:33.582Z"
      },
      {
        "duration": 36,
        "start_time": "2022-12-21T13:06:33.592Z"
      },
      {
        "duration": 3,
        "start_time": "2022-12-21T13:06:33.629Z"
      },
      {
        "duration": 10,
        "start_time": "2022-12-21T13:06:33.634Z"
      },
      {
        "duration": 31,
        "start_time": "2022-12-21T13:06:33.646Z"
      },
      {
        "duration": 8,
        "start_time": "2022-12-21T13:06:33.679Z"
      },
      {
        "duration": 8,
        "start_time": "2022-12-21T13:06:33.690Z"
      },
      {
        "duration": 46,
        "start_time": "2022-12-21T13:06:33.700Z"
      },
      {
        "duration": 11,
        "start_time": "2022-12-21T13:06:33.747Z"
      },
      {
        "duration": 16,
        "start_time": "2022-12-21T13:06:33.760Z"
      },
      {
        "duration": 11,
        "start_time": "2022-12-21T13:06:33.778Z"
      },
      {
        "duration": 26,
        "start_time": "2022-12-21T13:06:33.790Z"
      },
      {
        "duration": 15,
        "start_time": "2022-12-21T13:06:33.818Z"
      },
      {
        "duration": 2,
        "start_time": "2022-12-21T13:06:33.835Z"
      },
      {
        "duration": 18,
        "start_time": "2022-12-21T13:06:33.839Z"
      },
      {
        "duration": 18,
        "start_time": "2022-12-21T13:06:33.859Z"
      },
      {
        "duration": 3,
        "start_time": "2022-12-21T13:06:33.878Z"
      },
      {
        "duration": 25,
        "start_time": "2022-12-21T13:06:33.882Z"
      },
      {
        "duration": 21,
        "start_time": "2022-12-21T13:06:33.908Z"
      },
      {
        "duration": 6,
        "start_time": "2022-12-21T13:06:33.930Z"
      },
      {
        "duration": 46,
        "start_time": "2022-12-21T13:06:33.937Z"
      },
      {
        "duration": 6,
        "start_time": "2022-12-21T13:06:33.984Z"
      },
      {
        "duration": 47,
        "start_time": "2022-12-21T13:06:33.991Z"
      },
      {
        "duration": 6,
        "start_time": "2022-12-21T13:06:34.040Z"
      },
      {
        "duration": 37,
        "start_time": "2022-12-21T13:06:34.049Z"
      },
      {
        "duration": 5,
        "start_time": "2022-12-21T13:06:34.087Z"
      },
      {
        "duration": 522,
        "start_time": "2022-12-22T06:20:06.577Z"
      },
      {
        "duration": 20,
        "start_time": "2022-12-22T06:20:07.100Z"
      },
      {
        "duration": 14,
        "start_time": "2022-12-22T06:20:07.122Z"
      },
      {
        "duration": 10,
        "start_time": "2022-12-22T06:20:07.139Z"
      },
      {
        "duration": 46,
        "start_time": "2022-12-22T06:20:07.151Z"
      },
      {
        "duration": 4,
        "start_time": "2022-12-22T06:20:07.199Z"
      },
      {
        "duration": 10,
        "start_time": "2022-12-22T06:20:07.204Z"
      },
      {
        "duration": 4,
        "start_time": "2022-12-22T06:20:07.216Z"
      },
      {
        "duration": 8,
        "start_time": "2022-12-22T06:20:07.222Z"
      },
      {
        "duration": 4,
        "start_time": "2022-12-22T06:20:07.234Z"
      },
      {
        "duration": 57,
        "start_time": "2022-12-22T06:20:07.240Z"
      },
      {
        "duration": 9,
        "start_time": "2022-12-22T06:20:07.299Z"
      },
      {
        "duration": 4,
        "start_time": "2022-12-22T06:20:07.310Z"
      },
      {
        "duration": 11,
        "start_time": "2022-12-22T06:20:07.315Z"
      },
      {
        "duration": 18,
        "start_time": "2022-12-22T06:20:07.328Z"
      },
      {
        "duration": 42,
        "start_time": "2022-12-22T06:20:07.347Z"
      },
      {
        "duration": 4,
        "start_time": "2022-12-22T06:20:07.391Z"
      },
      {
        "duration": 13,
        "start_time": "2022-12-22T06:20:07.396Z"
      },
      {
        "duration": 9,
        "start_time": "2022-12-22T06:20:07.410Z"
      },
      {
        "duration": 4,
        "start_time": "2022-12-22T06:20:07.420Z"
      },
      {
        "duration": 24,
        "start_time": "2022-12-22T06:20:07.426Z"
      },
      {
        "duration": 40,
        "start_time": "2022-12-22T06:20:07.452Z"
      },
      {
        "duration": 6,
        "start_time": "2022-12-22T06:20:07.493Z"
      },
      {
        "duration": 22,
        "start_time": "2022-12-22T06:20:07.500Z"
      },
      {
        "duration": 5,
        "start_time": "2022-12-22T06:20:07.524Z"
      },
      {
        "duration": 22,
        "start_time": "2022-12-22T06:20:07.531Z"
      },
      {
        "duration": 24,
        "start_time": "2022-12-22T06:20:07.555Z"
      },
      {
        "duration": 21,
        "start_time": "2022-12-22T06:20:07.583Z"
      },
      {
        "duration": 5,
        "start_time": "2022-12-22T06:20:07.606Z"
      },
      {
        "duration": 49,
        "start_time": "2022-12-22T09:23:54.440Z"
      },
      {
        "duration": 583,
        "start_time": "2022-12-22T09:24:02.509Z"
      },
      {
        "duration": 25,
        "start_time": "2022-12-22T09:24:03.094Z"
      },
      {
        "duration": 22,
        "start_time": "2022-12-22T09:24:03.121Z"
      },
      {
        "duration": 12,
        "start_time": "2022-12-22T09:24:03.147Z"
      },
      {
        "duration": 45,
        "start_time": "2022-12-22T09:24:03.161Z"
      },
      {
        "duration": 26,
        "start_time": "2022-12-22T09:24:03.208Z"
      },
      {
        "duration": 10,
        "start_time": "2022-12-22T09:24:03.238Z"
      },
      {
        "duration": 14,
        "start_time": "2022-12-22T09:24:03.250Z"
      },
      {
        "duration": 23,
        "start_time": "2022-12-22T09:24:03.265Z"
      },
      {
        "duration": 12,
        "start_time": "2022-12-22T09:24:03.291Z"
      },
      {
        "duration": 72,
        "start_time": "2022-12-22T09:24:03.304Z"
      },
      {
        "duration": 10,
        "start_time": "2022-12-22T09:24:03.379Z"
      },
      {
        "duration": 4,
        "start_time": "2022-12-22T09:24:03.390Z"
      },
      {
        "duration": 20,
        "start_time": "2022-12-22T09:24:03.396Z"
      },
      {
        "duration": 53,
        "start_time": "2022-12-22T09:24:03.418Z"
      },
      {
        "duration": 23,
        "start_time": "2022-12-22T09:24:03.473Z"
      },
      {
        "duration": 5,
        "start_time": "2022-12-22T09:24:03.498Z"
      },
      {
        "duration": 12,
        "start_time": "2022-12-22T09:24:03.505Z"
      },
      {
        "duration": 26,
        "start_time": "2022-12-22T09:24:03.519Z"
      },
      {
        "duration": 4,
        "start_time": "2022-12-22T09:24:03.546Z"
      },
      {
        "duration": 27,
        "start_time": "2022-12-22T09:24:03.551Z"
      },
      {
        "duration": 33,
        "start_time": "2022-12-22T09:24:09.513Z"
      },
      {
        "duration": 84,
        "start_time": "2022-12-22T09:31:08.608Z"
      },
      {
        "duration": 49,
        "start_time": "2022-12-22T09:31:21.648Z"
      },
      {
        "duration": 10,
        "start_time": "2022-12-22T09:31:32.402Z"
      },
      {
        "duration": 16,
        "start_time": "2022-12-22T09:36:05.408Z"
      },
      {
        "duration": 13,
        "start_time": "2022-12-22T09:36:13.415Z"
      },
      {
        "duration": 9,
        "start_time": "2022-12-22T09:37:23.339Z"
      },
      {
        "duration": 3,
        "start_time": "2022-12-22T09:38:08.904Z"
      },
      {
        "duration": 4,
        "start_time": "2022-12-22T09:38:13.200Z"
      },
      {
        "duration": 11,
        "start_time": "2022-12-22T09:39:55.076Z"
      },
      {
        "duration": 79,
        "start_time": "2022-12-22T09:40:25.448Z"
      },
      {
        "duration": 138,
        "start_time": "2022-12-22T09:40:45.065Z"
      },
      {
        "duration": 79,
        "start_time": "2022-12-22T09:40:52.522Z"
      },
      {
        "duration": 75,
        "start_time": "2022-12-22T09:41:21.370Z"
      },
      {
        "duration": 7,
        "start_time": "2022-12-22T09:41:32.167Z"
      },
      {
        "duration": 10,
        "start_time": "2022-12-22T09:41:59.344Z"
      },
      {
        "duration": 14,
        "start_time": "2022-12-22T09:42:24.590Z"
      },
      {
        "duration": 5,
        "start_time": "2022-12-22T09:52:45.641Z"
      },
      {
        "duration": 4,
        "start_time": "2022-12-22T09:52:47.158Z"
      },
      {
        "duration": 8,
        "start_time": "2022-12-22T09:54:28.603Z"
      },
      {
        "duration": 11,
        "start_time": "2022-12-22T09:55:07.043Z"
      },
      {
        "duration": 6,
        "start_time": "2022-12-22T09:56:11.503Z"
      },
      {
        "duration": 22,
        "start_time": "2022-12-22T10:00:06.216Z"
      },
      {
        "duration": 9,
        "start_time": "2022-12-22T10:01:48.857Z"
      },
      {
        "duration": 9,
        "start_time": "2022-12-22T10:01:59.582Z"
      },
      {
        "duration": 7,
        "start_time": "2022-12-22T10:02:22.358Z"
      },
      {
        "duration": 6,
        "start_time": "2022-12-22T10:05:54.608Z"
      },
      {
        "duration": 6,
        "start_time": "2022-12-22T10:09:12.140Z"
      },
      {
        "duration": 15,
        "start_time": "2022-12-22T10:13:19.855Z"
      },
      {
        "duration": 23,
        "start_time": "2022-12-22T10:13:47.914Z"
      },
      {
        "duration": 1259,
        "start_time": "2022-12-22T10:17:12.010Z"
      },
      {
        "duration": 15,
        "start_time": "2022-12-22T10:18:11.411Z"
      },
      {
        "duration": 73,
        "start_time": "2022-12-22T10:27:01.371Z"
      },
      {
        "duration": 7,
        "start_time": "2022-12-22T10:27:42.854Z"
      },
      {
        "duration": 7,
        "start_time": "2022-12-22T10:27:57.413Z"
      },
      {
        "duration": 7,
        "start_time": "2022-12-22T10:28:21.281Z"
      },
      {
        "duration": 104,
        "start_time": "2022-12-22T10:29:20.169Z"
      },
      {
        "duration": 15,
        "start_time": "2022-12-22T10:31:58.640Z"
      },
      {
        "duration": 73,
        "start_time": "2022-12-22T10:43:17.784Z"
      },
      {
        "duration": 72,
        "start_time": "2022-12-22T10:44:00.848Z"
      },
      {
        "duration": 18,
        "start_time": "2022-12-22T10:44:43.435Z"
      },
      {
        "duration": 15,
        "start_time": "2022-12-22T10:45:19.927Z"
      },
      {
        "duration": 20,
        "start_time": "2022-12-22T10:45:37.040Z"
      },
      {
        "duration": 16,
        "start_time": "2022-12-22T10:46:36.942Z"
      },
      {
        "duration": 66,
        "start_time": "2022-12-22T10:49:32.223Z"
      },
      {
        "duration": 17,
        "start_time": "2022-12-22T10:49:46.078Z"
      },
      {
        "duration": 74,
        "start_time": "2022-12-22T10:52:41.826Z"
      },
      {
        "duration": 13,
        "start_time": "2022-12-22T10:52:55.757Z"
      },
      {
        "duration": 15,
        "start_time": "2022-12-22T10:53:32.408Z"
      },
      {
        "duration": 1164,
        "start_time": "2022-12-22T10:54:06.141Z"
      },
      {
        "duration": 26,
        "start_time": "2022-12-22T10:54:30.916Z"
      },
      {
        "duration": 1338,
        "start_time": "2022-12-22T10:55:05.609Z"
      },
      {
        "duration": 13,
        "start_time": "2022-12-22T10:56:09.353Z"
      },
      {
        "duration": 5,
        "start_time": "2022-12-22T10:58:14.682Z"
      },
      {
        "duration": 6,
        "start_time": "2022-12-22T10:58:39.919Z"
      },
      {
        "duration": 6,
        "start_time": "2022-12-22T10:58:45.606Z"
      },
      {
        "duration": 5,
        "start_time": "2022-12-22T11:09:12.559Z"
      },
      {
        "duration": 17,
        "start_time": "2022-12-22T11:10:43.131Z"
      },
      {
        "duration": 8,
        "start_time": "2022-12-22T11:11:13.735Z"
      },
      {
        "duration": 66,
        "start_time": "2022-12-22T11:13:55.603Z"
      },
      {
        "duration": 18,
        "start_time": "2022-12-22T11:14:03.235Z"
      },
      {
        "duration": 15,
        "start_time": "2022-12-22T11:14:22.027Z"
      },
      {
        "duration": 9,
        "start_time": "2022-12-22T11:15:25.493Z"
      },
      {
        "duration": 11,
        "start_time": "2022-12-22T11:15:53.538Z"
      },
      {
        "duration": 14,
        "start_time": "2022-12-22T11:16:24.568Z"
      },
      {
        "duration": 16,
        "start_time": "2022-12-22T11:23:54.622Z"
      },
      {
        "duration": 14,
        "start_time": "2022-12-22T11:29:18.147Z"
      },
      {
        "duration": 13,
        "start_time": "2022-12-22T11:29:32.176Z"
      },
      {
        "duration": 13,
        "start_time": "2022-12-22T11:29:46.779Z"
      },
      {
        "duration": 16,
        "start_time": "2022-12-22T11:49:17.743Z"
      },
      {
        "duration": 14,
        "start_time": "2022-12-22T11:49:28.455Z"
      },
      {
        "duration": 17,
        "start_time": "2022-12-22T11:54:21.806Z"
      },
      {
        "duration": 14,
        "start_time": "2022-12-22T11:56:51.201Z"
      },
      {
        "duration": 12,
        "start_time": "2022-12-22T11:59:18.338Z"
      },
      {
        "duration": 16,
        "start_time": "2022-12-22T11:59:29.206Z"
      },
      {
        "duration": 18,
        "start_time": "2022-12-22T11:59:41.320Z"
      },
      {
        "duration": 17,
        "start_time": "2022-12-22T11:59:53.620Z"
      },
      {
        "duration": 13,
        "start_time": "2022-12-22T12:00:03.445Z"
      },
      {
        "duration": 15,
        "start_time": "2022-12-22T12:00:14.866Z"
      },
      {
        "duration": 14,
        "start_time": "2022-12-22T12:00:18.440Z"
      },
      {
        "duration": 16,
        "start_time": "2022-12-22T12:17:06.478Z"
      },
      {
        "duration": 14,
        "start_time": "2022-12-22T12:27:49.444Z"
      },
      {
        "duration": 14,
        "start_time": "2022-12-22T12:27:49.644Z"
      },
      {
        "duration": 13,
        "start_time": "2022-12-22T12:28:24.952Z"
      },
      {
        "duration": 11,
        "start_time": "2022-12-22T12:29:01.074Z"
      },
      {
        "duration": 68,
        "start_time": "2022-12-22T12:58:52.065Z"
      },
      {
        "duration": 18,
        "start_time": "2022-12-22T12:59:03.141Z"
      },
      {
        "duration": 13,
        "start_time": "2022-12-22T13:02:46.436Z"
      },
      {
        "duration": 17,
        "start_time": "2022-12-22T13:03:01.445Z"
      },
      {
        "duration": 13,
        "start_time": "2022-12-22T13:03:32.193Z"
      },
      {
        "duration": 11,
        "start_time": "2022-12-22T13:03:39.464Z"
      },
      {
        "duration": 15,
        "start_time": "2022-12-22T13:03:45.534Z"
      },
      {
        "duration": 13,
        "start_time": "2022-12-22T13:04:08.197Z"
      },
      {
        "duration": 14,
        "start_time": "2022-12-22T13:04:16.435Z"
      },
      {
        "duration": 16,
        "start_time": "2022-12-22T13:04:26.536Z"
      },
      {
        "duration": 14,
        "start_time": "2022-12-22T13:04:32.434Z"
      },
      {
        "duration": 15,
        "start_time": "2022-12-22T13:04:39.636Z"
      },
      {
        "duration": 81,
        "start_time": "2022-12-22T13:24:51.381Z"
      },
      {
        "duration": 67,
        "start_time": "2022-12-22T13:38:46.304Z"
      },
      {
        "duration": 2,
        "start_time": "2022-12-22T14:07:30.196Z"
      },
      {
        "duration": 77,
        "start_time": "2022-12-22T14:07:31.665Z"
      },
      {
        "duration": 3,
        "start_time": "2022-12-22T14:08:20.395Z"
      },
      {
        "duration": 72,
        "start_time": "2022-12-22T14:08:20.402Z"
      },
      {
        "duration": 15,
        "start_time": "2022-12-22T14:08:20.476Z"
      },
      {
        "duration": 15,
        "start_time": "2022-12-22T14:08:20.493Z"
      },
      {
        "duration": 10,
        "start_time": "2022-12-22T14:08:20.523Z"
      },
      {
        "duration": 33,
        "start_time": "2022-12-22T14:08:20.535Z"
      },
      {
        "duration": 3,
        "start_time": "2022-12-22T14:08:20.570Z"
      },
      {
        "duration": 11,
        "start_time": "2022-12-22T14:08:20.575Z"
      },
      {
        "duration": 35,
        "start_time": "2022-12-22T14:08:20.588Z"
      },
      {
        "duration": 6,
        "start_time": "2022-12-22T14:08:20.624Z"
      },
      {
        "duration": 4,
        "start_time": "2022-12-22T14:08:20.633Z"
      },
      {
        "duration": 35,
        "start_time": "2022-12-22T14:08:20.639Z"
      },
      {
        "duration": 9,
        "start_time": "2022-12-22T14:08:20.676Z"
      },
      {
        "duration": 36,
        "start_time": "2022-12-22T14:08:20.686Z"
      },
      {
        "duration": 11,
        "start_time": "2022-12-22T14:08:20.725Z"
      },
      {
        "duration": 22,
        "start_time": "2022-12-22T14:08:20.737Z"
      },
      {
        "duration": 18,
        "start_time": "2022-12-22T14:08:20.760Z"
      },
      {
        "duration": 3,
        "start_time": "2022-12-22T14:08:20.780Z"
      },
      {
        "duration": 37,
        "start_time": "2022-12-22T14:08:20.785Z"
      },
      {
        "duration": 7,
        "start_time": "2022-12-22T14:08:20.824Z"
      },
      {
        "duration": 4,
        "start_time": "2022-12-22T14:08:20.833Z"
      },
      {
        "duration": 30,
        "start_time": "2022-12-22T14:08:20.838Z"
      },
      {
        "duration": 15,
        "start_time": "2022-12-22T14:08:20.870Z"
      },
      {
        "duration": 46,
        "start_time": "2022-12-22T14:08:20.887Z"
      },
      {
        "duration": 16,
        "start_time": "2022-12-22T14:08:20.935Z"
      },
      {
        "duration": 17,
        "start_time": "2022-12-22T14:08:20.953Z"
      },
      {
        "duration": 16,
        "start_time": "2022-12-22T14:08:20.972Z"
      },
      {
        "duration": 39,
        "start_time": "2022-12-22T14:08:20.989Z"
      },
      {
        "duration": 16,
        "start_time": "2022-12-22T14:08:21.031Z"
      },
      {
        "duration": 13,
        "start_time": "2022-12-22T14:08:21.049Z"
      },
      {
        "duration": 455,
        "start_time": "2022-12-23T06:46:58.237Z"
      },
      {
        "duration": 143,
        "start_time": "2022-12-23T06:46:58.693Z"
      },
      {
        "duration": 28,
        "start_time": "2022-12-23T06:46:58.838Z"
      },
      {
        "duration": 29,
        "start_time": "2022-12-23T06:46:58.868Z"
      },
      {
        "duration": 33,
        "start_time": "2022-12-23T06:46:58.898Z"
      },
      {
        "duration": 52,
        "start_time": "2022-12-23T06:46:58.933Z"
      },
      {
        "duration": 4,
        "start_time": "2022-12-23T06:46:58.987Z"
      },
      {
        "duration": 18,
        "start_time": "2022-12-23T06:46:58.992Z"
      },
      {
        "duration": 9,
        "start_time": "2022-12-23T06:46:59.012Z"
      },
      {
        "duration": 19,
        "start_time": "2022-12-23T06:46:59.024Z"
      },
      {
        "duration": 5,
        "start_time": "2022-12-23T06:46:59.045Z"
      },
      {
        "duration": 65,
        "start_time": "2022-12-23T06:46:59.052Z"
      },
      {
        "duration": 14,
        "start_time": "2022-12-23T06:46:59.119Z"
      },
      {
        "duration": 10,
        "start_time": "2022-12-23T06:46:59.135Z"
      },
      {
        "duration": 14,
        "start_time": "2022-12-23T06:46:59.147Z"
      },
      {
        "duration": 21,
        "start_time": "2022-12-23T06:46:59.162Z"
      },
      {
        "duration": 33,
        "start_time": "2022-12-23T06:46:59.185Z"
      },
      {
        "duration": 4,
        "start_time": "2022-12-23T06:46:59.220Z"
      },
      {
        "duration": 12,
        "start_time": "2022-12-23T06:46:59.225Z"
      },
      {
        "duration": 7,
        "start_time": "2022-12-23T06:46:59.238Z"
      },
      {
        "duration": 6,
        "start_time": "2022-12-23T06:46:59.247Z"
      },
      {
        "duration": 67,
        "start_time": "2022-12-23T06:46:59.255Z"
      },
      {
        "duration": 17,
        "start_time": "2022-12-23T06:46:59.324Z"
      },
      {
        "duration": 15,
        "start_time": "2022-12-23T06:46:59.343Z"
      },
      {
        "duration": 51,
        "start_time": "2022-12-23T06:46:59.359Z"
      },
      {
        "duration": 18,
        "start_time": "2022-12-23T06:46:59.412Z"
      },
      {
        "duration": 18,
        "start_time": "2022-12-23T06:46:59.432Z"
      },
      {
        "duration": 13,
        "start_time": "2022-12-23T06:46:59.453Z"
      },
      {
        "duration": 54,
        "start_time": "2022-12-23T06:46:59.469Z"
      },
      {
        "duration": 16,
        "start_time": "2022-12-23T06:46:59.525Z"
      },
      {
        "duration": 994,
        "start_time": "2022-12-23T06:51:07.101Z"
      }
    ],
    "colab": {
      "provenance": []
    },
    "kernelspec": {
      "display_name": "Python 3 (ipykernel)",
      "language": "python",
      "name": "python3"
    },
    "language_info": {
      "codemirror_mode": {
        "name": "ipython",
        "version": 3
      },
      "file_extension": ".py",
      "mimetype": "text/x-python",
      "name": "python",
      "nbconvert_exporter": "python",
      "pygments_lexer": "ipython3",
      "version": "3.9.5"
    },
    "toc": {
      "base_numbering": 1,
      "nav_menu": {},
      "number_sections": true,
      "sideBar": true,
      "skip_h1_title": true,
      "title_cell": "Table of Contents",
      "title_sidebar": "Contents",
      "toc_cell": false,
      "toc_position": {},
      "toc_section_display": true,
      "toc_window_display": false
    }
  },
  "nbformat": 4,
  "nbformat_minor": 5
}
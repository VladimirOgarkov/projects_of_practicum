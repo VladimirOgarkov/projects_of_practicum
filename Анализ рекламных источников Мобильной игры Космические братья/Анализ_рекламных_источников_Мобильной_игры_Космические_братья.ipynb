{
  "cells": [
    {
      "cell_type": "markdown",
      "metadata": {
        "id": "ACiCy2gHyNcl"
      },
      "source": [
        "# Мобильная игра «Космические братья». Анализ рекламных источников."
      ]
    },
    {
      "cell_type": "markdown",
      "metadata": {
        "id": "ckBKD0d4yNcl"
      },
      "source": [
        "Материалы.<br>\n",
        "Презентация: <https://disk.yandex.ru/i/rX-L5dIQfFe0FA><br>\n",
        "Дашборд (ДИАГРАММА РАСПРЕДЕЛЕНИЯ КОЛИЧЕСТВА ПОСТРОЕННЫХ ОБЪЕКТОВ): <https://public.tableau.com/app/profile/vladimir.ogarkov/viz/_16859485994780/Dashboard1>\n"
      ]
    },
    {
      "cell_type": "markdown",
      "metadata": {
        "id": "vbahocIzyNcl"
      },
      "source": [
        "# Оглавление\n",
        "\n",
        "* [1. Описание задачи](#описание_задачи)\n",
        "* [2. Описание данных](#описание_данных)\n",
        "* [3. Загрузка данных](#загрузка_данных)\n",
        "* [4. Предобработка данных](#предобработка_данных)\n",
        "    * [4.1 Изучение общей информации](#изучение_общей_информации)\n",
        "    * [4.2 Поиск и обработка дубликатов](#поиск_и_обработка_дубликатов)\n",
        "    * [4.3 Поиск и обработка пропусков](#поиск_и_обработка_пропусков)\n",
        "    * [4.4 Вывод по предобработке](#вывод_по_предобработке)\n",
        "* [5. Исследовательский анализ данных](#исследовательский_анализ_данных)\n",
        "    * [5.1 Количество привлечённых игроков и затраты на их привлечение.](#затраты)\n",
        "        * [5.1.1 Создание пользовательских профилей](#пользовательские_профили)\n",
        "        * [5.1.2 Число привлечённых игроков с каждого источника.](#число_привлечённых_пользователей)\n",
        "        * [5.1.3 Затраты на привлечение пользователей](#затраты_на_привлечение)\n",
        "    * [5.2 Влияние источника перехода в игру на поведение пользователя](#влияние)\n",
        "        * [5.2.1 Факт прохождения первого уровня с разбивкой по каналам привлечения.](#факт_прохождения)\n",
        "        * [5.2.2 Различие количества pvp и pve игроков по каналам привлечения](#различие_количества_pvp_и_pve)\n",
        "    * [5.3 Строительство объектов игроками.](#строительство)\n",
        "    * [5.4 Самое популярное событие (экран) среди игроков](#популярное_событие)\n",
        "    * [5.5 Вывод по исследовательскому анализу данных](#вывод_по_исследовательскому)\n",
        "* [6. Проверка статистических гипотез.](#проверка_гипотез)\n",
        "    * [6.1 Различия во времени завершения уровня в зависимости от способа прохождения](#время)\n",
        "    * [6.2 Различия количества построенных игроком объектов в зависимости от способа завершения уровня.](#постройки)\n",
        "    * [6.3 Вывод по проверке статистических гипотез](#6_вывод)\n",
        "* [7. Ранжирование каналов привлечения игроков по эффективности и рекомендации заказчику](#ранжирование)"
      ]
    },
    {
      "cell_type": "markdown",
      "metadata": {
        "id": "2ESQUSxNyNcl"
      },
      "source": [
        "<a id = 'описание_задачи'></a>\n",
        "# 1. Описание задачи.\n",
        "**Заказчик:**\n",
        "- Маркетинговый отдел.\n",
        "\n",
        "**Требуется изучить:**\n",
        "- Каналы привлечения новых пользователей и выявить среди них лидеров.<br>\n",
        "Изучить нужно стоимость привлечения пользователей, их объём и вид игроков.\n",
        "\n",
        "**Задача:**<br>\n",
        "\n",
        "Проанализировать поведение игроков в зависимости от источника перехода.\n",
        "\n",
        "- Провести исследовательский анализ данных;\n",
        "- Проанализировать влияние источника перехода в игру на поведение пользователя;\n",
        "\n",
        "**Цель:**\n",
        "- Оптимизация расходов на привлечение игроков (ранжирование каналов по эффективности)."
      ]
    },
    {
      "cell_type": "markdown",
      "metadata": {
        "id": "OjM1kx6ayNcm"
      },
      "source": [
        "<a id = 'описание_данных'></a>\n",
        "# 2. Описание данных\n",
        "Имеются данные о первом уровне игры, которые собраны из логов игры (постройки, проект и завершение уровня) в течение одного месяца, а так же данные о маркетинговой компании - пользователи привлекались из четырёх каналов в течение семи дней (суммарный расход на привлечение игроков в у.е.).<br>\n",
        "В данных не содержится информация об органических пользователях.<br><br>\n",
        "\n",
        "**Описание датасетов:**\n",
        "\n",
        "Основной датасет содержит данные о событиях, совершенных в мобильной игре «Космические братья».\n",
        "\n",
        "Основная монетизация игры — только планируется. Но предполагается, что в приложении будет происходить показ рекламы на экране с выбором типа объекта для постройки.\n",
        "\n",
        "В датасете представлены данные по игре пользователей на первом уровне. Завершение первого уровня требует от игрока выполнения одного из двух условий:\n",
        "\n",
        "- Победа над первым врагом\n",
        "- Реализация проекта - разработка орбитальной сборки спутников\n",
        "\n",
        "В датасете содержатся данные первых пользователей приложения — когорты пользователей, которые начали пользоваться приложением в период с 4 по 10 мая включительно.\n",
        "\n",
        "Датасет ***game_actions.csv***:\n",
        "\n",
        "- `event_datetime` — время события;\n",
        "- `event` — одно из трёх событий:\n",
        "    1. `building` — объект построен,\n",
        "    2. `finished_stage_1` — первый уровень завершён,\n",
        "    3. `project` — проект завершён;\n",
        "- `building_type` — один из трёх типов здания:\n",
        "    1. `assembly_shop` — сборочный цех,\n",
        "    2. `spaceport` — космопорт,\n",
        "    3. `research_center` — исследовательский центр;\n",
        "- `user_id` — идентификатор пользователя;\n",
        "- `project_type` — тип реализованного проекта;\n",
        "\n",
        "Помимо основного датасета есть два датасета с информацией о рекламных активностях.\n",
        "\n",
        "Датасет ***ad_costs.csv***:\n",
        "\n",
        "- `day` - день, в который был совершен клик по объявлению\n",
        "- `source` - источник трафика\n",
        "- `cost` - стоимость кликов\n",
        "\n",
        "Датасет ***user_source.csv*** содержит колонки:\n",
        "\n",
        "- `user_id` - идентификатор пользователя\n",
        "- `source` - источников, с которого пришёл пользователь, установивший приложение"
      ]
    },
    {
      "cell_type": "code",
      "execution_count": 1,
      "metadata": {
        "id": "thGX4a1syNcm"
      },
      "outputs": [],
      "source": [
        "# Ячейка с импортом нужных библиотек\n",
        "import pandas as pd\n",
        "import matplotlib.pyplot as plt\n",
        "import seaborn as sns\n",
        "import plotly.express as px\n",
        "from scipy import stats as st\n",
        "import numpy as np"
      ]
    },
    {
      "cell_type": "markdown",
      "metadata": {
        "id": "U4LWUso2yNcn"
      },
      "source": [
        "<a id ='загрузка_данных'></a>\n",
        "# 3. Загрузка данных"
      ]
    },
    {
      "cell_type": "code",
      "execution_count": 2,
      "metadata": {
        "id": "ymEn69YOyNcn"
      },
      "outputs": [],
      "source": [
        "# Загружаем датасеты в переменные\n",
        "game_actions = pd.read_csv('/datasets/game_actions.csv')\n",
        "ad_costs = pd.read_csv('/datasets/ad_costs.csv')\n",
        "user_source = pd.read_csv('/datasets/user_source.csv')"
      ]
    },
    {
      "cell_type": "code",
      "execution_count": 3,
      "metadata": {
        "id": "DoiRgJ2KyNcn"
      },
      "outputs": [],
      "source": [
        "# Создадим функцию, отображающую информацию о датафрейме, кол-во дубликатов и пропусков\n",
        "def data_review(data):\n",
        "    display(data.info())\n",
        "    print('---------------------------------------------')\n",
        "    print('Дубликаты:', data.duplicated().sum())\n",
        "    print('---------------------------------------------')\n",
        "    print('Пропуски:')\n",
        "    display(data.isna().sum().sort_values(ascending=False))"
      ]
    },
    {
      "cell_type": "markdown",
      "metadata": {
        "id": "cD9J3JwHyNcn"
      },
      "source": [
        "<a id = 'предобработка_данных'></a>\n",
        "# 4. Предобработка данных"
      ]
    },
    {
      "cell_type": "markdown",
      "metadata": {
        "id": "FH3ds0b4yNco"
      },
      "source": [
        "<a id = 'изучение_общей_информации'></a>\n",
        "## 4.1 Изучение общей информации"
      ]
    },
    {
      "cell_type": "code",
      "execution_count": 4,
      "metadata": {
        "colab": {
          "base_uri": "https://localhost:8080/",
          "height": 204
        },
        "id": "nca03fCxyNco",
        "outputId": "cd0203e9-5ff5-4e07-ead2-49d283e04ea1"
      },
      "outputs": [
        {
          "output_type": "execute_result",
          "data": {
            "text/plain": [
              "             event_datetime     event  building_type  \\\n",
              "115599  2020-05-16 02:57:21  building      spaceport   \n",
              "36248   2020-05-07 20:16:10  building  assembly_shop   \n",
              "20615   2020-05-06 08:26:03  building  assembly_shop   \n",
              "112091  2020-05-15 12:02:50  building      spaceport   \n",
              "119524  2020-05-16 21:16:47  building      spaceport   \n",
              "\n",
              "                                     user_id project_type  \n",
              "115599  36e789cf-3f0c-463e-b9e8-777a4e98fdc7          NaN  \n",
              "36248   44c62290-28f1-42ac-ae30-a0743cd04b32          NaN  \n",
              "20615   a0b3bddb-931b-4b08-b19f-98eb275089e7          NaN  \n",
              "112091  daa907df-c741-4c92-9871-7cf2710a0bfb          NaN  \n",
              "119524  4b007df6-a984-4a0e-8489-3c760a0f01b3          NaN  "
            ],
            "text/html": [
              "\n",
              "  <div id=\"df-b8c64596-f0d7-4b42-9dfb-c7a778a4c97e\">\n",
              "    <div class=\"colab-df-container\">\n",
              "      <div>\n",
              "<style scoped>\n",
              "    .dataframe tbody tr th:only-of-type {\n",
              "        vertical-align: middle;\n",
              "    }\n",
              "\n",
              "    .dataframe tbody tr th {\n",
              "        vertical-align: top;\n",
              "    }\n",
              "\n",
              "    .dataframe thead th {\n",
              "        text-align: right;\n",
              "    }\n",
              "</style>\n",
              "<table border=\"1\" class=\"dataframe\">\n",
              "  <thead>\n",
              "    <tr style=\"text-align: right;\">\n",
              "      <th></th>\n",
              "      <th>event_datetime</th>\n",
              "      <th>event</th>\n",
              "      <th>building_type</th>\n",
              "      <th>user_id</th>\n",
              "      <th>project_type</th>\n",
              "    </tr>\n",
              "  </thead>\n",
              "  <tbody>\n",
              "    <tr>\n",
              "      <th>115599</th>\n",
              "      <td>2020-05-16 02:57:21</td>\n",
              "      <td>building</td>\n",
              "      <td>spaceport</td>\n",
              "      <td>36e789cf-3f0c-463e-b9e8-777a4e98fdc7</td>\n",
              "      <td>NaN</td>\n",
              "    </tr>\n",
              "    <tr>\n",
              "      <th>36248</th>\n",
              "      <td>2020-05-07 20:16:10</td>\n",
              "      <td>building</td>\n",
              "      <td>assembly_shop</td>\n",
              "      <td>44c62290-28f1-42ac-ae30-a0743cd04b32</td>\n",
              "      <td>NaN</td>\n",
              "    </tr>\n",
              "    <tr>\n",
              "      <th>20615</th>\n",
              "      <td>2020-05-06 08:26:03</td>\n",
              "      <td>building</td>\n",
              "      <td>assembly_shop</td>\n",
              "      <td>a0b3bddb-931b-4b08-b19f-98eb275089e7</td>\n",
              "      <td>NaN</td>\n",
              "    </tr>\n",
              "    <tr>\n",
              "      <th>112091</th>\n",
              "      <td>2020-05-15 12:02:50</td>\n",
              "      <td>building</td>\n",
              "      <td>spaceport</td>\n",
              "      <td>daa907df-c741-4c92-9871-7cf2710a0bfb</td>\n",
              "      <td>NaN</td>\n",
              "    </tr>\n",
              "    <tr>\n",
              "      <th>119524</th>\n",
              "      <td>2020-05-16 21:16:47</td>\n",
              "      <td>building</td>\n",
              "      <td>spaceport</td>\n",
              "      <td>4b007df6-a984-4a0e-8489-3c760a0f01b3</td>\n",
              "      <td>NaN</td>\n",
              "    </tr>\n",
              "  </tbody>\n",
              "</table>\n",
              "</div>\n",
              "      <button class=\"colab-df-convert\" onclick=\"convertToInteractive('df-b8c64596-f0d7-4b42-9dfb-c7a778a4c97e')\"\n",
              "              title=\"Convert this dataframe to an interactive table.\"\n",
              "              style=\"display:none;\">\n",
              "        \n",
              "  <svg xmlns=\"http://www.w3.org/2000/svg\" height=\"24px\"viewBox=\"0 0 24 24\"\n",
              "       width=\"24px\">\n",
              "    <path d=\"M0 0h24v24H0V0z\" fill=\"none\"/>\n",
              "    <path d=\"M18.56 5.44l.94 2.06.94-2.06 2.06-.94-2.06-.94-.94-2.06-.94 2.06-2.06.94zm-11 1L8.5 8.5l.94-2.06 2.06-.94-2.06-.94L8.5 2.5l-.94 2.06-2.06.94zm10 10l.94 2.06.94-2.06 2.06-.94-2.06-.94-.94-2.06-.94 2.06-2.06.94z\"/><path d=\"M17.41 7.96l-1.37-1.37c-.4-.4-.92-.59-1.43-.59-.52 0-1.04.2-1.43.59L10.3 9.45l-7.72 7.72c-.78.78-.78 2.05 0 2.83L4 21.41c.39.39.9.59 1.41.59.51 0 1.02-.2 1.41-.59l7.78-7.78 2.81-2.81c.8-.78.8-2.07 0-2.86zM5.41 20L4 18.59l7.72-7.72 1.47 1.35L5.41 20z\"/>\n",
              "  </svg>\n",
              "      </button>\n",
              "      \n",
              "  <style>\n",
              "    .colab-df-container {\n",
              "      display:flex;\n",
              "      flex-wrap:wrap;\n",
              "      gap: 12px;\n",
              "    }\n",
              "\n",
              "    .colab-df-convert {\n",
              "      background-color: #E8F0FE;\n",
              "      border: none;\n",
              "      border-radius: 50%;\n",
              "      cursor: pointer;\n",
              "      display: none;\n",
              "      fill: #1967D2;\n",
              "      height: 32px;\n",
              "      padding: 0 0 0 0;\n",
              "      width: 32px;\n",
              "    }\n",
              "\n",
              "    .colab-df-convert:hover {\n",
              "      background-color: #E2EBFA;\n",
              "      box-shadow: 0px 1px 2px rgba(60, 64, 67, 0.3), 0px 1px 3px 1px rgba(60, 64, 67, 0.15);\n",
              "      fill: #174EA6;\n",
              "    }\n",
              "\n",
              "    [theme=dark] .colab-df-convert {\n",
              "      background-color: #3B4455;\n",
              "      fill: #D2E3FC;\n",
              "    }\n",
              "\n",
              "    [theme=dark] .colab-df-convert:hover {\n",
              "      background-color: #434B5C;\n",
              "      box-shadow: 0px 1px 3px 1px rgba(0, 0, 0, 0.15);\n",
              "      filter: drop-shadow(0px 1px 2px rgba(0, 0, 0, 0.3));\n",
              "      fill: #FFFFFF;\n",
              "    }\n",
              "  </style>\n",
              "\n",
              "      <script>\n",
              "        const buttonEl =\n",
              "          document.querySelector('#df-b8c64596-f0d7-4b42-9dfb-c7a778a4c97e button.colab-df-convert');\n",
              "        buttonEl.style.display =\n",
              "          google.colab.kernel.accessAllowed ? 'block' : 'none';\n",
              "\n",
              "        async function convertToInteractive(key) {\n",
              "          const element = document.querySelector('#df-b8c64596-f0d7-4b42-9dfb-c7a778a4c97e');\n",
              "          const dataTable =\n",
              "            await google.colab.kernel.invokeFunction('convertToInteractive',\n",
              "                                                     [key], {});\n",
              "          if (!dataTable) return;\n",
              "\n",
              "          const docLinkHtml = 'Like what you see? Visit the ' +\n",
              "            '<a target=\"_blank\" href=https://colab.research.google.com/notebooks/data_table.ipynb>data table notebook</a>'\n",
              "            + ' to learn more about interactive tables.';\n",
              "          element.innerHTML = '';\n",
              "          dataTable['output_type'] = 'display_data';\n",
              "          await google.colab.output.renderOutput(dataTable, element);\n",
              "          const docLink = document.createElement('div');\n",
              "          docLink.innerHTML = docLinkHtml;\n",
              "          element.appendChild(docLink);\n",
              "        }\n",
              "      </script>\n",
              "    </div>\n",
              "  </div>\n",
              "  "
            ]
          },
          "metadata": {},
          "execution_count": 4
        }
      ],
      "source": [
        "game_actions.sample(5)"
      ]
    },
    {
      "cell_type": "code",
      "execution_count": 5,
      "metadata": {
        "colab": {
          "base_uri": "https://localhost:8080/",
          "height": 917
        },
        "id": "fZb_UMPjyNco",
        "outputId": "0b966a54-57f5-4760-c8cd-8edbc9b1cf8c"
      },
      "outputs": [
        {
          "output_type": "execute_result",
          "data": {
            "text/plain": [
              "                     source         day        cost\n",
              "0              facebook_ads  2020-05-03  935.882786\n",
              "1              facebook_ads  2020-05-04  548.354480\n",
              "2              facebook_ads  2020-05-05  260.185754\n",
              "3              facebook_ads  2020-05-06  177.982200\n",
              "4              facebook_ads  2020-05-07  111.766796\n",
              "5              facebook_ads  2020-05-08   68.009276\n",
              "6              facebook_ads  2020-05-09   38.723350\n",
              "7     instagram_new_adverts  2020-05-03  943.204717\n",
              "8     instagram_new_adverts  2020-05-04  502.925451\n",
              "9     instagram_new_adverts  2020-05-05  313.970984\n",
              "10    instagram_new_adverts  2020-05-06  173.071145\n",
              "11    instagram_new_adverts  2020-05-07  109.915254\n",
              "12    instagram_new_adverts  2020-05-08   71.578739\n",
              "13    instagram_new_adverts  2020-05-09   46.775400\n",
              "14            yandex_direct  2020-05-03  969.139394\n",
              "15            yandex_direct  2020-05-04  554.651494\n",
              "16            yandex_direct  2020-05-05  308.232990\n",
              "17            yandex_direct  2020-05-06  180.917099\n",
              "18            yandex_direct  2020-05-07  114.429338\n",
              "19            yandex_direct  2020-05-08   62.961630\n",
              "20            yandex_direct  2020-05-09   42.779505\n",
              "21  youtube_channel_reklama  2020-05-03  454.224943\n",
              "22  youtube_channel_reklama  2020-05-04  259.073224\n",
              "23  youtube_channel_reklama  2020-05-05  147.041741\n",
              "24  youtube_channel_reklama  2020-05-06   88.506074\n",
              "25  youtube_channel_reklama  2020-05-07   55.740645\n",
              "26  youtube_channel_reklama  2020-05-08   40.217907\n",
              "27  youtube_channel_reklama  2020-05-09   23.314669"
            ],
            "text/html": [
              "\n",
              "  <div id=\"df-17c2d5e4-f54b-44df-a5e2-8da131bd9496\">\n",
              "    <div class=\"colab-df-container\">\n",
              "      <div>\n",
              "<style scoped>\n",
              "    .dataframe tbody tr th:only-of-type {\n",
              "        vertical-align: middle;\n",
              "    }\n",
              "\n",
              "    .dataframe tbody tr th {\n",
              "        vertical-align: top;\n",
              "    }\n",
              "\n",
              "    .dataframe thead th {\n",
              "        text-align: right;\n",
              "    }\n",
              "</style>\n",
              "<table border=\"1\" class=\"dataframe\">\n",
              "  <thead>\n",
              "    <tr style=\"text-align: right;\">\n",
              "      <th></th>\n",
              "      <th>source</th>\n",
              "      <th>day</th>\n",
              "      <th>cost</th>\n",
              "    </tr>\n",
              "  </thead>\n",
              "  <tbody>\n",
              "    <tr>\n",
              "      <th>0</th>\n",
              "      <td>facebook_ads</td>\n",
              "      <td>2020-05-03</td>\n",
              "      <td>935.882786</td>\n",
              "    </tr>\n",
              "    <tr>\n",
              "      <th>1</th>\n",
              "      <td>facebook_ads</td>\n",
              "      <td>2020-05-04</td>\n",
              "      <td>548.354480</td>\n",
              "    </tr>\n",
              "    <tr>\n",
              "      <th>2</th>\n",
              "      <td>facebook_ads</td>\n",
              "      <td>2020-05-05</td>\n",
              "      <td>260.185754</td>\n",
              "    </tr>\n",
              "    <tr>\n",
              "      <th>3</th>\n",
              "      <td>facebook_ads</td>\n",
              "      <td>2020-05-06</td>\n",
              "      <td>177.982200</td>\n",
              "    </tr>\n",
              "    <tr>\n",
              "      <th>4</th>\n",
              "      <td>facebook_ads</td>\n",
              "      <td>2020-05-07</td>\n",
              "      <td>111.766796</td>\n",
              "    </tr>\n",
              "    <tr>\n",
              "      <th>5</th>\n",
              "      <td>facebook_ads</td>\n",
              "      <td>2020-05-08</td>\n",
              "      <td>68.009276</td>\n",
              "    </tr>\n",
              "    <tr>\n",
              "      <th>6</th>\n",
              "      <td>facebook_ads</td>\n",
              "      <td>2020-05-09</td>\n",
              "      <td>38.723350</td>\n",
              "    </tr>\n",
              "    <tr>\n",
              "      <th>7</th>\n",
              "      <td>instagram_new_adverts</td>\n",
              "      <td>2020-05-03</td>\n",
              "      <td>943.204717</td>\n",
              "    </tr>\n",
              "    <tr>\n",
              "      <th>8</th>\n",
              "      <td>instagram_new_adverts</td>\n",
              "      <td>2020-05-04</td>\n",
              "      <td>502.925451</td>\n",
              "    </tr>\n",
              "    <tr>\n",
              "      <th>9</th>\n",
              "      <td>instagram_new_adverts</td>\n",
              "      <td>2020-05-05</td>\n",
              "      <td>313.970984</td>\n",
              "    </tr>\n",
              "    <tr>\n",
              "      <th>10</th>\n",
              "      <td>instagram_new_adverts</td>\n",
              "      <td>2020-05-06</td>\n",
              "      <td>173.071145</td>\n",
              "    </tr>\n",
              "    <tr>\n",
              "      <th>11</th>\n",
              "      <td>instagram_new_adverts</td>\n",
              "      <td>2020-05-07</td>\n",
              "      <td>109.915254</td>\n",
              "    </tr>\n",
              "    <tr>\n",
              "      <th>12</th>\n",
              "      <td>instagram_new_adverts</td>\n",
              "      <td>2020-05-08</td>\n",
              "      <td>71.578739</td>\n",
              "    </tr>\n",
              "    <tr>\n",
              "      <th>13</th>\n",
              "      <td>instagram_new_adverts</td>\n",
              "      <td>2020-05-09</td>\n",
              "      <td>46.775400</td>\n",
              "    </tr>\n",
              "    <tr>\n",
              "      <th>14</th>\n",
              "      <td>yandex_direct</td>\n",
              "      <td>2020-05-03</td>\n",
              "      <td>969.139394</td>\n",
              "    </tr>\n",
              "    <tr>\n",
              "      <th>15</th>\n",
              "      <td>yandex_direct</td>\n",
              "      <td>2020-05-04</td>\n",
              "      <td>554.651494</td>\n",
              "    </tr>\n",
              "    <tr>\n",
              "      <th>16</th>\n",
              "      <td>yandex_direct</td>\n",
              "      <td>2020-05-05</td>\n",
              "      <td>308.232990</td>\n",
              "    </tr>\n",
              "    <tr>\n",
              "      <th>17</th>\n",
              "      <td>yandex_direct</td>\n",
              "      <td>2020-05-06</td>\n",
              "      <td>180.917099</td>\n",
              "    </tr>\n",
              "    <tr>\n",
              "      <th>18</th>\n",
              "      <td>yandex_direct</td>\n",
              "      <td>2020-05-07</td>\n",
              "      <td>114.429338</td>\n",
              "    </tr>\n",
              "    <tr>\n",
              "      <th>19</th>\n",
              "      <td>yandex_direct</td>\n",
              "      <td>2020-05-08</td>\n",
              "      <td>62.961630</td>\n",
              "    </tr>\n",
              "    <tr>\n",
              "      <th>20</th>\n",
              "      <td>yandex_direct</td>\n",
              "      <td>2020-05-09</td>\n",
              "      <td>42.779505</td>\n",
              "    </tr>\n",
              "    <tr>\n",
              "      <th>21</th>\n",
              "      <td>youtube_channel_reklama</td>\n",
              "      <td>2020-05-03</td>\n",
              "      <td>454.224943</td>\n",
              "    </tr>\n",
              "    <tr>\n",
              "      <th>22</th>\n",
              "      <td>youtube_channel_reklama</td>\n",
              "      <td>2020-05-04</td>\n",
              "      <td>259.073224</td>\n",
              "    </tr>\n",
              "    <tr>\n",
              "      <th>23</th>\n",
              "      <td>youtube_channel_reklama</td>\n",
              "      <td>2020-05-05</td>\n",
              "      <td>147.041741</td>\n",
              "    </tr>\n",
              "    <tr>\n",
              "      <th>24</th>\n",
              "      <td>youtube_channel_reklama</td>\n",
              "      <td>2020-05-06</td>\n",
              "      <td>88.506074</td>\n",
              "    </tr>\n",
              "    <tr>\n",
              "      <th>25</th>\n",
              "      <td>youtube_channel_reklama</td>\n",
              "      <td>2020-05-07</td>\n",
              "      <td>55.740645</td>\n",
              "    </tr>\n",
              "    <tr>\n",
              "      <th>26</th>\n",
              "      <td>youtube_channel_reklama</td>\n",
              "      <td>2020-05-08</td>\n",
              "      <td>40.217907</td>\n",
              "    </tr>\n",
              "    <tr>\n",
              "      <th>27</th>\n",
              "      <td>youtube_channel_reklama</td>\n",
              "      <td>2020-05-09</td>\n",
              "      <td>23.314669</td>\n",
              "    </tr>\n",
              "  </tbody>\n",
              "</table>\n",
              "</div>\n",
              "      <button class=\"colab-df-convert\" onclick=\"convertToInteractive('df-17c2d5e4-f54b-44df-a5e2-8da131bd9496')\"\n",
              "              title=\"Convert this dataframe to an interactive table.\"\n",
              "              style=\"display:none;\">\n",
              "        \n",
              "  <svg xmlns=\"http://www.w3.org/2000/svg\" height=\"24px\"viewBox=\"0 0 24 24\"\n",
              "       width=\"24px\">\n",
              "    <path d=\"M0 0h24v24H0V0z\" fill=\"none\"/>\n",
              "    <path d=\"M18.56 5.44l.94 2.06.94-2.06 2.06-.94-2.06-.94-.94-2.06-.94 2.06-2.06.94zm-11 1L8.5 8.5l.94-2.06 2.06-.94-2.06-.94L8.5 2.5l-.94 2.06-2.06.94zm10 10l.94 2.06.94-2.06 2.06-.94-2.06-.94-.94-2.06-.94 2.06-2.06.94z\"/><path d=\"M17.41 7.96l-1.37-1.37c-.4-.4-.92-.59-1.43-.59-.52 0-1.04.2-1.43.59L10.3 9.45l-7.72 7.72c-.78.78-.78 2.05 0 2.83L4 21.41c.39.39.9.59 1.41.59.51 0 1.02-.2 1.41-.59l7.78-7.78 2.81-2.81c.8-.78.8-2.07 0-2.86zM5.41 20L4 18.59l7.72-7.72 1.47 1.35L5.41 20z\"/>\n",
              "  </svg>\n",
              "      </button>\n",
              "      \n",
              "  <style>\n",
              "    .colab-df-container {\n",
              "      display:flex;\n",
              "      flex-wrap:wrap;\n",
              "      gap: 12px;\n",
              "    }\n",
              "\n",
              "    .colab-df-convert {\n",
              "      background-color: #E8F0FE;\n",
              "      border: none;\n",
              "      border-radius: 50%;\n",
              "      cursor: pointer;\n",
              "      display: none;\n",
              "      fill: #1967D2;\n",
              "      height: 32px;\n",
              "      padding: 0 0 0 0;\n",
              "      width: 32px;\n",
              "    }\n",
              "\n",
              "    .colab-df-convert:hover {\n",
              "      background-color: #E2EBFA;\n",
              "      box-shadow: 0px 1px 2px rgba(60, 64, 67, 0.3), 0px 1px 3px 1px rgba(60, 64, 67, 0.15);\n",
              "      fill: #174EA6;\n",
              "    }\n",
              "\n",
              "    [theme=dark] .colab-df-convert {\n",
              "      background-color: #3B4455;\n",
              "      fill: #D2E3FC;\n",
              "    }\n",
              "\n",
              "    [theme=dark] .colab-df-convert:hover {\n",
              "      background-color: #434B5C;\n",
              "      box-shadow: 0px 1px 3px 1px rgba(0, 0, 0, 0.15);\n",
              "      filter: drop-shadow(0px 1px 2px rgba(0, 0, 0, 0.3));\n",
              "      fill: #FFFFFF;\n",
              "    }\n",
              "  </style>\n",
              "\n",
              "      <script>\n",
              "        const buttonEl =\n",
              "          document.querySelector('#df-17c2d5e4-f54b-44df-a5e2-8da131bd9496 button.colab-df-convert');\n",
              "        buttonEl.style.display =\n",
              "          google.colab.kernel.accessAllowed ? 'block' : 'none';\n",
              "\n",
              "        async function convertToInteractive(key) {\n",
              "          const element = document.querySelector('#df-17c2d5e4-f54b-44df-a5e2-8da131bd9496');\n",
              "          const dataTable =\n",
              "            await google.colab.kernel.invokeFunction('convertToInteractive',\n",
              "                                                     [key], {});\n",
              "          if (!dataTable) return;\n",
              "\n",
              "          const docLinkHtml = 'Like what you see? Visit the ' +\n",
              "            '<a target=\"_blank\" href=https://colab.research.google.com/notebooks/data_table.ipynb>data table notebook</a>'\n",
              "            + ' to learn more about interactive tables.';\n",
              "          element.innerHTML = '';\n",
              "          dataTable['output_type'] = 'display_data';\n",
              "          await google.colab.output.renderOutput(dataTable, element);\n",
              "          const docLink = document.createElement('div');\n",
              "          docLink.innerHTML = docLinkHtml;\n",
              "          element.appendChild(docLink);\n",
              "        }\n",
              "      </script>\n",
              "    </div>\n",
              "  </div>\n",
              "  "
            ]
          },
          "metadata": {},
          "execution_count": 5
        }
      ],
      "source": [
        "ad_costs"
      ]
    },
    {
      "cell_type": "code",
      "execution_count": 6,
      "metadata": {
        "colab": {
          "base_uri": "https://localhost:8080/",
          "height": 204
        },
        "id": "NV2xoN00yNcp",
        "outputId": "5493a0ce-1f01-4ad7-f4c6-db3955ced837"
      },
      "outputs": [
        {
          "output_type": "execute_result",
          "data": {
            "text/plain": [
              "                                    user_id                   source\n",
              "10537  c6bc7109-3730-489e-812a-be69f980ea15  youtube_channel_reklama\n",
              "12780  f0b7bf6f-e746-4e06-babb-6123c029f890            yandex_direct\n",
              "11709  dd0df6d8-2093-4b74-8eb1-66bcc0ba3052  youtube_channel_reklama\n",
              "10594  c7aa9dc6-52af-4581-9461-225977989022            yandex_direct\n",
              "4531   53d8dfd2-d601-461b-a4fd-890be5b45d27            yandex_direct"
            ],
            "text/html": [
              "\n",
              "  <div id=\"df-c6fdaed8-9ac5-4110-b96b-1548f8ea4857\">\n",
              "    <div class=\"colab-df-container\">\n",
              "      <div>\n",
              "<style scoped>\n",
              "    .dataframe tbody tr th:only-of-type {\n",
              "        vertical-align: middle;\n",
              "    }\n",
              "\n",
              "    .dataframe tbody tr th {\n",
              "        vertical-align: top;\n",
              "    }\n",
              "\n",
              "    .dataframe thead th {\n",
              "        text-align: right;\n",
              "    }\n",
              "</style>\n",
              "<table border=\"1\" class=\"dataframe\">\n",
              "  <thead>\n",
              "    <tr style=\"text-align: right;\">\n",
              "      <th></th>\n",
              "      <th>user_id</th>\n",
              "      <th>source</th>\n",
              "    </tr>\n",
              "  </thead>\n",
              "  <tbody>\n",
              "    <tr>\n",
              "      <th>10537</th>\n",
              "      <td>c6bc7109-3730-489e-812a-be69f980ea15</td>\n",
              "      <td>youtube_channel_reklama</td>\n",
              "    </tr>\n",
              "    <tr>\n",
              "      <th>12780</th>\n",
              "      <td>f0b7bf6f-e746-4e06-babb-6123c029f890</td>\n",
              "      <td>yandex_direct</td>\n",
              "    </tr>\n",
              "    <tr>\n",
              "      <th>11709</th>\n",
              "      <td>dd0df6d8-2093-4b74-8eb1-66bcc0ba3052</td>\n",
              "      <td>youtube_channel_reklama</td>\n",
              "    </tr>\n",
              "    <tr>\n",
              "      <th>10594</th>\n",
              "      <td>c7aa9dc6-52af-4581-9461-225977989022</td>\n",
              "      <td>yandex_direct</td>\n",
              "    </tr>\n",
              "    <tr>\n",
              "      <th>4531</th>\n",
              "      <td>53d8dfd2-d601-461b-a4fd-890be5b45d27</td>\n",
              "      <td>yandex_direct</td>\n",
              "    </tr>\n",
              "  </tbody>\n",
              "</table>\n",
              "</div>\n",
              "      <button class=\"colab-df-convert\" onclick=\"convertToInteractive('df-c6fdaed8-9ac5-4110-b96b-1548f8ea4857')\"\n",
              "              title=\"Convert this dataframe to an interactive table.\"\n",
              "              style=\"display:none;\">\n",
              "        \n",
              "  <svg xmlns=\"http://www.w3.org/2000/svg\" height=\"24px\"viewBox=\"0 0 24 24\"\n",
              "       width=\"24px\">\n",
              "    <path d=\"M0 0h24v24H0V0z\" fill=\"none\"/>\n",
              "    <path d=\"M18.56 5.44l.94 2.06.94-2.06 2.06-.94-2.06-.94-.94-2.06-.94 2.06-2.06.94zm-11 1L8.5 8.5l.94-2.06 2.06-.94-2.06-.94L8.5 2.5l-.94 2.06-2.06.94zm10 10l.94 2.06.94-2.06 2.06-.94-2.06-.94-.94-2.06-.94 2.06-2.06.94z\"/><path d=\"M17.41 7.96l-1.37-1.37c-.4-.4-.92-.59-1.43-.59-.52 0-1.04.2-1.43.59L10.3 9.45l-7.72 7.72c-.78.78-.78 2.05 0 2.83L4 21.41c.39.39.9.59 1.41.59.51 0 1.02-.2 1.41-.59l7.78-7.78 2.81-2.81c.8-.78.8-2.07 0-2.86zM5.41 20L4 18.59l7.72-7.72 1.47 1.35L5.41 20z\"/>\n",
              "  </svg>\n",
              "      </button>\n",
              "      \n",
              "  <style>\n",
              "    .colab-df-container {\n",
              "      display:flex;\n",
              "      flex-wrap:wrap;\n",
              "      gap: 12px;\n",
              "    }\n",
              "\n",
              "    .colab-df-convert {\n",
              "      background-color: #E8F0FE;\n",
              "      border: none;\n",
              "      border-radius: 50%;\n",
              "      cursor: pointer;\n",
              "      display: none;\n",
              "      fill: #1967D2;\n",
              "      height: 32px;\n",
              "      padding: 0 0 0 0;\n",
              "      width: 32px;\n",
              "    }\n",
              "\n",
              "    .colab-df-convert:hover {\n",
              "      background-color: #E2EBFA;\n",
              "      box-shadow: 0px 1px 2px rgba(60, 64, 67, 0.3), 0px 1px 3px 1px rgba(60, 64, 67, 0.15);\n",
              "      fill: #174EA6;\n",
              "    }\n",
              "\n",
              "    [theme=dark] .colab-df-convert {\n",
              "      background-color: #3B4455;\n",
              "      fill: #D2E3FC;\n",
              "    }\n",
              "\n",
              "    [theme=dark] .colab-df-convert:hover {\n",
              "      background-color: #434B5C;\n",
              "      box-shadow: 0px 1px 3px 1px rgba(0, 0, 0, 0.15);\n",
              "      filter: drop-shadow(0px 1px 2px rgba(0, 0, 0, 0.3));\n",
              "      fill: #FFFFFF;\n",
              "    }\n",
              "  </style>\n",
              "\n",
              "      <script>\n",
              "        const buttonEl =\n",
              "          document.querySelector('#df-c6fdaed8-9ac5-4110-b96b-1548f8ea4857 button.colab-df-convert');\n",
              "        buttonEl.style.display =\n",
              "          google.colab.kernel.accessAllowed ? 'block' : 'none';\n",
              "\n",
              "        async function convertToInteractive(key) {\n",
              "          const element = document.querySelector('#df-c6fdaed8-9ac5-4110-b96b-1548f8ea4857');\n",
              "          const dataTable =\n",
              "            await google.colab.kernel.invokeFunction('convertToInteractive',\n",
              "                                                     [key], {});\n",
              "          if (!dataTable) return;\n",
              "\n",
              "          const docLinkHtml = 'Like what you see? Visit the ' +\n",
              "            '<a target=\"_blank\" href=https://colab.research.google.com/notebooks/data_table.ipynb>data table notebook</a>'\n",
              "            + ' to learn more about interactive tables.';\n",
              "          element.innerHTML = '';\n",
              "          dataTable['output_type'] = 'display_data';\n",
              "          await google.colab.output.renderOutput(dataTable, element);\n",
              "          const docLink = document.createElement('div');\n",
              "          docLink.innerHTML = docLinkHtml;\n",
              "          element.appendChild(docLink);\n",
              "        }\n",
              "      </script>\n",
              "    </div>\n",
              "  </div>\n",
              "  "
            ]
          },
          "metadata": {},
          "execution_count": 6
        }
      ],
      "source": [
        "user_source.sample(5)"
      ]
    },
    {
      "cell_type": "code",
      "execution_count": 7,
      "metadata": {
        "colab": {
          "base_uri": "https://localhost:8080/",
          "height": 408
        },
        "id": "HfhUrNiVyNcp",
        "outputId": "4457418e-c9e9-4726-f6cf-bbbcbeb3d765"
      },
      "outputs": [
        {
          "output_type": "stream",
          "name": "stdout",
          "text": [
            "<class 'pandas.core.frame.DataFrame'>\n",
            "RangeIndex: 135640 entries, 0 to 135639\n",
            "Data columns (total 5 columns):\n",
            " #   Column          Non-Null Count   Dtype \n",
            "---  ------          --------------   ----- \n",
            " 0   event_datetime  135640 non-null  object\n",
            " 1   event           135640 non-null  object\n",
            " 2   building_type   127957 non-null  object\n",
            " 3   user_id         135640 non-null  object\n",
            " 4   project_type    1866 non-null    object\n",
            "dtypes: object(5)\n",
            "memory usage: 5.2+ MB\n"
          ]
        },
        {
          "output_type": "display_data",
          "data": {
            "text/plain": [
              "None"
            ]
          },
          "metadata": {}
        },
        {
          "output_type": "stream",
          "name": "stdout",
          "text": [
            "---------------------------------------------\n",
            "Дубликаты: 1\n",
            "---------------------------------------------\n",
            "Пропуски:\n"
          ]
        },
        {
          "output_type": "display_data",
          "data": {
            "text/plain": [
              "project_type      133774\n",
              "building_type       7683\n",
              "event_datetime         0\n",
              "event                  0\n",
              "user_id                0\n",
              "dtype: int64"
            ]
          },
          "metadata": {}
        }
      ],
      "source": [
        "data_review(game_actions)"
      ]
    },
    {
      "cell_type": "code",
      "execution_count": 8,
      "metadata": {
        "colab": {
          "base_uri": "https://localhost:8080/",
          "height": 340
        },
        "id": "US_z-7wlyNcp",
        "outputId": "602529a7-318b-4c1b-8e07-5072f418cf9e"
      },
      "outputs": [
        {
          "output_type": "stream",
          "name": "stdout",
          "text": [
            "<class 'pandas.core.frame.DataFrame'>\n",
            "RangeIndex: 28 entries, 0 to 27\n",
            "Data columns (total 3 columns):\n",
            " #   Column  Non-Null Count  Dtype  \n",
            "---  ------  --------------  -----  \n",
            " 0   source  28 non-null     object \n",
            " 1   day     28 non-null     object \n",
            " 2   cost    28 non-null     float64\n",
            "dtypes: float64(1), object(2)\n",
            "memory usage: 800.0+ bytes\n"
          ]
        },
        {
          "output_type": "display_data",
          "data": {
            "text/plain": [
              "None"
            ]
          },
          "metadata": {}
        },
        {
          "output_type": "stream",
          "name": "stdout",
          "text": [
            "---------------------------------------------\n",
            "Дубликаты: 0\n",
            "---------------------------------------------\n",
            "Пропуски:\n"
          ]
        },
        {
          "output_type": "display_data",
          "data": {
            "text/plain": [
              "source    0\n",
              "day       0\n",
              "cost      0\n",
              "dtype: int64"
            ]
          },
          "metadata": {}
        }
      ],
      "source": [
        "data_review(ad_costs)"
      ]
    },
    {
      "cell_type": "code",
      "execution_count": 9,
      "metadata": {
        "colab": {
          "base_uri": "https://localhost:8080/",
          "height": 306
        },
        "id": "jMXGYSimyNcp",
        "outputId": "99752a1f-2393-42be-96ac-77b7eeeae410"
      },
      "outputs": [
        {
          "output_type": "stream",
          "name": "stdout",
          "text": [
            "<class 'pandas.core.frame.DataFrame'>\n",
            "RangeIndex: 13576 entries, 0 to 13575\n",
            "Data columns (total 2 columns):\n",
            " #   Column   Non-Null Count  Dtype \n",
            "---  ------   --------------  ----- \n",
            " 0   user_id  13576 non-null  object\n",
            " 1   source   13576 non-null  object\n",
            "dtypes: object(2)\n",
            "memory usage: 212.2+ KB\n"
          ]
        },
        {
          "output_type": "display_data",
          "data": {
            "text/plain": [
              "None"
            ]
          },
          "metadata": {}
        },
        {
          "output_type": "stream",
          "name": "stdout",
          "text": [
            "---------------------------------------------\n",
            "Дубликаты: 0\n",
            "---------------------------------------------\n",
            "Пропуски:\n"
          ]
        },
        {
          "output_type": "display_data",
          "data": {
            "text/plain": [
              "user_id    0\n",
              "source     0\n",
              "dtype: int64"
            ]
          },
          "metadata": {}
        }
      ],
      "source": [
        "data_review(user_source)"
      ]
    },
    {
      "cell_type": "markdown",
      "metadata": {
        "id": "J8vw827LyNcp"
      },
      "source": [
        "***Тип данных столбцов*** `event_datetime` и `day` в датасетах `game_actions` и `ad_costs` **не соответствуют.**<br>\n",
        "***Приведём их к*** `datetime`."
      ]
    },
    {
      "cell_type": "code",
      "execution_count": 10,
      "metadata": {
        "id": "wVQreVe7yNcq"
      },
      "outputs": [],
      "source": [
        "game_actions['event_datetime'] = pd.to_datetime(game_actions['event_datetime'], format = '%Y-%m-%d %H:%M:%S')\n",
        "ad_costs['day'] = pd.to_datetime(ad_costs['day'], format = '%Y-%m-%d')"
      ]
    },
    {
      "cell_type": "markdown",
      "metadata": {
        "id": "SIoBryhPyNcq"
      },
      "source": [
        "<a id = 'поиск_и_обработка_дубликатов'></a>\n",
        "## 4.2 Дубликаты"
      ]
    },
    {
      "cell_type": "code",
      "execution_count": 11,
      "metadata": {
        "colab": {
          "base_uri": "https://localhost:8080/",
          "height": 80
        },
        "id": "s-X5XhAhyNcq",
        "outputId": "9b6efd46-d7e6-4a5a-804d-97edbabd68b4"
      },
      "outputs": [
        {
          "output_type": "execute_result",
          "data": {
            "text/plain": [
              "           event_datetime     event    building_type  \\\n",
              "74891 2020-05-10 18:41:56  building  research_center   \n",
              "\n",
              "                                    user_id project_type  \n",
              "74891  c9af55d2-b0ae-4bb4-b3d5-f32aa9ac03af          NaN  "
            ],
            "text/html": [
              "\n",
              "  <div id=\"df-07de9b41-d6fd-4419-bab1-76c4c81ea97c\">\n",
              "    <div class=\"colab-df-container\">\n",
              "      <div>\n",
              "<style scoped>\n",
              "    .dataframe tbody tr th:only-of-type {\n",
              "        vertical-align: middle;\n",
              "    }\n",
              "\n",
              "    .dataframe tbody tr th {\n",
              "        vertical-align: top;\n",
              "    }\n",
              "\n",
              "    .dataframe thead th {\n",
              "        text-align: right;\n",
              "    }\n",
              "</style>\n",
              "<table border=\"1\" class=\"dataframe\">\n",
              "  <thead>\n",
              "    <tr style=\"text-align: right;\">\n",
              "      <th></th>\n",
              "      <th>event_datetime</th>\n",
              "      <th>event</th>\n",
              "      <th>building_type</th>\n",
              "      <th>user_id</th>\n",
              "      <th>project_type</th>\n",
              "    </tr>\n",
              "  </thead>\n",
              "  <tbody>\n",
              "    <tr>\n",
              "      <th>74891</th>\n",
              "      <td>2020-05-10 18:41:56</td>\n",
              "      <td>building</td>\n",
              "      <td>research_center</td>\n",
              "      <td>c9af55d2-b0ae-4bb4-b3d5-f32aa9ac03af</td>\n",
              "      <td>NaN</td>\n",
              "    </tr>\n",
              "  </tbody>\n",
              "</table>\n",
              "</div>\n",
              "      <button class=\"colab-df-convert\" onclick=\"convertToInteractive('df-07de9b41-d6fd-4419-bab1-76c4c81ea97c')\"\n",
              "              title=\"Convert this dataframe to an interactive table.\"\n",
              "              style=\"display:none;\">\n",
              "        \n",
              "  <svg xmlns=\"http://www.w3.org/2000/svg\" height=\"24px\"viewBox=\"0 0 24 24\"\n",
              "       width=\"24px\">\n",
              "    <path d=\"M0 0h24v24H0V0z\" fill=\"none\"/>\n",
              "    <path d=\"M18.56 5.44l.94 2.06.94-2.06 2.06-.94-2.06-.94-.94-2.06-.94 2.06-2.06.94zm-11 1L8.5 8.5l.94-2.06 2.06-.94-2.06-.94L8.5 2.5l-.94 2.06-2.06.94zm10 10l.94 2.06.94-2.06 2.06-.94-2.06-.94-.94-2.06-.94 2.06-2.06.94z\"/><path d=\"M17.41 7.96l-1.37-1.37c-.4-.4-.92-.59-1.43-.59-.52 0-1.04.2-1.43.59L10.3 9.45l-7.72 7.72c-.78.78-.78 2.05 0 2.83L4 21.41c.39.39.9.59 1.41.59.51 0 1.02-.2 1.41-.59l7.78-7.78 2.81-2.81c.8-.78.8-2.07 0-2.86zM5.41 20L4 18.59l7.72-7.72 1.47 1.35L5.41 20z\"/>\n",
              "  </svg>\n",
              "      </button>\n",
              "      \n",
              "  <style>\n",
              "    .colab-df-container {\n",
              "      display:flex;\n",
              "      flex-wrap:wrap;\n",
              "      gap: 12px;\n",
              "    }\n",
              "\n",
              "    .colab-df-convert {\n",
              "      background-color: #E8F0FE;\n",
              "      border: none;\n",
              "      border-radius: 50%;\n",
              "      cursor: pointer;\n",
              "      display: none;\n",
              "      fill: #1967D2;\n",
              "      height: 32px;\n",
              "      padding: 0 0 0 0;\n",
              "      width: 32px;\n",
              "    }\n",
              "\n",
              "    .colab-df-convert:hover {\n",
              "      background-color: #E2EBFA;\n",
              "      box-shadow: 0px 1px 2px rgba(60, 64, 67, 0.3), 0px 1px 3px 1px rgba(60, 64, 67, 0.15);\n",
              "      fill: #174EA6;\n",
              "    }\n",
              "\n",
              "    [theme=dark] .colab-df-convert {\n",
              "      background-color: #3B4455;\n",
              "      fill: #D2E3FC;\n",
              "    }\n",
              "\n",
              "    [theme=dark] .colab-df-convert:hover {\n",
              "      background-color: #434B5C;\n",
              "      box-shadow: 0px 1px 3px 1px rgba(0, 0, 0, 0.15);\n",
              "      filter: drop-shadow(0px 1px 2px rgba(0, 0, 0, 0.3));\n",
              "      fill: #FFFFFF;\n",
              "    }\n",
              "  </style>\n",
              "\n",
              "      <script>\n",
              "        const buttonEl =\n",
              "          document.querySelector('#df-07de9b41-d6fd-4419-bab1-76c4c81ea97c button.colab-df-convert');\n",
              "        buttonEl.style.display =\n",
              "          google.colab.kernel.accessAllowed ? 'block' : 'none';\n",
              "\n",
              "        async function convertToInteractive(key) {\n",
              "          const element = document.querySelector('#df-07de9b41-d6fd-4419-bab1-76c4c81ea97c');\n",
              "          const dataTable =\n",
              "            await google.colab.kernel.invokeFunction('convertToInteractive',\n",
              "                                                     [key], {});\n",
              "          if (!dataTable) return;\n",
              "\n",
              "          const docLinkHtml = 'Like what you see? Visit the ' +\n",
              "            '<a target=\"_blank\" href=https://colab.research.google.com/notebooks/data_table.ipynb>data table notebook</a>'\n",
              "            + ' to learn more about interactive tables.';\n",
              "          element.innerHTML = '';\n",
              "          dataTable['output_type'] = 'display_data';\n",
              "          await google.colab.output.renderOutput(dataTable, element);\n",
              "          const docLink = document.createElement('div');\n",
              "          docLink.innerHTML = docLinkHtml;\n",
              "          element.appendChild(docLink);\n",
              "        }\n",
              "      </script>\n",
              "    </div>\n",
              "  </div>\n",
              "  "
            ]
          },
          "metadata": {},
          "execution_count": 11
        }
      ],
      "source": [
        "game_actions[game_actions[['event_datetime', 'user_id']].duplicated()]"
      ]
    },
    {
      "cell_type": "code",
      "execution_count": 12,
      "metadata": {
        "colab": {
          "base_uri": "https://localhost:8080/",
          "height": 111
        },
        "id": "mmiyyp_VyNcq",
        "outputId": "a7392650-c6ba-451d-898d-908bd430c621"
      },
      "outputs": [
        {
          "output_type": "execute_result",
          "data": {
            "text/plain": [
              "           event_datetime     event    building_type  \\\n",
              "74890 2020-05-10 18:41:56  building  research_center   \n",
              "74891 2020-05-10 18:41:56  building  research_center   \n",
              "\n",
              "                                    user_id project_type  \n",
              "74890  c9af55d2-b0ae-4bb4-b3d5-f32aa9ac03af          NaN  \n",
              "74891  c9af55d2-b0ae-4bb4-b3d5-f32aa9ac03af          NaN  "
            ],
            "text/html": [
              "\n",
              "  <div id=\"df-afd4e6ce-9b0d-457e-9bfc-ba72d47bb3bd\">\n",
              "    <div class=\"colab-df-container\">\n",
              "      <div>\n",
              "<style scoped>\n",
              "    .dataframe tbody tr th:only-of-type {\n",
              "        vertical-align: middle;\n",
              "    }\n",
              "\n",
              "    .dataframe tbody tr th {\n",
              "        vertical-align: top;\n",
              "    }\n",
              "\n",
              "    .dataframe thead th {\n",
              "        text-align: right;\n",
              "    }\n",
              "</style>\n",
              "<table border=\"1\" class=\"dataframe\">\n",
              "  <thead>\n",
              "    <tr style=\"text-align: right;\">\n",
              "      <th></th>\n",
              "      <th>event_datetime</th>\n",
              "      <th>event</th>\n",
              "      <th>building_type</th>\n",
              "      <th>user_id</th>\n",
              "      <th>project_type</th>\n",
              "    </tr>\n",
              "  </thead>\n",
              "  <tbody>\n",
              "    <tr>\n",
              "      <th>74890</th>\n",
              "      <td>2020-05-10 18:41:56</td>\n",
              "      <td>building</td>\n",
              "      <td>research_center</td>\n",
              "      <td>c9af55d2-b0ae-4bb4-b3d5-f32aa9ac03af</td>\n",
              "      <td>NaN</td>\n",
              "    </tr>\n",
              "    <tr>\n",
              "      <th>74891</th>\n",
              "      <td>2020-05-10 18:41:56</td>\n",
              "      <td>building</td>\n",
              "      <td>research_center</td>\n",
              "      <td>c9af55d2-b0ae-4bb4-b3d5-f32aa9ac03af</td>\n",
              "      <td>NaN</td>\n",
              "    </tr>\n",
              "  </tbody>\n",
              "</table>\n",
              "</div>\n",
              "      <button class=\"colab-df-convert\" onclick=\"convertToInteractive('df-afd4e6ce-9b0d-457e-9bfc-ba72d47bb3bd')\"\n",
              "              title=\"Convert this dataframe to an interactive table.\"\n",
              "              style=\"display:none;\">\n",
              "        \n",
              "  <svg xmlns=\"http://www.w3.org/2000/svg\" height=\"24px\"viewBox=\"0 0 24 24\"\n",
              "       width=\"24px\">\n",
              "    <path d=\"M0 0h24v24H0V0z\" fill=\"none\"/>\n",
              "    <path d=\"M18.56 5.44l.94 2.06.94-2.06 2.06-.94-2.06-.94-.94-2.06-.94 2.06-2.06.94zm-11 1L8.5 8.5l.94-2.06 2.06-.94-2.06-.94L8.5 2.5l-.94 2.06-2.06.94zm10 10l.94 2.06.94-2.06 2.06-.94-2.06-.94-.94-2.06-.94 2.06-2.06.94z\"/><path d=\"M17.41 7.96l-1.37-1.37c-.4-.4-.92-.59-1.43-.59-.52 0-1.04.2-1.43.59L10.3 9.45l-7.72 7.72c-.78.78-.78 2.05 0 2.83L4 21.41c.39.39.9.59 1.41.59.51 0 1.02-.2 1.41-.59l7.78-7.78 2.81-2.81c.8-.78.8-2.07 0-2.86zM5.41 20L4 18.59l7.72-7.72 1.47 1.35L5.41 20z\"/>\n",
              "  </svg>\n",
              "      </button>\n",
              "      \n",
              "  <style>\n",
              "    .colab-df-container {\n",
              "      display:flex;\n",
              "      flex-wrap:wrap;\n",
              "      gap: 12px;\n",
              "    }\n",
              "\n",
              "    .colab-df-convert {\n",
              "      background-color: #E8F0FE;\n",
              "      border: none;\n",
              "      border-radius: 50%;\n",
              "      cursor: pointer;\n",
              "      display: none;\n",
              "      fill: #1967D2;\n",
              "      height: 32px;\n",
              "      padding: 0 0 0 0;\n",
              "      width: 32px;\n",
              "    }\n",
              "\n",
              "    .colab-df-convert:hover {\n",
              "      background-color: #E2EBFA;\n",
              "      box-shadow: 0px 1px 2px rgba(60, 64, 67, 0.3), 0px 1px 3px 1px rgba(60, 64, 67, 0.15);\n",
              "      fill: #174EA6;\n",
              "    }\n",
              "\n",
              "    [theme=dark] .colab-df-convert {\n",
              "      background-color: #3B4455;\n",
              "      fill: #D2E3FC;\n",
              "    }\n",
              "\n",
              "    [theme=dark] .colab-df-convert:hover {\n",
              "      background-color: #434B5C;\n",
              "      box-shadow: 0px 1px 3px 1px rgba(0, 0, 0, 0.15);\n",
              "      filter: drop-shadow(0px 1px 2px rgba(0, 0, 0, 0.3));\n",
              "      fill: #FFFFFF;\n",
              "    }\n",
              "  </style>\n",
              "\n",
              "      <script>\n",
              "        const buttonEl =\n",
              "          document.querySelector('#df-afd4e6ce-9b0d-457e-9bfc-ba72d47bb3bd button.colab-df-convert');\n",
              "        buttonEl.style.display =\n",
              "          google.colab.kernel.accessAllowed ? 'block' : 'none';\n",
              "\n",
              "        async function convertToInteractive(key) {\n",
              "          const element = document.querySelector('#df-afd4e6ce-9b0d-457e-9bfc-ba72d47bb3bd');\n",
              "          const dataTable =\n",
              "            await google.colab.kernel.invokeFunction('convertToInteractive',\n",
              "                                                     [key], {});\n",
              "          if (!dataTable) return;\n",
              "\n",
              "          const docLinkHtml = 'Like what you see? Visit the ' +\n",
              "            '<a target=\"_blank\" href=https://colab.research.google.com/notebooks/data_table.ipynb>data table notebook</a>'\n",
              "            + ' to learn more about interactive tables.';\n",
              "          element.innerHTML = '';\n",
              "          dataTable['output_type'] = 'display_data';\n",
              "          await google.colab.output.renderOutput(dataTable, element);\n",
              "          const docLink = document.createElement('div');\n",
              "          docLink.innerHTML = docLinkHtml;\n",
              "          element.appendChild(docLink);\n",
              "        }\n",
              "      </script>\n",
              "    </div>\n",
              "  </div>\n",
              "  "
            ]
          },
          "metadata": {},
          "execution_count": 12
        }
      ],
      "source": [
        "# Взглянем на все записи - дубликаты\n",
        "game_actions.query('user_id == \"c9af55d2-b0ae-4bb4-b3d5-f32aa9ac03af\" and event_datetime == \"2020-05-10 18:41:56\"')"
      ]
    },
    {
      "cell_type": "markdown",
      "metadata": {
        "id": "SI7mm3pvyNcq"
      },
      "source": [
        "***Строки абсолютно идеентичны и идут друг за другом, будем считать, что это ошибка при сборе логов и удалим дубликат.***"
      ]
    },
    {
      "cell_type": "code",
      "execution_count": 13,
      "metadata": {
        "id": "z67lc0aEyNcq"
      },
      "outputs": [],
      "source": [
        "game_actions = game_actions.drop_duplicates(keep='first').reset_index(drop=True)"
      ]
    },
    {
      "cell_type": "markdown",
      "metadata": {
        "id": "MjB0W4NhyNcq"
      },
      "source": [
        "<a id = 'поиск_и_обработка_пропусков'></a>\n",
        "## 4.3 Пропуски\n",
        "Пропуски имеются в столбцах project_type и building_type.\n",
        "Проверим по каждомму типу события."
      ]
    },
    {
      "cell_type": "markdown",
      "metadata": {
        "id": "_FOY2XmTyNcr"
      },
      "source": [
        "***Тип события*** `project`:"
      ]
    },
    {
      "cell_type": "code",
      "execution_count": 14,
      "metadata": {
        "colab": {
          "base_uri": "https://localhost:8080/"
        },
        "id": "CYIAUXjIyNcr",
        "outputId": "650456f8-8014-4cda-a9c8-8dbb995749bf"
      },
      "outputs": [
        {
          "output_type": "execute_result",
          "data": {
            "text/plain": [
              "array(['satellite_orbital_assembly'], dtype=object)"
            ]
          },
          "metadata": {},
          "execution_count": 14
        }
      ],
      "source": [
        "game_actions.query('event == \"project\"')['project_type'].unique()"
      ]
    },
    {
      "cell_type": "code",
      "execution_count": 15,
      "metadata": {
        "colab": {
          "base_uri": "https://localhost:8080/"
        },
        "id": "s4IfZ3sJyNcr",
        "outputId": "617a024f-7222-4954-8200-34d9e5ae01df"
      },
      "outputs": [
        {
          "output_type": "execute_result",
          "data": {
            "text/plain": [
              "array([nan], dtype=object)"
            ]
          },
          "metadata": {},
          "execution_count": 15
        }
      ],
      "source": [
        "game_actions.query('event == \"project\"')['building_type'].unique()"
      ]
    },
    {
      "cell_type": "markdown",
      "metadata": {
        "id": "lhUi3KMwyNcr"
      },
      "source": [
        "- ***Выходит, что в первом уровне игрокам доступен только один проект*** - `satellite_orbital_assembly`\n",
        "- ***При событии `project` тип постройки не заполняется (`NaN`).***\n",
        "- ***Механика игры не нарушена, пропуски не являются ошибкой.***"
      ]
    },
    {
      "cell_type": "markdown",
      "metadata": {
        "id": "uf9P3J49yNcs"
      },
      "source": [
        "***Тип события*** `building`:"
      ]
    },
    {
      "cell_type": "code",
      "execution_count": 16,
      "metadata": {
        "colab": {
          "base_uri": "https://localhost:8080/"
        },
        "id": "3ywVuMPlyNcs",
        "outputId": "871c4549-3a8e-4c4a-c08e-19a3381ab5d3"
      },
      "outputs": [
        {
          "output_type": "execute_result",
          "data": {
            "text/plain": [
              "array(['assembly_shop', 'spaceport', 'research_center'], dtype=object)"
            ]
          },
          "metadata": {},
          "execution_count": 16
        }
      ],
      "source": [
        "game_actions.query('event == \"building\"')['building_type'].unique()"
      ]
    },
    {
      "cell_type": "code",
      "execution_count": 17,
      "metadata": {
        "colab": {
          "base_uri": "https://localhost:8080/"
        },
        "id": "u1zrhc7byNcs",
        "outputId": "170661bb-37d7-43bc-9da0-61fde50c9e4c"
      },
      "outputs": [
        {
          "output_type": "execute_result",
          "data": {
            "text/plain": [
              "array([nan], dtype=object)"
            ]
          },
          "metadata": {},
          "execution_count": 17
        }
      ],
      "source": [
        "game_actions.query('event == \"building\"')['project_type'].unique()"
      ]
    },
    {
      "cell_type": "markdown",
      "metadata": {
        "id": "1NNuBZulyNcs"
      },
      "source": [
        "- ***Игрокам в первом уровне доступны три типа построек:***\n",
        "    - `assembly_shop`;\n",
        "    - `spaceport`;\n",
        "    - `research_center`.\n",
        "\n",
        "- ***При событии*** `building` ***тип проекта не заполняется*** (`NaN`).\n",
        "- ***Механика игры не нарушена, пропуски не являются ошибкой.***"
      ]
    },
    {
      "cell_type": "markdown",
      "metadata": {
        "id": "ha3iDqc8yNct"
      },
      "source": [
        "***Тип события*** `building`:"
      ]
    },
    {
      "cell_type": "markdown",
      "metadata": {
        "id": "eNnA8Hd3yNct"
      },
      "source": [
        "***Тип события*** `finished_stage_1`:"
      ]
    },
    {
      "cell_type": "code",
      "execution_count": 18,
      "metadata": {
        "colab": {
          "base_uri": "https://localhost:8080/"
        },
        "id": "DNdxkjkLyNct",
        "outputId": "4baadf7e-d367-421d-9861-b6e566fd73c7"
      },
      "outputs": [
        {
          "output_type": "execute_result",
          "data": {
            "text/plain": [
              "array([nan], dtype=object)"
            ]
          },
          "metadata": {},
          "execution_count": 18
        }
      ],
      "source": [
        "game_actions.query('event == \"finished_stage_1\"')['project_type'].unique()"
      ]
    },
    {
      "cell_type": "code",
      "execution_count": 19,
      "metadata": {
        "colab": {
          "base_uri": "https://localhost:8080/"
        },
        "id": "hqGQI1FdyNct",
        "outputId": "b9066073-9ecc-42f3-a157-34ceaea02434"
      },
      "outputs": [
        {
          "output_type": "execute_result",
          "data": {
            "text/plain": [
              "array([nan], dtype=object)"
            ]
          },
          "metadata": {},
          "execution_count": 19
        }
      ],
      "source": [
        "game_actions.query('event == \"finished_stage_1\"')['building_type'].unique()"
      ]
    },
    {
      "cell_type": "markdown",
      "metadata": {
        "id": "4eYFmOjKyNcu"
      },
      "source": [
        "- ***При событии*** `finished_stage_1` ***тип постройки и тип проекта не заполняются*** (`NaN`).<br>\n",
        "- ***Механика игры не нарушена, пропуски не являются ошибкой.***"
      ]
    },
    {
      "cell_type": "markdown",
      "metadata": {
        "id": "wlvBKddFyNcu"
      },
      "source": [
        "***Проверим себя дополнительно.***<br>\n",
        "***Согласно механике игры - количество пропусков в столбце*** `project_type` ***должно равняться сумме всех записей при событиях*** `finished_stage_1` и `building`."
      ]
    },
    {
      "cell_type": "code",
      "execution_count": 20,
      "metadata": {
        "colab": {
          "base_uri": "https://localhost:8080/"
        },
        "id": "j040Q4vGyNcu",
        "outputId": "e7674a0b-3717-428f-b523-a317a9345b93"
      },
      "outputs": [
        {
          "output_type": "execute_result",
          "data": {
            "text/plain": [
              "133773"
            ]
          },
          "metadata": {},
          "execution_count": 20
        }
      ],
      "source": [
        "game_actions.query('event == \"finished_stage_1\" or event == \"building\"')['event'].count()"
      ]
    },
    {
      "cell_type": "markdown",
      "metadata": {
        "id": "WausM1Z2yNcv"
      },
      "source": [
        "***И количество пропусков в столбце*** `building_type` ***должно равняться сумме всех записей при событиях*** `finished_stage_1` и `project`."
      ]
    },
    {
      "cell_type": "code",
      "execution_count": 21,
      "metadata": {
        "colab": {
          "base_uri": "https://localhost:8080/"
        },
        "id": "82EVoUWHyNcv",
        "outputId": "271464eb-942d-4dae-a6cd-5f7eefb6f284"
      },
      "outputs": [
        {
          "output_type": "execute_result",
          "data": {
            "text/plain": [
              "7683"
            ]
          },
          "metadata": {},
          "execution_count": 21
        }
      ],
      "source": [
        "game_actions.query('event == \"finished_stage_1\" or event == \"project\"')['event'].count()"
      ]
    },
    {
      "cell_type": "code",
      "execution_count": 22,
      "metadata": {
        "colab": {
          "base_uri": "https://localhost:8080/"
        },
        "id": "HAvv68YGyNcv",
        "outputId": "cfa9b0a0-be95-481a-b876-016ca1d197e8"
      },
      "outputs": [
        {
          "output_type": "execute_result",
          "data": {
            "text/plain": [
              "project_type     133773\n",
              "building_type      7683\n",
              "dtype: int64"
            ]
          },
          "metadata": {},
          "execution_count": 22
        }
      ],
      "source": [
        "game_actions[['project_type', 'building_type']].isna().sum()"
      ]
    },
    {
      "cell_type": "markdown",
      "metadata": {
        "id": "sxmbANLTyNcw"
      },
      "source": [
        "<a id = 'вывод_по_предобработке'></a>\n",
        "## 4.4 Вывод по предобработке данных\n",
        "\n",
        "- В нашем распоряжении три датафрейма, в которых содержится информация о привлечении пользователей из четырёх источников в игру в течение недели и дальнейшее логирование их действий в течение периода с 04.05.2020 по 05.06.2020;\n",
        "- Изменение типа данных понадобилось в двух столбцах с датами датафреймов game_actions и ad_costs;\n",
        "- В датафрейме game_actions была обнаружена строка - дубликат, которая была удалена. Будем считать её ошибкой при логировании.\n",
        "- Были проверены пропуски в столбцах project_type и building_type датафрейма game_actions. Пропуски не являются ошибкой, - это результат механики игры, т.е. при событии project - столбец building_type не заполняется (заполняется Nan-значениями), соответственно при событии building NaN-значениями заполняется столбец project_type."
      ]
    },
    {
      "cell_type": "markdown",
      "metadata": {
        "id": "9irfNH2GyNcw"
      },
      "source": [
        "<a id = 'исследовательский_анализ_данных'></a>\n",
        "# 5. Исследовательский анализ данных."
      ]
    },
    {
      "cell_type": "markdown",
      "metadata": {
        "id": "ULQgzivdyNcw"
      },
      "source": [
        "<a id='затраты'></a>\n",
        "## 5.1 Количество привлечённых игроков и затраты на их привлечение."
      ]
    },
    {
      "cell_type": "markdown",
      "metadata": {
        "id": "5am_Gr_UyNcw"
      },
      "source": [
        "<a id='пользовательские_профили'></a>\n",
        "### 5.1.1 Создание пользовательских профилей"
      ]
    },
    {
      "cell_type": "code",
      "execution_count": 23,
      "metadata": {
        "colab": {
          "base_uri": "https://localhost:8080/",
          "height": 204
        },
        "id": "9aGuyBN0yNcw",
        "outputId": "6cf09463-7fb3-4274-96af-9bdcca496a68"
      },
      "outputs": [
        {
          "output_type": "execute_result",
          "data": {
            "text/plain": [
              "            event_datetime     event  building_type  \\\n",
              "27428  2020-05-07 00:40:59  building  assembly_shop   \n",
              "84976  2020-05-11 19:20:11  building      spaceport   \n",
              "122787 2020-05-17 15:58:12  building      spaceport   \n",
              "18200  2020-05-06 02:21:29  building  assembly_shop   \n",
              "13819  2020-05-05 15:13:49  building  assembly_shop   \n",
              "\n",
              "                                     user_id project_type  \\\n",
              "27428   ecfbcfbc-08f7-4ab8-8514-e973bd53561c          NaN   \n",
              "84976   66c79c7f-8d76-4e13-b895-dd8b1a93f797          NaN   \n",
              "122787  8bc084a7-1ffa-40ff-a594-d97cf3dfbd70          NaN   \n",
              "18200   f4d74e9a-d816-4f03-96d1-1deef0154f73          NaN   \n",
              "13819   57919ee7-1a76-45b0-89b2-55339aa27701          NaN   \n",
              "\n",
              "                       source  \n",
              "27428   instagram_new_adverts  \n",
              "84976            facebook_ads  \n",
              "122787          yandex_direct  \n",
              "18200           yandex_direct  \n",
              "13819           yandex_direct  "
            ],
            "text/html": [
              "\n",
              "  <div id=\"df-979674dc-a533-4e0f-be12-594b5398d094\">\n",
              "    <div class=\"colab-df-container\">\n",
              "      <div>\n",
              "<style scoped>\n",
              "    .dataframe tbody tr th:only-of-type {\n",
              "        vertical-align: middle;\n",
              "    }\n",
              "\n",
              "    .dataframe tbody tr th {\n",
              "        vertical-align: top;\n",
              "    }\n",
              "\n",
              "    .dataframe thead th {\n",
              "        text-align: right;\n",
              "    }\n",
              "</style>\n",
              "<table border=\"1\" class=\"dataframe\">\n",
              "  <thead>\n",
              "    <tr style=\"text-align: right;\">\n",
              "      <th></th>\n",
              "      <th>event_datetime</th>\n",
              "      <th>event</th>\n",
              "      <th>building_type</th>\n",
              "      <th>user_id</th>\n",
              "      <th>project_type</th>\n",
              "      <th>source</th>\n",
              "    </tr>\n",
              "  </thead>\n",
              "  <tbody>\n",
              "    <tr>\n",
              "      <th>27428</th>\n",
              "      <td>2020-05-07 00:40:59</td>\n",
              "      <td>building</td>\n",
              "      <td>assembly_shop</td>\n",
              "      <td>ecfbcfbc-08f7-4ab8-8514-e973bd53561c</td>\n",
              "      <td>NaN</td>\n",
              "      <td>instagram_new_adverts</td>\n",
              "    </tr>\n",
              "    <tr>\n",
              "      <th>84976</th>\n",
              "      <td>2020-05-11 19:20:11</td>\n",
              "      <td>building</td>\n",
              "      <td>spaceport</td>\n",
              "      <td>66c79c7f-8d76-4e13-b895-dd8b1a93f797</td>\n",
              "      <td>NaN</td>\n",
              "      <td>facebook_ads</td>\n",
              "    </tr>\n",
              "    <tr>\n",
              "      <th>122787</th>\n",
              "      <td>2020-05-17 15:58:12</td>\n",
              "      <td>building</td>\n",
              "      <td>spaceport</td>\n",
              "      <td>8bc084a7-1ffa-40ff-a594-d97cf3dfbd70</td>\n",
              "      <td>NaN</td>\n",
              "      <td>yandex_direct</td>\n",
              "    </tr>\n",
              "    <tr>\n",
              "      <th>18200</th>\n",
              "      <td>2020-05-06 02:21:29</td>\n",
              "      <td>building</td>\n",
              "      <td>assembly_shop</td>\n",
              "      <td>f4d74e9a-d816-4f03-96d1-1deef0154f73</td>\n",
              "      <td>NaN</td>\n",
              "      <td>yandex_direct</td>\n",
              "    </tr>\n",
              "    <tr>\n",
              "      <th>13819</th>\n",
              "      <td>2020-05-05 15:13:49</td>\n",
              "      <td>building</td>\n",
              "      <td>assembly_shop</td>\n",
              "      <td>57919ee7-1a76-45b0-89b2-55339aa27701</td>\n",
              "      <td>NaN</td>\n",
              "      <td>yandex_direct</td>\n",
              "    </tr>\n",
              "  </tbody>\n",
              "</table>\n",
              "</div>\n",
              "      <button class=\"colab-df-convert\" onclick=\"convertToInteractive('df-979674dc-a533-4e0f-be12-594b5398d094')\"\n",
              "              title=\"Convert this dataframe to an interactive table.\"\n",
              "              style=\"display:none;\">\n",
              "        \n",
              "  <svg xmlns=\"http://www.w3.org/2000/svg\" height=\"24px\"viewBox=\"0 0 24 24\"\n",
              "       width=\"24px\">\n",
              "    <path d=\"M0 0h24v24H0V0z\" fill=\"none\"/>\n",
              "    <path d=\"M18.56 5.44l.94 2.06.94-2.06 2.06-.94-2.06-.94-.94-2.06-.94 2.06-2.06.94zm-11 1L8.5 8.5l.94-2.06 2.06-.94-2.06-.94L8.5 2.5l-.94 2.06-2.06.94zm10 10l.94 2.06.94-2.06 2.06-.94-2.06-.94-.94-2.06-.94 2.06-2.06.94z\"/><path d=\"M17.41 7.96l-1.37-1.37c-.4-.4-.92-.59-1.43-.59-.52 0-1.04.2-1.43.59L10.3 9.45l-7.72 7.72c-.78.78-.78 2.05 0 2.83L4 21.41c.39.39.9.59 1.41.59.51 0 1.02-.2 1.41-.59l7.78-7.78 2.81-2.81c.8-.78.8-2.07 0-2.86zM5.41 20L4 18.59l7.72-7.72 1.47 1.35L5.41 20z\"/>\n",
              "  </svg>\n",
              "      </button>\n",
              "      \n",
              "  <style>\n",
              "    .colab-df-container {\n",
              "      display:flex;\n",
              "      flex-wrap:wrap;\n",
              "      gap: 12px;\n",
              "    }\n",
              "\n",
              "    .colab-df-convert {\n",
              "      background-color: #E8F0FE;\n",
              "      border: none;\n",
              "      border-radius: 50%;\n",
              "      cursor: pointer;\n",
              "      display: none;\n",
              "      fill: #1967D2;\n",
              "      height: 32px;\n",
              "      padding: 0 0 0 0;\n",
              "      width: 32px;\n",
              "    }\n",
              "\n",
              "    .colab-df-convert:hover {\n",
              "      background-color: #E2EBFA;\n",
              "      box-shadow: 0px 1px 2px rgba(60, 64, 67, 0.3), 0px 1px 3px 1px rgba(60, 64, 67, 0.15);\n",
              "      fill: #174EA6;\n",
              "    }\n",
              "\n",
              "    [theme=dark] .colab-df-convert {\n",
              "      background-color: #3B4455;\n",
              "      fill: #D2E3FC;\n",
              "    }\n",
              "\n",
              "    [theme=dark] .colab-df-convert:hover {\n",
              "      background-color: #434B5C;\n",
              "      box-shadow: 0px 1px 3px 1px rgba(0, 0, 0, 0.15);\n",
              "      filter: drop-shadow(0px 1px 2px rgba(0, 0, 0, 0.3));\n",
              "      fill: #FFFFFF;\n",
              "    }\n",
              "  </style>\n",
              "\n",
              "      <script>\n",
              "        const buttonEl =\n",
              "          document.querySelector('#df-979674dc-a533-4e0f-be12-594b5398d094 button.colab-df-convert');\n",
              "        buttonEl.style.display =\n",
              "          google.colab.kernel.accessAllowed ? 'block' : 'none';\n",
              "\n",
              "        async function convertToInteractive(key) {\n",
              "          const element = document.querySelector('#df-979674dc-a533-4e0f-be12-594b5398d094');\n",
              "          const dataTable =\n",
              "            await google.colab.kernel.invokeFunction('convertToInteractive',\n",
              "                                                     [key], {});\n",
              "          if (!dataTable) return;\n",
              "\n",
              "          const docLinkHtml = 'Like what you see? Visit the ' +\n",
              "            '<a target=\"_blank\" href=https://colab.research.google.com/notebooks/data_table.ipynb>data table notebook</a>'\n",
              "            + ' to learn more about interactive tables.';\n",
              "          element.innerHTML = '';\n",
              "          dataTable['output_type'] = 'display_data';\n",
              "          await google.colab.output.renderOutput(dataTable, element);\n",
              "          const docLink = document.createElement('div');\n",
              "          docLink.innerHTML = docLinkHtml;\n",
              "          element.appendChild(docLink);\n",
              "        }\n",
              "      </script>\n",
              "    </div>\n",
              "  </div>\n",
              "  "
            ]
          },
          "metadata": {},
          "execution_count": 23
        }
      ],
      "source": [
        "# Добавим к событиям источник, с которого пришёл игрок\n",
        "sessions = game_actions.merge(user_source, on='user_id', how='left')\n",
        "sessions.sample(5)"
      ]
    },
    {
      "cell_type": "code",
      "execution_count": 24,
      "metadata": {
        "colab": {
          "base_uri": "https://localhost:8080/",
          "height": 204
        },
        "id": "h1qZKxszyNcw",
        "outputId": "95df6c0d-7d83-46fa-bd21-9a591cdeb3c5"
      },
      "outputs": [
        {
          "output_type": "execute_result",
          "data": {
            "text/plain": [
              "                                user_id                   source first_date  \\\n",
              "0  0001f83c-c6ac-4621-b7f0-8a28b283ac30             facebook_ads 2020-05-06   \n",
              "1  00151b4f-ba38-44a8-a650-d7cf130a0105            yandex_direct 2020-05-06   \n",
              "2  001aaea6-3d14-43f1-8ca8-7f48820f17aa  youtube_channel_reklama 2020-05-05   \n",
              "3  001d39dc-366c-4021-9604-6a3b9ff01e25    instagram_new_adverts 2020-05-05   \n",
              "4  002f508f-67b6-479f-814b-b05f00d4e995             facebook_ads 2020-05-05   \n",
              "\n",
              "   last_date  \n",
              "0 2020-05-20  \n",
              "1 2020-05-18  \n",
              "2 2020-05-14  \n",
              "3 2020-05-12  \n",
              "4 2020-05-22  "
            ],
            "text/html": [
              "\n",
              "  <div id=\"df-ffe054dd-6db1-49eb-ab9f-f40b8e260897\">\n",
              "    <div class=\"colab-df-container\">\n",
              "      <div>\n",
              "<style scoped>\n",
              "    .dataframe tbody tr th:only-of-type {\n",
              "        vertical-align: middle;\n",
              "    }\n",
              "\n",
              "    .dataframe tbody tr th {\n",
              "        vertical-align: top;\n",
              "    }\n",
              "\n",
              "    .dataframe thead th {\n",
              "        text-align: right;\n",
              "    }\n",
              "</style>\n",
              "<table border=\"1\" class=\"dataframe\">\n",
              "  <thead>\n",
              "    <tr style=\"text-align: right;\">\n",
              "      <th></th>\n",
              "      <th>user_id</th>\n",
              "      <th>source</th>\n",
              "      <th>first_date</th>\n",
              "      <th>last_date</th>\n",
              "    </tr>\n",
              "  </thead>\n",
              "  <tbody>\n",
              "    <tr>\n",
              "      <th>0</th>\n",
              "      <td>0001f83c-c6ac-4621-b7f0-8a28b283ac30</td>\n",
              "      <td>facebook_ads</td>\n",
              "      <td>2020-05-06</td>\n",
              "      <td>2020-05-20</td>\n",
              "    </tr>\n",
              "    <tr>\n",
              "      <th>1</th>\n",
              "      <td>00151b4f-ba38-44a8-a650-d7cf130a0105</td>\n",
              "      <td>yandex_direct</td>\n",
              "      <td>2020-05-06</td>\n",
              "      <td>2020-05-18</td>\n",
              "    </tr>\n",
              "    <tr>\n",
              "      <th>2</th>\n",
              "      <td>001aaea6-3d14-43f1-8ca8-7f48820f17aa</td>\n",
              "      <td>youtube_channel_reklama</td>\n",
              "      <td>2020-05-05</td>\n",
              "      <td>2020-05-14</td>\n",
              "    </tr>\n",
              "    <tr>\n",
              "      <th>3</th>\n",
              "      <td>001d39dc-366c-4021-9604-6a3b9ff01e25</td>\n",
              "      <td>instagram_new_adverts</td>\n",
              "      <td>2020-05-05</td>\n",
              "      <td>2020-05-12</td>\n",
              "    </tr>\n",
              "    <tr>\n",
              "      <th>4</th>\n",
              "      <td>002f508f-67b6-479f-814b-b05f00d4e995</td>\n",
              "      <td>facebook_ads</td>\n",
              "      <td>2020-05-05</td>\n",
              "      <td>2020-05-22</td>\n",
              "    </tr>\n",
              "  </tbody>\n",
              "</table>\n",
              "</div>\n",
              "      <button class=\"colab-df-convert\" onclick=\"convertToInteractive('df-ffe054dd-6db1-49eb-ab9f-f40b8e260897')\"\n",
              "              title=\"Convert this dataframe to an interactive table.\"\n",
              "              style=\"display:none;\">\n",
              "        \n",
              "  <svg xmlns=\"http://www.w3.org/2000/svg\" height=\"24px\"viewBox=\"0 0 24 24\"\n",
              "       width=\"24px\">\n",
              "    <path d=\"M0 0h24v24H0V0z\" fill=\"none\"/>\n",
              "    <path d=\"M18.56 5.44l.94 2.06.94-2.06 2.06-.94-2.06-.94-.94-2.06-.94 2.06-2.06.94zm-11 1L8.5 8.5l.94-2.06 2.06-.94-2.06-.94L8.5 2.5l-.94 2.06-2.06.94zm10 10l.94 2.06.94-2.06 2.06-.94-2.06-.94-.94-2.06-.94 2.06-2.06.94z\"/><path d=\"M17.41 7.96l-1.37-1.37c-.4-.4-.92-.59-1.43-.59-.52 0-1.04.2-1.43.59L10.3 9.45l-7.72 7.72c-.78.78-.78 2.05 0 2.83L4 21.41c.39.39.9.59 1.41.59.51 0 1.02-.2 1.41-.59l7.78-7.78 2.81-2.81c.8-.78.8-2.07 0-2.86zM5.41 20L4 18.59l7.72-7.72 1.47 1.35L5.41 20z\"/>\n",
              "  </svg>\n",
              "      </button>\n",
              "      \n",
              "  <style>\n",
              "    .colab-df-container {\n",
              "      display:flex;\n",
              "      flex-wrap:wrap;\n",
              "      gap: 12px;\n",
              "    }\n",
              "\n",
              "    .colab-df-convert {\n",
              "      background-color: #E8F0FE;\n",
              "      border: none;\n",
              "      border-radius: 50%;\n",
              "      cursor: pointer;\n",
              "      display: none;\n",
              "      fill: #1967D2;\n",
              "      height: 32px;\n",
              "      padding: 0 0 0 0;\n",
              "      width: 32px;\n",
              "    }\n",
              "\n",
              "    .colab-df-convert:hover {\n",
              "      background-color: #E2EBFA;\n",
              "      box-shadow: 0px 1px 2px rgba(60, 64, 67, 0.3), 0px 1px 3px 1px rgba(60, 64, 67, 0.15);\n",
              "      fill: #174EA6;\n",
              "    }\n",
              "\n",
              "    [theme=dark] .colab-df-convert {\n",
              "      background-color: #3B4455;\n",
              "      fill: #D2E3FC;\n",
              "    }\n",
              "\n",
              "    [theme=dark] .colab-df-convert:hover {\n",
              "      background-color: #434B5C;\n",
              "      box-shadow: 0px 1px 3px 1px rgba(0, 0, 0, 0.15);\n",
              "      filter: drop-shadow(0px 1px 2px rgba(0, 0, 0, 0.3));\n",
              "      fill: #FFFFFF;\n",
              "    }\n",
              "  </style>\n",
              "\n",
              "      <script>\n",
              "        const buttonEl =\n",
              "          document.querySelector('#df-ffe054dd-6db1-49eb-ab9f-f40b8e260897 button.colab-df-convert');\n",
              "        buttonEl.style.display =\n",
              "          google.colab.kernel.accessAllowed ? 'block' : 'none';\n",
              "\n",
              "        async function convertToInteractive(key) {\n",
              "          const element = document.querySelector('#df-ffe054dd-6db1-49eb-ab9f-f40b8e260897');\n",
              "          const dataTable =\n",
              "            await google.colab.kernel.invokeFunction('convertToInteractive',\n",
              "                                                     [key], {});\n",
              "          if (!dataTable) return;\n",
              "\n",
              "          const docLinkHtml = 'Like what you see? Visit the ' +\n",
              "            '<a target=\"_blank\" href=https://colab.research.google.com/notebooks/data_table.ipynb>data table notebook</a>'\n",
              "            + ' to learn more about interactive tables.';\n",
              "          element.innerHTML = '';\n",
              "          dataTable['output_type'] = 'display_data';\n",
              "          await google.colab.output.renderOutput(dataTable, element);\n",
              "          const docLink = document.createElement('div');\n",
              "          docLink.innerHTML = docLinkHtml;\n",
              "          element.appendChild(docLink);\n",
              "        }\n",
              "      </script>\n",
              "    </div>\n",
              "  </div>\n",
              "  "
            ]
          },
          "metadata": {},
          "execution_count": 24
        }
      ],
      "source": [
        "# Создадим пользовательские профили с источником перехода и датами первой и последней сессии\n",
        "profiles = (\n",
        "    sessions\n",
        "    .sort_values(by=['user_id', 'event_datetime'])\n",
        "    .groupby('user_id')\n",
        "    .agg({'event_datetime':['first', 'last'], 'source':'first'})\n",
        "    .reset_index())\n",
        "\n",
        "profiles['first_date'] = profiles['event_datetime']['first'].dt.date    #дата первого посещения (без времени)\n",
        "profiles['last_date'] = profiles['event_datetime']['last'].dt.date      #дата последнего посещения\n",
        "profiles['first_date'] = pd.to_datetime(profiles['first_date'], format='%Y-%m-%d')\n",
        "profiles['last_date'] = pd.to_datetime(profiles['last_date'], format='%Y-%m-%d')\n",
        "profiles.columns = profiles.columns.droplevel(1)\n",
        "\n",
        "# убираем лишнее\n",
        "profiles = profiles[['user_id', 'source', 'first_date', 'last_date']]\n",
        "profiles.head()"
      ]
    },
    {
      "cell_type": "markdown",
      "metadata": {
        "id": "rxGSBsy7yNcw"
      },
      "source": [
        "<a id='число_привлечённых_пользователей'></a>\n",
        "### 5.1.2 Число привлечённых игроков с каждого источника."
      ]
    },
    {
      "cell_type": "code",
      "execution_count": 25,
      "metadata": {
        "colab": {
          "base_uri": "https://localhost:8080/",
          "height": 173
        },
        "id": "0AbJTnsHyNcw",
        "outputId": "71896d06-926f-4805-c152-26cfde5bf4db"
      },
      "outputs": [
        {
          "output_type": "execute_result",
          "data": {
            "text/plain": [
              "                    source  usr_cnt\n",
              "0            yandex_direct     4817\n",
              "1    instagram_new_adverts     3347\n",
              "2             facebook_ads     2726\n",
              "3  youtube_channel_reklama     2686"
            ],
            "text/html": [
              "\n",
              "  <div id=\"df-bb96f1a1-db6b-47b4-a1d6-dae5b6d43cb8\">\n",
              "    <div class=\"colab-df-container\">\n",
              "      <div>\n",
              "<style scoped>\n",
              "    .dataframe tbody tr th:only-of-type {\n",
              "        vertical-align: middle;\n",
              "    }\n",
              "\n",
              "    .dataframe tbody tr th {\n",
              "        vertical-align: top;\n",
              "    }\n",
              "\n",
              "    .dataframe thead th {\n",
              "        text-align: right;\n",
              "    }\n",
              "</style>\n",
              "<table border=\"1\" class=\"dataframe\">\n",
              "  <thead>\n",
              "    <tr style=\"text-align: right;\">\n",
              "      <th></th>\n",
              "      <th>source</th>\n",
              "      <th>usr_cnt</th>\n",
              "    </tr>\n",
              "  </thead>\n",
              "  <tbody>\n",
              "    <tr>\n",
              "      <th>0</th>\n",
              "      <td>yandex_direct</td>\n",
              "      <td>4817</td>\n",
              "    </tr>\n",
              "    <tr>\n",
              "      <th>1</th>\n",
              "      <td>instagram_new_adverts</td>\n",
              "      <td>3347</td>\n",
              "    </tr>\n",
              "    <tr>\n",
              "      <th>2</th>\n",
              "      <td>facebook_ads</td>\n",
              "      <td>2726</td>\n",
              "    </tr>\n",
              "    <tr>\n",
              "      <th>3</th>\n",
              "      <td>youtube_channel_reklama</td>\n",
              "      <td>2686</td>\n",
              "    </tr>\n",
              "  </tbody>\n",
              "</table>\n",
              "</div>\n",
              "      <button class=\"colab-df-convert\" onclick=\"convertToInteractive('df-bb96f1a1-db6b-47b4-a1d6-dae5b6d43cb8')\"\n",
              "              title=\"Convert this dataframe to an interactive table.\"\n",
              "              style=\"display:none;\">\n",
              "        \n",
              "  <svg xmlns=\"http://www.w3.org/2000/svg\" height=\"24px\"viewBox=\"0 0 24 24\"\n",
              "       width=\"24px\">\n",
              "    <path d=\"M0 0h24v24H0V0z\" fill=\"none\"/>\n",
              "    <path d=\"M18.56 5.44l.94 2.06.94-2.06 2.06-.94-2.06-.94-.94-2.06-.94 2.06-2.06.94zm-11 1L8.5 8.5l.94-2.06 2.06-.94-2.06-.94L8.5 2.5l-.94 2.06-2.06.94zm10 10l.94 2.06.94-2.06 2.06-.94-2.06-.94-.94-2.06-.94 2.06-2.06.94z\"/><path d=\"M17.41 7.96l-1.37-1.37c-.4-.4-.92-.59-1.43-.59-.52 0-1.04.2-1.43.59L10.3 9.45l-7.72 7.72c-.78.78-.78 2.05 0 2.83L4 21.41c.39.39.9.59 1.41.59.51 0 1.02-.2 1.41-.59l7.78-7.78 2.81-2.81c.8-.78.8-2.07 0-2.86zM5.41 20L4 18.59l7.72-7.72 1.47 1.35L5.41 20z\"/>\n",
              "  </svg>\n",
              "      </button>\n",
              "      \n",
              "  <style>\n",
              "    .colab-df-container {\n",
              "      display:flex;\n",
              "      flex-wrap:wrap;\n",
              "      gap: 12px;\n",
              "    }\n",
              "\n",
              "    .colab-df-convert {\n",
              "      background-color: #E8F0FE;\n",
              "      border: none;\n",
              "      border-radius: 50%;\n",
              "      cursor: pointer;\n",
              "      display: none;\n",
              "      fill: #1967D2;\n",
              "      height: 32px;\n",
              "      padding: 0 0 0 0;\n",
              "      width: 32px;\n",
              "    }\n",
              "\n",
              "    .colab-df-convert:hover {\n",
              "      background-color: #E2EBFA;\n",
              "      box-shadow: 0px 1px 2px rgba(60, 64, 67, 0.3), 0px 1px 3px 1px rgba(60, 64, 67, 0.15);\n",
              "      fill: #174EA6;\n",
              "    }\n",
              "\n",
              "    [theme=dark] .colab-df-convert {\n",
              "      background-color: #3B4455;\n",
              "      fill: #D2E3FC;\n",
              "    }\n",
              "\n",
              "    [theme=dark] .colab-df-convert:hover {\n",
              "      background-color: #434B5C;\n",
              "      box-shadow: 0px 1px 3px 1px rgba(0, 0, 0, 0.15);\n",
              "      filter: drop-shadow(0px 1px 2px rgba(0, 0, 0, 0.3));\n",
              "      fill: #FFFFFF;\n",
              "    }\n",
              "  </style>\n",
              "\n",
              "      <script>\n",
              "        const buttonEl =\n",
              "          document.querySelector('#df-bb96f1a1-db6b-47b4-a1d6-dae5b6d43cb8 button.colab-df-convert');\n",
              "        buttonEl.style.display =\n",
              "          google.colab.kernel.accessAllowed ? 'block' : 'none';\n",
              "\n",
              "        async function convertToInteractive(key) {\n",
              "          const element = document.querySelector('#df-bb96f1a1-db6b-47b4-a1d6-dae5b6d43cb8');\n",
              "          const dataTable =\n",
              "            await google.colab.kernel.invokeFunction('convertToInteractive',\n",
              "                                                     [key], {});\n",
              "          if (!dataTable) return;\n",
              "\n",
              "          const docLinkHtml = 'Like what you see? Visit the ' +\n",
              "            '<a target=\"_blank\" href=https://colab.research.google.com/notebooks/data_table.ipynb>data table notebook</a>'\n",
              "            + ' to learn more about interactive tables.';\n",
              "          element.innerHTML = '';\n",
              "          dataTable['output_type'] = 'display_data';\n",
              "          await google.colab.output.renderOutput(dataTable, element);\n",
              "          const docLink = document.createElement('div');\n",
              "          docLink.innerHTML = docLinkHtml;\n",
              "          element.appendChild(docLink);\n",
              "        }\n",
              "      </script>\n",
              "    </div>\n",
              "  </div>\n",
              "  "
            ]
          },
          "metadata": {},
          "execution_count": 25
        }
      ],
      "source": [
        "# Привлечено игроков каждым источником\n",
        "source_usr_cnt = (\n",
        "    profiles\n",
        "    .groupby('source', as_index=False)\n",
        "    .agg({'user_id':'nunique'})\n",
        "    .rename(columns={'user_id':'usr_cnt'})\n",
        "    .sort_values('usr_cnt', ascending=False)\n",
        "    .reset_index(drop=True)\n",
        ")\n",
        "source_usr_cnt"
      ]
    },
    {
      "cell_type": "code",
      "execution_count": 26,
      "metadata": {
        "colab": {
          "base_uri": "https://localhost:8080/",
          "height": 317
        },
        "id": "AxzEZ9OqyNcx",
        "outputId": "16673823-7428-4367-f05c-6071951067e5"
      },
      "outputs": [
        {
          "output_type": "display_data",
          "data": {
            "text/html": [
              "<html>\n",
              "<head><meta charset=\"utf-8\" /></head>\n",
              "<body>\n",
              "    <div>            <script src=\"https://cdnjs.cloudflare.com/ajax/libs/mathjax/2.7.5/MathJax.js?config=TeX-AMS-MML_SVG\"></script><script type=\"text/javascript\">if (window.MathJax && window.MathJax.Hub && window.MathJax.Hub.Config) {window.MathJax.Hub.Config({SVG: {font: \"STIX-Web\"}});}</script>                <script type=\"text/javascript\">window.PlotlyConfig = {MathJaxConfig: 'local'};</script>\n",
              "        <script src=\"https://cdn.plot.ly/plotly-2.18.2.min.js\"></script>                <div id=\"241dd55f-0412-40d8-aa10-c9b7904e98a7\" class=\"plotly-graph-div\" style=\"height:300px; width:900px;\"></div>            <script type=\"text/javascript\">                                    window.PLOTLYENV=window.PLOTLYENV || {};                                    if (document.getElementById(\"241dd55f-0412-40d8-aa10-c9b7904e98a7\")) {                    Plotly.newPlot(                        \"241dd55f-0412-40d8-aa10-c9b7904e98a7\",                        [{\"alignmentgroup\":\"True\",\"hovertemplate\":\"usr_cnt=%{text}<br>source=%{y}<extra></extra>\",\"legendgroup\":\"\",\"marker\":{\"color\":\"#636efa\",\"pattern\":{\"shape\":\"\"}},\"name\":\"\",\"offsetgroup\":\"\",\"orientation\":\"h\",\"showlegend\":false,\"text\":[2686.0,2726.0,3347.0,4817.0],\"textposition\":\"auto\",\"x\":[2686,2726,3347,4817],\"xaxis\":\"x\",\"y\":[\"youtube_channel_reklama\",\"facebook_ads\",\"instagram_new_adverts\",\"yandex_direct\"],\"yaxis\":\"y\",\"type\":\"bar\"}],                        {\"template\":{\"data\":{\"histogram2dcontour\":[{\"type\":\"histogram2dcontour\",\"colorbar\":{\"outlinewidth\":0,\"ticks\":\"\"},\"colorscale\":[[0.0,\"#0d0887\"],[0.1111111111111111,\"#46039f\"],[0.2222222222222222,\"#7201a8\"],[0.3333333333333333,\"#9c179e\"],[0.4444444444444444,\"#bd3786\"],[0.5555555555555556,\"#d8576b\"],[0.6666666666666666,\"#ed7953\"],[0.7777777777777778,\"#fb9f3a\"],[0.8888888888888888,\"#fdca26\"],[1.0,\"#f0f921\"]]}],\"choropleth\":[{\"type\":\"choropleth\",\"colorbar\":{\"outlinewidth\":0,\"ticks\":\"\"}}],\"histogram2d\":[{\"type\":\"histogram2d\",\"colorbar\":{\"outlinewidth\":0,\"ticks\":\"\"},\"colorscale\":[[0.0,\"#0d0887\"],[0.1111111111111111,\"#46039f\"],[0.2222222222222222,\"#7201a8\"],[0.3333333333333333,\"#9c179e\"],[0.4444444444444444,\"#bd3786\"],[0.5555555555555556,\"#d8576b\"],[0.6666666666666666,\"#ed7953\"],[0.7777777777777778,\"#fb9f3a\"],[0.8888888888888888,\"#fdca26\"],[1.0,\"#f0f921\"]]}],\"heatmap\":[{\"type\":\"heatmap\",\"colorbar\":{\"outlinewidth\":0,\"ticks\":\"\"},\"colorscale\":[[0.0,\"#0d0887\"],[0.1111111111111111,\"#46039f\"],[0.2222222222222222,\"#7201a8\"],[0.3333333333333333,\"#9c179e\"],[0.4444444444444444,\"#bd3786\"],[0.5555555555555556,\"#d8576b\"],[0.6666666666666666,\"#ed7953\"],[0.7777777777777778,\"#fb9f3a\"],[0.8888888888888888,\"#fdca26\"],[1.0,\"#f0f921\"]]}],\"heatmapgl\":[{\"type\":\"heatmapgl\",\"colorbar\":{\"outlinewidth\":0,\"ticks\":\"\"},\"colorscale\":[[0.0,\"#0d0887\"],[0.1111111111111111,\"#46039f\"],[0.2222222222222222,\"#7201a8\"],[0.3333333333333333,\"#9c179e\"],[0.4444444444444444,\"#bd3786\"],[0.5555555555555556,\"#d8576b\"],[0.6666666666666666,\"#ed7953\"],[0.7777777777777778,\"#fb9f3a\"],[0.8888888888888888,\"#fdca26\"],[1.0,\"#f0f921\"]]}],\"contourcarpet\":[{\"type\":\"contourcarpet\",\"colorbar\":{\"outlinewidth\":0,\"ticks\":\"\"}}],\"contour\":[{\"type\":\"contour\",\"colorbar\":{\"outlinewidth\":0,\"ticks\":\"\"},\"colorscale\":[[0.0,\"#0d0887\"],[0.1111111111111111,\"#46039f\"],[0.2222222222222222,\"#7201a8\"],[0.3333333333333333,\"#9c179e\"],[0.4444444444444444,\"#bd3786\"],[0.5555555555555556,\"#d8576b\"],[0.6666666666666666,\"#ed7953\"],[0.7777777777777778,\"#fb9f3a\"],[0.8888888888888888,\"#fdca26\"],[1.0,\"#f0f921\"]]}],\"surface\":[{\"type\":\"surface\",\"colorbar\":{\"outlinewidth\":0,\"ticks\":\"\"},\"colorscale\":[[0.0,\"#0d0887\"],[0.1111111111111111,\"#46039f\"],[0.2222222222222222,\"#7201a8\"],[0.3333333333333333,\"#9c179e\"],[0.4444444444444444,\"#bd3786\"],[0.5555555555555556,\"#d8576b\"],[0.6666666666666666,\"#ed7953\"],[0.7777777777777778,\"#fb9f3a\"],[0.8888888888888888,\"#fdca26\"],[1.0,\"#f0f921\"]]}],\"mesh3d\":[{\"type\":\"mesh3d\",\"colorbar\":{\"outlinewidth\":0,\"ticks\":\"\"}}],\"scatter\":[{\"fillpattern\":{\"fillmode\":\"overlay\",\"size\":10,\"solidity\":0.2},\"type\":\"scatter\"}],\"parcoords\":[{\"type\":\"parcoords\",\"line\":{\"colorbar\":{\"outlinewidth\":0,\"ticks\":\"\"}}}],\"scatterpolargl\":[{\"type\":\"scatterpolargl\",\"marker\":{\"colorbar\":{\"outlinewidth\":0,\"ticks\":\"\"}}}],\"bar\":[{\"error_x\":{\"color\":\"#2a3f5f\"},\"error_y\":{\"color\":\"#2a3f5f\"},\"marker\":{\"line\":{\"color\":\"#E5ECF6\",\"width\":0.5},\"pattern\":{\"fillmode\":\"overlay\",\"size\":10,\"solidity\":0.2}},\"type\":\"bar\"}],\"scattergeo\":[{\"type\":\"scattergeo\",\"marker\":{\"colorbar\":{\"outlinewidth\":0,\"ticks\":\"\"}}}],\"scatterpolar\":[{\"type\":\"scatterpolar\",\"marker\":{\"colorbar\":{\"outlinewidth\":0,\"ticks\":\"\"}}}],\"histogram\":[{\"marker\":{\"pattern\":{\"fillmode\":\"overlay\",\"size\":10,\"solidity\":0.2}},\"type\":\"histogram\"}],\"scattergl\":[{\"type\":\"scattergl\",\"marker\":{\"colorbar\":{\"outlinewidth\":0,\"ticks\":\"\"}}}],\"scatter3d\":[{\"type\":\"scatter3d\",\"line\":{\"colorbar\":{\"outlinewidth\":0,\"ticks\":\"\"}},\"marker\":{\"colorbar\":{\"outlinewidth\":0,\"ticks\":\"\"}}}],\"scattermapbox\":[{\"type\":\"scattermapbox\",\"marker\":{\"colorbar\":{\"outlinewidth\":0,\"ticks\":\"\"}}}],\"scatterternary\":[{\"type\":\"scatterternary\",\"marker\":{\"colorbar\":{\"outlinewidth\":0,\"ticks\":\"\"}}}],\"scattercarpet\":[{\"type\":\"scattercarpet\",\"marker\":{\"colorbar\":{\"outlinewidth\":0,\"ticks\":\"\"}}}],\"carpet\":[{\"aaxis\":{\"endlinecolor\":\"#2a3f5f\",\"gridcolor\":\"white\",\"linecolor\":\"white\",\"minorgridcolor\":\"white\",\"startlinecolor\":\"#2a3f5f\"},\"baxis\":{\"endlinecolor\":\"#2a3f5f\",\"gridcolor\":\"white\",\"linecolor\":\"white\",\"minorgridcolor\":\"white\",\"startlinecolor\":\"#2a3f5f\"},\"type\":\"carpet\"}],\"table\":[{\"cells\":{\"fill\":{\"color\":\"#EBF0F8\"},\"line\":{\"color\":\"white\"}},\"header\":{\"fill\":{\"color\":\"#C8D4E3\"},\"line\":{\"color\":\"white\"}},\"type\":\"table\"}],\"barpolar\":[{\"marker\":{\"line\":{\"color\":\"#E5ECF6\",\"width\":0.5},\"pattern\":{\"fillmode\":\"overlay\",\"size\":10,\"solidity\":0.2}},\"type\":\"barpolar\"}],\"pie\":[{\"automargin\":true,\"type\":\"pie\"}]},\"layout\":{\"autotypenumbers\":\"strict\",\"colorway\":[\"#636efa\",\"#EF553B\",\"#00cc96\",\"#ab63fa\",\"#FFA15A\",\"#19d3f3\",\"#FF6692\",\"#B6E880\",\"#FF97FF\",\"#FECB52\"],\"font\":{\"color\":\"#2a3f5f\"},\"hovermode\":\"closest\",\"hoverlabel\":{\"align\":\"left\"},\"paper_bgcolor\":\"white\",\"plot_bgcolor\":\"#E5ECF6\",\"polar\":{\"bgcolor\":\"#E5ECF6\",\"angularaxis\":{\"gridcolor\":\"white\",\"linecolor\":\"white\",\"ticks\":\"\"},\"radialaxis\":{\"gridcolor\":\"white\",\"linecolor\":\"white\",\"ticks\":\"\"}},\"ternary\":{\"bgcolor\":\"#E5ECF6\",\"aaxis\":{\"gridcolor\":\"white\",\"linecolor\":\"white\",\"ticks\":\"\"},\"baxis\":{\"gridcolor\":\"white\",\"linecolor\":\"white\",\"ticks\":\"\"},\"caxis\":{\"gridcolor\":\"white\",\"linecolor\":\"white\",\"ticks\":\"\"}},\"coloraxis\":{\"colorbar\":{\"outlinewidth\":0,\"ticks\":\"\"}},\"colorscale\":{\"sequential\":[[0.0,\"#0d0887\"],[0.1111111111111111,\"#46039f\"],[0.2222222222222222,\"#7201a8\"],[0.3333333333333333,\"#9c179e\"],[0.4444444444444444,\"#bd3786\"],[0.5555555555555556,\"#d8576b\"],[0.6666666666666666,\"#ed7953\"],[0.7777777777777778,\"#fb9f3a\"],[0.8888888888888888,\"#fdca26\"],[1.0,\"#f0f921\"]],\"sequentialminus\":[[0.0,\"#0d0887\"],[0.1111111111111111,\"#46039f\"],[0.2222222222222222,\"#7201a8\"],[0.3333333333333333,\"#9c179e\"],[0.4444444444444444,\"#bd3786\"],[0.5555555555555556,\"#d8576b\"],[0.6666666666666666,\"#ed7953\"],[0.7777777777777778,\"#fb9f3a\"],[0.8888888888888888,\"#fdca26\"],[1.0,\"#f0f921\"]],\"diverging\":[[0,\"#8e0152\"],[0.1,\"#c51b7d\"],[0.2,\"#de77ae\"],[0.3,\"#f1b6da\"],[0.4,\"#fde0ef\"],[0.5,\"#f7f7f7\"],[0.6,\"#e6f5d0\"],[0.7,\"#b8e186\"],[0.8,\"#7fbc41\"],[0.9,\"#4d9221\"],[1,\"#276419\"]]},\"xaxis\":{\"gridcolor\":\"white\",\"linecolor\":\"white\",\"ticks\":\"\",\"title\":{\"standoff\":15},\"zerolinecolor\":\"white\",\"automargin\":true,\"zerolinewidth\":2},\"yaxis\":{\"gridcolor\":\"white\",\"linecolor\":\"white\",\"ticks\":\"\",\"title\":{\"standoff\":15},\"zerolinecolor\":\"white\",\"automargin\":true,\"zerolinewidth\":2},\"scene\":{\"xaxis\":{\"backgroundcolor\":\"#E5ECF6\",\"gridcolor\":\"white\",\"linecolor\":\"white\",\"showbackground\":true,\"ticks\":\"\",\"zerolinecolor\":\"white\",\"gridwidth\":2},\"yaxis\":{\"backgroundcolor\":\"#E5ECF6\",\"gridcolor\":\"white\",\"linecolor\":\"white\",\"showbackground\":true,\"ticks\":\"\",\"zerolinecolor\":\"white\",\"gridwidth\":2},\"zaxis\":{\"backgroundcolor\":\"#E5ECF6\",\"gridcolor\":\"white\",\"linecolor\":\"white\",\"showbackground\":true,\"ticks\":\"\",\"zerolinecolor\":\"white\",\"gridwidth\":2}},\"shapedefaults\":{\"line\":{\"color\":\"#2a3f5f\"}},\"annotationdefaults\":{\"arrowcolor\":\"#2a3f5f\",\"arrowhead\":0,\"arrowwidth\":1},\"geo\":{\"bgcolor\":\"white\",\"landcolor\":\"#E5ECF6\",\"subunitcolor\":\"white\",\"showland\":true,\"showlakes\":true,\"lakecolor\":\"white\"},\"title\":{\"x\":0.05},\"mapbox\":{\"style\":\"light\"}}},\"xaxis\":{\"anchor\":\"y\",\"domain\":[0.0,1.0],\"title\":{\"text\":\"\\u041f\\u043e\\u043b\\u044c\\u0437\\u043e\\u0432\\u0430\\u0442\\u0435\\u043b\\u0435\\u0439 \\u043f\\u0440\\u0438\\u0432\\u043b\\u0435\\u0447\\u0435\\u043d\\u043e\"},\"range\":[2000,4900]},\"yaxis\":{\"anchor\":\"x\",\"domain\":[0.0,1.0],\"title\":{\"text\":\"\\u041a\\u0430\\u043d\\u0430\\u043b \\u043f\\u0440\\u0438\\u0432\\u043b\\u0435\\u0447\\u0435\\u043d\\u0438\\u044f\"}},\"legend\":{\"tracegroupgap\":0},\"margin\":{\"t\":60},\"barmode\":\"relative\",\"title\":{\"text\":\"\\u0427\\u0438\\u0441\\u043b\\u043e \\u043f\\u0440\\u0438\\u0432\\u043b\\u0435\\u0447\\u0451\\u043d\\u043d\\u044b\\u0445 \\u0438\\u0433\\u0440\\u043e\\u043a\\u043e\\u0432 \\u0441 \\u043a\\u0430\\u0436\\u0434\\u043e\\u0433\\u043e \\u0438\\u0441\\u0442\\u043e\\u0447\\u043d\\u0438\\u043a\\u0430\"},\"width\":900,\"height\":300},                        {\"responsive\": true}                    ).then(function(){\n",
              "                            \n",
              "var gd = document.getElementById('241dd55f-0412-40d8-aa10-c9b7904e98a7');\n",
              "var x = new MutationObserver(function (mutations, observer) {{\n",
              "        var display = window.getComputedStyle(gd).display;\n",
              "        if (!display || display === 'none') {{\n",
              "            console.log([gd, 'removed!']);\n",
              "            Plotly.purge(gd);\n",
              "            observer.disconnect();\n",
              "        }}\n",
              "}});\n",
              "\n",
              "// Listen for the removal of the full notebook cells\n",
              "var notebookContainer = gd.closest('#notebook-container');\n",
              "if (notebookContainer) {{\n",
              "    x.observe(notebookContainer, {childList: true});\n",
              "}}\n",
              "\n",
              "// Listen for the clearing of the current output cell\n",
              "var outputEl = gd.closest('.output');\n",
              "if (outputEl) {{\n",
              "    x.observe(outputEl, {childList: true});\n",
              "}}\n",
              "\n",
              "                        })                };                            </script>        </div>\n",
              "</body>\n",
              "</html>"
            ]
          },
          "metadata": {}
        }
      ],
      "source": [
        "# Визуализируем число привлечённых игроков каждым источником\n",
        "fig=px.bar(source_usr_cnt.sort_values('usr_cnt'),\n",
        "           x='usr_cnt', y='source', text='usr_cnt')\n",
        "fig.update_layout(title='Число привлечённых игроков с каждого источника',\n",
        "                 xaxis_title='Пользователей привлечено',\n",
        "                 yaxis_title='Канал привлечения',\n",
        "                 width=900,\n",
        "                 height=300)\n",
        "fig.update_xaxes(range=[2000, 4900])\n",
        "fig.show();"
      ]
    },
    {
      "cell_type": "markdown",
      "metadata": {
        "id": "qRZ7M6WayNcx"
      },
      "source": [
        "- ***Больше всего пользователей пришли из источника*** `yandex_direct`.\n",
        "- `youtube_channel_reklama` ***привёл в игру меньше всего пользователей.***"
      ]
    },
    {
      "cell_type": "code",
      "execution_count": 27,
      "metadata": {
        "scrolled": false,
        "colab": {
          "base_uri": "https://localhost:8080/",
          "height": 597
        },
        "id": "SvJRpBIxyNcx",
        "outputId": "8fd6ad84-5661-441b-da49-ed471f70d548"
      },
      "outputs": [
        {
          "output_type": "display_data",
          "data": {
            "text/plain": [
              "<Figure size 1600x600 with 1 Axes>"
            ],
            "image/png": "[encoded data removed]"
          },
          "metadata": {}
        }
      ],
      "source": [
        "# Визуализируем число привлечённых пользователей с каждого источника по дням\n",
        "(\n",
        "    profiles\n",
        "    .pivot_table(index='first_date', columns='source', values='user_id', aggfunc='nunique')\n",
        "    .plot(figsize=(16,6), grid=True, ylabel='Кол-во пользователей', xlabel='Дата',\n",
        "          title='Число привлечённых пользователей по дням')\n",
        ");"
      ]
    },
    {
      "cell_type": "markdown",
      "metadata": {
        "id": "N4XEhTdoyNcx"
      },
      "source": [
        "- ***Максимальный приток новых пользователей из источников привлечения наблюдается в начале обозреваемого периода.***\n",
        "- ***Далее график идёт на спад в течение всего временного промежутка.***\n",
        "- ***Канал*** `yandex_direct` ***лидирует на протяжении всего отрезка времени, который доступен нам для исследования.***"
      ]
    },
    {
      "cell_type": "markdown",
      "metadata": {
        "id": "axtlHEW_yNcx"
      },
      "source": [
        "<a id='затраты_на_привлечение'></a>\n",
        "### 5.1.3 Затраты на привлечение пользователей"
      ]
    },
    {
      "cell_type": "code",
      "execution_count": 28,
      "metadata": {
        "colab": {
          "base_uri": "https://localhost:8080/",
          "height": 190
        },
        "id": "Co1BOKW9yNcx",
        "outputId": "bbc11167-1c4a-45fb-a47d-c1b8acc4f674"
      },
      "outputs": [
        {
          "output_type": "stream",
          "name": "stdout",
          "text": [
            "За одну неделю потрачено 7603.0 у.е.\n"
          ]
        },
        {
          "output_type": "execute_result",
          "data": {
            "text/plain": [
              "                    source  total_cost\n",
              "0            yandex_direct      2233.0\n",
              "1    instagram_new_adverts      2161.0\n",
              "2             facebook_ads      2141.0\n",
              "3  youtube_channel_reklama      1068.0"
            ],
            "text/html": [
              "\n",
              "  <div id=\"df-97d4f004-434b-493c-b2a5-7f1e5f3ef9a6\">\n",
              "    <div class=\"colab-df-container\">\n",
              "      <div>\n",
              "<style scoped>\n",
              "    .dataframe tbody tr th:only-of-type {\n",
              "        vertical-align: middle;\n",
              "    }\n",
              "\n",
              "    .dataframe tbody tr th {\n",
              "        vertical-align: top;\n",
              "    }\n",
              "\n",
              "    .dataframe thead th {\n",
              "        text-align: right;\n",
              "    }\n",
              "</style>\n",
              "<table border=\"1\" class=\"dataframe\">\n",
              "  <thead>\n",
              "    <tr style=\"text-align: right;\">\n",
              "      <th></th>\n",
              "      <th>source</th>\n",
              "      <th>total_cost</th>\n",
              "    </tr>\n",
              "  </thead>\n",
              "  <tbody>\n",
              "    <tr>\n",
              "      <th>0</th>\n",
              "      <td>yandex_direct</td>\n",
              "      <td>2233.0</td>\n",
              "    </tr>\n",
              "    <tr>\n",
              "      <th>1</th>\n",
              "      <td>instagram_new_adverts</td>\n",
              "      <td>2161.0</td>\n",
              "    </tr>\n",
              "    <tr>\n",
              "      <th>2</th>\n",
              "      <td>facebook_ads</td>\n",
              "      <td>2141.0</td>\n",
              "    </tr>\n",
              "    <tr>\n",
              "      <th>3</th>\n",
              "      <td>youtube_channel_reklama</td>\n",
              "      <td>1068.0</td>\n",
              "    </tr>\n",
              "  </tbody>\n",
              "</table>\n",
              "</div>\n",
              "      <button class=\"colab-df-convert\" onclick=\"convertToInteractive('df-97d4f004-434b-493c-b2a5-7f1e5f3ef9a6')\"\n",
              "              title=\"Convert this dataframe to an interactive table.\"\n",
              "              style=\"display:none;\">\n",
              "        \n",
              "  <svg xmlns=\"http://www.w3.org/2000/svg\" height=\"24px\"viewBox=\"0 0 24 24\"\n",
              "       width=\"24px\">\n",
              "    <path d=\"M0 0h24v24H0V0z\" fill=\"none\"/>\n",
              "    <path d=\"M18.56 5.44l.94 2.06.94-2.06 2.06-.94-2.06-.94-.94-2.06-.94 2.06-2.06.94zm-11 1L8.5 8.5l.94-2.06 2.06-.94-2.06-.94L8.5 2.5l-.94 2.06-2.06.94zm10 10l.94 2.06.94-2.06 2.06-.94-2.06-.94-.94-2.06-.94 2.06-2.06.94z\"/><path d=\"M17.41 7.96l-1.37-1.37c-.4-.4-.92-.59-1.43-.59-.52 0-1.04.2-1.43.59L10.3 9.45l-7.72 7.72c-.78.78-.78 2.05 0 2.83L4 21.41c.39.39.9.59 1.41.59.51 0 1.02-.2 1.41-.59l7.78-7.78 2.81-2.81c.8-.78.8-2.07 0-2.86zM5.41 20L4 18.59l7.72-7.72 1.47 1.35L5.41 20z\"/>\n",
              "  </svg>\n",
              "      </button>\n",
              "      \n",
              "  <style>\n",
              "    .colab-df-container {\n",
              "      display:flex;\n",
              "      flex-wrap:wrap;\n",
              "      gap: 12px;\n",
              "    }\n",
              "\n",
              "    .colab-df-convert {\n",
              "      background-color: #E8F0FE;\n",
              "      border: none;\n",
              "      border-radius: 50%;\n",
              "      cursor: pointer;\n",
              "      display: none;\n",
              "      fill: #1967D2;\n",
              "      height: 32px;\n",
              "      padding: 0 0 0 0;\n",
              "      width: 32px;\n",
              "    }\n",
              "\n",
              "    .colab-df-convert:hover {\n",
              "      background-color: #E2EBFA;\n",
              "      box-shadow: 0px 1px 2px rgba(60, 64, 67, 0.3), 0px 1px 3px 1px rgba(60, 64, 67, 0.15);\n",
              "      fill: #174EA6;\n",
              "    }\n",
              "\n",
              "    [theme=dark] .colab-df-convert {\n",
              "      background-color: #3B4455;\n",
              "      fill: #D2E3FC;\n",
              "    }\n",
              "\n",
              "    [theme=dark] .colab-df-convert:hover {\n",
              "      background-color: #434B5C;\n",
              "      box-shadow: 0px 1px 3px 1px rgba(0, 0, 0, 0.15);\n",
              "      filter: drop-shadow(0px 1px 2px rgba(0, 0, 0, 0.3));\n",
              "      fill: #FFFFFF;\n",
              "    }\n",
              "  </style>\n",
              "\n",
              "      <script>\n",
              "        const buttonEl =\n",
              "          document.querySelector('#df-97d4f004-434b-493c-b2a5-7f1e5f3ef9a6 button.colab-df-convert');\n",
              "        buttonEl.style.display =\n",
              "          google.colab.kernel.accessAllowed ? 'block' : 'none';\n",
              "\n",
              "        async function convertToInteractive(key) {\n",
              "          const element = document.querySelector('#df-97d4f004-434b-493c-b2a5-7f1e5f3ef9a6');\n",
              "          const dataTable =\n",
              "            await google.colab.kernel.invokeFunction('convertToInteractive',\n",
              "                                                     [key], {});\n",
              "          if (!dataTable) return;\n",
              "\n",
              "          const docLinkHtml = 'Like what you see? Visit the ' +\n",
              "            '<a target=\"_blank\" href=https://colab.research.google.com/notebooks/data_table.ipynb>data table notebook</a>'\n",
              "            + ' to learn more about interactive tables.';\n",
              "          element.innerHTML = '';\n",
              "          dataTable['output_type'] = 'display_data';\n",
              "          await google.colab.output.renderOutput(dataTable, element);\n",
              "          const docLink = document.createElement('div');\n",
              "          docLink.innerHTML = docLinkHtml;\n",
              "          element.appendChild(docLink);\n",
              "        }\n",
              "      </script>\n",
              "    </div>\n",
              "  </div>\n",
              "  "
            ]
          },
          "metadata": {},
          "execution_count": 28
        }
      ],
      "source": [
        "# Общие затраты на привлечение пользователей по источникам\n",
        "source_total_cost = (\n",
        "    ad_costs\n",
        "    .groupby('source', as_index=False)\n",
        "    .agg({'cost':'sum'})\n",
        "    .rename(columns={'cost':'total_cost'})\n",
        "    .sort_values('total_cost', ascending=False)\n",
        "    .reset_index(drop=True)\n",
        ")\n",
        "source_total_cost['total_cost'] = source_total_cost['total_cost'].round()\n",
        "print('За одну неделю потрачено', source_total_cost['total_cost'].sum(), 'у.е.')\n",
        "source_total_cost"
      ]
    },
    {
      "cell_type": "code",
      "execution_count": 29,
      "metadata": {
        "colab": {
          "base_uri": "https://localhost:8080/",
          "height": 317
        },
        "id": "n5e6gZztyNcx",
        "outputId": "8f1aa264-f225-4d04-a1cc-ec58b09ab5f5"
      },
      "outputs": [
        {
          "output_type": "display_data",
          "data": {
            "text/html": [
              "<html>\n",
              "<head><meta charset=\"utf-8\" /></head>\n",
              "<body>\n",
              "    <div>            <script src=\"https://cdnjs.cloudflare.com/ajax/libs/mathjax/2.7.5/MathJax.js?config=TeX-AMS-MML_SVG\"></script><script type=\"text/javascript\">if (window.MathJax && window.MathJax.Hub && window.MathJax.Hub.Config) {window.MathJax.Hub.Config({SVG: {font: \"STIX-Web\"}});}</script>                <script type=\"text/javascript\">window.PlotlyConfig = {MathJaxConfig: 'local'};</script>\n",
              "        <script src=\"https://cdn.plot.ly/plotly-2.18.2.min.js\"></script>                <div id=\"0aa9b040-5b6c-4902-835e-2f9a075a0d63\" class=\"plotly-graph-div\" style=\"height:300px; width:900px;\"></div>            <script type=\"text/javascript\">                                    window.PLOTLYENV=window.PLOTLYENV || {};                                    if (document.getElementById(\"0aa9b040-5b6c-4902-835e-2f9a075a0d63\")) {                    Plotly.newPlot(                        \"0aa9b040-5b6c-4902-835e-2f9a075a0d63\",                        [{\"alignmentgroup\":\"True\",\"hovertemplate\":\"total_cost=%{text}<br>source=%{y}<extra></extra>\",\"legendgroup\":\"\",\"marker\":{\"color\":\"#636efa\",\"pattern\":{\"shape\":\"\"}},\"name\":\"\",\"offsetgroup\":\"\",\"orientation\":\"h\",\"showlegend\":false,\"text\":[1068.0,2141.0,2161.0,2233.0],\"textposition\":\"auto\",\"x\":[1068.0,2141.0,2161.0,2233.0],\"xaxis\":\"x\",\"y\":[\"youtube_channel_reklama\",\"facebook_ads\",\"instagram_new_adverts\",\"yandex_direct\"],\"yaxis\":\"y\",\"type\":\"bar\"}],                        {\"template\":{\"data\":{\"histogram2dcontour\":[{\"type\":\"histogram2dcontour\",\"colorbar\":{\"outlinewidth\":0,\"ticks\":\"\"},\"colorscale\":[[0.0,\"#0d0887\"],[0.1111111111111111,\"#46039f\"],[0.2222222222222222,\"#7201a8\"],[0.3333333333333333,\"#9c179e\"],[0.4444444444444444,\"#bd3786\"],[0.5555555555555556,\"#d8576b\"],[0.6666666666666666,\"#ed7953\"],[0.7777777777777778,\"#fb9f3a\"],[0.8888888888888888,\"#fdca26\"],[1.0,\"#f0f921\"]]}],\"choropleth\":[{\"type\":\"choropleth\",\"colorbar\":{\"outlinewidth\":0,\"ticks\":\"\"}}],\"histogram2d\":[{\"type\":\"histogram2d\",\"colorbar\":{\"outlinewidth\":0,\"ticks\":\"\"},\"colorscale\":[[0.0,\"#0d0887\"],[0.1111111111111111,\"#46039f\"],[0.2222222222222222,\"#7201a8\"],[0.3333333333333333,\"#9c179e\"],[0.4444444444444444,\"#bd3786\"],[0.5555555555555556,\"#d8576b\"],[0.6666666666666666,\"#ed7953\"],[0.7777777777777778,\"#fb9f3a\"],[0.8888888888888888,\"#fdca26\"],[1.0,\"#f0f921\"]]}],\"heatmap\":[{\"type\":\"heatmap\",\"colorbar\":{\"outlinewidth\":0,\"ticks\":\"\"},\"colorscale\":[[0.0,\"#0d0887\"],[0.1111111111111111,\"#46039f\"],[0.2222222222222222,\"#7201a8\"],[0.3333333333333333,\"#9c179e\"],[0.4444444444444444,\"#bd3786\"],[0.5555555555555556,\"#d8576b\"],[0.6666666666666666,\"#ed7953\"],[0.7777777777777778,\"#fb9f3a\"],[0.8888888888888888,\"#fdca26\"],[1.0,\"#f0f921\"]]}],\"heatmapgl\":[{\"type\":\"heatmapgl\",\"colorbar\":{\"outlinewidth\":0,\"ticks\":\"\"},\"colorscale\":[[0.0,\"#0d0887\"],[0.1111111111111111,\"#46039f\"],[0.2222222222222222,\"#7201a8\"],[0.3333333333333333,\"#9c179e\"],[0.4444444444444444,\"#bd3786\"],[0.5555555555555556,\"#d8576b\"],[0.6666666666666666,\"#ed7953\"],[0.7777777777777778,\"#fb9f3a\"],[0.8888888888888888,\"#fdca26\"],[1.0,\"#f0f921\"]]}],\"contourcarpet\":[{\"type\":\"contourcarpet\",\"colorbar\":{\"outlinewidth\":0,\"ticks\":\"\"}}],\"contour\":[{\"type\":\"contour\",\"colorbar\":{\"outlinewidth\":0,\"ticks\":\"\"},\"colorscale\":[[0.0,\"#0d0887\"],[0.1111111111111111,\"#46039f\"],[0.2222222222222222,\"#7201a8\"],[0.3333333333333333,\"#9c179e\"],[0.4444444444444444,\"#bd3786\"],[0.5555555555555556,\"#d8576b\"],[0.6666666666666666,\"#ed7953\"],[0.7777777777777778,\"#fb9f3a\"],[0.8888888888888888,\"#fdca26\"],[1.0,\"#f0f921\"]]}],\"surface\":[{\"type\":\"surface\",\"colorbar\":{\"outlinewidth\":0,\"ticks\":\"\"},\"colorscale\":[[0.0,\"#0d0887\"],[0.1111111111111111,\"#46039f\"],[0.2222222222222222,\"#7201a8\"],[0.3333333333333333,\"#9c179e\"],[0.4444444444444444,\"#bd3786\"],[0.5555555555555556,\"#d8576b\"],[0.6666666666666666,\"#ed7953\"],[0.7777777777777778,\"#fb9f3a\"],[0.8888888888888888,\"#fdca26\"],[1.0,\"#f0f921\"]]}],\"mesh3d\":[{\"type\":\"mesh3d\",\"colorbar\":{\"outlinewidth\":0,\"ticks\":\"\"}}],\"scatter\":[{\"fillpattern\":{\"fillmode\":\"overlay\",\"size\":10,\"solidity\":0.2},\"type\":\"scatter\"}],\"parcoords\":[{\"type\":\"parcoords\",\"line\":{\"colorbar\":{\"outlinewidth\":0,\"ticks\":\"\"}}}],\"scatterpolargl\":[{\"type\":\"scatterpolargl\",\"marker\":{\"colorbar\":{\"outlinewidth\":0,\"ticks\":\"\"}}}],\"bar\":[{\"error_x\":{\"color\":\"#2a3f5f\"},\"error_y\":{\"color\":\"#2a3f5f\"},\"marker\":{\"line\":{\"color\":\"#E5ECF6\",\"width\":0.5},\"pattern\":{\"fillmode\":\"overlay\",\"size\":10,\"solidity\":0.2}},\"type\":\"bar\"}],\"scattergeo\":[{\"type\":\"scattergeo\",\"marker\":{\"colorbar\":{\"outlinewidth\":0,\"ticks\":\"\"}}}],\"scatterpolar\":[{\"type\":\"scatterpolar\",\"marker\":{\"colorbar\":{\"outlinewidth\":0,\"ticks\":\"\"}}}],\"histogram\":[{\"marker\":{\"pattern\":{\"fillmode\":\"overlay\",\"size\":10,\"solidity\":0.2}},\"type\":\"histogram\"}],\"scattergl\":[{\"type\":\"scattergl\",\"marker\":{\"colorbar\":{\"outlinewidth\":0,\"ticks\":\"\"}}}],\"scatter3d\":[{\"type\":\"scatter3d\",\"line\":{\"colorbar\":{\"outlinewidth\":0,\"ticks\":\"\"}},\"marker\":{\"colorbar\":{\"outlinewidth\":0,\"ticks\":\"\"}}}],\"scattermapbox\":[{\"type\":\"scattermapbox\",\"marker\":{\"colorbar\":{\"outlinewidth\":0,\"ticks\":\"\"}}}],\"scatterternary\":[{\"type\":\"scatterternary\",\"marker\":{\"colorbar\":{\"outlinewidth\":0,\"ticks\":\"\"}}}],\"scattercarpet\":[{\"type\":\"scattercarpet\",\"marker\":{\"colorbar\":{\"outlinewidth\":0,\"ticks\":\"\"}}}],\"carpet\":[{\"aaxis\":{\"endlinecolor\":\"#2a3f5f\",\"gridcolor\":\"white\",\"linecolor\":\"white\",\"minorgridcolor\":\"white\",\"startlinecolor\":\"#2a3f5f\"},\"baxis\":{\"endlinecolor\":\"#2a3f5f\",\"gridcolor\":\"white\",\"linecolor\":\"white\",\"minorgridcolor\":\"white\",\"startlinecolor\":\"#2a3f5f\"},\"type\":\"carpet\"}],\"table\":[{\"cells\":{\"fill\":{\"color\":\"#EBF0F8\"},\"line\":{\"color\":\"white\"}},\"header\":{\"fill\":{\"color\":\"#C8D4E3\"},\"line\":{\"color\":\"white\"}},\"type\":\"table\"}],\"barpolar\":[{\"marker\":{\"line\":{\"color\":\"#E5ECF6\",\"width\":0.5},\"pattern\":{\"fillmode\":\"overlay\",\"size\":10,\"solidity\":0.2}},\"type\":\"barpolar\"}],\"pie\":[{\"automargin\":true,\"type\":\"pie\"}]},\"layout\":{\"autotypenumbers\":\"strict\",\"colorway\":[\"#636efa\",\"#EF553B\",\"#00cc96\",\"#ab63fa\",\"#FFA15A\",\"#19d3f3\",\"#FF6692\",\"#B6E880\",\"#FF97FF\",\"#FECB52\"],\"font\":{\"color\":\"#2a3f5f\"},\"hovermode\":\"closest\",\"hoverlabel\":{\"align\":\"left\"},\"paper_bgcolor\":\"white\",\"plot_bgcolor\":\"#E5ECF6\",\"polar\":{\"bgcolor\":\"#E5ECF6\",\"angularaxis\":{\"gridcolor\":\"white\",\"linecolor\":\"white\",\"ticks\":\"\"},\"radialaxis\":{\"gridcolor\":\"white\",\"linecolor\":\"white\",\"ticks\":\"\"}},\"ternary\":{\"bgcolor\":\"#E5ECF6\",\"aaxis\":{\"gridcolor\":\"white\",\"linecolor\":\"white\",\"ticks\":\"\"},\"baxis\":{\"gridcolor\":\"white\",\"linecolor\":\"white\",\"ticks\":\"\"},\"caxis\":{\"gridcolor\":\"white\",\"linecolor\":\"white\",\"ticks\":\"\"}},\"coloraxis\":{\"colorbar\":{\"outlinewidth\":0,\"ticks\":\"\"}},\"colorscale\":{\"sequential\":[[0.0,\"#0d0887\"],[0.1111111111111111,\"#46039f\"],[0.2222222222222222,\"#7201a8\"],[0.3333333333333333,\"#9c179e\"],[0.4444444444444444,\"#bd3786\"],[0.5555555555555556,\"#d8576b\"],[0.6666666666666666,\"#ed7953\"],[0.7777777777777778,\"#fb9f3a\"],[0.8888888888888888,\"#fdca26\"],[1.0,\"#f0f921\"]],\"sequentialminus\":[[0.0,\"#0d0887\"],[0.1111111111111111,\"#46039f\"],[0.2222222222222222,\"#7201a8\"],[0.3333333333333333,\"#9c179e\"],[0.4444444444444444,\"#bd3786\"],[0.5555555555555556,\"#d8576b\"],[0.6666666666666666,\"#ed7953\"],[0.7777777777777778,\"#fb9f3a\"],[0.8888888888888888,\"#fdca26\"],[1.0,\"#f0f921\"]],\"diverging\":[[0,\"#8e0152\"],[0.1,\"#c51b7d\"],[0.2,\"#de77ae\"],[0.3,\"#f1b6da\"],[0.4,\"#fde0ef\"],[0.5,\"#f7f7f7\"],[0.6,\"#e6f5d0\"],[0.7,\"#b8e186\"],[0.8,\"#7fbc41\"],[0.9,\"#4d9221\"],[1,\"#276419\"]]},\"xaxis\":{\"gridcolor\":\"white\",\"linecolor\":\"white\",\"ticks\":\"\",\"title\":{\"standoff\":15},\"zerolinecolor\":\"white\",\"automargin\":true,\"zerolinewidth\":2},\"yaxis\":{\"gridcolor\":\"white\",\"linecolor\":\"white\",\"ticks\":\"\",\"title\":{\"standoff\":15},\"zerolinecolor\":\"white\",\"automargin\":true,\"zerolinewidth\":2},\"scene\":{\"xaxis\":{\"backgroundcolor\":\"#E5ECF6\",\"gridcolor\":\"white\",\"linecolor\":\"white\",\"showbackground\":true,\"ticks\":\"\",\"zerolinecolor\":\"white\",\"gridwidth\":2},\"yaxis\":{\"backgroundcolor\":\"#E5ECF6\",\"gridcolor\":\"white\",\"linecolor\":\"white\",\"showbackground\":true,\"ticks\":\"\",\"zerolinecolor\":\"white\",\"gridwidth\":2},\"zaxis\":{\"backgroundcolor\":\"#E5ECF6\",\"gridcolor\":\"white\",\"linecolor\":\"white\",\"showbackground\":true,\"ticks\":\"\",\"zerolinecolor\":\"white\",\"gridwidth\":2}},\"shapedefaults\":{\"line\":{\"color\":\"#2a3f5f\"}},\"annotationdefaults\":{\"arrowcolor\":\"#2a3f5f\",\"arrowhead\":0,\"arrowwidth\":1},\"geo\":{\"bgcolor\":\"white\",\"landcolor\":\"#E5ECF6\",\"subunitcolor\":\"white\",\"showland\":true,\"showlakes\":true,\"lakecolor\":\"white\"},\"title\":{\"x\":0.05},\"mapbox\":{\"style\":\"light\"}}},\"xaxis\":{\"anchor\":\"y\",\"domain\":[0.0,1.0],\"title\":{\"text\":\"\\u041f\\u043e\\u0442\\u0440\\u0430\\u0447\\u0435\\u043d\\u043e, \\u0443.\\u0435.\"},\"range\":[500,2250]},\"yaxis\":{\"anchor\":\"x\",\"domain\":[0.0,1.0],\"title\":{\"text\":\"\\u0418\\u0441\\u0442\\u043e\\u0447\\u043d\\u0438\\u043a \\u043f\\u0440\\u0438\\u0432\\u043b\\u0435\\u0447\\u0435\\u043d\\u0438\\u044f\"}},\"legend\":{\"tracegroupgap\":0},\"margin\":{\"t\":60},\"barmode\":\"relative\",\"title\":{\"text\":\"\\u0417\\u0430\\u0442\\u0440\\u0430\\u0442\\u044b \\u043d\\u0430 \\u043f\\u0440\\u0438\\u0432\\u043b\\u0435\\u0447\\u0435\\u043d\\u0438\\u0435 \\u043f\\u043e\\u043b\\u044c\\u0437\\u043e\\u0432\\u0430\\u0442\\u0435\\u043b\\u0435\\u0439 \\u043f\\u043e \\u043a\\u0430\\u043d\\u0430\\u043b\\u0430\\u043c \\u0437\\u0430 \\u043d\\u0435\\u0434\\u0435\\u043b\\u044e\"},\"width\":900,\"height\":300},                        {\"responsive\": true}                    ).then(function(){\n",
              "                            \n",
              "var gd = document.getElementById('0aa9b040-5b6c-4902-835e-2f9a075a0d63');\n",
              "var x = new MutationObserver(function (mutations, observer) {{\n",
              "        var display = window.getComputedStyle(gd).display;\n",
              "        if (!display || display === 'none') {{\n",
              "            console.log([gd, 'removed!']);\n",
              "            Plotly.purge(gd);\n",
              "            observer.disconnect();\n",
              "        }}\n",
              "}});\n",
              "\n",
              "// Listen for the removal of the full notebook cells\n",
              "var notebookContainer = gd.closest('#notebook-container');\n",
              "if (notebookContainer) {{\n",
              "    x.observe(notebookContainer, {childList: true});\n",
              "}}\n",
              "\n",
              "// Listen for the clearing of the current output cell\n",
              "var outputEl = gd.closest('.output');\n",
              "if (outputEl) {{\n",
              "    x.observe(outputEl, {childList: true});\n",
              "}}\n",
              "\n",
              "                        })                };                            </script>        </div>\n",
              "</body>\n",
              "</html>"
            ]
          },
          "metadata": {}
        }
      ],
      "source": [
        "# Визуализируем затраты по источникам\n",
        "fig=px.bar(source_total_cost.sort_values('total_cost'),\n",
        "           x='total_cost', y='source', text='total_cost')\n",
        "fig.update_layout(title='Затраты на привлечение пользователей по каналам за неделю',\n",
        "                 xaxis_title='Потрачено, у.е.',\n",
        "                 yaxis_title='Источник привлечения',\n",
        "                 width=900,\n",
        "                 height=300)\n",
        "fig.update_xaxes(range=[500, 2250])\n",
        "fig.show();"
      ]
    },
    {
      "cell_type": "code",
      "execution_count": 30,
      "metadata": {
        "colab": {
          "base_uri": "https://localhost:8080/",
          "height": 675
        },
        "id": "PMn9LXQpyNcx",
        "outputId": "65b1fc64-5337-44c9-a8a3-b893259d640b"
      },
      "outputs": [
        {
          "output_type": "display_data",
          "data": {
            "text/plain": [
              "<Figure size 1500x800 with 1 Axes>"
            ],
            "image/png": "[encoded data removed]"
          },
          "metadata": {}
        }
      ],
      "source": [
        "# Доли затрат по каналам\n",
        "(\n",
        "    ad_costs\n",
        "    .groupby('source')['cost'].sum()\n",
        "    .plot(kind='pie', y='cost', autopct='%1.0f%%',\n",
        "          figsize=(15,8),\n",
        "          title='Распределение затрат на привлечение пользователей по каналам',\n",
        "          ylabel='',\n",
        "          shadow=True));"
      ]
    },
    {
      "cell_type": "markdown",
      "metadata": {
        "id": "nDn8x6c3yNcy"
      },
      "source": [
        "- ***Тройка лидеров по затратам*** (`yandex`, `instagram` и `facebook`) ***имеют не особо большую разницу во вложенных средствах. За неделю на каждый из этих трёх источников было потрачено*** `2 141` - `2 233 у.е.`\n",
        "- ***В рекламу на*** `youtube` за 7 дней было вложено `1 068 у.е.`, ***что в два раза меньше, чем любой другой источник.***"
      ]
    },
    {
      "cell_type": "code",
      "execution_count": 31,
      "metadata": {
        "colab": {
          "base_uri": "https://localhost:8080/",
          "height": 597
        },
        "id": "5d8Osv-1yNcy",
        "outputId": "83a12e66-f33d-4647-e73f-dd3831d1ec3e"
      },
      "outputs": [
        {
          "output_type": "display_data",
          "data": {
            "text/plain": [
              "<Figure size 1600x600 with 1 Axes>"
            ],
            "image/png": "[encoded data removed]"
          },
          "metadata": {}
        }
      ],
      "source": [
        "# Визуализируем затраты на привлечение пользователей по дням\n",
        "(\n",
        "    ad_costs\n",
        "    .pivot_table(index='day', columns='source', values='cost')\n",
        "    .plot(figsize=(16,6), grid=True, ylabel='Затраты, у.е.', xlabel='Дата', title='Затраты на привлечение по дням')\n",
        ");"
      ]
    },
    {
      "cell_type": "markdown",
      "metadata": {
        "id": "PruE-6syyNcy"
      },
      "source": [
        "- ***Максимальные затраты были в начале исследуемого периода (03.05.2020).***\n",
        "- ***Далее вложения становятся меньше с каждым днём, стремясь к нулю около 09.05.2020***\n",
        "\n",
        "**Вложения в рекламу, судя по всему, происходили авансом, т.к. из предыдущих графиков и таблиц мы видим, что данные о притоке пользователей начинаются с 04.05.2020 - на день позже от даты начала вложений в рекламу.**"
      ]
    },
    {
      "cell_type": "code",
      "execution_count": 32,
      "metadata": {
        "scrolled": true,
        "colab": {
          "base_uri": "https://localhost:8080/",
          "height": 173
        },
        "id": "V04JPDPbyNcy",
        "outputId": "5a0cded1-79e7-4034-833c-1c41e848f8a6"
      },
      "outputs": [
        {
          "output_type": "execute_result",
          "data": {
            "text/plain": [
              "                    source  total_cost  usr_cnt   CAC\n",
              "0             facebook_ads      2141.0     2726  0.79\n",
              "1    instagram_new_adverts      2161.0     3347  0.65\n",
              "2            yandex_direct      2233.0     4817  0.46\n",
              "3  youtube_channel_reklama      1068.0     2686  0.40"
            ],
            "text/html": [
              "\n",
              "  <div id=\"df-2d46709d-01bc-4fc5-bfa0-60de1217226e\">\n",
              "    <div class=\"colab-df-container\">\n",
              "      <div>\n",
              "<style scoped>\n",
              "    .dataframe tbody tr th:only-of-type {\n",
              "        vertical-align: middle;\n",
              "    }\n",
              "\n",
              "    .dataframe tbody tr th {\n",
              "        vertical-align: top;\n",
              "    }\n",
              "\n",
              "    .dataframe thead th {\n",
              "        text-align: right;\n",
              "    }\n",
              "</style>\n",
              "<table border=\"1\" class=\"dataframe\">\n",
              "  <thead>\n",
              "    <tr style=\"text-align: right;\">\n",
              "      <th></th>\n",
              "      <th>source</th>\n",
              "      <th>total_cost</th>\n",
              "      <th>usr_cnt</th>\n",
              "      <th>CAC</th>\n",
              "    </tr>\n",
              "  </thead>\n",
              "  <tbody>\n",
              "    <tr>\n",
              "      <th>0</th>\n",
              "      <td>facebook_ads</td>\n",
              "      <td>2141.0</td>\n",
              "      <td>2726</td>\n",
              "      <td>0.79</td>\n",
              "    </tr>\n",
              "    <tr>\n",
              "      <th>1</th>\n",
              "      <td>instagram_new_adverts</td>\n",
              "      <td>2161.0</td>\n",
              "      <td>3347</td>\n",
              "      <td>0.65</td>\n",
              "    </tr>\n",
              "    <tr>\n",
              "      <th>2</th>\n",
              "      <td>yandex_direct</td>\n",
              "      <td>2233.0</td>\n",
              "      <td>4817</td>\n",
              "      <td>0.46</td>\n",
              "    </tr>\n",
              "    <tr>\n",
              "      <th>3</th>\n",
              "      <td>youtube_channel_reklama</td>\n",
              "      <td>1068.0</td>\n",
              "      <td>2686</td>\n",
              "      <td>0.40</td>\n",
              "    </tr>\n",
              "  </tbody>\n",
              "</table>\n",
              "</div>\n",
              "      <button class=\"colab-df-convert\" onclick=\"convertToInteractive('df-2d46709d-01bc-4fc5-bfa0-60de1217226e')\"\n",
              "              title=\"Convert this dataframe to an interactive table.\"\n",
              "              style=\"display:none;\">\n",
              "        \n",
              "  <svg xmlns=\"http://www.w3.org/2000/svg\" height=\"24px\"viewBox=\"0 0 24 24\"\n",
              "       width=\"24px\">\n",
              "    <path d=\"M0 0h24v24H0V0z\" fill=\"none\"/>\n",
              "    <path d=\"M18.56 5.44l.94 2.06.94-2.06 2.06-.94-2.06-.94-.94-2.06-.94 2.06-2.06.94zm-11 1L8.5 8.5l.94-2.06 2.06-.94-2.06-.94L8.5 2.5l-.94 2.06-2.06.94zm10 10l.94 2.06.94-2.06 2.06-.94-2.06-.94-.94-2.06-.94 2.06-2.06.94z\"/><path d=\"M17.41 7.96l-1.37-1.37c-.4-.4-.92-.59-1.43-.59-.52 0-1.04.2-1.43.59L10.3 9.45l-7.72 7.72c-.78.78-.78 2.05 0 2.83L4 21.41c.39.39.9.59 1.41.59.51 0 1.02-.2 1.41-.59l7.78-7.78 2.81-2.81c.8-.78.8-2.07 0-2.86zM5.41 20L4 18.59l7.72-7.72 1.47 1.35L5.41 20z\"/>\n",
              "  </svg>\n",
              "      </button>\n",
              "      \n",
              "  <style>\n",
              "    .colab-df-container {\n",
              "      display:flex;\n",
              "      flex-wrap:wrap;\n",
              "      gap: 12px;\n",
              "    }\n",
              "\n",
              "    .colab-df-convert {\n",
              "      background-color: #E8F0FE;\n",
              "      border: none;\n",
              "      border-radius: 50%;\n",
              "      cursor: pointer;\n",
              "      display: none;\n",
              "      fill: #1967D2;\n",
              "      height: 32px;\n",
              "      padding: 0 0 0 0;\n",
              "      width: 32px;\n",
              "    }\n",
              "\n",
              "    .colab-df-convert:hover {\n",
              "      background-color: #E2EBFA;\n",
              "      box-shadow: 0px 1px 2px rgba(60, 64, 67, 0.3), 0px 1px 3px 1px rgba(60, 64, 67, 0.15);\n",
              "      fill: #174EA6;\n",
              "    }\n",
              "\n",
              "    [theme=dark] .colab-df-convert {\n",
              "      background-color: #3B4455;\n",
              "      fill: #D2E3FC;\n",
              "    }\n",
              "\n",
              "    [theme=dark] .colab-df-convert:hover {\n",
              "      background-color: #434B5C;\n",
              "      box-shadow: 0px 1px 3px 1px rgba(0, 0, 0, 0.15);\n",
              "      filter: drop-shadow(0px 1px 2px rgba(0, 0, 0, 0.3));\n",
              "      fill: #FFFFFF;\n",
              "    }\n",
              "  </style>\n",
              "\n",
              "      <script>\n",
              "        const buttonEl =\n",
              "          document.querySelector('#df-2d46709d-01bc-4fc5-bfa0-60de1217226e button.colab-df-convert');\n",
              "        buttonEl.style.display =\n",
              "          google.colab.kernel.accessAllowed ? 'block' : 'none';\n",
              "\n",
              "        async function convertToInteractive(key) {\n",
              "          const element = document.querySelector('#df-2d46709d-01bc-4fc5-bfa0-60de1217226e');\n",
              "          const dataTable =\n",
              "            await google.colab.kernel.invokeFunction('convertToInteractive',\n",
              "                                                     [key], {});\n",
              "          if (!dataTable) return;\n",
              "\n",
              "          const docLinkHtml = 'Like what you see? Visit the ' +\n",
              "            '<a target=\"_blank\" href=https://colab.research.google.com/notebooks/data_table.ipynb>data table notebook</a>'\n",
              "            + ' to learn more about interactive tables.';\n",
              "          element.innerHTML = '';\n",
              "          dataTable['output_type'] = 'display_data';\n",
              "          await google.colab.output.renderOutput(dataTable, element);\n",
              "          const docLink = document.createElement('div');\n",
              "          docLink.innerHTML = docLinkHtml;\n",
              "          element.appendChild(docLink);\n",
              "        }\n",
              "      </script>\n",
              "    </div>\n",
              "  </div>\n",
              "  "
            ]
          },
          "metadata": {},
          "execution_count": 32
        }
      ],
      "source": [
        "# Стоимость привлечения одного пользователя (САС)\n",
        "source_cost_user = source_total_cost.merge(source_usr_cnt, on='source', how='left')\n",
        "source_cost_user['CAC'] = round(source_cost_user['total_cost'] / source_cost_user['usr_cnt'], 2)\n",
        "source_cost_user.sort_values('CAC', ascending=False).reset_index(drop=True)"
      ]
    },
    {
      "cell_type": "code",
      "execution_count": 33,
      "metadata": {
        "colab": {
          "base_uri": "https://localhost:8080/",
          "height": 317
        },
        "id": "JouQLtNpyNcy",
        "outputId": "53e7ecfd-78cc-4f25-c648-4062001e9203"
      },
      "outputs": [
        {
          "output_type": "display_data",
          "data": {
            "text/html": [
              "<html>\n",
              "<head><meta charset=\"utf-8\" /></head>\n",
              "<body>\n",
              "    <div>            <script src=\"https://cdnjs.cloudflare.com/ajax/libs/mathjax/2.7.5/MathJax.js?config=TeX-AMS-MML_SVG\"></script><script type=\"text/javascript\">if (window.MathJax && window.MathJax.Hub && window.MathJax.Hub.Config) {window.MathJax.Hub.Config({SVG: {font: \"STIX-Web\"}});}</script>                <script type=\"text/javascript\">window.PlotlyConfig = {MathJaxConfig: 'local'};</script>\n",
              "        <script src=\"https://cdn.plot.ly/plotly-2.18.2.min.js\"></script>                <div id=\"492b12eb-c85c-46a1-8605-44522f03e494\" class=\"plotly-graph-div\" style=\"height:300px; width:900px;\"></div>            <script type=\"text/javascript\">                                    window.PLOTLYENV=window.PLOTLYENV || {};                                    if (document.getElementById(\"492b12eb-c85c-46a1-8605-44522f03e494\")) {                    Plotly.newPlot(                        \"492b12eb-c85c-46a1-8605-44522f03e494\",                        [{\"alignmentgroup\":\"True\",\"hovertemplate\":\"CAC=%{text}<br>source=%{y}<extra></extra>\",\"legendgroup\":\"\",\"marker\":{\"color\":\"#636efa\",\"pattern\":{\"shape\":\"\"}},\"name\":\"\",\"offsetgroup\":\"\",\"orientation\":\"h\",\"showlegend\":false,\"text\":[0.4,0.46,0.65,0.79],\"textposition\":\"auto\",\"x\":[0.4,0.46,0.65,0.79],\"xaxis\":\"x\",\"y\":[\"youtube_channel_reklama\",\"yandex_direct\",\"instagram_new_adverts\",\"facebook_ads\"],\"yaxis\":\"y\",\"type\":\"bar\"}],                        {\"template\":{\"data\":{\"histogram2dcontour\":[{\"type\":\"histogram2dcontour\",\"colorbar\":{\"outlinewidth\":0,\"ticks\":\"\"},\"colorscale\":[[0.0,\"#0d0887\"],[0.1111111111111111,\"#46039f\"],[0.2222222222222222,\"#7201a8\"],[0.3333333333333333,\"#9c179e\"],[0.4444444444444444,\"#bd3786\"],[0.5555555555555556,\"#d8576b\"],[0.6666666666666666,\"#ed7953\"],[0.7777777777777778,\"#fb9f3a\"],[0.8888888888888888,\"#fdca26\"],[1.0,\"#f0f921\"]]}],\"choropleth\":[{\"type\":\"choropleth\",\"colorbar\":{\"outlinewidth\":0,\"ticks\":\"\"}}],\"histogram2d\":[{\"type\":\"histogram2d\",\"colorbar\":{\"outlinewidth\":0,\"ticks\":\"\"},\"colorscale\":[[0.0,\"#0d0887\"],[0.1111111111111111,\"#46039f\"],[0.2222222222222222,\"#7201a8\"],[0.3333333333333333,\"#9c179e\"],[0.4444444444444444,\"#bd3786\"],[0.5555555555555556,\"#d8576b\"],[0.6666666666666666,\"#ed7953\"],[0.7777777777777778,\"#fb9f3a\"],[0.8888888888888888,\"#fdca26\"],[1.0,\"#f0f921\"]]}],\"heatmap\":[{\"type\":\"heatmap\",\"colorbar\":{\"outlinewidth\":0,\"ticks\":\"\"},\"colorscale\":[[0.0,\"#0d0887\"],[0.1111111111111111,\"#46039f\"],[0.2222222222222222,\"#7201a8\"],[0.3333333333333333,\"#9c179e\"],[0.4444444444444444,\"#bd3786\"],[0.5555555555555556,\"#d8576b\"],[0.6666666666666666,\"#ed7953\"],[0.7777777777777778,\"#fb9f3a\"],[0.8888888888888888,\"#fdca26\"],[1.0,\"#f0f921\"]]}],\"heatmapgl\":[{\"type\":\"heatmapgl\",\"colorbar\":{\"outlinewidth\":0,\"ticks\":\"\"},\"colorscale\":[[0.0,\"#0d0887\"],[0.1111111111111111,\"#46039f\"],[0.2222222222222222,\"#7201a8\"],[0.3333333333333333,\"#9c179e\"],[0.4444444444444444,\"#bd3786\"],[0.5555555555555556,\"#d8576b\"],[0.6666666666666666,\"#ed7953\"],[0.7777777777777778,\"#fb9f3a\"],[0.8888888888888888,\"#fdca26\"],[1.0,\"#f0f921\"]]}],\"contourcarpet\":[{\"type\":\"contourcarpet\",\"colorbar\":{\"outlinewidth\":0,\"ticks\":\"\"}}],\"contour\":[{\"type\":\"contour\",\"colorbar\":{\"outlinewidth\":0,\"ticks\":\"\"},\"colorscale\":[[0.0,\"#0d0887\"],[0.1111111111111111,\"#46039f\"],[0.2222222222222222,\"#7201a8\"],[0.3333333333333333,\"#9c179e\"],[0.4444444444444444,\"#bd3786\"],[0.5555555555555556,\"#d8576b\"],[0.6666666666666666,\"#ed7953\"],[0.7777777777777778,\"#fb9f3a\"],[0.8888888888888888,\"#fdca26\"],[1.0,\"#f0f921\"]]}],\"surface\":[{\"type\":\"surface\",\"colorbar\":{\"outlinewidth\":0,\"ticks\":\"\"},\"colorscale\":[[0.0,\"#0d0887\"],[0.1111111111111111,\"#46039f\"],[0.2222222222222222,\"#7201a8\"],[0.3333333333333333,\"#9c179e\"],[0.4444444444444444,\"#bd3786\"],[0.5555555555555556,\"#d8576b\"],[0.6666666666666666,\"#ed7953\"],[0.7777777777777778,\"#fb9f3a\"],[0.8888888888888888,\"#fdca26\"],[1.0,\"#f0f921\"]]}],\"mesh3d\":[{\"type\":\"mesh3d\",\"colorbar\":{\"outlinewidth\":0,\"ticks\":\"\"}}],\"scatter\":[{\"fillpattern\":{\"fillmode\":\"overlay\",\"size\":10,\"solidity\":0.2},\"type\":\"scatter\"}],\"parcoords\":[{\"type\":\"parcoords\",\"line\":{\"colorbar\":{\"outlinewidth\":0,\"ticks\":\"\"}}}],\"scatterpolargl\":[{\"type\":\"scatterpolargl\",\"marker\":{\"colorbar\":{\"outlinewidth\":0,\"ticks\":\"\"}}}],\"bar\":[{\"error_x\":{\"color\":\"#2a3f5f\"},\"error_y\":{\"color\":\"#2a3f5f\"},\"marker\":{\"line\":{\"color\":\"#E5ECF6\",\"width\":0.5},\"pattern\":{\"fillmode\":\"overlay\",\"size\":10,\"solidity\":0.2}},\"type\":\"bar\"}],\"scattergeo\":[{\"type\":\"scattergeo\",\"marker\":{\"colorbar\":{\"outlinewidth\":0,\"ticks\":\"\"}}}],\"scatterpolar\":[{\"type\":\"scatterpolar\",\"marker\":{\"colorbar\":{\"outlinewidth\":0,\"ticks\":\"\"}}}],\"histogram\":[{\"marker\":{\"pattern\":{\"fillmode\":\"overlay\",\"size\":10,\"solidity\":0.2}},\"type\":\"histogram\"}],\"scattergl\":[{\"type\":\"scattergl\",\"marker\":{\"colorbar\":{\"outlinewidth\":0,\"ticks\":\"\"}}}],\"scatter3d\":[{\"type\":\"scatter3d\",\"line\":{\"colorbar\":{\"outlinewidth\":0,\"ticks\":\"\"}},\"marker\":{\"colorbar\":{\"outlinewidth\":0,\"ticks\":\"\"}}}],\"scattermapbox\":[{\"type\":\"scattermapbox\",\"marker\":{\"colorbar\":{\"outlinewidth\":0,\"ticks\":\"\"}}}],\"scatterternary\":[{\"type\":\"scatterternary\",\"marker\":{\"colorbar\":{\"outlinewidth\":0,\"ticks\":\"\"}}}],\"scattercarpet\":[{\"type\":\"scattercarpet\",\"marker\":{\"colorbar\":{\"outlinewidth\":0,\"ticks\":\"\"}}}],\"carpet\":[{\"aaxis\":{\"endlinecolor\":\"#2a3f5f\",\"gridcolor\":\"white\",\"linecolor\":\"white\",\"minorgridcolor\":\"white\",\"startlinecolor\":\"#2a3f5f\"},\"baxis\":{\"endlinecolor\":\"#2a3f5f\",\"gridcolor\":\"white\",\"linecolor\":\"white\",\"minorgridcolor\":\"white\",\"startlinecolor\":\"#2a3f5f\"},\"type\":\"carpet\"}],\"table\":[{\"cells\":{\"fill\":{\"color\":\"#EBF0F8\"},\"line\":{\"color\":\"white\"}},\"header\":{\"fill\":{\"color\":\"#C8D4E3\"},\"line\":{\"color\":\"white\"}},\"type\":\"table\"}],\"barpolar\":[{\"marker\":{\"line\":{\"color\":\"#E5ECF6\",\"width\":0.5},\"pattern\":{\"fillmode\":\"overlay\",\"size\":10,\"solidity\":0.2}},\"type\":\"barpolar\"}],\"pie\":[{\"automargin\":true,\"type\":\"pie\"}]},\"layout\":{\"autotypenumbers\":\"strict\",\"colorway\":[\"#636efa\",\"#EF553B\",\"#00cc96\",\"#ab63fa\",\"#FFA15A\",\"#19d3f3\",\"#FF6692\",\"#B6E880\",\"#FF97FF\",\"#FECB52\"],\"font\":{\"color\":\"#2a3f5f\"},\"hovermode\":\"closest\",\"hoverlabel\":{\"align\":\"left\"},\"paper_bgcolor\":\"white\",\"plot_bgcolor\":\"#E5ECF6\",\"polar\":{\"bgcolor\":\"#E5ECF6\",\"angularaxis\":{\"gridcolor\":\"white\",\"linecolor\":\"white\",\"ticks\":\"\"},\"radialaxis\":{\"gridcolor\":\"white\",\"linecolor\":\"white\",\"ticks\":\"\"}},\"ternary\":{\"bgcolor\":\"#E5ECF6\",\"aaxis\":{\"gridcolor\":\"white\",\"linecolor\":\"white\",\"ticks\":\"\"},\"baxis\":{\"gridcolor\":\"white\",\"linecolor\":\"white\",\"ticks\":\"\"},\"caxis\":{\"gridcolor\":\"white\",\"linecolor\":\"white\",\"ticks\":\"\"}},\"coloraxis\":{\"colorbar\":{\"outlinewidth\":0,\"ticks\":\"\"}},\"colorscale\":{\"sequential\":[[0.0,\"#0d0887\"],[0.1111111111111111,\"#46039f\"],[0.2222222222222222,\"#7201a8\"],[0.3333333333333333,\"#9c179e\"],[0.4444444444444444,\"#bd3786\"],[0.5555555555555556,\"#d8576b\"],[0.6666666666666666,\"#ed7953\"],[0.7777777777777778,\"#fb9f3a\"],[0.8888888888888888,\"#fdca26\"],[1.0,\"#f0f921\"]],\"sequentialminus\":[[0.0,\"#0d0887\"],[0.1111111111111111,\"#46039f\"],[0.2222222222222222,\"#7201a8\"],[0.3333333333333333,\"#9c179e\"],[0.4444444444444444,\"#bd3786\"],[0.5555555555555556,\"#d8576b\"],[0.6666666666666666,\"#ed7953\"],[0.7777777777777778,\"#fb9f3a\"],[0.8888888888888888,\"#fdca26\"],[1.0,\"#f0f921\"]],\"diverging\":[[0,\"#8e0152\"],[0.1,\"#c51b7d\"],[0.2,\"#de77ae\"],[0.3,\"#f1b6da\"],[0.4,\"#fde0ef\"],[0.5,\"#f7f7f7\"],[0.6,\"#e6f5d0\"],[0.7,\"#b8e186\"],[0.8,\"#7fbc41\"],[0.9,\"#4d9221\"],[1,\"#276419\"]]},\"xaxis\":{\"gridcolor\":\"white\",\"linecolor\":\"white\",\"ticks\":\"\",\"title\":{\"standoff\":15},\"zerolinecolor\":\"white\",\"automargin\":true,\"zerolinewidth\":2},\"yaxis\":{\"gridcolor\":\"white\",\"linecolor\":\"white\",\"ticks\":\"\",\"title\":{\"standoff\":15},\"zerolinecolor\":\"white\",\"automargin\":true,\"zerolinewidth\":2},\"scene\":{\"xaxis\":{\"backgroundcolor\":\"#E5ECF6\",\"gridcolor\":\"white\",\"linecolor\":\"white\",\"showbackground\":true,\"ticks\":\"\",\"zerolinecolor\":\"white\",\"gridwidth\":2},\"yaxis\":{\"backgroundcolor\":\"#E5ECF6\",\"gridcolor\":\"white\",\"linecolor\":\"white\",\"showbackground\":true,\"ticks\":\"\",\"zerolinecolor\":\"white\",\"gridwidth\":2},\"zaxis\":{\"backgroundcolor\":\"#E5ECF6\",\"gridcolor\":\"white\",\"linecolor\":\"white\",\"showbackground\":true,\"ticks\":\"\",\"zerolinecolor\":\"white\",\"gridwidth\":2}},\"shapedefaults\":{\"line\":{\"color\":\"#2a3f5f\"}},\"annotationdefaults\":{\"arrowcolor\":\"#2a3f5f\",\"arrowhead\":0,\"arrowwidth\":1},\"geo\":{\"bgcolor\":\"white\",\"landcolor\":\"#E5ECF6\",\"subunitcolor\":\"white\",\"showland\":true,\"showlakes\":true,\"lakecolor\":\"white\"},\"title\":{\"x\":0.05},\"mapbox\":{\"style\":\"light\"}}},\"xaxis\":{\"anchor\":\"y\",\"domain\":[0.0,1.0],\"title\":{\"text\":\"\\u0421\\u0442\\u043e\\u0438\\u043c\\u043e\\u0441\\u0442\\u044c \\u0432 \\u0443.\\u0435.\"},\"range\":[0.3,0.8]},\"yaxis\":{\"anchor\":\"x\",\"domain\":[0.0,1.0],\"title\":{\"text\":\"\\u0418\\u0441\\u0442\\u043e\\u0447\\u043d\\u0438\\u043a \\u043f\\u0440\\u0438\\u0432\\u043b\\u0435\\u0447\\u0435\\u043d\\u0438\\u044f \\u043f\\u043e\\u043b\\u044c\\u0437\\u043e\\u0432\\u0430\\u0442\\u0435\\u043b\\u0435\\u0439\"}},\"legend\":{\"tracegroupgap\":0},\"margin\":{\"t\":60},\"barmode\":\"relative\",\"title\":{\"text\":\"\\u0421\\u0442\\u043e\\u0438\\u043c\\u043e\\u0441\\u0442\\u044c \\u043f\\u0440\\u0438\\u0432\\u043b\\u0435\\u0447\\u0435\\u043d\\u0438\\u044f \\u0438\\u0433\\u0440\\u043e\\u043a\\u0430 \\u0432 \\u0443.\\u0435.\"},\"width\":900,\"height\":300},                        {\"responsive\": true}                    ).then(function(){\n",
              "                            \n",
              "var gd = document.getElementById('492b12eb-c85c-46a1-8605-44522f03e494');\n",
              "var x = new MutationObserver(function (mutations, observer) {{\n",
              "        var display = window.getComputedStyle(gd).display;\n",
              "        if (!display || display === 'none') {{\n",
              "            console.log([gd, 'removed!']);\n",
              "            Plotly.purge(gd);\n",
              "            observer.disconnect();\n",
              "        }}\n",
              "}});\n",
              "\n",
              "// Listen for the removal of the full notebook cells\n",
              "var notebookContainer = gd.closest('#notebook-container');\n",
              "if (notebookContainer) {{\n",
              "    x.observe(notebookContainer, {childList: true});\n",
              "}}\n",
              "\n",
              "// Listen for the clearing of the current output cell\n",
              "var outputEl = gd.closest('.output');\n",
              "if (outputEl) {{\n",
              "    x.observe(outputEl, {childList: true});\n",
              "}}\n",
              "\n",
              "                        })                };                            </script>        </div>\n",
              "</body>\n",
              "</html>"
            ]
          },
          "metadata": {}
        }
      ],
      "source": [
        "# Визуализируем \"стоимость игрока\"\n",
        "fig=px.bar(source_cost_user.sort_values('CAC'),\n",
        "           x='CAC', y='source', text='CAC')\n",
        "fig.update_layout(title='Стоимость привлечения игрока в у.е.',\n",
        "                 xaxis_title='Стоимость в у.е.',\n",
        "                 yaxis_title='Источник привлечения пользователей',\n",
        "                 width=900,\n",
        "                 height=300)\n",
        "fig.update_xaxes(range=[0.3, 0.8])\n",
        "fig.show();"
      ]
    },
    {
      "cell_type": "markdown",
      "metadata": {
        "id": "RGNb07u3yNcy"
      },
      "source": [
        "- ***Дороже всего обходятся пользователи, пришедшие с*** `facebook_ads`, ***дешевле всего - с*** `youtube_channel_reklama`.\n",
        "- ***Лидером по соотношению количество/стоимость привлечения пользователя является*** `yandex_direct`.\n",
        "- ***Так, при стоимости привлечения пользователя в*** `0.46 у.е.` ***за одну неделю каналом*** `yandex_direct` ***в игру было привлечено*** `4 817` ***пользователей;***\n",
        "- ***Канал*** `facebook_ads` ***при стоимости привлечения*** `0.79 у.е.` ***привёл в игру за неделю*** `2 726` ***пользователей.***\n",
        "- ***дешевле только у*** `youtube_channel_reklama`, ***с этого источника пришло почти в два раза меньше чем с*** `yandex_direct` ***игроков, но и затраты на этот канал привлечения были почти в два раза меньше, чем в остальные.***"
      ]
    },
    {
      "cell_type": "markdown",
      "metadata": {
        "id": "VS9tg3aLyNcz"
      },
      "source": [
        "<a id='влияние'></a>\n",
        "## 5.2 Влияние источника перехода в игру на поведение пользователя."
      ]
    },
    {
      "cell_type": "markdown",
      "metadata": {
        "id": "Gvm7MFt9yNcz"
      },
      "source": [
        "<a id='факт_прохождения'></a>\n",
        "### 5.2.1 Факт прохождения первого уровня (finished_stage_1) с разбивкой по каналам привлечения."
      ]
    },
    {
      "cell_type": "code",
      "execution_count": 34,
      "metadata": {
        "colab": {
          "base_uri": "https://localhost:8080/",
          "height": 173
        },
        "id": "MHpO-6NUyNcz",
        "outputId": "422ecd43-181a-4ff7-e4c0-83acd248f2a2"
      },
      "outputs": [
        {
          "output_type": "execute_result",
          "data": {
            "text/plain": [
              "                    source  finished_usr\n",
              "0            yandex_direct          2042\n",
              "1    instagram_new_adverts          1466\n",
              "2  youtube_channel_reklama          1159\n",
              "3             facebook_ads          1150"
            ],
            "text/html": [
              "\n",
              "  <div id=\"df-0fc436e6-0a30-4397-bb8c-33b2353b36b1\">\n",
              "    <div class=\"colab-df-container\">\n",
              "      <div>\n",
              "<style scoped>\n",
              "    .dataframe tbody tr th:only-of-type {\n",
              "        vertical-align: middle;\n",
              "    }\n",
              "\n",
              "    .dataframe tbody tr th {\n",
              "        vertical-align: top;\n",
              "    }\n",
              "\n",
              "    .dataframe thead th {\n",
              "        text-align: right;\n",
              "    }\n",
              "</style>\n",
              "<table border=\"1\" class=\"dataframe\">\n",
              "  <thead>\n",
              "    <tr style=\"text-align: right;\">\n",
              "      <th></th>\n",
              "      <th>source</th>\n",
              "      <th>finished_usr</th>\n",
              "    </tr>\n",
              "  </thead>\n",
              "  <tbody>\n",
              "    <tr>\n",
              "      <th>0</th>\n",
              "      <td>yandex_direct</td>\n",
              "      <td>2042</td>\n",
              "    </tr>\n",
              "    <tr>\n",
              "      <th>1</th>\n",
              "      <td>instagram_new_adverts</td>\n",
              "      <td>1466</td>\n",
              "    </tr>\n",
              "    <tr>\n",
              "      <th>2</th>\n",
              "      <td>youtube_channel_reklama</td>\n",
              "      <td>1159</td>\n",
              "    </tr>\n",
              "    <tr>\n",
              "      <th>3</th>\n",
              "      <td>facebook_ads</td>\n",
              "      <td>1150</td>\n",
              "    </tr>\n",
              "  </tbody>\n",
              "</table>\n",
              "</div>\n",
              "      <button class=\"colab-df-convert\" onclick=\"convertToInteractive('df-0fc436e6-0a30-4397-bb8c-33b2353b36b1')\"\n",
              "              title=\"Convert this dataframe to an interactive table.\"\n",
              "              style=\"display:none;\">\n",
              "        \n",
              "  <svg xmlns=\"http://www.w3.org/2000/svg\" height=\"24px\"viewBox=\"0 0 24 24\"\n",
              "       width=\"24px\">\n",
              "    <path d=\"M0 0h24v24H0V0z\" fill=\"none\"/>\n",
              "    <path d=\"M18.56 5.44l.94 2.06.94-2.06 2.06-.94-2.06-.94-.94-2.06-.94 2.06-2.06.94zm-11 1L8.5 8.5l.94-2.06 2.06-.94-2.06-.94L8.5 2.5l-.94 2.06-2.06.94zm10 10l.94 2.06.94-2.06 2.06-.94-2.06-.94-.94-2.06-.94 2.06-2.06.94z\"/><path d=\"M17.41 7.96l-1.37-1.37c-.4-.4-.92-.59-1.43-.59-.52 0-1.04.2-1.43.59L10.3 9.45l-7.72 7.72c-.78.78-.78 2.05 0 2.83L4 21.41c.39.39.9.59 1.41.59.51 0 1.02-.2 1.41-.59l7.78-7.78 2.81-2.81c.8-.78.8-2.07 0-2.86zM5.41 20L4 18.59l7.72-7.72 1.47 1.35L5.41 20z\"/>\n",
              "  </svg>\n",
              "      </button>\n",
              "      \n",
              "  <style>\n",
              "    .colab-df-container {\n",
              "      display:flex;\n",
              "      flex-wrap:wrap;\n",
              "      gap: 12px;\n",
              "    }\n",
              "\n",
              "    .colab-df-convert {\n",
              "      background-color: #E8F0FE;\n",
              "      border: none;\n",
              "      border-radius: 50%;\n",
              "      cursor: pointer;\n",
              "      display: none;\n",
              "      fill: #1967D2;\n",
              "      height: 32px;\n",
              "      padding: 0 0 0 0;\n",
              "      width: 32px;\n",
              "    }\n",
              "\n",
              "    .colab-df-convert:hover {\n",
              "      background-color: #E2EBFA;\n",
              "      box-shadow: 0px 1px 2px rgba(60, 64, 67, 0.3), 0px 1px 3px 1px rgba(60, 64, 67, 0.15);\n",
              "      fill: #174EA6;\n",
              "    }\n",
              "\n",
              "    [theme=dark] .colab-df-convert {\n",
              "      background-color: #3B4455;\n",
              "      fill: #D2E3FC;\n",
              "    }\n",
              "\n",
              "    [theme=dark] .colab-df-convert:hover {\n",
              "      background-color: #434B5C;\n",
              "      box-shadow: 0px 1px 3px 1px rgba(0, 0, 0, 0.15);\n",
              "      filter: drop-shadow(0px 1px 2px rgba(0, 0, 0, 0.3));\n",
              "      fill: #FFFFFF;\n",
              "    }\n",
              "  </style>\n",
              "\n",
              "      <script>\n",
              "        const buttonEl =\n",
              "          document.querySelector('#df-0fc436e6-0a30-4397-bb8c-33b2353b36b1 button.colab-df-convert');\n",
              "        buttonEl.style.display =\n",
              "          google.colab.kernel.accessAllowed ? 'block' : 'none';\n",
              "\n",
              "        async function convertToInteractive(key) {\n",
              "          const element = document.querySelector('#df-0fc436e6-0a30-4397-bb8c-33b2353b36b1');\n",
              "          const dataTable =\n",
              "            await google.colab.kernel.invokeFunction('convertToInteractive',\n",
              "                                                     [key], {});\n",
              "          if (!dataTable) return;\n",
              "\n",
              "          const docLinkHtml = 'Like what you see? Visit the ' +\n",
              "            '<a target=\"_blank\" href=https://colab.research.google.com/notebooks/data_table.ipynb>data table notebook</a>'\n",
              "            + ' to learn more about interactive tables.';\n",
              "          element.innerHTML = '';\n",
              "          dataTable['output_type'] = 'display_data';\n",
              "          await google.colab.output.renderOutput(dataTable, element);\n",
              "          const docLink = document.createElement('div');\n",
              "          docLink.innerHTML = docLinkHtml;\n",
              "          element.appendChild(docLink);\n",
              "        }\n",
              "      </script>\n",
              "    </div>\n",
              "  </div>\n",
              "  "
            ]
          },
          "metadata": {},
          "execution_count": 34
        }
      ],
      "source": [
        "# число игроков завершивших первый уровень по каналам привлечения\n",
        "finished_users_by_source = (\n",
        "    sessions\n",
        "    .query('event == \"finished_stage_1\"')\n",
        "    .groupby('source', as_index=False)\n",
        "    .agg({'user_id':'nunique'})\n",
        "    .rename(columns={'user_id':'finished_usr'})\n",
        "    .sort_values('finished_usr', ascending=False)\n",
        "    .reset_index(drop=True)\n",
        ")\n",
        "finished_users_by_source"
      ]
    },
    {
      "cell_type": "code",
      "execution_count": 35,
      "metadata": {
        "colab": {
          "base_uri": "https://localhost:8080/",
          "height": 317
        },
        "id": "X8luAMAUyNcz",
        "outputId": "8c5ab098-236f-4d59-e29c-b249fe2d6a7b"
      },
      "outputs": [
        {
          "output_type": "display_data",
          "data": {
            "text/html": [
              "<html>\n",
              "<head><meta charset=\"utf-8\" /></head>\n",
              "<body>\n",
              "    <div>            <script src=\"https://cdnjs.cloudflare.com/ajax/libs/mathjax/2.7.5/MathJax.js?config=TeX-AMS-MML_SVG\"></script><script type=\"text/javascript\">if (window.MathJax && window.MathJax.Hub && window.MathJax.Hub.Config) {window.MathJax.Hub.Config({SVG: {font: \"STIX-Web\"}});}</script>                <script type=\"text/javascript\">window.PlotlyConfig = {MathJaxConfig: 'local'};</script>\n",
              "        <script src=\"https://cdn.plot.ly/plotly-2.18.2.min.js\"></script>                <div id=\"9e46b020-d4d3-49ce-af89-74767dcf7c0e\" class=\"plotly-graph-div\" style=\"height:300px; width:900px;\"></div>            <script type=\"text/javascript\">                                    window.PLOTLYENV=window.PLOTLYENV || {};                                    if (document.getElementById(\"9e46b020-d4d3-49ce-af89-74767dcf7c0e\")) {                    Plotly.newPlot(                        \"9e46b020-d4d3-49ce-af89-74767dcf7c0e\",                        [{\"alignmentgroup\":\"True\",\"hovertemplate\":\"finished_usr=%{text}<br>source=%{y}<extra></extra>\",\"legendgroup\":\"\",\"marker\":{\"color\":\"#636efa\",\"pattern\":{\"shape\":\"\"}},\"name\":\"\",\"offsetgroup\":\"\",\"orientation\":\"h\",\"showlegend\":false,\"text\":[1150.0,1159.0,1466.0,2042.0],\"textposition\":\"auto\",\"x\":[1150,1159,1466,2042],\"xaxis\":\"x\",\"y\":[\"facebook_ads\",\"youtube_channel_reklama\",\"instagram_new_adverts\",\"yandex_direct\"],\"yaxis\":\"y\",\"type\":\"bar\"}],                        {\"template\":{\"data\":{\"histogram2dcontour\":[{\"type\":\"histogram2dcontour\",\"colorbar\":{\"outlinewidth\":0,\"ticks\":\"\"},\"colorscale\":[[0.0,\"#0d0887\"],[0.1111111111111111,\"#46039f\"],[0.2222222222222222,\"#7201a8\"],[0.3333333333333333,\"#9c179e\"],[0.4444444444444444,\"#bd3786\"],[0.5555555555555556,\"#d8576b\"],[0.6666666666666666,\"#ed7953\"],[0.7777777777777778,\"#fb9f3a\"],[0.8888888888888888,\"#fdca26\"],[1.0,\"#f0f921\"]]}],\"choropleth\":[{\"type\":\"choropleth\",\"colorbar\":{\"outlinewidth\":0,\"ticks\":\"\"}}],\"histogram2d\":[{\"type\":\"histogram2d\",\"colorbar\":{\"outlinewidth\":0,\"ticks\":\"\"},\"colorscale\":[[0.0,\"#0d0887\"],[0.1111111111111111,\"#46039f\"],[0.2222222222222222,\"#7201a8\"],[0.3333333333333333,\"#9c179e\"],[0.4444444444444444,\"#bd3786\"],[0.5555555555555556,\"#d8576b\"],[0.6666666666666666,\"#ed7953\"],[0.7777777777777778,\"#fb9f3a\"],[0.8888888888888888,\"#fdca26\"],[1.0,\"#f0f921\"]]}],\"heatmap\":[{\"type\":\"heatmap\",\"colorbar\":{\"outlinewidth\":0,\"ticks\":\"\"},\"colorscale\":[[0.0,\"#0d0887\"],[0.1111111111111111,\"#46039f\"],[0.2222222222222222,\"#7201a8\"],[0.3333333333333333,\"#9c179e\"],[0.4444444444444444,\"#bd3786\"],[0.5555555555555556,\"#d8576b\"],[0.6666666666666666,\"#ed7953\"],[0.7777777777777778,\"#fb9f3a\"],[0.8888888888888888,\"#fdca26\"],[1.0,\"#f0f921\"]]}],\"heatmapgl\":[{\"type\":\"heatmapgl\",\"colorbar\":{\"outlinewidth\":0,\"ticks\":\"\"},\"colorscale\":[[0.0,\"#0d0887\"],[0.1111111111111111,\"#46039f\"],[0.2222222222222222,\"#7201a8\"],[0.3333333333333333,\"#9c179e\"],[0.4444444444444444,\"#bd3786\"],[0.5555555555555556,\"#d8576b\"],[0.6666666666666666,\"#ed7953\"],[0.7777777777777778,\"#fb9f3a\"],[0.8888888888888888,\"#fdca26\"],[1.0,\"#f0f921\"]]}],\"contourcarpet\":[{\"type\":\"contourcarpet\",\"colorbar\":{\"outlinewidth\":0,\"ticks\":\"\"}}],\"contour\":[{\"type\":\"contour\",\"colorbar\":{\"outlinewidth\":0,\"ticks\":\"\"},\"colorscale\":[[0.0,\"#0d0887\"],[0.1111111111111111,\"#46039f\"],[0.2222222222222222,\"#7201a8\"],[0.3333333333333333,\"#9c179e\"],[0.4444444444444444,\"#bd3786\"],[0.5555555555555556,\"#d8576b\"],[0.6666666666666666,\"#ed7953\"],[0.7777777777777778,\"#fb9f3a\"],[0.8888888888888888,\"#fdca26\"],[1.0,\"#f0f921\"]]}],\"surface\":[{\"type\":\"surface\",\"colorbar\":{\"outlinewidth\":0,\"ticks\":\"\"},\"colorscale\":[[0.0,\"#0d0887\"],[0.1111111111111111,\"#46039f\"],[0.2222222222222222,\"#7201a8\"],[0.3333333333333333,\"#9c179e\"],[0.4444444444444444,\"#bd3786\"],[0.5555555555555556,\"#d8576b\"],[0.6666666666666666,\"#ed7953\"],[0.7777777777777778,\"#fb9f3a\"],[0.8888888888888888,\"#fdca26\"],[1.0,\"#f0f921\"]]}],\"mesh3d\":[{\"type\":\"mesh3d\",\"colorbar\":{\"outlinewidth\":0,\"ticks\":\"\"}}],\"scatter\":[{\"fillpattern\":{\"fillmode\":\"overlay\",\"size\":10,\"solidity\":0.2},\"type\":\"scatter\"}],\"parcoords\":[{\"type\":\"parcoords\",\"line\":{\"colorbar\":{\"outlinewidth\":0,\"ticks\":\"\"}}}],\"scatterpolargl\":[{\"type\":\"scatterpolargl\",\"marker\":{\"colorbar\":{\"outlinewidth\":0,\"ticks\":\"\"}}}],\"bar\":[{\"error_x\":{\"color\":\"#2a3f5f\"},\"error_y\":{\"color\":\"#2a3f5f\"},\"marker\":{\"line\":{\"color\":\"#E5ECF6\",\"width\":0.5},\"pattern\":{\"fillmode\":\"overlay\",\"size\":10,\"solidity\":0.2}},\"type\":\"bar\"}],\"scattergeo\":[{\"type\":\"scattergeo\",\"marker\":{\"colorbar\":{\"outlinewidth\":0,\"ticks\":\"\"}}}],\"scatterpolar\":[{\"type\":\"scatterpolar\",\"marker\":{\"colorbar\":{\"outlinewidth\":0,\"ticks\":\"\"}}}],\"histogram\":[{\"marker\":{\"pattern\":{\"fillmode\":\"overlay\",\"size\":10,\"solidity\":0.2}},\"type\":\"histogram\"}],\"scattergl\":[{\"type\":\"scattergl\",\"marker\":{\"colorbar\":{\"outlinewidth\":0,\"ticks\":\"\"}}}],\"scatter3d\":[{\"type\":\"scatter3d\",\"line\":{\"colorbar\":{\"outlinewidth\":0,\"ticks\":\"\"}},\"marker\":{\"colorbar\":{\"outlinewidth\":0,\"ticks\":\"\"}}}],\"scattermapbox\":[{\"type\":\"scattermapbox\",\"marker\":{\"colorbar\":{\"outlinewidth\":0,\"ticks\":\"\"}}}],\"scatterternary\":[{\"type\":\"scatterternary\",\"marker\":{\"colorbar\":{\"outlinewidth\":0,\"ticks\":\"\"}}}],\"scattercarpet\":[{\"type\":\"scattercarpet\",\"marker\":{\"colorbar\":{\"outlinewidth\":0,\"ticks\":\"\"}}}],\"carpet\":[{\"aaxis\":{\"endlinecolor\":\"#2a3f5f\",\"gridcolor\":\"white\",\"linecolor\":\"white\",\"minorgridcolor\":\"white\",\"startlinecolor\":\"#2a3f5f\"},\"baxis\":{\"endlinecolor\":\"#2a3f5f\",\"gridcolor\":\"white\",\"linecolor\":\"white\",\"minorgridcolor\":\"white\",\"startlinecolor\":\"#2a3f5f\"},\"type\":\"carpet\"}],\"table\":[{\"cells\":{\"fill\":{\"color\":\"#EBF0F8\"},\"line\":{\"color\":\"white\"}},\"header\":{\"fill\":{\"color\":\"#C8D4E3\"},\"line\":{\"color\":\"white\"}},\"type\":\"table\"}],\"barpolar\":[{\"marker\":{\"line\":{\"color\":\"#E5ECF6\",\"width\":0.5},\"pattern\":{\"fillmode\":\"overlay\",\"size\":10,\"solidity\":0.2}},\"type\":\"barpolar\"}],\"pie\":[{\"automargin\":true,\"type\":\"pie\"}]},\"layout\":{\"autotypenumbers\":\"strict\",\"colorway\":[\"#636efa\",\"#EF553B\",\"#00cc96\",\"#ab63fa\",\"#FFA15A\",\"#19d3f3\",\"#FF6692\",\"#B6E880\",\"#FF97FF\",\"#FECB52\"],\"font\":{\"color\":\"#2a3f5f\"},\"hovermode\":\"closest\",\"hoverlabel\":{\"align\":\"left\"},\"paper_bgcolor\":\"white\",\"plot_bgcolor\":\"#E5ECF6\",\"polar\":{\"bgcolor\":\"#E5ECF6\",\"angularaxis\":{\"gridcolor\":\"white\",\"linecolor\":\"white\",\"ticks\":\"\"},\"radialaxis\":{\"gridcolor\":\"white\",\"linecolor\":\"white\",\"ticks\":\"\"}},\"ternary\":{\"bgcolor\":\"#E5ECF6\",\"aaxis\":{\"gridcolor\":\"white\",\"linecolor\":\"white\",\"ticks\":\"\"},\"baxis\":{\"gridcolor\":\"white\",\"linecolor\":\"white\",\"ticks\":\"\"},\"caxis\":{\"gridcolor\":\"white\",\"linecolor\":\"white\",\"ticks\":\"\"}},\"coloraxis\":{\"colorbar\":{\"outlinewidth\":0,\"ticks\":\"\"}},\"colorscale\":{\"sequential\":[[0.0,\"#0d0887\"],[0.1111111111111111,\"#46039f\"],[0.2222222222222222,\"#7201a8\"],[0.3333333333333333,\"#9c179e\"],[0.4444444444444444,\"#bd3786\"],[0.5555555555555556,\"#d8576b\"],[0.6666666666666666,\"#ed7953\"],[0.7777777777777778,\"#fb9f3a\"],[0.8888888888888888,\"#fdca26\"],[1.0,\"#f0f921\"]],\"sequentialminus\":[[0.0,\"#0d0887\"],[0.1111111111111111,\"#46039f\"],[0.2222222222222222,\"#7201a8\"],[0.3333333333333333,\"#9c179e\"],[0.4444444444444444,\"#bd3786\"],[0.5555555555555556,\"#d8576b\"],[0.6666666666666666,\"#ed7953\"],[0.7777777777777778,\"#fb9f3a\"],[0.8888888888888888,\"#fdca26\"],[1.0,\"#f0f921\"]],\"diverging\":[[0,\"#8e0152\"],[0.1,\"#c51b7d\"],[0.2,\"#de77ae\"],[0.3,\"#f1b6da\"],[0.4,\"#fde0ef\"],[0.5,\"#f7f7f7\"],[0.6,\"#e6f5d0\"],[0.7,\"#b8e186\"],[0.8,\"#7fbc41\"],[0.9,\"#4d9221\"],[1,\"#276419\"]]},\"xaxis\":{\"gridcolor\":\"white\",\"linecolor\":\"white\",\"ticks\":\"\",\"title\":{\"standoff\":15},\"zerolinecolor\":\"white\",\"automargin\":true,\"zerolinewidth\":2},\"yaxis\":{\"gridcolor\":\"white\",\"linecolor\":\"white\",\"ticks\":\"\",\"title\":{\"standoff\":15},\"zerolinecolor\":\"white\",\"automargin\":true,\"zerolinewidth\":2},\"scene\":{\"xaxis\":{\"backgroundcolor\":\"#E5ECF6\",\"gridcolor\":\"white\",\"linecolor\":\"white\",\"showbackground\":true,\"ticks\":\"\",\"zerolinecolor\":\"white\",\"gridwidth\":2},\"yaxis\":{\"backgroundcolor\":\"#E5ECF6\",\"gridcolor\":\"white\",\"linecolor\":\"white\",\"showbackground\":true,\"ticks\":\"\",\"zerolinecolor\":\"white\",\"gridwidth\":2},\"zaxis\":{\"backgroundcolor\":\"#E5ECF6\",\"gridcolor\":\"white\",\"linecolor\":\"white\",\"showbackground\":true,\"ticks\":\"\",\"zerolinecolor\":\"white\",\"gridwidth\":2}},\"shapedefaults\":{\"line\":{\"color\":\"#2a3f5f\"}},\"annotationdefaults\":{\"arrowcolor\":\"#2a3f5f\",\"arrowhead\":0,\"arrowwidth\":1},\"geo\":{\"bgcolor\":\"white\",\"landcolor\":\"#E5ECF6\",\"subunitcolor\":\"white\",\"showland\":true,\"showlakes\":true,\"lakecolor\":\"white\"},\"title\":{\"x\":0.05},\"mapbox\":{\"style\":\"light\"}}},\"xaxis\":{\"anchor\":\"y\",\"domain\":[0.0,1.0],\"title\":{\"text\":\"\\u0418\\u0433\\u0440\\u043e\\u043a\\u043e\\u0432 \\u043f\\u0440\\u043e\\u0448\\u043b\\u043e \\u043f\\u0435\\u0440\\u0432\\u044b\\u0439 \\u0443\\u0440\\u043e\\u0432\\u0435\\u043d\\u044c\"},\"range\":[1000,2050]},\"yaxis\":{\"anchor\":\"x\",\"domain\":[0.0,1.0],\"title\":{\"text\":\"\\u0418\\u0441\\u0442\\u043e\\u0447\\u043d\\u0438\\u043a\"}},\"legend\":{\"tracegroupgap\":0},\"margin\":{\"t\":60},\"barmode\":\"relative\",\"title\":{\"text\":\"\\u0418\\u0433\\u0440\\u043e\\u043a\\u0438 \\u043f\\u0440\\u043e\\u0448\\u0435\\u0434\\u0448\\u0438\\u0435 \\u043f\\u0435\\u0440\\u0432\\u044b\\u0439 \\u0443\\u0440\\u043e\\u0432\\u0435\\u043d\\u044c\"},\"width\":900,\"height\":300},                        {\"responsive\": true}                    ).then(function(){\n",
              "                            \n",
              "var gd = document.getElementById('9e46b020-d4d3-49ce-af89-74767dcf7c0e');\n",
              "var x = new MutationObserver(function (mutations, observer) {{\n",
              "        var display = window.getComputedStyle(gd).display;\n",
              "        if (!display || display === 'none') {{\n",
              "            console.log([gd, 'removed!']);\n",
              "            Plotly.purge(gd);\n",
              "            observer.disconnect();\n",
              "        }}\n",
              "}});\n",
              "\n",
              "// Listen for the removal of the full notebook cells\n",
              "var notebookContainer = gd.closest('#notebook-container');\n",
              "if (notebookContainer) {{\n",
              "    x.observe(notebookContainer, {childList: true});\n",
              "}}\n",
              "\n",
              "// Listen for the clearing of the current output cell\n",
              "var outputEl = gd.closest('.output');\n",
              "if (outputEl) {{\n",
              "    x.observe(outputEl, {childList: true});\n",
              "}}\n",
              "\n",
              "                        })                };                            </script>        </div>\n",
              "</body>\n",
              "</html>"
            ]
          },
          "metadata": {}
        }
      ],
      "source": [
        "# Визуализируем факт прохождения уровня\n",
        "fig=px.bar(finished_users_by_source.sort_values('finished_usr'),\n",
        "           x='finished_usr', y='source', text='finished_usr')\n",
        "fig.update_layout(title='Игроки прошедшие первый уровень',\n",
        "                 xaxis_title='Игроков прошло первый уровень',\n",
        "                 yaxis_title='Источник',\n",
        "                 width=900,\n",
        "                 height=300)\n",
        "fig.update_xaxes(range=[1000, 2050])\n",
        "fig.show();"
      ]
    },
    {
      "cell_type": "markdown",
      "metadata": {
        "id": "hEfLJ7q4yNcz"
      },
      "source": [
        "- ***Игроков, пришедших с канала*** `yandex_direct` ***больше всего (2 042) среди тех, кто завершил первый уровень.***\n",
        "- ***Меньше всего до \"финиша\" добралось игроков, пришедших с канала*** `facebook_ads` - `1 150`.\n",
        "\n",
        "**Однако стоит взглянуть на соотношение игроков, завершивших первый уровень, к числу изначально привлечённых по каждому источнику. Эта цифра нагляднее покажет процент игроков, которые остались в игре и не \"отвалились\".**"
      ]
    },
    {
      "cell_type": "code",
      "execution_count": 36,
      "metadata": {
        "colab": {
          "base_uri": "https://localhost:8080/",
          "height": 173
        },
        "id": "2u2fcDGVyNcz",
        "outputId": "dbd09743-7d94-431a-e786-0d67722bf6a2"
      },
      "outputs": [
        {
          "output_type": "execute_result",
          "data": {
            "text/plain": [
              "                    source  usr_cnt  finished_usr  ratio_finished, %\n",
              "0    instagram_new_adverts     3347          1466              43.80\n",
              "1  youtube_channel_reklama     2686          1159              43.15\n",
              "2            yandex_direct     4817          2042              42.39\n",
              "3             facebook_ads     2726          1150              42.19"
            ],
            "text/html": [
              "\n",
              "  <div id=\"df-22e7a495-269e-4a93-9362-467d2b0be23d\">\n",
              "    <div class=\"colab-df-container\">\n",
              "      <div>\n",
              "<style scoped>\n",
              "    .dataframe tbody tr th:only-of-type {\n",
              "        vertical-align: middle;\n",
              "    }\n",
              "\n",
              "    .dataframe tbody tr th {\n",
              "        vertical-align: top;\n",
              "    }\n",
              "\n",
              "    .dataframe thead th {\n",
              "        text-align: right;\n",
              "    }\n",
              "</style>\n",
              "<table border=\"1\" class=\"dataframe\">\n",
              "  <thead>\n",
              "    <tr style=\"text-align: right;\">\n",
              "      <th></th>\n",
              "      <th>source</th>\n",
              "      <th>usr_cnt</th>\n",
              "      <th>finished_usr</th>\n",
              "      <th>ratio_finished, %</th>\n",
              "    </tr>\n",
              "  </thead>\n",
              "  <tbody>\n",
              "    <tr>\n",
              "      <th>0</th>\n",
              "      <td>instagram_new_adverts</td>\n",
              "      <td>3347</td>\n",
              "      <td>1466</td>\n",
              "      <td>43.80</td>\n",
              "    </tr>\n",
              "    <tr>\n",
              "      <th>1</th>\n",
              "      <td>youtube_channel_reklama</td>\n",
              "      <td>2686</td>\n",
              "      <td>1159</td>\n",
              "      <td>43.15</td>\n",
              "    </tr>\n",
              "    <tr>\n",
              "      <th>2</th>\n",
              "      <td>yandex_direct</td>\n",
              "      <td>4817</td>\n",
              "      <td>2042</td>\n",
              "      <td>42.39</td>\n",
              "    </tr>\n",
              "    <tr>\n",
              "      <th>3</th>\n",
              "      <td>facebook_ads</td>\n",
              "      <td>2726</td>\n",
              "      <td>1150</td>\n",
              "      <td>42.19</td>\n",
              "    </tr>\n",
              "  </tbody>\n",
              "</table>\n",
              "</div>\n",
              "      <button class=\"colab-df-convert\" onclick=\"convertToInteractive('df-22e7a495-269e-4a93-9362-467d2b0be23d')\"\n",
              "              title=\"Convert this dataframe to an interactive table.\"\n",
              "              style=\"display:none;\">\n",
              "        \n",
              "  <svg xmlns=\"http://www.w3.org/2000/svg\" height=\"24px\"viewBox=\"0 0 24 24\"\n",
              "       width=\"24px\">\n",
              "    <path d=\"M0 0h24v24H0V0z\" fill=\"none\"/>\n",
              "    <path d=\"M18.56 5.44l.94 2.06.94-2.06 2.06-.94-2.06-.94-.94-2.06-.94 2.06-2.06.94zm-11 1L8.5 8.5l.94-2.06 2.06-.94-2.06-.94L8.5 2.5l-.94 2.06-2.06.94zm10 10l.94 2.06.94-2.06 2.06-.94-2.06-.94-.94-2.06-.94 2.06-2.06.94z\"/><path d=\"M17.41 7.96l-1.37-1.37c-.4-.4-.92-.59-1.43-.59-.52 0-1.04.2-1.43.59L10.3 9.45l-7.72 7.72c-.78.78-.78 2.05 0 2.83L4 21.41c.39.39.9.59 1.41.59.51 0 1.02-.2 1.41-.59l7.78-7.78 2.81-2.81c.8-.78.8-2.07 0-2.86zM5.41 20L4 18.59l7.72-7.72 1.47 1.35L5.41 20z\"/>\n",
              "  </svg>\n",
              "      </button>\n",
              "      \n",
              "  <style>\n",
              "    .colab-df-container {\n",
              "      display:flex;\n",
              "      flex-wrap:wrap;\n",
              "      gap: 12px;\n",
              "    }\n",
              "\n",
              "    .colab-df-convert {\n",
              "      background-color: #E8F0FE;\n",
              "      border: none;\n",
              "      border-radius: 50%;\n",
              "      cursor: pointer;\n",
              "      display: none;\n",
              "      fill: #1967D2;\n",
              "      height: 32px;\n",
              "      padding: 0 0 0 0;\n",
              "      width: 32px;\n",
              "    }\n",
              "\n",
              "    .colab-df-convert:hover {\n",
              "      background-color: #E2EBFA;\n",
              "      box-shadow: 0px 1px 2px rgba(60, 64, 67, 0.3), 0px 1px 3px 1px rgba(60, 64, 67, 0.15);\n",
              "      fill: #174EA6;\n",
              "    }\n",
              "\n",
              "    [theme=dark] .colab-df-convert {\n",
              "      background-color: #3B4455;\n",
              "      fill: #D2E3FC;\n",
              "    }\n",
              "\n",
              "    [theme=dark] .colab-df-convert:hover {\n",
              "      background-color: #434B5C;\n",
              "      box-shadow: 0px 1px 3px 1px rgba(0, 0, 0, 0.15);\n",
              "      filter: drop-shadow(0px 1px 2px rgba(0, 0, 0, 0.3));\n",
              "      fill: #FFFFFF;\n",
              "    }\n",
              "  </style>\n",
              "\n",
              "      <script>\n",
              "        const buttonEl =\n",
              "          document.querySelector('#df-22e7a495-269e-4a93-9362-467d2b0be23d button.colab-df-convert');\n",
              "        buttonEl.style.display =\n",
              "          google.colab.kernel.accessAllowed ? 'block' : 'none';\n",
              "\n",
              "        async function convertToInteractive(key) {\n",
              "          const element = document.querySelector('#df-22e7a495-269e-4a93-9362-467d2b0be23d');\n",
              "          const dataTable =\n",
              "            await google.colab.kernel.invokeFunction('convertToInteractive',\n",
              "                                                     [key], {});\n",
              "          if (!dataTable) return;\n",
              "\n",
              "          const docLinkHtml = 'Like what you see? Visit the ' +\n",
              "            '<a target=\"_blank\" href=https://colab.research.google.com/notebooks/data_table.ipynb>data table notebook</a>'\n",
              "            + ' to learn more about interactive tables.';\n",
              "          element.innerHTML = '';\n",
              "          dataTable['output_type'] = 'display_data';\n",
              "          await google.colab.output.renderOutput(dataTable, element);\n",
              "          const docLink = document.createElement('div');\n",
              "          docLink.innerHTML = docLinkHtml;\n",
              "          element.appendChild(docLink);\n",
              "        }\n",
              "      </script>\n",
              "    </div>\n",
              "  </div>\n",
              "  "
            ]
          },
          "metadata": {},
          "execution_count": 36
        }
      ],
      "source": [
        "ratio_finished = source_cost_user.merge(finished_users_by_source, on='source', how='left')\n",
        "ratio_finished['ratio_finished, %'] = round(ratio_finished['finished_usr'] / ratio_finished['usr_cnt'] * 100, 2)\n",
        "(\n",
        "    ratio_finished[['source', 'usr_cnt', 'finished_usr', 'ratio_finished, %']]\n",
        "    .sort_values('ratio_finished, %', ascending=False)\n",
        "    .reset_index(drop=True)\n",
        ")"
      ]
    },
    {
      "cell_type": "code",
      "execution_count": 37,
      "metadata": {
        "colab": {
          "base_uri": "https://localhost:8080/",
          "height": 317
        },
        "id": "YYs9Z6JuyNcz",
        "outputId": "cba3f721-e16b-4509-c8a5-48f275fc6465"
      },
      "outputs": [
        {
          "output_type": "display_data",
          "data": {
            "text/html": [
              "<html>\n",
              "<head><meta charset=\"utf-8\" /></head>\n",
              "<body>\n",
              "    <div>            <script src=\"https://cdnjs.cloudflare.com/ajax/libs/mathjax/2.7.5/MathJax.js?config=TeX-AMS-MML_SVG\"></script><script type=\"text/javascript\">if (window.MathJax && window.MathJax.Hub && window.MathJax.Hub.Config) {window.MathJax.Hub.Config({SVG: {font: \"STIX-Web\"}});}</script>                <script type=\"text/javascript\">window.PlotlyConfig = {MathJaxConfig: 'local'};</script>\n",
              "        <script src=\"https://cdn.plot.ly/plotly-2.18.2.min.js\"></script>                <div id=\"8d6be086-d377-413f-abca-01b0400bd9a5\" class=\"plotly-graph-div\" style=\"height:300px; width:900px;\"></div>            <script type=\"text/javascript\">                                    window.PLOTLYENV=window.PLOTLYENV || {};                                    if (document.getElementById(\"8d6be086-d377-413f-abca-01b0400bd9a5\")) {                    Plotly.newPlot(                        \"8d6be086-d377-413f-abca-01b0400bd9a5\",                        [{\"alignmentgroup\":\"True\",\"hovertemplate\":\"ratio_finished, %=%{text}<br>source=%{y}<extra></extra>\",\"legendgroup\":\"\",\"marker\":{\"color\":\"#636efa\",\"pattern\":{\"shape\":\"\"}},\"name\":\"\",\"offsetgroup\":\"\",\"orientation\":\"h\",\"showlegend\":false,\"text\":[42.19,42.39,43.15,43.8],\"textposition\":\"auto\",\"x\":[42.19,42.39,43.15,43.8],\"xaxis\":\"x\",\"y\":[\"facebook_ads\",\"yandex_direct\",\"youtube_channel_reklama\",\"instagram_new_adverts\"],\"yaxis\":\"y\",\"type\":\"bar\"}],                        {\"template\":{\"data\":{\"histogram2dcontour\":[{\"type\":\"histogram2dcontour\",\"colorbar\":{\"outlinewidth\":0,\"ticks\":\"\"},\"colorscale\":[[0.0,\"#0d0887\"],[0.1111111111111111,\"#46039f\"],[0.2222222222222222,\"#7201a8\"],[0.3333333333333333,\"#9c179e\"],[0.4444444444444444,\"#bd3786\"],[0.5555555555555556,\"#d8576b\"],[0.6666666666666666,\"#ed7953\"],[0.7777777777777778,\"#fb9f3a\"],[0.8888888888888888,\"#fdca26\"],[1.0,\"#f0f921\"]]}],\"choropleth\":[{\"type\":\"choropleth\",\"colorbar\":{\"outlinewidth\":0,\"ticks\":\"\"}}],\"histogram2d\":[{\"type\":\"histogram2d\",\"colorbar\":{\"outlinewidth\":0,\"ticks\":\"\"},\"colorscale\":[[0.0,\"#0d0887\"],[0.1111111111111111,\"#46039f\"],[0.2222222222222222,\"#7201a8\"],[0.3333333333333333,\"#9c179e\"],[0.4444444444444444,\"#bd3786\"],[0.5555555555555556,\"#d8576b\"],[0.6666666666666666,\"#ed7953\"],[0.7777777777777778,\"#fb9f3a\"],[0.8888888888888888,\"#fdca26\"],[1.0,\"#f0f921\"]]}],\"heatmap\":[{\"type\":\"heatmap\",\"colorbar\":{\"outlinewidth\":0,\"ticks\":\"\"},\"colorscale\":[[0.0,\"#0d0887\"],[0.1111111111111111,\"#46039f\"],[0.2222222222222222,\"#7201a8\"],[0.3333333333333333,\"#9c179e\"],[0.4444444444444444,\"#bd3786\"],[0.5555555555555556,\"#d8576b\"],[0.6666666666666666,\"#ed7953\"],[0.7777777777777778,\"#fb9f3a\"],[0.8888888888888888,\"#fdca26\"],[1.0,\"#f0f921\"]]}],\"heatmapgl\":[{\"type\":\"heatmapgl\",\"colorbar\":{\"outlinewidth\":0,\"ticks\":\"\"},\"colorscale\":[[0.0,\"#0d0887\"],[0.1111111111111111,\"#46039f\"],[0.2222222222222222,\"#7201a8\"],[0.3333333333333333,\"#9c179e\"],[0.4444444444444444,\"#bd3786\"],[0.5555555555555556,\"#d8576b\"],[0.6666666666666666,\"#ed7953\"],[0.7777777777777778,\"#fb9f3a\"],[0.8888888888888888,\"#fdca26\"],[1.0,\"#f0f921\"]]}],\"contourcarpet\":[{\"type\":\"contourcarpet\",\"colorbar\":{\"outlinewidth\":0,\"ticks\":\"\"}}],\"contour\":[{\"type\":\"contour\",\"colorbar\":{\"outlinewidth\":0,\"ticks\":\"\"},\"colorscale\":[[0.0,\"#0d0887\"],[0.1111111111111111,\"#46039f\"],[0.2222222222222222,\"#7201a8\"],[0.3333333333333333,\"#9c179e\"],[0.4444444444444444,\"#bd3786\"],[0.5555555555555556,\"#d8576b\"],[0.6666666666666666,\"#ed7953\"],[0.7777777777777778,\"#fb9f3a\"],[0.8888888888888888,\"#fdca26\"],[1.0,\"#f0f921\"]]}],\"surface\":[{\"type\":\"surface\",\"colorbar\":{\"outlinewidth\":0,\"ticks\":\"\"},\"colorscale\":[[0.0,\"#0d0887\"],[0.1111111111111111,\"#46039f\"],[0.2222222222222222,\"#7201a8\"],[0.3333333333333333,\"#9c179e\"],[0.4444444444444444,\"#bd3786\"],[0.5555555555555556,\"#d8576b\"],[0.6666666666666666,\"#ed7953\"],[0.7777777777777778,\"#fb9f3a\"],[0.8888888888888888,\"#fdca26\"],[1.0,\"#f0f921\"]]}],\"mesh3d\":[{\"type\":\"mesh3d\",\"colorbar\":{\"outlinewidth\":0,\"ticks\":\"\"}}],\"scatter\":[{\"fillpattern\":{\"fillmode\":\"overlay\",\"size\":10,\"solidity\":0.2},\"type\":\"scatter\"}],\"parcoords\":[{\"type\":\"parcoords\",\"line\":{\"colorbar\":{\"outlinewidth\":0,\"ticks\":\"\"}}}],\"scatterpolargl\":[{\"type\":\"scatterpolargl\",\"marker\":{\"colorbar\":{\"outlinewidth\":0,\"ticks\":\"\"}}}],\"bar\":[{\"error_x\":{\"color\":\"#2a3f5f\"},\"error_y\":{\"color\":\"#2a3f5f\"},\"marker\":{\"line\":{\"color\":\"#E5ECF6\",\"width\":0.5},\"pattern\":{\"fillmode\":\"overlay\",\"size\":10,\"solidity\":0.2}},\"type\":\"bar\"}],\"scattergeo\":[{\"type\":\"scattergeo\",\"marker\":{\"colorbar\":{\"outlinewidth\":0,\"ticks\":\"\"}}}],\"scatterpolar\":[{\"type\":\"scatterpolar\",\"marker\":{\"colorbar\":{\"outlinewidth\":0,\"ticks\":\"\"}}}],\"histogram\":[{\"marker\":{\"pattern\":{\"fillmode\":\"overlay\",\"size\":10,\"solidity\":0.2}},\"type\":\"histogram\"}],\"scattergl\":[{\"type\":\"scattergl\",\"marker\":{\"colorbar\":{\"outlinewidth\":0,\"ticks\":\"\"}}}],\"scatter3d\":[{\"type\":\"scatter3d\",\"line\":{\"colorbar\":{\"outlinewidth\":0,\"ticks\":\"\"}},\"marker\":{\"colorbar\":{\"outlinewidth\":0,\"ticks\":\"\"}}}],\"scattermapbox\":[{\"type\":\"scattermapbox\",\"marker\":{\"colorbar\":{\"outlinewidth\":0,\"ticks\":\"\"}}}],\"scatterternary\":[{\"type\":\"scatterternary\",\"marker\":{\"colorbar\":{\"outlinewidth\":0,\"ticks\":\"\"}}}],\"scattercarpet\":[{\"type\":\"scattercarpet\",\"marker\":{\"colorbar\":{\"outlinewidth\":0,\"ticks\":\"\"}}}],\"carpet\":[{\"aaxis\":{\"endlinecolor\":\"#2a3f5f\",\"gridcolor\":\"white\",\"linecolor\":\"white\",\"minorgridcolor\":\"white\",\"startlinecolor\":\"#2a3f5f\"},\"baxis\":{\"endlinecolor\":\"#2a3f5f\",\"gridcolor\":\"white\",\"linecolor\":\"white\",\"minorgridcolor\":\"white\",\"startlinecolor\":\"#2a3f5f\"},\"type\":\"carpet\"}],\"table\":[{\"cells\":{\"fill\":{\"color\":\"#EBF0F8\"},\"line\":{\"color\":\"white\"}},\"header\":{\"fill\":{\"color\":\"#C8D4E3\"},\"line\":{\"color\":\"white\"}},\"type\":\"table\"}],\"barpolar\":[{\"marker\":{\"line\":{\"color\":\"#E5ECF6\",\"width\":0.5},\"pattern\":{\"fillmode\":\"overlay\",\"size\":10,\"solidity\":0.2}},\"type\":\"barpolar\"}],\"pie\":[{\"automargin\":true,\"type\":\"pie\"}]},\"layout\":{\"autotypenumbers\":\"strict\",\"colorway\":[\"#636efa\",\"#EF553B\",\"#00cc96\",\"#ab63fa\",\"#FFA15A\",\"#19d3f3\",\"#FF6692\",\"#B6E880\",\"#FF97FF\",\"#FECB52\"],\"font\":{\"color\":\"#2a3f5f\"},\"hovermode\":\"closest\",\"hoverlabel\":{\"align\":\"left\"},\"paper_bgcolor\":\"white\",\"plot_bgcolor\":\"#E5ECF6\",\"polar\":{\"bgcolor\":\"#E5ECF6\",\"angularaxis\":{\"gridcolor\":\"white\",\"linecolor\":\"white\",\"ticks\":\"\"},\"radialaxis\":{\"gridcolor\":\"white\",\"linecolor\":\"white\",\"ticks\":\"\"}},\"ternary\":{\"bgcolor\":\"#E5ECF6\",\"aaxis\":{\"gridcolor\":\"white\",\"linecolor\":\"white\",\"ticks\":\"\"},\"baxis\":{\"gridcolor\":\"white\",\"linecolor\":\"white\",\"ticks\":\"\"},\"caxis\":{\"gridcolor\":\"white\",\"linecolor\":\"white\",\"ticks\":\"\"}},\"coloraxis\":{\"colorbar\":{\"outlinewidth\":0,\"ticks\":\"\"}},\"colorscale\":{\"sequential\":[[0.0,\"#0d0887\"],[0.1111111111111111,\"#46039f\"],[0.2222222222222222,\"#7201a8\"],[0.3333333333333333,\"#9c179e\"],[0.4444444444444444,\"#bd3786\"],[0.5555555555555556,\"#d8576b\"],[0.6666666666666666,\"#ed7953\"],[0.7777777777777778,\"#fb9f3a\"],[0.8888888888888888,\"#fdca26\"],[1.0,\"#f0f921\"]],\"sequentialminus\":[[0.0,\"#0d0887\"],[0.1111111111111111,\"#46039f\"],[0.2222222222222222,\"#7201a8\"],[0.3333333333333333,\"#9c179e\"],[0.4444444444444444,\"#bd3786\"],[0.5555555555555556,\"#d8576b\"],[0.6666666666666666,\"#ed7953\"],[0.7777777777777778,\"#fb9f3a\"],[0.8888888888888888,\"#fdca26\"],[1.0,\"#f0f921\"]],\"diverging\":[[0,\"#8e0152\"],[0.1,\"#c51b7d\"],[0.2,\"#de77ae\"],[0.3,\"#f1b6da\"],[0.4,\"#fde0ef\"],[0.5,\"#f7f7f7\"],[0.6,\"#e6f5d0\"],[0.7,\"#b8e186\"],[0.8,\"#7fbc41\"],[0.9,\"#4d9221\"],[1,\"#276419\"]]},\"xaxis\":{\"gridcolor\":\"white\",\"linecolor\":\"white\",\"ticks\":\"\",\"title\":{\"standoff\":15},\"zerolinecolor\":\"white\",\"automargin\":true,\"zerolinewidth\":2},\"yaxis\":{\"gridcolor\":\"white\",\"linecolor\":\"white\",\"ticks\":\"\",\"title\":{\"standoff\":15},\"zerolinecolor\":\"white\",\"automargin\":true,\"zerolinewidth\":2},\"scene\":{\"xaxis\":{\"backgroundcolor\":\"#E5ECF6\",\"gridcolor\":\"white\",\"linecolor\":\"white\",\"showbackground\":true,\"ticks\":\"\",\"zerolinecolor\":\"white\",\"gridwidth\":2},\"yaxis\":{\"backgroundcolor\":\"#E5ECF6\",\"gridcolor\":\"white\",\"linecolor\":\"white\",\"showbackground\":true,\"ticks\":\"\",\"zerolinecolor\":\"white\",\"gridwidth\":2},\"zaxis\":{\"backgroundcolor\":\"#E5ECF6\",\"gridcolor\":\"white\",\"linecolor\":\"white\",\"showbackground\":true,\"ticks\":\"\",\"zerolinecolor\":\"white\",\"gridwidth\":2}},\"shapedefaults\":{\"line\":{\"color\":\"#2a3f5f\"}},\"annotationdefaults\":{\"arrowcolor\":\"#2a3f5f\",\"arrowhead\":0,\"arrowwidth\":1},\"geo\":{\"bgcolor\":\"white\",\"landcolor\":\"#E5ECF6\",\"subunitcolor\":\"white\",\"showland\":true,\"showlakes\":true,\"lakecolor\":\"white\"},\"title\":{\"x\":0.05},\"mapbox\":{\"style\":\"light\"}}},\"xaxis\":{\"anchor\":\"y\",\"domain\":[0.0,1.0],\"title\":{\"text\":\"\\u041f\\u0440\\u043e\\u0446\\u0435\\u043d\\u0442 \\u0438\\u0433\\u0440\\u043e\\u043a\\u043e\\u0432 \\u043f\\u0440\\u043e\\u0448\\u0435\\u0434\\u0448\\u0438\\u0445 \\u043f\\u0435\\u0440\\u0432\\u044b\\u0439 \\u0443\\u0440\\u043e\\u0432\\u0435\\u043d\\u044c\"},\"range\":[38,44]},\"yaxis\":{\"anchor\":\"x\",\"domain\":[0.0,1.0],\"title\":{\"text\":\"\\u0418\\u0441\\u0442\\u043e\\u0447\\u043d\\u0438\\u043a\"}},\"legend\":{\"tracegroupgap\":0},\"margin\":{\"t\":60},\"barmode\":\"relative\",\"title\":{\"text\":\"\\u041f\\u0440\\u043e\\u0446\\u0435\\u043d\\u0442 \\u0438\\u0433\\u0440\\u043e\\u043a\\u043e\\u0432, \\u043a\\u043e\\u0442\\u043e\\u0440\\u044b\\u0435 \\u043f\\u0440\\u043e\\u0448\\u043b\\u0438 \\u043f\\u0435\\u0440\\u0432\\u044b\\u0439 \\u0443\\u0440\\u043e\\u0432\\u0435\\u043d\\u044c\"},\"width\":900,\"height\":300},                        {\"responsive\": true}                    ).then(function(){\n",
              "                            \n",
              "var gd = document.getElementById('8d6be086-d377-413f-abca-01b0400bd9a5');\n",
              "var x = new MutationObserver(function (mutations, observer) {{\n",
              "        var display = window.getComputedStyle(gd).display;\n",
              "        if (!display || display === 'none') {{\n",
              "            console.log([gd, 'removed!']);\n",
              "            Plotly.purge(gd);\n",
              "            observer.disconnect();\n",
              "        }}\n",
              "}});\n",
              "\n",
              "// Listen for the removal of the full notebook cells\n",
              "var notebookContainer = gd.closest('#notebook-container');\n",
              "if (notebookContainer) {{\n",
              "    x.observe(notebookContainer, {childList: true});\n",
              "}}\n",
              "\n",
              "// Listen for the clearing of the current output cell\n",
              "var outputEl = gd.closest('.output');\n",
              "if (outputEl) {{\n",
              "    x.observe(outputEl, {childList: true});\n",
              "}}\n",
              "\n",
              "                        })                };                            </script>        </div>\n",
              "</body>\n",
              "</html>"
            ]
          },
          "metadata": {}
        }
      ],
      "source": [
        "# Визуализируем процент игроков, дошедших до конца уровня\n",
        "fig=px.bar(ratio_finished.sort_values('ratio_finished, %'),\n",
        "           x='ratio_finished, %', y='source', text='ratio_finished, %')\n",
        "fig.update_layout(title='Процент игроков, которые прошли первый уровень',\n",
        "                 xaxis_title='Процент игроков прошедших первый уровень',\n",
        "                 yaxis_title='Источник',\n",
        "                 width=900,\n",
        "                 height=300)\n",
        "fig.update_xaxes(range=[38, 44])\n",
        "fig.show();"
      ]
    },
    {
      "cell_type": "markdown",
      "metadata": {
        "id": "8cy6fAQryNc0"
      },
      "source": [
        "***Число игроков, которые прошли первый уровень и не \"отвалились\" по всем каналам - примерно одинаковое - `42.2`-`43.8%`.***"
      ]
    },
    {
      "cell_type": "markdown",
      "metadata": {
        "id": "MpDokdlfyNc0"
      },
      "source": [
        "Для наглядности визуализируем игроков по каждому каналу, разделив их по признаку был ли завершён уровень."
      ]
    },
    {
      "cell_type": "code",
      "execution_count": 38,
      "metadata": {
        "id": "jbT2-XFyyNc0"
      },
      "outputs": [],
      "source": [
        "# список игроков, завершивших первый уровень\n",
        "finished_users = game_actions.query('event == \"finished_stage_1\"')['user_id'].tolist()"
      ]
    },
    {
      "cell_type": "code",
      "execution_count": 39,
      "metadata": {
        "id": "RJSdvqxfyNc0"
      },
      "outputs": [],
      "source": [
        "# функция для создания доп столбца с признаком завершения/незавершения уровня\n",
        "def finish(row):\n",
        "    if row['user_id'] in finished_users:\n",
        "        val = 'завершён'\n",
        "    else:\n",
        "        val = 'не завершён'\n",
        "    return val"
      ]
    },
    {
      "cell_type": "code",
      "execution_count": 40,
      "metadata": {
        "id": "HQBda5AwyNc0"
      },
      "outputs": [],
      "source": [
        "# Добавление столбца с признаком завершения/незавершения уровня\n",
        "user_source['is_finished'] = user_source.apply(finish, axis=1)\n"
      ]
    },
    {
      "cell_type": "code",
      "execution_count": 41,
      "metadata": {
        "colab": {
          "base_uri": "https://localhost:8080/",
          "height": 297
        },
        "id": "IX6ri6ZqyNc0",
        "outputId": "b179ecdc-c8ef-42de-b698-ee88dcb457fc"
      },
      "outputs": [
        {
          "output_type": "execute_result",
          "data": {
            "text/plain": [
              "                    source  is_finished  user_id\n",
              "0             facebook_ads     завершён     1150\n",
              "1             facebook_ads  не завершён     1576\n",
              "2    instagram_new_adverts     завершён     1466\n",
              "3    instagram_new_adverts  не завершён     1881\n",
              "4            yandex_direct     завершён     2042\n",
              "5            yandex_direct  не завершён     2775\n",
              "6  youtube_channel_reklama     завершён     1159\n",
              "7  youtube_channel_reklama  не завершён     1527"
            ],
            "text/html": [
              "\n",
              "  <div id=\"df-d4eb8dc5-2f23-4a21-85f6-fc2d3369c896\">\n",
              "    <div class=\"colab-df-container\">\n",
              "      <div>\n",
              "<style scoped>\n",
              "    .dataframe tbody tr th:only-of-type {\n",
              "        vertical-align: middle;\n",
              "    }\n",
              "\n",
              "    .dataframe tbody tr th {\n",
              "        vertical-align: top;\n",
              "    }\n",
              "\n",
              "    .dataframe thead th {\n",
              "        text-align: right;\n",
              "    }\n",
              "</style>\n",
              "<table border=\"1\" class=\"dataframe\">\n",
              "  <thead>\n",
              "    <tr style=\"text-align: right;\">\n",
              "      <th></th>\n",
              "      <th>source</th>\n",
              "      <th>is_finished</th>\n",
              "      <th>user_id</th>\n",
              "    </tr>\n",
              "  </thead>\n",
              "  <tbody>\n",
              "    <tr>\n",
              "      <th>0</th>\n",
              "      <td>facebook_ads</td>\n",
              "      <td>завершён</td>\n",
              "      <td>1150</td>\n",
              "    </tr>\n",
              "    <tr>\n",
              "      <th>1</th>\n",
              "      <td>facebook_ads</td>\n",
              "      <td>не завершён</td>\n",
              "      <td>1576</td>\n",
              "    </tr>\n",
              "    <tr>\n",
              "      <th>2</th>\n",
              "      <td>instagram_new_adverts</td>\n",
              "      <td>завершён</td>\n",
              "      <td>1466</td>\n",
              "    </tr>\n",
              "    <tr>\n",
              "      <th>3</th>\n",
              "      <td>instagram_new_adverts</td>\n",
              "      <td>не завершён</td>\n",
              "      <td>1881</td>\n",
              "    </tr>\n",
              "    <tr>\n",
              "      <th>4</th>\n",
              "      <td>yandex_direct</td>\n",
              "      <td>завершён</td>\n",
              "      <td>2042</td>\n",
              "    </tr>\n",
              "    <tr>\n",
              "      <th>5</th>\n",
              "      <td>yandex_direct</td>\n",
              "      <td>не завершён</td>\n",
              "      <td>2775</td>\n",
              "    </tr>\n",
              "    <tr>\n",
              "      <th>6</th>\n",
              "      <td>youtube_channel_reklama</td>\n",
              "      <td>завершён</td>\n",
              "      <td>1159</td>\n",
              "    </tr>\n",
              "    <tr>\n",
              "      <th>7</th>\n",
              "      <td>youtube_channel_reklama</td>\n",
              "      <td>не завершён</td>\n",
              "      <td>1527</td>\n",
              "    </tr>\n",
              "  </tbody>\n",
              "</table>\n",
              "</div>\n",
              "      <button class=\"colab-df-convert\" onclick=\"convertToInteractive('df-d4eb8dc5-2f23-4a21-85f6-fc2d3369c896')\"\n",
              "              title=\"Convert this dataframe to an interactive table.\"\n",
              "              style=\"display:none;\">\n",
              "        \n",
              "  <svg xmlns=\"http://www.w3.org/2000/svg\" height=\"24px\"viewBox=\"0 0 24 24\"\n",
              "       width=\"24px\">\n",
              "    <path d=\"M0 0h24v24H0V0z\" fill=\"none\"/>\n",
              "    <path d=\"M18.56 5.44l.94 2.06.94-2.06 2.06-.94-2.06-.94-.94-2.06-.94 2.06-2.06.94zm-11 1L8.5 8.5l.94-2.06 2.06-.94-2.06-.94L8.5 2.5l-.94 2.06-2.06.94zm10 10l.94 2.06.94-2.06 2.06-.94-2.06-.94-.94-2.06-.94 2.06-2.06.94z\"/><path d=\"M17.41 7.96l-1.37-1.37c-.4-.4-.92-.59-1.43-.59-.52 0-1.04.2-1.43.59L10.3 9.45l-7.72 7.72c-.78.78-.78 2.05 0 2.83L4 21.41c.39.39.9.59 1.41.59.51 0 1.02-.2 1.41-.59l7.78-7.78 2.81-2.81c.8-.78.8-2.07 0-2.86zM5.41 20L4 18.59l7.72-7.72 1.47 1.35L5.41 20z\"/>\n",
              "  </svg>\n",
              "      </button>\n",
              "      \n",
              "  <style>\n",
              "    .colab-df-container {\n",
              "      display:flex;\n",
              "      flex-wrap:wrap;\n",
              "      gap: 12px;\n",
              "    }\n",
              "\n",
              "    .colab-df-convert {\n",
              "      background-color: #E8F0FE;\n",
              "      border: none;\n",
              "      border-radius: 50%;\n",
              "      cursor: pointer;\n",
              "      display: none;\n",
              "      fill: #1967D2;\n",
              "      height: 32px;\n",
              "      padding: 0 0 0 0;\n",
              "      width: 32px;\n",
              "    }\n",
              "\n",
              "    .colab-df-convert:hover {\n",
              "      background-color: #E2EBFA;\n",
              "      box-shadow: 0px 1px 2px rgba(60, 64, 67, 0.3), 0px 1px 3px 1px rgba(60, 64, 67, 0.15);\n",
              "      fill: #174EA6;\n",
              "    }\n",
              "\n",
              "    [theme=dark] .colab-df-convert {\n",
              "      background-color: #3B4455;\n",
              "      fill: #D2E3FC;\n",
              "    }\n",
              "\n",
              "    [theme=dark] .colab-df-convert:hover {\n",
              "      background-color: #434B5C;\n",
              "      box-shadow: 0px 1px 3px 1px rgba(0, 0, 0, 0.15);\n",
              "      filter: drop-shadow(0px 1px 2px rgba(0, 0, 0, 0.3));\n",
              "      fill: #FFFFFF;\n",
              "    }\n",
              "  </style>\n",
              "\n",
              "      <script>\n",
              "        const buttonEl =\n",
              "          document.querySelector('#df-d4eb8dc5-2f23-4a21-85f6-fc2d3369c896 button.colab-df-convert');\n",
              "        buttonEl.style.display =\n",
              "          google.colab.kernel.accessAllowed ? 'block' : 'none';\n",
              "\n",
              "        async function convertToInteractive(key) {\n",
              "          const element = document.querySelector('#df-d4eb8dc5-2f23-4a21-85f6-fc2d3369c896');\n",
              "          const dataTable =\n",
              "            await google.colab.kernel.invokeFunction('convertToInteractive',\n",
              "                                                     [key], {});\n",
              "          if (!dataTable) return;\n",
              "\n",
              "          const docLinkHtml = 'Like what you see? Visit the ' +\n",
              "            '<a target=\"_blank\" href=https://colab.research.google.com/notebooks/data_table.ipynb>data table notebook</a>'\n",
              "            + ' to learn more about interactive tables.';\n",
              "          element.innerHTML = '';\n",
              "          dataTable['output_type'] = 'display_data';\n",
              "          await google.colab.output.renderOutput(dataTable, element);\n",
              "          const docLink = document.createElement('div');\n",
              "          docLink.innerHTML = docLinkHtml;\n",
              "          element.appendChild(docLink);\n",
              "        }\n",
              "      </script>\n",
              "    </div>\n",
              "  </div>\n",
              "  "
            ]
          },
          "metadata": {},
          "execution_count": 41
        }
      ],
      "source": [
        "user_source.groupby(['source', 'is_finished'], as_index=False).agg({'user_id':'count'})"
      ]
    },
    {
      "cell_type": "code",
      "execution_count": 42,
      "metadata": {
        "colab": {
          "base_uri": "https://localhost:8080/",
          "height": 317
        },
        "id": "uzdMT8WdyNc0",
        "outputId": "54895dc0-5eff-4b2e-ed76-47c0a33cfc52"
      },
      "outputs": [
        {
          "output_type": "display_data",
          "data": {
            "text/html": [
              "<html>\n",
              "<head><meta charset=\"utf-8\" /></head>\n",
              "<body>\n",
              "    <div>            <script src=\"https://cdnjs.cloudflare.com/ajax/libs/mathjax/2.7.5/MathJax.js?config=TeX-AMS-MML_SVG\"></script><script type=\"text/javascript\">if (window.MathJax && window.MathJax.Hub && window.MathJax.Hub.Config) {window.MathJax.Hub.Config({SVG: {font: \"STIX-Web\"}});}</script>                <script type=\"text/javascript\">window.PlotlyConfig = {MathJaxConfig: 'local'};</script>\n",
              "        <script src=\"https://cdn.plot.ly/plotly-2.18.2.min.js\"></script>                <div id=\"d2609f9f-0b5f-411c-a7cc-df0c63332cbd\" class=\"plotly-graph-div\" style=\"height:300px; width:900px;\"></div>            <script type=\"text/javascript\">                                    window.PLOTLYENV=window.PLOTLYENV || {};                                    if (document.getElementById(\"d2609f9f-0b5f-411c-a7cc-df0c63332cbd\")) {                    Plotly.newPlot(                        \"d2609f9f-0b5f-411c-a7cc-df0c63332cbd\",                        [{\"alignmentgroup\":\"True\",\"hovertemplate\":\"is_finished=\\u0437\\u0430\\u0432\\u0435\\u0440\\u0448\\u0451\\u043d<br>user_id=%{text}<br>source=%{y}<extra></extra>\",\"legendgroup\":\"\\u0437\\u0430\\u0432\\u0435\\u0440\\u0448\\u0451\\u043d\",\"marker\":{\"color\":\"#636efa\",\"pattern\":{\"shape\":\"\"}},\"name\":\"\\u0437\\u0430\\u0432\\u0435\\u0440\\u0448\\u0451\\u043d\",\"offsetgroup\":\"\\u0437\\u0430\\u0432\\u0435\\u0440\\u0448\\u0451\\u043d\",\"orientation\":\"h\",\"showlegend\":true,\"text\":[1150.0,1159.0,1466.0,2042.0],\"textposition\":\"auto\",\"x\":[1150,1159,1466,2042],\"xaxis\":\"x\",\"y\":[\"facebook_ads\",\"youtube_channel_reklama\",\"instagram_new_adverts\",\"yandex_direct\"],\"yaxis\":\"y\",\"type\":\"bar\"},{\"alignmentgroup\":\"True\",\"hovertemplate\":\"is_finished=\\u043d\\u0435 \\u0437\\u0430\\u0432\\u0435\\u0440\\u0448\\u0451\\u043d<br>user_id=%{text}<br>source=%{y}<extra></extra>\",\"legendgroup\":\"\\u043d\\u0435 \\u0437\\u0430\\u0432\\u0435\\u0440\\u0448\\u0451\\u043d\",\"marker\":{\"color\":\"#EF553B\",\"pattern\":{\"shape\":\"\"}},\"name\":\"\\u043d\\u0435 \\u0437\\u0430\\u0432\\u0435\\u0440\\u0448\\u0451\\u043d\",\"offsetgroup\":\"\\u043d\\u0435 \\u0437\\u0430\\u0432\\u0435\\u0440\\u0448\\u0451\\u043d\",\"orientation\":\"h\",\"showlegend\":true,\"text\":[1527.0,1576.0,1881.0,2775.0],\"textposition\":\"auto\",\"x\":[1527,1576,1881,2775],\"xaxis\":\"x\",\"y\":[\"youtube_channel_reklama\",\"facebook_ads\",\"instagram_new_adverts\",\"yandex_direct\"],\"yaxis\":\"y\",\"type\":\"bar\"}],                        {\"template\":{\"data\":{\"histogram2dcontour\":[{\"type\":\"histogram2dcontour\",\"colorbar\":{\"outlinewidth\":0,\"ticks\":\"\"},\"colorscale\":[[0.0,\"#0d0887\"],[0.1111111111111111,\"#46039f\"],[0.2222222222222222,\"#7201a8\"],[0.3333333333333333,\"#9c179e\"],[0.4444444444444444,\"#bd3786\"],[0.5555555555555556,\"#d8576b\"],[0.6666666666666666,\"#ed7953\"],[0.7777777777777778,\"#fb9f3a\"],[0.8888888888888888,\"#fdca26\"],[1.0,\"#f0f921\"]]}],\"choropleth\":[{\"type\":\"choropleth\",\"colorbar\":{\"outlinewidth\":0,\"ticks\":\"\"}}],\"histogram2d\":[{\"type\":\"histogram2d\",\"colorbar\":{\"outlinewidth\":0,\"ticks\":\"\"},\"colorscale\":[[0.0,\"#0d0887\"],[0.1111111111111111,\"#46039f\"],[0.2222222222222222,\"#7201a8\"],[0.3333333333333333,\"#9c179e\"],[0.4444444444444444,\"#bd3786\"],[0.5555555555555556,\"#d8576b\"],[0.6666666666666666,\"#ed7953\"],[0.7777777777777778,\"#fb9f3a\"],[0.8888888888888888,\"#fdca26\"],[1.0,\"#f0f921\"]]}],\"heatmap\":[{\"type\":\"heatmap\",\"colorbar\":{\"outlinewidth\":0,\"ticks\":\"\"},\"colorscale\":[[0.0,\"#0d0887\"],[0.1111111111111111,\"#46039f\"],[0.2222222222222222,\"#7201a8\"],[0.3333333333333333,\"#9c179e\"],[0.4444444444444444,\"#bd3786\"],[0.5555555555555556,\"#d8576b\"],[0.6666666666666666,\"#ed7953\"],[0.7777777777777778,\"#fb9f3a\"],[0.8888888888888888,\"#fdca26\"],[1.0,\"#f0f921\"]]}],\"heatmapgl\":[{\"type\":\"heatmapgl\",\"colorbar\":{\"outlinewidth\":0,\"ticks\":\"\"},\"colorscale\":[[0.0,\"#0d0887\"],[0.1111111111111111,\"#46039f\"],[0.2222222222222222,\"#7201a8\"],[0.3333333333333333,\"#9c179e\"],[0.4444444444444444,\"#bd3786\"],[0.5555555555555556,\"#d8576b\"],[0.6666666666666666,\"#ed7953\"],[0.7777777777777778,\"#fb9f3a\"],[0.8888888888888888,\"#fdca26\"],[1.0,\"#f0f921\"]]}],\"contourcarpet\":[{\"type\":\"contourcarpet\",\"colorbar\":{\"outlinewidth\":0,\"ticks\":\"\"}}],\"contour\":[{\"type\":\"contour\",\"colorbar\":{\"outlinewidth\":0,\"ticks\":\"\"},\"colorscale\":[[0.0,\"#0d0887\"],[0.1111111111111111,\"#46039f\"],[0.2222222222222222,\"#7201a8\"],[0.3333333333333333,\"#9c179e\"],[0.4444444444444444,\"#bd3786\"],[0.5555555555555556,\"#d8576b\"],[0.6666666666666666,\"#ed7953\"],[0.7777777777777778,\"#fb9f3a\"],[0.8888888888888888,\"#fdca26\"],[1.0,\"#f0f921\"]]}],\"surface\":[{\"type\":\"surface\",\"colorbar\":{\"outlinewidth\":0,\"ticks\":\"\"},\"colorscale\":[[0.0,\"#0d0887\"],[0.1111111111111111,\"#46039f\"],[0.2222222222222222,\"#7201a8\"],[0.3333333333333333,\"#9c179e\"],[0.4444444444444444,\"#bd3786\"],[0.5555555555555556,\"#d8576b\"],[0.6666666666666666,\"#ed7953\"],[0.7777777777777778,\"#fb9f3a\"],[0.8888888888888888,\"#fdca26\"],[1.0,\"#f0f921\"]]}],\"mesh3d\":[{\"type\":\"mesh3d\",\"colorbar\":{\"outlinewidth\":0,\"ticks\":\"\"}}],\"scatter\":[{\"fillpattern\":{\"fillmode\":\"overlay\",\"size\":10,\"solidity\":0.2},\"type\":\"scatter\"}],\"parcoords\":[{\"type\":\"parcoords\",\"line\":{\"colorbar\":{\"outlinewidth\":0,\"ticks\":\"\"}}}],\"scatterpolargl\":[{\"type\":\"scatterpolargl\",\"marker\":{\"colorbar\":{\"outlinewidth\":0,\"ticks\":\"\"}}}],\"bar\":[{\"error_x\":{\"color\":\"#2a3f5f\"},\"error_y\":{\"color\":\"#2a3f5f\"},\"marker\":{\"line\":{\"color\":\"#E5ECF6\",\"width\":0.5},\"pattern\":{\"fillmode\":\"overlay\",\"size\":10,\"solidity\":0.2}},\"type\":\"bar\"}],\"scattergeo\":[{\"type\":\"scattergeo\",\"marker\":{\"colorbar\":{\"outlinewidth\":0,\"ticks\":\"\"}}}],\"scatterpolar\":[{\"type\":\"scatterpolar\",\"marker\":{\"colorbar\":{\"outlinewidth\":0,\"ticks\":\"\"}}}],\"histogram\":[{\"marker\":{\"pattern\":{\"fillmode\":\"overlay\",\"size\":10,\"solidity\":0.2}},\"type\":\"histogram\"}],\"scattergl\":[{\"type\":\"scattergl\",\"marker\":{\"colorbar\":{\"outlinewidth\":0,\"ticks\":\"\"}}}],\"scatter3d\":[{\"type\":\"scatter3d\",\"line\":{\"colorbar\":{\"outlinewidth\":0,\"ticks\":\"\"}},\"marker\":{\"colorbar\":{\"outlinewidth\":0,\"ticks\":\"\"}}}],\"scattermapbox\":[{\"type\":\"scattermapbox\",\"marker\":{\"colorbar\":{\"outlinewidth\":0,\"ticks\":\"\"}}}],\"scatterternary\":[{\"type\":\"scatterternary\",\"marker\":{\"colorbar\":{\"outlinewidth\":0,\"ticks\":\"\"}}}],\"scattercarpet\":[{\"type\":\"scattercarpet\",\"marker\":{\"colorbar\":{\"outlinewidth\":0,\"ticks\":\"\"}}}],\"carpet\":[{\"aaxis\":{\"endlinecolor\":\"#2a3f5f\",\"gridcolor\":\"white\",\"linecolor\":\"white\",\"minorgridcolor\":\"white\",\"startlinecolor\":\"#2a3f5f\"},\"baxis\":{\"endlinecolor\":\"#2a3f5f\",\"gridcolor\":\"white\",\"linecolor\":\"white\",\"minorgridcolor\":\"white\",\"startlinecolor\":\"#2a3f5f\"},\"type\":\"carpet\"}],\"table\":[{\"cells\":{\"fill\":{\"color\":\"#EBF0F8\"},\"line\":{\"color\":\"white\"}},\"header\":{\"fill\":{\"color\":\"#C8D4E3\"},\"line\":{\"color\":\"white\"}},\"type\":\"table\"}],\"barpolar\":[{\"marker\":{\"line\":{\"color\":\"#E5ECF6\",\"width\":0.5},\"pattern\":{\"fillmode\":\"overlay\",\"size\":10,\"solidity\":0.2}},\"type\":\"barpolar\"}],\"pie\":[{\"automargin\":true,\"type\":\"pie\"}]},\"layout\":{\"autotypenumbers\":\"strict\",\"colorway\":[\"#636efa\",\"#EF553B\",\"#00cc96\",\"#ab63fa\",\"#FFA15A\",\"#19d3f3\",\"#FF6692\",\"#B6E880\",\"#FF97FF\",\"#FECB52\"],\"font\":{\"color\":\"#2a3f5f\"},\"hovermode\":\"closest\",\"hoverlabel\":{\"align\":\"left\"},\"paper_bgcolor\":\"white\",\"plot_bgcolor\":\"#E5ECF6\",\"polar\":{\"bgcolor\":\"#E5ECF6\",\"angularaxis\":{\"gridcolor\":\"white\",\"linecolor\":\"white\",\"ticks\":\"\"},\"radialaxis\":{\"gridcolor\":\"white\",\"linecolor\":\"white\",\"ticks\":\"\"}},\"ternary\":{\"bgcolor\":\"#E5ECF6\",\"aaxis\":{\"gridcolor\":\"white\",\"linecolor\":\"white\",\"ticks\":\"\"},\"baxis\":{\"gridcolor\":\"white\",\"linecolor\":\"white\",\"ticks\":\"\"},\"caxis\":{\"gridcolor\":\"white\",\"linecolor\":\"white\",\"ticks\":\"\"}},\"coloraxis\":{\"colorbar\":{\"outlinewidth\":0,\"ticks\":\"\"}},\"colorscale\":{\"sequential\":[[0.0,\"#0d0887\"],[0.1111111111111111,\"#46039f\"],[0.2222222222222222,\"#7201a8\"],[0.3333333333333333,\"#9c179e\"],[0.4444444444444444,\"#bd3786\"],[0.5555555555555556,\"#d8576b\"],[0.6666666666666666,\"#ed7953\"],[0.7777777777777778,\"#fb9f3a\"],[0.8888888888888888,\"#fdca26\"],[1.0,\"#f0f921\"]],\"sequentialminus\":[[0.0,\"#0d0887\"],[0.1111111111111111,\"#46039f\"],[0.2222222222222222,\"#7201a8\"],[0.3333333333333333,\"#9c179e\"],[0.4444444444444444,\"#bd3786\"],[0.5555555555555556,\"#d8576b\"],[0.6666666666666666,\"#ed7953\"],[0.7777777777777778,\"#fb9f3a\"],[0.8888888888888888,\"#fdca26\"],[1.0,\"#f0f921\"]],\"diverging\":[[0,\"#8e0152\"],[0.1,\"#c51b7d\"],[0.2,\"#de77ae\"],[0.3,\"#f1b6da\"],[0.4,\"#fde0ef\"],[0.5,\"#f7f7f7\"],[0.6,\"#e6f5d0\"],[0.7,\"#b8e186\"],[0.8,\"#7fbc41\"],[0.9,\"#4d9221\"],[1,\"#276419\"]]},\"xaxis\":{\"gridcolor\":\"white\",\"linecolor\":\"white\",\"ticks\":\"\",\"title\":{\"standoff\":15},\"zerolinecolor\":\"white\",\"automargin\":true,\"zerolinewidth\":2},\"yaxis\":{\"gridcolor\":\"white\",\"linecolor\":\"white\",\"ticks\":\"\",\"title\":{\"standoff\":15},\"zerolinecolor\":\"white\",\"automargin\":true,\"zerolinewidth\":2},\"scene\":{\"xaxis\":{\"backgroundcolor\":\"#E5ECF6\",\"gridcolor\":\"white\",\"linecolor\":\"white\",\"showbackground\":true,\"ticks\":\"\",\"zerolinecolor\":\"white\",\"gridwidth\":2},\"yaxis\":{\"backgroundcolor\":\"#E5ECF6\",\"gridcolor\":\"white\",\"linecolor\":\"white\",\"showbackground\":true,\"ticks\":\"\",\"zerolinecolor\":\"white\",\"gridwidth\":2},\"zaxis\":{\"backgroundcolor\":\"#E5ECF6\",\"gridcolor\":\"white\",\"linecolor\":\"white\",\"showbackground\":true,\"ticks\":\"\",\"zerolinecolor\":\"white\",\"gridwidth\":2}},\"shapedefaults\":{\"line\":{\"color\":\"#2a3f5f\"}},\"annotationdefaults\":{\"arrowcolor\":\"#2a3f5f\",\"arrowhead\":0,\"arrowwidth\":1},\"geo\":{\"bgcolor\":\"white\",\"landcolor\":\"#E5ECF6\",\"subunitcolor\":\"white\",\"showland\":true,\"showlakes\":true,\"lakecolor\":\"white\"},\"title\":{\"x\":0.05},\"mapbox\":{\"style\":\"light\"}}},\"xaxis\":{\"anchor\":\"y\",\"domain\":[0.0,1.0],\"title\":{\"text\":\"\\u041a\\u043e\\u043b\\u0438\\u0447\\u0435\\u0441\\u0442\\u0432\\u043e \\u0438\\u0433\\u0440\\u043e\\u043a\\u043e\\u0432\"}},\"yaxis\":{\"anchor\":\"x\",\"domain\":[0.0,1.0],\"title\":{\"text\":\"\\u041a\\u0430\\u043d\\u0430\\u043b \\u043f\\u0440\\u0438\\u0432\\u043b\\u0435\\u0447\\u0435\\u043d\\u0438\\u044f\"}},\"legend\":{\"title\":{\"text\":\" \"},\"tracegroupgap\":0},\"margin\":{\"t\":60},\"barmode\":\"relative\",\"title\":{\"text\":\"\\u0427\\u0438\\u0441\\u043b\\u043e \\u043f\\u0440\\u0438\\u0432\\u043b\\u0435\\u0447\\u0451\\u043d\\u043d\\u044b\\u0445 \\u0438\\u0433\\u0440\\u043e\\u043a\\u043e\\u0432, \\u0440\\u0430\\u0437\\u0434\\u0435\\u043b\\u0451\\u043d\\u043d\\u044b\\u0445 \\u043f\\u043e \\u043f\\u0440\\u0438\\u0437\\u043d\\u0430\\u043a\\u0443 \\u0437\\u0430\\u0432\\u0435\\u0440\\u0448\\u0435\\u043d\\u0438\\u044f \\u0443\\u0440\\u043e\\u0432\\u043d\\u044f\"},\"width\":900,\"height\":300},                        {\"responsive\": true}                    ).then(function(){\n",
              "                            \n",
              "var gd = document.getElementById('d2609f9f-0b5f-411c-a7cc-df0c63332cbd');\n",
              "var x = new MutationObserver(function (mutations, observer) {{\n",
              "        var display = window.getComputedStyle(gd).display;\n",
              "        if (!display || display === 'none') {{\n",
              "            console.log([gd, 'removed!']);\n",
              "            Plotly.purge(gd);\n",
              "            observer.disconnect();\n",
              "        }}\n",
              "}});\n",
              "\n",
              "// Listen for the removal of the full notebook cells\n",
              "var notebookContainer = gd.closest('#notebook-container');\n",
              "if (notebookContainer) {{\n",
              "    x.observe(notebookContainer, {childList: true});\n",
              "}}\n",
              "\n",
              "// Listen for the clearing of the current output cell\n",
              "var outputEl = gd.closest('.output');\n",
              "if (outputEl) {{\n",
              "    x.observe(outputEl, {childList: true});\n",
              "}}\n",
              "\n",
              "                        })                };                            </script>        </div>\n",
              "</body>\n",
              "</html>"
            ]
          },
          "metadata": {}
        }
      ],
      "source": [
        "# Визуализируем игроков по признаку завершения уровня\n",
        "fig = px.bar(user_source.groupby(['source', 'is_finished'], as_index=False)\n",
        "             .agg({'user_id':'count'}).sort_values('user_id'),\n",
        "             x='user_id',\n",
        "             y='source',\n",
        "             color='is_finished',\n",
        "             text='user_id')\n",
        "fig.update_layout(title='Число привлечённых игроков, разделённых по признаку завершения уровня',\n",
        "                  xaxis_title='Количество игроков',\n",
        "                  yaxis_title='Канал привлечения',\n",
        "                  legend_title=' ',\n",
        "                  width=900, height=300)\n",
        "fig.show()"
      ]
    },
    {
      "cell_type": "markdown",
      "metadata": {
        "id": "WlpOKpuCyNc0"
      },
      "source": [
        "***Наблюдается очень интересная закономерность:***\n",
        "- ***Процент игроков, которые прошли первый уровень и не \"отвалились\" по всем каналам - примерно одинаковый -*** `42.2`-`43.8%`.\n",
        "\n",
        "**Смею предположить, что здесь имеет место разница в категориях людей, которые в большинстве используют тот или иной ресурс (канал привлечения). Т.е. игроки, которые пришли с** `instagram`, **с бoльшей вероятностью дойдут до конца уровня, чем те, кто пришёл с** `facebook'a`.\n",
        "- ***Так, мы видим, что \"отстающий\" по затратам и количеству пришедших игроков*** `youtube` ***занимает второе место (с разницей всего в*** `0.6%` ***от \"лидера\") среди дошедших до конца первого уровня пользователей.***\n",
        "\n",
        "**На это стоит обратить внимание при планировании следующих рекламных кампаний, но не стоит забывать, что это процент ОТ числа привлечённых игроков. Однако также важно помнить, что в стоимости мы обнаружили различия почти в два раза, а тут 0.6%**"
      ]
    },
    {
      "cell_type": "markdown",
      "metadata": {
        "id": "4R6dbDE8yNc1"
      },
      "source": [
        "<a id='различие_количества_pvp_и_pve'></a>\n",
        "### 5.2.2 Различие количества PVP и PVE игроков по каналам привлечения"
      ]
    },
    {
      "cell_type": "markdown",
      "metadata": {
        "id": "spdAxHbFyNc1"
      },
      "source": [
        "***Будем считать, что `PVP` игрок - это тот, кто завершил уровень не выполняя проект, а `PVE` игрок - это тот, у которого перед завершением уровня есть действие `project`. Делить игроков по типу прохождения будем только тех, кто завершил уровень (имеет действие finished_stage_1).***"
      ]
    },
    {
      "cell_type": "code",
      "execution_count": 43,
      "metadata": {
        "scrolled": false,
        "id": "3D46oApTyNc1"
      },
      "outputs": [],
      "source": [
        "# Создадим списки с id игроков, в зависимости от способа прохождения уровня\n",
        "# Для этого разделим юзеров на тех, кто завершил уровень выполнив проект и на тех, кто победил первого врага\n",
        "pve_users = game_actions.query('event == \"project\" and user_id in @finished_users')['user_id'].tolist()\n",
        "pvp_users = game_actions.query('event != \"project\" and user_id in @finished_users')['user_id'].tolist()"
      ]
    },
    {
      "cell_type": "code",
      "execution_count": 44,
      "metadata": {
        "colab": {
          "base_uri": "https://localhost:8080/",
          "height": 204
        },
        "id": "-vZbkPCNyNc1",
        "outputId": "8da10946-113c-4ef2-f8ba-59bc611ac120"
      },
      "outputs": [
        {
          "output_type": "execute_result",
          "data": {
            "text/plain": [
              "                                    user_id                   source  \\\n",
              "11589  dae4ab35-d434-4c75-8b3a-7dae0ed0c224            yandex_direct   \n",
              "7729   909122b6-fbc0-4b47-8189-867ee8699402    instagram_new_adverts   \n",
              "6634   7b3f23bd-cc3f-416e-abb3-2d0788d2d7ac             facebook_ads   \n",
              "5109   5f0d6c8d-1afe-4acd-9c76-13483e73b671            yandex_direct   \n",
              "11159  d37c1f76-7743-4a0e-935f-2787e7e7a53d  youtube_channel_reklama   \n",
              "\n",
              "      first_date  last_date   pvp_or_pve  \n",
              "11589 2020-05-07 2020-05-20  не завершён  \n",
              "7729  2020-05-04 2020-05-09  не завершён  \n",
              "6634  2020-05-04 2020-05-13          pvp  \n",
              "5109  2020-05-07 2020-05-14          pvp  \n",
              "11159 2020-05-04 2020-05-14  не завершён  "
            ],
            "text/html": [
              "\n",
              "  <div id=\"df-73e06152-6056-4afb-903e-f22261ac056f\">\n",
              "    <div class=\"colab-df-container\">\n",
              "      <div>\n",
              "<style scoped>\n",
              "    .dataframe tbody tr th:only-of-type {\n",
              "        vertical-align: middle;\n",
              "    }\n",
              "\n",
              "    .dataframe tbody tr th {\n",
              "        vertical-align: top;\n",
              "    }\n",
              "\n",
              "    .dataframe thead th {\n",
              "        text-align: right;\n",
              "    }\n",
              "</style>\n",
              "<table border=\"1\" class=\"dataframe\">\n",
              "  <thead>\n",
              "    <tr style=\"text-align: right;\">\n",
              "      <th></th>\n",
              "      <th>user_id</th>\n",
              "      <th>source</th>\n",
              "      <th>first_date</th>\n",
              "      <th>last_date</th>\n",
              "      <th>pvp_or_pve</th>\n",
              "    </tr>\n",
              "  </thead>\n",
              "  <tbody>\n",
              "    <tr>\n",
              "      <th>11589</th>\n",
              "      <td>dae4ab35-d434-4c75-8b3a-7dae0ed0c224</td>\n",
              "      <td>yandex_direct</td>\n",
              "      <td>2020-05-07</td>\n",
              "      <td>2020-05-20</td>\n",
              "      <td>не завершён</td>\n",
              "    </tr>\n",
              "    <tr>\n",
              "      <th>7729</th>\n",
              "      <td>909122b6-fbc0-4b47-8189-867ee8699402</td>\n",
              "      <td>instagram_new_adverts</td>\n",
              "      <td>2020-05-04</td>\n",
              "      <td>2020-05-09</td>\n",
              "      <td>не завершён</td>\n",
              "    </tr>\n",
              "    <tr>\n",
              "      <th>6634</th>\n",
              "      <td>7b3f23bd-cc3f-416e-abb3-2d0788d2d7ac</td>\n",
              "      <td>facebook_ads</td>\n",
              "      <td>2020-05-04</td>\n",
              "      <td>2020-05-13</td>\n",
              "      <td>pvp</td>\n",
              "    </tr>\n",
              "    <tr>\n",
              "      <th>5109</th>\n",
              "      <td>5f0d6c8d-1afe-4acd-9c76-13483e73b671</td>\n",
              "      <td>yandex_direct</td>\n",
              "      <td>2020-05-07</td>\n",
              "      <td>2020-05-14</td>\n",
              "      <td>pvp</td>\n",
              "    </tr>\n",
              "    <tr>\n",
              "      <th>11159</th>\n",
              "      <td>d37c1f76-7743-4a0e-935f-2787e7e7a53d</td>\n",
              "      <td>youtube_channel_reklama</td>\n",
              "      <td>2020-05-04</td>\n",
              "      <td>2020-05-14</td>\n",
              "      <td>не завершён</td>\n",
              "    </tr>\n",
              "  </tbody>\n",
              "</table>\n",
              "</div>\n",
              "      <button class=\"colab-df-convert\" onclick=\"convertToInteractive('df-73e06152-6056-4afb-903e-f22261ac056f')\"\n",
              "              title=\"Convert this dataframe to an interactive table.\"\n",
              "              style=\"display:none;\">\n",
              "        \n",
              "  <svg xmlns=\"http://www.w3.org/2000/svg\" height=\"24px\"viewBox=\"0 0 24 24\"\n",
              "       width=\"24px\">\n",
              "    <path d=\"M0 0h24v24H0V0z\" fill=\"none\"/>\n",
              "    <path d=\"M18.56 5.44l.94 2.06.94-2.06 2.06-.94-2.06-.94-.94-2.06-.94 2.06-2.06.94zm-11 1L8.5 8.5l.94-2.06 2.06-.94-2.06-.94L8.5 2.5l-.94 2.06-2.06.94zm10 10l.94 2.06.94-2.06 2.06-.94-2.06-.94-.94-2.06-.94 2.06-2.06.94z\"/><path d=\"M17.41 7.96l-1.37-1.37c-.4-.4-.92-.59-1.43-.59-.52 0-1.04.2-1.43.59L10.3 9.45l-7.72 7.72c-.78.78-.78 2.05 0 2.83L4 21.41c.39.39.9.59 1.41.59.51 0 1.02-.2 1.41-.59l7.78-7.78 2.81-2.81c.8-.78.8-2.07 0-2.86zM5.41 20L4 18.59l7.72-7.72 1.47 1.35L5.41 20z\"/>\n",
              "  </svg>\n",
              "      </button>\n",
              "      \n",
              "  <style>\n",
              "    .colab-df-container {\n",
              "      display:flex;\n",
              "      flex-wrap:wrap;\n",
              "      gap: 12px;\n",
              "    }\n",
              "\n",
              "    .colab-df-convert {\n",
              "      background-color: #E8F0FE;\n",
              "      border: none;\n",
              "      border-radius: 50%;\n",
              "      cursor: pointer;\n",
              "      display: none;\n",
              "      fill: #1967D2;\n",
              "      height: 32px;\n",
              "      padding: 0 0 0 0;\n",
              "      width: 32px;\n",
              "    }\n",
              "\n",
              "    .colab-df-convert:hover {\n",
              "      background-color: #E2EBFA;\n",
              "      box-shadow: 0px 1px 2px rgba(60, 64, 67, 0.3), 0px 1px 3px 1px rgba(60, 64, 67, 0.15);\n",
              "      fill: #174EA6;\n",
              "    }\n",
              "\n",
              "    [theme=dark] .colab-df-convert {\n",
              "      background-color: #3B4455;\n",
              "      fill: #D2E3FC;\n",
              "    }\n",
              "\n",
              "    [theme=dark] .colab-df-convert:hover {\n",
              "      background-color: #434B5C;\n",
              "      box-shadow: 0px 1px 3px 1px rgba(0, 0, 0, 0.15);\n",
              "      filter: drop-shadow(0px 1px 2px rgba(0, 0, 0, 0.3));\n",
              "      fill: #FFFFFF;\n",
              "    }\n",
              "  </style>\n",
              "\n",
              "      <script>\n",
              "        const buttonEl =\n",
              "          document.querySelector('#df-73e06152-6056-4afb-903e-f22261ac056f button.colab-df-convert');\n",
              "        buttonEl.style.display =\n",
              "          google.colab.kernel.accessAllowed ? 'block' : 'none';\n",
              "\n",
              "        async function convertToInteractive(key) {\n",
              "          const element = document.querySelector('#df-73e06152-6056-4afb-903e-f22261ac056f');\n",
              "          const dataTable =\n",
              "            await google.colab.kernel.invokeFunction('convertToInteractive',\n",
              "                                                     [key], {});\n",
              "          if (!dataTable) return;\n",
              "\n",
              "          const docLinkHtml = 'Like what you see? Visit the ' +\n",
              "            '<a target=\"_blank\" href=https://colab.research.google.com/notebooks/data_table.ipynb>data table notebook</a>'\n",
              "            + ' to learn more about interactive tables.';\n",
              "          element.innerHTML = '';\n",
              "          dataTable['output_type'] = 'display_data';\n",
              "          await google.colab.output.renderOutput(dataTable, element);\n",
              "          const docLink = document.createElement('div');\n",
              "          docLink.innerHTML = docLinkHtml;\n",
              "          element.appendChild(docLink);\n",
              "        }\n",
              "      </script>\n",
              "    </div>\n",
              "  </div>\n",
              "  "
            ]
          },
          "metadata": {},
          "execution_count": 44
        }
      ],
      "source": [
        "# Функция для создания доп столбца с признаком завершения/незавершения уровня\n",
        "def pvp_or_pve(row):\n",
        "    if row['user_id'] in pve_users:\n",
        "        val = 'pve'\n",
        "    elif row['user_id'] in pvp_users:\n",
        "        val = 'pvp'\n",
        "    else:\n",
        "        val = 'не завершён'\n",
        "    return val\n",
        "# Добавление столбца к профайлам с признаком незавершения/завершения уровня и метода\n",
        "profiles['pvp_or_pve'] = profiles.apply(pvp_or_pve, axis=1)\n",
        "profiles.sample(5)"
      ]
    },
    {
      "cell_type": "code",
      "execution_count": 45,
      "metadata": {
        "scrolled": false,
        "colab": {
          "base_uri": "https://localhost:8080/",
          "height": 675
        },
        "id": "NdwWlhm9yNc1",
        "outputId": "474c9037-c561-4a61-af9a-c3f4ab6993be"
      },
      "outputs": [
        {
          "output_type": "display_data",
          "data": {
            "text/plain": [
              "<Figure size 1500x800 with 1 Axes>"
            ],
            "image/png": "[encoded data removed]"
          },
          "metadata": {}
        }
      ],
      "source": [
        "# Взглянем на всех игроков под углом завершения первого уровня и типом его завершения\n",
        "(\n",
        "    profiles['pvp_or_pve']\n",
        "    .value_counts()\n",
        "    .to_frame()\n",
        "    .plot(kind='pie',\n",
        "          y='pvp_or_pve',\n",
        "          autopct='%1.1f%%',\n",
        "          figsize=(15,8),\n",
        "          title='Тип завершения первого уровня игроками представленными в данных',\n",
        "          ylabel='',\n",
        "         shadow=True,\n",
        "         explode=(0.02, 0.05, 0.05)));"
      ]
    },
    {
      "cell_type": "markdown",
      "metadata": {
        "id": "zPMvQfc0yNc1"
      },
      "source": [
        "- ***Не завершили первый уровень*** `57.2%` ***игроков!***\n",
        "- ***Прошли первый уровень*** `43%` ***игроков, из которых:***\n",
        "    - `29.1%` ***- закончили уровень путём победы над первым врагом;***\n",
        "    - `13.7%` ***- закончили уровень путём выполнения проекта.***"
      ]
    },
    {
      "cell_type": "code",
      "execution_count": 46,
      "metadata": {
        "colab": {
          "base_uri": "https://localhost:8080/",
          "height": 297
        },
        "id": "l1KL5WEbyNc2",
        "outputId": "de2174ea-97de-47ae-8f56-fec5ae5b78fd"
      },
      "outputs": [
        {
          "output_type": "execute_result",
          "data": {
            "text/plain": [
              "                    source pvp_or_pve  usr_cnt  ratio, %\n",
              "0             facebook_ads        pve      391     34.00\n",
              "1             facebook_ads        pvp      759     66.00\n",
              "2    instagram_new_adverts        pve      476     32.47\n",
              "3    instagram_new_adverts        pvp      990     67.53\n",
              "4            yandex_direct        pve      620     30.36\n",
              "5            yandex_direct        pvp     1422     69.64\n",
              "6  youtube_channel_reklama        pve      379     32.70\n",
              "7  youtube_channel_reklama        pvp      780     67.30"
            ],
            "text/html": [
              "\n",
              "  <div id=\"df-bb79c929-d928-4692-8d90-7a88a7364fd6\">\n",
              "    <div class=\"colab-df-container\">\n",
              "      <div>\n",
              "<style scoped>\n",
              "    .dataframe tbody tr th:only-of-type {\n",
              "        vertical-align: middle;\n",
              "    }\n",
              "\n",
              "    .dataframe tbody tr th {\n",
              "        vertical-align: top;\n",
              "    }\n",
              "\n",
              "    .dataframe thead th {\n",
              "        text-align: right;\n",
              "    }\n",
              "</style>\n",
              "<table border=\"1\" class=\"dataframe\">\n",
              "  <thead>\n",
              "    <tr style=\"text-align: right;\">\n",
              "      <th></th>\n",
              "      <th>source</th>\n",
              "      <th>pvp_or_pve</th>\n",
              "      <th>usr_cnt</th>\n",
              "      <th>ratio, %</th>\n",
              "    </tr>\n",
              "  </thead>\n",
              "  <tbody>\n",
              "    <tr>\n",
              "      <th>0</th>\n",
              "      <td>facebook_ads</td>\n",
              "      <td>pve</td>\n",
              "      <td>391</td>\n",
              "      <td>34.00</td>\n",
              "    </tr>\n",
              "    <tr>\n",
              "      <th>1</th>\n",
              "      <td>facebook_ads</td>\n",
              "      <td>pvp</td>\n",
              "      <td>759</td>\n",
              "      <td>66.00</td>\n",
              "    </tr>\n",
              "    <tr>\n",
              "      <th>2</th>\n",
              "      <td>instagram_new_adverts</td>\n",
              "      <td>pve</td>\n",
              "      <td>476</td>\n",
              "      <td>32.47</td>\n",
              "    </tr>\n",
              "    <tr>\n",
              "      <th>3</th>\n",
              "      <td>instagram_new_adverts</td>\n",
              "      <td>pvp</td>\n",
              "      <td>990</td>\n",
              "      <td>67.53</td>\n",
              "    </tr>\n",
              "    <tr>\n",
              "      <th>4</th>\n",
              "      <td>yandex_direct</td>\n",
              "      <td>pve</td>\n",
              "      <td>620</td>\n",
              "      <td>30.36</td>\n",
              "    </tr>\n",
              "    <tr>\n",
              "      <th>5</th>\n",
              "      <td>yandex_direct</td>\n",
              "      <td>pvp</td>\n",
              "      <td>1422</td>\n",
              "      <td>69.64</td>\n",
              "    </tr>\n",
              "    <tr>\n",
              "      <th>6</th>\n",
              "      <td>youtube_channel_reklama</td>\n",
              "      <td>pve</td>\n",
              "      <td>379</td>\n",
              "      <td>32.70</td>\n",
              "    </tr>\n",
              "    <tr>\n",
              "      <th>7</th>\n",
              "      <td>youtube_channel_reklama</td>\n",
              "      <td>pvp</td>\n",
              "      <td>780</td>\n",
              "      <td>67.30</td>\n",
              "    </tr>\n",
              "  </tbody>\n",
              "</table>\n",
              "</div>\n",
              "      <button class=\"colab-df-convert\" onclick=\"convertToInteractive('df-bb79c929-d928-4692-8d90-7a88a7364fd6')\"\n",
              "              title=\"Convert this dataframe to an interactive table.\"\n",
              "              style=\"display:none;\">\n",
              "        \n",
              "  <svg xmlns=\"http://www.w3.org/2000/svg\" height=\"24px\"viewBox=\"0 0 24 24\"\n",
              "       width=\"24px\">\n",
              "    <path d=\"M0 0h24v24H0V0z\" fill=\"none\"/>\n",
              "    <path d=\"M18.56 5.44l.94 2.06.94-2.06 2.06-.94-2.06-.94-.94-2.06-.94 2.06-2.06.94zm-11 1L8.5 8.5l.94-2.06 2.06-.94-2.06-.94L8.5 2.5l-.94 2.06-2.06.94zm10 10l.94 2.06.94-2.06 2.06-.94-2.06-.94-.94-2.06-.94 2.06-2.06.94z\"/><path d=\"M17.41 7.96l-1.37-1.37c-.4-.4-.92-.59-1.43-.59-.52 0-1.04.2-1.43.59L10.3 9.45l-7.72 7.72c-.78.78-.78 2.05 0 2.83L4 21.41c.39.39.9.59 1.41.59.51 0 1.02-.2 1.41-.59l7.78-7.78 2.81-2.81c.8-.78.8-2.07 0-2.86zM5.41 20L4 18.59l7.72-7.72 1.47 1.35L5.41 20z\"/>\n",
              "  </svg>\n",
              "      </button>\n",
              "      \n",
              "  <style>\n",
              "    .colab-df-container {\n",
              "      display:flex;\n",
              "      flex-wrap:wrap;\n",
              "      gap: 12px;\n",
              "    }\n",
              "\n",
              "    .colab-df-convert {\n",
              "      background-color: #E8F0FE;\n",
              "      border: none;\n",
              "      border-radius: 50%;\n",
              "      cursor: pointer;\n",
              "      display: none;\n",
              "      fill: #1967D2;\n",
              "      height: 32px;\n",
              "      padding: 0 0 0 0;\n",
              "      width: 32px;\n",
              "    }\n",
              "\n",
              "    .colab-df-convert:hover {\n",
              "      background-color: #E2EBFA;\n",
              "      box-shadow: 0px 1px 2px rgba(60, 64, 67, 0.3), 0px 1px 3px 1px rgba(60, 64, 67, 0.15);\n",
              "      fill: #174EA6;\n",
              "    }\n",
              "\n",
              "    [theme=dark] .colab-df-convert {\n",
              "      background-color: #3B4455;\n",
              "      fill: #D2E3FC;\n",
              "    }\n",
              "\n",
              "    [theme=dark] .colab-df-convert:hover {\n",
              "      background-color: #434B5C;\n",
              "      box-shadow: 0px 1px 3px 1px rgba(0, 0, 0, 0.15);\n",
              "      filter: drop-shadow(0px 1px 2px rgba(0, 0, 0, 0.3));\n",
              "      fill: #FFFFFF;\n",
              "    }\n",
              "  </style>\n",
              "\n",
              "      <script>\n",
              "        const buttonEl =\n",
              "          document.querySelector('#df-bb79c929-d928-4692-8d90-7a88a7364fd6 button.colab-df-convert');\n",
              "        buttonEl.style.display =\n",
              "          google.colab.kernel.accessAllowed ? 'block' : 'none';\n",
              "\n",
              "        async function convertToInteractive(key) {\n",
              "          const element = document.querySelector('#df-bb79c929-d928-4692-8d90-7a88a7364fd6');\n",
              "          const dataTable =\n",
              "            await google.colab.kernel.invokeFunction('convertToInteractive',\n",
              "                                                     [key], {});\n",
              "          if (!dataTable) return;\n",
              "\n",
              "          const docLinkHtml = 'Like what you see? Visit the ' +\n",
              "            '<a target=\"_blank\" href=https://colab.research.google.com/notebooks/data_table.ipynb>data table notebook</a>'\n",
              "            + ' to learn more about interactive tables.';\n",
              "          element.innerHTML = '';\n",
              "          dataTable['output_type'] = 'display_data';\n",
              "          await google.colab.output.renderOutput(dataTable, element);\n",
              "          const docLink = document.createElement('div');\n",
              "          docLink.innerHTML = docLinkHtml;\n",
              "          element.appendChild(docLink);\n",
              "        }\n",
              "      </script>\n",
              "    </div>\n",
              "  </div>\n",
              "  "
            ]
          },
          "metadata": {},
          "execution_count": 46
        }
      ],
      "source": [
        "# Создадим датафрейм с данными о PVE и PVP игроках пришедших с каждого источника\n",
        "source_pvp_or_pve = (\n",
        "    profiles.query('pvp_or_pve == \"pve\" or pvp_or_pve == \"pvp\"')\n",
        "    .groupby(['source', 'pvp_or_pve'], as_index=False)\n",
        "    .agg({'user_id':'nunique'})\n",
        "    .rename(columns={'user_id':'usr_cnt'}))\n",
        "\n",
        "# Добавим столбец с общим числом игроков, завершивших уровень\n",
        "source_pvp_or_pve = (\n",
        "    source_pvp_or_pve\n",
        "    .merge(source_pvp_or_pve.groupby('source', as_index=False).agg({'usr_cnt':'sum'})\n",
        "           , on='source', how='left')\n",
        "    .rename(columns={'usr_cnt_x':'usr_cnt', 'usr_cnt_y':'finished_usr'}))\n",
        "\n",
        "# И столбец отображающий долю в процентах от общего числа игроков, завершивших уровень\n",
        "source_pvp_or_pve['ratio, %'] = round(source_pvp_or_pve['usr_cnt'] / source_pvp_or_pve['finished_usr'] * 100, 2)\n",
        "source_pvp_or_pve[['source', 'pvp_or_pve', 'usr_cnt', 'ratio, %']]"
      ]
    },
    {
      "cell_type": "markdown",
      "metadata": {
        "id": "AXqeXwVhyNc2"
      },
      "source": [
        "***Распределение долей `PVP` и `PVE` игроков, в зависимости от источника, с которого они попали в игру - примерно одинаковое на всех каналах.***\n",
        "- ***PVP игроки -*** `66-69%`\n",
        "- ***PVE игроки -*** `30-34%`"
      ]
    },
    {
      "cell_type": "code",
      "execution_count": 47,
      "metadata": {
        "colab": {
          "base_uri": "https://localhost:8080/",
          "height": 317
        },
        "id": "6pa7ck94yNc2",
        "outputId": "95b9526d-d0a9-458b-95fd-7bc7569baf9f"
      },
      "outputs": [
        {
          "output_type": "display_data",
          "data": {
            "text/html": [
              "<html>\n",
              "<head><meta charset=\"utf-8\" /></head>\n",
              "<body>\n",
              "    <div>            <script src=\"https://cdnjs.cloudflare.com/ajax/libs/mathjax/2.7.5/MathJax.js?config=TeX-AMS-MML_SVG\"></script><script type=\"text/javascript\">if (window.MathJax && window.MathJax.Hub && window.MathJax.Hub.Config) {window.MathJax.Hub.Config({SVG: {font: \"STIX-Web\"}});}</script>                <script type=\"text/javascript\">window.PlotlyConfig = {MathJaxConfig: 'local'};</script>\n",
              "        <script src=\"https://cdn.plot.ly/plotly-2.18.2.min.js\"></script>                <div id=\"896730c7-645d-4512-ae09-0fd486e20934\" class=\"plotly-graph-div\" style=\"height:300px; width:900px;\"></div>            <script type=\"text/javascript\">                                    window.PLOTLYENV=window.PLOTLYENV || {};                                    if (document.getElementById(\"896730c7-645d-4512-ae09-0fd486e20934\")) {                    Plotly.newPlot(                        \"896730c7-645d-4512-ae09-0fd486e20934\",                        [{\"alignmentgroup\":\"True\",\"hovertemplate\":\"pvp_or_pve=pve<br>usr_cnt=%{text}<br>source=%{y}<extra></extra>\",\"legendgroup\":\"pve\",\"marker\":{\"color\":\"#636efa\",\"pattern\":{\"shape\":\"\"}},\"name\":\"pve\",\"offsetgroup\":\"pve\",\"orientation\":\"h\",\"showlegend\":true,\"text\":[391.0,379.0,476.0,620.0],\"textposition\":\"auto\",\"x\":[391,379,476,620],\"xaxis\":\"x\",\"y\":[\"facebook_ads\",\"youtube_channel_reklama\",\"instagram_new_adverts\",\"yandex_direct\"],\"yaxis\":\"y\",\"type\":\"bar\"},{\"alignmentgroup\":\"True\",\"hovertemplate\":\"pvp_or_pve=pvp<br>usr_cnt=%{text}<br>source=%{y}<extra></extra>\",\"legendgroup\":\"pvp\",\"marker\":{\"color\":\"#EF553B\",\"pattern\":{\"shape\":\"\"}},\"name\":\"pvp\",\"offsetgroup\":\"pvp\",\"orientation\":\"h\",\"showlegend\":true,\"text\":[759.0,780.0,990.0,1422.0],\"textposition\":\"auto\",\"x\":[759,780,990,1422],\"xaxis\":\"x\",\"y\":[\"facebook_ads\",\"youtube_channel_reklama\",\"instagram_new_adverts\",\"yandex_direct\"],\"yaxis\":\"y\",\"type\":\"bar\"}],                        {\"template\":{\"data\":{\"histogram2dcontour\":[{\"type\":\"histogram2dcontour\",\"colorbar\":{\"outlinewidth\":0,\"ticks\":\"\"},\"colorscale\":[[0.0,\"#0d0887\"],[0.1111111111111111,\"#46039f\"],[0.2222222222222222,\"#7201a8\"],[0.3333333333333333,\"#9c179e\"],[0.4444444444444444,\"#bd3786\"],[0.5555555555555556,\"#d8576b\"],[0.6666666666666666,\"#ed7953\"],[0.7777777777777778,\"#fb9f3a\"],[0.8888888888888888,\"#fdca26\"],[1.0,\"#f0f921\"]]}],\"choropleth\":[{\"type\":\"choropleth\",\"colorbar\":{\"outlinewidth\":0,\"ticks\":\"\"}}],\"histogram2d\":[{\"type\":\"histogram2d\",\"colorbar\":{\"outlinewidth\":0,\"ticks\":\"\"},\"colorscale\":[[0.0,\"#0d0887\"],[0.1111111111111111,\"#46039f\"],[0.2222222222222222,\"#7201a8\"],[0.3333333333333333,\"#9c179e\"],[0.4444444444444444,\"#bd3786\"],[0.5555555555555556,\"#d8576b\"],[0.6666666666666666,\"#ed7953\"],[0.7777777777777778,\"#fb9f3a\"],[0.8888888888888888,\"#fdca26\"],[1.0,\"#f0f921\"]]}],\"heatmap\":[{\"type\":\"heatmap\",\"colorbar\":{\"outlinewidth\":0,\"ticks\":\"\"},\"colorscale\":[[0.0,\"#0d0887\"],[0.1111111111111111,\"#46039f\"],[0.2222222222222222,\"#7201a8\"],[0.3333333333333333,\"#9c179e\"],[0.4444444444444444,\"#bd3786\"],[0.5555555555555556,\"#d8576b\"],[0.6666666666666666,\"#ed7953\"],[0.7777777777777778,\"#fb9f3a\"],[0.8888888888888888,\"#fdca26\"],[1.0,\"#f0f921\"]]}],\"heatmapgl\":[{\"type\":\"heatmapgl\",\"colorbar\":{\"outlinewidth\":0,\"ticks\":\"\"},\"colorscale\":[[0.0,\"#0d0887\"],[0.1111111111111111,\"#46039f\"],[0.2222222222222222,\"#7201a8\"],[0.3333333333333333,\"#9c179e\"],[0.4444444444444444,\"#bd3786\"],[0.5555555555555556,\"#d8576b\"],[0.6666666666666666,\"#ed7953\"],[0.7777777777777778,\"#fb9f3a\"],[0.8888888888888888,\"#fdca26\"],[1.0,\"#f0f921\"]]}],\"contourcarpet\":[{\"type\":\"contourcarpet\",\"colorbar\":{\"outlinewidth\":0,\"ticks\":\"\"}}],\"contour\":[{\"type\":\"contour\",\"colorbar\":{\"outlinewidth\":0,\"ticks\":\"\"},\"colorscale\":[[0.0,\"#0d0887\"],[0.1111111111111111,\"#46039f\"],[0.2222222222222222,\"#7201a8\"],[0.3333333333333333,\"#9c179e\"],[0.4444444444444444,\"#bd3786\"],[0.5555555555555556,\"#d8576b\"],[0.6666666666666666,\"#ed7953\"],[0.7777777777777778,\"#fb9f3a\"],[0.8888888888888888,\"#fdca26\"],[1.0,\"#f0f921\"]]}],\"surface\":[{\"type\":\"surface\",\"colorbar\":{\"outlinewidth\":0,\"ticks\":\"\"},\"colorscale\":[[0.0,\"#0d0887\"],[0.1111111111111111,\"#46039f\"],[0.2222222222222222,\"#7201a8\"],[0.3333333333333333,\"#9c179e\"],[0.4444444444444444,\"#bd3786\"],[0.5555555555555556,\"#d8576b\"],[0.6666666666666666,\"#ed7953\"],[0.7777777777777778,\"#fb9f3a\"],[0.8888888888888888,\"#fdca26\"],[1.0,\"#f0f921\"]]}],\"mesh3d\":[{\"type\":\"mesh3d\",\"colorbar\":{\"outlinewidth\":0,\"ticks\":\"\"}}],\"scatter\":[{\"fillpattern\":{\"fillmode\":\"overlay\",\"size\":10,\"solidity\":0.2},\"type\":\"scatter\"}],\"parcoords\":[{\"type\":\"parcoords\",\"line\":{\"colorbar\":{\"outlinewidth\":0,\"ticks\":\"\"}}}],\"scatterpolargl\":[{\"type\":\"scatterpolargl\",\"marker\":{\"colorbar\":{\"outlinewidth\":0,\"ticks\":\"\"}}}],\"bar\":[{\"error_x\":{\"color\":\"#2a3f5f\"},\"error_y\":{\"color\":\"#2a3f5f\"},\"marker\":{\"line\":{\"color\":\"#E5ECF6\",\"width\":0.5},\"pattern\":{\"fillmode\":\"overlay\",\"size\":10,\"solidity\":0.2}},\"type\":\"bar\"}],\"scattergeo\":[{\"type\":\"scattergeo\",\"marker\":{\"colorbar\":{\"outlinewidth\":0,\"ticks\":\"\"}}}],\"scatterpolar\":[{\"type\":\"scatterpolar\",\"marker\":{\"colorbar\":{\"outlinewidth\":0,\"ticks\":\"\"}}}],\"histogram\":[{\"marker\":{\"pattern\":{\"fillmode\":\"overlay\",\"size\":10,\"solidity\":0.2}},\"type\":\"histogram\"}],\"scattergl\":[{\"type\":\"scattergl\",\"marker\":{\"colorbar\":{\"outlinewidth\":0,\"ticks\":\"\"}}}],\"scatter3d\":[{\"type\":\"scatter3d\",\"line\":{\"colorbar\":{\"outlinewidth\":0,\"ticks\":\"\"}},\"marker\":{\"colorbar\":{\"outlinewidth\":0,\"ticks\":\"\"}}}],\"scattermapbox\":[{\"type\":\"scattermapbox\",\"marker\":{\"colorbar\":{\"outlinewidth\":0,\"ticks\":\"\"}}}],\"scatterternary\":[{\"type\":\"scatterternary\",\"marker\":{\"colorbar\":{\"outlinewidth\":0,\"ticks\":\"\"}}}],\"scattercarpet\":[{\"type\":\"scattercarpet\",\"marker\":{\"colorbar\":{\"outlinewidth\":0,\"ticks\":\"\"}}}],\"carpet\":[{\"aaxis\":{\"endlinecolor\":\"#2a3f5f\",\"gridcolor\":\"white\",\"linecolor\":\"white\",\"minorgridcolor\":\"white\",\"startlinecolor\":\"#2a3f5f\"},\"baxis\":{\"endlinecolor\":\"#2a3f5f\",\"gridcolor\":\"white\",\"linecolor\":\"white\",\"minorgridcolor\":\"white\",\"startlinecolor\":\"#2a3f5f\"},\"type\":\"carpet\"}],\"table\":[{\"cells\":{\"fill\":{\"color\":\"#EBF0F8\"},\"line\":{\"color\":\"white\"}},\"header\":{\"fill\":{\"color\":\"#C8D4E3\"},\"line\":{\"color\":\"white\"}},\"type\":\"table\"}],\"barpolar\":[{\"marker\":{\"line\":{\"color\":\"#E5ECF6\",\"width\":0.5},\"pattern\":{\"fillmode\":\"overlay\",\"size\":10,\"solidity\":0.2}},\"type\":\"barpolar\"}],\"pie\":[{\"automargin\":true,\"type\":\"pie\"}]},\"layout\":{\"autotypenumbers\":\"strict\",\"colorway\":[\"#636efa\",\"#EF553B\",\"#00cc96\",\"#ab63fa\",\"#FFA15A\",\"#19d3f3\",\"#FF6692\",\"#B6E880\",\"#FF97FF\",\"#FECB52\"],\"font\":{\"color\":\"#2a3f5f\"},\"hovermode\":\"closest\",\"hoverlabel\":{\"align\":\"left\"},\"paper_bgcolor\":\"white\",\"plot_bgcolor\":\"#E5ECF6\",\"polar\":{\"bgcolor\":\"#E5ECF6\",\"angularaxis\":{\"gridcolor\":\"white\",\"linecolor\":\"white\",\"ticks\":\"\"},\"radialaxis\":{\"gridcolor\":\"white\",\"linecolor\":\"white\",\"ticks\":\"\"}},\"ternary\":{\"bgcolor\":\"#E5ECF6\",\"aaxis\":{\"gridcolor\":\"white\",\"linecolor\":\"white\",\"ticks\":\"\"},\"baxis\":{\"gridcolor\":\"white\",\"linecolor\":\"white\",\"ticks\":\"\"},\"caxis\":{\"gridcolor\":\"white\",\"linecolor\":\"white\",\"ticks\":\"\"}},\"coloraxis\":{\"colorbar\":{\"outlinewidth\":0,\"ticks\":\"\"}},\"colorscale\":{\"sequential\":[[0.0,\"#0d0887\"],[0.1111111111111111,\"#46039f\"],[0.2222222222222222,\"#7201a8\"],[0.3333333333333333,\"#9c179e\"],[0.4444444444444444,\"#bd3786\"],[0.5555555555555556,\"#d8576b\"],[0.6666666666666666,\"#ed7953\"],[0.7777777777777778,\"#fb9f3a\"],[0.8888888888888888,\"#fdca26\"],[1.0,\"#f0f921\"]],\"sequentialminus\":[[0.0,\"#0d0887\"],[0.1111111111111111,\"#46039f\"],[0.2222222222222222,\"#7201a8\"],[0.3333333333333333,\"#9c179e\"],[0.4444444444444444,\"#bd3786\"],[0.5555555555555556,\"#d8576b\"],[0.6666666666666666,\"#ed7953\"],[0.7777777777777778,\"#fb9f3a\"],[0.8888888888888888,\"#fdca26\"],[1.0,\"#f0f921\"]],\"diverging\":[[0,\"#8e0152\"],[0.1,\"#c51b7d\"],[0.2,\"#de77ae\"],[0.3,\"#f1b6da\"],[0.4,\"#fde0ef\"],[0.5,\"#f7f7f7\"],[0.6,\"#e6f5d0\"],[0.7,\"#b8e186\"],[0.8,\"#7fbc41\"],[0.9,\"#4d9221\"],[1,\"#276419\"]]},\"xaxis\":{\"gridcolor\":\"white\",\"linecolor\":\"white\",\"ticks\":\"\",\"title\":{\"standoff\":15},\"zerolinecolor\":\"white\",\"automargin\":true,\"zerolinewidth\":2},\"yaxis\":{\"gridcolor\":\"white\",\"linecolor\":\"white\",\"ticks\":\"\",\"title\":{\"standoff\":15},\"zerolinecolor\":\"white\",\"automargin\":true,\"zerolinewidth\":2},\"scene\":{\"xaxis\":{\"backgroundcolor\":\"#E5ECF6\",\"gridcolor\":\"white\",\"linecolor\":\"white\",\"showbackground\":true,\"ticks\":\"\",\"zerolinecolor\":\"white\",\"gridwidth\":2},\"yaxis\":{\"backgroundcolor\":\"#E5ECF6\",\"gridcolor\":\"white\",\"linecolor\":\"white\",\"showbackground\":true,\"ticks\":\"\",\"zerolinecolor\":\"white\",\"gridwidth\":2},\"zaxis\":{\"backgroundcolor\":\"#E5ECF6\",\"gridcolor\":\"white\",\"linecolor\":\"white\",\"showbackground\":true,\"ticks\":\"\",\"zerolinecolor\":\"white\",\"gridwidth\":2}},\"shapedefaults\":{\"line\":{\"color\":\"#2a3f5f\"}},\"annotationdefaults\":{\"arrowcolor\":\"#2a3f5f\",\"arrowhead\":0,\"arrowwidth\":1},\"geo\":{\"bgcolor\":\"white\",\"landcolor\":\"#E5ECF6\",\"subunitcolor\":\"white\",\"showland\":true,\"showlakes\":true,\"lakecolor\":\"white\"},\"title\":{\"x\":0.05},\"mapbox\":{\"style\":\"light\"}}},\"xaxis\":{\"anchor\":\"y\",\"domain\":[0.0,1.0],\"title\":{\"text\":\"\\u041a\\u043e\\u043b\\u0438\\u0447\\u0435\\u0441\\u0442\\u0432\\u043e \\u0438\\u0433\\u0440\\u043e\\u043a\\u043e\\u0432, \\u043f\\u0440\\u043e\\u0448\\u0435\\u0434\\u0448\\u0438\\u0445 \\u0443\\u0440\\u043e\\u0432\\u0435\\u043d\\u044c\"}},\"yaxis\":{\"anchor\":\"x\",\"domain\":[0.0,1.0],\"title\":{\"text\":\"\\u041a\\u0430\\u043d\\u0430\\u043b \\u043f\\u0440\\u0438\\u0432\\u043b\\u0435\\u0447\\u0435\\u043d\\u0438\\u044f\"}},\"legend\":{\"title\":{\"text\":\" \"},\"tracegroupgap\":0},\"margin\":{\"t\":60},\"barmode\":\"relative\",\"title\":{\"text\":\"\\u041a\\u043e\\u043b\\u0438\\u0447\\u0435\\u0441\\u0442\\u0432\\u043e \\u0438\\u0433\\u0440\\u043e\\u043a\\u043e\\u0432, \\u043f\\u0440\\u043e\\u0448\\u0435\\u0434\\u0448\\u0438\\u0445 \\u043f\\u0435\\u0440\\u0432\\u044b\\u0439 \\u0443\\u0440\\u043e\\u0432\\u0435\\u043d\\u044c \\u0432 \\u0437\\u0430\\u0432\\u0438\\u0441\\u0438\\u043c\\u043e\\u0441\\u0442\\u0438 \\u043e\\u0442 \\u0442\\u0438\\u043f\\u0430 \\u043f\\u0440\\u043e\\u0445\\u043e\\u0436\\u0434\\u0435\\u043d\\u0438\\u044f \\u0443\\u0440\\u043e\\u0432\\u043d\\u044f\"},\"width\":900,\"height\":300},                        {\"responsive\": true}                    ).then(function(){\n",
              "                            \n",
              "var gd = document.getElementById('896730c7-645d-4512-ae09-0fd486e20934');\n",
              "var x = new MutationObserver(function (mutations, observer) {{\n",
              "        var display = window.getComputedStyle(gd).display;\n",
              "        if (!display || display === 'none') {{\n",
              "            console.log([gd, 'removed!']);\n",
              "            Plotly.purge(gd);\n",
              "            observer.disconnect();\n",
              "        }}\n",
              "}});\n",
              "\n",
              "// Listen for the removal of the full notebook cells\n",
              "var notebookContainer = gd.closest('#notebook-container');\n",
              "if (notebookContainer) {{\n",
              "    x.observe(notebookContainer, {childList: true});\n",
              "}}\n",
              "\n",
              "// Listen for the clearing of the current output cell\n",
              "var outputEl = gd.closest('.output');\n",
              "if (outputEl) {{\n",
              "    x.observe(outputEl, {childList: true});\n",
              "}}\n",
              "\n",
              "                        })                };                            </script>        </div>\n",
              "</body>\n",
              "</html>"
            ]
          },
          "metadata": {}
        }
      ],
      "source": [
        "# Визуализируем игроков pvp и pve разделив их по каналам привлечения\n",
        "fig = px.bar(source_pvp_or_pve.sort_values('finished_usr'),\n",
        "             x='usr_cnt',\n",
        "             y='source',\n",
        "             color='pvp_or_pve',\n",
        "             text='usr_cnt')\n",
        "fig.update_layout(title='Количество игроков, прошедших первый уровень в зависимости от типа прохождения уровня',\n",
        "                  xaxis_title='Количество игроков, прошедших уровень',\n",
        "                  yaxis_title='Канал привлечения',\n",
        "                  legend_title=' ',\n",
        "                  width=900, height=300)\n",
        "fig.show()"
      ]
    },
    {
      "cell_type": "markdown",
      "metadata": {
        "id": "Ill2hoNRyNc2"
      },
      "source": [
        "- *Из `13 576` привлечённых за счёт рекламы пользователей - только `5 817` игроков закончили первый уровень, что составляет `43.8%`;*\n",
        "- *Из прошедших первый уровень привлечённых пользователей - большую часть составляют `PVP` игроки - `29.1%` от общего количества игроков, которые пришли благодаря вложениям в рекламу;*\n",
        "- *Доля `PVE` игроков, т.е. тех, которые закончили уровень путём выполнения проекта составляет `13.7%` от общего количество привлечённых игроков;*\n",
        "- *Соотношение количества `PVP` и `PVE` игроков* **по каналам привлечения** *примерно одинаково - `66-69% PVP` игроков и `30-34% PVE` игроков.*"
      ]
    },
    {
      "cell_type": "markdown",
      "metadata": {
        "id": "IgtGF1rNyNc2"
      },
      "source": [
        "<a id='строительство'></a>\n",
        "## 5.3 Строительство объектов игроками."
      ]
    },
    {
      "cell_type": "markdown",
      "metadata": {
        "id": "Lna4b-BhyNc2"
      },
      "source": [
        "***Допустим, что с точки зрения монетизации, нам интереснее те игроки, которые совершают больше построек и завершают уровень любым способом.***\n",
        "\n",
        "***Рассмотрим, сколько объектов строят игроки, пришедшие с разных каналов***"
      ]
    },
    {
      "cell_type": "code",
      "execution_count": 48,
      "metadata": {
        "colab": {
          "base_uri": "https://localhost:8080/",
          "height": 204
        },
        "id": "9ZhatbWeyNc2",
        "outputId": "7c753c82-1fb0-4a97-d6ed-005349d79848"
      },
      "outputs": [
        {
          "output_type": "execute_result",
          "data": {
            "text/plain": [
              "                       source                               user_id  buildings\n",
              "97               facebook_ads  1822857a-d15f-4f10-98a4-2d916e111ea2         12\n",
              "5591  youtube_channel_reklama  cfee0af2-b356-44fe-822e-aa9c38066f24         15\n",
              "3641            yandex_direct  7d45f5c8-e079-43c4-9bcf-0400e8c97068         15\n",
              "1180    instagram_new_adverts  046848dc-8c7c-4f7d-a89c-86f557493390          9\n",
              "1757    instagram_new_adverts  6956965f-d464-4978-8dd8-d8bcd4f8abca         10"
            ],
            "text/html": [
              "\n",
              "  <div id=\"df-c0814a9e-1e72-436c-a380-aa823287e374\">\n",
              "    <div class=\"colab-df-container\">\n",
              "      <div>\n",
              "<style scoped>\n",
              "    .dataframe tbody tr th:only-of-type {\n",
              "        vertical-align: middle;\n",
              "    }\n",
              "\n",
              "    .dataframe tbody tr th {\n",
              "        vertical-align: top;\n",
              "    }\n",
              "\n",
              "    .dataframe thead th {\n",
              "        text-align: right;\n",
              "    }\n",
              "</style>\n",
              "<table border=\"1\" class=\"dataframe\">\n",
              "  <thead>\n",
              "    <tr style=\"text-align: right;\">\n",
              "      <th></th>\n",
              "      <th>source</th>\n",
              "      <th>user_id</th>\n",
              "      <th>buildings</th>\n",
              "    </tr>\n",
              "  </thead>\n",
              "  <tbody>\n",
              "    <tr>\n",
              "      <th>97</th>\n",
              "      <td>facebook_ads</td>\n",
              "      <td>1822857a-d15f-4f10-98a4-2d916e111ea2</td>\n",
              "      <td>12</td>\n",
              "    </tr>\n",
              "    <tr>\n",
              "      <th>5591</th>\n",
              "      <td>youtube_channel_reklama</td>\n",
              "      <td>cfee0af2-b356-44fe-822e-aa9c38066f24</td>\n",
              "      <td>15</td>\n",
              "    </tr>\n",
              "    <tr>\n",
              "      <th>3641</th>\n",
              "      <td>yandex_direct</td>\n",
              "      <td>7d45f5c8-e079-43c4-9bcf-0400e8c97068</td>\n",
              "      <td>15</td>\n",
              "    </tr>\n",
              "    <tr>\n",
              "      <th>1180</th>\n",
              "      <td>instagram_new_adverts</td>\n",
              "      <td>046848dc-8c7c-4f7d-a89c-86f557493390</td>\n",
              "      <td>9</td>\n",
              "    </tr>\n",
              "    <tr>\n",
              "      <th>1757</th>\n",
              "      <td>instagram_new_adverts</td>\n",
              "      <td>6956965f-d464-4978-8dd8-d8bcd4f8abca</td>\n",
              "      <td>10</td>\n",
              "    </tr>\n",
              "  </tbody>\n",
              "</table>\n",
              "</div>\n",
              "      <button class=\"colab-df-convert\" onclick=\"convertToInteractive('df-c0814a9e-1e72-436c-a380-aa823287e374')\"\n",
              "              title=\"Convert this dataframe to an interactive table.\"\n",
              "              style=\"display:none;\">\n",
              "        \n",
              "  <svg xmlns=\"http://www.w3.org/2000/svg\" height=\"24px\"viewBox=\"0 0 24 24\"\n",
              "       width=\"24px\">\n",
              "    <path d=\"M0 0h24v24H0V0z\" fill=\"none\"/>\n",
              "    <path d=\"M18.56 5.44l.94 2.06.94-2.06 2.06-.94-2.06-.94-.94-2.06-.94 2.06-2.06.94zm-11 1L8.5 8.5l.94-2.06 2.06-.94-2.06-.94L8.5 2.5l-.94 2.06-2.06.94zm10 10l.94 2.06.94-2.06 2.06-.94-2.06-.94-.94-2.06-.94 2.06-2.06.94z\"/><path d=\"M17.41 7.96l-1.37-1.37c-.4-.4-.92-.59-1.43-.59-.52 0-1.04.2-1.43.59L10.3 9.45l-7.72 7.72c-.78.78-.78 2.05 0 2.83L4 21.41c.39.39.9.59 1.41.59.51 0 1.02-.2 1.41-.59l7.78-7.78 2.81-2.81c.8-.78.8-2.07 0-2.86zM5.41 20L4 18.59l7.72-7.72 1.47 1.35L5.41 20z\"/>\n",
              "  </svg>\n",
              "      </button>\n",
              "      \n",
              "  <style>\n",
              "    .colab-df-container {\n",
              "      display:flex;\n",
              "      flex-wrap:wrap;\n",
              "      gap: 12px;\n",
              "    }\n",
              "\n",
              "    .colab-df-convert {\n",
              "      background-color: #E8F0FE;\n",
              "      border: none;\n",
              "      border-radius: 50%;\n",
              "      cursor: pointer;\n",
              "      display: none;\n",
              "      fill: #1967D2;\n",
              "      height: 32px;\n",
              "      padding: 0 0 0 0;\n",
              "      width: 32px;\n",
              "    }\n",
              "\n",
              "    .colab-df-convert:hover {\n",
              "      background-color: #E2EBFA;\n",
              "      box-shadow: 0px 1px 2px rgba(60, 64, 67, 0.3), 0px 1px 3px 1px rgba(60, 64, 67, 0.15);\n",
              "      fill: #174EA6;\n",
              "    }\n",
              "\n",
              "    [theme=dark] .colab-df-convert {\n",
              "      background-color: #3B4455;\n",
              "      fill: #D2E3FC;\n",
              "    }\n",
              "\n",
              "    [theme=dark] .colab-df-convert:hover {\n",
              "      background-color: #434B5C;\n",
              "      box-shadow: 0px 1px 3px 1px rgba(0, 0, 0, 0.15);\n",
              "      filter: drop-shadow(0px 1px 2px rgba(0, 0, 0, 0.3));\n",
              "      fill: #FFFFFF;\n",
              "    }\n",
              "  </style>\n",
              "\n",
              "      <script>\n",
              "        const buttonEl =\n",
              "          document.querySelector('#df-c0814a9e-1e72-436c-a380-aa823287e374 button.colab-df-convert');\n",
              "        buttonEl.style.display =\n",
              "          google.colab.kernel.accessAllowed ? 'block' : 'none';\n",
              "\n",
              "        async function convertToInteractive(key) {\n",
              "          const element = document.querySelector('#df-c0814a9e-1e72-436c-a380-aa823287e374');\n",
              "          const dataTable =\n",
              "            await google.colab.kernel.invokeFunction('convertToInteractive',\n",
              "                                                     [key], {});\n",
              "          if (!dataTable) return;\n",
              "\n",
              "          const docLinkHtml = 'Like what you see? Visit the ' +\n",
              "            '<a target=\"_blank\" href=https://colab.research.google.com/notebooks/data_table.ipynb>data table notebook</a>'\n",
              "            + ' to learn more about interactive tables.';\n",
              "          element.innerHTML = '';\n",
              "          dataTable['output_type'] = 'display_data';\n",
              "          await google.colab.output.renderOutput(dataTable, element);\n",
              "          const docLink = document.createElement('div');\n",
              "          docLink.innerHTML = docLinkHtml;\n",
              "          element.appendChild(docLink);\n",
              "        }\n",
              "      </script>\n",
              "    </div>\n",
              "  </div>\n",
              "  "
            ]
          },
          "metadata": {},
          "execution_count": 48
        }
      ],
      "source": [
        "# Сколько объектов построил каждый игрок\n",
        "users_buildings = (\n",
        "    sessions.query('user_id in @finished_users and event == \"building\"')\n",
        "    .groupby(['source', 'user_id'], as_index=False)\n",
        "    .agg({'event':'count'})\n",
        "    .rename(columns={'event':'buildings'}))\n",
        "users_buildings.sample(5)"
      ]
    },
    {
      "cell_type": "code",
      "execution_count": 49,
      "metadata": {
        "colab": {
          "base_uri": "https://localhost:8080/",
          "height": 173
        },
        "id": "A2AdtoX7yNc2",
        "outputId": "e62b583d-0973-4654-d3b6-4a23a6432cde"
      },
      "outputs": [
        {
          "output_type": "execute_result",
          "data": {
            "text/plain": [
              "                    source  buildings  avg_buildings  median_buildings\n",
              "0            yandex_direct      21141          10.35              11.0\n",
              "1    instagram_new_adverts      15378          10.49              11.0\n",
              "2  youtube_channel_reklama      12164          10.50              11.0\n",
              "3             facebook_ads      12103          10.52              11.0"
            ],
            "text/html": [
              "\n",
              "  <div id=\"df-c018c711-9436-4c80-95f4-c030cc92126b\">\n",
              "    <div class=\"colab-df-container\">\n",
              "      <div>\n",
              "<style scoped>\n",
              "    .dataframe tbody tr th:only-of-type {\n",
              "        vertical-align: middle;\n",
              "    }\n",
              "\n",
              "    .dataframe tbody tr th {\n",
              "        vertical-align: top;\n",
              "    }\n",
              "\n",
              "    .dataframe thead th {\n",
              "        text-align: right;\n",
              "    }\n",
              "</style>\n",
              "<table border=\"1\" class=\"dataframe\">\n",
              "  <thead>\n",
              "    <tr style=\"text-align: right;\">\n",
              "      <th></th>\n",
              "      <th>source</th>\n",
              "      <th>buildings</th>\n",
              "      <th>avg_buildings</th>\n",
              "      <th>median_buildings</th>\n",
              "    </tr>\n",
              "  </thead>\n",
              "  <tbody>\n",
              "    <tr>\n",
              "      <th>0</th>\n",
              "      <td>yandex_direct</td>\n",
              "      <td>21141</td>\n",
              "      <td>10.35</td>\n",
              "      <td>11.0</td>\n",
              "    </tr>\n",
              "    <tr>\n",
              "      <th>1</th>\n",
              "      <td>instagram_new_adverts</td>\n",
              "      <td>15378</td>\n",
              "      <td>10.49</td>\n",
              "      <td>11.0</td>\n",
              "    </tr>\n",
              "    <tr>\n",
              "      <th>2</th>\n",
              "      <td>youtube_channel_reklama</td>\n",
              "      <td>12164</td>\n",
              "      <td>10.50</td>\n",
              "      <td>11.0</td>\n",
              "    </tr>\n",
              "    <tr>\n",
              "      <th>3</th>\n",
              "      <td>facebook_ads</td>\n",
              "      <td>12103</td>\n",
              "      <td>10.52</td>\n",
              "      <td>11.0</td>\n",
              "    </tr>\n",
              "  </tbody>\n",
              "</table>\n",
              "</div>\n",
              "      <button class=\"colab-df-convert\" onclick=\"convertToInteractive('df-c018c711-9436-4c80-95f4-c030cc92126b')\"\n",
              "              title=\"Convert this dataframe to an interactive table.\"\n",
              "              style=\"display:none;\">\n",
              "        \n",
              "  <svg xmlns=\"http://www.w3.org/2000/svg\" height=\"24px\"viewBox=\"0 0 24 24\"\n",
              "       width=\"24px\">\n",
              "    <path d=\"M0 0h24v24H0V0z\" fill=\"none\"/>\n",
              "    <path d=\"M18.56 5.44l.94 2.06.94-2.06 2.06-.94-2.06-.94-.94-2.06-.94 2.06-2.06.94zm-11 1L8.5 8.5l.94-2.06 2.06-.94-2.06-.94L8.5 2.5l-.94 2.06-2.06.94zm10 10l.94 2.06.94-2.06 2.06-.94-2.06-.94-.94-2.06-.94 2.06-2.06.94z\"/><path d=\"M17.41 7.96l-1.37-1.37c-.4-.4-.92-.59-1.43-.59-.52 0-1.04.2-1.43.59L10.3 9.45l-7.72 7.72c-.78.78-.78 2.05 0 2.83L4 21.41c.39.39.9.59 1.41.59.51 0 1.02-.2 1.41-.59l7.78-7.78 2.81-2.81c.8-.78.8-2.07 0-2.86zM5.41 20L4 18.59l7.72-7.72 1.47 1.35L5.41 20z\"/>\n",
              "  </svg>\n",
              "      </button>\n",
              "      \n",
              "  <style>\n",
              "    .colab-df-container {\n",
              "      display:flex;\n",
              "      flex-wrap:wrap;\n",
              "      gap: 12px;\n",
              "    }\n",
              "\n",
              "    .colab-df-convert {\n",
              "      background-color: #E8F0FE;\n",
              "      border: none;\n",
              "      border-radius: 50%;\n",
              "      cursor: pointer;\n",
              "      display: none;\n",
              "      fill: #1967D2;\n",
              "      height: 32px;\n",
              "      padding: 0 0 0 0;\n",
              "      width: 32px;\n",
              "    }\n",
              "\n",
              "    .colab-df-convert:hover {\n",
              "      background-color: #E2EBFA;\n",
              "      box-shadow: 0px 1px 2px rgba(60, 64, 67, 0.3), 0px 1px 3px 1px rgba(60, 64, 67, 0.15);\n",
              "      fill: #174EA6;\n",
              "    }\n",
              "\n",
              "    [theme=dark] .colab-df-convert {\n",
              "      background-color: #3B4455;\n",
              "      fill: #D2E3FC;\n",
              "    }\n",
              "\n",
              "    [theme=dark] .colab-df-convert:hover {\n",
              "      background-color: #434B5C;\n",
              "      box-shadow: 0px 1px 3px 1px rgba(0, 0, 0, 0.15);\n",
              "      filter: drop-shadow(0px 1px 2px rgba(0, 0, 0, 0.3));\n",
              "      fill: #FFFFFF;\n",
              "    }\n",
              "  </style>\n",
              "\n",
              "      <script>\n",
              "        const buttonEl =\n",
              "          document.querySelector('#df-c018c711-9436-4c80-95f4-c030cc92126b button.colab-df-convert');\n",
              "        buttonEl.style.display =\n",
              "          google.colab.kernel.accessAllowed ? 'block' : 'none';\n",
              "\n",
              "        async function convertToInteractive(key) {\n",
              "          const element = document.querySelector('#df-c018c711-9436-4c80-95f4-c030cc92126b');\n",
              "          const dataTable =\n",
              "            await google.colab.kernel.invokeFunction('convertToInteractive',\n",
              "                                                     [key], {});\n",
              "          if (!dataTable) return;\n",
              "\n",
              "          const docLinkHtml = 'Like what you see? Visit the ' +\n",
              "            '<a target=\"_blank\" href=https://colab.research.google.com/notebooks/data_table.ipynb>data table notebook</a>'\n",
              "            + ' to learn more about interactive tables.';\n",
              "          element.innerHTML = '';\n",
              "          dataTable['output_type'] = 'display_data';\n",
              "          await google.colab.output.renderOutput(dataTable, element);\n",
              "          const docLink = document.createElement('div');\n",
              "          docLink.innerHTML = docLinkHtml;\n",
              "          element.appendChild(docLink);\n",
              "        }\n",
              "      </script>\n",
              "    </div>\n",
              "  </div>\n",
              "  "
            ]
          },
          "metadata": {},
          "execution_count": 49
        }
      ],
      "source": [
        "# Суммарное число построек, среднее на пользователя и медиана на пользователя по каналам\n",
        "source_buildings = (\n",
        "    users_buildings\n",
        "    .groupby('source', as_index=False)['buildings'].agg(['sum', 'mean', 'median'])\n",
        "    .rename(columns={'sum':'buildings', 'mean':'avg_buildings', 'median':'median_buildings'})\n",
        "    .sort_values('buildings', ascending=False)\n",
        "    .reset_index())\n",
        "source_buildings['avg_buildings'] = round(source_buildings['avg_buildings'], 2)\n",
        "source_buildings"
      ]
    },
    {
      "cell_type": "code",
      "execution_count": 50,
      "metadata": {
        "colab": {
          "base_uri": "https://localhost:8080/",
          "height": 317
        },
        "id": "gfE9Ud4QyNc3",
        "outputId": "786642fd-3f46-4bcc-821a-9338e0b6aafa"
      },
      "outputs": [
        {
          "output_type": "display_data",
          "data": {
            "text/html": [
              "<html>\n",
              "<head><meta charset=\"utf-8\" /></head>\n",
              "<body>\n",
              "    <div>            <script src=\"https://cdnjs.cloudflare.com/ajax/libs/mathjax/2.7.5/MathJax.js?config=TeX-AMS-MML_SVG\"></script><script type=\"text/javascript\">if (window.MathJax && window.MathJax.Hub && window.MathJax.Hub.Config) {window.MathJax.Hub.Config({SVG: {font: \"STIX-Web\"}});}</script>                <script type=\"text/javascript\">window.PlotlyConfig = {MathJaxConfig: 'local'};</script>\n",
              "        <script src=\"https://cdn.plot.ly/plotly-2.18.2.min.js\"></script>                <div id=\"3dc71c6a-1f6e-4b09-ba7e-bf06188cbd8e\" class=\"plotly-graph-div\" style=\"height:300px; width:900px;\"></div>            <script type=\"text/javascript\">                                    window.PLOTLYENV=window.PLOTLYENV || {};                                    if (document.getElementById(\"3dc71c6a-1f6e-4b09-ba7e-bf06188cbd8e\")) {                    Plotly.newPlot(                        \"3dc71c6a-1f6e-4b09-ba7e-bf06188cbd8e\",                        [{\"alignmentgroup\":\"True\",\"hovertemplate\":\"buildings=%{text}<br>source=%{y}<extra></extra>\",\"legendgroup\":\"\",\"marker\":{\"color\":\"#636efa\",\"pattern\":{\"shape\":\"\"}},\"name\":\"\",\"offsetgroup\":\"\",\"orientation\":\"h\",\"showlegend\":false,\"text\":[12103.0,12164.0,15378.0,21141.0],\"textposition\":\"auto\",\"x\":[12103,12164,15378,21141],\"xaxis\":\"x\",\"y\":[\"facebook_ads\",\"youtube_channel_reklama\",\"instagram_new_adverts\",\"yandex_direct\"],\"yaxis\":\"y\",\"type\":\"bar\"}],                        {\"template\":{\"data\":{\"histogram2dcontour\":[{\"type\":\"histogram2dcontour\",\"colorbar\":{\"outlinewidth\":0,\"ticks\":\"\"},\"colorscale\":[[0.0,\"#0d0887\"],[0.1111111111111111,\"#46039f\"],[0.2222222222222222,\"#7201a8\"],[0.3333333333333333,\"#9c179e\"],[0.4444444444444444,\"#bd3786\"],[0.5555555555555556,\"#d8576b\"],[0.6666666666666666,\"#ed7953\"],[0.7777777777777778,\"#fb9f3a\"],[0.8888888888888888,\"#fdca26\"],[1.0,\"#f0f921\"]]}],\"choropleth\":[{\"type\":\"choropleth\",\"colorbar\":{\"outlinewidth\":0,\"ticks\":\"\"}}],\"histogram2d\":[{\"type\":\"histogram2d\",\"colorbar\":{\"outlinewidth\":0,\"ticks\":\"\"},\"colorscale\":[[0.0,\"#0d0887\"],[0.1111111111111111,\"#46039f\"],[0.2222222222222222,\"#7201a8\"],[0.3333333333333333,\"#9c179e\"],[0.4444444444444444,\"#bd3786\"],[0.5555555555555556,\"#d8576b\"],[0.6666666666666666,\"#ed7953\"],[0.7777777777777778,\"#fb9f3a\"],[0.8888888888888888,\"#fdca26\"],[1.0,\"#f0f921\"]]}],\"heatmap\":[{\"type\":\"heatmap\",\"colorbar\":{\"outlinewidth\":0,\"ticks\":\"\"},\"colorscale\":[[0.0,\"#0d0887\"],[0.1111111111111111,\"#46039f\"],[0.2222222222222222,\"#7201a8\"],[0.3333333333333333,\"#9c179e\"],[0.4444444444444444,\"#bd3786\"],[0.5555555555555556,\"#d8576b\"],[0.6666666666666666,\"#ed7953\"],[0.7777777777777778,\"#fb9f3a\"],[0.8888888888888888,\"#fdca26\"],[1.0,\"#f0f921\"]]}],\"heatmapgl\":[{\"type\":\"heatmapgl\",\"colorbar\":{\"outlinewidth\":0,\"ticks\":\"\"},\"colorscale\":[[0.0,\"#0d0887\"],[0.1111111111111111,\"#46039f\"],[0.2222222222222222,\"#7201a8\"],[0.3333333333333333,\"#9c179e\"],[0.4444444444444444,\"#bd3786\"],[0.5555555555555556,\"#d8576b\"],[0.6666666666666666,\"#ed7953\"],[0.7777777777777778,\"#fb9f3a\"],[0.8888888888888888,\"#fdca26\"],[1.0,\"#f0f921\"]]}],\"contourcarpet\":[{\"type\":\"contourcarpet\",\"colorbar\":{\"outlinewidth\":0,\"ticks\":\"\"}}],\"contour\":[{\"type\":\"contour\",\"colorbar\":{\"outlinewidth\":0,\"ticks\":\"\"},\"colorscale\":[[0.0,\"#0d0887\"],[0.1111111111111111,\"#46039f\"],[0.2222222222222222,\"#7201a8\"],[0.3333333333333333,\"#9c179e\"],[0.4444444444444444,\"#bd3786\"],[0.5555555555555556,\"#d8576b\"],[0.6666666666666666,\"#ed7953\"],[0.7777777777777778,\"#fb9f3a\"],[0.8888888888888888,\"#fdca26\"],[1.0,\"#f0f921\"]]}],\"surface\":[{\"type\":\"surface\",\"colorbar\":{\"outlinewidth\":0,\"ticks\":\"\"},\"colorscale\":[[0.0,\"#0d0887\"],[0.1111111111111111,\"#46039f\"],[0.2222222222222222,\"#7201a8\"],[0.3333333333333333,\"#9c179e\"],[0.4444444444444444,\"#bd3786\"],[0.5555555555555556,\"#d8576b\"],[0.6666666666666666,\"#ed7953\"],[0.7777777777777778,\"#fb9f3a\"],[0.8888888888888888,\"#fdca26\"],[1.0,\"#f0f921\"]]}],\"mesh3d\":[{\"type\":\"mesh3d\",\"colorbar\":{\"outlinewidth\":0,\"ticks\":\"\"}}],\"scatter\":[{\"fillpattern\":{\"fillmode\":\"overlay\",\"size\":10,\"solidity\":0.2},\"type\":\"scatter\"}],\"parcoords\":[{\"type\":\"parcoords\",\"line\":{\"colorbar\":{\"outlinewidth\":0,\"ticks\":\"\"}}}],\"scatterpolargl\":[{\"type\":\"scatterpolargl\",\"marker\":{\"colorbar\":{\"outlinewidth\":0,\"ticks\":\"\"}}}],\"bar\":[{\"error_x\":{\"color\":\"#2a3f5f\"},\"error_y\":{\"color\":\"#2a3f5f\"},\"marker\":{\"line\":{\"color\":\"#E5ECF6\",\"width\":0.5},\"pattern\":{\"fillmode\":\"overlay\",\"size\":10,\"solidity\":0.2}},\"type\":\"bar\"}],\"scattergeo\":[{\"type\":\"scattergeo\",\"marker\":{\"colorbar\":{\"outlinewidth\":0,\"ticks\":\"\"}}}],\"scatterpolar\":[{\"type\":\"scatterpolar\",\"marker\":{\"colorbar\":{\"outlinewidth\":0,\"ticks\":\"\"}}}],\"histogram\":[{\"marker\":{\"pattern\":{\"fillmode\":\"overlay\",\"size\":10,\"solidity\":0.2}},\"type\":\"histogram\"}],\"scattergl\":[{\"type\":\"scattergl\",\"marker\":{\"colorbar\":{\"outlinewidth\":0,\"ticks\":\"\"}}}],\"scatter3d\":[{\"type\":\"scatter3d\",\"line\":{\"colorbar\":{\"outlinewidth\":0,\"ticks\":\"\"}},\"marker\":{\"colorbar\":{\"outlinewidth\":0,\"ticks\":\"\"}}}],\"scattermapbox\":[{\"type\":\"scattermapbox\",\"marker\":{\"colorbar\":{\"outlinewidth\":0,\"ticks\":\"\"}}}],\"scatterternary\":[{\"type\":\"scatterternary\",\"marker\":{\"colorbar\":{\"outlinewidth\":0,\"ticks\":\"\"}}}],\"scattercarpet\":[{\"type\":\"scattercarpet\",\"marker\":{\"colorbar\":{\"outlinewidth\":0,\"ticks\":\"\"}}}],\"carpet\":[{\"aaxis\":{\"endlinecolor\":\"#2a3f5f\",\"gridcolor\":\"white\",\"linecolor\":\"white\",\"minorgridcolor\":\"white\",\"startlinecolor\":\"#2a3f5f\"},\"baxis\":{\"endlinecolor\":\"#2a3f5f\",\"gridcolor\":\"white\",\"linecolor\":\"white\",\"minorgridcolor\":\"white\",\"startlinecolor\":\"#2a3f5f\"},\"type\":\"carpet\"}],\"table\":[{\"cells\":{\"fill\":{\"color\":\"#EBF0F8\"},\"line\":{\"color\":\"white\"}},\"header\":{\"fill\":{\"color\":\"#C8D4E3\"},\"line\":{\"color\":\"white\"}},\"type\":\"table\"}],\"barpolar\":[{\"marker\":{\"line\":{\"color\":\"#E5ECF6\",\"width\":0.5},\"pattern\":{\"fillmode\":\"overlay\",\"size\":10,\"solidity\":0.2}},\"type\":\"barpolar\"}],\"pie\":[{\"automargin\":true,\"type\":\"pie\"}]},\"layout\":{\"autotypenumbers\":\"strict\",\"colorway\":[\"#636efa\",\"#EF553B\",\"#00cc96\",\"#ab63fa\",\"#FFA15A\",\"#19d3f3\",\"#FF6692\",\"#B6E880\",\"#FF97FF\",\"#FECB52\"],\"font\":{\"color\":\"#2a3f5f\"},\"hovermode\":\"closest\",\"hoverlabel\":{\"align\":\"left\"},\"paper_bgcolor\":\"white\",\"plot_bgcolor\":\"#E5ECF6\",\"polar\":{\"bgcolor\":\"#E5ECF6\",\"angularaxis\":{\"gridcolor\":\"white\",\"linecolor\":\"white\",\"ticks\":\"\"},\"radialaxis\":{\"gridcolor\":\"white\",\"linecolor\":\"white\",\"ticks\":\"\"}},\"ternary\":{\"bgcolor\":\"#E5ECF6\",\"aaxis\":{\"gridcolor\":\"white\",\"linecolor\":\"white\",\"ticks\":\"\"},\"baxis\":{\"gridcolor\":\"white\",\"linecolor\":\"white\",\"ticks\":\"\"},\"caxis\":{\"gridcolor\":\"white\",\"linecolor\":\"white\",\"ticks\":\"\"}},\"coloraxis\":{\"colorbar\":{\"outlinewidth\":0,\"ticks\":\"\"}},\"colorscale\":{\"sequential\":[[0.0,\"#0d0887\"],[0.1111111111111111,\"#46039f\"],[0.2222222222222222,\"#7201a8\"],[0.3333333333333333,\"#9c179e\"],[0.4444444444444444,\"#bd3786\"],[0.5555555555555556,\"#d8576b\"],[0.6666666666666666,\"#ed7953\"],[0.7777777777777778,\"#fb9f3a\"],[0.8888888888888888,\"#fdca26\"],[1.0,\"#f0f921\"]],\"sequentialminus\":[[0.0,\"#0d0887\"],[0.1111111111111111,\"#46039f\"],[0.2222222222222222,\"#7201a8\"],[0.3333333333333333,\"#9c179e\"],[0.4444444444444444,\"#bd3786\"],[0.5555555555555556,\"#d8576b\"],[0.6666666666666666,\"#ed7953\"],[0.7777777777777778,\"#fb9f3a\"],[0.8888888888888888,\"#fdca26\"],[1.0,\"#f0f921\"]],\"diverging\":[[0,\"#8e0152\"],[0.1,\"#c51b7d\"],[0.2,\"#de77ae\"],[0.3,\"#f1b6da\"],[0.4,\"#fde0ef\"],[0.5,\"#f7f7f7\"],[0.6,\"#e6f5d0\"],[0.7,\"#b8e186\"],[0.8,\"#7fbc41\"],[0.9,\"#4d9221\"],[1,\"#276419\"]]},\"xaxis\":{\"gridcolor\":\"white\",\"linecolor\":\"white\",\"ticks\":\"\",\"title\":{\"standoff\":15},\"zerolinecolor\":\"white\",\"automargin\":true,\"zerolinewidth\":2},\"yaxis\":{\"gridcolor\":\"white\",\"linecolor\":\"white\",\"ticks\":\"\",\"title\":{\"standoff\":15},\"zerolinecolor\":\"white\",\"automargin\":true,\"zerolinewidth\":2},\"scene\":{\"xaxis\":{\"backgroundcolor\":\"#E5ECF6\",\"gridcolor\":\"white\",\"linecolor\":\"white\",\"showbackground\":true,\"ticks\":\"\",\"zerolinecolor\":\"white\",\"gridwidth\":2},\"yaxis\":{\"backgroundcolor\":\"#E5ECF6\",\"gridcolor\":\"white\",\"linecolor\":\"white\",\"showbackground\":true,\"ticks\":\"\",\"zerolinecolor\":\"white\",\"gridwidth\":2},\"zaxis\":{\"backgroundcolor\":\"#E5ECF6\",\"gridcolor\":\"white\",\"linecolor\":\"white\",\"showbackground\":true,\"ticks\":\"\",\"zerolinecolor\":\"white\",\"gridwidth\":2}},\"shapedefaults\":{\"line\":{\"color\":\"#2a3f5f\"}},\"annotationdefaults\":{\"arrowcolor\":\"#2a3f5f\",\"arrowhead\":0,\"arrowwidth\":1},\"geo\":{\"bgcolor\":\"white\",\"landcolor\":\"#E5ECF6\",\"subunitcolor\":\"white\",\"showland\":true,\"showlakes\":true,\"lakecolor\":\"white\"},\"title\":{\"x\":0.05},\"mapbox\":{\"style\":\"light\"}}},\"xaxis\":{\"anchor\":\"y\",\"domain\":[0.0,1.0],\"title\":{\"text\":\"\\u0427\\u0438\\u0441\\u043b\\u043e \\u043f\\u043e\\u0441\\u0442\\u0440\\u043e\\u0435\\u043a\"},\"range\":[10000,21200]},\"yaxis\":{\"anchor\":\"x\",\"domain\":[0.0,1.0],\"title\":{\"text\":\"\\u0418\\u0441\\u0442\\u043e\\u0447\\u043d\\u0438\\u043a\"}},\"legend\":{\"tracegroupgap\":0},\"margin\":{\"t\":60},\"barmode\":\"relative\",\"title\":{\"text\":\"\\u0421\\u0443\\u043c\\u043c\\u0430\\u0440\\u043d\\u043e\\u0435 \\u0447\\u0438\\u0441\\u043b\\u043e \\u043f\\u043e\\u0441\\u0442\\u0440\\u043e\\u0435\\u043a \\u043f\\u043e \\u043a\\u0430\\u043d\\u0430\\u043b\\u0430\\u043c \\u043f\\u0440\\u0438\\u0432\\u043b\\u0435\\u0447\\u0435\\u043d\\u0438\\u044f\"},\"width\":900,\"height\":300},                        {\"responsive\": true}                    ).then(function(){\n",
              "                            \n",
              "var gd = document.getElementById('3dc71c6a-1f6e-4b09-ba7e-bf06188cbd8e');\n",
              "var x = new MutationObserver(function (mutations, observer) {{\n",
              "        var display = window.getComputedStyle(gd).display;\n",
              "        if (!display || display === 'none') {{\n",
              "            console.log([gd, 'removed!']);\n",
              "            Plotly.purge(gd);\n",
              "            observer.disconnect();\n",
              "        }}\n",
              "}});\n",
              "\n",
              "// Listen for the removal of the full notebook cells\n",
              "var notebookContainer = gd.closest('#notebook-container');\n",
              "if (notebookContainer) {{\n",
              "    x.observe(notebookContainer, {childList: true});\n",
              "}}\n",
              "\n",
              "// Listen for the clearing of the current output cell\n",
              "var outputEl = gd.closest('.output');\n",
              "if (outputEl) {{\n",
              "    x.observe(outputEl, {childList: true});\n",
              "}}\n",
              "\n",
              "                        })                };                            </script>        </div>\n",
              "</body>\n",
              "</html>"
            ]
          },
          "metadata": {}
        }
      ],
      "source": [
        "# Визуализируем суммарное количество построек\n",
        "fig=px.bar(source_buildings.sort_values('buildings'),\n",
        "           x='buildings', y='source', text='buildings')\n",
        "fig.update_layout(title='Суммарное число построек по каналам привлечения',\n",
        "                 xaxis_title='Число построек',\n",
        "                 yaxis_title='Источник',\n",
        "                 width=900,\n",
        "                 height=300)\n",
        "fig.update_xaxes(range=[10000, 21200])\n",
        "fig.show();"
      ]
    },
    {
      "cell_type": "markdown",
      "metadata": {
        "id": "9E0xfibtyNc3"
      },
      "source": [
        "- ***Среднее количество построек на пользователя и медиана числа построек на пользователя - одинаковы у всех каналов привлечения;***\n",
        "- ***По суммарному количеству построек лидирует `yandex`, за ним `instagram` и `youtube`.***"
      ]
    },
    {
      "cell_type": "markdown",
      "metadata": {
        "id": "PXDUnAsbyNc3"
      },
      "source": [
        "<a id='популярное_событие'></a>\n",
        "## 5.4 Самое популярное событие (экран) среди игроков."
      ]
    },
    {
      "cell_type": "code",
      "execution_count": 51,
      "metadata": {
        "colab": {
          "base_uri": "https://localhost:8080/",
          "height": 204
        },
        "id": "YVv4cIj3yNc3",
        "outputId": "4bd4ebc1-b944-4abb-c48d-f7ecff8e2f5f"
      },
      "outputs": [
        {
          "output_type": "execute_result",
          "data": {
            "text/plain": [
              "                type_of_event  count\n",
              "0                   spaceport  59325\n",
              "1               assembly_shop  54494\n",
              "2             research_center  14137\n",
              "3            finished_stage_1   5817\n",
              "4  satellite_orbital_assembly   1866"
            ],
            "text/html": [
              "\n",
              "  <div id=\"df-760564ee-a3e6-4b08-ae99-5b5e1f510240\">\n",
              "    <div class=\"colab-df-container\">\n",
              "      <div>\n",
              "<style scoped>\n",
              "    .dataframe tbody tr th:only-of-type {\n",
              "        vertical-align: middle;\n",
              "    }\n",
              "\n",
              "    .dataframe tbody tr th {\n",
              "        vertical-align: top;\n",
              "    }\n",
              "\n",
              "    .dataframe thead th {\n",
              "        text-align: right;\n",
              "    }\n",
              "</style>\n",
              "<table border=\"1\" class=\"dataframe\">\n",
              "  <thead>\n",
              "    <tr style=\"text-align: right;\">\n",
              "      <th></th>\n",
              "      <th>type_of_event</th>\n",
              "      <th>count</th>\n",
              "    </tr>\n",
              "  </thead>\n",
              "  <tbody>\n",
              "    <tr>\n",
              "      <th>0</th>\n",
              "      <td>spaceport</td>\n",
              "      <td>59325</td>\n",
              "    </tr>\n",
              "    <tr>\n",
              "      <th>1</th>\n",
              "      <td>assembly_shop</td>\n",
              "      <td>54494</td>\n",
              "    </tr>\n",
              "    <tr>\n",
              "      <th>2</th>\n",
              "      <td>research_center</td>\n",
              "      <td>14137</td>\n",
              "    </tr>\n",
              "    <tr>\n",
              "      <th>3</th>\n",
              "      <td>finished_stage_1</td>\n",
              "      <td>5817</td>\n",
              "    </tr>\n",
              "    <tr>\n",
              "      <th>4</th>\n",
              "      <td>satellite_orbital_assembly</td>\n",
              "      <td>1866</td>\n",
              "    </tr>\n",
              "  </tbody>\n",
              "</table>\n",
              "</div>\n",
              "      <button class=\"colab-df-convert\" onclick=\"convertToInteractive('df-760564ee-a3e6-4b08-ae99-5b5e1f510240')\"\n",
              "              title=\"Convert this dataframe to an interactive table.\"\n",
              "              style=\"display:none;\">\n",
              "        \n",
              "  <svg xmlns=\"http://www.w3.org/2000/svg\" height=\"24px\"viewBox=\"0 0 24 24\"\n",
              "       width=\"24px\">\n",
              "    <path d=\"M0 0h24v24H0V0z\" fill=\"none\"/>\n",
              "    <path d=\"M18.56 5.44l.94 2.06.94-2.06 2.06-.94-2.06-.94-.94-2.06-.94 2.06-2.06.94zm-11 1L8.5 8.5l.94-2.06 2.06-.94-2.06-.94L8.5 2.5l-.94 2.06-2.06.94zm10 10l.94 2.06.94-2.06 2.06-.94-2.06-.94-.94-2.06-.94 2.06-2.06.94z\"/><path d=\"M17.41 7.96l-1.37-1.37c-.4-.4-.92-.59-1.43-.59-.52 0-1.04.2-1.43.59L10.3 9.45l-7.72 7.72c-.78.78-.78 2.05 0 2.83L4 21.41c.39.39.9.59 1.41.59.51 0 1.02-.2 1.41-.59l7.78-7.78 2.81-2.81c.8-.78.8-2.07 0-2.86zM5.41 20L4 18.59l7.72-7.72 1.47 1.35L5.41 20z\"/>\n",
              "  </svg>\n",
              "      </button>\n",
              "      \n",
              "  <style>\n",
              "    .colab-df-container {\n",
              "      display:flex;\n",
              "      flex-wrap:wrap;\n",
              "      gap: 12px;\n",
              "    }\n",
              "\n",
              "    .colab-df-convert {\n",
              "      background-color: #E8F0FE;\n",
              "      border: none;\n",
              "      border-radius: 50%;\n",
              "      cursor: pointer;\n",
              "      display: none;\n",
              "      fill: #1967D2;\n",
              "      height: 32px;\n",
              "      padding: 0 0 0 0;\n",
              "      width: 32px;\n",
              "    }\n",
              "\n",
              "    .colab-df-convert:hover {\n",
              "      background-color: #E2EBFA;\n",
              "      box-shadow: 0px 1px 2px rgba(60, 64, 67, 0.3), 0px 1px 3px 1px rgba(60, 64, 67, 0.15);\n",
              "      fill: #174EA6;\n",
              "    }\n",
              "\n",
              "    [theme=dark] .colab-df-convert {\n",
              "      background-color: #3B4455;\n",
              "      fill: #D2E3FC;\n",
              "    }\n",
              "\n",
              "    [theme=dark] .colab-df-convert:hover {\n",
              "      background-color: #434B5C;\n",
              "      box-shadow: 0px 1px 3px 1px rgba(0, 0, 0, 0.15);\n",
              "      filter: drop-shadow(0px 1px 2px rgba(0, 0, 0, 0.3));\n",
              "      fill: #FFFFFF;\n",
              "    }\n",
              "  </style>\n",
              "\n",
              "      <script>\n",
              "        const buttonEl =\n",
              "          document.querySelector('#df-760564ee-a3e6-4b08-ae99-5b5e1f510240 button.colab-df-convert');\n",
              "        buttonEl.style.display =\n",
              "          google.colab.kernel.accessAllowed ? 'block' : 'none';\n",
              "\n",
              "        async function convertToInteractive(key) {\n",
              "          const element = document.querySelector('#df-760564ee-a3e6-4b08-ae99-5b5e1f510240');\n",
              "          const dataTable =\n",
              "            await google.colab.kernel.invokeFunction('convertToInteractive',\n",
              "                                                     [key], {});\n",
              "          if (!dataTable) return;\n",
              "\n",
              "          const docLinkHtml = 'Like what you see? Visit the ' +\n",
              "            '<a target=\"_blank\" href=https://colab.research.google.com/notebooks/data_table.ipynb>data table notebook</a>'\n",
              "            + ' to learn more about interactive tables.';\n",
              "          element.innerHTML = '';\n",
              "          dataTable['output_type'] = 'display_data';\n",
              "          await google.colab.output.renderOutput(dataTable, element);\n",
              "          const docLink = document.createElement('div');\n",
              "          docLink.innerHTML = docLinkHtml;\n",
              "          element.appendChild(docLink);\n",
              "        }\n",
              "      </script>\n",
              "    </div>\n",
              "  </div>\n",
              "  "
            ]
          },
          "metadata": {},
          "execution_count": 51
        }
      ],
      "source": [
        "# Добавим столбец с типом события\n",
        "game_actions['type_of_event'] = (\n",
        "    game_actions['building_type']\n",
        "    .fillna(game_actions['project_type'])\n",
        "    .fillna(game_actions['event']))\n",
        "# Посчитаем все типы событий, совершаемые игроками\n",
        "event_count = (\n",
        "    game_actions[['user_id', 'event_datetime', 'type_of_event']]\n",
        "    .groupby('type_of_event', as_index=False)['user_id'].count()\n",
        "    .rename(columns={'user_id':'count'})\n",
        "    .sort_values('count', ascending=False)\n",
        "    .reset_index(drop=True))\n",
        "event_count"
      ]
    },
    {
      "cell_type": "code",
      "execution_count": 52,
      "metadata": {
        "colab": {
          "base_uri": "https://localhost:8080/",
          "height": 317
        },
        "id": "XvTw134NyNc3",
        "outputId": "c7fdf0b5-83ee-49c9-ce8f-6dca882a0317"
      },
      "outputs": [
        {
          "output_type": "display_data",
          "data": {
            "text/html": [
              "<html>\n",
              "<head><meta charset=\"utf-8\" /></head>\n",
              "<body>\n",
              "    <div>            <script src=\"https://cdnjs.cloudflare.com/ajax/libs/mathjax/2.7.5/MathJax.js?config=TeX-AMS-MML_SVG\"></script><script type=\"text/javascript\">if (window.MathJax && window.MathJax.Hub && window.MathJax.Hub.Config) {window.MathJax.Hub.Config({SVG: {font: \"STIX-Web\"}});}</script>                <script type=\"text/javascript\">window.PlotlyConfig = {MathJaxConfig: 'local'};</script>\n",
              "        <script src=\"https://cdn.plot.ly/plotly-2.18.2.min.js\"></script>                <div id=\"e7e7386b-7036-49e1-8f81-93923f6c5290\" class=\"plotly-graph-div\" style=\"height:300px; width:900px;\"></div>            <script type=\"text/javascript\">                                    window.PLOTLYENV=window.PLOTLYENV || {};                                    if (document.getElementById(\"e7e7386b-7036-49e1-8f81-93923f6c5290\")) {                    Plotly.newPlot(                        \"e7e7386b-7036-49e1-8f81-93923f6c5290\",                        [{\"alignmentgroup\":\"True\",\"hovertemplate\":\"count=%{text}<br>type_of_event=%{y}<extra></extra>\",\"legendgroup\":\"\",\"marker\":{\"color\":\"#636efa\",\"pattern\":{\"shape\":\"\"}},\"name\":\"\",\"offsetgroup\":\"\",\"orientation\":\"h\",\"showlegend\":false,\"text\":[1866.0,5817.0,14137.0,54494.0,59325.0],\"textposition\":\"auto\",\"x\":[1866,5817,14137,54494,59325],\"xaxis\":\"x\",\"y\":[\"satellite_orbital_assembly\",\"finished_stage_1\",\"research_center\",\"assembly_shop\",\"spaceport\"],\"yaxis\":\"y\",\"type\":\"bar\"}],                        {\"template\":{\"data\":{\"histogram2dcontour\":[{\"type\":\"histogram2dcontour\",\"colorbar\":{\"outlinewidth\":0,\"ticks\":\"\"},\"colorscale\":[[0.0,\"#0d0887\"],[0.1111111111111111,\"#46039f\"],[0.2222222222222222,\"#7201a8\"],[0.3333333333333333,\"#9c179e\"],[0.4444444444444444,\"#bd3786\"],[0.5555555555555556,\"#d8576b\"],[0.6666666666666666,\"#ed7953\"],[0.7777777777777778,\"#fb9f3a\"],[0.8888888888888888,\"#fdca26\"],[1.0,\"#f0f921\"]]}],\"choropleth\":[{\"type\":\"choropleth\",\"colorbar\":{\"outlinewidth\":0,\"ticks\":\"\"}}],\"histogram2d\":[{\"type\":\"histogram2d\",\"colorbar\":{\"outlinewidth\":0,\"ticks\":\"\"},\"colorscale\":[[0.0,\"#0d0887\"],[0.1111111111111111,\"#46039f\"],[0.2222222222222222,\"#7201a8\"],[0.3333333333333333,\"#9c179e\"],[0.4444444444444444,\"#bd3786\"],[0.5555555555555556,\"#d8576b\"],[0.6666666666666666,\"#ed7953\"],[0.7777777777777778,\"#fb9f3a\"],[0.8888888888888888,\"#fdca26\"],[1.0,\"#f0f921\"]]}],\"heatmap\":[{\"type\":\"heatmap\",\"colorbar\":{\"outlinewidth\":0,\"ticks\":\"\"},\"colorscale\":[[0.0,\"#0d0887\"],[0.1111111111111111,\"#46039f\"],[0.2222222222222222,\"#7201a8\"],[0.3333333333333333,\"#9c179e\"],[0.4444444444444444,\"#bd3786\"],[0.5555555555555556,\"#d8576b\"],[0.6666666666666666,\"#ed7953\"],[0.7777777777777778,\"#fb9f3a\"],[0.8888888888888888,\"#fdca26\"],[1.0,\"#f0f921\"]]}],\"heatmapgl\":[{\"type\":\"heatmapgl\",\"colorbar\":{\"outlinewidth\":0,\"ticks\":\"\"},\"colorscale\":[[0.0,\"#0d0887\"],[0.1111111111111111,\"#46039f\"],[0.2222222222222222,\"#7201a8\"],[0.3333333333333333,\"#9c179e\"],[0.4444444444444444,\"#bd3786\"],[0.5555555555555556,\"#d8576b\"],[0.6666666666666666,\"#ed7953\"],[0.7777777777777778,\"#fb9f3a\"],[0.8888888888888888,\"#fdca26\"],[1.0,\"#f0f921\"]]}],\"contourcarpet\":[{\"type\":\"contourcarpet\",\"colorbar\":{\"outlinewidth\":0,\"ticks\":\"\"}}],\"contour\":[{\"type\":\"contour\",\"colorbar\":{\"outlinewidth\":0,\"ticks\":\"\"},\"colorscale\":[[0.0,\"#0d0887\"],[0.1111111111111111,\"#46039f\"],[0.2222222222222222,\"#7201a8\"],[0.3333333333333333,\"#9c179e\"],[0.4444444444444444,\"#bd3786\"],[0.5555555555555556,\"#d8576b\"],[0.6666666666666666,\"#ed7953\"],[0.7777777777777778,\"#fb9f3a\"],[0.8888888888888888,\"#fdca26\"],[1.0,\"#f0f921\"]]}],\"surface\":[{\"type\":\"surface\",\"colorbar\":{\"outlinewidth\":0,\"ticks\":\"\"},\"colorscale\":[[0.0,\"#0d0887\"],[0.1111111111111111,\"#46039f\"],[0.2222222222222222,\"#7201a8\"],[0.3333333333333333,\"#9c179e\"],[0.4444444444444444,\"#bd3786\"],[0.5555555555555556,\"#d8576b\"],[0.6666666666666666,\"#ed7953\"],[0.7777777777777778,\"#fb9f3a\"],[0.8888888888888888,\"#fdca26\"],[1.0,\"#f0f921\"]]}],\"mesh3d\":[{\"type\":\"mesh3d\",\"colorbar\":{\"outlinewidth\":0,\"ticks\":\"\"}}],\"scatter\":[{\"fillpattern\":{\"fillmode\":\"overlay\",\"size\":10,\"solidity\":0.2},\"type\":\"scatter\"}],\"parcoords\":[{\"type\":\"parcoords\",\"line\":{\"colorbar\":{\"outlinewidth\":0,\"ticks\":\"\"}}}],\"scatterpolargl\":[{\"type\":\"scatterpolargl\",\"marker\":{\"colorbar\":{\"outlinewidth\":0,\"ticks\":\"\"}}}],\"bar\":[{\"error_x\":{\"color\":\"#2a3f5f\"},\"error_y\":{\"color\":\"#2a3f5f\"},\"marker\":{\"line\":{\"color\":\"#E5ECF6\",\"width\":0.5},\"pattern\":{\"fillmode\":\"overlay\",\"size\":10,\"solidity\":0.2}},\"type\":\"bar\"}],\"scattergeo\":[{\"type\":\"scattergeo\",\"marker\":{\"colorbar\":{\"outlinewidth\":0,\"ticks\":\"\"}}}],\"scatterpolar\":[{\"type\":\"scatterpolar\",\"marker\":{\"colorbar\":{\"outlinewidth\":0,\"ticks\":\"\"}}}],\"histogram\":[{\"marker\":{\"pattern\":{\"fillmode\":\"overlay\",\"size\":10,\"solidity\":0.2}},\"type\":\"histogram\"}],\"scattergl\":[{\"type\":\"scattergl\",\"marker\":{\"colorbar\":{\"outlinewidth\":0,\"ticks\":\"\"}}}],\"scatter3d\":[{\"type\":\"scatter3d\",\"line\":{\"colorbar\":{\"outlinewidth\":0,\"ticks\":\"\"}},\"marker\":{\"colorbar\":{\"outlinewidth\":0,\"ticks\":\"\"}}}],\"scattermapbox\":[{\"type\":\"scattermapbox\",\"marker\":{\"colorbar\":{\"outlinewidth\":0,\"ticks\":\"\"}}}],\"scatterternary\":[{\"type\":\"scatterternary\",\"marker\":{\"colorbar\":{\"outlinewidth\":0,\"ticks\":\"\"}}}],\"scattercarpet\":[{\"type\":\"scattercarpet\",\"marker\":{\"colorbar\":{\"outlinewidth\":0,\"ticks\":\"\"}}}],\"carpet\":[{\"aaxis\":{\"endlinecolor\":\"#2a3f5f\",\"gridcolor\":\"white\",\"linecolor\":\"white\",\"minorgridcolor\":\"white\",\"startlinecolor\":\"#2a3f5f\"},\"baxis\":{\"endlinecolor\":\"#2a3f5f\",\"gridcolor\":\"white\",\"linecolor\":\"white\",\"minorgridcolor\":\"white\",\"startlinecolor\":\"#2a3f5f\"},\"type\":\"carpet\"}],\"table\":[{\"cells\":{\"fill\":{\"color\":\"#EBF0F8\"},\"line\":{\"color\":\"white\"}},\"header\":{\"fill\":{\"color\":\"#C8D4E3\"},\"line\":{\"color\":\"white\"}},\"type\":\"table\"}],\"barpolar\":[{\"marker\":{\"line\":{\"color\":\"#E5ECF6\",\"width\":0.5},\"pattern\":{\"fillmode\":\"overlay\",\"size\":10,\"solidity\":0.2}},\"type\":\"barpolar\"}],\"pie\":[{\"automargin\":true,\"type\":\"pie\"}]},\"layout\":{\"autotypenumbers\":\"strict\",\"colorway\":[\"#636efa\",\"#EF553B\",\"#00cc96\",\"#ab63fa\",\"#FFA15A\",\"#19d3f3\",\"#FF6692\",\"#B6E880\",\"#FF97FF\",\"#FECB52\"],\"font\":{\"color\":\"#2a3f5f\"},\"hovermode\":\"closest\",\"hoverlabel\":{\"align\":\"left\"},\"paper_bgcolor\":\"white\",\"plot_bgcolor\":\"#E5ECF6\",\"polar\":{\"bgcolor\":\"#E5ECF6\",\"angularaxis\":{\"gridcolor\":\"white\",\"linecolor\":\"white\",\"ticks\":\"\"},\"radialaxis\":{\"gridcolor\":\"white\",\"linecolor\":\"white\",\"ticks\":\"\"}},\"ternary\":{\"bgcolor\":\"#E5ECF6\",\"aaxis\":{\"gridcolor\":\"white\",\"linecolor\":\"white\",\"ticks\":\"\"},\"baxis\":{\"gridcolor\":\"white\",\"linecolor\":\"white\",\"ticks\":\"\"},\"caxis\":{\"gridcolor\":\"white\",\"linecolor\":\"white\",\"ticks\":\"\"}},\"coloraxis\":{\"colorbar\":{\"outlinewidth\":0,\"ticks\":\"\"}},\"colorscale\":{\"sequential\":[[0.0,\"#0d0887\"],[0.1111111111111111,\"#46039f\"],[0.2222222222222222,\"#7201a8\"],[0.3333333333333333,\"#9c179e\"],[0.4444444444444444,\"#bd3786\"],[0.5555555555555556,\"#d8576b\"],[0.6666666666666666,\"#ed7953\"],[0.7777777777777778,\"#fb9f3a\"],[0.8888888888888888,\"#fdca26\"],[1.0,\"#f0f921\"]],\"sequentialminus\":[[0.0,\"#0d0887\"],[0.1111111111111111,\"#46039f\"],[0.2222222222222222,\"#7201a8\"],[0.3333333333333333,\"#9c179e\"],[0.4444444444444444,\"#bd3786\"],[0.5555555555555556,\"#d8576b\"],[0.6666666666666666,\"#ed7953\"],[0.7777777777777778,\"#fb9f3a\"],[0.8888888888888888,\"#fdca26\"],[1.0,\"#f0f921\"]],\"diverging\":[[0,\"#8e0152\"],[0.1,\"#c51b7d\"],[0.2,\"#de77ae\"],[0.3,\"#f1b6da\"],[0.4,\"#fde0ef\"],[0.5,\"#f7f7f7\"],[0.6,\"#e6f5d0\"],[0.7,\"#b8e186\"],[0.8,\"#7fbc41\"],[0.9,\"#4d9221\"],[1,\"#276419\"]]},\"xaxis\":{\"gridcolor\":\"white\",\"linecolor\":\"white\",\"ticks\":\"\",\"title\":{\"standoff\":15},\"zerolinecolor\":\"white\",\"automargin\":true,\"zerolinewidth\":2},\"yaxis\":{\"gridcolor\":\"white\",\"linecolor\":\"white\",\"ticks\":\"\",\"title\":{\"standoff\":15},\"zerolinecolor\":\"white\",\"automargin\":true,\"zerolinewidth\":2},\"scene\":{\"xaxis\":{\"backgroundcolor\":\"#E5ECF6\",\"gridcolor\":\"white\",\"linecolor\":\"white\",\"showbackground\":true,\"ticks\":\"\",\"zerolinecolor\":\"white\",\"gridwidth\":2},\"yaxis\":{\"backgroundcolor\":\"#E5ECF6\",\"gridcolor\":\"white\",\"linecolor\":\"white\",\"showbackground\":true,\"ticks\":\"\",\"zerolinecolor\":\"white\",\"gridwidth\":2},\"zaxis\":{\"backgroundcolor\":\"#E5ECF6\",\"gridcolor\":\"white\",\"linecolor\":\"white\",\"showbackground\":true,\"ticks\":\"\",\"zerolinecolor\":\"white\",\"gridwidth\":2}},\"shapedefaults\":{\"line\":{\"color\":\"#2a3f5f\"}},\"annotationdefaults\":{\"arrowcolor\":\"#2a3f5f\",\"arrowhead\":0,\"arrowwidth\":1},\"geo\":{\"bgcolor\":\"white\",\"landcolor\":\"#E5ECF6\",\"subunitcolor\":\"white\",\"showland\":true,\"showlakes\":true,\"lakecolor\":\"white\"},\"title\":{\"x\":0.05},\"mapbox\":{\"style\":\"light\"}}},\"xaxis\":{\"anchor\":\"y\",\"domain\":[0.0,1.0],\"title\":{\"text\":\"\\u041a\\u043e\\u043b\\u0438\\u0447\\u0435\\u0441\\u0442\\u0432\\u043e \\u0441\\u043e\\u0431\\u044b\\u0442\\u0438\\u0439\"}},\"yaxis\":{\"anchor\":\"x\",\"domain\":[0.0,1.0],\"title\":{\"text\":\"\\u0422\\u0438\\u043f \\u0441\\u043e\\u0431\\u044b\\u0442\\u0438\\u044f\"}},\"legend\":{\"tracegroupgap\":0,\"title\":{\"text\":\" \"}},\"margin\":{\"t\":60},\"barmode\":\"relative\",\"title\":{\"text\":\"\\u0421\\u043e\\u0431\\u044b\\u0442\\u0438\\u044f \\u0432 \\u0438\\u0433\\u0440\\u0435 \\u0437\\u0430 33 \\u0434\\u043d\\u044f\"},\"width\":900,\"height\":300},                        {\"responsive\": true}                    ).then(function(){\n",
              "                            \n",
              "var gd = document.getElementById('e7e7386b-7036-49e1-8f81-93923f6c5290');\n",
              "var x = new MutationObserver(function (mutations, observer) {{\n",
              "        var display = window.getComputedStyle(gd).display;\n",
              "        if (!display || display === 'none') {{\n",
              "            console.log([gd, 'removed!']);\n",
              "            Plotly.purge(gd);\n",
              "            observer.disconnect();\n",
              "        }}\n",
              "}});\n",
              "\n",
              "// Listen for the removal of the full notebook cells\n",
              "var notebookContainer = gd.closest('#notebook-container');\n",
              "if (notebookContainer) {{\n",
              "    x.observe(notebookContainer, {childList: true});\n",
              "}}\n",
              "\n",
              "// Listen for the clearing of the current output cell\n",
              "var outputEl = gd.closest('.output');\n",
              "if (outputEl) {{\n",
              "    x.observe(outputEl, {childList: true});\n",
              "}}\n",
              "\n",
              "                        })                };                            </script>        </div>\n",
              "</body>\n",
              "</html>"
            ]
          },
          "metadata": {}
        }
      ],
      "source": [
        "# Визуализируем события по популярности (частоте приминения игроками)\n",
        "fig=px.bar(event_count.sort_values('count'),\n",
        "           x='count', y='type_of_event', text='count')\n",
        "fig.update_layout(title='События в игре за 33 дня',\n",
        "                 xaxis_title='Количество событий',\n",
        "                 yaxis_title='Тип события',\n",
        "                 legend_title=' ',\n",
        "                 width=900,\n",
        "                 height=300)\n",
        "fig.show();"
      ]
    },
    {
      "cell_type": "markdown",
      "metadata": {
        "id": "7ozaZSJayNc4"
      },
      "source": [
        "***Чаще всего игроки видят экран `строительства космопорта` либо `сброчного цеха`.***\n",
        "\n",
        "***Это стоит учитывать при планировании монетизации игры для выбора экрана с типом объекта для постройки, на котором будет показываться реклама, т.к. нужно охватить как можно больше игроков.***"
      ]
    },
    {
      "cell_type": "markdown",
      "metadata": {
        "id": "1CSoRL94yNc4"
      },
      "source": [
        "<a id = 'вывод_по_исследовательскому'></a>\n",
        "## 5.5 Вывод по исследовательскому анализу данных."
      ]
    },
    {
      "cell_type": "markdown",
      "metadata": {
        "id": "wRuYK3wwyNc4"
      },
      "source": [
        "- Больше всего пользователей пришли из источника `yandex`;\n",
        "- `youtube` привёл в игру меньше всего пользователей, но и затраты на этот канал были меньше в два раза.\n",
        "<br><br>\n",
        "- Тройка лидеров по затратам (`yandex`, `instagram` и `facebook`) имеют не особо большую разницу во вложенных средствах. За неделю на каждый из этих трёх источников было потрачено `2 141` - `2 233 у.е.`;\n",
        "- В рекламу на `youtube` за 7 дней было вложено `1 068 у.е.`, что в два раза меньше, чем любой другой источник;\n",
        "- Максимальные затраты были в начале исследуемого периода (03.05.2020). Далее вложения становятся меньше с каждым днём, стремясь к нулю около 09.05.2020;\n",
        "- Всего на рекламу за 7 дней потрачено `7 603` У.Е.\n",
        "<br><br>\n",
        "- Дороже всего обходятся пользователи, пришедшие с `facebook`, дешевле всего - с `youtube`;\n",
        "- Лидером по соотношению количество/стоимость привлечения пользователя является `yandex`. Так, при стоимости привлечения пользователя в `0.46 у.е.` за одну неделю каналом `yandex` в игру было привлечено `4 817` игроков;\n",
        "- Канал `facebook` при стоимости привлечения `0.79 у.е.` привёл в игру за неделю `2 726` игроков;\n",
        "- CAC дешевле, чем у `yandex` только у `youtube` - `0.40 у.е.`, но с этого источника пришло почти в два раза меньше чем с yandex_direct игроков.\n",
        "<br><br>\n",
        "- Пользователей, завершивших первый уровень, пришедших с канала `yandex` больше всего - `2 042`;\n",
        "- Меньше всего до \"финиша\" добралось пользователей, пришедших с канала `facebook` - `1 150`.\n",
        "<br><br>\n",
        "- Процент игроков, которые прошли первый уровень и не \"отвалились\" по всем каналам - примерно одинаковое - `42.2%`-`43.8%`.\n",
        "<br><br>\n",
        "- `57%` пивлечённых игроков НЕ завершили первый уровень;\n",
        "- Из `43%` игроков, завершивших уровень:\n",
        "    - `29%` - закончили уровень путём победы над первым врагом (PVP);\n",
        "    - `14%` - закончили уровень путём выполнения проекта (PVE).\n",
        "<br><br>\n",
        "- Распределение долей `PVP` и `PVE` игроков, в зависимости `от источника`, с которого они попали в игру - примерно одинаковое на всех каналах:\n",
        "    - `PVP` игроки - `66-69%`;\n",
        "    - `PVE` игроки - `30-34%`.\n",
        "<br><br>\n",
        "- Чаще всего игроки совершают действия `cтроительство космопорта` либо `сброчного цеха`;\n",
        "- Медианное количество построек одного игрока - `11`.\n",
        "<br><br>\n",
        "Это стоит учитывать при планировании `монетизации` игры для выбора `экрана` с типом объекта для постройки, на котором будет показываться реклама, т.к. нужно охватить как можно больше игроков.\n",
        "\n"
      ]
    },
    {
      "cell_type": "markdown",
      "metadata": {
        "id": "92X7IIO1yNc4"
      },
      "source": [
        "<a id='проверка_гипотез'></a>\n",
        "# 6. Проверка статистических гипотез."
      ]
    },
    {
      "cell_type": "markdown",
      "metadata": {
        "id": "UNUz9maGyNc4"
      },
      "source": [
        "<a id='время'></a>\n",
        "## 6.1 Различия во времени завершения уровня в зависимости от способа прохождения.\n",
        "\n",
        "Проверим гипотезу:<br><br>\n",
        "Среднее время завершения уровня различается в зависимости от способа прохождения:\n",
        "- через реализацию проекта;\n",
        "- через победу над первым врагом."
      ]
    },
    {
      "cell_type": "code",
      "execution_count": 53,
      "metadata": {
        "colab": {
          "base_uri": "https://localhost:8080/",
          "height": 204
        },
        "id": "yo6xkh9AyNc4",
        "outputId": "90843f43-726d-4e4a-d68c-8c053108bc6d"
      },
      "outputs": [
        {
          "output_type": "execute_result",
          "data": {
            "text/plain": [
              "                                user_id                   source first_date  \\\n",
              "0  0001f83c-c6ac-4621-b7f0-8a28b283ac30             facebook_ads 2020-05-06   \n",
              "1  00151b4f-ba38-44a8-a650-d7cf130a0105            yandex_direct 2020-05-06   \n",
              "2  001aaea6-3d14-43f1-8ca8-7f48820f17aa  youtube_channel_reklama 2020-05-05   \n",
              "3  001d39dc-366c-4021-9604-6a3b9ff01e25    instagram_new_adverts 2020-05-05   \n",
              "4  002f508f-67b6-479f-814b-b05f00d4e995             facebook_ads 2020-05-05   \n",
              "\n",
              "   last_date   pvp_or_pve stage_compl_days  stage_compl_sec  \n",
              "0 2020-05-20  не завершён          15 days        1296000.0  \n",
              "1 2020-05-18  не завершён          13 days        1123200.0  \n",
              "2 2020-05-14  не завершён          10 days         864000.0  \n",
              "3 2020-05-12          pvp           8 days         691200.0  \n",
              "4 2020-05-22  не завершён          18 days        1555200.0  "
            ],
            "text/html": [
              "\n",
              "  <div id=\"df-b8e377ef-9f82-4038-ae97-de82676e8220\">\n",
              "    <div class=\"colab-df-container\">\n",
              "      <div>\n",
              "<style scoped>\n",
              "    .dataframe tbody tr th:only-of-type {\n",
              "        vertical-align: middle;\n",
              "    }\n",
              "\n",
              "    .dataframe tbody tr th {\n",
              "        vertical-align: top;\n",
              "    }\n",
              "\n",
              "    .dataframe thead th {\n",
              "        text-align: right;\n",
              "    }\n",
              "</style>\n",
              "<table border=\"1\" class=\"dataframe\">\n",
              "  <thead>\n",
              "    <tr style=\"text-align: right;\">\n",
              "      <th></th>\n",
              "      <th>user_id</th>\n",
              "      <th>source</th>\n",
              "      <th>first_date</th>\n",
              "      <th>last_date</th>\n",
              "      <th>pvp_or_pve</th>\n",
              "      <th>stage_compl_days</th>\n",
              "      <th>stage_compl_sec</th>\n",
              "    </tr>\n",
              "  </thead>\n",
              "  <tbody>\n",
              "    <tr>\n",
              "      <th>0</th>\n",
              "      <td>0001f83c-c6ac-4621-b7f0-8a28b283ac30</td>\n",
              "      <td>facebook_ads</td>\n",
              "      <td>2020-05-06</td>\n",
              "      <td>2020-05-20</td>\n",
              "      <td>не завершён</td>\n",
              "      <td>15 days</td>\n",
              "      <td>1296000.0</td>\n",
              "    </tr>\n",
              "    <tr>\n",
              "      <th>1</th>\n",
              "      <td>00151b4f-ba38-44a8-a650-d7cf130a0105</td>\n",
              "      <td>yandex_direct</td>\n",
              "      <td>2020-05-06</td>\n",
              "      <td>2020-05-18</td>\n",
              "      <td>не завершён</td>\n",
              "      <td>13 days</td>\n",
              "      <td>1123200.0</td>\n",
              "    </tr>\n",
              "    <tr>\n",
              "      <th>2</th>\n",
              "      <td>001aaea6-3d14-43f1-8ca8-7f48820f17aa</td>\n",
              "      <td>youtube_channel_reklama</td>\n",
              "      <td>2020-05-05</td>\n",
              "      <td>2020-05-14</td>\n",
              "      <td>не завершён</td>\n",
              "      <td>10 days</td>\n",
              "      <td>864000.0</td>\n",
              "    </tr>\n",
              "    <tr>\n",
              "      <th>3</th>\n",
              "      <td>001d39dc-366c-4021-9604-6a3b9ff01e25</td>\n",
              "      <td>instagram_new_adverts</td>\n",
              "      <td>2020-05-05</td>\n",
              "      <td>2020-05-12</td>\n",
              "      <td>pvp</td>\n",
              "      <td>8 days</td>\n",
              "      <td>691200.0</td>\n",
              "    </tr>\n",
              "    <tr>\n",
              "      <th>4</th>\n",
              "      <td>002f508f-67b6-479f-814b-b05f00d4e995</td>\n",
              "      <td>facebook_ads</td>\n",
              "      <td>2020-05-05</td>\n",
              "      <td>2020-05-22</td>\n",
              "      <td>не завершён</td>\n",
              "      <td>18 days</td>\n",
              "      <td>1555200.0</td>\n",
              "    </tr>\n",
              "  </tbody>\n",
              "</table>\n",
              "</div>\n",
              "      <button class=\"colab-df-convert\" onclick=\"convertToInteractive('df-b8e377ef-9f82-4038-ae97-de82676e8220')\"\n",
              "              title=\"Convert this dataframe to an interactive table.\"\n",
              "              style=\"display:none;\">\n",
              "        \n",
              "  <svg xmlns=\"http://www.w3.org/2000/svg\" height=\"24px\"viewBox=\"0 0 24 24\"\n",
              "       width=\"24px\">\n",
              "    <path d=\"M0 0h24v24H0V0z\" fill=\"none\"/>\n",
              "    <path d=\"M18.56 5.44l.94 2.06.94-2.06 2.06-.94-2.06-.94-.94-2.06-.94 2.06-2.06.94zm-11 1L8.5 8.5l.94-2.06 2.06-.94-2.06-.94L8.5 2.5l-.94 2.06-2.06.94zm10 10l.94 2.06.94-2.06 2.06-.94-2.06-.94-.94-2.06-.94 2.06-2.06.94z\"/><path d=\"M17.41 7.96l-1.37-1.37c-.4-.4-.92-.59-1.43-.59-.52 0-1.04.2-1.43.59L10.3 9.45l-7.72 7.72c-.78.78-.78 2.05 0 2.83L4 21.41c.39.39.9.59 1.41.59.51 0 1.02-.2 1.41-.59l7.78-7.78 2.81-2.81c.8-.78.8-2.07 0-2.86zM5.41 20L4 18.59l7.72-7.72 1.47 1.35L5.41 20z\"/>\n",
              "  </svg>\n",
              "      </button>\n",
              "      \n",
              "  <style>\n",
              "    .colab-df-container {\n",
              "      display:flex;\n",
              "      flex-wrap:wrap;\n",
              "      gap: 12px;\n",
              "    }\n",
              "\n",
              "    .colab-df-convert {\n",
              "      background-color: #E8F0FE;\n",
              "      border: none;\n",
              "      border-radius: 50%;\n",
              "      cursor: pointer;\n",
              "      display: none;\n",
              "      fill: #1967D2;\n",
              "      height: 32px;\n",
              "      padding: 0 0 0 0;\n",
              "      width: 32px;\n",
              "    }\n",
              "\n",
              "    .colab-df-convert:hover {\n",
              "      background-color: #E2EBFA;\n",
              "      box-shadow: 0px 1px 2px rgba(60, 64, 67, 0.3), 0px 1px 3px 1px rgba(60, 64, 67, 0.15);\n",
              "      fill: #174EA6;\n",
              "    }\n",
              "\n",
              "    [theme=dark] .colab-df-convert {\n",
              "      background-color: #3B4455;\n",
              "      fill: #D2E3FC;\n",
              "    }\n",
              "\n",
              "    [theme=dark] .colab-df-convert:hover {\n",
              "      background-color: #434B5C;\n",
              "      box-shadow: 0px 1px 3px 1px rgba(0, 0, 0, 0.15);\n",
              "      filter: drop-shadow(0px 1px 2px rgba(0, 0, 0, 0.3));\n",
              "      fill: #FFFFFF;\n",
              "    }\n",
              "  </style>\n",
              "\n",
              "      <script>\n",
              "        const buttonEl =\n",
              "          document.querySelector('#df-b8e377ef-9f82-4038-ae97-de82676e8220 button.colab-df-convert');\n",
              "        buttonEl.style.display =\n",
              "          google.colab.kernel.accessAllowed ? 'block' : 'none';\n",
              "\n",
              "        async function convertToInteractive(key) {\n",
              "          const element = document.querySelector('#df-b8e377ef-9f82-4038-ae97-de82676e8220');\n",
              "          const dataTable =\n",
              "            await google.colab.kernel.invokeFunction('convertToInteractive',\n",
              "                                                     [key], {});\n",
              "          if (!dataTable) return;\n",
              "\n",
              "          const docLinkHtml = 'Like what you see? Visit the ' +\n",
              "            '<a target=\"_blank\" href=https://colab.research.google.com/notebooks/data_table.ipynb>data table notebook</a>'\n",
              "            + ' to learn more about interactive tables.';\n",
              "          element.innerHTML = '';\n",
              "          dataTable['output_type'] = 'display_data';\n",
              "          await google.colab.output.renderOutput(dataTable, element);\n",
              "          const docLink = document.createElement('div');\n",
              "          docLink.innerHTML = docLinkHtml;\n",
              "          element.appendChild(docLink);\n",
              "        }\n",
              "      </script>\n",
              "    </div>\n",
              "  </div>\n",
              "  "
            ]
          },
          "metadata": {},
          "execution_count": 53
        }
      ],
      "source": [
        "# Посчитаем количество дней, понадобившихся игроку для завершения первого уровня\n",
        "profiles['stage_compl_days'] = profiles['last_date'] - profiles['first_date'] + pd.to_timedelta('1 day')\n",
        "# Сконвертируем дни в секунды\n",
        "profiles['stage_compl_sec'] = profiles['stage_compl_days'].dt.total_seconds()\n",
        "profiles.head(5)"
      ]
    },
    {
      "cell_type": "code",
      "execution_count": 54,
      "metadata": {
        "id": "s41i82OAyNc4"
      },
      "outputs": [],
      "source": [
        "# Создадим два датасета со временем в секундах по типу завершения уровня\n",
        "time_to_finished_pvp = profiles.query('pvp_or_pve == \"pvp\"')['stage_compl_sec'].tolist()\n",
        "time_to_finished_pve = profiles.query('pvp_or_pve == \"pve\"')['stage_compl_sec'].tolist()"
      ]
    },
    {
      "cell_type": "markdown",
      "metadata": {
        "id": "DwCJz0VPyNc4"
      },
      "source": [
        "Для проверки нашей гипотезы будем использовать t-тест.\n",
        "- ***H0: Среднее время завершения уровня PVE-игроками = среднему времени завершения уровня PVP-игроками;***\n",
        "- ***H1: Среднее время завершения уровня PVE-игроками отличается от среднего времени завершения уровня PVP-игроками.***"
      ]
    },
    {
      "cell_type": "code",
      "execution_count": 55,
      "metadata": {
        "colab": {
          "base_uri": "https://localhost:8080/"
        },
        "id": "qAq6vkogyNc4",
        "outputId": "712a6317-c849-4ab0-ea58-451cefe50ddb"
      },
      "outputs": [
        {
          "output_type": "stream",
          "name": "stdout",
          "text": [
            "Размер датасета time_to_finished_pvp: 3951 . Его дисперсия: 125752729103.73026\n",
            "Размер датасета time_to_finished_pve: 1866 . Его дисперсия: 92582058326.11327\n"
          ]
        }
      ],
      "source": [
        "print('Размер датасета time_to_finished_pvp:', len(time_to_finished_pvp),\n",
        "      '. Его дисперсия:', np.var(time_to_finished_pvp))\n",
        "print('Размер датасета time_to_finished_pve:', len(time_to_finished_pve),\n",
        "      '. Его дисперсия:', np.var(time_to_finished_pve))"
      ]
    },
    {
      "cell_type": "markdown",
      "metadata": {
        "id": "2KakJKvGyNc5"
      },
      "source": [
        "*Размер и дисперсия различаются, в проведении t-теста зададим `equal_var = False`.*<br>\n",
        "*Уровень значимости alpha зададим 5%.*\n"
      ]
    },
    {
      "cell_type": "code",
      "execution_count": 56,
      "metadata": {
        "scrolled": true,
        "colab": {
          "base_uri": "https://localhost:8080/"
        },
        "id": "3F8hCpuAyNc5",
        "outputId": "e6738482-cc2d-4f80-e056-181b301c564c"
      },
      "outputs": [
        {
          "output_type": "stream",
          "name": "stdout",
          "text": [
            "p-value 6.570466755643636e-105\n",
            "Отвергаем нулевую гипотезу\n"
          ]
        }
      ],
      "source": [
        "\n",
        "alpha = 0.05\n",
        "results = st.ttest_ind(time_to_finished_pvp, time_to_finished_pve, equal_var=False)\n",
        "print('p-value', results.pvalue)\n",
        "if results.pvalue < alpha:\n",
        "    print('Отвергаем нулевую гипотезу')\n",
        "else:\n",
        "    print('Не получилось отвергнуть нулевую гипотезу')"
      ]
    },
    {
      "cell_type": "markdown",
      "metadata": {
        "id": "u9o9bp1VyNc5"
      },
      "source": [
        "*t-тест подтверждает, что среднее время завершения уровня* **`различается`** *в зависимости от способа прохождения:*\n",
        "- *через реализацию проекта;*\n",
        "- *через победу над первым врагом.*"
      ]
    },
    {
      "cell_type": "markdown",
      "metadata": {
        "id": "hTHgYr5iyNc5"
      },
      "source": [
        "<a id='постройки'></a>\n",
        "## 6.2 Различия количества построенных игроком объектов в зависимости от способа завершения уровня.\n",
        "\n",
        "*Проверим гипотезу:*<br><br>\n",
        "**Количество построенных игроком объектов различается в зависимости от способа завершения уровня:**\n",
        "- через реализацию проекта;\n",
        "- через победу над первым врагом."
      ]
    },
    {
      "cell_type": "code",
      "execution_count": 57,
      "metadata": {
        "colab": {
          "base_uri": "https://localhost:8080/",
          "height": 204
        },
        "id": "nrbqBStYyNc5",
        "outputId": "2a140a93-1c81-493b-98ec-eaaa10efe057"
      },
      "outputs": [
        {
          "output_type": "execute_result",
          "data": {
            "text/plain": [
              "                       source                               user_id  \\\n",
              "2026    instagram_new_adverts  9a14fe86-db42-4762-8424-0574cb7bf376   \n",
              "4071            yandex_direct  b1a20c11-1054-4e05-9763-4f1bef4746f9   \n",
              "2743            yandex_direct  0e7a4cd5-5ecd-442f-849d-a35968b20215   \n",
              "5427  youtube_channel_reklama  ae0ce8b4-16f3-4174-96b2-653ee298e1fa   \n",
              "3329            yandex_direct  542b2145-051e-4869-bab4-444cf3555e5f   \n",
              "\n",
              "      buildings pvp_or_pve  \n",
              "2026         12        pve  \n",
              "4071         13        pvp  \n",
              "2743         14        pve  \n",
              "5427         10        pve  \n",
              "3329         12        pvp  "
            ],
            "text/html": [
              "\n",
              "  <div id=\"df-82480988-4489-4a8a-bfc6-a39cf6489ab1\">\n",
              "    <div class=\"colab-df-container\">\n",
              "      <div>\n",
              "<style scoped>\n",
              "    .dataframe tbody tr th:only-of-type {\n",
              "        vertical-align: middle;\n",
              "    }\n",
              "\n",
              "    .dataframe tbody tr th {\n",
              "        vertical-align: top;\n",
              "    }\n",
              "\n",
              "    .dataframe thead th {\n",
              "        text-align: right;\n",
              "    }\n",
              "</style>\n",
              "<table border=\"1\" class=\"dataframe\">\n",
              "  <thead>\n",
              "    <tr style=\"text-align: right;\">\n",
              "      <th></th>\n",
              "      <th>source</th>\n",
              "      <th>user_id</th>\n",
              "      <th>buildings</th>\n",
              "      <th>pvp_or_pve</th>\n",
              "    </tr>\n",
              "  </thead>\n",
              "  <tbody>\n",
              "    <tr>\n",
              "      <th>2026</th>\n",
              "      <td>instagram_new_adverts</td>\n",
              "      <td>9a14fe86-db42-4762-8424-0574cb7bf376</td>\n",
              "      <td>12</td>\n",
              "      <td>pve</td>\n",
              "    </tr>\n",
              "    <tr>\n",
              "      <th>4071</th>\n",
              "      <td>yandex_direct</td>\n",
              "      <td>b1a20c11-1054-4e05-9763-4f1bef4746f9</td>\n",
              "      <td>13</td>\n",
              "      <td>pvp</td>\n",
              "    </tr>\n",
              "    <tr>\n",
              "      <th>2743</th>\n",
              "      <td>yandex_direct</td>\n",
              "      <td>0e7a4cd5-5ecd-442f-849d-a35968b20215</td>\n",
              "      <td>14</td>\n",
              "      <td>pve</td>\n",
              "    </tr>\n",
              "    <tr>\n",
              "      <th>5427</th>\n",
              "      <td>youtube_channel_reklama</td>\n",
              "      <td>ae0ce8b4-16f3-4174-96b2-653ee298e1fa</td>\n",
              "      <td>10</td>\n",
              "      <td>pve</td>\n",
              "    </tr>\n",
              "    <tr>\n",
              "      <th>3329</th>\n",
              "      <td>yandex_direct</td>\n",
              "      <td>542b2145-051e-4869-bab4-444cf3555e5f</td>\n",
              "      <td>12</td>\n",
              "      <td>pvp</td>\n",
              "    </tr>\n",
              "  </tbody>\n",
              "</table>\n",
              "</div>\n",
              "      <button class=\"colab-df-convert\" onclick=\"convertToInteractive('df-82480988-4489-4a8a-bfc6-a39cf6489ab1')\"\n",
              "              title=\"Convert this dataframe to an interactive table.\"\n",
              "              style=\"display:none;\">\n",
              "        \n",
              "  <svg xmlns=\"http://www.w3.org/2000/svg\" height=\"24px\"viewBox=\"0 0 24 24\"\n",
              "       width=\"24px\">\n",
              "    <path d=\"M0 0h24v24H0V0z\" fill=\"none\"/>\n",
              "    <path d=\"M18.56 5.44l.94 2.06.94-2.06 2.06-.94-2.06-.94-.94-2.06-.94 2.06-2.06.94zm-11 1L8.5 8.5l.94-2.06 2.06-.94-2.06-.94L8.5 2.5l-.94 2.06-2.06.94zm10 10l.94 2.06.94-2.06 2.06-.94-2.06-.94-.94-2.06-.94 2.06-2.06.94z\"/><path d=\"M17.41 7.96l-1.37-1.37c-.4-.4-.92-.59-1.43-.59-.52 0-1.04.2-1.43.59L10.3 9.45l-7.72 7.72c-.78.78-.78 2.05 0 2.83L4 21.41c.39.39.9.59 1.41.59.51 0 1.02-.2 1.41-.59l7.78-7.78 2.81-2.81c.8-.78.8-2.07 0-2.86zM5.41 20L4 18.59l7.72-7.72 1.47 1.35L5.41 20z\"/>\n",
              "  </svg>\n",
              "      </button>\n",
              "      \n",
              "  <style>\n",
              "    .colab-df-container {\n",
              "      display:flex;\n",
              "      flex-wrap:wrap;\n",
              "      gap: 12px;\n",
              "    }\n",
              "\n",
              "    .colab-df-convert {\n",
              "      background-color: #E8F0FE;\n",
              "      border: none;\n",
              "      border-radius: 50%;\n",
              "      cursor: pointer;\n",
              "      display: none;\n",
              "      fill: #1967D2;\n",
              "      height: 32px;\n",
              "      padding: 0 0 0 0;\n",
              "      width: 32px;\n",
              "    }\n",
              "\n",
              "    .colab-df-convert:hover {\n",
              "      background-color: #E2EBFA;\n",
              "      box-shadow: 0px 1px 2px rgba(60, 64, 67, 0.3), 0px 1px 3px 1px rgba(60, 64, 67, 0.15);\n",
              "      fill: #174EA6;\n",
              "    }\n",
              "\n",
              "    [theme=dark] .colab-df-convert {\n",
              "      background-color: #3B4455;\n",
              "      fill: #D2E3FC;\n",
              "    }\n",
              "\n",
              "    [theme=dark] .colab-df-convert:hover {\n",
              "      background-color: #434B5C;\n",
              "      box-shadow: 0px 1px 3px 1px rgba(0, 0, 0, 0.15);\n",
              "      filter: drop-shadow(0px 1px 2px rgba(0, 0, 0, 0.3));\n",
              "      fill: #FFFFFF;\n",
              "    }\n",
              "  </style>\n",
              "\n",
              "      <script>\n",
              "        const buttonEl =\n",
              "          document.querySelector('#df-82480988-4489-4a8a-bfc6-a39cf6489ab1 button.colab-df-convert');\n",
              "        buttonEl.style.display =\n",
              "          google.colab.kernel.accessAllowed ? 'block' : 'none';\n",
              "\n",
              "        async function convertToInteractive(key) {\n",
              "          const element = document.querySelector('#df-82480988-4489-4a8a-bfc6-a39cf6489ab1');\n",
              "          const dataTable =\n",
              "            await google.colab.kernel.invokeFunction('convertToInteractive',\n",
              "                                                     [key], {});\n",
              "          if (!dataTable) return;\n",
              "\n",
              "          const docLinkHtml = 'Like what you see? Visit the ' +\n",
              "            '<a target=\"_blank\" href=https://colab.research.google.com/notebooks/data_table.ipynb>data table notebook</a>'\n",
              "            + ' to learn more about interactive tables.';\n",
              "          element.innerHTML = '';\n",
              "          dataTable['output_type'] = 'display_data';\n",
              "          await google.colab.output.renderOutput(dataTable, element);\n",
              "          const docLink = document.createElement('div');\n",
              "          docLink.innerHTML = docLinkHtml;\n",
              "          element.appendChild(docLink);\n",
              "        }\n",
              "      </script>\n",
              "    </div>\n",
              "  </div>\n",
              "  "
            ]
          },
          "metadata": {},
          "execution_count": 57
        }
      ],
      "source": [
        "# Добавление столбца c методом завершения уровня\n",
        "users_buildings['pvp_or_pve'] = users_buildings.apply(pvp_or_pve, axis=1)\n",
        "users_buildings.sample(5)"
      ]
    },
    {
      "cell_type": "code",
      "execution_count": 58,
      "metadata": {
        "id": "5EqOYLZmyNc5"
      },
      "outputs": [],
      "source": [
        "# Создадим два датасета с количеством построенных объектов по типу завершения уровня\n",
        "buildings_pve = users_buildings.query('pvp_or_pve ==\"pve\"')['buildings'].tolist()\n",
        "buildings_pvp = users_buildings.query('pvp_or_pve ==\"pvp\"')['buildings'].tolist()"
      ]
    },
    {
      "cell_type": "code",
      "execution_count": 59,
      "metadata": {
        "colab": {
          "base_uri": "https://localhost:8080/"
        },
        "id": "_wm_GRr6yNc5",
        "outputId": "0ed3bf7d-9324-46fc-d598-54fd482651c5"
      },
      "outputs": [
        {
          "output_type": "stream",
          "name": "stdout",
          "text": [
            "Размер датасета buildings_pve: 1866 . Его дисперсия: 4.673996167671275\n",
            "Размер датасета buildings_pvp: 3951 . Его дисперсия: 9.35834819361783\n"
          ]
        }
      ],
      "source": [
        "print('Размер датасета buildings_pve:', len(buildings_pve),\n",
        "      '. Его дисперсия:', np.var(buildings_pve))\n",
        "print('Размер датасета buildings_pvp:', len(buildings_pvp),\n",
        "      '. Его дисперсия:', np.var(buildings_pvp))"
      ]
    },
    {
      "cell_type": "markdown",
      "metadata": {
        "id": "ubUCRNilyNc5"
      },
      "source": [
        "*Размер и дисперсия различаются, в проведении t-теста зададим `equal_var = False`.*<br>\n",
        "*Уровень значимости alpha зададим 5%.*\n"
      ]
    },
    {
      "cell_type": "markdown",
      "metadata": {
        "id": "lge-UtyiyNc5"
      },
      "source": [
        "Различие количества построенных объектов игроком в зависимости от способа прохождения игры.\n",
        "- ***H0: количество построек PVE-игроков = количество построек PVP-игроков;***\n",
        "- ***H1: количество построек PVE-игроков отличается от количества построек PVP-игроков.***"
      ]
    },
    {
      "cell_type": "code",
      "execution_count": 60,
      "metadata": {
        "colab": {
          "base_uri": "https://localhost:8080/"
        },
        "id": "IhUuHGu6yNc5",
        "outputId": "721371ea-2942-4331-9489-381970d99005"
      },
      "outputs": [
        {
          "output_type": "stream",
          "name": "stdout",
          "text": [
            "p-value 0.0\n",
            "Отвергаем нулевую гипотезу\n"
          ]
        }
      ],
      "source": [
        "alpha = 0.05\n",
        "results = st.ttest_ind(buildings_pve, buildings_pvp, equal_var= False)\n",
        "print('p-value', results.pvalue)\n",
        "if results.pvalue < alpha:\n",
        "    print('Отвергаем нулевую гипотезу')\n",
        "else:\n",
        "    print('Не получилось отвергнуть нулевую гипотезу')"
      ]
    },
    {
      "cell_type": "markdown",
      "metadata": {
        "id": "Prh8qWGTyNc5"
      },
      "source": [
        "t-тест подтверждает , что количество построенных игроком объектов **различается** в зависимости от способа завершения уровня:\n",
        "- через реализацию проекта;\n",
        "- через победу над первым врагом."
      ]
    },
    {
      "cell_type": "markdown",
      "metadata": {
        "id": "Z7UK2o_QyNc6"
      },
      "source": [
        "<a id='6_вывод'></a>\n",
        "## 6.3 Вывод\n",
        "\n",
        "*Мы проверяли две гипотезы о различиях между `pvp-` и `pve-игроками` во `времени` прохождения первого уровня и количестве `построек`, которые они завершили за это время.*<br>\n",
        "*Обе гипотезы **подтвердились** - `время прохождения первого уровня и число совершённых построек РАЗЛИЧАЮТСЯ у pvp- и pve-игроков`.*"
      ]
    },
    {
      "cell_type": "markdown",
      "metadata": {
        "id": "n4S4Tt0oyNc6"
      },
      "source": [
        "<a id='ранжирование'></a>\n",
        "# 7. Ранжирование каналов привлечения игроков по эффективности."
      ]
    },
    {
      "cell_type": "markdown",
      "metadata": {
        "id": "6VjrTeT4yNc6"
      },
      "source": [
        "*Нам интереснее те игроки, которые проводят в игре больше времени и совершают больше построек (видят больше рекламы).*<br>\n",
        "*Общие данные по времени и постройкам мы уже исследовали.*<br>\n",
        "*Взглянем на различия игроков в зависимости от **способа завершения уровня** и каналов их привлечения в игру.*"
      ]
    },
    {
      "cell_type": "code",
      "execution_count": 61,
      "metadata": {
        "colab": {
          "base_uri": "https://localhost:8080/"
        },
        "id": "xUETZzICyNc6",
        "outputId": "1521b0e8-6397-4766-c2fd-083989246a12"
      },
      "outputs": [
        {
          "output_type": "stream",
          "name": "stdout",
          "text": [
            "Медианное время прохождения уровня PVP-игроками 12 days 00:00:00\n",
            "Медианное число построек PVP-игроками 10.0\n",
            "----------------------------------------------------------------\n",
            "Медианное время прохождения уровня PVE-игроками 14 days 00:00:00\n",
            "Медианное число построек PVE-игроками 12.0\n"
          ]
        }
      ],
      "source": [
        "print('Медианное время прохождения уровня PVP-игроками',\n",
        "      profiles.query('pvp_or_pve == \"pvp\"')['stage_compl_days'].median())\n",
        "print('Медианное число построек PVP-игроками',\n",
        "      users_buildings.query('pvp_or_pve == \"pvp\"')['buildings'].median())\n",
        "print('----------------------------------------------------------------')\n",
        "print('Медианное время прохождения уровня PVE-игроками',\n",
        "      profiles.query('pvp_or_pve == \"pve\"')['stage_compl_days'].median())\n",
        "print('Медианное число построек PVE-игроками',\n",
        "      users_buildings.query('pvp_or_pve == \"pve\"')['buildings'].median())"
      ]
    },
    {
      "cell_type": "markdown",
      "metadata": {
        "id": "DSHmafN1yNc6"
      },
      "source": [
        "Как мы видим, PVE-игроки в среднем тратят на завершение уровня на 2 дня больше и строят на 2 объекта больше, чем PVP-игроки. <br>\n",
        "Т.е. для монетизации **PVE-игроки** более выгодны.<br>\n",
        "Рассмотрим, сколько PVE-игроков привлёк каждый канал, сколько в сумме построек они совершили и какова была стоимость привлечения одного пользователя с этого канала."
      ]
    },
    {
      "cell_type": "code",
      "execution_count": 62,
      "metadata": {
        "colab": {
          "base_uri": "https://localhost:8080/",
          "height": 173
        },
        "id": "MyQ177FUyNc6",
        "outputId": "8ac4e75a-a7cc-4d2f-a2e5-98790f704f0d"
      },
      "outputs": [
        {
          "output_type": "execute_result",
          "data": {
            "text/plain": [
              "                    source  pve_users_count  pve_users_buildings   CAC\n",
              "0            yandex_direct              620                 7809  0.46\n",
              "1    instagram_new_adverts              476                 6072  0.65\n",
              "2             facebook_ads              391                 4946  0.79\n",
              "3  youtube_channel_reklama              379                 4774  0.40"
            ],
            "text/html": [
              "\n",
              "  <div id=\"df-34b9d0d7-8e90-428e-b16b-b5f042e890a3\">\n",
              "    <div class=\"colab-df-container\">\n",
              "      <div>\n",
              "<style scoped>\n",
              "    .dataframe tbody tr th:only-of-type {\n",
              "        vertical-align: middle;\n",
              "    }\n",
              "\n",
              "    .dataframe tbody tr th {\n",
              "        vertical-align: top;\n",
              "    }\n",
              "\n",
              "    .dataframe thead th {\n",
              "        text-align: right;\n",
              "    }\n",
              "</style>\n",
              "<table border=\"1\" class=\"dataframe\">\n",
              "  <thead>\n",
              "    <tr style=\"text-align: right;\">\n",
              "      <th></th>\n",
              "      <th>source</th>\n",
              "      <th>pve_users_count</th>\n",
              "      <th>pve_users_buildings</th>\n",
              "      <th>CAC</th>\n",
              "    </tr>\n",
              "  </thead>\n",
              "  <tbody>\n",
              "    <tr>\n",
              "      <th>0</th>\n",
              "      <td>yandex_direct</td>\n",
              "      <td>620</td>\n",
              "      <td>7809</td>\n",
              "      <td>0.46</td>\n",
              "    </tr>\n",
              "    <tr>\n",
              "      <th>1</th>\n",
              "      <td>instagram_new_adverts</td>\n",
              "      <td>476</td>\n",
              "      <td>6072</td>\n",
              "      <td>0.65</td>\n",
              "    </tr>\n",
              "    <tr>\n",
              "      <th>2</th>\n",
              "      <td>facebook_ads</td>\n",
              "      <td>391</td>\n",
              "      <td>4946</td>\n",
              "      <td>0.79</td>\n",
              "    </tr>\n",
              "    <tr>\n",
              "      <th>3</th>\n",
              "      <td>youtube_channel_reklama</td>\n",
              "      <td>379</td>\n",
              "      <td>4774</td>\n",
              "      <td>0.40</td>\n",
              "    </tr>\n",
              "  </tbody>\n",
              "</table>\n",
              "</div>\n",
              "      <button class=\"colab-df-convert\" onclick=\"convertToInteractive('df-34b9d0d7-8e90-428e-b16b-b5f042e890a3')\"\n",
              "              title=\"Convert this dataframe to an interactive table.\"\n",
              "              style=\"display:none;\">\n",
              "        \n",
              "  <svg xmlns=\"http://www.w3.org/2000/svg\" height=\"24px\"viewBox=\"0 0 24 24\"\n",
              "       width=\"24px\">\n",
              "    <path d=\"M0 0h24v24H0V0z\" fill=\"none\"/>\n",
              "    <path d=\"M18.56 5.44l.94 2.06.94-2.06 2.06-.94-2.06-.94-.94-2.06-.94 2.06-2.06.94zm-11 1L8.5 8.5l.94-2.06 2.06-.94-2.06-.94L8.5 2.5l-.94 2.06-2.06.94zm10 10l.94 2.06.94-2.06 2.06-.94-2.06-.94-.94-2.06-.94 2.06-2.06.94z\"/><path d=\"M17.41 7.96l-1.37-1.37c-.4-.4-.92-.59-1.43-.59-.52 0-1.04.2-1.43.59L10.3 9.45l-7.72 7.72c-.78.78-.78 2.05 0 2.83L4 21.41c.39.39.9.59 1.41.59.51 0 1.02-.2 1.41-.59l7.78-7.78 2.81-2.81c.8-.78.8-2.07 0-2.86zM5.41 20L4 18.59l7.72-7.72 1.47 1.35L5.41 20z\"/>\n",
              "  </svg>\n",
              "      </button>\n",
              "      \n",
              "  <style>\n",
              "    .colab-df-container {\n",
              "      display:flex;\n",
              "      flex-wrap:wrap;\n",
              "      gap: 12px;\n",
              "    }\n",
              "\n",
              "    .colab-df-convert {\n",
              "      background-color: #E8F0FE;\n",
              "      border: none;\n",
              "      border-radius: 50%;\n",
              "      cursor: pointer;\n",
              "      display: none;\n",
              "      fill: #1967D2;\n",
              "      height: 32px;\n",
              "      padding: 0 0 0 0;\n",
              "      width: 32px;\n",
              "    }\n",
              "\n",
              "    .colab-df-convert:hover {\n",
              "      background-color: #E2EBFA;\n",
              "      box-shadow: 0px 1px 2px rgba(60, 64, 67, 0.3), 0px 1px 3px 1px rgba(60, 64, 67, 0.15);\n",
              "      fill: #174EA6;\n",
              "    }\n",
              "\n",
              "    [theme=dark] .colab-df-convert {\n",
              "      background-color: #3B4455;\n",
              "      fill: #D2E3FC;\n",
              "    }\n",
              "\n",
              "    [theme=dark] .colab-df-convert:hover {\n",
              "      background-color: #434B5C;\n",
              "      box-shadow: 0px 1px 3px 1px rgba(0, 0, 0, 0.15);\n",
              "      filter: drop-shadow(0px 1px 2px rgba(0, 0, 0, 0.3));\n",
              "      fill: #FFFFFF;\n",
              "    }\n",
              "  </style>\n",
              "\n",
              "      <script>\n",
              "        const buttonEl =\n",
              "          document.querySelector('#df-34b9d0d7-8e90-428e-b16b-b5f042e890a3 button.colab-df-convert');\n",
              "        buttonEl.style.display =\n",
              "          google.colab.kernel.accessAllowed ? 'block' : 'none';\n",
              "\n",
              "        async function convertToInteractive(key) {\n",
              "          const element = document.querySelector('#df-34b9d0d7-8e90-428e-b16b-b5f042e890a3');\n",
              "          const dataTable =\n",
              "            await google.colab.kernel.invokeFunction('convertToInteractive',\n",
              "                                                     [key], {});\n",
              "          if (!dataTable) return;\n",
              "\n",
              "          const docLinkHtml = 'Like what you see? Visit the ' +\n",
              "            '<a target=\"_blank\" href=https://colab.research.google.com/notebooks/data_table.ipynb>data table notebook</a>'\n",
              "            + ' to learn more about interactive tables.';\n",
              "          element.innerHTML = '';\n",
              "          dataTable['output_type'] = 'display_data';\n",
              "          await google.colab.output.renderOutput(dataTable, element);\n",
              "          const docLink = document.createElement('div');\n",
              "          docLink.innerHTML = docLinkHtml;\n",
              "          element.appendChild(docLink);\n",
              "        }\n",
              "      </script>\n",
              "    </div>\n",
              "  </div>\n",
              "  "
            ]
          },
          "metadata": {},
          "execution_count": 62
        }
      ],
      "source": [
        "# Ранжирование каналов привлечения pve-игроков\n",
        "source_pve = (\n",
        "    source_pvp_or_pve.query('pvp_or_pve == \"pve\"')[['source', 'usr_cnt']]\n",
        "    .merge(users_buildings.query('pvp_or_pve == \"pve\"')\n",
        "           .groupby('source', as_index=False).agg({'buildings':'sum'}), on='source')\n",
        "    .merge(source_cost_user[['source', 'CAC']], on='source')\n",
        "    .rename(columns={'usr_cnt':'pve_users_count', 'buildings':'pve_users_buildings'})\n",
        "    .sort_values(['pve_users_count', 'pve_users_buildings'], ascending=False)\n",
        ")\n",
        "\n",
        "source_pve.reset_index(drop=True)"
      ]
    },
    {
      "cell_type": "markdown",
      "metadata": {
        "id": "gKUhzUGVyNc6"
      },
      "source": [
        "C первым и вторым местом (`yandex`, `instagram`) - всё понятно. Рассмотрим каналы `facebook` и `youtube`:\n",
        "- При небольшой разнице в количестве привлечённых пользователей и числе построек, разница в `САС` почти в `два раза`!\n",
        "<br>\n",
        "\n",
        "Напомню, вложения в канал привлечения `youtube_channel_reklama` на протяжении всего периода были **меньше**, чем в остальные каналы.<br>\n",
        "Я бы в данном случае рекомендовал отдать предпочтение каналу `youtube`, и уверен, что если бы средства в этот канал вкладывались наравне с остальными - он показал бы очень хорошие результаты.<br><br>\n",
        "\n",
        "Рассмотрим, сколько PVP-игроков привлёк каждый канал, сколько в сумме построек они совершили и какова была стоимость привлечения одного пользователя с этого канала."
      ]
    },
    {
      "cell_type": "code",
      "execution_count": 63,
      "metadata": {
        "colab": {
          "base_uri": "https://localhost:8080/",
          "height": 173
        },
        "id": "zXy_3VIPyNc6",
        "outputId": "95ba2e36-e5c5-4580-f128-7577735a3605"
      },
      "outputs": [
        {
          "output_type": "execute_result",
          "data": {
            "text/plain": [
              "                    source  pvp_users_count  pvp_users_buildings   CAC\n",
              "0            yandex_direct             1422                13332  0.46\n",
              "1    instagram_new_adverts              990                 9306  0.65\n",
              "2  youtube_channel_reklama              780                 7390  0.40\n",
              "3             facebook_ads              759                 7157  0.79"
            ],
            "text/html": [
              "\n",
              "  <div id=\"df-de3b91b9-1391-4ede-9010-aa59047b38ce\">\n",
              "    <div class=\"colab-df-container\">\n",
              "      <div>\n",
              "<style scoped>\n",
              "    .dataframe tbody tr th:only-of-type {\n",
              "        vertical-align: middle;\n",
              "    }\n",
              "\n",
              "    .dataframe tbody tr th {\n",
              "        vertical-align: top;\n",
              "    }\n",
              "\n",
              "    .dataframe thead th {\n",
              "        text-align: right;\n",
              "    }\n",
              "</style>\n",
              "<table border=\"1\" class=\"dataframe\">\n",
              "  <thead>\n",
              "    <tr style=\"text-align: right;\">\n",
              "      <th></th>\n",
              "      <th>source</th>\n",
              "      <th>pvp_users_count</th>\n",
              "      <th>pvp_users_buildings</th>\n",
              "      <th>CAC</th>\n",
              "    </tr>\n",
              "  </thead>\n",
              "  <tbody>\n",
              "    <tr>\n",
              "      <th>0</th>\n",
              "      <td>yandex_direct</td>\n",
              "      <td>1422</td>\n",
              "      <td>13332</td>\n",
              "      <td>0.46</td>\n",
              "    </tr>\n",
              "    <tr>\n",
              "      <th>1</th>\n",
              "      <td>instagram_new_adverts</td>\n",
              "      <td>990</td>\n",
              "      <td>9306</td>\n",
              "      <td>0.65</td>\n",
              "    </tr>\n",
              "    <tr>\n",
              "      <th>2</th>\n",
              "      <td>youtube_channel_reklama</td>\n",
              "      <td>780</td>\n",
              "      <td>7390</td>\n",
              "      <td>0.40</td>\n",
              "    </tr>\n",
              "    <tr>\n",
              "      <th>3</th>\n",
              "      <td>facebook_ads</td>\n",
              "      <td>759</td>\n",
              "      <td>7157</td>\n",
              "      <td>0.79</td>\n",
              "    </tr>\n",
              "  </tbody>\n",
              "</table>\n",
              "</div>\n",
              "      <button class=\"colab-df-convert\" onclick=\"convertToInteractive('df-de3b91b9-1391-4ede-9010-aa59047b38ce')\"\n",
              "              title=\"Convert this dataframe to an interactive table.\"\n",
              "              style=\"display:none;\">\n",
              "        \n",
              "  <svg xmlns=\"http://www.w3.org/2000/svg\" height=\"24px\"viewBox=\"0 0 24 24\"\n",
              "       width=\"24px\">\n",
              "    <path d=\"M0 0h24v24H0V0z\" fill=\"none\"/>\n",
              "    <path d=\"M18.56 5.44l.94 2.06.94-2.06 2.06-.94-2.06-.94-.94-2.06-.94 2.06-2.06.94zm-11 1L8.5 8.5l.94-2.06 2.06-.94-2.06-.94L8.5 2.5l-.94 2.06-2.06.94zm10 10l.94 2.06.94-2.06 2.06-.94-2.06-.94-.94-2.06-.94 2.06-2.06.94z\"/><path d=\"M17.41 7.96l-1.37-1.37c-.4-.4-.92-.59-1.43-.59-.52 0-1.04.2-1.43.59L10.3 9.45l-7.72 7.72c-.78.78-.78 2.05 0 2.83L4 21.41c.39.39.9.59 1.41.59.51 0 1.02-.2 1.41-.59l7.78-7.78 2.81-2.81c.8-.78.8-2.07 0-2.86zM5.41 20L4 18.59l7.72-7.72 1.47 1.35L5.41 20z\"/>\n",
              "  </svg>\n",
              "      </button>\n",
              "      \n",
              "  <style>\n",
              "    .colab-df-container {\n",
              "      display:flex;\n",
              "      flex-wrap:wrap;\n",
              "      gap: 12px;\n",
              "    }\n",
              "\n",
              "    .colab-df-convert {\n",
              "      background-color: #E8F0FE;\n",
              "      border: none;\n",
              "      border-radius: 50%;\n",
              "      cursor: pointer;\n",
              "      display: none;\n",
              "      fill: #1967D2;\n",
              "      height: 32px;\n",
              "      padding: 0 0 0 0;\n",
              "      width: 32px;\n",
              "    }\n",
              "\n",
              "    .colab-df-convert:hover {\n",
              "      background-color: #E2EBFA;\n",
              "      box-shadow: 0px 1px 2px rgba(60, 64, 67, 0.3), 0px 1px 3px 1px rgba(60, 64, 67, 0.15);\n",
              "      fill: #174EA6;\n",
              "    }\n",
              "\n",
              "    [theme=dark] .colab-df-convert {\n",
              "      background-color: #3B4455;\n",
              "      fill: #D2E3FC;\n",
              "    }\n",
              "\n",
              "    [theme=dark] .colab-df-convert:hover {\n",
              "      background-color: #434B5C;\n",
              "      box-shadow: 0px 1px 3px 1px rgba(0, 0, 0, 0.15);\n",
              "      filter: drop-shadow(0px 1px 2px rgba(0, 0, 0, 0.3));\n",
              "      fill: #FFFFFF;\n",
              "    }\n",
              "  </style>\n",
              "\n",
              "      <script>\n",
              "        const buttonEl =\n",
              "          document.querySelector('#df-de3b91b9-1391-4ede-9010-aa59047b38ce button.colab-df-convert');\n",
              "        buttonEl.style.display =\n",
              "          google.colab.kernel.accessAllowed ? 'block' : 'none';\n",
              "\n",
              "        async function convertToInteractive(key) {\n",
              "          const element = document.querySelector('#df-de3b91b9-1391-4ede-9010-aa59047b38ce');\n",
              "          const dataTable =\n",
              "            await google.colab.kernel.invokeFunction('convertToInteractive',\n",
              "                                                     [key], {});\n",
              "          if (!dataTable) return;\n",
              "\n",
              "          const docLinkHtml = 'Like what you see? Visit the ' +\n",
              "            '<a target=\"_blank\" href=https://colab.research.google.com/notebooks/data_table.ipynb>data table notebook</a>'\n",
              "            + ' to learn more about interactive tables.';\n",
              "          element.innerHTML = '';\n",
              "          dataTable['output_type'] = 'display_data';\n",
              "          await google.colab.output.renderOutput(dataTable, element);\n",
              "          const docLink = document.createElement('div');\n",
              "          docLink.innerHTML = docLinkHtml;\n",
              "          element.appendChild(docLink);\n",
              "        }\n",
              "      </script>\n",
              "    </div>\n",
              "  </div>\n",
              "  "
            ]
          },
          "metadata": {},
          "execution_count": 63
        }
      ],
      "source": [
        "# Ранжирование каналов привлечения pvp-игроков\n",
        "source_pvp = (\n",
        "    source_pvp_or_pve.query('pvp_or_pve == \"pvp\"')[['source', 'usr_cnt']]\n",
        "    .merge(users_buildings.query('pvp_or_pve == \"pvp\"')\n",
        "           .groupby('source', as_index=False).agg({'buildings':'sum'}), on='source')\n",
        "    .merge(source_cost_user[['source', 'CAC']], on='source')\n",
        "    .rename(columns={'usr_cnt':'pvp_users_count', 'buildings':'pvp_users_buildings'})\n",
        "    .sort_values(['pvp_users_count', 'pvp_users_buildings'], ascending=False)\n",
        ")\n",
        "\n",
        "source_pvp.reset_index(drop=True)"
      ]
    },
    {
      "cell_type": "markdown",
      "metadata": {
        "id": "7DOZi3S-yNc6"
      },
      "source": [
        "**Итак, на основании исследовательского анализа данных и ранжирования источников в зависимости от способа завершения уровня, ранжирование каналов привлечения игроков по эффективности на мой взгляд выглядит сл. образом:**\n",
        "- **1 место `yandex`;**\n",
        "- **2 место `instagram`;**\n",
        "- **3 место `youtube`;**\n",
        "- **4 место `facebook`.**\n",
        "\n",
        "- ***Канал привлечения `youtube` заслуживает отдельного внимания. У этого канала самая `низкая стоимость` привлечения игрока, и у меня есть предположение, что при одинаковом с остальными каналами вложении в него средств, он может \"сместить\" `instagram` на третье место.***\n",
        "- ***Канал `facebook` на мой взгляд не стоит того, чтобы через него привлекать в игру пользователей, т.к у него самая `высокая стоимость` привлечения пользователя, при этом данный канал ни по каким метрикам не показал выдающихся результатов. Более того, в сравнении с другими процент не прошедших уровень игроков у данного канала - максимальный (`57.8%`)***\n",
        "\n",
        "Рекомендации:\n",
        "- Перераспределить средства, вкладываемые на привлечение пользователей согласно предлагаемому ранжированию;\n",
        "- Изучить аудиторию каналов, из которых привлекаются игроки;\n",
        "- Рассмотреть возможность разработки и внедрения в игру стимуляции игроков на прохождение уровня путём выполнения проекта, увеличив таким образом время, проводимое в игре, и число построек, что в совокупности положительно скажется на гипотетической монетизации;"
      ]
    },
    {
      "cell_type": "markdown",
      "metadata": {
        "id": "bbyvabCjyNc6"
      },
      "source": [
        "Ссылка на презентацию: <https://disk.yandex.ru/i/rX-L5dIQfFe0FA>"
      ]
    }
  ],
  "metadata": {
    "ExecuteTimeLog": [
      {
        "duration": 448,
        "start_time": "2023-05-30T02:50:48.916Z"
      },
      {
        "duration": 730,
        "start_time": "2023-05-30T02:52:46.355Z"
      },
      {
        "duration": 98,
        "start_time": "2023-05-30T02:58:03.560Z"
      },
      {
        "duration": 5,
        "start_time": "2023-05-30T02:58:12.293Z"
      },
      {
        "duration": 19,
        "start_time": "2023-05-30T02:59:07.072Z"
      },
      {
        "duration": 178,
        "start_time": "2023-05-30T02:59:33.121Z"
      },
      {
        "duration": 278,
        "start_time": "2023-05-30T03:00:51.549Z"
      },
      {
        "duration": 15,
        "start_time": "2023-05-30T03:00:57.857Z"
      },
      {
        "duration": 167,
        "start_time": "2023-05-30T03:01:03.886Z"
      },
      {
        "duration": 68,
        "start_time": "2023-05-30T03:03:25.773Z"
      },
      {
        "duration": 23,
        "start_time": "2023-05-30T03:04:40.826Z"
      },
      {
        "duration": 109,
        "start_time": "2023-05-30T03:07:00.340Z"
      },
      {
        "duration": 42,
        "start_time": "2023-05-30T03:12:30.931Z"
      },
      {
        "duration": 95,
        "start_time": "2023-05-30T03:50:41.839Z"
      },
      {
        "duration": 18,
        "start_time": "2023-05-30T03:51:01.370Z"
      },
      {
        "duration": 24,
        "start_time": "2023-05-30T03:54:25.965Z"
      },
      {
        "duration": 20,
        "start_time": "2023-05-30T03:54:38.789Z"
      },
      {
        "duration": 18,
        "start_time": "2023-05-30T03:57:15.774Z"
      },
      {
        "duration": 20,
        "start_time": "2023-05-30T03:58:05.725Z"
      },
      {
        "duration": 28,
        "start_time": "2023-05-30T03:58:44.650Z"
      },
      {
        "duration": 19,
        "start_time": "2023-05-30T03:59:18.858Z"
      },
      {
        "duration": 20,
        "start_time": "2023-05-30T03:59:30.681Z"
      },
      {
        "duration": 14,
        "start_time": "2023-05-30T04:00:50.560Z"
      },
      {
        "duration": 33,
        "start_time": "2023-05-30T04:01:08.733Z"
      },
      {
        "duration": 18,
        "start_time": "2023-05-30T04:01:32.504Z"
      },
      {
        "duration": 15,
        "start_time": "2023-05-30T04:01:47.924Z"
      },
      {
        "duration": 13,
        "start_time": "2023-05-30T04:02:35.801Z"
      },
      {
        "duration": 13,
        "start_time": "2023-05-30T04:02:39.175Z"
      },
      {
        "duration": 15,
        "start_time": "2023-05-30T04:03:05.761Z"
      },
      {
        "duration": 18,
        "start_time": "2023-05-30T04:06:28.462Z"
      },
      {
        "duration": 25,
        "start_time": "2023-05-30T04:06:44.650Z"
      },
      {
        "duration": 21,
        "start_time": "2023-05-30T04:08:13.103Z"
      },
      {
        "duration": 17,
        "start_time": "2023-05-30T04:09:02.858Z"
      },
      {
        "duration": 34,
        "start_time": "2023-05-30T04:10:13.021Z"
      },
      {
        "duration": 22,
        "start_time": "2023-05-30T04:17:54.757Z"
      },
      {
        "duration": 11,
        "start_time": "2023-05-30T04:18:36.819Z"
      },
      {
        "duration": 27,
        "start_time": "2023-05-30T04:19:29.300Z"
      },
      {
        "duration": 24,
        "start_time": "2023-05-30T04:19:51.612Z"
      },
      {
        "duration": 11,
        "start_time": "2023-05-30T04:20:20.409Z"
      },
      {
        "duration": 13,
        "start_time": "2023-05-30T04:20:29.757Z"
      },
      {
        "duration": 12,
        "start_time": "2023-05-30T04:23:36.467Z"
      },
      {
        "duration": 10,
        "start_time": "2023-05-30T04:23:44.803Z"
      },
      {
        "duration": 10,
        "start_time": "2023-05-30T04:24:08.063Z"
      },
      {
        "duration": 13,
        "start_time": "2023-05-30T04:26:29.369Z"
      },
      {
        "duration": 11,
        "start_time": "2023-05-30T04:26:49.417Z"
      },
      {
        "duration": 11,
        "start_time": "2023-05-30T04:27:10.626Z"
      },
      {
        "duration": 24,
        "start_time": "2023-05-30T04:33:55.006Z"
      },
      {
        "duration": 37,
        "start_time": "2023-05-30T04:38:44.558Z"
      },
      {
        "duration": 39,
        "start_time": "2023-05-30T04:39:08.902Z"
      },
      {
        "duration": 63,
        "start_time": "2023-05-30T04:39:23.229Z"
      },
      {
        "duration": 23,
        "start_time": "2023-05-30T04:40:04.457Z"
      },
      {
        "duration": 9,
        "start_time": "2023-05-30T04:41:03.219Z"
      },
      {
        "duration": 16,
        "start_time": "2023-05-30T04:41:42.943Z"
      },
      {
        "duration": 386,
        "start_time": "2023-05-30T05:06:59.492Z"
      },
      {
        "duration": 300,
        "start_time": "2023-05-30T05:06:59.880Z"
      },
      {
        "duration": 4,
        "start_time": "2023-05-30T05:07:00.182Z"
      },
      {
        "duration": 38,
        "start_time": "2023-05-30T05:07:00.188Z"
      },
      {
        "duration": 165,
        "start_time": "2023-05-30T05:07:00.229Z"
      },
      {
        "duration": 54,
        "start_time": "2023-05-30T05:07:00.395Z"
      },
      {
        "duration": 65,
        "start_time": "2023-05-30T05:07:00.456Z"
      },
      {
        "duration": 25,
        "start_time": "2023-05-30T05:07:00.523Z"
      },
      {
        "duration": 79,
        "start_time": "2023-05-30T05:07:00.551Z"
      },
      {
        "duration": 14,
        "start_time": "2023-05-30T05:07:00.632Z"
      },
      {
        "duration": 57,
        "start_time": "2023-05-30T05:07:00.653Z"
      },
      {
        "duration": 50,
        "start_time": "2023-05-30T05:07:00.711Z"
      },
      {
        "duration": 38,
        "start_time": "2023-05-30T05:07:00.763Z"
      },
      {
        "duration": 19,
        "start_time": "2023-05-30T05:07:00.803Z"
      },
      {
        "duration": 39,
        "start_time": "2023-05-30T05:07:00.823Z"
      },
      {
        "duration": 50,
        "start_time": "2023-05-30T05:07:00.863Z"
      },
      {
        "duration": 65,
        "start_time": "2023-05-30T05:08:35.076Z"
      },
      {
        "duration": 11,
        "start_time": "2023-05-30T05:08:52.417Z"
      },
      {
        "duration": 32,
        "start_time": "2023-05-30T05:09:14.658Z"
      },
      {
        "duration": 19,
        "start_time": "2023-05-30T05:09:40.747Z"
      },
      {
        "duration": 25,
        "start_time": "2023-05-30T05:17:54.385Z"
      },
      {
        "duration": 9,
        "start_time": "2023-05-30T05:27:55.112Z"
      },
      {
        "duration": 11,
        "start_time": "2023-05-30T05:28:07.901Z"
      },
      {
        "duration": 12,
        "start_time": "2023-05-30T05:29:08.656Z"
      },
      {
        "duration": 7,
        "start_time": "2023-05-30T05:29:15.810Z"
      },
      {
        "duration": 21,
        "start_time": "2023-05-30T05:30:24.173Z"
      },
      {
        "duration": 33,
        "start_time": "2023-05-30T05:30:26.822Z"
      },
      {
        "duration": 63,
        "start_time": "2023-05-30T05:34:53.669Z"
      },
      {
        "duration": 10,
        "start_time": "2023-05-30T05:47:32.283Z"
      },
      {
        "duration": 11,
        "start_time": "2023-05-30T05:47:57.162Z"
      },
      {
        "duration": 9,
        "start_time": "2023-05-30T05:48:26.301Z"
      },
      {
        "duration": 7,
        "start_time": "2023-05-30T05:49:57.190Z"
      },
      {
        "duration": 26,
        "start_time": "2023-05-30T05:50:56.035Z"
      },
      {
        "duration": 21,
        "start_time": "2023-05-30T05:52:16.309Z"
      },
      {
        "duration": 17,
        "start_time": "2023-05-30T05:52:43.184Z"
      },
      {
        "duration": 25,
        "start_time": "2023-05-30T05:54:42.037Z"
      },
      {
        "duration": 26,
        "start_time": "2023-05-30T05:54:48.184Z"
      },
      {
        "duration": 17,
        "start_time": "2023-05-30T05:55:05.261Z"
      },
      {
        "duration": 16,
        "start_time": "2023-05-30T05:56:59.656Z"
      },
      {
        "duration": 9,
        "start_time": "2023-05-30T05:58:15.266Z"
      },
      {
        "duration": 11,
        "start_time": "2023-05-30T05:58:55.820Z"
      },
      {
        "duration": 12,
        "start_time": "2023-05-30T05:59:04.172Z"
      },
      {
        "duration": 11,
        "start_time": "2023-05-30T05:59:53.226Z"
      },
      {
        "duration": 12,
        "start_time": "2023-05-30T06:00:44.320Z"
      },
      {
        "duration": 12,
        "start_time": "2023-05-30T06:01:46.691Z"
      },
      {
        "duration": 11,
        "start_time": "2023-05-30T06:06:15.416Z"
      },
      {
        "duration": 13,
        "start_time": "2023-05-30T06:08:52.486Z"
      },
      {
        "duration": 22,
        "start_time": "2023-05-30T06:11:01.637Z"
      },
      {
        "duration": 14,
        "start_time": "2023-05-30T06:12:11.719Z"
      },
      {
        "duration": 19,
        "start_time": "2023-05-30T06:12:38.599Z"
      },
      {
        "duration": 20,
        "start_time": "2023-05-30T06:12:53.940Z"
      },
      {
        "duration": 13,
        "start_time": "2023-05-30T06:13:10.885Z"
      },
      {
        "duration": 5,
        "start_time": "2023-05-30T06:22:40.955Z"
      },
      {
        "duration": 4,
        "start_time": "2023-05-30T06:22:56.758Z"
      },
      {
        "duration": 10,
        "start_time": "2023-05-30T06:38:56.656Z"
      },
      {
        "duration": 7,
        "start_time": "2023-05-30T06:42:29.711Z"
      },
      {
        "duration": 46,
        "start_time": "2023-05-30T06:44:09.713Z"
      },
      {
        "duration": 17,
        "start_time": "2023-05-30T06:44:43.815Z"
      },
      {
        "duration": 960,
        "start_time": "2023-05-30T06:44:50.076Z"
      },
      {
        "duration": 2149,
        "start_time": "2023-05-30T06:45:27.703Z"
      },
      {
        "duration": 12,
        "start_time": "2023-05-30T06:45:37.161Z"
      },
      {
        "duration": 1010,
        "start_time": "2023-05-30T06:45:54.774Z"
      },
      {
        "duration": 869,
        "start_time": "2023-05-30T06:46:22.777Z"
      },
      {
        "duration": 13,
        "start_time": "2023-05-30T06:46:33.064Z"
      },
      {
        "duration": 12,
        "start_time": "2023-05-30T06:46:59.220Z"
      },
      {
        "duration": 46,
        "start_time": "2023-05-30T06:47:15.337Z"
      },
      {
        "duration": 4,
        "start_time": "2023-05-30T06:49:13.400Z"
      },
      {
        "duration": 164,
        "start_time": "2023-05-30T06:49:40.227Z"
      },
      {
        "duration": 185,
        "start_time": "2023-05-30T06:49:48.370Z"
      },
      {
        "duration": 4,
        "start_time": "2023-05-30T06:50:39.397Z"
      },
      {
        "duration": 122,
        "start_time": "2023-05-30T06:50:41.995Z"
      },
      {
        "duration": 4,
        "start_time": "2023-05-30T06:52:19.077Z"
      },
      {
        "duration": 133,
        "start_time": "2023-05-30T06:52:21.775Z"
      },
      {
        "duration": 29,
        "start_time": "2023-05-30T06:53:54.146Z"
      },
      {
        "duration": 17,
        "start_time": "2023-05-30T06:54:31.215Z"
      },
      {
        "duration": 16,
        "start_time": "2023-05-30T06:57:05.304Z"
      },
      {
        "duration": 365,
        "start_time": "2023-05-30T06:58:18.571Z"
      },
      {
        "duration": 155,
        "start_time": "2023-05-30T06:59:14.511Z"
      },
      {
        "duration": 4,
        "start_time": "2023-05-30T07:01:06.649Z"
      },
      {
        "duration": 182,
        "start_time": "2023-05-30T07:01:09.545Z"
      },
      {
        "duration": 131,
        "start_time": "2023-05-30T07:05:35.391Z"
      },
      {
        "duration": 141,
        "start_time": "2023-05-30T07:05:46.261Z"
      },
      {
        "duration": 146,
        "start_time": "2023-05-30T07:05:50.618Z"
      },
      {
        "duration": 330,
        "start_time": "2023-05-30T07:07:47.027Z"
      },
      {
        "duration": 66,
        "start_time": "2023-05-30T07:08:26.509Z"
      },
      {
        "duration": 307,
        "start_time": "2023-05-30T07:08:40.002Z"
      },
      {
        "duration": 71,
        "start_time": "2023-05-30T07:12:18.292Z"
      },
      {
        "duration": 46,
        "start_time": "2023-05-30T07:12:26.429Z"
      },
      {
        "duration": 64,
        "start_time": "2023-05-30T07:13:21.396Z"
      },
      {
        "duration": 30,
        "start_time": "2023-05-30T07:14:10.287Z"
      },
      {
        "duration": 28,
        "start_time": "2023-05-30T07:14:20.092Z"
      },
      {
        "duration": 346,
        "start_time": "2023-05-30T07:14:30.762Z"
      },
      {
        "duration": 72,
        "start_time": "2023-05-30T07:14:36.217Z"
      },
      {
        "duration": 249,
        "start_time": "2023-05-30T07:14:43.526Z"
      },
      {
        "duration": 22,
        "start_time": "2023-05-30T07:14:56.064Z"
      },
      {
        "duration": 38,
        "start_time": "2023-05-30T07:15:05.054Z"
      },
      {
        "duration": 286,
        "start_time": "2023-05-30T07:15:31.036Z"
      },
      {
        "duration": 257,
        "start_time": "2023-05-30T07:15:57.878Z"
      },
      {
        "duration": 227,
        "start_time": "2023-05-30T07:16:10.332Z"
      },
      {
        "duration": 265,
        "start_time": "2023-05-30T07:16:16.609Z"
      },
      {
        "duration": 264,
        "start_time": "2023-05-30T07:16:28.996Z"
      },
      {
        "duration": 279,
        "start_time": "2023-05-30T07:16:38.888Z"
      },
      {
        "duration": 263,
        "start_time": "2023-05-30T07:16:46.262Z"
      },
      {
        "duration": 271,
        "start_time": "2023-05-30T07:16:55.333Z"
      },
      {
        "duration": 266,
        "start_time": "2023-05-30T07:16:59.094Z"
      },
      {
        "duration": 365,
        "start_time": "2023-05-30T07:17:23.427Z"
      },
      {
        "duration": 284,
        "start_time": "2023-05-30T07:18:20.917Z"
      },
      {
        "duration": 10,
        "start_time": "2023-05-30T07:30:48.585Z"
      },
      {
        "duration": 10,
        "start_time": "2023-05-30T07:30:52.429Z"
      },
      {
        "duration": 161,
        "start_time": "2023-05-30T07:31:04.964Z"
      },
      {
        "duration": 14,
        "start_time": "2023-05-30T07:31:29.161Z"
      },
      {
        "duration": 171,
        "start_time": "2023-05-30T07:31:55.827Z"
      },
      {
        "duration": 117,
        "start_time": "2023-05-30T07:32:14.698Z"
      },
      {
        "duration": 10,
        "start_time": "2023-05-30T07:33:25.551Z"
      },
      {
        "duration": 15,
        "start_time": "2023-05-30T07:33:32.955Z"
      },
      {
        "duration": 21,
        "start_time": "2023-05-30T07:34:04.284Z"
      },
      {
        "duration": 248,
        "start_time": "2023-05-30T07:34:18.389Z"
      },
      {
        "duration": 247,
        "start_time": "2023-05-30T07:34:59.858Z"
      },
      {
        "duration": 279,
        "start_time": "2023-05-30T07:35:08.535Z"
      },
      {
        "duration": 543,
        "start_time": "2023-05-30T08:17:58.473Z"
      },
      {
        "duration": 20,
        "start_time": "2023-05-30T08:19:34.592Z"
      },
      {
        "duration": 78,
        "start_time": "2023-05-30T08:20:37.590Z"
      },
      {
        "duration": 253,
        "start_time": "2023-05-30T08:21:45.879Z"
      },
      {
        "duration": 358,
        "start_time": "2023-05-30T08:22:18.325Z"
      },
      {
        "duration": 276,
        "start_time": "2023-05-30T08:22:37.291Z"
      },
      {
        "duration": 304,
        "start_time": "2023-05-30T08:25:33.385Z"
      },
      {
        "duration": 324,
        "start_time": "2023-05-30T08:25:44.116Z"
      },
      {
        "duration": 300,
        "start_time": "2023-05-30T08:25:56.287Z"
      },
      {
        "duration": 5,
        "start_time": "2023-05-30T08:31:32.418Z"
      },
      {
        "duration": 56,
        "start_time": "2023-05-30T08:46:54.544Z"
      },
      {
        "duration": 4,
        "start_time": "2023-05-30T08:47:05.060Z"
      },
      {
        "duration": 167,
        "start_time": "2023-05-30T08:47:07.158Z"
      },
      {
        "duration": 30,
        "start_time": "2023-05-30T08:47:12.409Z"
      },
      {
        "duration": 300,
        "start_time": "2023-05-30T08:47:14.602Z"
      },
      {
        "duration": 381,
        "start_time": "2023-05-30T08:47:17.222Z"
      },
      {
        "duration": 13,
        "start_time": "2023-05-30T08:47:19.472Z"
      },
      {
        "duration": 4994,
        "start_time": "2023-05-30T08:47:21.182Z"
      },
      {
        "duration": 5767,
        "start_time": "2023-05-30T08:47:29.777Z"
      },
      {
        "duration": 14,
        "start_time": "2023-05-30T08:48:44.666Z"
      },
      {
        "duration": 18,
        "start_time": "2023-05-30T08:49:25.525Z"
      },
      {
        "duration": 14,
        "start_time": "2023-05-30T08:50:37.235Z"
      },
      {
        "duration": 20,
        "start_time": "2023-05-30T08:51:44.568Z"
      },
      {
        "duration": 18,
        "start_time": "2023-05-30T08:52:33.766Z"
      },
      {
        "duration": 24,
        "start_time": "2023-05-30T08:53:35.311Z"
      },
      {
        "duration": 25,
        "start_time": "2023-05-30T08:53:59.770Z"
      },
      {
        "duration": 21,
        "start_time": "2023-05-30T08:54:50.399Z"
      },
      {
        "duration": 27,
        "start_time": "2023-05-30T08:55:20.327Z"
      },
      {
        "duration": 22,
        "start_time": "2023-05-30T09:02:01.058Z"
      },
      {
        "duration": 12,
        "start_time": "2023-05-30T09:05:04.820Z"
      },
      {
        "duration": 14,
        "start_time": "2023-05-30T09:05:34.378Z"
      },
      {
        "duration": 23,
        "start_time": "2023-05-30T09:09:30.494Z"
      },
      {
        "duration": 18,
        "start_time": "2023-05-30T09:10:17.428Z"
      },
      {
        "duration": 32,
        "start_time": "2023-05-30T09:11:14.083Z"
      },
      {
        "duration": 20,
        "start_time": "2023-05-30T09:11:43.541Z"
      },
      {
        "duration": 24,
        "start_time": "2023-05-30T09:12:24.709Z"
      },
      {
        "duration": 17,
        "start_time": "2023-05-30T09:12:47.883Z"
      },
      {
        "duration": 117,
        "start_time": "2023-05-30T09:31:47.380Z"
      },
      {
        "duration": 408,
        "start_time": "2023-05-30T09:34:53.327Z"
      },
      {
        "duration": 48,
        "start_time": "2023-05-30T09:36:33.471Z"
      },
      {
        "duration": 12,
        "start_time": "2023-05-30T09:42:57.362Z"
      },
      {
        "duration": 25,
        "start_time": "2023-05-30T09:53:41.344Z"
      },
      {
        "duration": 125,
        "start_time": "2023-05-30T10:03:06.864Z"
      },
      {
        "duration": 4,
        "start_time": "2023-05-30T10:03:09.935Z"
      },
      {
        "duration": 1712,
        "start_time": "2023-05-30T10:03:12.181Z"
      },
      {
        "duration": 1521,
        "start_time": "2023-05-30T10:03:22.725Z"
      },
      {
        "duration": 1713,
        "start_time": "2023-05-30T10:05:23.695Z"
      },
      {
        "duration": 2109,
        "start_time": "2023-05-30T10:05:37.521Z"
      },
      {
        "duration": 12,
        "start_time": "2023-05-30T10:08:20.809Z"
      },
      {
        "duration": 16,
        "start_time": "2023-05-30T10:09:10.397Z"
      },
      {
        "duration": 15,
        "start_time": "2023-05-30T10:09:29.978Z"
      },
      {
        "duration": 27,
        "start_time": "2023-05-30T10:10:03.318Z"
      },
      {
        "duration": 19,
        "start_time": "2023-05-30T10:10:22.782Z"
      },
      {
        "duration": 23,
        "start_time": "2023-05-30T10:10:39.189Z"
      },
      {
        "duration": 16,
        "start_time": "2023-05-30T10:10:46.009Z"
      },
      {
        "duration": 5,
        "start_time": "2023-05-30T10:12:21.179Z"
      },
      {
        "duration": 1329,
        "start_time": "2023-05-30T10:14:18.944Z"
      },
      {
        "duration": 317,
        "start_time": "2023-05-30T10:14:20.275Z"
      },
      {
        "duration": 4,
        "start_time": "2023-05-30T10:14:20.594Z"
      },
      {
        "duration": 28,
        "start_time": "2023-05-30T10:14:20.600Z"
      },
      {
        "duration": 12,
        "start_time": "2023-05-30T10:14:20.631Z"
      },
      {
        "duration": 30,
        "start_time": "2023-05-30T10:14:20.648Z"
      },
      {
        "duration": 172,
        "start_time": "2023-05-30T10:14:20.681Z"
      },
      {
        "duration": 18,
        "start_time": "2023-05-30T10:14:20.860Z"
      },
      {
        "duration": 35,
        "start_time": "2023-05-30T10:14:20.880Z"
      },
      {
        "duration": 76,
        "start_time": "2023-05-30T10:14:20.917Z"
      },
      {
        "duration": 68,
        "start_time": "2023-05-30T10:14:20.995Z"
      },
      {
        "duration": 22,
        "start_time": "2023-05-30T10:14:21.065Z"
      },
      {
        "duration": 103,
        "start_time": "2023-05-30T10:14:21.089Z"
      },
      {
        "duration": 10,
        "start_time": "2023-05-30T10:14:21.196Z"
      },
      {
        "duration": 10,
        "start_time": "2023-05-30T10:14:21.208Z"
      },
      {
        "duration": 46,
        "start_time": "2023-05-30T10:14:21.220Z"
      },
      {
        "duration": 32,
        "start_time": "2023-05-30T10:14:21.268Z"
      },
      {
        "duration": 47,
        "start_time": "2023-05-30T10:14:21.303Z"
      },
      {
        "duration": 14,
        "start_time": "2023-05-30T10:14:21.355Z"
      },
      {
        "duration": 35,
        "start_time": "2023-05-30T10:14:21.372Z"
      },
      {
        "duration": 17,
        "start_time": "2023-05-30T10:14:21.410Z"
      },
      {
        "duration": 33,
        "start_time": "2023-05-30T10:14:21.429Z"
      },
      {
        "duration": 50,
        "start_time": "2023-05-30T10:14:21.466Z"
      },
      {
        "duration": 4,
        "start_time": "2023-05-30T10:14:21.518Z"
      },
      {
        "duration": 212,
        "start_time": "2023-05-30T10:14:21.524Z"
      },
      {
        "duration": 30,
        "start_time": "2023-05-30T10:14:21.738Z"
      },
      {
        "duration": 404,
        "start_time": "2023-05-30T10:14:21.771Z"
      },
      {
        "duration": 276,
        "start_time": "2023-05-30T10:14:22.178Z"
      },
      {
        "duration": 15,
        "start_time": "2023-05-30T10:14:22.458Z"
      },
      {
        "duration": 32,
        "start_time": "2023-05-30T10:14:22.475Z"
      },
      {
        "duration": 27,
        "start_time": "2023-05-30T10:14:22.509Z"
      },
      {
        "duration": 25,
        "start_time": "2023-05-30T10:14:22.537Z"
      },
      {
        "duration": 85,
        "start_time": "2023-05-30T10:14:22.564Z"
      },
      {
        "duration": 146,
        "start_time": "2023-05-30T10:14:22.654Z"
      },
      {
        "duration": 24,
        "start_time": "2023-05-30T10:14:22.802Z"
      },
      {
        "duration": 67601,
        "start_time": "2023-05-30T10:14:22.829Z"
      },
      {
        "duration": 293,
        "start_time": "2023-05-30T10:15:30.432Z"
      },
      {
        "duration": 18,
        "start_time": "2023-05-30T10:15:56.417Z"
      },
      {
        "duration": 32,
        "start_time": "2023-05-30T10:16:16.055Z"
      },
      {
        "duration": 8,
        "start_time": "2023-05-30T10:16:33.358Z"
      },
      {
        "duration": 6,
        "start_time": "2023-05-30T10:16:44.961Z"
      },
      {
        "duration": 1400,
        "start_time": "2023-05-30T10:16:48.275Z"
      },
      {
        "duration": 550,
        "start_time": "2023-05-30T10:17:56.471Z"
      },
      {
        "duration": 3,
        "start_time": "2023-05-30T10:19:19.888Z"
      },
      {
        "duration": 1258,
        "start_time": "2023-05-30T10:19:21.239Z"
      },
      {
        "duration": 191,
        "start_time": "2023-05-30T10:19:24.738Z"
      },
      {
        "duration": 1565,
        "start_time": "2023-05-30T10:21:08.941Z"
      },
      {
        "duration": 1367,
        "start_time": "2023-05-30T10:21:34.942Z"
      },
      {
        "duration": 312,
        "start_time": "2023-05-30T10:21:38.471Z"
      },
      {
        "duration": 1428,
        "start_time": "2023-05-30T10:24:49.135Z"
      },
      {
        "duration": 198,
        "start_time": "2023-05-30T10:24:54.954Z"
      },
      {
        "duration": 225,
        "start_time": "2023-05-30T10:27:45.639Z"
      },
      {
        "duration": 1419,
        "start_time": "2023-05-30T10:40:57.183Z"
      },
      {
        "duration": 354,
        "start_time": "2023-05-30T10:40:58.605Z"
      },
      {
        "duration": 8,
        "start_time": "2023-05-30T10:40:58.963Z"
      },
      {
        "duration": 27,
        "start_time": "2023-05-30T10:40:58.974Z"
      },
      {
        "duration": 15,
        "start_time": "2023-05-30T10:40:59.004Z"
      },
      {
        "duration": 29,
        "start_time": "2023-05-30T10:40:59.022Z"
      },
      {
        "duration": 226,
        "start_time": "2023-05-30T10:40:59.053Z"
      },
      {
        "duration": 22,
        "start_time": "2023-05-30T10:40:59.281Z"
      },
      {
        "duration": 66,
        "start_time": "2023-05-30T10:40:59.306Z"
      },
      {
        "duration": 46,
        "start_time": "2023-05-30T10:40:59.374Z"
      },
      {
        "duration": 74,
        "start_time": "2023-05-30T10:40:59.422Z"
      },
      {
        "duration": 22,
        "start_time": "2023-05-30T10:40:59.498Z"
      },
      {
        "duration": 112,
        "start_time": "2023-05-30T10:40:59.522Z"
      },
      {
        "duration": 18,
        "start_time": "2023-05-30T10:40:59.638Z"
      },
      {
        "duration": 29,
        "start_time": "2023-05-30T10:40:59.662Z"
      },
      {
        "duration": 34,
        "start_time": "2023-05-30T10:40:59.693Z"
      },
      {
        "duration": 36,
        "start_time": "2023-05-30T10:40:59.728Z"
      },
      {
        "duration": 11,
        "start_time": "2023-05-30T10:40:59.765Z"
      },
      {
        "duration": 10,
        "start_time": "2023-05-30T10:40:59.778Z"
      },
      {
        "duration": 32,
        "start_time": "2023-05-30T10:40:59.790Z"
      },
      {
        "duration": 24,
        "start_time": "2023-05-30T10:40:59.843Z"
      },
      {
        "duration": 29,
        "start_time": "2023-05-30T10:40:59.869Z"
      },
      {
        "duration": 80,
        "start_time": "2023-05-30T10:40:59.900Z"
      },
      {
        "duration": 6,
        "start_time": "2023-05-30T10:40:59.982Z"
      },
      {
        "duration": 215,
        "start_time": "2023-05-30T10:40:59.990Z"
      },
      {
        "duration": 21,
        "start_time": "2023-05-30T10:41:00.207Z"
      },
      {
        "duration": 483,
        "start_time": "2023-05-30T10:41:00.230Z"
      },
      {
        "duration": 278,
        "start_time": "2023-05-30T10:41:00.715Z"
      },
      {
        "duration": 16,
        "start_time": "2023-05-30T10:41:00.995Z"
      },
      {
        "duration": 57,
        "start_time": "2023-05-30T10:41:01.013Z"
      },
      {
        "duration": 65,
        "start_time": "2023-05-30T10:41:01.073Z"
      },
      {
        "duration": 28,
        "start_time": "2023-05-30T10:41:01.143Z"
      },
      {
        "duration": 97,
        "start_time": "2023-05-30T10:41:01.173Z"
      },
      {
        "duration": 56,
        "start_time": "2023-05-30T10:41:01.272Z"
      },
      {
        "duration": 74,
        "start_time": "2023-05-30T10:41:01.330Z"
      },
      {
        "duration": 1444,
        "start_time": "2023-05-30T10:41:01.406Z"
      },
      {
        "duration": 641,
        "start_time": "2023-05-30T10:41:02.855Z"
      },
      {
        "duration": 16,
        "start_time": "2023-05-30T10:42:32.872Z"
      },
      {
        "duration": 1148,
        "start_time": "2023-05-30T10:46:28.643Z"
      },
      {
        "duration": 943,
        "start_time": "2023-05-30T10:47:23.057Z"
      },
      {
        "duration": 16,
        "start_time": "2023-05-30T10:49:03.310Z"
      },
      {
        "duration": 18,
        "start_time": "2023-05-30T10:49:46.941Z"
      },
      {
        "duration": 13,
        "start_time": "2023-05-30T10:49:56.970Z"
      },
      {
        "duration": 10,
        "start_time": "2023-05-30T10:51:42.876Z"
      },
      {
        "duration": 16,
        "start_time": "2023-05-30T10:51:50.588Z"
      },
      {
        "duration": 898,
        "start_time": "2023-05-30T10:52:48.639Z"
      },
      {
        "duration": 9,
        "start_time": "2023-05-30T10:53:07.988Z"
      },
      {
        "duration": 25,
        "start_time": "2023-05-30T10:54:22.906Z"
      },
      {
        "duration": 16,
        "start_time": "2023-05-30T10:54:56.902Z"
      },
      {
        "duration": 191,
        "start_time": "2023-05-30T10:57:44.562Z"
      },
      {
        "duration": 288,
        "start_time": "2023-05-30T10:58:59.499Z"
      },
      {
        "duration": 209,
        "start_time": "2023-05-30T11:00:40.697Z"
      },
      {
        "duration": 207,
        "start_time": "2023-05-30T11:01:40.058Z"
      },
      {
        "duration": 217,
        "start_time": "2023-05-30T11:06:53.915Z"
      },
      {
        "duration": 206,
        "start_time": "2023-05-30T11:11:05.469Z"
      },
      {
        "duration": 201,
        "start_time": "2023-05-30T11:11:23.765Z"
      },
      {
        "duration": 215,
        "start_time": "2023-05-30T11:11:34.302Z"
      },
      {
        "duration": 212,
        "start_time": "2023-05-30T11:11:54.213Z"
      },
      {
        "duration": 345,
        "start_time": "2023-05-30T11:12:23.281Z"
      },
      {
        "duration": 239,
        "start_time": "2023-05-30T11:12:35.824Z"
      },
      {
        "duration": 256,
        "start_time": "2023-05-30T11:19:43.814Z"
      },
      {
        "duration": 241,
        "start_time": "2023-05-30T11:21:41.065Z"
      },
      {
        "duration": 14,
        "start_time": "2023-05-30T11:23:21.102Z"
      },
      {
        "duration": 236,
        "start_time": "2023-05-30T11:25:15.965Z"
      },
      {
        "duration": 281,
        "start_time": "2023-05-30T11:25:34.178Z"
      },
      {
        "duration": 1639,
        "start_time": "2023-05-30T11:31:48.887Z"
      },
      {
        "duration": 19,
        "start_time": "2023-05-30T11:34:27.771Z"
      },
      {
        "duration": 326,
        "start_time": "2023-05-30T11:36:25.839Z"
      },
      {
        "duration": 37,
        "start_time": "2023-05-30T11:38:06.164Z"
      },
      {
        "duration": 212,
        "start_time": "2023-05-30T11:40:58.307Z"
      },
      {
        "duration": 85,
        "start_time": "2023-05-30T11:41:46.081Z"
      },
      {
        "duration": 88,
        "start_time": "2023-05-30T11:41:57.492Z"
      },
      {
        "duration": 92,
        "start_time": "2023-05-30T11:43:56.697Z"
      },
      {
        "duration": 96,
        "start_time": "2023-05-30T11:45:08.994Z"
      },
      {
        "duration": 80,
        "start_time": "2023-05-30T11:45:18.389Z"
      },
      {
        "duration": 60,
        "start_time": "2023-05-30T11:45:25.651Z"
      },
      {
        "duration": 22,
        "start_time": "2023-05-30T11:45:52.517Z"
      },
      {
        "duration": 81,
        "start_time": "2023-05-30T11:45:55.518Z"
      },
      {
        "duration": 84,
        "start_time": "2023-05-30T11:46:02.865Z"
      },
      {
        "duration": 78,
        "start_time": "2023-05-30T11:47:12.754Z"
      },
      {
        "duration": 87,
        "start_time": "2023-05-30T11:47:31.274Z"
      },
      {
        "duration": 64,
        "start_time": "2023-05-30T11:47:47.474Z"
      },
      {
        "duration": 64,
        "start_time": "2023-05-30T11:47:57.668Z"
      },
      {
        "duration": 12,
        "start_time": "2023-05-30T11:59:08.646Z"
      },
      {
        "duration": 7,
        "start_time": "2023-05-30T11:59:50.525Z"
      },
      {
        "duration": 1686,
        "start_time": "2023-05-30T12:19:37.467Z"
      },
      {
        "duration": 339,
        "start_time": "2023-05-30T12:19:39.155Z"
      },
      {
        "duration": 5,
        "start_time": "2023-05-30T12:19:39.496Z"
      },
      {
        "duration": 22,
        "start_time": "2023-05-30T12:19:39.503Z"
      },
      {
        "duration": 17,
        "start_time": "2023-05-30T12:19:39.528Z"
      },
      {
        "duration": 22,
        "start_time": "2023-05-30T12:19:39.551Z"
      },
      {
        "duration": 164,
        "start_time": "2023-05-30T12:19:39.575Z"
      },
      {
        "duration": 30,
        "start_time": "2023-05-30T12:19:39.748Z"
      },
      {
        "duration": 33,
        "start_time": "2023-05-30T12:19:39.781Z"
      },
      {
        "duration": 73,
        "start_time": "2023-05-30T12:19:39.815Z"
      },
      {
        "duration": 77,
        "start_time": "2023-05-30T12:19:39.890Z"
      },
      {
        "duration": 26,
        "start_time": "2023-05-30T12:19:39.969Z"
      },
      {
        "duration": 111,
        "start_time": "2023-05-30T12:19:39.998Z"
      },
      {
        "duration": 14,
        "start_time": "2023-05-30T12:19:40.113Z"
      },
      {
        "duration": 25,
        "start_time": "2023-05-30T12:19:40.129Z"
      },
      {
        "duration": 37,
        "start_time": "2023-05-30T12:19:40.156Z"
      },
      {
        "duration": 29,
        "start_time": "2023-05-30T12:19:40.195Z"
      },
      {
        "duration": 14,
        "start_time": "2023-05-30T12:19:40.243Z"
      },
      {
        "duration": 29,
        "start_time": "2023-05-30T12:19:40.259Z"
      },
      {
        "duration": 37,
        "start_time": "2023-05-30T12:19:40.291Z"
      },
      {
        "duration": 36,
        "start_time": "2023-05-30T12:19:40.330Z"
      },
      {
        "duration": 23,
        "start_time": "2023-05-30T12:19:40.368Z"
      },
      {
        "duration": 102,
        "start_time": "2023-05-30T12:19:40.393Z"
      },
      {
        "duration": 167,
        "start_time": "2023-05-30T12:19:40.498Z"
      },
      {
        "duration": 13,
        "start_time": "2023-05-30T12:19:40.667Z"
      },
      {
        "duration": 33,
        "start_time": "2023-05-30T12:19:40.682Z"
      },
      {
        "duration": 420,
        "start_time": "2023-05-30T12:19:40.717Z"
      },
      {
        "duration": 295,
        "start_time": "2023-05-30T12:19:41.145Z"
      },
      {
        "duration": 22,
        "start_time": "2023-05-30T12:19:41.447Z"
      },
      {
        "duration": 19,
        "start_time": "2023-05-30T12:19:41.471Z"
      },
      {
        "duration": 525,
        "start_time": "2023-05-30T12:19:41.492Z"
      },
      {
        "duration": 38,
        "start_time": "2023-05-30T12:19:42.019Z"
      },
      {
        "duration": 22,
        "start_time": "2023-05-30T12:19:42.058Z"
      },
      {
        "duration": 68,
        "start_time": "2023-05-30T12:19:42.082Z"
      },
      {
        "duration": 7,
        "start_time": "2023-05-30T12:19:42.153Z"
      },
      {
        "duration": 1344,
        "start_time": "2023-05-30T12:19:42.162Z"
      },
      {
        "duration": 269,
        "start_time": "2023-05-30T12:19:43.508Z"
      },
      {
        "duration": 227,
        "start_time": "2023-05-30T12:19:43.779Z"
      },
      {
        "duration": 162,
        "start_time": "2023-05-30T12:19:55.511Z"
      },
      {
        "duration": 169,
        "start_time": "2023-05-30T12:20:02.615Z"
      },
      {
        "duration": 182,
        "start_time": "2023-05-30T12:20:32.091Z"
      },
      {
        "duration": 44,
        "start_time": "2023-05-30T12:22:31.632Z"
      },
      {
        "duration": 28,
        "start_time": "2023-05-30T12:23:05.976Z"
      },
      {
        "duration": 35,
        "start_time": "2023-05-30T12:49:09.413Z"
      },
      {
        "duration": 77,
        "start_time": "2023-05-30T12:50:39.869Z"
      },
      {
        "duration": 85,
        "start_time": "2023-05-30T12:50:50.690Z"
      },
      {
        "duration": 74,
        "start_time": "2023-05-30T12:51:15.413Z"
      },
      {
        "duration": 144,
        "start_time": "2023-05-30T12:59:58.486Z"
      },
      {
        "duration": 14,
        "start_time": "2023-05-30T13:01:05.679Z"
      },
      {
        "duration": 20,
        "start_time": "2023-05-30T13:01:12.169Z"
      },
      {
        "duration": 106,
        "start_time": "2023-05-30T13:01:19.872Z"
      },
      {
        "duration": 24,
        "start_time": "2023-05-30T13:01:28.604Z"
      },
      {
        "duration": 89,
        "start_time": "2023-05-30T13:01:32.620Z"
      },
      {
        "duration": 112,
        "start_time": "2023-05-30T13:01:58.861Z"
      },
      {
        "duration": 88,
        "start_time": "2023-05-30T13:02:04.704Z"
      },
      {
        "duration": 6,
        "start_time": "2023-05-30T13:12:09.043Z"
      },
      {
        "duration": 67,
        "start_time": "2023-05-30T13:45:30.920Z"
      },
      {
        "duration": 64,
        "start_time": "2023-05-30T13:45:52.509Z"
      },
      {
        "duration": 60,
        "start_time": "2023-05-30T13:46:19.464Z"
      },
      {
        "duration": 64,
        "start_time": "2023-05-30T13:46:49.966Z"
      },
      {
        "duration": 70,
        "start_time": "2023-05-30T13:46:57.313Z"
      },
      {
        "duration": 1096,
        "start_time": "2023-05-30T14:01:12.813Z"
      },
      {
        "duration": 224,
        "start_time": "2023-05-30T14:01:19.027Z"
      },
      {
        "duration": 11,
        "start_time": "2023-05-30T14:01:25.619Z"
      },
      {
        "duration": 4,
        "start_time": "2023-05-30T14:01:26.885Z"
      },
      {
        "duration": 1251,
        "start_time": "2023-05-30T14:01:28.073Z"
      },
      {
        "duration": 226,
        "start_time": "2023-05-30T14:01:29.327Z"
      },
      {
        "duration": 1324,
        "start_time": "2023-05-30T14:01:39.178Z"
      },
      {
        "duration": 278,
        "start_time": "2023-05-30T14:01:40.504Z"
      },
      {
        "duration": 4,
        "start_time": "2023-05-30T14:01:40.784Z"
      },
      {
        "duration": 21,
        "start_time": "2023-05-30T14:01:40.789Z"
      },
      {
        "duration": 9,
        "start_time": "2023-05-30T14:01:40.813Z"
      },
      {
        "duration": 9,
        "start_time": "2023-05-30T14:01:40.823Z"
      },
      {
        "duration": 151,
        "start_time": "2023-05-30T14:01:40.834Z"
      },
      {
        "duration": 18,
        "start_time": "2023-05-30T14:01:40.987Z"
      },
      {
        "duration": 55,
        "start_time": "2023-05-30T14:01:41.007Z"
      },
      {
        "duration": 48,
        "start_time": "2023-05-30T14:01:41.064Z"
      },
      {
        "duration": 95,
        "start_time": "2023-05-30T14:01:41.114Z"
      },
      {
        "duration": 39,
        "start_time": "2023-05-30T14:01:41.211Z"
      },
      {
        "duration": 132,
        "start_time": "2023-05-30T14:01:41.252Z"
      },
      {
        "duration": 10,
        "start_time": "2023-05-30T14:01:41.387Z"
      },
      {
        "duration": 11,
        "start_time": "2023-05-30T14:01:41.400Z"
      },
      {
        "duration": 47,
        "start_time": "2023-05-30T14:01:41.412Z"
      },
      {
        "duration": 22,
        "start_time": "2023-05-30T14:01:41.461Z"
      },
      {
        "duration": 10,
        "start_time": "2023-05-30T14:01:41.485Z"
      },
      {
        "duration": 15,
        "start_time": "2023-05-30T14:01:41.497Z"
      },
      {
        "duration": 34,
        "start_time": "2023-05-30T14:01:41.542Z"
      },
      {
        "duration": 13,
        "start_time": "2023-05-30T14:01:41.578Z"
      },
      {
        "duration": 27,
        "start_time": "2023-05-30T14:01:41.593Z"
      },
      {
        "duration": 58,
        "start_time": "2023-05-30T14:01:41.643Z"
      },
      {
        "duration": 185,
        "start_time": "2023-05-30T14:01:41.704Z"
      },
      {
        "duration": 18,
        "start_time": "2023-05-30T14:01:41.890Z"
      },
      {
        "duration": 394,
        "start_time": "2023-05-30T14:01:41.910Z"
      },
      {
        "duration": 565,
        "start_time": "2023-05-30T14:01:42.305Z"
      },
      {
        "duration": 14,
        "start_time": "2023-05-30T14:01:42.872Z"
      },
      {
        "duration": 81,
        "start_time": "2023-05-30T14:01:42.888Z"
      },
      {
        "duration": 287,
        "start_time": "2023-05-30T14:01:42.972Z"
      },
      {
        "duration": 156,
        "start_time": "2023-05-30T14:01:43.261Z"
      },
      {
        "duration": 0,
        "start_time": "2023-05-30T14:01:43.418Z"
      },
      {
        "duration": 0,
        "start_time": "2023-05-30T14:01:43.420Z"
      },
      {
        "duration": 0,
        "start_time": "2023-05-30T14:01:43.421Z"
      },
      {
        "duration": 0,
        "start_time": "2023-05-30T14:01:43.422Z"
      },
      {
        "duration": 0,
        "start_time": "2023-05-30T14:01:43.423Z"
      },
      {
        "duration": 0,
        "start_time": "2023-05-30T14:01:43.424Z"
      },
      {
        "duration": 0,
        "start_time": "2023-05-30T14:01:43.425Z"
      },
      {
        "duration": 0,
        "start_time": "2023-05-30T14:01:43.426Z"
      },
      {
        "duration": 0,
        "start_time": "2023-05-30T14:01:43.427Z"
      },
      {
        "duration": 20,
        "start_time": "2023-05-30T14:02:39.980Z"
      },
      {
        "duration": 430,
        "start_time": "2023-05-30T14:02:49.625Z"
      },
      {
        "duration": 319,
        "start_time": "2023-05-30T14:03:11.582Z"
      },
      {
        "duration": 17,
        "start_time": "2023-05-30T14:06:20.189Z"
      },
      {
        "duration": 82,
        "start_time": "2023-05-30T14:06:27.261Z"
      },
      {
        "duration": 21,
        "start_time": "2023-05-30T14:06:38.608Z"
      },
      {
        "duration": 19,
        "start_time": "2023-05-30T14:06:59.578Z"
      },
      {
        "duration": 102,
        "start_time": "2023-05-30T14:07:02.054Z"
      },
      {
        "duration": 10,
        "start_time": "2023-05-30T14:07:06.892Z"
      },
      {
        "duration": 4,
        "start_time": "2023-05-30T14:07:09.128Z"
      },
      {
        "duration": 1299,
        "start_time": "2023-05-30T14:07:10.686Z"
      },
      {
        "duration": 280,
        "start_time": "2023-05-30T14:07:11.988Z"
      },
      {
        "duration": 178,
        "start_time": "2023-05-30T14:07:17.888Z"
      },
      {
        "duration": 288,
        "start_time": "2023-05-30T14:08:18.493Z"
      },
      {
        "duration": 18,
        "start_time": "2023-05-30T14:09:29.916Z"
      },
      {
        "duration": 10,
        "start_time": "2023-05-30T14:13:22.966Z"
      },
      {
        "duration": 184,
        "start_time": "2023-05-30T14:13:26.695Z"
      },
      {
        "duration": 314,
        "start_time": "2023-05-30T14:13:44.927Z"
      },
      {
        "duration": 13,
        "start_time": "2023-05-30T14:25:43.509Z"
      },
      {
        "duration": 18,
        "start_time": "2023-05-30T14:26:19.205Z"
      },
      {
        "duration": 5,
        "start_time": "2023-05-30T14:32:37.215Z"
      },
      {
        "duration": 14,
        "start_time": "2023-05-30T14:33:10.362Z"
      },
      {
        "duration": 34,
        "start_time": "2023-05-30T14:33:28.360Z"
      },
      {
        "duration": 5,
        "start_time": "2023-05-30T14:33:46.580Z"
      },
      {
        "duration": 137,
        "start_time": "2023-05-30T14:34:30.158Z"
      },
      {
        "duration": 158,
        "start_time": "2023-05-30T14:35:03.727Z"
      },
      {
        "duration": 32,
        "start_time": "2023-05-30T14:41:01.007Z"
      },
      {
        "duration": 35,
        "start_time": "2023-05-30T14:41:15.458Z"
      },
      {
        "duration": 88,
        "start_time": "2023-05-30T14:41:35.192Z"
      },
      {
        "duration": 73,
        "start_time": "2023-05-30T14:44:18.664Z"
      },
      {
        "duration": 86,
        "start_time": "2023-05-30T14:44:24.694Z"
      },
      {
        "duration": 103,
        "start_time": "2023-05-30T14:44:47.291Z"
      },
      {
        "duration": 93,
        "start_time": "2023-05-30T14:45:10.470Z"
      },
      {
        "duration": 126,
        "start_time": "2023-05-30T14:45:15.084Z"
      },
      {
        "duration": 86,
        "start_time": "2023-05-30T14:45:19.042Z"
      },
      {
        "duration": 87,
        "start_time": "2023-05-30T14:45:22.879Z"
      },
      {
        "duration": 102,
        "start_time": "2023-05-30T14:45:26.256Z"
      },
      {
        "duration": 86,
        "start_time": "2023-05-30T14:45:31.159Z"
      },
      {
        "duration": 26,
        "start_time": "2023-05-30T14:46:30.627Z"
      },
      {
        "duration": 14,
        "start_time": "2023-05-30T14:46:55.983Z"
      },
      {
        "duration": 11,
        "start_time": "2023-05-30T15:09:56.209Z"
      },
      {
        "duration": 28,
        "start_time": "2023-05-30T15:10:28.017Z"
      },
      {
        "duration": 77,
        "start_time": "2023-05-30T15:10:50.930Z"
      },
      {
        "duration": 144,
        "start_time": "2023-05-30T15:10:57.999Z"
      },
      {
        "duration": 95,
        "start_time": "2023-05-30T15:12:43.314Z"
      },
      {
        "duration": 517,
        "start_time": "2023-05-30T15:14:45.825Z"
      },
      {
        "duration": 1012,
        "start_time": "2023-05-30T15:15:05.329Z"
      },
      {
        "duration": 1076,
        "start_time": "2023-05-30T15:18:37.049Z"
      },
      {
        "duration": 1094,
        "start_time": "2023-05-30T15:19:52.550Z"
      },
      {
        "duration": 1095,
        "start_time": "2023-05-30T15:22:24.521Z"
      },
      {
        "duration": 86,
        "start_time": "2023-05-30T16:00:40.221Z"
      },
      {
        "duration": 157,
        "start_time": "2023-05-30T16:00:45.701Z"
      },
      {
        "duration": 145,
        "start_time": "2023-05-30T16:03:18.341Z"
      },
      {
        "duration": 112,
        "start_time": "2023-05-30T16:03:58.470Z"
      },
      {
        "duration": 276,
        "start_time": "2023-05-30T16:06:01.356Z"
      },
      {
        "duration": 26,
        "start_time": "2023-05-30T16:06:24.280Z"
      },
      {
        "duration": 22,
        "start_time": "2023-05-30T16:08:53.565Z"
      },
      {
        "duration": 20,
        "start_time": "2023-05-30T16:28:25.888Z"
      },
      {
        "duration": 10,
        "start_time": "2023-05-30T16:29:23.488Z"
      },
      {
        "duration": 8,
        "start_time": "2023-05-30T16:29:43.183Z"
      },
      {
        "duration": 16,
        "start_time": "2023-05-30T16:32:27.898Z"
      },
      {
        "duration": 4,
        "start_time": "2023-05-30T16:33:10.677Z"
      },
      {
        "duration": 20,
        "start_time": "2023-05-30T16:33:26.355Z"
      },
      {
        "duration": 26,
        "start_time": "2023-05-30T16:34:22.642Z"
      },
      {
        "duration": 28,
        "start_time": "2023-05-30T16:35:48.651Z"
      },
      {
        "duration": 1327,
        "start_time": "2023-05-30T16:36:37.445Z"
      },
      {
        "duration": 258,
        "start_time": "2023-05-30T16:36:38.773Z"
      },
      {
        "duration": 3,
        "start_time": "2023-05-30T16:36:39.033Z"
      },
      {
        "duration": 20,
        "start_time": "2023-05-30T16:36:39.039Z"
      },
      {
        "duration": 9,
        "start_time": "2023-05-30T16:36:39.060Z"
      },
      {
        "duration": 9,
        "start_time": "2023-05-30T16:36:39.070Z"
      },
      {
        "duration": 164,
        "start_time": "2023-05-30T16:36:39.080Z"
      },
      {
        "duration": 21,
        "start_time": "2023-05-30T16:36:39.246Z"
      },
      {
        "duration": 26,
        "start_time": "2023-05-30T16:36:39.268Z"
      },
      {
        "duration": 68,
        "start_time": "2023-05-30T16:36:39.298Z"
      },
      {
        "duration": 43,
        "start_time": "2023-05-30T16:36:39.367Z"
      },
      {
        "duration": 43,
        "start_time": "2023-05-30T16:36:39.412Z"
      },
      {
        "duration": 87,
        "start_time": "2023-05-30T16:36:39.457Z"
      },
      {
        "duration": 10,
        "start_time": "2023-05-30T16:36:39.546Z"
      },
      {
        "duration": 8,
        "start_time": "2023-05-30T16:36:39.558Z"
      },
      {
        "duration": 27,
        "start_time": "2023-05-30T16:36:39.568Z"
      },
      {
        "duration": 47,
        "start_time": "2023-05-30T16:36:39.597Z"
      },
      {
        "duration": 10,
        "start_time": "2023-05-30T16:36:39.646Z"
      },
      {
        "duration": 9,
        "start_time": "2023-05-30T16:36:39.657Z"
      },
      {
        "duration": 24,
        "start_time": "2023-05-30T16:36:39.668Z"
      },
      {
        "duration": 12,
        "start_time": "2023-05-30T16:36:39.693Z"
      },
      {
        "duration": 46,
        "start_time": "2023-05-30T16:36:39.706Z"
      },
      {
        "duration": 41,
        "start_time": "2023-05-30T16:36:39.754Z"
      },
      {
        "duration": 164,
        "start_time": "2023-05-30T16:36:39.797Z"
      },
      {
        "duration": 17,
        "start_time": "2023-05-30T16:36:39.963Z"
      },
      {
        "duration": 372,
        "start_time": "2023-05-30T16:36:39.982Z"
      },
      {
        "duration": 521,
        "start_time": "2023-05-30T16:36:40.356Z"
      },
      {
        "duration": 14,
        "start_time": "2023-05-30T16:36:40.880Z"
      },
      {
        "duration": 77,
        "start_time": "2023-05-30T16:36:40.895Z"
      },
      {
        "duration": 256,
        "start_time": "2023-05-30T16:36:40.974Z"
      },
      {
        "duration": 21,
        "start_time": "2023-05-30T16:36:41.232Z"
      },
      {
        "duration": 80,
        "start_time": "2023-05-30T16:36:41.255Z"
      },
      {
        "duration": 22,
        "start_time": "2023-05-30T16:36:41.336Z"
      },
      {
        "duration": 14,
        "start_time": "2023-05-30T16:36:41.360Z"
      },
      {
        "duration": 81,
        "start_time": "2023-05-30T16:36:41.376Z"
      },
      {
        "duration": 8,
        "start_time": "2023-05-30T16:36:41.459Z"
      },
      {
        "duration": 5,
        "start_time": "2023-05-30T16:36:41.469Z"
      },
      {
        "duration": 1131,
        "start_time": "2023-05-30T16:36:41.476Z"
      },
      {
        "duration": 225,
        "start_time": "2023-05-30T16:36:42.609Z"
      },
      {
        "duration": 190,
        "start_time": "2023-05-30T16:36:42.841Z"
      },
      {
        "duration": 26,
        "start_time": "2023-05-30T16:36:43.041Z"
      },
      {
        "duration": 19,
        "start_time": "2023-05-30T16:38:57.508Z"
      },
      {
        "duration": 30,
        "start_time": "2023-05-30T16:39:06.406Z"
      },
      {
        "duration": 37,
        "start_time": "2023-05-30T16:40:20.139Z"
      },
      {
        "duration": 3,
        "start_time": "2023-05-30T16:52:43.145Z"
      },
      {
        "duration": 1093,
        "start_time": "2023-05-30T16:53:19.190Z"
      },
      {
        "duration": 18,
        "start_time": "2023-05-30T16:53:26.122Z"
      },
      {
        "duration": 4,
        "start_time": "2023-05-30T16:53:51.629Z"
      },
      {
        "duration": 7947,
        "start_time": "2023-05-30T16:53:52.829Z"
      },
      {
        "duration": 13,
        "start_time": "2023-05-30T16:54:00.778Z"
      },
      {
        "duration": 41,
        "start_time": "2023-05-30T16:54:00.793Z"
      },
      {
        "duration": 7956,
        "start_time": "2023-05-30T16:54:01.118Z"
      },
      {
        "duration": 15,
        "start_time": "2023-05-30T16:54:09.076Z"
      },
      {
        "duration": 16,
        "start_time": "2023-05-30T16:55:30.839Z"
      },
      {
        "duration": 18,
        "start_time": "2023-05-30T16:56:54.214Z"
      },
      {
        "duration": 16,
        "start_time": "2023-05-30T16:57:33.730Z"
      },
      {
        "duration": 163,
        "start_time": "2023-05-30T16:57:57.527Z"
      },
      {
        "duration": 18,
        "start_time": "2023-05-30T16:58:22.495Z"
      },
      {
        "duration": 17,
        "start_time": "2023-05-30T16:58:52.687Z"
      },
      {
        "duration": 1334,
        "start_time": "2023-05-30T16:59:15.866Z"
      },
      {
        "duration": 258,
        "start_time": "2023-05-30T16:59:17.202Z"
      },
      {
        "duration": 3,
        "start_time": "2023-05-30T16:59:17.462Z"
      },
      {
        "duration": 16,
        "start_time": "2023-05-30T16:59:17.467Z"
      },
      {
        "duration": 9,
        "start_time": "2023-05-30T16:59:17.485Z"
      },
      {
        "duration": 10,
        "start_time": "2023-05-30T16:59:17.495Z"
      },
      {
        "duration": 154,
        "start_time": "2023-05-30T16:59:17.506Z"
      },
      {
        "duration": 16,
        "start_time": "2023-05-30T16:59:17.661Z"
      },
      {
        "duration": 20,
        "start_time": "2023-05-30T16:59:17.678Z"
      },
      {
        "duration": 65,
        "start_time": "2023-05-30T16:59:17.701Z"
      },
      {
        "duration": 42,
        "start_time": "2023-05-30T16:59:17.768Z"
      },
      {
        "duration": 35,
        "start_time": "2023-05-30T16:59:17.812Z"
      },
      {
        "duration": 76,
        "start_time": "2023-05-30T16:59:17.849Z"
      },
      {
        "duration": 23,
        "start_time": "2023-05-30T16:59:17.927Z"
      },
      {
        "duration": 11,
        "start_time": "2023-05-30T16:59:17.951Z"
      },
      {
        "duration": 22,
        "start_time": "2023-05-30T16:59:17.963Z"
      },
      {
        "duration": 23,
        "start_time": "2023-05-30T16:59:17.987Z"
      },
      {
        "duration": 37,
        "start_time": "2023-05-30T16:59:18.011Z"
      },
      {
        "duration": 10,
        "start_time": "2023-05-30T16:59:18.050Z"
      },
      {
        "duration": 23,
        "start_time": "2023-05-30T16:59:18.061Z"
      },
      {
        "duration": 11,
        "start_time": "2023-05-30T16:59:18.086Z"
      },
      {
        "duration": 48,
        "start_time": "2023-05-30T16:59:18.099Z"
      },
      {
        "duration": 47,
        "start_time": "2023-05-30T16:59:18.149Z"
      },
      {
        "duration": 182,
        "start_time": "2023-05-30T16:59:18.197Z"
      },
      {
        "duration": 21,
        "start_time": "2023-05-30T16:59:18.382Z"
      },
      {
        "duration": 360,
        "start_time": "2023-05-30T16:59:18.405Z"
      },
      {
        "duration": 533,
        "start_time": "2023-05-30T16:59:18.767Z"
      },
      {
        "duration": 14,
        "start_time": "2023-05-30T16:59:19.304Z"
      },
      {
        "duration": 77,
        "start_time": "2023-05-30T16:59:19.320Z"
      },
      {
        "duration": 245,
        "start_time": "2023-05-30T16:59:19.399Z"
      },
      {
        "duration": 15,
        "start_time": "2023-05-30T16:59:19.646Z"
      },
      {
        "duration": 78,
        "start_time": "2023-05-30T16:59:19.663Z"
      },
      {
        "duration": 18,
        "start_time": "2023-05-30T16:59:19.743Z"
      },
      {
        "duration": 14,
        "start_time": "2023-05-30T16:59:19.763Z"
      },
      {
        "duration": 82,
        "start_time": "2023-05-30T16:59:19.778Z"
      },
      {
        "duration": 8,
        "start_time": "2023-05-30T16:59:19.861Z"
      },
      {
        "duration": 17,
        "start_time": "2023-05-30T16:59:19.871Z"
      },
      {
        "duration": 1204,
        "start_time": "2023-05-30T16:59:19.890Z"
      },
      {
        "duration": 238,
        "start_time": "2023-05-30T16:59:21.096Z"
      },
      {
        "duration": 197,
        "start_time": "2023-05-30T16:59:21.341Z"
      },
      {
        "duration": 38,
        "start_time": "2023-05-30T16:59:21.542Z"
      },
      {
        "duration": 74,
        "start_time": "2023-05-30T16:59:21.582Z"
      },
      {
        "duration": 0,
        "start_time": "2023-05-30T16:59:21.657Z"
      },
      {
        "duration": 0,
        "start_time": "2023-05-30T16:59:21.659Z"
      },
      {
        "duration": 0,
        "start_time": "2023-05-30T16:59:21.660Z"
      },
      {
        "duration": 4,
        "start_time": "2023-05-30T16:59:34.658Z"
      },
      {
        "duration": 7985,
        "start_time": "2023-05-30T16:59:36.411Z"
      },
      {
        "duration": 17,
        "start_time": "2023-05-30T16:59:44.398Z"
      },
      {
        "duration": 3,
        "start_time": "2023-05-30T17:00:26.589Z"
      },
      {
        "duration": 8060,
        "start_time": "2023-05-30T17:00:28.511Z"
      },
      {
        "duration": 19,
        "start_time": "2023-05-30T17:00:37.545Z"
      },
      {
        "duration": 17,
        "start_time": "2023-05-30T17:01:36.773Z"
      },
      {
        "duration": 19,
        "start_time": "2023-05-30T17:01:53.032Z"
      },
      {
        "duration": 15,
        "start_time": "2023-05-30T17:03:26.579Z"
      },
      {
        "duration": 138,
        "start_time": "2023-05-30T17:03:40.996Z"
      },
      {
        "duration": 206,
        "start_time": "2023-05-30T17:04:10.296Z"
      },
      {
        "duration": 20,
        "start_time": "2023-05-30T17:04:49.713Z"
      },
      {
        "duration": 1124,
        "start_time": "2023-05-30T17:05:55.791Z"
      },
      {
        "duration": 1010,
        "start_time": "2023-05-30T17:06:06.969Z"
      },
      {
        "duration": 11,
        "start_time": "2023-05-30T17:06:34.298Z"
      },
      {
        "duration": 54,
        "start_time": "2023-05-30T17:07:03.162Z"
      },
      {
        "duration": 315,
        "start_time": "2023-05-30T17:07:10.179Z"
      },
      {
        "duration": 172,
        "start_time": "2023-05-30T17:08:03.585Z"
      },
      {
        "duration": 1247,
        "start_time": "2023-05-30T17:09:05.246Z"
      },
      {
        "duration": 263,
        "start_time": "2023-05-30T17:09:06.496Z"
      },
      {
        "duration": 4,
        "start_time": "2023-05-30T17:09:06.761Z"
      },
      {
        "duration": 26,
        "start_time": "2023-05-30T17:09:06.767Z"
      },
      {
        "duration": 9,
        "start_time": "2023-05-30T17:09:06.795Z"
      },
      {
        "duration": 11,
        "start_time": "2023-05-30T17:09:06.806Z"
      },
      {
        "duration": 148,
        "start_time": "2023-05-30T17:09:06.819Z"
      },
      {
        "duration": 15,
        "start_time": "2023-05-30T17:09:06.968Z"
      },
      {
        "duration": 43,
        "start_time": "2023-05-30T17:09:06.985Z"
      },
      {
        "duration": 39,
        "start_time": "2023-05-30T17:09:07.041Z"
      },
      {
        "duration": 65,
        "start_time": "2023-05-30T17:09:07.082Z"
      },
      {
        "duration": 16,
        "start_time": "2023-05-30T17:09:07.149Z"
      },
      {
        "duration": 79,
        "start_time": "2023-05-30T17:09:07.167Z"
      },
      {
        "duration": 10,
        "start_time": "2023-05-30T17:09:07.249Z"
      },
      {
        "duration": 11,
        "start_time": "2023-05-30T17:09:07.261Z"
      },
      {
        "duration": 24,
        "start_time": "2023-05-30T17:09:07.274Z"
      },
      {
        "duration": 51,
        "start_time": "2023-05-30T17:09:07.300Z"
      },
      {
        "duration": 11,
        "start_time": "2023-05-30T17:09:07.352Z"
      },
      {
        "duration": 11,
        "start_time": "2023-05-30T17:09:07.366Z"
      },
      {
        "duration": 27,
        "start_time": "2023-05-30T17:09:07.379Z"
      },
      {
        "duration": 42,
        "start_time": "2023-05-30T17:09:07.408Z"
      },
      {
        "duration": 16,
        "start_time": "2023-05-30T17:09:07.452Z"
      },
      {
        "duration": 46,
        "start_time": "2023-05-30T17:09:07.470Z"
      },
      {
        "duration": 172,
        "start_time": "2023-05-30T17:09:07.517Z"
      },
      {
        "duration": 17,
        "start_time": "2023-05-30T17:09:07.691Z"
      },
      {
        "duration": 343,
        "start_time": "2023-05-30T17:09:07.710Z"
      },
      {
        "duration": 562,
        "start_time": "2023-05-30T17:09:08.055Z"
      },
      {
        "duration": 22,
        "start_time": "2023-05-30T17:09:08.619Z"
      },
      {
        "duration": 60,
        "start_time": "2023-05-30T17:09:08.643Z"
      },
      {
        "duration": 261,
        "start_time": "2023-05-30T17:09:08.704Z"
      },
      {
        "duration": 15,
        "start_time": "2023-05-30T17:09:08.966Z"
      },
      {
        "duration": 75,
        "start_time": "2023-05-30T17:09:08.982Z"
      },
      {
        "duration": 21,
        "start_time": "2023-05-30T17:09:09.058Z"
      },
      {
        "duration": 15,
        "start_time": "2023-05-30T17:09:09.080Z"
      },
      {
        "duration": 86,
        "start_time": "2023-05-30T17:09:09.096Z"
      },
      {
        "duration": 8,
        "start_time": "2023-05-30T17:09:09.184Z"
      },
      {
        "duration": 16,
        "start_time": "2023-05-30T17:09:09.194Z"
      },
      {
        "duration": 1105,
        "start_time": "2023-05-30T17:09:09.213Z"
      },
      {
        "duration": 223,
        "start_time": "2023-05-30T17:09:10.319Z"
      },
      {
        "duration": 209,
        "start_time": "2023-05-30T17:09:10.544Z"
      },
      {
        "duration": 41,
        "start_time": "2023-05-30T17:09:10.759Z"
      },
      {
        "duration": 3,
        "start_time": "2023-05-30T17:09:10.802Z"
      },
      {
        "duration": 8087,
        "start_time": "2023-05-30T17:09:10.807Z"
      },
      {
        "duration": 21,
        "start_time": "2023-05-30T17:09:18.896Z"
      },
      {
        "duration": 23,
        "start_time": "2023-05-30T17:09:18.919Z"
      },
      {
        "duration": 188,
        "start_time": "2023-05-30T17:09:18.944Z"
      },
      {
        "duration": 117,
        "start_time": "2023-05-30T17:10:23.841Z"
      },
      {
        "duration": 55,
        "start_time": "2023-05-30T17:13:04.844Z"
      },
      {
        "duration": 66,
        "start_time": "2023-05-30T17:13:15.385Z"
      },
      {
        "duration": 1386,
        "start_time": "2023-05-30T17:13:24.450Z"
      },
      {
        "duration": 281,
        "start_time": "2023-05-30T17:13:25.838Z"
      },
      {
        "duration": 5,
        "start_time": "2023-05-30T17:13:26.121Z"
      },
      {
        "duration": 31,
        "start_time": "2023-05-30T17:13:26.128Z"
      },
      {
        "duration": 10,
        "start_time": "2023-05-30T17:13:26.161Z"
      },
      {
        "duration": 10,
        "start_time": "2023-05-30T17:13:26.173Z"
      },
      {
        "duration": 159,
        "start_time": "2023-05-30T17:13:26.184Z"
      },
      {
        "duration": 16,
        "start_time": "2023-05-30T17:13:26.344Z"
      },
      {
        "duration": 29,
        "start_time": "2023-05-30T17:13:26.362Z"
      },
      {
        "duration": 60,
        "start_time": "2023-05-30T17:13:26.393Z"
      },
      {
        "duration": 45,
        "start_time": "2023-05-30T17:13:26.455Z"
      },
      {
        "duration": 17,
        "start_time": "2023-05-30T17:13:26.502Z"
      },
      {
        "duration": 89,
        "start_time": "2023-05-30T17:13:26.520Z"
      },
      {
        "duration": 9,
        "start_time": "2023-05-30T17:13:26.612Z"
      },
      {
        "duration": 25,
        "start_time": "2023-05-30T17:13:26.623Z"
      },
      {
        "duration": 23,
        "start_time": "2023-05-30T17:13:26.650Z"
      },
      {
        "duration": 22,
        "start_time": "2023-05-30T17:13:26.674Z"
      },
      {
        "duration": 8,
        "start_time": "2023-05-30T17:13:26.698Z"
      },
      {
        "duration": 35,
        "start_time": "2023-05-30T17:13:26.708Z"
      },
      {
        "duration": 24,
        "start_time": "2023-05-30T17:13:26.744Z"
      },
      {
        "duration": 16,
        "start_time": "2023-05-30T17:13:26.769Z"
      },
      {
        "duration": 23,
        "start_time": "2023-05-30T17:13:26.787Z"
      },
      {
        "duration": 91,
        "start_time": "2023-05-30T17:13:26.812Z"
      },
      {
        "duration": 155,
        "start_time": "2023-05-30T17:13:26.905Z"
      },
      {
        "duration": 19,
        "start_time": "2023-05-30T17:13:27.062Z"
      },
      {
        "duration": 356,
        "start_time": "2023-05-30T17:13:27.083Z"
      },
      {
        "duration": 544,
        "start_time": "2023-05-30T17:13:27.441Z"
      },
      {
        "duration": 14,
        "start_time": "2023-05-30T17:13:27.986Z"
      },
      {
        "duration": 80,
        "start_time": "2023-05-30T17:13:28.002Z"
      },
      {
        "duration": 283,
        "start_time": "2023-05-30T17:13:28.083Z"
      },
      {
        "duration": 17,
        "start_time": "2023-05-30T17:13:28.368Z"
      },
      {
        "duration": 89,
        "start_time": "2023-05-30T17:13:28.387Z"
      },
      {
        "duration": 20,
        "start_time": "2023-05-30T17:13:28.477Z"
      },
      {
        "duration": 15,
        "start_time": "2023-05-30T17:13:28.498Z"
      },
      {
        "duration": 84,
        "start_time": "2023-05-30T17:13:28.515Z"
      },
      {
        "duration": 8,
        "start_time": "2023-05-30T17:13:28.600Z"
      },
      {
        "duration": 4,
        "start_time": "2023-05-30T17:13:28.610Z"
      },
      {
        "duration": 1110,
        "start_time": "2023-05-30T17:13:28.615Z"
      },
      {
        "duration": 221,
        "start_time": "2023-05-30T17:13:29.727Z"
      },
      {
        "duration": 196,
        "start_time": "2023-05-30T17:13:29.949Z"
      },
      {
        "duration": 38,
        "start_time": "2023-05-30T17:13:30.149Z"
      },
      {
        "duration": 3,
        "start_time": "2023-05-30T17:13:30.189Z"
      },
      {
        "duration": 7575,
        "start_time": "2023-05-30T17:13:30.193Z"
      },
      {
        "duration": 21,
        "start_time": "2023-05-30T17:13:37.770Z"
      },
      {
        "duration": 9,
        "start_time": "2023-05-30T17:13:37.793Z"
      },
      {
        "duration": 132,
        "start_time": "2023-05-30T17:13:37.803Z"
      },
      {
        "duration": 1241,
        "start_time": "2023-05-30T17:15:58.703Z"
      },
      {
        "duration": 287,
        "start_time": "2023-05-30T17:15:59.948Z"
      },
      {
        "duration": 4,
        "start_time": "2023-05-30T17:16:00.236Z"
      },
      {
        "duration": 49,
        "start_time": "2023-05-30T17:16:00.241Z"
      },
      {
        "duration": 9,
        "start_time": "2023-05-30T17:16:00.292Z"
      },
      {
        "duration": 14,
        "start_time": "2023-05-30T17:16:00.303Z"
      },
      {
        "duration": 156,
        "start_time": "2023-05-30T17:16:00.319Z"
      },
      {
        "duration": 15,
        "start_time": "2023-05-30T17:16:00.477Z"
      },
      {
        "duration": 35,
        "start_time": "2023-05-30T17:16:00.493Z"
      },
      {
        "duration": 50,
        "start_time": "2023-05-30T17:16:00.529Z"
      },
      {
        "duration": 55,
        "start_time": "2023-05-30T17:16:00.581Z"
      },
      {
        "duration": 17,
        "start_time": "2023-05-30T17:16:00.638Z"
      },
      {
        "duration": 95,
        "start_time": "2023-05-30T17:16:00.657Z"
      },
      {
        "duration": 11,
        "start_time": "2023-05-30T17:16:00.756Z"
      },
      {
        "duration": 31,
        "start_time": "2023-05-30T17:16:00.769Z"
      },
      {
        "duration": 62,
        "start_time": "2023-05-30T17:16:00.802Z"
      },
      {
        "duration": 37,
        "start_time": "2023-05-30T17:16:00.866Z"
      },
      {
        "duration": 10,
        "start_time": "2023-05-30T17:16:00.904Z"
      },
      {
        "duration": 26,
        "start_time": "2023-05-30T17:16:00.916Z"
      },
      {
        "duration": 42,
        "start_time": "2023-05-30T17:16:00.944Z"
      },
      {
        "duration": 41,
        "start_time": "2023-05-30T17:16:00.989Z"
      },
      {
        "duration": 34,
        "start_time": "2023-05-30T17:16:01.032Z"
      },
      {
        "duration": 71,
        "start_time": "2023-05-30T17:16:01.067Z"
      },
      {
        "duration": 177,
        "start_time": "2023-05-30T17:16:01.140Z"
      },
      {
        "duration": 25,
        "start_time": "2023-05-30T17:16:01.319Z"
      },
      {
        "duration": 373,
        "start_time": "2023-05-30T17:16:01.345Z"
      },
      {
        "duration": 559,
        "start_time": "2023-05-30T17:16:01.720Z"
      },
      {
        "duration": 14,
        "start_time": "2023-05-30T17:16:02.281Z"
      },
      {
        "duration": 79,
        "start_time": "2023-05-30T17:16:02.296Z"
      },
      {
        "duration": 239,
        "start_time": "2023-05-30T17:16:02.377Z"
      },
      {
        "duration": 14,
        "start_time": "2023-05-30T17:16:02.618Z"
      },
      {
        "duration": 68,
        "start_time": "2023-05-30T17:16:02.642Z"
      },
      {
        "duration": 18,
        "start_time": "2023-05-30T17:16:02.712Z"
      },
      {
        "duration": 32,
        "start_time": "2023-05-30T17:16:02.732Z"
      },
      {
        "duration": 67,
        "start_time": "2023-05-30T17:16:02.766Z"
      },
      {
        "duration": 13,
        "start_time": "2023-05-30T17:16:02.834Z"
      },
      {
        "duration": 6,
        "start_time": "2023-05-30T17:16:02.848Z"
      },
      {
        "duration": 1111,
        "start_time": "2023-05-30T17:16:02.856Z"
      },
      {
        "duration": 231,
        "start_time": "2023-05-30T17:16:03.969Z"
      },
      {
        "duration": 193,
        "start_time": "2023-05-30T17:16:04.202Z"
      },
      {
        "duration": 50,
        "start_time": "2023-05-30T17:16:04.400Z"
      },
      {
        "duration": 3,
        "start_time": "2023-05-30T17:16:04.451Z"
      },
      {
        "duration": 7816,
        "start_time": "2023-05-30T17:16:04.456Z"
      },
      {
        "duration": 19,
        "start_time": "2023-05-30T17:16:12.274Z"
      },
      {
        "duration": 9,
        "start_time": "2023-05-30T17:16:12.294Z"
      },
      {
        "duration": 126,
        "start_time": "2023-05-30T17:16:12.304Z"
      },
      {
        "duration": 121,
        "start_time": "2023-05-30T17:19:09.263Z"
      },
      {
        "duration": 227,
        "start_time": "2023-05-30T17:22:40.968Z"
      },
      {
        "duration": 215,
        "start_time": "2023-05-30T17:23:47.116Z"
      },
      {
        "duration": 47,
        "start_time": "2023-05-31T01:26:33.440Z"
      },
      {
        "duration": 1361,
        "start_time": "2023-05-31T01:26:38.801Z"
      },
      {
        "duration": 622,
        "start_time": "2023-05-31T01:26:40.164Z"
      },
      {
        "duration": 3,
        "start_time": "2023-05-31T01:26:40.788Z"
      },
      {
        "duration": 24,
        "start_time": "2023-05-31T01:26:40.793Z"
      },
      {
        "duration": 9,
        "start_time": "2023-05-31T01:26:40.819Z"
      },
      {
        "duration": 9,
        "start_time": "2023-05-31T01:26:40.829Z"
      },
      {
        "duration": 139,
        "start_time": "2023-05-31T01:26:40.839Z"
      },
      {
        "duration": 15,
        "start_time": "2023-05-31T01:26:40.980Z"
      },
      {
        "duration": 20,
        "start_time": "2023-05-31T01:26:40.996Z"
      },
      {
        "duration": 63,
        "start_time": "2023-05-31T01:26:41.018Z"
      },
      {
        "duration": 61,
        "start_time": "2023-05-31T01:26:41.083Z"
      },
      {
        "duration": 21,
        "start_time": "2023-05-31T01:26:41.147Z"
      },
      {
        "duration": 90,
        "start_time": "2023-05-31T01:26:41.170Z"
      },
      {
        "duration": 12,
        "start_time": "2023-05-31T01:26:41.264Z"
      },
      {
        "duration": 11,
        "start_time": "2023-05-31T01:26:41.277Z"
      },
      {
        "duration": 22,
        "start_time": "2023-05-31T01:26:41.289Z"
      },
      {
        "duration": 49,
        "start_time": "2023-05-31T01:26:41.313Z"
      },
      {
        "duration": 11,
        "start_time": "2023-05-31T01:26:41.364Z"
      },
      {
        "duration": 11,
        "start_time": "2023-05-31T01:26:41.377Z"
      },
      {
        "duration": 23,
        "start_time": "2023-05-31T01:26:41.390Z"
      },
      {
        "duration": 14,
        "start_time": "2023-05-31T01:26:41.442Z"
      },
      {
        "duration": 14,
        "start_time": "2023-05-31T01:26:41.458Z"
      },
      {
        "duration": 67,
        "start_time": "2023-05-31T01:26:41.474Z"
      },
      {
        "duration": 151,
        "start_time": "2023-05-31T01:26:41.543Z"
      },
      {
        "duration": 16,
        "start_time": "2023-05-31T01:26:41.695Z"
      },
      {
        "duration": 367,
        "start_time": "2023-05-31T01:26:41.713Z"
      },
      {
        "duration": 512,
        "start_time": "2023-05-31T01:26:42.082Z"
      },
      {
        "duration": 13,
        "start_time": "2023-05-31T01:26:42.596Z"
      },
      {
        "duration": 73,
        "start_time": "2023-05-31T01:26:42.610Z"
      },
      {
        "duration": 238,
        "start_time": "2023-05-31T01:26:42.685Z"
      },
      {
        "duration": 22,
        "start_time": "2023-05-31T01:26:42.925Z"
      },
      {
        "duration": 60,
        "start_time": "2023-05-31T01:26:42.948Z"
      },
      {
        "duration": 41,
        "start_time": "2023-05-31T01:26:43.010Z"
      },
      {
        "duration": 14,
        "start_time": "2023-05-31T01:26:43.052Z"
      },
      {
        "duration": 56,
        "start_time": "2023-05-31T01:26:43.068Z"
      },
      {
        "duration": 8,
        "start_time": "2023-05-31T01:26:43.142Z"
      },
      {
        "duration": 3,
        "start_time": "2023-05-31T01:26:43.151Z"
      },
      {
        "duration": 1091,
        "start_time": "2023-05-31T01:26:43.155Z"
      },
      {
        "duration": 222,
        "start_time": "2023-05-31T01:26:44.248Z"
      },
      {
        "duration": 190,
        "start_time": "2023-05-31T01:26:44.472Z"
      },
      {
        "duration": 38,
        "start_time": "2023-05-31T01:26:44.666Z"
      },
      {
        "duration": 3,
        "start_time": "2023-05-31T01:26:44.706Z"
      },
      {
        "duration": 7554,
        "start_time": "2023-05-31T01:26:44.711Z"
      },
      {
        "duration": 18,
        "start_time": "2023-05-31T01:26:52.267Z"
      },
      {
        "duration": 206,
        "start_time": "2023-05-31T01:26:52.287Z"
      },
      {
        "duration": 121,
        "start_time": "2023-05-31T01:26:52.495Z"
      },
      {
        "duration": 10,
        "start_time": "2023-05-31T01:38:42.560Z"
      },
      {
        "duration": 11,
        "start_time": "2023-05-31T01:39:36.520Z"
      },
      {
        "duration": 10,
        "start_time": "2023-05-31T01:39:50.270Z"
      },
      {
        "duration": 7,
        "start_time": "2023-05-31T01:40:26.329Z"
      },
      {
        "duration": 14,
        "start_time": "2023-05-31T01:40:39.130Z"
      },
      {
        "duration": 134,
        "start_time": "2023-05-31T01:43:43.335Z"
      },
      {
        "duration": 15,
        "start_time": "2023-05-31T01:45:22.910Z"
      },
      {
        "duration": 20,
        "start_time": "2023-05-31T01:46:13.921Z"
      },
      {
        "duration": 1298,
        "start_time": "2023-05-31T01:46:32.665Z"
      },
      {
        "duration": 286,
        "start_time": "2023-05-31T01:46:33.965Z"
      },
      {
        "duration": 3,
        "start_time": "2023-05-31T01:46:34.253Z"
      },
      {
        "duration": 28,
        "start_time": "2023-05-31T01:46:34.258Z"
      },
      {
        "duration": 10,
        "start_time": "2023-05-31T01:46:34.287Z"
      },
      {
        "duration": 13,
        "start_time": "2023-05-31T01:46:34.298Z"
      },
      {
        "duration": 159,
        "start_time": "2023-05-31T01:46:34.312Z"
      },
      {
        "duration": 18,
        "start_time": "2023-05-31T01:46:34.473Z"
      },
      {
        "duration": 53,
        "start_time": "2023-05-31T01:46:34.492Z"
      },
      {
        "duration": 41,
        "start_time": "2023-05-31T01:46:34.547Z"
      },
      {
        "duration": 71,
        "start_time": "2023-05-31T01:46:34.589Z"
      },
      {
        "duration": 20,
        "start_time": "2023-05-31T01:46:34.662Z"
      },
      {
        "duration": 88,
        "start_time": "2023-05-31T01:46:34.685Z"
      },
      {
        "duration": 10,
        "start_time": "2023-05-31T01:46:34.775Z"
      },
      {
        "duration": 18,
        "start_time": "2023-05-31T01:46:34.787Z"
      },
      {
        "duration": 37,
        "start_time": "2023-05-31T01:46:34.806Z"
      },
      {
        "duration": 23,
        "start_time": "2023-05-31T01:46:34.844Z"
      },
      {
        "duration": 9,
        "start_time": "2023-05-31T01:46:34.869Z"
      },
      {
        "duration": 10,
        "start_time": "2023-05-31T01:46:34.880Z"
      },
      {
        "duration": 53,
        "start_time": "2023-05-31T01:46:34.892Z"
      },
      {
        "duration": 12,
        "start_time": "2023-05-31T01:46:34.947Z"
      },
      {
        "duration": 16,
        "start_time": "2023-05-31T01:46:34.960Z"
      },
      {
        "duration": 68,
        "start_time": "2023-05-31T01:46:34.978Z"
      },
      {
        "duration": 154,
        "start_time": "2023-05-31T01:46:35.048Z"
      },
      {
        "duration": 18,
        "start_time": "2023-05-31T01:46:35.204Z"
      },
      {
        "duration": 378,
        "start_time": "2023-05-31T01:46:35.223Z"
      },
      {
        "duration": 500,
        "start_time": "2023-05-31T01:46:35.602Z"
      },
      {
        "duration": 14,
        "start_time": "2023-05-31T01:46:36.104Z"
      },
      {
        "duration": 70,
        "start_time": "2023-05-31T01:46:36.121Z"
      },
      {
        "duration": 232,
        "start_time": "2023-05-31T01:46:36.193Z"
      },
      {
        "duration": 23,
        "start_time": "2023-05-31T01:46:36.427Z"
      },
      {
        "duration": 63,
        "start_time": "2023-05-31T01:46:36.451Z"
      },
      {
        "duration": 27,
        "start_time": "2023-05-31T01:46:36.516Z"
      },
      {
        "duration": 14,
        "start_time": "2023-05-31T01:46:36.545Z"
      },
      {
        "duration": 65,
        "start_time": "2023-05-31T01:46:36.560Z"
      },
      {
        "duration": 8,
        "start_time": "2023-05-31T01:46:36.642Z"
      },
      {
        "duration": 4,
        "start_time": "2023-05-31T01:46:36.652Z"
      },
      {
        "duration": 1059,
        "start_time": "2023-05-31T01:46:36.657Z"
      },
      {
        "duration": 223,
        "start_time": "2023-05-31T01:46:37.717Z"
      },
      {
        "duration": 201,
        "start_time": "2023-05-31T01:46:37.943Z"
      },
      {
        "duration": 39,
        "start_time": "2023-05-31T01:46:38.146Z"
      },
      {
        "duration": 4,
        "start_time": "2023-05-31T01:46:38.187Z"
      },
      {
        "duration": 7933,
        "start_time": "2023-05-31T01:46:38.193Z"
      },
      {
        "duration": 23,
        "start_time": "2023-05-31T01:46:46.127Z"
      },
      {
        "duration": 874,
        "start_time": "2023-05-31T01:46:46.152Z"
      },
      {
        "duration": 0,
        "start_time": "2023-05-31T01:46:47.027Z"
      },
      {
        "duration": 0,
        "start_time": "2023-05-31T01:46:47.029Z"
      },
      {
        "duration": 15,
        "start_time": "2023-05-31T01:48:29.880Z"
      },
      {
        "duration": 8,
        "start_time": "2023-05-31T01:49:23.922Z"
      },
      {
        "duration": 10,
        "start_time": "2023-05-31T01:49:56.705Z"
      },
      {
        "duration": 11,
        "start_time": "2023-05-31T01:50:11.415Z"
      },
      {
        "duration": 17,
        "start_time": "2023-05-31T01:52:18.010Z"
      },
      {
        "duration": 17,
        "start_time": "2023-05-31T01:54:07.775Z"
      },
      {
        "duration": 1213,
        "start_time": "2023-05-31T01:54:43.034Z"
      },
      {
        "duration": 280,
        "start_time": "2023-05-31T01:54:44.249Z"
      },
      {
        "duration": 4,
        "start_time": "2023-05-31T01:54:44.531Z"
      },
      {
        "duration": 32,
        "start_time": "2023-05-31T01:54:44.537Z"
      },
      {
        "duration": 11,
        "start_time": "2023-05-31T01:54:44.571Z"
      },
      {
        "duration": 37,
        "start_time": "2023-05-31T01:54:44.583Z"
      },
      {
        "duration": 171,
        "start_time": "2023-05-31T01:54:44.622Z"
      },
      {
        "duration": 17,
        "start_time": "2023-05-31T01:54:44.795Z"
      },
      {
        "duration": 44,
        "start_time": "2023-05-31T01:54:44.814Z"
      },
      {
        "duration": 41,
        "start_time": "2023-05-31T01:54:44.860Z"
      },
      {
        "duration": 66,
        "start_time": "2023-05-31T01:54:44.903Z"
      },
      {
        "duration": 17,
        "start_time": "2023-05-31T01:54:44.971Z"
      },
      {
        "duration": 87,
        "start_time": "2023-05-31T01:54:44.991Z"
      },
      {
        "duration": 12,
        "start_time": "2023-05-31T01:54:45.080Z"
      },
      {
        "duration": 20,
        "start_time": "2023-05-31T01:54:45.093Z"
      },
      {
        "duration": 38,
        "start_time": "2023-05-31T01:54:45.115Z"
      },
      {
        "duration": 24,
        "start_time": "2023-05-31T01:54:45.154Z"
      },
      {
        "duration": 10,
        "start_time": "2023-05-31T01:54:45.179Z"
      },
      {
        "duration": 17,
        "start_time": "2023-05-31T01:54:45.191Z"
      },
      {
        "duration": 44,
        "start_time": "2023-05-31T01:54:45.209Z"
      },
      {
        "duration": 13,
        "start_time": "2023-05-31T01:54:45.254Z"
      },
      {
        "duration": 19,
        "start_time": "2023-05-31T01:54:45.269Z"
      },
      {
        "duration": 64,
        "start_time": "2023-05-31T01:54:45.290Z"
      },
      {
        "duration": 158,
        "start_time": "2023-05-31T01:54:45.355Z"
      },
      {
        "duration": 30,
        "start_time": "2023-05-31T01:54:45.515Z"
      },
      {
        "duration": 398,
        "start_time": "2023-05-31T01:54:45.547Z"
      },
      {
        "duration": 535,
        "start_time": "2023-05-31T01:54:45.948Z"
      },
      {
        "duration": 15,
        "start_time": "2023-05-31T01:54:46.485Z"
      },
      {
        "duration": 75,
        "start_time": "2023-05-31T01:54:46.502Z"
      },
      {
        "duration": 251,
        "start_time": "2023-05-31T01:54:46.579Z"
      },
      {
        "duration": 22,
        "start_time": "2023-05-31T01:54:46.831Z"
      },
      {
        "duration": 64,
        "start_time": "2023-05-31T01:54:46.855Z"
      },
      {
        "duration": 34,
        "start_time": "2023-05-31T01:54:46.921Z"
      },
      {
        "duration": 15,
        "start_time": "2023-05-31T01:54:46.957Z"
      },
      {
        "duration": 80,
        "start_time": "2023-05-31T01:54:46.974Z"
      },
      {
        "duration": 8,
        "start_time": "2023-05-31T01:54:47.056Z"
      },
      {
        "duration": 4,
        "start_time": "2023-05-31T01:54:47.066Z"
      },
      {
        "duration": 1298,
        "start_time": "2023-05-31T01:54:47.072Z"
      },
      {
        "duration": 235,
        "start_time": "2023-05-31T01:54:48.373Z"
      },
      {
        "duration": 192,
        "start_time": "2023-05-31T01:54:48.612Z"
      },
      {
        "duration": 54,
        "start_time": "2023-05-31T01:54:48.806Z"
      },
      {
        "duration": 4,
        "start_time": "2023-05-31T01:54:48.862Z"
      },
      {
        "duration": 7769,
        "start_time": "2023-05-31T01:54:48.868Z"
      },
      {
        "duration": 21,
        "start_time": "2023-05-31T01:54:56.639Z"
      },
      {
        "duration": 15,
        "start_time": "2023-05-31T01:54:56.662Z"
      },
      {
        "duration": 33,
        "start_time": "2023-05-31T01:54:56.679Z"
      },
      {
        "duration": 230,
        "start_time": "2023-05-31T01:54:56.714Z"
      },
      {
        "duration": 133,
        "start_time": "2023-05-31T01:54:56.946Z"
      },
      {
        "duration": 358,
        "start_time": "2023-05-31T01:56:37.250Z"
      },
      {
        "duration": 1246,
        "start_time": "2023-05-31T01:57:08.404Z"
      },
      {
        "duration": 290,
        "start_time": "2023-05-31T01:57:09.653Z"
      },
      {
        "duration": 4,
        "start_time": "2023-05-31T01:57:09.945Z"
      },
      {
        "duration": 20,
        "start_time": "2023-05-31T01:57:09.951Z"
      },
      {
        "duration": 10,
        "start_time": "2023-05-31T01:57:09.973Z"
      },
      {
        "duration": 11,
        "start_time": "2023-05-31T01:57:09.984Z"
      },
      {
        "duration": 157,
        "start_time": "2023-05-31T01:57:09.996Z"
      },
      {
        "duration": 16,
        "start_time": "2023-05-31T01:57:10.155Z"
      },
      {
        "duration": 25,
        "start_time": "2023-05-31T01:57:10.172Z"
      },
      {
        "duration": 65,
        "start_time": "2023-05-31T01:57:10.198Z"
      },
      {
        "duration": 41,
        "start_time": "2023-05-31T01:57:10.265Z"
      },
      {
        "duration": 36,
        "start_time": "2023-05-31T01:57:10.307Z"
      },
      {
        "duration": 73,
        "start_time": "2023-05-31T01:57:10.345Z"
      },
      {
        "duration": 26,
        "start_time": "2023-05-31T01:57:10.422Z"
      },
      {
        "duration": 11,
        "start_time": "2023-05-31T01:57:10.450Z"
      },
      {
        "duration": 23,
        "start_time": "2023-05-31T01:57:10.463Z"
      },
      {
        "duration": 23,
        "start_time": "2023-05-31T01:57:10.488Z"
      },
      {
        "duration": 13,
        "start_time": "2023-05-31T01:57:10.543Z"
      },
      {
        "duration": 12,
        "start_time": "2023-05-31T01:57:10.558Z"
      },
      {
        "duration": 24,
        "start_time": "2023-05-31T01:57:10.572Z"
      },
      {
        "duration": 46,
        "start_time": "2023-05-31T01:57:10.598Z"
      },
      {
        "duration": 17,
        "start_time": "2023-05-31T01:57:10.646Z"
      },
      {
        "duration": 40,
        "start_time": "2023-05-31T01:57:10.665Z"
      },
      {
        "duration": 164,
        "start_time": "2023-05-31T01:57:10.707Z"
      },
      {
        "duration": 17,
        "start_time": "2023-05-31T01:57:10.873Z"
      },
      {
        "duration": 368,
        "start_time": "2023-05-31T01:57:10.891Z"
      },
      {
        "duration": 544,
        "start_time": "2023-05-31T01:57:11.261Z"
      },
      {
        "duration": 13,
        "start_time": "2023-05-31T01:57:11.806Z"
      },
      {
        "duration": 76,
        "start_time": "2023-05-31T01:57:11.821Z"
      },
      {
        "duration": 250,
        "start_time": "2023-05-31T01:57:11.898Z"
      },
      {
        "duration": 14,
        "start_time": "2023-05-31T01:57:12.150Z"
      },
      {
        "duration": 60,
        "start_time": "2023-05-31T01:57:12.165Z"
      },
      {
        "duration": 20,
        "start_time": "2023-05-31T01:57:12.241Z"
      },
      {
        "duration": 13,
        "start_time": "2023-05-31T01:57:12.263Z"
      },
      {
        "duration": 81,
        "start_time": "2023-05-31T01:57:12.278Z"
      },
      {
        "duration": 10,
        "start_time": "2023-05-31T01:57:12.360Z"
      },
      {
        "duration": 4,
        "start_time": "2023-05-31T01:57:12.371Z"
      },
      {
        "duration": 1122,
        "start_time": "2023-05-31T01:57:12.377Z"
      },
      {
        "duration": 229,
        "start_time": "2023-05-31T01:57:13.501Z"
      },
      {
        "duration": 196,
        "start_time": "2023-05-31T01:57:13.731Z"
      },
      {
        "duration": 48,
        "start_time": "2023-05-31T01:57:13.930Z"
      },
      {
        "duration": 3,
        "start_time": "2023-05-31T01:57:13.980Z"
      },
      {
        "duration": 8092,
        "start_time": "2023-05-31T01:57:13.985Z"
      },
      {
        "duration": 19,
        "start_time": "2023-05-31T01:57:22.079Z"
      },
      {
        "duration": 11,
        "start_time": "2023-05-31T01:57:22.100Z"
      },
      {
        "duration": 36,
        "start_time": "2023-05-31T01:57:22.113Z"
      },
      {
        "duration": 213,
        "start_time": "2023-05-31T01:57:22.151Z"
      },
      {
        "duration": 121,
        "start_time": "2023-05-31T01:57:22.366Z"
      },
      {
        "duration": 380,
        "start_time": "2023-05-31T01:58:08.074Z"
      },
      {
        "duration": 1180,
        "start_time": "2023-05-31T01:58:25.470Z"
      },
      {
        "duration": 277,
        "start_time": "2023-05-31T01:58:26.651Z"
      },
      {
        "duration": 3,
        "start_time": "2023-05-31T01:58:26.930Z"
      },
      {
        "duration": 35,
        "start_time": "2023-05-31T01:58:26.935Z"
      },
      {
        "duration": 11,
        "start_time": "2023-05-31T01:58:26.971Z"
      },
      {
        "duration": 26,
        "start_time": "2023-05-31T01:58:26.984Z"
      },
      {
        "duration": 156,
        "start_time": "2023-05-31T01:58:27.011Z"
      },
      {
        "duration": 17,
        "start_time": "2023-05-31T01:58:27.169Z"
      },
      {
        "duration": 28,
        "start_time": "2023-05-31T01:58:27.187Z"
      },
      {
        "duration": 45,
        "start_time": "2023-05-31T01:58:27.242Z"
      },
      {
        "duration": 60,
        "start_time": "2023-05-31T01:58:27.289Z"
      },
      {
        "duration": 20,
        "start_time": "2023-05-31T01:58:27.351Z"
      },
      {
        "duration": 91,
        "start_time": "2023-05-31T01:58:27.374Z"
      },
      {
        "duration": 9,
        "start_time": "2023-05-31T01:58:27.467Z"
      },
      {
        "duration": 9,
        "start_time": "2023-05-31T01:58:27.477Z"
      },
      {
        "duration": 25,
        "start_time": "2023-05-31T01:58:27.487Z"
      },
      {
        "duration": 45,
        "start_time": "2023-05-31T01:58:27.513Z"
      },
      {
        "duration": 11,
        "start_time": "2023-05-31T01:58:27.560Z"
      },
      {
        "duration": 12,
        "start_time": "2023-05-31T01:58:27.572Z"
      },
      {
        "duration": 23,
        "start_time": "2023-05-31T01:58:27.586Z"
      },
      {
        "duration": 43,
        "start_time": "2023-05-31T01:58:27.611Z"
      },
      {
        "duration": 17,
        "start_time": "2023-05-31T01:58:27.655Z"
      },
      {
        "duration": 44,
        "start_time": "2023-05-31T01:58:27.673Z"
      },
      {
        "duration": 143,
        "start_time": "2023-05-31T01:58:27.741Z"
      },
      {
        "duration": 15,
        "start_time": "2023-05-31T01:58:27.886Z"
      },
      {
        "duration": 384,
        "start_time": "2023-05-31T01:58:27.903Z"
      },
      {
        "duration": 537,
        "start_time": "2023-05-31T01:58:28.290Z"
      },
      {
        "duration": 19,
        "start_time": "2023-05-31T01:58:28.828Z"
      },
      {
        "duration": 65,
        "start_time": "2023-05-31T01:58:28.849Z"
      },
      {
        "duration": 252,
        "start_time": "2023-05-31T01:58:28.916Z"
      },
      {
        "duration": 14,
        "start_time": "2023-05-31T01:58:29.170Z"
      },
      {
        "duration": 82,
        "start_time": "2023-05-31T01:58:29.185Z"
      },
      {
        "duration": 21,
        "start_time": "2023-05-31T01:58:29.268Z"
      },
      {
        "duration": 15,
        "start_time": "2023-05-31T01:58:29.291Z"
      },
      {
        "duration": 87,
        "start_time": "2023-05-31T01:58:29.308Z"
      },
      {
        "duration": 10,
        "start_time": "2023-05-31T01:58:29.396Z"
      },
      {
        "duration": 13,
        "start_time": "2023-05-31T01:58:29.408Z"
      },
      {
        "duration": 1089,
        "start_time": "2023-05-31T01:58:29.422Z"
      },
      {
        "duration": 232,
        "start_time": "2023-05-31T01:58:30.513Z"
      },
      {
        "duration": 204,
        "start_time": "2023-05-31T01:58:30.749Z"
      },
      {
        "duration": 38,
        "start_time": "2023-05-31T01:58:30.955Z"
      },
      {
        "duration": 7,
        "start_time": "2023-05-31T01:58:30.995Z"
      },
      {
        "duration": 7871,
        "start_time": "2023-05-31T01:58:31.004Z"
      },
      {
        "duration": 21,
        "start_time": "2023-05-31T01:58:38.876Z"
      },
      {
        "duration": 18,
        "start_time": "2023-05-31T01:58:38.898Z"
      },
      {
        "duration": 234,
        "start_time": "2023-05-31T01:58:38.917Z"
      },
      {
        "duration": 147,
        "start_time": "2023-05-31T01:58:39.153Z"
      },
      {
        "duration": 11,
        "start_time": "2023-05-31T01:59:51.319Z"
      },
      {
        "duration": 1179,
        "start_time": "2023-05-31T02:29:11.569Z"
      },
      {
        "duration": 284,
        "start_time": "2023-05-31T02:29:12.750Z"
      },
      {
        "duration": 4,
        "start_time": "2023-05-31T02:29:13.036Z"
      },
      {
        "duration": 27,
        "start_time": "2023-05-31T02:29:13.042Z"
      },
      {
        "duration": 11,
        "start_time": "2023-05-31T02:29:13.071Z"
      },
      {
        "duration": 11,
        "start_time": "2023-05-31T02:29:13.084Z"
      },
      {
        "duration": 163,
        "start_time": "2023-05-31T02:29:13.097Z"
      },
      {
        "duration": 17,
        "start_time": "2023-05-31T02:29:13.262Z"
      },
      {
        "duration": 24,
        "start_time": "2023-05-31T02:29:13.281Z"
      },
      {
        "duration": 71,
        "start_time": "2023-05-31T02:29:13.306Z"
      },
      {
        "duration": 73,
        "start_time": "2023-05-31T02:29:13.379Z"
      },
      {
        "duration": 17,
        "start_time": "2023-05-31T02:29:13.454Z"
      },
      {
        "duration": 86,
        "start_time": "2023-05-31T02:29:13.473Z"
      },
      {
        "duration": 12,
        "start_time": "2023-05-31T02:29:13.562Z"
      },
      {
        "duration": 10,
        "start_time": "2023-05-31T02:29:13.575Z"
      },
      {
        "duration": 24,
        "start_time": "2023-05-31T02:29:13.586Z"
      },
      {
        "duration": 23,
        "start_time": "2023-05-31T02:29:13.642Z"
      },
      {
        "duration": 10,
        "start_time": "2023-05-31T02:29:13.666Z"
      },
      {
        "duration": 14,
        "start_time": "2023-05-31T02:29:13.677Z"
      },
      {
        "duration": 53,
        "start_time": "2023-05-31T02:29:13.692Z"
      },
      {
        "duration": 13,
        "start_time": "2023-05-31T02:29:13.747Z"
      },
      {
        "duration": 16,
        "start_time": "2023-05-31T02:29:13.761Z"
      },
      {
        "duration": 74,
        "start_time": "2023-05-31T02:29:13.779Z"
      },
      {
        "duration": 157,
        "start_time": "2023-05-31T02:29:13.856Z"
      },
      {
        "duration": 17,
        "start_time": "2023-05-31T02:29:14.015Z"
      },
      {
        "duration": 398,
        "start_time": "2023-05-31T02:29:14.042Z"
      },
      {
        "duration": 534,
        "start_time": "2023-05-31T02:29:14.442Z"
      },
      {
        "duration": 14,
        "start_time": "2023-05-31T02:29:14.978Z"
      },
      {
        "duration": 74,
        "start_time": "2023-05-31T02:29:14.995Z"
      },
      {
        "duration": 236,
        "start_time": "2023-05-31T02:29:15.071Z"
      },
      {
        "duration": 15,
        "start_time": "2023-05-31T02:29:15.309Z"
      },
      {
        "duration": 70,
        "start_time": "2023-05-31T02:29:15.326Z"
      },
      {
        "duration": 47,
        "start_time": "2023-05-31T02:29:15.397Z"
      },
      {
        "duration": 15,
        "start_time": "2023-05-31T02:29:15.446Z"
      },
      {
        "duration": 79,
        "start_time": "2023-05-31T02:29:15.463Z"
      },
      {
        "duration": 8,
        "start_time": "2023-05-31T02:29:15.544Z"
      },
      {
        "duration": 4,
        "start_time": "2023-05-31T02:29:15.554Z"
      },
      {
        "duration": 1038,
        "start_time": "2023-05-31T02:29:15.560Z"
      },
      {
        "duration": 222,
        "start_time": "2023-05-31T02:29:16.600Z"
      },
      {
        "duration": 190,
        "start_time": "2023-05-31T02:29:16.824Z"
      },
      {
        "duration": 46,
        "start_time": "2023-05-31T02:29:17.017Z"
      },
      {
        "duration": 3,
        "start_time": "2023-05-31T02:29:17.065Z"
      },
      {
        "duration": 7531,
        "start_time": "2023-05-31T02:29:17.069Z"
      },
      {
        "duration": 171,
        "start_time": "2023-05-31T02:29:24.602Z"
      },
      {
        "duration": 0,
        "start_time": "2023-05-31T02:29:24.775Z"
      },
      {
        "duration": 0,
        "start_time": "2023-05-31T02:29:24.776Z"
      },
      {
        "duration": 0,
        "start_time": "2023-05-31T02:29:24.777Z"
      },
      {
        "duration": 0,
        "start_time": "2023-05-31T02:29:24.778Z"
      },
      {
        "duration": 27,
        "start_time": "2023-05-31T02:30:48.194Z"
      },
      {
        "duration": 1205,
        "start_time": "2023-05-31T02:31:05.358Z"
      },
      {
        "duration": 268,
        "start_time": "2023-05-31T02:31:06.566Z"
      },
      {
        "duration": 4,
        "start_time": "2023-05-31T02:31:06.835Z"
      },
      {
        "duration": 22,
        "start_time": "2023-05-31T02:31:06.840Z"
      },
      {
        "duration": 10,
        "start_time": "2023-05-31T02:31:06.864Z"
      },
      {
        "duration": 11,
        "start_time": "2023-05-31T02:31:06.875Z"
      },
      {
        "duration": 156,
        "start_time": "2023-05-31T02:31:06.888Z"
      },
      {
        "duration": 18,
        "start_time": "2023-05-31T02:31:07.046Z"
      },
      {
        "duration": 28,
        "start_time": "2023-05-31T02:31:07.066Z"
      },
      {
        "duration": 70,
        "start_time": "2023-05-31T02:31:07.095Z"
      },
      {
        "duration": 43,
        "start_time": "2023-05-31T02:31:07.167Z"
      },
      {
        "duration": 37,
        "start_time": "2023-05-31T02:31:07.212Z"
      },
      {
        "duration": 74,
        "start_time": "2023-05-31T02:31:07.251Z"
      },
      {
        "duration": 23,
        "start_time": "2023-05-31T02:31:07.328Z"
      },
      {
        "duration": 14,
        "start_time": "2023-05-31T02:31:07.354Z"
      },
      {
        "duration": 23,
        "start_time": "2023-05-31T02:31:07.369Z"
      },
      {
        "duration": 49,
        "start_time": "2023-05-31T02:31:07.394Z"
      },
      {
        "duration": 13,
        "start_time": "2023-05-31T02:31:07.445Z"
      },
      {
        "duration": 10,
        "start_time": "2023-05-31T02:31:07.460Z"
      },
      {
        "duration": 25,
        "start_time": "2023-05-31T02:31:07.472Z"
      },
      {
        "duration": 45,
        "start_time": "2023-05-31T02:31:07.499Z"
      },
      {
        "duration": 25,
        "start_time": "2023-05-31T02:31:07.547Z"
      },
      {
        "duration": 66,
        "start_time": "2023-05-31T02:31:07.576Z"
      },
      {
        "duration": 147,
        "start_time": "2023-05-31T02:31:07.643Z"
      },
      {
        "duration": 18,
        "start_time": "2023-05-31T02:31:07.791Z"
      },
      {
        "duration": 413,
        "start_time": "2023-05-31T02:31:07.810Z"
      },
      {
        "duration": 527,
        "start_time": "2023-05-31T02:31:08.225Z"
      },
      {
        "duration": 13,
        "start_time": "2023-05-31T02:31:08.754Z"
      },
      {
        "duration": 80,
        "start_time": "2023-05-31T02:31:08.769Z"
      },
      {
        "duration": 226,
        "start_time": "2023-05-31T02:31:08.850Z"
      },
      {
        "duration": 14,
        "start_time": "2023-05-31T02:31:09.078Z"
      },
      {
        "duration": 75,
        "start_time": "2023-05-31T02:31:09.093Z"
      },
      {
        "duration": 18,
        "start_time": "2023-05-31T02:31:09.170Z"
      },
      {
        "duration": 16,
        "start_time": "2023-05-31T02:31:09.191Z"
      },
      {
        "duration": 99,
        "start_time": "2023-05-31T02:31:09.208Z"
      },
      {
        "duration": 9,
        "start_time": "2023-05-31T02:31:09.309Z"
      },
      {
        "duration": 22,
        "start_time": "2023-05-31T02:31:09.320Z"
      },
      {
        "duration": 1071,
        "start_time": "2023-05-31T02:31:09.344Z"
      },
      {
        "duration": 231,
        "start_time": "2023-05-31T02:31:10.417Z"
      },
      {
        "duration": 195,
        "start_time": "2023-05-31T02:31:10.649Z"
      },
      {
        "duration": 40,
        "start_time": "2023-05-31T02:31:10.848Z"
      },
      {
        "duration": 4,
        "start_time": "2023-05-31T02:31:10.890Z"
      },
      {
        "duration": 7855,
        "start_time": "2023-05-31T02:31:10.896Z"
      },
      {
        "duration": 164,
        "start_time": "2023-05-31T02:31:18.753Z"
      },
      {
        "duration": 0,
        "start_time": "2023-05-31T02:31:18.919Z"
      },
      {
        "duration": 0,
        "start_time": "2023-05-31T02:31:18.920Z"
      },
      {
        "duration": 0,
        "start_time": "2023-05-31T02:31:18.921Z"
      },
      {
        "duration": 46,
        "start_time": "2023-05-31T02:31:35.966Z"
      },
      {
        "duration": 214,
        "start_time": "2023-05-31T02:31:55.465Z"
      },
      {
        "duration": 114,
        "start_time": "2023-05-31T02:31:59.010Z"
      },
      {
        "duration": 7610,
        "start_time": "2023-05-31T02:33:53.260Z"
      },
      {
        "duration": 12559,
        "start_time": "2023-05-31T02:36:36.641Z"
      },
      {
        "duration": 1314,
        "start_time": "2023-05-31T02:37:02.831Z"
      },
      {
        "duration": 268,
        "start_time": "2023-05-31T02:37:04.148Z"
      },
      {
        "duration": 4,
        "start_time": "2023-05-31T02:37:04.418Z"
      },
      {
        "duration": 29,
        "start_time": "2023-05-31T02:37:04.425Z"
      },
      {
        "duration": 14,
        "start_time": "2023-05-31T02:37:04.457Z"
      },
      {
        "duration": 16,
        "start_time": "2023-05-31T02:37:04.473Z"
      },
      {
        "duration": 159,
        "start_time": "2023-05-31T02:37:04.491Z"
      },
      {
        "duration": 19,
        "start_time": "2023-05-31T02:37:04.651Z"
      },
      {
        "duration": 22,
        "start_time": "2023-05-31T02:37:04.672Z"
      },
      {
        "duration": 68,
        "start_time": "2023-05-31T02:37:04.696Z"
      },
      {
        "duration": 47,
        "start_time": "2023-05-31T02:37:04.766Z"
      },
      {
        "duration": 38,
        "start_time": "2023-05-31T02:37:04.815Z"
      },
      {
        "duration": 71,
        "start_time": "2023-05-31T02:37:04.855Z"
      },
      {
        "duration": 15,
        "start_time": "2023-05-31T02:37:04.929Z"
      },
      {
        "duration": 10,
        "start_time": "2023-05-31T02:37:04.946Z"
      },
      {
        "duration": 24,
        "start_time": "2023-05-31T02:37:04.958Z"
      },
      {
        "duration": 22,
        "start_time": "2023-05-31T02:37:04.983Z"
      },
      {
        "duration": 45,
        "start_time": "2023-05-31T02:37:05.007Z"
      },
      {
        "duration": 76,
        "start_time": "2023-05-31T02:37:05.054Z"
      },
      {
        "duration": 81,
        "start_time": "2023-05-31T02:37:05.132Z"
      },
      {
        "duration": 14,
        "start_time": "2023-05-31T02:37:05.215Z"
      },
      {
        "duration": 15,
        "start_time": "2023-05-31T02:37:05.231Z"
      },
      {
        "duration": 43,
        "start_time": "2023-05-31T02:37:05.248Z"
      },
      {
        "duration": 157,
        "start_time": "2023-05-31T02:37:05.292Z"
      },
      {
        "duration": 16,
        "start_time": "2023-05-31T02:37:05.451Z"
      },
      {
        "duration": 397,
        "start_time": "2023-05-31T02:37:05.469Z"
      },
      {
        "duration": 534,
        "start_time": "2023-05-31T02:37:05.867Z"
      },
      {
        "duration": 15,
        "start_time": "2023-05-31T02:37:06.403Z"
      },
      {
        "duration": 68,
        "start_time": "2023-05-31T02:37:06.420Z"
      },
      {
        "duration": 234,
        "start_time": "2023-05-31T02:37:06.490Z"
      },
      {
        "duration": 21,
        "start_time": "2023-05-31T02:37:06.727Z"
      },
      {
        "duration": 63,
        "start_time": "2023-05-31T02:37:06.750Z"
      },
      {
        "duration": 37,
        "start_time": "2023-05-31T02:37:06.815Z"
      },
      {
        "duration": 15,
        "start_time": "2023-05-31T02:37:06.854Z"
      },
      {
        "duration": 79,
        "start_time": "2023-05-31T02:37:06.870Z"
      },
      {
        "duration": 9,
        "start_time": "2023-05-31T02:37:06.950Z"
      },
      {
        "duration": 7,
        "start_time": "2023-05-31T02:37:06.961Z"
      },
      {
        "duration": 1137,
        "start_time": "2023-05-31T02:37:06.969Z"
      },
      {
        "duration": 323,
        "start_time": "2023-05-31T02:37:08.108Z"
      },
      {
        "duration": 197,
        "start_time": "2023-05-31T02:37:08.434Z"
      },
      {
        "duration": 40,
        "start_time": "2023-05-31T02:37:08.635Z"
      },
      {
        "duration": 15301,
        "start_time": "2023-05-31T02:37:08.677Z"
      },
      {
        "duration": 31,
        "start_time": "2023-05-31T02:37:23.980Z"
      },
      {
        "duration": 262,
        "start_time": "2023-05-31T02:37:24.012Z"
      },
      {
        "duration": 127,
        "start_time": "2023-05-31T02:37:24.276Z"
      },
      {
        "duration": 1373,
        "start_time": "2023-05-31T11:54:20.254Z"
      },
      {
        "duration": 741,
        "start_time": "2023-05-31T11:54:21.630Z"
      },
      {
        "duration": 4,
        "start_time": "2023-05-31T11:54:22.373Z"
      },
      {
        "duration": 18,
        "start_time": "2023-05-31T11:54:22.378Z"
      },
      {
        "duration": 8,
        "start_time": "2023-05-31T11:54:22.398Z"
      },
      {
        "duration": 13,
        "start_time": "2023-05-31T11:54:22.408Z"
      },
      {
        "duration": 129,
        "start_time": "2023-05-31T11:54:22.423Z"
      },
      {
        "duration": 15,
        "start_time": "2023-05-31T11:54:22.554Z"
      },
      {
        "duration": 19,
        "start_time": "2023-05-31T11:54:22.585Z"
      },
      {
        "duration": 37,
        "start_time": "2023-05-31T11:54:22.606Z"
      },
      {
        "duration": 59,
        "start_time": "2023-05-31T11:54:22.644Z"
      },
      {
        "duration": 15,
        "start_time": "2023-05-31T11:54:22.704Z"
      },
      {
        "duration": 71,
        "start_time": "2023-05-31T11:54:22.720Z"
      },
      {
        "duration": 8,
        "start_time": "2023-05-31T11:54:22.794Z"
      },
      {
        "duration": 14,
        "start_time": "2023-05-31T11:54:22.803Z"
      },
      {
        "duration": 21,
        "start_time": "2023-05-31T11:54:22.818Z"
      },
      {
        "duration": 20,
        "start_time": "2023-05-31T11:54:22.840Z"
      },
      {
        "duration": 31,
        "start_time": "2023-05-31T11:54:22.861Z"
      },
      {
        "duration": 8,
        "start_time": "2023-05-31T11:54:22.893Z"
      },
      {
        "duration": 19,
        "start_time": "2023-05-31T11:54:22.903Z"
      },
      {
        "duration": 9,
        "start_time": "2023-05-31T11:54:22.924Z"
      },
      {
        "duration": 17,
        "start_time": "2023-05-31T11:54:22.934Z"
      },
      {
        "duration": 59,
        "start_time": "2023-05-31T11:54:22.952Z"
      },
      {
        "duration": 128,
        "start_time": "2023-05-31T11:54:23.013Z"
      },
      {
        "duration": 15,
        "start_time": "2023-05-31T11:54:23.143Z"
      },
      {
        "duration": 448,
        "start_time": "2023-05-31T11:54:23.159Z"
      },
      {
        "duration": 451,
        "start_time": "2023-05-31T11:54:23.608Z"
      },
      {
        "duration": 11,
        "start_time": "2023-05-31T11:54:24.061Z"
      },
      {
        "duration": 65,
        "start_time": "2023-05-31T11:54:24.074Z"
      },
      {
        "duration": 231,
        "start_time": "2023-05-31T11:54:24.140Z"
      },
      {
        "duration": 21,
        "start_time": "2023-05-31T11:54:24.373Z"
      },
      {
        "duration": 56,
        "start_time": "2023-05-31T11:54:24.395Z"
      },
      {
        "duration": 33,
        "start_time": "2023-05-31T11:54:24.452Z"
      },
      {
        "duration": 13,
        "start_time": "2023-05-31T11:54:24.486Z"
      },
      {
        "duration": 68,
        "start_time": "2023-05-31T11:54:24.500Z"
      },
      {
        "duration": 15,
        "start_time": "2023-05-31T11:54:24.570Z"
      },
      {
        "duration": 3,
        "start_time": "2023-05-31T11:54:24.586Z"
      },
      {
        "duration": 886,
        "start_time": "2023-05-31T11:54:24.591Z"
      },
      {
        "duration": 203,
        "start_time": "2023-05-31T11:54:25.478Z"
      },
      {
        "duration": 180,
        "start_time": "2023-05-31T11:54:25.682Z"
      },
      {
        "duration": 38,
        "start_time": "2023-05-31T11:54:25.865Z"
      },
      {
        "duration": 7561,
        "start_time": "2023-05-31T11:54:25.904Z"
      },
      {
        "duration": 34,
        "start_time": "2023-05-31T11:54:33.467Z"
      },
      {
        "duration": 199,
        "start_time": "2023-05-31T11:54:33.503Z"
      },
      {
        "duration": 129,
        "start_time": "2023-05-31T11:54:33.703Z"
      },
      {
        "duration": 21,
        "start_time": "2023-05-31T11:56:46.391Z"
      },
      {
        "duration": 22,
        "start_time": "2023-05-31T11:57:31.681Z"
      },
      {
        "duration": 12,
        "start_time": "2023-05-31T11:59:26.584Z"
      },
      {
        "duration": 12,
        "start_time": "2023-05-31T11:59:39.434Z"
      },
      {
        "duration": 1116,
        "start_time": "2023-05-31T12:01:32.607Z"
      },
      {
        "duration": 230,
        "start_time": "2023-05-31T12:01:33.725Z"
      },
      {
        "duration": 3,
        "start_time": "2023-05-31T12:01:33.956Z"
      },
      {
        "duration": 24,
        "start_time": "2023-05-31T12:01:33.961Z"
      },
      {
        "duration": 11,
        "start_time": "2023-05-31T12:01:33.987Z"
      },
      {
        "duration": 15,
        "start_time": "2023-05-31T12:01:34.000Z"
      },
      {
        "duration": 131,
        "start_time": "2023-05-31T12:01:34.016Z"
      },
      {
        "duration": 13,
        "start_time": "2023-05-31T12:01:34.149Z"
      },
      {
        "duration": 31,
        "start_time": "2023-05-31T12:01:34.163Z"
      },
      {
        "duration": 38,
        "start_time": "2023-05-31T12:01:34.195Z"
      },
      {
        "duration": 51,
        "start_time": "2023-05-31T12:01:34.235Z"
      },
      {
        "duration": 18,
        "start_time": "2023-05-31T12:01:34.288Z"
      },
      {
        "duration": 60,
        "start_time": "2023-05-31T12:01:34.308Z"
      },
      {
        "duration": 17,
        "start_time": "2023-05-31T12:01:34.390Z"
      },
      {
        "duration": 19,
        "start_time": "2023-05-31T12:01:34.409Z"
      },
      {
        "duration": 29,
        "start_time": "2023-05-31T12:01:34.430Z"
      },
      {
        "duration": 20,
        "start_time": "2023-05-31T12:01:34.460Z"
      },
      {
        "duration": 10,
        "start_time": "2023-05-31T12:01:34.481Z"
      },
      {
        "duration": 7,
        "start_time": "2023-05-31T12:01:34.492Z"
      },
      {
        "duration": 24,
        "start_time": "2023-05-31T12:01:34.501Z"
      },
      {
        "duration": 10,
        "start_time": "2023-05-31T12:01:34.526Z"
      },
      {
        "duration": 20,
        "start_time": "2023-05-31T12:01:34.537Z"
      },
      {
        "duration": 54,
        "start_time": "2023-05-31T12:01:34.558Z"
      },
      {
        "duration": 131,
        "start_time": "2023-05-31T12:01:34.613Z"
      },
      {
        "duration": 14,
        "start_time": "2023-05-31T12:01:34.746Z"
      },
      {
        "duration": 354,
        "start_time": "2023-05-31T12:01:34.761Z"
      },
      {
        "duration": 429,
        "start_time": "2023-05-31T12:01:35.117Z"
      },
      {
        "duration": 12,
        "start_time": "2023-05-31T12:01:35.548Z"
      },
      {
        "duration": 82,
        "start_time": "2023-05-31T12:01:35.562Z"
      },
      {
        "duration": 210,
        "start_time": "2023-05-31T12:01:35.645Z"
      },
      {
        "duration": 12,
        "start_time": "2023-05-31T12:01:35.856Z"
      },
      {
        "duration": 65,
        "start_time": "2023-05-31T12:01:35.870Z"
      },
      {
        "duration": 15,
        "start_time": "2023-05-31T12:01:35.937Z"
      },
      {
        "duration": 18,
        "start_time": "2023-05-31T12:01:35.953Z"
      },
      {
        "duration": 56,
        "start_time": "2023-05-31T12:01:35.984Z"
      },
      {
        "duration": 8,
        "start_time": "2023-05-31T12:01:36.041Z"
      },
      {
        "duration": 10,
        "start_time": "2023-05-31T12:01:36.051Z"
      },
      {
        "duration": 1018,
        "start_time": "2023-05-31T12:01:36.063Z"
      },
      {
        "duration": 201,
        "start_time": "2023-05-31T12:01:37.083Z"
      },
      {
        "duration": 188,
        "start_time": "2023-05-31T12:01:37.286Z"
      },
      {
        "duration": 35,
        "start_time": "2023-05-31T12:01:37.484Z"
      },
      {
        "duration": 18,
        "start_time": "2023-05-31T12:01:37.520Z"
      },
      {
        "duration": 7356,
        "start_time": "2023-05-31T12:01:37.540Z"
      },
      {
        "duration": 16,
        "start_time": "2023-05-31T12:01:44.897Z"
      },
      {
        "duration": 26,
        "start_time": "2023-05-31T12:01:44.915Z"
      },
      {
        "duration": 195,
        "start_time": "2023-05-31T12:01:44.943Z"
      },
      {
        "duration": 115,
        "start_time": "2023-05-31T12:01:45.139Z"
      },
      {
        "duration": 19,
        "start_time": "2023-05-31T12:01:52.379Z"
      },
      {
        "duration": 5,
        "start_time": "2023-05-31T12:04:19.097Z"
      },
      {
        "duration": 1320,
        "start_time": "2023-05-31T12:04:57.012Z"
      },
      {
        "duration": 254,
        "start_time": "2023-05-31T12:04:58.334Z"
      },
      {
        "duration": 4,
        "start_time": "2023-05-31T12:04:58.590Z"
      },
      {
        "duration": 31,
        "start_time": "2023-05-31T12:04:58.595Z"
      },
      {
        "duration": 10,
        "start_time": "2023-05-31T12:04:58.628Z"
      },
      {
        "duration": 32,
        "start_time": "2023-05-31T12:04:58.639Z"
      },
      {
        "duration": 170,
        "start_time": "2023-05-31T12:04:58.673Z"
      },
      {
        "duration": 17,
        "start_time": "2023-05-31T12:04:58.844Z"
      },
      {
        "duration": 45,
        "start_time": "2023-05-31T12:04:58.863Z"
      },
      {
        "duration": 62,
        "start_time": "2023-05-31T12:04:58.910Z"
      },
      {
        "duration": 87,
        "start_time": "2023-05-31T12:04:58.974Z"
      },
      {
        "duration": 25,
        "start_time": "2023-05-31T12:04:59.062Z"
      },
      {
        "duration": 83,
        "start_time": "2023-05-31T12:04:59.088Z"
      },
      {
        "duration": 14,
        "start_time": "2023-05-31T12:04:59.174Z"
      },
      {
        "duration": 23,
        "start_time": "2023-05-31T12:04:59.189Z"
      },
      {
        "duration": 45,
        "start_time": "2023-05-31T12:04:59.214Z"
      },
      {
        "duration": 26,
        "start_time": "2023-05-31T12:04:59.262Z"
      },
      {
        "duration": 30,
        "start_time": "2023-05-31T12:04:59.290Z"
      },
      {
        "duration": 12,
        "start_time": "2023-05-31T12:04:59.321Z"
      },
      {
        "duration": 59,
        "start_time": "2023-05-31T12:04:59.334Z"
      },
      {
        "duration": 18,
        "start_time": "2023-05-31T12:04:59.395Z"
      },
      {
        "duration": 32,
        "start_time": "2023-05-31T12:04:59.415Z"
      },
      {
        "duration": 37,
        "start_time": "2023-05-31T12:04:59.448Z"
      },
      {
        "duration": 124,
        "start_time": "2023-05-31T12:04:59.487Z"
      },
      {
        "duration": 14,
        "start_time": "2023-05-31T12:04:59.613Z"
      },
      {
        "duration": 363,
        "start_time": "2023-05-31T12:04:59.628Z"
      },
      {
        "duration": 510,
        "start_time": "2023-05-31T12:04:59.993Z"
      },
      {
        "duration": 12,
        "start_time": "2023-05-31T12:05:00.505Z"
      },
      {
        "duration": 99,
        "start_time": "2023-05-31T12:05:00.519Z"
      },
      {
        "duration": 224,
        "start_time": "2023-05-31T12:05:00.620Z"
      },
      {
        "duration": 16,
        "start_time": "2023-05-31T12:05:00.845Z"
      },
      {
        "duration": 87,
        "start_time": "2023-05-31T12:05:00.863Z"
      },
      {
        "duration": 36,
        "start_time": "2023-05-31T12:05:00.952Z"
      },
      {
        "duration": 34,
        "start_time": "2023-05-31T12:05:00.989Z"
      },
      {
        "duration": 147,
        "start_time": "2023-05-31T12:05:01.024Z"
      },
      {
        "duration": 60,
        "start_time": "2023-05-31T12:05:01.187Z"
      },
      {
        "duration": 78,
        "start_time": "2023-05-31T12:05:01.249Z"
      },
      {
        "duration": 1041,
        "start_time": "2023-05-31T12:05:01.328Z"
      },
      {
        "duration": 211,
        "start_time": "2023-05-31T12:05:02.371Z"
      },
      {
        "duration": 190,
        "start_time": "2023-05-31T12:05:02.587Z"
      },
      {
        "duration": 35,
        "start_time": "2023-05-31T12:05:02.786Z"
      },
      {
        "duration": 114,
        "start_time": "2023-05-31T12:05:02.822Z"
      },
      {
        "duration": 7473,
        "start_time": "2023-05-31T12:05:02.938Z"
      },
      {
        "duration": 5,
        "start_time": "2023-05-31T12:05:10.413Z"
      },
      {
        "duration": 178,
        "start_time": "2023-05-31T12:05:10.420Z"
      },
      {
        "duration": 226,
        "start_time": "2023-05-31T12:05:10.600Z"
      },
      {
        "duration": 118,
        "start_time": "2023-05-31T12:05:10.827Z"
      },
      {
        "duration": 53,
        "start_time": "2023-05-31T12:25:17.108Z"
      },
      {
        "duration": 59,
        "start_time": "2023-05-31T12:25:31.034Z"
      },
      {
        "duration": 160,
        "start_time": "2023-05-31T12:26:29.642Z"
      },
      {
        "duration": 8,
        "start_time": "2023-05-31T12:26:52.844Z"
      },
      {
        "duration": 48,
        "start_time": "2023-05-31T12:27:04.808Z"
      },
      {
        "duration": 49,
        "start_time": "2023-05-31T12:27:53.688Z"
      },
      {
        "duration": 51,
        "start_time": "2023-05-31T12:27:59.728Z"
      },
      {
        "duration": 19,
        "start_time": "2023-05-31T12:28:25.676Z"
      },
      {
        "duration": 20,
        "start_time": "2023-05-31T12:28:32.003Z"
      },
      {
        "duration": 64,
        "start_time": "2023-05-31T12:28:39.892Z"
      },
      {
        "duration": 49,
        "start_time": "2023-05-31T12:30:01.896Z"
      },
      {
        "duration": 50,
        "start_time": "2023-05-31T12:30:35.472Z"
      },
      {
        "duration": 69,
        "start_time": "2023-05-31T12:33:52.113Z"
      },
      {
        "duration": 52,
        "start_time": "2023-05-31T12:33:59.808Z"
      },
      {
        "duration": 163,
        "start_time": "2023-05-31T12:34:06.300Z"
      },
      {
        "duration": 59,
        "start_time": "2023-05-31T12:35:23.100Z"
      },
      {
        "duration": 9,
        "start_time": "2023-05-31T12:37:02.933Z"
      },
      {
        "duration": 9,
        "start_time": "2023-05-31T12:37:13.393Z"
      },
      {
        "duration": 138,
        "start_time": "2023-05-31T12:38:00.763Z"
      },
      {
        "duration": 122,
        "start_time": "2023-05-31T12:42:24.113Z"
      },
      {
        "duration": 137,
        "start_time": "2023-05-31T12:43:09.879Z"
      },
      {
        "duration": 75,
        "start_time": "2023-05-31T12:43:39.234Z"
      },
      {
        "duration": 18,
        "start_time": "2023-05-31T12:44:01.599Z"
      },
      {
        "duration": 121,
        "start_time": "2023-05-31T12:44:35.759Z"
      },
      {
        "duration": 74,
        "start_time": "2023-05-31T12:45:04.524Z"
      },
      {
        "duration": 128,
        "start_time": "2023-05-31T12:47:37.891Z"
      },
      {
        "duration": 174,
        "start_time": "2023-05-31T12:48:44.744Z"
      },
      {
        "duration": 154,
        "start_time": "2023-05-31T12:49:43.474Z"
      },
      {
        "duration": 136,
        "start_time": "2023-05-31T12:49:47.627Z"
      },
      {
        "duration": 149,
        "start_time": "2023-05-31T12:51:53.082Z"
      },
      {
        "duration": 142,
        "start_time": "2023-05-31T12:52:19.538Z"
      },
      {
        "duration": 150,
        "start_time": "2023-05-31T12:52:28.660Z"
      },
      {
        "duration": 7182,
        "start_time": "2023-05-31T12:54:53.084Z"
      },
      {
        "duration": 4,
        "start_time": "2023-05-31T12:56:10.221Z"
      },
      {
        "duration": 151,
        "start_time": "2023-05-31T13:00:07.520Z"
      },
      {
        "duration": 10,
        "start_time": "2023-05-31T13:04:03.166Z"
      },
      {
        "duration": 12,
        "start_time": "2023-05-31T13:08:04.430Z"
      },
      {
        "duration": 1287,
        "start_time": "2023-05-31T13:08:31.715Z"
      },
      {
        "duration": 16,
        "start_time": "2023-05-31T13:09:08.295Z"
      },
      {
        "duration": 15,
        "start_time": "2023-05-31T13:09:36.398Z"
      },
      {
        "duration": 14,
        "start_time": "2023-05-31T13:09:47.687Z"
      },
      {
        "duration": 24,
        "start_time": "2023-05-31T13:11:23.603Z"
      },
      {
        "duration": 19,
        "start_time": "2023-05-31T13:11:50.107Z"
      },
      {
        "duration": 14,
        "start_time": "2023-05-31T13:11:58.732Z"
      },
      {
        "duration": 15,
        "start_time": "2023-05-31T13:14:55.598Z"
      },
      {
        "duration": 15,
        "start_time": "2023-05-31T13:15:10.456Z"
      },
      {
        "duration": 69,
        "start_time": "2023-05-31T13:16:26.356Z"
      },
      {
        "duration": 17,
        "start_time": "2023-05-31T13:17:07.952Z"
      },
      {
        "duration": 26,
        "start_time": "2023-05-31T13:17:18.365Z"
      },
      {
        "duration": 88,
        "start_time": "2023-05-31T13:17:30.375Z"
      },
      {
        "duration": 26,
        "start_time": "2023-05-31T13:18:07.353Z"
      },
      {
        "duration": 11,
        "start_time": "2023-05-31T13:18:46.605Z"
      },
      {
        "duration": 12,
        "start_time": "2023-05-31T13:20:02.632Z"
      },
      {
        "duration": 13,
        "start_time": "2023-05-31T13:20:15.373Z"
      },
      {
        "duration": 46,
        "start_time": "2023-05-31T13:20:55.276Z"
      },
      {
        "duration": 76,
        "start_time": "2023-05-31T13:21:37.771Z"
      },
      {
        "duration": 48,
        "start_time": "2023-05-31T13:21:49.783Z"
      },
      {
        "duration": 130,
        "start_time": "2023-05-31T13:22:30.748Z"
      },
      {
        "duration": 55,
        "start_time": "2023-05-31T13:23:31.811Z"
      },
      {
        "duration": 55,
        "start_time": "2023-05-31T13:23:55.612Z"
      },
      {
        "duration": 71,
        "start_time": "2023-05-31T13:24:34.452Z"
      },
      {
        "duration": 50,
        "start_time": "2023-05-31T13:24:40.029Z"
      },
      {
        "duration": 48,
        "start_time": "2023-05-31T13:25:01.257Z"
      },
      {
        "duration": 58,
        "start_time": "2023-05-31T13:26:22.249Z"
      },
      {
        "duration": 54,
        "start_time": "2023-05-31T13:26:47.462Z"
      },
      {
        "duration": 56,
        "start_time": "2023-05-31T13:27:00.405Z"
      },
      {
        "duration": 145,
        "start_time": "2023-05-31T13:28:31.692Z"
      },
      {
        "duration": 143,
        "start_time": "2023-05-31T13:28:50.889Z"
      },
      {
        "duration": 195,
        "start_time": "2023-05-31T13:30:01.595Z"
      },
      {
        "duration": 184,
        "start_time": "2023-05-31T13:31:18.094Z"
      },
      {
        "duration": 189,
        "start_time": "2023-05-31T13:31:30.053Z"
      },
      {
        "duration": 186,
        "start_time": "2023-05-31T13:31:37.293Z"
      },
      {
        "duration": 188,
        "start_time": "2023-05-31T13:32:00.941Z"
      },
      {
        "duration": 188,
        "start_time": "2023-05-31T13:32:10.548Z"
      },
      {
        "duration": 185,
        "start_time": "2023-05-31T13:32:20.639Z"
      },
      {
        "duration": 207,
        "start_time": "2023-05-31T13:32:32.313Z"
      },
      {
        "duration": 187,
        "start_time": "2023-05-31T13:32:38.104Z"
      },
      {
        "duration": 139,
        "start_time": "2023-05-31T13:34:18.375Z"
      },
      {
        "duration": 12,
        "start_time": "2023-05-31T13:34:59.603Z"
      },
      {
        "duration": 55,
        "start_time": "2023-05-31T13:35:03.089Z"
      },
      {
        "duration": 154,
        "start_time": "2023-05-31T13:35:05.623Z"
      },
      {
        "duration": 130,
        "start_time": "2023-05-31T13:35:22.739Z"
      },
      {
        "duration": 230,
        "start_time": "2023-05-31T13:35:31.814Z"
      },
      {
        "duration": 76,
        "start_time": "2023-05-31T13:36:51.761Z"
      },
      {
        "duration": 76,
        "start_time": "2023-05-31T13:37:44.141Z"
      },
      {
        "duration": 9,
        "start_time": "2023-05-31T13:37:52.585Z"
      },
      {
        "duration": 10,
        "start_time": "2023-05-31T13:39:06.651Z"
      },
      {
        "duration": 13,
        "start_time": "2023-05-31T13:39:14.105Z"
      },
      {
        "duration": 535,
        "start_time": "2023-05-31T13:40:10.828Z"
      },
      {
        "duration": 270,
        "start_time": "2023-05-31T13:40:24.026Z"
      },
      {
        "duration": 9,
        "start_time": "2023-05-31T13:40:32.268Z"
      },
      {
        "duration": 4,
        "start_time": "2023-05-31T13:40:49.574Z"
      },
      {
        "duration": 9,
        "start_time": "2023-05-31T13:40:55.215Z"
      },
      {
        "duration": 5,
        "start_time": "2023-05-31T13:41:20.757Z"
      },
      {
        "duration": 7,
        "start_time": "2023-05-31T13:41:33.057Z"
      },
      {
        "duration": 12,
        "start_time": "2023-05-31T13:41:46.865Z"
      },
      {
        "duration": 136,
        "start_time": "2023-05-31T13:41:56.811Z"
      },
      {
        "duration": 89,
        "start_time": "2023-05-31T13:42:16.876Z"
      },
      {
        "duration": 125,
        "start_time": "2023-05-31T13:43:46.978Z"
      },
      {
        "duration": 42,
        "start_time": "2023-05-31T13:44:06.864Z"
      },
      {
        "duration": 145,
        "start_time": "2023-05-31T13:44:14.118Z"
      },
      {
        "duration": 129,
        "start_time": "2023-05-31T13:45:17.673Z"
      },
      {
        "duration": 219,
        "start_time": "2023-05-31T13:45:41.732Z"
      },
      {
        "duration": 50,
        "start_time": "2023-05-31T13:46:08.258Z"
      },
      {
        "duration": 122,
        "start_time": "2023-05-31T13:46:12.664Z"
      },
      {
        "duration": 111,
        "start_time": "2023-05-31T13:46:55.398Z"
      },
      {
        "duration": 242,
        "start_time": "2023-05-31T13:47:08.302Z"
      },
      {
        "duration": 129,
        "start_time": "2023-05-31T13:47:39.533Z"
      },
      {
        "duration": 54,
        "start_time": "2023-05-31T13:51:39.950Z"
      },
      {
        "duration": 71,
        "start_time": "2023-05-31T13:52:18.099Z"
      },
      {
        "duration": 57,
        "start_time": "2023-05-31T13:53:10.948Z"
      },
      {
        "duration": 59,
        "start_time": "2023-05-31T13:53:16.845Z"
      },
      {
        "duration": 51,
        "start_time": "2023-05-31T13:53:32.111Z"
      },
      {
        "duration": 51,
        "start_time": "2023-05-31T13:53:45.078Z"
      },
      {
        "duration": 52,
        "start_time": "2023-05-31T13:53:51.899Z"
      },
      {
        "duration": 53,
        "start_time": "2023-05-31T13:54:00.196Z"
      },
      {
        "duration": 58,
        "start_time": "2023-05-31T13:54:24.193Z"
      },
      {
        "duration": 50,
        "start_time": "2023-05-31T13:54:54.913Z"
      },
      {
        "duration": 53,
        "start_time": "2023-05-31T13:55:39.263Z"
      },
      {
        "duration": 1191,
        "start_time": "2023-05-31T13:58:10.230Z"
      },
      {
        "duration": 235,
        "start_time": "2023-05-31T13:58:11.423Z"
      },
      {
        "duration": 3,
        "start_time": "2023-05-31T13:58:11.660Z"
      },
      {
        "duration": 17,
        "start_time": "2023-05-31T13:58:11.665Z"
      },
      {
        "duration": 12,
        "start_time": "2023-05-31T13:58:11.684Z"
      },
      {
        "duration": 20,
        "start_time": "2023-05-31T13:58:11.698Z"
      },
      {
        "duration": 152,
        "start_time": "2023-05-31T13:58:11.720Z"
      },
      {
        "duration": 21,
        "start_time": "2023-05-31T13:58:11.874Z"
      },
      {
        "duration": 19,
        "start_time": "2023-05-31T13:58:11.896Z"
      },
      {
        "duration": 35,
        "start_time": "2023-05-31T13:58:11.917Z"
      },
      {
        "duration": 59,
        "start_time": "2023-05-31T13:58:11.953Z"
      },
      {
        "duration": 15,
        "start_time": "2023-05-31T13:58:12.014Z"
      },
      {
        "duration": 73,
        "start_time": "2023-05-31T13:58:12.030Z"
      },
      {
        "duration": 7,
        "start_time": "2023-05-31T13:58:12.104Z"
      },
      {
        "duration": 7,
        "start_time": "2023-05-31T13:58:12.113Z"
      },
      {
        "duration": 22,
        "start_time": "2023-05-31T13:58:12.122Z"
      },
      {
        "duration": 19,
        "start_time": "2023-05-31T13:58:12.145Z"
      },
      {
        "duration": 25,
        "start_time": "2023-05-31T13:58:12.165Z"
      },
      {
        "duration": 13,
        "start_time": "2023-05-31T13:58:12.192Z"
      },
      {
        "duration": 19,
        "start_time": "2023-05-31T13:58:12.207Z"
      },
      {
        "duration": 9,
        "start_time": "2023-05-31T13:58:12.228Z"
      },
      {
        "duration": 14,
        "start_time": "2023-05-31T13:58:12.239Z"
      },
      {
        "duration": 55,
        "start_time": "2023-05-31T13:58:12.254Z"
      },
      {
        "duration": 134,
        "start_time": "2023-05-31T13:58:12.310Z"
      },
      {
        "duration": 15,
        "start_time": "2023-05-31T13:58:12.445Z"
      },
      {
        "duration": 327,
        "start_time": "2023-05-31T13:58:12.461Z"
      },
      {
        "duration": 542,
        "start_time": "2023-05-31T13:58:12.789Z"
      },
      {
        "duration": 12,
        "start_time": "2023-05-31T13:58:13.335Z"
      },
      {
        "duration": 68,
        "start_time": "2023-05-31T13:58:13.349Z"
      },
      {
        "duration": 140,
        "start_time": "2023-05-31T13:58:13.419Z"
      },
      {
        "duration": 219,
        "start_time": "2023-05-31T13:58:13.560Z"
      },
      {
        "duration": 14,
        "start_time": "2023-05-31T13:58:13.780Z"
      },
      {
        "duration": 54,
        "start_time": "2023-05-31T13:58:13.796Z"
      },
      {
        "duration": 34,
        "start_time": "2023-05-31T13:58:13.852Z"
      },
      {
        "duration": 63,
        "start_time": "2023-05-31T13:58:13.887Z"
      },
      {
        "duration": 13,
        "start_time": "2023-05-31T13:58:13.951Z"
      },
      {
        "duration": 58,
        "start_time": "2023-05-31T13:58:13.985Z"
      },
      {
        "duration": 6,
        "start_time": "2023-05-31T13:58:14.045Z"
      },
      {
        "duration": 4,
        "start_time": "2023-05-31T13:58:14.052Z"
      },
      {
        "duration": 955,
        "start_time": "2023-05-31T13:58:14.057Z"
      },
      {
        "duration": 13,
        "start_time": "2023-05-31T13:58:15.014Z"
      },
      {
        "duration": 86,
        "start_time": "2023-05-31T13:58:15.028Z"
      },
      {
        "duration": 33,
        "start_time": "2023-05-31T13:58:15.115Z"
      },
      {
        "duration": 7065,
        "start_time": "2023-05-31T13:58:15.149Z"
      },
      {
        "duration": 211,
        "start_time": "2023-05-31T13:58:22.216Z"
      },
      {
        "duration": 27,
        "start_time": "2023-05-31T13:58:22.428Z"
      },
      {
        "duration": 70,
        "start_time": "2023-05-31T13:58:22.457Z"
      },
      {
        "duration": 4,
        "start_time": "2023-05-31T14:03:39.277Z"
      },
      {
        "duration": 229,
        "start_time": "2023-05-31T14:03:39.283Z"
      },
      {
        "duration": 3,
        "start_time": "2023-05-31T14:03:39.514Z"
      },
      {
        "duration": 17,
        "start_time": "2023-05-31T14:03:39.519Z"
      },
      {
        "duration": 11,
        "start_time": "2023-05-31T14:03:39.537Z"
      },
      {
        "duration": 11,
        "start_time": "2023-05-31T14:03:39.549Z"
      },
      {
        "duration": 120,
        "start_time": "2023-05-31T14:03:39.561Z"
      },
      {
        "duration": 14,
        "start_time": "2023-05-31T14:03:39.683Z"
      },
      {
        "duration": 19,
        "start_time": "2023-05-31T14:03:39.698Z"
      },
      {
        "duration": 30,
        "start_time": "2023-05-31T14:03:39.718Z"
      },
      {
        "duration": 67,
        "start_time": "2023-05-31T14:03:39.751Z"
      },
      {
        "duration": 14,
        "start_time": "2023-05-31T14:03:39.819Z"
      },
      {
        "duration": 66,
        "start_time": "2023-05-31T14:03:39.835Z"
      },
      {
        "duration": 8,
        "start_time": "2023-05-31T14:03:39.903Z"
      },
      {
        "duration": 12,
        "start_time": "2023-05-31T14:03:39.912Z"
      },
      {
        "duration": 23,
        "start_time": "2023-05-31T14:03:39.925Z"
      },
      {
        "duration": 46,
        "start_time": "2023-05-31T14:03:39.949Z"
      },
      {
        "duration": 8,
        "start_time": "2023-05-31T14:03:39.996Z"
      },
      {
        "duration": 34,
        "start_time": "2023-05-31T14:03:40.005Z"
      },
      {
        "duration": 32,
        "start_time": "2023-05-31T14:03:40.040Z"
      },
      {
        "duration": 22,
        "start_time": "2023-05-31T14:03:40.074Z"
      },
      {
        "duration": 16,
        "start_time": "2023-05-31T14:03:40.098Z"
      },
      {
        "duration": 60,
        "start_time": "2023-05-31T14:03:40.115Z"
      },
      {
        "duration": 107,
        "start_time": "2023-05-31T14:03:51.802Z"
      },
      {
        "duration": 127,
        "start_time": "2023-05-31T14:06:50.742Z"
      },
      {
        "duration": 247,
        "start_time": "2023-05-31T14:11:18.232Z"
      },
      {
        "duration": 108,
        "start_time": "2023-05-31T14:11:39.468Z"
      },
      {
        "duration": 63,
        "start_time": "2023-05-31T14:12:12.024Z"
      },
      {
        "duration": 1007,
        "start_time": "2023-05-31T14:12:20.855Z"
      },
      {
        "duration": 109,
        "start_time": "2023-05-31T14:19:33.413Z"
      },
      {
        "duration": 105,
        "start_time": "2023-05-31T14:20:15.845Z"
      },
      {
        "duration": 83,
        "start_time": "2023-05-31T14:20:32.450Z"
      },
      {
        "duration": 10,
        "start_time": "2023-05-31T14:21:00.894Z"
      },
      {
        "duration": 112,
        "start_time": "2023-05-31T14:21:20.310Z"
      },
      {
        "duration": 108,
        "start_time": "2023-05-31T14:21:40.372Z"
      },
      {
        "duration": 1246,
        "start_time": "2023-05-31T14:22:06.287Z"
      },
      {
        "duration": 122,
        "start_time": "2023-05-31T14:22:19.115Z"
      },
      {
        "duration": 105,
        "start_time": "2023-05-31T14:22:28.566Z"
      },
      {
        "duration": 139,
        "start_time": "2023-05-31T14:22:41.566Z"
      },
      {
        "duration": 108,
        "start_time": "2023-05-31T14:23:10.920Z"
      },
      {
        "duration": 123,
        "start_time": "2023-05-31T14:23:44.590Z"
      },
      {
        "duration": 121,
        "start_time": "2023-05-31T14:24:45.568Z"
      },
      {
        "duration": 140,
        "start_time": "2023-05-31T14:25:18.862Z"
      },
      {
        "duration": 142,
        "start_time": "2023-05-31T14:25:30.363Z"
      },
      {
        "duration": 136,
        "start_time": "2023-05-31T14:26:19.393Z"
      },
      {
        "duration": 138,
        "start_time": "2023-05-31T14:26:30.115Z"
      },
      {
        "duration": 215,
        "start_time": "2023-05-31T14:26:56.559Z"
      },
      {
        "duration": 92,
        "start_time": "2023-05-31T14:28:02.693Z"
      },
      {
        "duration": 81,
        "start_time": "2023-05-31T14:28:24.688Z"
      },
      {
        "duration": 52,
        "start_time": "2023-05-31T14:28:43.038Z"
      },
      {
        "duration": 61,
        "start_time": "2023-05-31T14:28:49.099Z"
      },
      {
        "duration": 143,
        "start_time": "2023-05-31T14:29:06.229Z"
      },
      {
        "duration": 160,
        "start_time": "2023-05-31T14:30:13.110Z"
      },
      {
        "duration": 135,
        "start_time": "2023-05-31T14:30:48.903Z"
      },
      {
        "duration": 163,
        "start_time": "2023-05-31T14:32:46.185Z"
      },
      {
        "duration": 135,
        "start_time": "2023-05-31T14:37:34.885Z"
      },
      {
        "duration": 148,
        "start_time": "2023-05-31T14:37:43.697Z"
      },
      {
        "duration": 124,
        "start_time": "2023-05-31T14:38:03.539Z"
      },
      {
        "duration": 135,
        "start_time": "2023-05-31T14:38:15.651Z"
      },
      {
        "duration": 136,
        "start_time": "2023-05-31T14:38:27.350Z"
      },
      {
        "duration": 137,
        "start_time": "2023-05-31T14:38:52.939Z"
      },
      {
        "duration": 135,
        "start_time": "2023-05-31T14:40:34.625Z"
      },
      {
        "duration": 151,
        "start_time": "2023-05-31T14:42:06.991Z"
      },
      {
        "duration": 1213,
        "start_time": "2023-05-31T14:43:55.722Z"
      },
      {
        "duration": 248,
        "start_time": "2023-05-31T14:43:56.937Z"
      },
      {
        "duration": 5,
        "start_time": "2023-05-31T14:43:57.186Z"
      },
      {
        "duration": 22,
        "start_time": "2023-05-31T14:43:57.192Z"
      },
      {
        "duration": 11,
        "start_time": "2023-05-31T14:43:57.216Z"
      },
      {
        "duration": 14,
        "start_time": "2023-05-31T14:43:57.228Z"
      },
      {
        "duration": 148,
        "start_time": "2023-05-31T14:43:57.244Z"
      },
      {
        "duration": 19,
        "start_time": "2023-05-31T14:43:57.394Z"
      },
      {
        "duration": 31,
        "start_time": "2023-05-31T14:43:57.415Z"
      },
      {
        "duration": 63,
        "start_time": "2023-05-31T14:43:57.448Z"
      },
      {
        "duration": 54,
        "start_time": "2023-05-31T14:43:57.513Z"
      },
      {
        "duration": 23,
        "start_time": "2023-05-31T14:43:57.569Z"
      },
      {
        "duration": 101,
        "start_time": "2023-05-31T14:43:57.594Z"
      },
      {
        "duration": 13,
        "start_time": "2023-05-31T14:43:57.699Z"
      },
      {
        "duration": 26,
        "start_time": "2023-05-31T14:43:57.714Z"
      },
      {
        "duration": 30,
        "start_time": "2023-05-31T14:43:57.742Z"
      },
      {
        "duration": 33,
        "start_time": "2023-05-31T14:43:57.774Z"
      },
      {
        "duration": 9,
        "start_time": "2023-05-31T14:43:57.809Z"
      },
      {
        "duration": 20,
        "start_time": "2023-05-31T14:43:57.820Z"
      },
      {
        "duration": 56,
        "start_time": "2023-05-31T14:43:57.842Z"
      },
      {
        "duration": 19,
        "start_time": "2023-05-31T14:43:57.900Z"
      },
      {
        "duration": 24,
        "start_time": "2023-05-31T14:43:57.920Z"
      },
      {
        "duration": 66,
        "start_time": "2023-05-31T14:43:57.947Z"
      },
      {
        "duration": 143,
        "start_time": "2023-05-31T14:43:58.015Z"
      },
      {
        "duration": 27,
        "start_time": "2023-05-31T14:43:58.159Z"
      },
      {
        "duration": 315,
        "start_time": "2023-05-31T14:43:58.187Z"
      },
      {
        "duration": 293,
        "start_time": "2023-05-31T14:43:58.503Z"
      },
      {
        "duration": 0,
        "start_time": "2023-05-31T14:43:58.798Z"
      },
      {
        "duration": 0,
        "start_time": "2023-05-31T14:43:58.800Z"
      },
      {
        "duration": 0,
        "start_time": "2023-05-31T14:43:58.801Z"
      },
      {
        "duration": 0,
        "start_time": "2023-05-31T14:43:58.803Z"
      },
      {
        "duration": 0,
        "start_time": "2023-05-31T14:43:58.804Z"
      },
      {
        "duration": 0,
        "start_time": "2023-05-31T14:43:58.805Z"
      },
      {
        "duration": 0,
        "start_time": "2023-05-31T14:43:58.806Z"
      },
      {
        "duration": 0,
        "start_time": "2023-05-31T14:43:58.807Z"
      },
      {
        "duration": 0,
        "start_time": "2023-05-31T14:43:58.808Z"
      },
      {
        "duration": 0,
        "start_time": "2023-05-31T14:43:58.809Z"
      },
      {
        "duration": 0,
        "start_time": "2023-05-31T14:43:58.810Z"
      },
      {
        "duration": 0,
        "start_time": "2023-05-31T14:43:58.811Z"
      },
      {
        "duration": 0,
        "start_time": "2023-05-31T14:43:58.813Z"
      },
      {
        "duration": 0,
        "start_time": "2023-05-31T14:43:58.814Z"
      },
      {
        "duration": 0,
        "start_time": "2023-05-31T14:43:58.815Z"
      },
      {
        "duration": 0,
        "start_time": "2023-05-31T14:43:58.816Z"
      },
      {
        "duration": 0,
        "start_time": "2023-05-31T14:43:58.817Z"
      },
      {
        "duration": 0,
        "start_time": "2023-05-31T14:43:58.818Z"
      },
      {
        "duration": 0,
        "start_time": "2023-05-31T14:43:58.819Z"
      },
      {
        "duration": 0,
        "start_time": "2023-05-31T14:43:58.820Z"
      },
      {
        "duration": 370,
        "start_time": "2023-05-31T14:44:31.280Z"
      },
      {
        "duration": 12,
        "start_time": "2023-05-31T14:44:37.166Z"
      },
      {
        "duration": 56,
        "start_time": "2023-05-31T14:44:37.180Z"
      },
      {
        "duration": 143,
        "start_time": "2023-05-31T14:44:37.237Z"
      },
      {
        "duration": 219,
        "start_time": "2023-05-31T14:44:37.382Z"
      },
      {
        "duration": 12,
        "start_time": "2023-05-31T14:44:37.603Z"
      },
      {
        "duration": 71,
        "start_time": "2023-05-31T14:44:37.616Z"
      },
      {
        "duration": 19,
        "start_time": "2023-05-31T14:44:37.688Z"
      },
      {
        "duration": 78,
        "start_time": "2023-05-31T14:44:37.708Z"
      },
      {
        "duration": 18,
        "start_time": "2023-05-31T14:44:37.787Z"
      },
      {
        "duration": 72,
        "start_time": "2023-05-31T14:44:37.806Z"
      },
      {
        "duration": 8,
        "start_time": "2023-05-31T14:44:37.880Z"
      },
      {
        "duration": 4,
        "start_time": "2023-05-31T14:44:37.889Z"
      },
      {
        "duration": 893,
        "start_time": "2023-05-31T14:44:37.894Z"
      },
      {
        "duration": 15,
        "start_time": "2023-05-31T14:44:38.790Z"
      },
      {
        "duration": 52,
        "start_time": "2023-05-31T14:44:38.807Z"
      },
      {
        "duration": 59,
        "start_time": "2023-05-31T14:44:38.861Z"
      },
      {
        "duration": 6926,
        "start_time": "2023-05-31T14:44:38.921Z"
      },
      {
        "duration": 239,
        "start_time": "2023-05-31T14:44:45.849Z"
      },
      {
        "duration": 34,
        "start_time": "2023-05-31T14:44:46.090Z"
      },
      {
        "duration": 79,
        "start_time": "2023-05-31T14:44:46.126Z"
      },
      {
        "duration": 11,
        "start_time": "2023-05-31T15:29:02.903Z"
      },
      {
        "duration": 9,
        "start_time": "2023-05-31T15:29:20.029Z"
      },
      {
        "duration": 43,
        "start_time": "2023-05-31T15:30:18.405Z"
      },
      {
        "duration": 10,
        "start_time": "2023-05-31T15:31:05.958Z"
      },
      {
        "duration": 12,
        "start_time": "2023-05-31T15:32:05.245Z"
      },
      {
        "duration": 4,
        "start_time": "2023-05-31T15:32:17.049Z"
      },
      {
        "duration": 1123,
        "start_time": "2023-05-31T15:47:51.884Z"
      },
      {
        "duration": 236,
        "start_time": "2023-05-31T15:47:53.009Z"
      },
      {
        "duration": 3,
        "start_time": "2023-05-31T15:47:53.247Z"
      },
      {
        "duration": 22,
        "start_time": "2023-05-31T15:47:53.252Z"
      },
      {
        "duration": 11,
        "start_time": "2023-05-31T15:47:53.276Z"
      },
      {
        "duration": 7,
        "start_time": "2023-05-31T15:47:53.289Z"
      },
      {
        "duration": 125,
        "start_time": "2023-05-31T15:47:53.298Z"
      },
      {
        "duration": 14,
        "start_time": "2023-05-31T15:47:53.425Z"
      },
      {
        "duration": 46,
        "start_time": "2023-05-31T15:47:53.441Z"
      },
      {
        "duration": 35,
        "start_time": "2023-05-31T15:47:53.488Z"
      },
      {
        "duration": 33,
        "start_time": "2023-05-31T15:47:53.524Z"
      },
      {
        "duration": 39,
        "start_time": "2023-05-31T15:47:53.558Z"
      },
      {
        "duration": 60,
        "start_time": "2023-05-31T15:47:53.599Z"
      },
      {
        "duration": 25,
        "start_time": "2023-05-31T15:47:53.662Z"
      },
      {
        "duration": 17,
        "start_time": "2023-05-31T15:47:53.689Z"
      },
      {
        "duration": 26,
        "start_time": "2023-05-31T15:47:53.707Z"
      },
      {
        "duration": 20,
        "start_time": "2023-05-31T15:47:53.734Z"
      },
      {
        "duration": 15,
        "start_time": "2023-05-31T15:47:53.756Z"
      },
      {
        "duration": 7,
        "start_time": "2023-05-31T15:47:53.785Z"
      },
      {
        "duration": 39,
        "start_time": "2023-05-31T15:47:53.794Z"
      },
      {
        "duration": 15,
        "start_time": "2023-05-31T15:47:53.835Z"
      },
      {
        "duration": 18,
        "start_time": "2023-05-31T15:47:53.852Z"
      },
      {
        "duration": 35,
        "start_time": "2023-05-31T15:47:53.885Z"
      },
      {
        "duration": 147,
        "start_time": "2023-05-31T15:47:53.922Z"
      },
      {
        "duration": 24,
        "start_time": "2023-05-31T15:47:54.070Z"
      },
      {
        "duration": 345,
        "start_time": "2023-05-31T15:47:54.096Z"
      },
      {
        "duration": 472,
        "start_time": "2023-05-31T15:47:54.443Z"
      },
      {
        "duration": 11,
        "start_time": "2023-05-31T15:47:54.917Z"
      },
      {
        "duration": 65,
        "start_time": "2023-05-31T15:47:54.930Z"
      },
      {
        "duration": 140,
        "start_time": "2023-05-31T15:47:54.997Z"
      },
      {
        "duration": 218,
        "start_time": "2023-05-31T15:47:55.139Z"
      },
      {
        "duration": 12,
        "start_time": "2023-05-31T15:47:55.359Z"
      },
      {
        "duration": 67,
        "start_time": "2023-05-31T15:47:55.373Z"
      },
      {
        "duration": 20,
        "start_time": "2023-05-31T15:47:55.441Z"
      },
      {
        "duration": 244,
        "start_time": "2023-05-31T15:47:55.462Z"
      },
      {
        "duration": 14,
        "start_time": "2023-05-31T15:47:55.708Z"
      },
      {
        "duration": 99,
        "start_time": "2023-05-31T15:47:55.724Z"
      },
      {
        "duration": 7,
        "start_time": "2023-05-31T15:47:55.824Z"
      },
      {
        "duration": 6,
        "start_time": "2023-05-31T15:47:55.833Z"
      },
      {
        "duration": 1064,
        "start_time": "2023-05-31T15:47:55.841Z"
      },
      {
        "duration": 15,
        "start_time": "2023-05-31T15:47:56.909Z"
      },
      {
        "duration": 198,
        "start_time": "2023-05-31T15:47:56.925Z"
      },
      {
        "duration": 49,
        "start_time": "2023-05-31T15:47:57.124Z"
      },
      {
        "duration": 6880,
        "start_time": "2023-05-31T15:47:57.175Z"
      },
      {
        "duration": 209,
        "start_time": "2023-05-31T15:48:04.057Z"
      },
      {
        "duration": 34,
        "start_time": "2023-05-31T15:48:04.267Z"
      },
      {
        "duration": 47,
        "start_time": "2023-05-31T15:48:04.303Z"
      },
      {
        "duration": 12,
        "start_time": "2023-05-31T15:48:04.351Z"
      },
      {
        "duration": 234,
        "start_time": "2023-05-31T16:09:44.438Z"
      },
      {
        "duration": 36,
        "start_time": "2023-05-31T16:09:53.999Z"
      },
      {
        "duration": 63,
        "start_time": "2023-05-31T16:11:00.293Z"
      },
      {
        "duration": 62,
        "start_time": "2023-05-31T16:11:12.588Z"
      },
      {
        "duration": 68,
        "start_time": "2023-05-31T16:11:26.790Z"
      },
      {
        "duration": 62,
        "start_time": "2023-05-31T16:11:37.354Z"
      },
      {
        "duration": 39,
        "start_time": "2023-05-31T16:13:22.447Z"
      },
      {
        "duration": 35,
        "start_time": "2023-05-31T16:13:41.340Z"
      },
      {
        "duration": 43,
        "start_time": "2023-05-31T16:14:31.829Z"
      },
      {
        "duration": 56,
        "start_time": "2023-05-31T16:14:52.809Z"
      },
      {
        "duration": 82,
        "start_time": "2023-05-31T16:15:00.964Z"
      },
      {
        "duration": 39,
        "start_time": "2023-05-31T16:15:21.719Z"
      },
      {
        "duration": 4,
        "start_time": "2023-05-31T16:18:09.361Z"
      },
      {
        "duration": 203,
        "start_time": "2023-05-31T16:18:47.796Z"
      },
      {
        "duration": 186,
        "start_time": "2023-05-31T16:18:55.315Z"
      },
      {
        "duration": 118,
        "start_time": "2023-05-31T16:23:25.979Z"
      },
      {
        "duration": 17,
        "start_time": "2023-05-31T16:23:56.421Z"
      },
      {
        "duration": 22,
        "start_time": "2023-05-31T16:24:18.371Z"
      },
      {
        "duration": 14,
        "start_time": "2023-05-31T16:24:36.206Z"
      },
      {
        "duration": 18,
        "start_time": "2023-05-31T16:26:23.840Z"
      },
      {
        "duration": 39,
        "start_time": "2023-05-31T16:28:06.654Z"
      },
      {
        "duration": 65,
        "start_time": "2023-05-31T16:28:17.917Z"
      },
      {
        "duration": 35,
        "start_time": "2023-05-31T16:29:23.274Z"
      },
      {
        "duration": 122,
        "start_time": "2023-05-31T16:29:52.436Z"
      },
      {
        "duration": 35,
        "start_time": "2023-05-31T16:30:36.855Z"
      },
      {
        "duration": 39,
        "start_time": "2023-05-31T16:30:48.448Z"
      },
      {
        "duration": 131,
        "start_time": "2023-05-31T16:30:52.502Z"
      },
      {
        "duration": 9,
        "start_time": "2023-05-31T16:31:06.504Z"
      },
      {
        "duration": 120,
        "start_time": "2023-05-31T16:31:15.001Z"
      },
      {
        "duration": 60,
        "start_time": "2023-05-31T16:32:04.595Z"
      },
      {
        "duration": 41,
        "start_time": "2023-05-31T16:32:14.079Z"
      },
      {
        "duration": 41,
        "start_time": "2023-05-31T16:32:21.098Z"
      },
      {
        "duration": 54,
        "start_time": "2023-05-31T16:34:57.686Z"
      },
      {
        "duration": 81,
        "start_time": "2023-05-31T16:35:10.016Z"
      },
      {
        "duration": 12,
        "start_time": "2023-05-31T16:36:06.376Z"
      },
      {
        "duration": 77,
        "start_time": "2023-05-31T16:36:32.147Z"
      },
      {
        "duration": 63,
        "start_time": "2023-05-31T16:36:37.341Z"
      },
      {
        "duration": 170,
        "start_time": "2023-05-31T16:36:47.542Z"
      },
      {
        "duration": 54,
        "start_time": "2023-05-31T16:37:07.132Z"
      },
      {
        "duration": 41,
        "start_time": "2023-05-31T16:37:25.306Z"
      },
      {
        "duration": 52,
        "start_time": "2023-05-31T16:37:40.448Z"
      },
      {
        "duration": 43,
        "start_time": "2023-05-31T16:38:14.021Z"
      },
      {
        "duration": 44,
        "start_time": "2023-05-31T16:38:19.980Z"
      },
      {
        "duration": 54,
        "start_time": "2023-05-31T16:38:38.765Z"
      },
      {
        "duration": 43,
        "start_time": "2023-05-31T16:38:59.087Z"
      },
      {
        "duration": 45,
        "start_time": "2023-05-31T16:39:04.340Z"
      },
      {
        "duration": 41,
        "start_time": "2023-05-31T16:39:26.706Z"
      },
      {
        "duration": 67,
        "start_time": "2023-05-31T16:39:49.091Z"
      },
      {
        "duration": 70,
        "start_time": "2023-05-31T16:40:05.242Z"
      },
      {
        "duration": 44,
        "start_time": "2023-05-31T16:40:58.962Z"
      },
      {
        "duration": 12,
        "start_time": "2023-05-31T16:43:53.166Z"
      },
      {
        "duration": 5,
        "start_time": "2023-05-31T16:44:26.845Z"
      },
      {
        "duration": 5,
        "start_time": "2023-05-31T16:44:39.747Z"
      },
      {
        "duration": 4,
        "start_time": "2023-05-31T16:45:39.729Z"
      },
      {
        "duration": 47,
        "start_time": "2023-05-31T16:47:27.396Z"
      },
      {
        "duration": 1412,
        "start_time": "2023-06-03T06:10:26.982Z"
      },
      {
        "duration": 648,
        "start_time": "2023-06-03T06:10:28.396Z"
      },
      {
        "duration": 4,
        "start_time": "2023-06-03T06:10:29.047Z"
      },
      {
        "duration": 57,
        "start_time": "2023-06-03T06:10:29.053Z"
      },
      {
        "duration": 35,
        "start_time": "2023-06-03T06:10:29.113Z"
      },
      {
        "duration": 31,
        "start_time": "2023-06-03T06:10:29.150Z"
      },
      {
        "duration": 208,
        "start_time": "2023-06-03T06:10:29.183Z"
      },
      {
        "duration": 19,
        "start_time": "2023-06-03T06:10:29.393Z"
      },
      {
        "duration": 51,
        "start_time": "2023-06-03T06:10:29.425Z"
      },
      {
        "duration": 87,
        "start_time": "2023-06-03T06:10:29.477Z"
      },
      {
        "duration": 59,
        "start_time": "2023-06-03T06:10:29.566Z"
      },
      {
        "duration": 23,
        "start_time": "2023-06-03T06:10:29.627Z"
      },
      {
        "duration": 83,
        "start_time": "2023-06-03T06:10:29.652Z"
      },
      {
        "duration": 9,
        "start_time": "2023-06-03T06:10:29.738Z"
      },
      {
        "duration": 27,
        "start_time": "2023-06-03T06:10:29.749Z"
      },
      {
        "duration": 49,
        "start_time": "2023-06-03T06:10:29.777Z"
      },
      {
        "duration": 22,
        "start_time": "2023-06-03T06:10:29.828Z"
      },
      {
        "duration": 22,
        "start_time": "2023-06-03T06:10:29.852Z"
      },
      {
        "duration": 26,
        "start_time": "2023-06-03T06:10:29.877Z"
      },
      {
        "duration": 41,
        "start_time": "2023-06-03T06:10:29.904Z"
      },
      {
        "duration": 12,
        "start_time": "2023-06-03T06:10:29.947Z"
      },
      {
        "duration": 35,
        "start_time": "2023-06-03T06:10:29.962Z"
      },
      {
        "duration": 64,
        "start_time": "2023-06-03T06:10:30.000Z"
      },
      {
        "duration": 215,
        "start_time": "2023-06-03T06:10:30.065Z"
      },
      {
        "duration": 23,
        "start_time": "2023-06-03T06:10:30.294Z"
      },
      {
        "duration": 418,
        "start_time": "2023-06-03T06:10:30.320Z"
      },
      {
        "duration": 662,
        "start_time": "2023-06-03T06:10:30.740Z"
      },
      {
        "duration": 25,
        "start_time": "2023-06-03T06:10:31.404Z"
      },
      {
        "duration": 163,
        "start_time": "2023-06-03T06:10:31.431Z"
      },
      {
        "duration": 182,
        "start_time": "2023-06-03T06:10:31.596Z"
      },
      {
        "duration": 311,
        "start_time": "2023-06-03T06:10:31.780Z"
      },
      {
        "duration": 17,
        "start_time": "2023-06-03T06:10:32.093Z"
      },
      {
        "duration": 57,
        "start_time": "2023-06-03T06:10:32.123Z"
      },
      {
        "duration": 48,
        "start_time": "2023-06-03T06:10:32.182Z"
      },
      {
        "duration": 62,
        "start_time": "2023-06-03T06:10:32.232Z"
      },
      {
        "duration": 39,
        "start_time": "2023-06-03T06:10:32.296Z"
      },
      {
        "duration": 110,
        "start_time": "2023-06-03T06:10:32.337Z"
      },
      {
        "duration": 12,
        "start_time": "2023-06-03T06:10:32.449Z"
      },
      {
        "duration": 7,
        "start_time": "2023-06-03T06:10:32.463Z"
      },
      {
        "duration": 1146,
        "start_time": "2023-06-03T06:10:32.472Z"
      },
      {
        "duration": 15,
        "start_time": "2023-06-03T06:10:33.622Z"
      },
      {
        "duration": 106,
        "start_time": "2023-06-03T06:10:33.639Z"
      },
      {
        "duration": 36,
        "start_time": "2023-06-03T06:10:33.747Z"
      },
      {
        "duration": 8846,
        "start_time": "2023-06-03T06:10:33.785Z"
      },
      {
        "duration": 278,
        "start_time": "2023-06-03T06:10:42.633Z"
      },
      {
        "duration": 36,
        "start_time": "2023-06-03T06:10:42.914Z"
      },
      {
        "duration": 92,
        "start_time": "2023-06-03T06:10:42.952Z"
      },
      {
        "duration": 59,
        "start_time": "2023-06-03T06:10:43.047Z"
      },
      {
        "duration": 79,
        "start_time": "2023-06-03T06:10:43.124Z"
      },
      {
        "duration": 1230,
        "start_time": "2023-06-03T06:45:41.967Z"
      },
      {
        "duration": 284,
        "start_time": "2023-06-03T06:45:43.199Z"
      },
      {
        "duration": 4,
        "start_time": "2023-06-03T06:45:43.485Z"
      },
      {
        "duration": 21,
        "start_time": "2023-06-03T06:45:43.490Z"
      },
      {
        "duration": 24,
        "start_time": "2023-06-03T06:45:43.514Z"
      },
      {
        "duration": 16,
        "start_time": "2023-06-03T06:45:43.541Z"
      },
      {
        "duration": 150,
        "start_time": "2023-06-03T06:45:43.558Z"
      },
      {
        "duration": 30,
        "start_time": "2023-06-03T06:45:43.709Z"
      },
      {
        "duration": 30,
        "start_time": "2023-06-03T06:45:43.741Z"
      },
      {
        "duration": 45,
        "start_time": "2023-06-03T06:45:43.773Z"
      },
      {
        "duration": 61,
        "start_time": "2023-06-03T06:45:43.820Z"
      },
      {
        "duration": 16,
        "start_time": "2023-06-03T06:45:43.882Z"
      },
      {
        "duration": 67,
        "start_time": "2023-06-03T06:45:43.900Z"
      },
      {
        "duration": 8,
        "start_time": "2023-06-03T06:45:43.970Z"
      },
      {
        "duration": 13,
        "start_time": "2023-06-03T06:45:43.980Z"
      },
      {
        "duration": 41,
        "start_time": "2023-06-03T06:45:43.995Z"
      },
      {
        "duration": 20,
        "start_time": "2023-06-03T06:45:44.037Z"
      },
      {
        "duration": 9,
        "start_time": "2023-06-03T06:45:44.058Z"
      },
      {
        "duration": 13,
        "start_time": "2023-06-03T06:45:44.069Z"
      },
      {
        "duration": 21,
        "start_time": "2023-06-03T06:45:44.084Z"
      },
      {
        "duration": 27,
        "start_time": "2023-06-03T06:45:44.107Z"
      },
      {
        "duration": 24,
        "start_time": "2023-06-03T06:45:44.137Z"
      },
      {
        "duration": 38,
        "start_time": "2023-06-03T06:45:44.162Z"
      },
      {
        "duration": 165,
        "start_time": "2023-06-03T06:45:44.202Z"
      },
      {
        "duration": 14,
        "start_time": "2023-06-03T06:45:44.369Z"
      },
      {
        "duration": 361,
        "start_time": "2023-06-03T06:45:44.385Z"
      },
      {
        "duration": 527,
        "start_time": "2023-06-03T06:45:44.749Z"
      },
      {
        "duration": 15,
        "start_time": "2023-06-03T06:45:45.278Z"
      },
      {
        "duration": 64,
        "start_time": "2023-06-03T06:45:45.295Z"
      },
      {
        "duration": 141,
        "start_time": "2023-06-03T06:45:45.361Z"
      },
      {
        "duration": 216,
        "start_time": "2023-06-03T06:45:45.503Z"
      },
      {
        "duration": 15,
        "start_time": "2023-06-03T06:45:45.729Z"
      },
      {
        "duration": 50,
        "start_time": "2023-06-03T06:45:45.746Z"
      },
      {
        "duration": 37,
        "start_time": "2023-06-03T06:45:45.798Z"
      },
      {
        "duration": 69,
        "start_time": "2023-06-03T06:45:45.838Z"
      },
      {
        "duration": 44,
        "start_time": "2023-06-03T06:45:45.909Z"
      },
      {
        "duration": 51,
        "start_time": "2023-06-03T06:45:45.955Z"
      },
      {
        "duration": 8,
        "start_time": "2023-06-03T06:45:46.008Z"
      },
      {
        "duration": 4,
        "start_time": "2023-06-03T06:45:46.017Z"
      },
      {
        "duration": 1096,
        "start_time": "2023-06-03T06:45:46.022Z"
      },
      {
        "duration": 20,
        "start_time": "2023-06-03T06:45:47.125Z"
      },
      {
        "duration": 67,
        "start_time": "2023-06-03T06:45:47.146Z"
      },
      {
        "duration": 38,
        "start_time": "2023-06-03T06:45:47.214Z"
      },
      {
        "duration": 8817,
        "start_time": "2023-06-03T06:45:47.253Z"
      },
      {
        "duration": 223,
        "start_time": "2023-06-03T06:45:56.071Z"
      },
      {
        "duration": 35,
        "start_time": "2023-06-03T06:45:56.296Z"
      },
      {
        "duration": 53,
        "start_time": "2023-06-03T06:45:56.332Z"
      },
      {
        "duration": 67,
        "start_time": "2023-06-03T06:45:56.386Z"
      },
      {
        "duration": 42,
        "start_time": "2023-06-03T06:45:56.455Z"
      },
      {
        "duration": 1345,
        "start_time": "2023-06-03T07:53:03.552Z"
      },
      {
        "duration": 362,
        "start_time": "2023-06-03T07:53:04.899Z"
      },
      {
        "duration": 5,
        "start_time": "2023-06-03T07:53:05.263Z"
      },
      {
        "duration": 87,
        "start_time": "2023-06-03T07:53:05.270Z"
      },
      {
        "duration": 33,
        "start_time": "2023-06-03T07:53:05.358Z"
      },
      {
        "duration": 30,
        "start_time": "2023-06-03T07:53:05.393Z"
      },
      {
        "duration": 246,
        "start_time": "2023-06-03T07:53:05.430Z"
      },
      {
        "duration": 15,
        "start_time": "2023-06-03T07:53:05.677Z"
      },
      {
        "duration": 57,
        "start_time": "2023-06-03T07:53:05.694Z"
      },
      {
        "duration": 100,
        "start_time": "2023-06-03T07:53:05.755Z"
      },
      {
        "duration": 67,
        "start_time": "2023-06-03T07:53:05.857Z"
      },
      {
        "duration": 22,
        "start_time": "2023-06-03T07:53:05.926Z"
      },
      {
        "duration": 112,
        "start_time": "2023-06-03T07:53:05.950Z"
      },
      {
        "duration": 11,
        "start_time": "2023-06-03T07:53:06.063Z"
      },
      {
        "duration": 76,
        "start_time": "2023-06-03T07:53:06.076Z"
      },
      {
        "duration": 82,
        "start_time": "2023-06-03T07:53:06.153Z"
      },
      {
        "duration": 42,
        "start_time": "2023-06-03T07:53:06.238Z"
      },
      {
        "duration": 16,
        "start_time": "2023-06-03T07:53:06.282Z"
      },
      {
        "duration": 64,
        "start_time": "2023-06-03T07:53:06.300Z"
      },
      {
        "duration": 55,
        "start_time": "2023-06-03T07:53:06.366Z"
      },
      {
        "duration": 59,
        "start_time": "2023-06-03T07:53:06.423Z"
      },
      {
        "duration": 47,
        "start_time": "2023-06-03T07:53:06.484Z"
      },
      {
        "duration": 69,
        "start_time": "2023-06-03T07:53:06.543Z"
      },
      {
        "duration": 196,
        "start_time": "2023-06-03T07:53:06.614Z"
      },
      {
        "duration": 26,
        "start_time": "2023-06-03T07:53:06.812Z"
      },
      {
        "duration": 1403,
        "start_time": "2023-06-03T07:53:08.786Z"
      },
      {
        "duration": 15,
        "start_time": "2023-06-03T07:53:10.192Z"
      },
      {
        "duration": 84,
        "start_time": "2023-06-03T07:53:10.208Z"
      },
      {
        "duration": 68,
        "start_time": "2023-06-03T07:53:10.293Z"
      },
      {
        "duration": 9553,
        "start_time": "2023-06-03T07:53:10.363Z"
      },
      {
        "duration": 248,
        "start_time": "2023-06-03T07:53:19.918Z"
      },
      {
        "duration": 31,
        "start_time": "2023-06-03T07:53:20.168Z"
      },
      {
        "duration": 74,
        "start_time": "2023-06-03T07:53:20.201Z"
      },
      {
        "duration": 76,
        "start_time": "2023-06-03T07:53:20.277Z"
      },
      {
        "duration": 82,
        "start_time": "2023-06-03T07:53:20.354Z"
      },
      {
        "duration": 13,
        "start_time": "2023-06-03T07:53:20.438Z"
      },
      {
        "duration": 9,
        "start_time": "2023-06-03T07:56:33.602Z"
      },
      {
        "duration": 55,
        "start_time": "2023-06-03T08:00:58.870Z"
      },
      {
        "duration": 52,
        "start_time": "2023-06-03T08:01:18.144Z"
      },
      {
        "duration": 62,
        "start_time": "2023-06-03T08:01:43.896Z"
      },
      {
        "duration": 52,
        "start_time": "2023-06-03T08:04:19.860Z"
      },
      {
        "duration": 50,
        "start_time": "2023-06-03T08:04:52.356Z"
      },
      {
        "duration": 77,
        "start_time": "2023-06-03T08:05:35.189Z"
      },
      {
        "duration": 56,
        "start_time": "2023-06-03T08:05:42.453Z"
      },
      {
        "duration": 78,
        "start_time": "2023-06-03T08:05:49.426Z"
      },
      {
        "duration": 65,
        "start_time": "2023-06-03T08:07:31.094Z"
      },
      {
        "duration": 237,
        "start_time": "2023-06-03T08:08:11.962Z"
      },
      {
        "duration": 63,
        "start_time": "2023-06-03T08:08:31.513Z"
      },
      {
        "duration": 70,
        "start_time": "2023-06-03T08:09:14.409Z"
      },
      {
        "duration": 9,
        "start_time": "2023-06-03T08:25:59.823Z"
      },
      {
        "duration": 10,
        "start_time": "2023-06-03T08:30:04.196Z"
      },
      {
        "duration": 22,
        "start_time": "2023-06-03T08:49:11.349Z"
      },
      {
        "duration": 18,
        "start_time": "2023-06-03T08:53:46.545Z"
      },
      {
        "duration": 15,
        "start_time": "2023-06-03T08:56:33.550Z"
      },
      {
        "duration": 12,
        "start_time": "2023-06-03T08:57:09.030Z"
      },
      {
        "duration": 14,
        "start_time": "2023-06-03T08:57:28.236Z"
      },
      {
        "duration": 20,
        "start_time": "2023-06-03T08:57:50.609Z"
      },
      {
        "duration": 31,
        "start_time": "2023-06-03T08:58:10.615Z"
      },
      {
        "duration": 1264,
        "start_time": "2023-06-03T08:59:06.533Z"
      },
      {
        "duration": 265,
        "start_time": "2023-06-03T08:59:07.799Z"
      },
      {
        "duration": 4,
        "start_time": "2023-06-03T08:59:08.066Z"
      },
      {
        "duration": 26,
        "start_time": "2023-06-03T08:59:08.071Z"
      },
      {
        "duration": 12,
        "start_time": "2023-06-03T08:59:08.099Z"
      },
      {
        "duration": 26,
        "start_time": "2023-06-03T08:59:08.113Z"
      },
      {
        "duration": 136,
        "start_time": "2023-06-03T08:59:08.140Z"
      },
      {
        "duration": 14,
        "start_time": "2023-06-03T08:59:08.277Z"
      },
      {
        "duration": 54,
        "start_time": "2023-06-03T08:59:08.293Z"
      },
      {
        "duration": 37,
        "start_time": "2023-06-03T08:59:08.348Z"
      },
      {
        "duration": 54,
        "start_time": "2023-06-03T08:59:08.387Z"
      },
      {
        "duration": 15,
        "start_time": "2023-06-03T08:59:08.443Z"
      },
      {
        "duration": 60,
        "start_time": "2023-06-03T08:59:08.459Z"
      },
      {
        "duration": 14,
        "start_time": "2023-06-03T08:59:08.529Z"
      },
      {
        "duration": 16,
        "start_time": "2023-06-03T08:59:08.545Z"
      },
      {
        "duration": 24,
        "start_time": "2023-06-03T08:59:08.562Z"
      },
      {
        "duration": 26,
        "start_time": "2023-06-03T08:59:08.588Z"
      },
      {
        "duration": 18,
        "start_time": "2023-06-03T08:59:08.616Z"
      },
      {
        "duration": 36,
        "start_time": "2023-06-03T08:59:08.635Z"
      },
      {
        "duration": 77,
        "start_time": "2023-06-03T08:59:08.673Z"
      },
      {
        "duration": 62,
        "start_time": "2023-06-03T08:59:08.752Z"
      },
      {
        "duration": 41,
        "start_time": "2023-06-03T08:59:08.816Z"
      },
      {
        "duration": 37,
        "start_time": "2023-06-03T08:59:08.859Z"
      },
      {
        "duration": 177,
        "start_time": "2023-06-03T08:59:08.898Z"
      },
      {
        "duration": 14,
        "start_time": "2023-06-03T08:59:09.077Z"
      },
      {
        "duration": 386,
        "start_time": "2023-06-03T08:59:09.093Z"
      },
      {
        "duration": 364,
        "start_time": "2023-06-03T08:59:09.480Z"
      },
      {
        "duration": 17,
        "start_time": "2023-06-03T08:59:09.847Z"
      },
      {
        "duration": 144,
        "start_time": "2023-06-03T08:59:09.866Z"
      },
      {
        "duration": 161,
        "start_time": "2023-06-03T08:59:10.011Z"
      },
      {
        "duration": 226,
        "start_time": "2023-06-03T08:59:10.174Z"
      },
      {
        "duration": 25,
        "start_time": "2023-06-03T08:59:10.402Z"
      },
      {
        "duration": 64,
        "start_time": "2023-06-03T08:59:10.428Z"
      },
      {
        "duration": 22,
        "start_time": "2023-06-03T08:59:10.494Z"
      },
      {
        "duration": 57,
        "start_time": "2023-06-03T08:59:10.518Z"
      },
      {
        "duration": 27,
        "start_time": "2023-06-03T08:59:10.576Z"
      },
      {
        "duration": 57,
        "start_time": "2023-06-03T08:59:10.606Z"
      },
      {
        "duration": 10,
        "start_time": "2023-06-03T08:59:10.665Z"
      },
      {
        "duration": 4,
        "start_time": "2023-06-03T08:59:10.677Z"
      },
      {
        "duration": 1303,
        "start_time": "2023-06-03T08:59:10.683Z"
      },
      {
        "duration": 15,
        "start_time": "2023-06-03T08:59:11.990Z"
      },
      {
        "duration": 81,
        "start_time": "2023-06-03T08:59:12.006Z"
      },
      {
        "duration": 49,
        "start_time": "2023-06-03T08:59:12.089Z"
      },
      {
        "duration": 8836,
        "start_time": "2023-06-03T08:59:12.140Z"
      },
      {
        "duration": 254,
        "start_time": "2023-06-03T08:59:20.978Z"
      },
      {
        "duration": 30,
        "start_time": "2023-06-03T08:59:21.233Z"
      },
      {
        "duration": 67,
        "start_time": "2023-06-03T08:59:21.265Z"
      },
      {
        "duration": 53,
        "start_time": "2023-06-03T08:59:21.335Z"
      },
      {
        "duration": 59,
        "start_time": "2023-06-03T08:59:21.390Z"
      },
      {
        "duration": 56,
        "start_time": "2023-06-03T08:59:21.451Z"
      },
      {
        "duration": 20,
        "start_time": "2023-06-03T08:59:21.509Z"
      },
      {
        "duration": 32,
        "start_time": "2023-06-03T08:59:21.531Z"
      },
      {
        "duration": 155,
        "start_time": "2023-06-03T08:59:45.889Z"
      },
      {
        "duration": 19,
        "start_time": "2023-06-03T09:00:29.419Z"
      },
      {
        "duration": 12,
        "start_time": "2023-06-03T09:00:39.118Z"
      },
      {
        "duration": 21,
        "start_time": "2023-06-03T09:04:58.324Z"
      },
      {
        "duration": 13,
        "start_time": "2023-06-03T09:13:26.124Z"
      },
      {
        "duration": 3,
        "start_time": "2023-06-03T09:13:40.411Z"
      },
      {
        "duration": 270,
        "start_time": "2023-06-03T09:13:40.416Z"
      },
      {
        "duration": 4,
        "start_time": "2023-06-03T09:13:40.687Z"
      },
      {
        "duration": 17,
        "start_time": "2023-06-03T09:13:40.692Z"
      },
      {
        "duration": 10,
        "start_time": "2023-06-03T09:13:40.711Z"
      },
      {
        "duration": 9,
        "start_time": "2023-06-03T09:13:40.723Z"
      },
      {
        "duration": 127,
        "start_time": "2023-06-03T09:13:40.734Z"
      },
      {
        "duration": 15,
        "start_time": "2023-06-03T09:13:40.862Z"
      },
      {
        "duration": 32,
        "start_time": "2023-06-03T09:13:40.878Z"
      },
      {
        "duration": 42,
        "start_time": "2023-06-03T09:13:40.911Z"
      },
      {
        "duration": 50,
        "start_time": "2023-06-03T09:13:40.954Z"
      },
      {
        "duration": 29,
        "start_time": "2023-06-03T09:13:41.006Z"
      },
      {
        "duration": 73,
        "start_time": "2023-06-03T09:13:41.039Z"
      },
      {
        "duration": 13,
        "start_time": "2023-06-03T09:13:41.114Z"
      },
      {
        "duration": 8,
        "start_time": "2023-06-03T09:13:41.128Z"
      },
      {
        "duration": 23,
        "start_time": "2023-06-03T09:13:41.137Z"
      },
      {
        "duration": 20,
        "start_time": "2023-06-03T09:13:41.162Z"
      },
      {
        "duration": 41,
        "start_time": "2023-06-03T09:13:41.184Z"
      },
      {
        "duration": 8,
        "start_time": "2023-06-03T09:13:41.227Z"
      },
      {
        "duration": 22,
        "start_time": "2023-06-03T09:13:41.237Z"
      },
      {
        "duration": 19,
        "start_time": "2023-06-03T09:13:41.261Z"
      },
      {
        "duration": 27,
        "start_time": "2023-06-03T09:13:41.281Z"
      },
      {
        "duration": 53,
        "start_time": "2023-06-03T09:13:41.310Z"
      },
      {
        "duration": 163,
        "start_time": "2023-06-03T09:13:41.365Z"
      },
      {
        "duration": 15,
        "start_time": "2023-06-03T09:13:41.530Z"
      },
      {
        "duration": 55,
        "start_time": "2023-06-03T09:13:41.546Z"
      },
      {
        "duration": 251,
        "start_time": "2023-06-03T09:13:41.602Z"
      },
      {
        "duration": 14,
        "start_time": "2023-06-03T09:13:41.854Z"
      },
      {
        "duration": 148,
        "start_time": "2023-06-03T09:13:41.871Z"
      },
      {
        "duration": 153,
        "start_time": "2023-06-03T09:13:42.024Z"
      },
      {
        "duration": 234,
        "start_time": "2023-06-03T09:13:42.179Z"
      },
      {
        "duration": 19,
        "start_time": "2023-06-03T09:13:42.415Z"
      },
      {
        "duration": 45,
        "start_time": "2023-06-03T09:13:42.436Z"
      },
      {
        "duration": 17,
        "start_time": "2023-06-03T09:13:42.483Z"
      },
      {
        "duration": 69,
        "start_time": "2023-06-03T09:13:42.501Z"
      },
      {
        "duration": 15,
        "start_time": "2023-06-03T09:13:42.572Z"
      },
      {
        "duration": 69,
        "start_time": "2023-06-03T09:13:42.590Z"
      },
      {
        "duration": 8,
        "start_time": "2023-06-03T09:13:42.661Z"
      },
      {
        "duration": 5,
        "start_time": "2023-06-03T09:13:42.670Z"
      },
      {
        "duration": 1108,
        "start_time": "2023-06-03T09:13:42.677Z"
      },
      {
        "duration": 14,
        "start_time": "2023-06-03T09:13:43.787Z"
      },
      {
        "duration": 69,
        "start_time": "2023-06-03T09:13:43.803Z"
      },
      {
        "duration": 34,
        "start_time": "2023-06-03T09:13:43.874Z"
      },
      {
        "duration": 7858,
        "start_time": "2023-06-03T09:13:43.909Z"
      },
      {
        "duration": 220,
        "start_time": "2023-06-03T09:13:51.769Z"
      },
      {
        "duration": 38,
        "start_time": "2023-06-03T09:13:51.991Z"
      },
      {
        "duration": 47,
        "start_time": "2023-06-03T09:13:52.031Z"
      },
      {
        "duration": 67,
        "start_time": "2023-06-03T09:13:52.079Z"
      },
      {
        "duration": 42,
        "start_time": "2023-06-03T09:13:52.147Z"
      },
      {
        "duration": 62,
        "start_time": "2023-06-03T09:13:52.190Z"
      },
      {
        "duration": 10,
        "start_time": "2023-06-03T09:14:05.016Z"
      },
      {
        "duration": 14,
        "start_time": "2023-06-03T09:14:06.585Z"
      },
      {
        "duration": 17,
        "start_time": "2023-06-03T09:14:39.349Z"
      },
      {
        "duration": 17,
        "start_time": "2023-06-03T09:14:56.409Z"
      },
      {
        "duration": 15,
        "start_time": "2023-06-03T09:17:25.176Z"
      },
      {
        "duration": 12,
        "start_time": "2023-06-03T09:33:04.949Z"
      },
      {
        "duration": 11,
        "start_time": "2023-06-03T09:33:20.705Z"
      },
      {
        "duration": 9,
        "start_time": "2023-06-03T09:33:25.145Z"
      },
      {
        "duration": 10,
        "start_time": "2023-06-03T09:33:39.205Z"
      },
      {
        "duration": 49,
        "start_time": "2023-06-03T09:37:17.055Z"
      },
      {
        "duration": 55,
        "start_time": "2023-06-03T09:38:36.504Z"
      },
      {
        "duration": 55,
        "start_time": "2023-06-03T09:38:45.105Z"
      },
      {
        "duration": 58,
        "start_time": "2023-06-03T09:39:21.723Z"
      },
      {
        "duration": 63,
        "start_time": "2023-06-03T09:44:14.622Z"
      },
      {
        "duration": 55,
        "start_time": "2023-06-03T09:44:31.772Z"
      },
      {
        "duration": 47,
        "start_time": "2023-06-03T09:45:58.657Z"
      },
      {
        "duration": 49,
        "start_time": "2023-06-03T09:46:17.805Z"
      },
      {
        "duration": 47,
        "start_time": "2023-06-03T09:48:09.411Z"
      },
      {
        "duration": 46,
        "start_time": "2023-06-03T09:48:14.378Z"
      },
      {
        "duration": 49,
        "start_time": "2023-06-03T09:48:49.615Z"
      },
      {
        "duration": 48,
        "start_time": "2023-06-03T09:48:59.405Z"
      },
      {
        "duration": 50,
        "start_time": "2023-06-03T09:49:48.625Z"
      },
      {
        "duration": 57,
        "start_time": "2023-06-03T09:50:05.229Z"
      },
      {
        "duration": 50,
        "start_time": "2023-06-03T09:55:53.701Z"
      },
      {
        "duration": 49,
        "start_time": "2023-06-03T09:56:11.506Z"
      },
      {
        "duration": 50,
        "start_time": "2023-06-03T09:56:32.521Z"
      },
      {
        "duration": 92,
        "start_time": "2023-06-03T09:59:55.206Z"
      },
      {
        "duration": 88,
        "start_time": "2023-06-03T10:00:00.768Z"
      },
      {
        "duration": 232,
        "start_time": "2023-06-03T10:06:28.652Z"
      },
      {
        "duration": 151,
        "start_time": "2023-06-03T10:06:55.134Z"
      },
      {
        "duration": 161,
        "start_time": "2023-06-03T10:07:20.040Z"
      },
      {
        "duration": 173,
        "start_time": "2023-06-03T10:10:40.349Z"
      },
      {
        "duration": 160,
        "start_time": "2023-06-03T10:10:51.894Z"
      },
      {
        "duration": 161,
        "start_time": "2023-06-03T10:11:07.154Z"
      },
      {
        "duration": 168,
        "start_time": "2023-06-03T10:12:56.540Z"
      },
      {
        "duration": 203,
        "start_time": "2023-06-03T10:13:13.402Z"
      },
      {
        "duration": 163,
        "start_time": "2023-06-03T10:13:28.463Z"
      },
      {
        "duration": 178,
        "start_time": "2023-06-03T10:13:48.525Z"
      },
      {
        "duration": 164,
        "start_time": "2023-06-03T10:24:30.334Z"
      },
      {
        "duration": 270,
        "start_time": "2023-06-03T10:26:52.416Z"
      },
      {
        "duration": 52,
        "start_time": "2023-06-03T10:46:49.999Z"
      },
      {
        "duration": 46,
        "start_time": "2023-06-03T10:47:07.802Z"
      },
      {
        "duration": 175,
        "start_time": "2023-06-03T10:48:29.615Z"
      },
      {
        "duration": 6,
        "start_time": "2023-06-03T12:49:20.444Z"
      },
      {
        "duration": 8,
        "start_time": "2023-06-03T12:49:25.491Z"
      },
      {
        "duration": 6,
        "start_time": "2023-06-03T12:49:33.423Z"
      },
      {
        "duration": 6,
        "start_time": "2023-06-03T12:49:59.247Z"
      },
      {
        "duration": 10,
        "start_time": "2023-06-03T12:50:01.489Z"
      },
      {
        "duration": 9,
        "start_time": "2023-06-03T12:50:23.744Z"
      },
      {
        "duration": 8,
        "start_time": "2023-06-03T12:50:29.232Z"
      },
      {
        "duration": 3,
        "start_time": "2023-06-03T12:57:33.617Z"
      },
      {
        "duration": 6,
        "start_time": "2023-06-03T13:00:30.320Z"
      },
      {
        "duration": 12,
        "start_time": "2023-06-03T13:00:56.630Z"
      },
      {
        "duration": 13,
        "start_time": "2023-06-03T13:01:02.437Z"
      },
      {
        "duration": 1189,
        "start_time": "2023-06-03T14:04:47.808Z"
      },
      {
        "duration": 260,
        "start_time": "2023-06-03T14:04:48.999Z"
      },
      {
        "duration": 4,
        "start_time": "2023-06-03T14:04:49.260Z"
      },
      {
        "duration": 19,
        "start_time": "2023-06-03T14:04:49.266Z"
      },
      {
        "duration": 9,
        "start_time": "2023-06-03T14:04:49.287Z"
      },
      {
        "duration": 14,
        "start_time": "2023-06-03T14:04:49.298Z"
      },
      {
        "duration": 141,
        "start_time": "2023-06-03T14:04:49.313Z"
      },
      {
        "duration": 15,
        "start_time": "2023-06-03T14:04:49.455Z"
      },
      {
        "duration": 38,
        "start_time": "2023-06-03T14:04:49.471Z"
      },
      {
        "duration": 44,
        "start_time": "2023-06-03T14:04:49.510Z"
      },
      {
        "duration": 36,
        "start_time": "2023-06-03T14:04:49.556Z"
      },
      {
        "duration": 32,
        "start_time": "2023-06-03T14:04:49.593Z"
      },
      {
        "duration": 67,
        "start_time": "2023-06-03T14:04:49.626Z"
      },
      {
        "duration": 8,
        "start_time": "2023-06-03T14:04:49.696Z"
      },
      {
        "duration": 24,
        "start_time": "2023-06-03T14:04:49.705Z"
      },
      {
        "duration": 21,
        "start_time": "2023-06-03T14:04:49.730Z"
      },
      {
        "duration": 22,
        "start_time": "2023-06-03T14:04:49.753Z"
      },
      {
        "duration": 9,
        "start_time": "2023-06-03T14:04:49.776Z"
      },
      {
        "duration": 9,
        "start_time": "2023-06-03T14:04:49.786Z"
      },
      {
        "duration": 45,
        "start_time": "2023-06-03T14:04:49.797Z"
      },
      {
        "duration": 10,
        "start_time": "2023-06-03T14:04:49.844Z"
      },
      {
        "duration": 16,
        "start_time": "2023-06-03T14:04:49.855Z"
      },
      {
        "duration": 65,
        "start_time": "2023-06-03T14:04:49.873Z"
      },
      {
        "duration": 157,
        "start_time": "2023-06-03T14:04:49.939Z"
      },
      {
        "duration": 15,
        "start_time": "2023-06-03T14:04:50.097Z"
      },
      {
        "duration": 324,
        "start_time": "2023-06-03T14:04:50.113Z"
      },
      {
        "duration": 349,
        "start_time": "2023-06-03T14:04:50.438Z"
      },
      {
        "duration": 13,
        "start_time": "2023-06-03T14:04:50.789Z"
      },
      {
        "duration": 142,
        "start_time": "2023-06-03T14:04:50.804Z"
      },
      {
        "duration": 171,
        "start_time": "2023-06-03T14:04:50.948Z"
      },
      {
        "duration": 228,
        "start_time": "2023-06-03T14:04:51.125Z"
      },
      {
        "duration": 14,
        "start_time": "2023-06-03T14:04:51.355Z"
      },
      {
        "duration": 61,
        "start_time": "2023-06-03T14:04:51.370Z"
      },
      {
        "duration": 17,
        "start_time": "2023-06-03T14:04:51.433Z"
      },
      {
        "duration": 44,
        "start_time": "2023-06-03T14:04:51.452Z"
      },
      {
        "duration": 39,
        "start_time": "2023-06-03T14:04:51.498Z"
      },
      {
        "duration": 56,
        "start_time": "2023-06-03T14:04:51.538Z"
      },
      {
        "duration": 9,
        "start_time": "2023-06-03T14:04:51.595Z"
      },
      {
        "duration": 3,
        "start_time": "2023-06-03T14:04:51.605Z"
      },
      {
        "duration": 1094,
        "start_time": "2023-06-03T14:04:51.625Z"
      },
      {
        "duration": 13,
        "start_time": "2023-06-03T14:04:52.722Z"
      },
      {
        "duration": 70,
        "start_time": "2023-06-03T14:04:52.737Z"
      },
      {
        "duration": 32,
        "start_time": "2023-06-03T14:04:52.809Z"
      },
      {
        "duration": 7931,
        "start_time": "2023-06-03T14:04:52.843Z"
      },
      {
        "duration": 220,
        "start_time": "2023-06-03T14:05:00.775Z"
      },
      {
        "duration": 46,
        "start_time": "2023-06-03T14:05:00.997Z"
      },
      {
        "duration": 109,
        "start_time": "2023-06-03T14:05:01.045Z"
      },
      {
        "duration": 109,
        "start_time": "2023-06-03T14:05:01.155Z"
      },
      {
        "duration": 196,
        "start_time": "2023-06-03T14:05:01.265Z"
      },
      {
        "duration": 50,
        "start_time": "2023-06-03T14:05:01.463Z"
      },
      {
        "duration": 43,
        "start_time": "2023-06-03T14:05:01.525Z"
      },
      {
        "duration": 60,
        "start_time": "2023-06-03T14:05:01.569Z"
      },
      {
        "duration": 15,
        "start_time": "2023-06-03T14:05:01.631Z"
      },
      {
        "duration": 40,
        "start_time": "2023-06-03T14:05:01.648Z"
      },
      {
        "duration": 69,
        "start_time": "2023-06-03T14:05:01.690Z"
      },
      {
        "duration": 1152,
        "start_time": "2023-06-03T14:07:14.086Z"
      },
      {
        "duration": 253,
        "start_time": "2023-06-03T14:07:15.240Z"
      },
      {
        "duration": 3,
        "start_time": "2023-06-03T14:07:15.495Z"
      },
      {
        "duration": 19,
        "start_time": "2023-06-03T14:07:15.500Z"
      },
      {
        "duration": 9,
        "start_time": "2023-06-03T14:07:15.520Z"
      },
      {
        "duration": 12,
        "start_time": "2023-06-03T14:07:15.530Z"
      },
      {
        "duration": 136,
        "start_time": "2023-06-03T14:07:15.544Z"
      },
      {
        "duration": 13,
        "start_time": "2023-06-03T14:07:15.682Z"
      },
      {
        "duration": 43,
        "start_time": "2023-06-03T14:07:15.697Z"
      },
      {
        "duration": 37,
        "start_time": "2023-06-03T14:07:15.742Z"
      },
      {
        "duration": 48,
        "start_time": "2023-06-03T14:07:15.781Z"
      },
      {
        "duration": 16,
        "start_time": "2023-06-03T14:07:15.831Z"
      },
      {
        "duration": 79,
        "start_time": "2023-06-03T14:07:15.849Z"
      },
      {
        "duration": 9,
        "start_time": "2023-06-03T14:07:15.930Z"
      },
      {
        "duration": 8,
        "start_time": "2023-06-03T14:07:15.941Z"
      },
      {
        "duration": 20,
        "start_time": "2023-06-03T14:07:15.951Z"
      },
      {
        "duration": 21,
        "start_time": "2023-06-03T14:07:15.973Z"
      },
      {
        "duration": 35,
        "start_time": "2023-06-03T14:07:15.996Z"
      },
      {
        "duration": 8,
        "start_time": "2023-06-03T14:07:16.033Z"
      },
      {
        "duration": 20,
        "start_time": "2023-06-03T14:07:16.042Z"
      },
      {
        "duration": 11,
        "start_time": "2023-06-03T14:07:16.063Z"
      },
      {
        "duration": 16,
        "start_time": "2023-06-03T14:07:16.076Z"
      },
      {
        "duration": 67,
        "start_time": "2023-06-03T14:07:16.094Z"
      },
      {
        "duration": 164,
        "start_time": "2023-06-03T14:07:16.162Z"
      },
      {
        "duration": 20,
        "start_time": "2023-06-03T14:07:16.327Z"
      },
      {
        "duration": 311,
        "start_time": "2023-06-03T14:07:16.349Z"
      },
      {
        "duration": 359,
        "start_time": "2023-06-03T14:07:16.662Z"
      },
      {
        "duration": 13,
        "start_time": "2023-06-03T14:07:17.025Z"
      },
      {
        "duration": 133,
        "start_time": "2023-06-03T14:07:17.039Z"
      },
      {
        "duration": 153,
        "start_time": "2023-06-03T14:07:17.174Z"
      },
      {
        "duration": 216,
        "start_time": "2023-06-03T14:07:17.328Z"
      },
      {
        "duration": 14,
        "start_time": "2023-06-03T14:07:17.546Z"
      },
      {
        "duration": 77,
        "start_time": "2023-06-03T14:07:17.562Z"
      },
      {
        "duration": 17,
        "start_time": "2023-06-03T14:07:17.641Z"
      },
      {
        "duration": 66,
        "start_time": "2023-06-03T14:07:17.660Z"
      },
      {
        "duration": 15,
        "start_time": "2023-06-03T14:07:17.728Z"
      },
      {
        "duration": 46,
        "start_time": "2023-06-03T14:07:17.744Z"
      },
      {
        "duration": 36,
        "start_time": "2023-06-03T14:07:17.792Z"
      },
      {
        "duration": 5,
        "start_time": "2023-06-03T14:07:17.829Z"
      },
      {
        "duration": 1061,
        "start_time": "2023-06-03T14:07:17.836Z"
      },
      {
        "duration": 14,
        "start_time": "2023-06-03T14:07:18.898Z"
      },
      {
        "duration": 65,
        "start_time": "2023-06-03T14:07:18.914Z"
      },
      {
        "duration": 55,
        "start_time": "2023-06-03T14:07:18.981Z"
      },
      {
        "duration": 8120,
        "start_time": "2023-06-03T14:07:19.038Z"
      },
      {
        "duration": 228,
        "start_time": "2023-06-03T14:07:27.159Z"
      },
      {
        "duration": 37,
        "start_time": "2023-06-03T14:07:27.389Z"
      },
      {
        "duration": 62,
        "start_time": "2023-06-03T14:07:27.427Z"
      },
      {
        "duration": 58,
        "start_time": "2023-06-03T14:07:27.490Z"
      },
      {
        "duration": 177,
        "start_time": "2023-06-03T14:07:27.550Z"
      },
      {
        "duration": 57,
        "start_time": "2023-06-03T14:07:27.728Z"
      },
      {
        "duration": 63,
        "start_time": "2023-06-03T14:07:27.787Z"
      },
      {
        "duration": 51,
        "start_time": "2023-06-03T14:07:27.851Z"
      },
      {
        "duration": 173,
        "start_time": "2023-06-03T14:07:27.904Z"
      },
      {
        "duration": 0,
        "start_time": "2023-06-03T14:07:28.079Z"
      },
      {
        "duration": 0,
        "start_time": "2023-06-03T14:07:28.080Z"
      },
      {
        "duration": 18,
        "start_time": "2023-06-03T14:07:50.978Z"
      },
      {
        "duration": 15,
        "start_time": "2023-06-03T14:08:13.913Z"
      },
      {
        "duration": 10,
        "start_time": "2023-06-03T14:08:54.399Z"
      },
      {
        "duration": 1226,
        "start_time": "2023-06-03T14:09:09.980Z"
      },
      {
        "duration": 249,
        "start_time": "2023-06-03T14:09:11.208Z"
      },
      {
        "duration": 3,
        "start_time": "2023-06-03T14:09:11.458Z"
      },
      {
        "duration": 43,
        "start_time": "2023-06-03T14:09:11.463Z"
      },
      {
        "duration": 9,
        "start_time": "2023-06-03T14:09:11.508Z"
      },
      {
        "duration": 29,
        "start_time": "2023-06-03T14:09:11.519Z"
      },
      {
        "duration": 143,
        "start_time": "2023-06-03T14:09:11.550Z"
      },
      {
        "duration": 15,
        "start_time": "2023-06-03T14:09:11.695Z"
      },
      {
        "duration": 19,
        "start_time": "2023-06-03T14:09:11.725Z"
      },
      {
        "duration": 34,
        "start_time": "2023-06-03T14:09:11.746Z"
      },
      {
        "duration": 68,
        "start_time": "2023-06-03T14:09:11.781Z"
      },
      {
        "duration": 15,
        "start_time": "2023-06-03T14:09:11.850Z"
      },
      {
        "duration": 72,
        "start_time": "2023-06-03T14:09:11.867Z"
      },
      {
        "duration": 9,
        "start_time": "2023-06-03T14:09:11.942Z"
      },
      {
        "duration": 9,
        "start_time": "2023-06-03T14:09:11.952Z"
      },
      {
        "duration": 22,
        "start_time": "2023-06-03T14:09:11.962Z"
      },
      {
        "duration": 53,
        "start_time": "2023-06-03T14:09:11.986Z"
      },
      {
        "duration": 9,
        "start_time": "2023-06-03T14:09:12.043Z"
      },
      {
        "duration": 16,
        "start_time": "2023-06-03T14:09:12.054Z"
      },
      {
        "duration": 29,
        "start_time": "2023-06-03T14:09:12.071Z"
      },
      {
        "duration": 12,
        "start_time": "2023-06-03T14:09:12.102Z"
      },
      {
        "duration": 36,
        "start_time": "2023-06-03T14:09:12.116Z"
      },
      {
        "duration": 53,
        "start_time": "2023-06-03T14:09:12.153Z"
      },
      {
        "duration": 161,
        "start_time": "2023-06-03T14:09:12.208Z"
      },
      {
        "duration": 27,
        "start_time": "2023-06-03T14:09:12.371Z"
      },
      {
        "duration": 311,
        "start_time": "2023-06-03T14:09:12.400Z"
      },
      {
        "duration": 380,
        "start_time": "2023-06-03T14:09:12.713Z"
      },
      {
        "duration": 14,
        "start_time": "2023-06-03T14:09:13.095Z"
      },
      {
        "duration": 129,
        "start_time": "2023-06-03T14:09:13.125Z"
      },
      {
        "duration": 165,
        "start_time": "2023-06-03T14:09:13.256Z"
      },
      {
        "duration": 247,
        "start_time": "2023-06-03T14:09:13.423Z"
      },
      {
        "duration": 15,
        "start_time": "2023-06-03T14:09:13.672Z"
      },
      {
        "duration": 95,
        "start_time": "2023-06-03T14:09:13.688Z"
      },
      {
        "duration": 19,
        "start_time": "2023-06-03T14:09:13.785Z"
      },
      {
        "duration": 57,
        "start_time": "2023-06-03T14:09:13.806Z"
      },
      {
        "duration": 14,
        "start_time": "2023-06-03T14:09:13.864Z"
      },
      {
        "duration": 64,
        "start_time": "2023-06-03T14:09:13.880Z"
      },
      {
        "duration": 12,
        "start_time": "2023-06-03T14:09:13.946Z"
      },
      {
        "duration": 9,
        "start_time": "2023-06-03T14:09:13.959Z"
      },
      {
        "duration": 1071,
        "start_time": "2023-06-03T14:09:13.969Z"
      },
      {
        "duration": 14,
        "start_time": "2023-06-03T14:09:15.043Z"
      },
      {
        "duration": 58,
        "start_time": "2023-06-03T14:09:15.058Z"
      },
      {
        "duration": 46,
        "start_time": "2023-06-03T14:09:15.117Z"
      },
      {
        "duration": 8594,
        "start_time": "2023-06-03T14:09:15.164Z"
      },
      {
        "duration": 227,
        "start_time": "2023-06-03T14:09:23.759Z"
      },
      {
        "duration": 27,
        "start_time": "2023-06-03T14:09:23.987Z"
      },
      {
        "duration": 48,
        "start_time": "2023-06-03T14:09:24.026Z"
      },
      {
        "duration": 63,
        "start_time": "2023-06-03T14:09:24.075Z"
      },
      {
        "duration": 174,
        "start_time": "2023-06-03T14:09:24.139Z"
      },
      {
        "duration": 50,
        "start_time": "2023-06-03T14:09:24.314Z"
      },
      {
        "duration": 41,
        "start_time": "2023-06-03T14:09:24.366Z"
      },
      {
        "duration": 65,
        "start_time": "2023-06-03T14:09:24.408Z"
      },
      {
        "duration": 147,
        "start_time": "2023-06-03T14:09:24.474Z"
      },
      {
        "duration": 0,
        "start_time": "2023-06-03T14:09:24.637Z"
      },
      {
        "duration": 0,
        "start_time": "2023-06-03T14:09:24.638Z"
      },
      {
        "duration": 21,
        "start_time": "2023-06-03T14:10:57.821Z"
      },
      {
        "duration": 15,
        "start_time": "2023-06-03T14:11:25.176Z"
      },
      {
        "duration": 14,
        "start_time": "2023-06-03T14:11:38.964Z"
      },
      {
        "duration": 33,
        "start_time": "2023-06-03T14:11:50.209Z"
      },
      {
        "duration": 17,
        "start_time": "2023-06-03T14:13:53.343Z"
      },
      {
        "duration": 12,
        "start_time": "2023-06-03T14:14:21.371Z"
      },
      {
        "duration": 13,
        "start_time": "2023-06-03T14:14:28.669Z"
      },
      {
        "duration": 8,
        "start_time": "2023-06-03T14:15:11.171Z"
      },
      {
        "duration": 5,
        "start_time": "2023-06-03T14:15:15.980Z"
      },
      {
        "duration": 8,
        "start_time": "2023-06-03T14:21:25.975Z"
      },
      {
        "duration": 11,
        "start_time": "2023-06-03T14:21:50.503Z"
      },
      {
        "duration": 10,
        "start_time": "2023-06-03T14:25:55.469Z"
      },
      {
        "duration": 7,
        "start_time": "2023-06-03T14:29:10.928Z"
      },
      {
        "duration": 648,
        "start_time": "2023-06-03T14:30:02.916Z"
      },
      {
        "duration": 33,
        "start_time": "2023-06-03T14:36:17.457Z"
      },
      {
        "duration": 8,
        "start_time": "2023-06-03T14:36:34.702Z"
      },
      {
        "duration": 12,
        "start_time": "2023-06-03T14:36:41.399Z"
      },
      {
        "duration": 11,
        "start_time": "2023-06-03T14:36:46.612Z"
      },
      {
        "duration": 6,
        "start_time": "2023-06-03T14:57:20.639Z"
      },
      {
        "duration": 8,
        "start_time": "2023-06-03T14:58:04.718Z"
      },
      {
        "duration": 4,
        "start_time": "2023-06-03T14:58:05.453Z"
      },
      {
        "duration": 527,
        "start_time": "2023-06-03T15:04:58.115Z"
      },
      {
        "duration": 544,
        "start_time": "2023-06-03T15:05:05.696Z"
      },
      {
        "duration": 8,
        "start_time": "2023-06-03T15:05:09.036Z"
      },
      {
        "duration": 5,
        "start_time": "2023-06-03T15:05:12.226Z"
      },
      {
        "duration": 1384,
        "start_time": "2023-06-04T03:26:43.365Z"
      },
      {
        "duration": 669,
        "start_time": "2023-06-04T03:26:44.751Z"
      },
      {
        "duration": 4,
        "start_time": "2023-06-04T03:26:45.422Z"
      },
      {
        "duration": 19,
        "start_time": "2023-06-04T03:26:45.427Z"
      },
      {
        "duration": 9,
        "start_time": "2023-06-04T03:26:45.448Z"
      },
      {
        "duration": 13,
        "start_time": "2023-06-04T03:26:45.458Z"
      },
      {
        "duration": 140,
        "start_time": "2023-06-04T03:26:45.472Z"
      },
      {
        "duration": 31,
        "start_time": "2023-06-04T03:26:45.613Z"
      },
      {
        "duration": 162,
        "start_time": "2023-06-04T03:26:45.646Z"
      },
      {
        "duration": 53,
        "start_time": "2023-06-04T03:26:45.810Z"
      },
      {
        "duration": 46,
        "start_time": "2023-06-04T03:26:45.865Z"
      },
      {
        "duration": 33,
        "start_time": "2023-06-04T03:26:45.913Z"
      },
      {
        "duration": 71,
        "start_time": "2023-06-04T03:26:45.947Z"
      },
      {
        "duration": 26,
        "start_time": "2023-06-04T03:26:46.022Z"
      },
      {
        "duration": 10,
        "start_time": "2023-06-04T03:26:46.049Z"
      },
      {
        "duration": 23,
        "start_time": "2023-06-04T03:26:46.060Z"
      },
      {
        "duration": 21,
        "start_time": "2023-06-04T03:26:46.084Z"
      },
      {
        "duration": 43,
        "start_time": "2023-06-04T03:26:46.106Z"
      },
      {
        "duration": 10,
        "start_time": "2023-06-04T03:26:46.151Z"
      },
      {
        "duration": 30,
        "start_time": "2023-06-04T03:26:46.162Z"
      },
      {
        "duration": 14,
        "start_time": "2023-06-04T03:26:46.193Z"
      },
      {
        "duration": 39,
        "start_time": "2023-06-04T03:26:46.208Z"
      },
      {
        "duration": 42,
        "start_time": "2023-06-04T03:26:46.249Z"
      },
      {
        "duration": 185,
        "start_time": "2023-06-04T03:26:46.293Z"
      },
      {
        "duration": 17,
        "start_time": "2023-06-04T03:26:46.480Z"
      },
      {
        "duration": 369,
        "start_time": "2023-06-04T03:26:46.499Z"
      },
      {
        "duration": 332,
        "start_time": "2023-06-04T03:26:46.870Z"
      },
      {
        "duration": 16,
        "start_time": "2023-06-04T03:26:47.204Z"
      },
      {
        "duration": 145,
        "start_time": "2023-06-04T03:26:47.222Z"
      },
      {
        "duration": 161,
        "start_time": "2023-06-04T03:26:47.369Z"
      },
      {
        "duration": 232,
        "start_time": "2023-06-04T03:26:47.532Z"
      },
      {
        "duration": 13,
        "start_time": "2023-06-04T03:26:47.766Z"
      },
      {
        "duration": 61,
        "start_time": "2023-06-04T03:26:47.780Z"
      },
      {
        "duration": 18,
        "start_time": "2023-06-04T03:26:47.843Z"
      },
      {
        "duration": 44,
        "start_time": "2023-06-04T03:26:47.862Z"
      },
      {
        "duration": 35,
        "start_time": "2023-06-04T03:26:47.908Z"
      },
      {
        "duration": 46,
        "start_time": "2023-06-04T03:26:47.944Z"
      },
      {
        "duration": 9,
        "start_time": "2023-06-04T03:26:47.991Z"
      },
      {
        "duration": 3,
        "start_time": "2023-06-04T03:26:48.002Z"
      },
      {
        "duration": 1098,
        "start_time": "2023-06-04T03:26:48.007Z"
      },
      {
        "duration": 15,
        "start_time": "2023-06-04T03:26:49.108Z"
      },
      {
        "duration": 61,
        "start_time": "2023-06-04T03:26:49.124Z"
      },
      {
        "duration": 58,
        "start_time": "2023-06-04T03:26:49.186Z"
      },
      {
        "duration": 7299,
        "start_time": "2023-06-04T03:26:49.246Z"
      },
      {
        "duration": 235,
        "start_time": "2023-06-04T03:26:56.546Z"
      },
      {
        "duration": 27,
        "start_time": "2023-06-04T03:26:56.783Z"
      },
      {
        "duration": 64,
        "start_time": "2023-06-04T03:26:56.812Z"
      },
      {
        "duration": 50,
        "start_time": "2023-06-04T03:26:56.877Z"
      },
      {
        "duration": 197,
        "start_time": "2023-06-04T03:26:56.928Z"
      },
      {
        "duration": 55,
        "start_time": "2023-06-04T03:26:57.127Z"
      },
      {
        "duration": 60,
        "start_time": "2023-06-04T03:26:57.184Z"
      },
      {
        "duration": 14,
        "start_time": "2023-06-04T03:26:57.246Z"
      },
      {
        "duration": 8,
        "start_time": "2023-06-04T03:26:57.261Z"
      },
      {
        "duration": 11,
        "start_time": "2023-06-04T03:26:57.270Z"
      },
      {
        "duration": 521,
        "start_time": "2023-06-04T03:26:57.282Z"
      },
      {
        "duration": 7,
        "start_time": "2023-06-04T03:26:57.805Z"
      },
      {
        "duration": 13,
        "start_time": "2023-06-04T03:26:57.814Z"
      },
      {
        "duration": 13,
        "start_time": "2023-06-04T03:27:09.888Z"
      },
      {
        "duration": 9,
        "start_time": "2023-06-04T03:27:29.905Z"
      },
      {
        "duration": 8,
        "start_time": "2023-06-04T03:28:07.632Z"
      },
      {
        "duration": 6,
        "start_time": "2023-06-04T03:28:43.649Z"
      },
      {
        "duration": 55,
        "start_time": "2023-06-04T03:29:26.290Z"
      },
      {
        "duration": 6,
        "start_time": "2023-06-04T03:29:34.015Z"
      },
      {
        "duration": 6,
        "start_time": "2023-06-04T03:29:42.794Z"
      },
      {
        "duration": 12,
        "start_time": "2023-06-04T03:29:56.777Z"
      },
      {
        "duration": 12,
        "start_time": "2023-06-04T03:30:19.013Z"
      },
      {
        "duration": 155,
        "start_time": "2023-06-04T03:50:43.867Z"
      },
      {
        "duration": 137,
        "start_time": "2023-06-04T03:51:12.241Z"
      },
      {
        "duration": 391,
        "start_time": "2023-06-04T03:51:29.095Z"
      },
      {
        "duration": 183,
        "start_time": "2023-06-04T03:51:34.959Z"
      },
      {
        "duration": 168,
        "start_time": "2023-06-04T03:51:39.791Z"
      },
      {
        "duration": 155,
        "start_time": "2023-06-04T03:51:45.521Z"
      },
      {
        "duration": 149,
        "start_time": "2023-06-04T03:51:49.297Z"
      },
      {
        "duration": 165,
        "start_time": "2023-06-04T03:51:53.097Z"
      },
      {
        "duration": 132,
        "start_time": "2023-06-04T03:51:57.468Z"
      },
      {
        "duration": 143,
        "start_time": "2023-06-04T03:52:01.631Z"
      },
      {
        "duration": 138,
        "start_time": "2023-06-04T03:52:05.203Z"
      },
      {
        "duration": 136,
        "start_time": "2023-06-04T03:52:16.654Z"
      },
      {
        "duration": 249,
        "start_time": "2023-06-04T03:52:43.753Z"
      },
      {
        "duration": 137,
        "start_time": "2023-06-04T03:52:53.955Z"
      },
      {
        "duration": 10,
        "start_time": "2023-06-04T03:57:59.110Z"
      },
      {
        "duration": 7,
        "start_time": "2023-06-04T03:58:02.116Z"
      },
      {
        "duration": 6,
        "start_time": "2023-06-04T03:58:10.405Z"
      },
      {
        "duration": 8,
        "start_time": "2023-06-04T03:58:27.622Z"
      },
      {
        "duration": 6,
        "start_time": "2023-06-04T03:58:28.772Z"
      },
      {
        "duration": 13,
        "start_time": "2023-06-04T03:58:30.680Z"
      },
      {
        "duration": 10,
        "start_time": "2023-06-04T04:01:59.780Z"
      },
      {
        "duration": 4,
        "start_time": "2023-06-04T04:02:14.791Z"
      },
      {
        "duration": 3,
        "start_time": "2023-06-04T04:02:21.371Z"
      },
      {
        "duration": 5,
        "start_time": "2023-06-04T04:02:45.000Z"
      },
      {
        "duration": 4,
        "start_time": "2023-06-04T04:02:50.107Z"
      },
      {
        "duration": 96,
        "start_time": "2023-06-04T04:03:19.123Z"
      },
      {
        "duration": 89,
        "start_time": "2023-06-04T04:05:08.355Z"
      },
      {
        "duration": 5,
        "start_time": "2023-06-04T04:16:17.878Z"
      },
      {
        "duration": 5,
        "start_time": "2023-06-04T04:16:34.823Z"
      },
      {
        "duration": 4,
        "start_time": "2023-06-04T04:17:33.066Z"
      },
      {
        "duration": 4,
        "start_time": "2023-06-04T04:17:34.809Z"
      },
      {
        "duration": 66,
        "start_time": "2023-06-04T04:17:57.616Z"
      },
      {
        "duration": 5,
        "start_time": "2023-06-04T04:18:10.005Z"
      },
      {
        "duration": 5,
        "start_time": "2023-06-04T04:18:11.930Z"
      },
      {
        "duration": 1261,
        "start_time": "2023-06-04T04:53:39.944Z"
      },
      {
        "duration": 248,
        "start_time": "2023-06-04T04:53:41.207Z"
      },
      {
        "duration": 4,
        "start_time": "2023-06-04T04:53:41.456Z"
      },
      {
        "duration": 21,
        "start_time": "2023-06-04T04:53:41.461Z"
      },
      {
        "duration": 9,
        "start_time": "2023-06-04T04:53:41.484Z"
      },
      {
        "duration": 9,
        "start_time": "2023-06-04T04:53:41.495Z"
      },
      {
        "duration": 154,
        "start_time": "2023-06-04T04:53:41.505Z"
      },
      {
        "duration": 16,
        "start_time": "2023-06-04T04:53:41.660Z"
      },
      {
        "duration": 24,
        "start_time": "2023-06-04T04:53:41.677Z"
      },
      {
        "duration": 64,
        "start_time": "2023-06-04T04:53:41.703Z"
      },
      {
        "duration": 42,
        "start_time": "2023-06-04T04:53:41.768Z"
      },
      {
        "duration": 32,
        "start_time": "2023-06-04T04:53:41.812Z"
      },
      {
        "duration": 71,
        "start_time": "2023-06-04T04:53:41.846Z"
      },
      {
        "duration": 24,
        "start_time": "2023-06-04T04:53:41.920Z"
      },
      {
        "duration": 8,
        "start_time": "2023-06-04T04:53:41.946Z"
      },
      {
        "duration": 23,
        "start_time": "2023-06-04T04:53:41.955Z"
      },
      {
        "duration": 21,
        "start_time": "2023-06-04T04:53:41.980Z"
      },
      {
        "duration": 40,
        "start_time": "2023-06-04T04:53:42.003Z"
      },
      {
        "duration": 10,
        "start_time": "2023-06-04T04:53:42.044Z"
      },
      {
        "duration": 26,
        "start_time": "2023-06-04T04:53:42.055Z"
      },
      {
        "duration": 12,
        "start_time": "2023-06-04T04:53:42.083Z"
      },
      {
        "duration": 15,
        "start_time": "2023-06-04T04:53:42.096Z"
      },
      {
        "duration": 95,
        "start_time": "2023-06-04T04:53:42.113Z"
      },
      {
        "duration": 176,
        "start_time": "2023-06-04T04:53:42.210Z"
      },
      {
        "duration": 16,
        "start_time": "2023-06-04T04:53:42.388Z"
      },
      {
        "duration": 349,
        "start_time": "2023-06-04T04:53:42.406Z"
      },
      {
        "duration": 316,
        "start_time": "2023-06-04T04:53:42.757Z"
      },
      {
        "duration": 15,
        "start_time": "2023-06-04T04:53:43.075Z"
      },
      {
        "duration": 155,
        "start_time": "2023-06-04T04:53:43.092Z"
      },
      {
        "duration": 153,
        "start_time": "2023-06-04T04:53:43.248Z"
      },
      {
        "duration": 231,
        "start_time": "2023-06-04T04:53:43.403Z"
      },
      {
        "duration": 18,
        "start_time": "2023-06-04T04:53:43.635Z"
      },
      {
        "duration": 65,
        "start_time": "2023-06-04T04:53:43.654Z"
      },
      {
        "duration": 32,
        "start_time": "2023-06-04T04:53:43.721Z"
      },
      {
        "duration": 70,
        "start_time": "2023-06-04T04:53:43.754Z"
      },
      {
        "duration": 29,
        "start_time": "2023-06-04T04:53:43.826Z"
      },
      {
        "duration": 69,
        "start_time": "2023-06-04T04:53:43.857Z"
      },
      {
        "duration": 16,
        "start_time": "2023-06-04T04:53:43.928Z"
      },
      {
        "duration": 17,
        "start_time": "2023-06-04T04:53:43.946Z"
      },
      {
        "duration": 1099,
        "start_time": "2023-06-04T04:53:43.965Z"
      },
      {
        "duration": 15,
        "start_time": "2023-06-04T04:53:45.068Z"
      },
      {
        "duration": 75,
        "start_time": "2023-06-04T04:53:45.084Z"
      },
      {
        "duration": 37,
        "start_time": "2023-06-04T04:53:45.160Z"
      },
      {
        "duration": 7762,
        "start_time": "2023-06-04T04:53:45.199Z"
      },
      {
        "duration": 225,
        "start_time": "2023-06-04T04:53:52.963Z"
      },
      {
        "duration": 28,
        "start_time": "2023-06-04T04:53:53.190Z"
      },
      {
        "duration": 63,
        "start_time": "2023-06-04T04:53:53.220Z"
      },
      {
        "duration": 64,
        "start_time": "2023-06-04T04:53:53.285Z"
      },
      {
        "duration": 180,
        "start_time": "2023-06-04T04:53:53.351Z"
      },
      {
        "duration": 53,
        "start_time": "2023-06-04T04:53:53.533Z"
      },
      {
        "duration": 58,
        "start_time": "2023-06-04T04:53:53.588Z"
      },
      {
        "duration": 13,
        "start_time": "2023-06-04T04:53:53.647Z"
      },
      {
        "duration": 9,
        "start_time": "2023-06-04T04:53:53.661Z"
      },
      {
        "duration": 5,
        "start_time": "2023-06-04T04:53:53.671Z"
      },
      {
        "duration": 8,
        "start_time": "2023-06-04T04:53:53.677Z"
      },
      {
        "duration": 7,
        "start_time": "2023-06-04T04:53:53.687Z"
      },
      {
        "duration": 599,
        "start_time": "2023-06-04T04:53:53.696Z"
      },
      {
        "duration": 8,
        "start_time": "2023-06-04T04:53:54.297Z"
      },
      {
        "duration": 10,
        "start_time": "2023-06-04T04:53:54.307Z"
      },
      {
        "duration": 6,
        "start_time": "2023-06-04T04:53:54.319Z"
      },
      {
        "duration": 4,
        "start_time": "2023-06-04T04:53:54.342Z"
      },
      {
        "duration": 7,
        "start_time": "2023-06-04T04:54:33.222Z"
      },
      {
        "duration": 7,
        "start_time": "2023-06-04T04:54:38.843Z"
      },
      {
        "duration": 7,
        "start_time": "2023-06-04T04:57:44.477Z"
      },
      {
        "duration": 7,
        "start_time": "2023-06-04T04:58:20.008Z"
      },
      {
        "duration": 6,
        "start_time": "2023-06-04T04:58:35.606Z"
      },
      {
        "duration": 150,
        "start_time": "2023-06-04T04:59:24.159Z"
      },
      {
        "duration": 15,
        "start_time": "2023-06-04T04:59:43.108Z"
      },
      {
        "duration": 112,
        "start_time": "2023-06-04T05:01:38.742Z"
      },
      {
        "duration": 211,
        "start_time": "2023-06-04T05:01:51.554Z"
      },
      {
        "duration": 5,
        "start_time": "2023-06-04T05:22:07.184Z"
      },
      {
        "duration": 6,
        "start_time": "2023-06-04T05:22:30.124Z"
      },
      {
        "duration": 92,
        "start_time": "2023-06-04T05:30:19.415Z"
      },
      {
        "duration": 142,
        "start_time": "2023-06-04T05:30:37.853Z"
      },
      {
        "duration": 8,
        "start_time": "2023-06-04T05:30:57.744Z"
      },
      {
        "duration": 5,
        "start_time": "2023-06-04T05:38:42.935Z"
      },
      {
        "duration": 11,
        "start_time": "2023-06-04T05:58:37.947Z"
      },
      {
        "duration": 13,
        "start_time": "2023-06-04T05:58:56.633Z"
      },
      {
        "duration": 20,
        "start_time": "2023-06-04T06:04:02.441Z"
      },
      {
        "duration": 11,
        "start_time": "2023-06-04T06:04:13.704Z"
      },
      {
        "duration": 9,
        "start_time": "2023-06-04T06:04:27.987Z"
      },
      {
        "duration": 18,
        "start_time": "2023-06-04T06:05:14.818Z"
      },
      {
        "duration": 13,
        "start_time": "2023-06-04T06:05:22.967Z"
      },
      {
        "duration": 11,
        "start_time": "2023-06-04T06:05:27.117Z"
      },
      {
        "duration": 74,
        "start_time": "2023-06-04T06:09:59.678Z"
      },
      {
        "duration": 159,
        "start_time": "2023-06-04T06:10:18.111Z"
      },
      {
        "duration": 20,
        "start_time": "2023-06-04T06:15:08.028Z"
      },
      {
        "duration": 16,
        "start_time": "2023-06-04T06:18:19.779Z"
      },
      {
        "duration": 10,
        "start_time": "2023-06-04T06:18:42.368Z"
      },
      {
        "duration": 16,
        "start_time": "2023-06-04T06:19:05.148Z"
      },
      {
        "duration": 93,
        "start_time": "2023-06-04T06:19:31.917Z"
      },
      {
        "duration": 19,
        "start_time": "2023-06-04T06:20:37.982Z"
      },
      {
        "duration": 18,
        "start_time": "2023-06-04T06:21:43.423Z"
      },
      {
        "duration": 14,
        "start_time": "2023-06-04T06:23:51.791Z"
      },
      {
        "duration": 16,
        "start_time": "2023-06-04T06:24:12.772Z"
      },
      {
        "duration": 13,
        "start_time": "2023-06-04T06:26:25.268Z"
      },
      {
        "duration": 15,
        "start_time": "2023-06-04T06:28:45.693Z"
      },
      {
        "duration": 16,
        "start_time": "2023-06-04T06:28:52.647Z"
      },
      {
        "duration": 16,
        "start_time": "2023-06-04T06:28:57.229Z"
      },
      {
        "duration": 19,
        "start_time": "2023-06-04T06:29:13.095Z"
      },
      {
        "duration": 23,
        "start_time": "2023-06-04T06:29:18.143Z"
      },
      {
        "duration": 17,
        "start_time": "2023-06-04T06:29:22.465Z"
      },
      {
        "duration": 18,
        "start_time": "2023-06-04T06:29:42.714Z"
      },
      {
        "duration": 24,
        "start_time": "2023-06-04T06:30:04.741Z"
      },
      {
        "duration": 20,
        "start_time": "2023-06-04T06:30:11.186Z"
      },
      {
        "duration": 19,
        "start_time": "2023-06-04T06:30:17.093Z"
      },
      {
        "duration": 26,
        "start_time": "2023-06-04T06:33:16.950Z"
      },
      {
        "duration": 9,
        "start_time": "2023-06-04T06:36:27.330Z"
      },
      {
        "duration": 14,
        "start_time": "2023-06-04T06:36:53.021Z"
      },
      {
        "duration": 10,
        "start_time": "2023-06-04T06:37:34.564Z"
      },
      {
        "duration": 12,
        "start_time": "2023-06-04T06:40:35.896Z"
      },
      {
        "duration": 14,
        "start_time": "2023-06-04T06:41:23.996Z"
      },
      {
        "duration": 13,
        "start_time": "2023-06-04T06:41:41.491Z"
      },
      {
        "duration": 18,
        "start_time": "2023-06-04T06:43:31.202Z"
      },
      {
        "duration": 29,
        "start_time": "2023-06-04T06:44:26.076Z"
      },
      {
        "duration": 8,
        "start_time": "2023-06-04T06:45:36.242Z"
      },
      {
        "duration": 8,
        "start_time": "2023-06-04T06:46:15.450Z"
      },
      {
        "duration": 28,
        "start_time": "2023-06-04T06:47:38.776Z"
      },
      {
        "duration": 45,
        "start_time": "2023-06-04T06:48:19.808Z"
      },
      {
        "duration": 30,
        "start_time": "2023-06-04T06:48:36.841Z"
      },
      {
        "duration": 24,
        "start_time": "2023-06-04T06:52:45.710Z"
      },
      {
        "duration": 1371,
        "start_time": "2023-06-04T07:25:34.975Z"
      },
      {
        "duration": 321,
        "start_time": "2023-06-04T07:25:36.349Z"
      },
      {
        "duration": 3,
        "start_time": "2023-06-04T07:25:36.672Z"
      },
      {
        "duration": 19,
        "start_time": "2023-06-04T07:25:36.677Z"
      },
      {
        "duration": 11,
        "start_time": "2023-06-04T07:25:36.698Z"
      },
      {
        "duration": 8,
        "start_time": "2023-06-04T07:25:36.710Z"
      },
      {
        "duration": 164,
        "start_time": "2023-06-04T07:25:36.720Z"
      },
      {
        "duration": 16,
        "start_time": "2023-06-04T07:25:36.885Z"
      },
      {
        "duration": 27,
        "start_time": "2023-06-04T07:25:36.903Z"
      },
      {
        "duration": 55,
        "start_time": "2023-06-04T07:25:36.932Z"
      },
      {
        "duration": 46,
        "start_time": "2023-06-04T07:25:36.989Z"
      },
      {
        "duration": 22,
        "start_time": "2023-06-04T07:25:37.042Z"
      },
      {
        "duration": 115,
        "start_time": "2023-06-04T07:25:37.065Z"
      },
      {
        "duration": 65,
        "start_time": "2023-06-04T07:25:37.182Z"
      },
      {
        "duration": 12,
        "start_time": "2023-06-04T07:25:37.256Z"
      },
      {
        "duration": 31,
        "start_time": "2023-06-04T07:25:37.269Z"
      },
      {
        "duration": 64,
        "start_time": "2023-06-04T07:25:37.302Z"
      },
      {
        "duration": 9,
        "start_time": "2023-06-04T07:25:37.367Z"
      },
      {
        "duration": 69,
        "start_time": "2023-06-04T07:25:37.378Z"
      },
      {
        "duration": 31,
        "start_time": "2023-06-04T07:25:37.448Z"
      },
      {
        "duration": 18,
        "start_time": "2023-06-04T07:25:37.481Z"
      },
      {
        "duration": 68,
        "start_time": "2023-06-04T07:25:37.501Z"
      },
      {
        "duration": 65,
        "start_time": "2023-06-04T07:25:37.571Z"
      },
      {
        "duration": 172,
        "start_time": "2023-06-04T07:25:37.638Z"
      },
      {
        "duration": 17,
        "start_time": "2023-06-04T07:25:37.812Z"
      },
      {
        "duration": 373,
        "start_time": "2023-06-04T07:25:37.831Z"
      },
      {
        "duration": 350,
        "start_time": "2023-06-04T07:25:38.206Z"
      },
      {
        "duration": 103,
        "start_time": "2023-06-04T07:25:38.561Z"
      },
      {
        "duration": 56,
        "start_time": "2023-06-04T07:25:38.666Z"
      },
      {
        "duration": 155,
        "start_time": "2023-06-04T07:25:38.724Z"
      },
      {
        "duration": 233,
        "start_time": "2023-06-04T07:25:38.881Z"
      },
      {
        "duration": 14,
        "start_time": "2023-06-04T07:25:39.116Z"
      },
      {
        "duration": 115,
        "start_time": "2023-06-04T07:25:39.132Z"
      },
      {
        "duration": 25,
        "start_time": "2023-06-04T07:25:39.248Z"
      },
      {
        "duration": 91,
        "start_time": "2023-06-04T07:25:39.275Z"
      },
      {
        "duration": 17,
        "start_time": "2023-06-04T07:25:39.368Z"
      },
      {
        "duration": 72,
        "start_time": "2023-06-04T07:25:39.386Z"
      },
      {
        "duration": 9,
        "start_time": "2023-06-04T07:25:39.460Z"
      },
      {
        "duration": 4,
        "start_time": "2023-06-04T07:25:39.470Z"
      },
      {
        "duration": 1106,
        "start_time": "2023-06-04T07:25:39.475Z"
      },
      {
        "duration": 14,
        "start_time": "2023-06-04T07:25:40.582Z"
      },
      {
        "duration": 77,
        "start_time": "2023-06-04T07:25:40.598Z"
      },
      {
        "duration": 39,
        "start_time": "2023-06-04T07:25:40.676Z"
      },
      {
        "duration": 8462,
        "start_time": "2023-06-04T07:25:40.717Z"
      },
      {
        "duration": 273,
        "start_time": "2023-06-04T07:25:49.181Z"
      },
      {
        "duration": 30,
        "start_time": "2023-06-04T07:25:49.456Z"
      },
      {
        "duration": 70,
        "start_time": "2023-06-04T07:25:49.487Z"
      },
      {
        "duration": 55,
        "start_time": "2023-06-04T07:25:49.558Z"
      },
      {
        "duration": 209,
        "start_time": "2023-06-04T07:25:49.614Z"
      },
      {
        "duration": 71,
        "start_time": "2023-06-04T07:25:49.825Z"
      },
      {
        "duration": 72,
        "start_time": "2023-06-04T07:25:49.898Z"
      },
      {
        "duration": 16,
        "start_time": "2023-06-04T07:25:49.972Z"
      },
      {
        "duration": 10,
        "start_time": "2023-06-04T07:25:49.989Z"
      },
      {
        "duration": 6,
        "start_time": "2023-06-04T07:25:50.001Z"
      },
      {
        "duration": 21,
        "start_time": "2023-06-04T07:25:50.009Z"
      },
      {
        "duration": 591,
        "start_time": "2023-06-04T07:25:50.032Z"
      },
      {
        "duration": 7,
        "start_time": "2023-06-04T07:25:50.625Z"
      },
      {
        "duration": 16,
        "start_time": "2023-06-04T07:25:50.641Z"
      },
      {
        "duration": 13,
        "start_time": "2023-06-04T07:25:50.659Z"
      },
      {
        "duration": 22,
        "start_time": "2023-06-04T07:25:50.674Z"
      },
      {
        "duration": 23,
        "start_time": "2023-06-04T07:25:50.698Z"
      },
      {
        "duration": 363,
        "start_time": "2023-06-04T07:25:50.724Z"
      },
      {
        "duration": 23,
        "start_time": "2023-06-04T07:42:01.574Z"
      },
      {
        "duration": 27,
        "start_time": "2023-06-04T07:44:00.215Z"
      },
      {
        "duration": 29,
        "start_time": "2023-06-04T07:48:18.195Z"
      },
      {
        "duration": 28,
        "start_time": "2023-06-04T07:54:16.106Z"
      },
      {
        "duration": 12,
        "start_time": "2023-06-04T08:13:46.633Z"
      },
      {
        "duration": 161,
        "start_time": "2023-06-04T08:14:21.749Z"
      },
      {
        "duration": 18,
        "start_time": "2023-06-04T08:15:53.344Z"
      },
      {
        "duration": 16,
        "start_time": "2023-06-04T08:16:01.752Z"
      },
      {
        "duration": 11,
        "start_time": "2023-06-04T08:20:52.942Z"
      },
      {
        "duration": 11,
        "start_time": "2023-06-04T08:21:19.485Z"
      },
      {
        "duration": 12,
        "start_time": "2023-06-04T08:21:29.121Z"
      },
      {
        "duration": 12,
        "start_time": "2023-06-04T08:22:16.494Z"
      },
      {
        "duration": 16,
        "start_time": "2023-06-04T08:22:35.865Z"
      },
      {
        "duration": 19,
        "start_time": "2023-06-04T08:24:06.206Z"
      },
      {
        "duration": 11,
        "start_time": "2023-06-04T08:25:16.180Z"
      },
      {
        "duration": 18,
        "start_time": "2023-06-04T08:25:24.446Z"
      },
      {
        "duration": 15,
        "start_time": "2023-06-04T08:25:52.287Z"
      },
      {
        "duration": 14,
        "start_time": "2023-06-04T08:26:21.899Z"
      },
      {
        "duration": 24,
        "start_time": "2023-06-04T08:28:30.149Z"
      },
      {
        "duration": 14,
        "start_time": "2023-06-04T08:28:37.375Z"
      },
      {
        "duration": 18,
        "start_time": "2023-06-04T08:30:31.375Z"
      },
      {
        "duration": 15,
        "start_time": "2023-06-04T08:30:39.491Z"
      },
      {
        "duration": 63,
        "start_time": "2023-06-04T08:32:00.464Z"
      },
      {
        "duration": 48,
        "start_time": "2023-06-04T08:32:23.886Z"
      },
      {
        "duration": 48,
        "start_time": "2023-06-04T08:33:12.710Z"
      },
      {
        "duration": 24,
        "start_time": "2023-06-04T08:35:21.116Z"
      },
      {
        "duration": 56,
        "start_time": "2023-06-04T08:45:32.070Z"
      },
      {
        "duration": 1203,
        "start_time": "2023-06-04T09:53:44.952Z"
      },
      {
        "duration": 281,
        "start_time": "2023-06-04T09:53:46.157Z"
      },
      {
        "duration": 4,
        "start_time": "2023-06-04T09:53:46.440Z"
      },
      {
        "duration": 29,
        "start_time": "2023-06-04T09:53:46.446Z"
      },
      {
        "duration": 10,
        "start_time": "2023-06-04T09:53:46.478Z"
      },
      {
        "duration": 11,
        "start_time": "2023-06-04T09:53:46.489Z"
      },
      {
        "duration": 167,
        "start_time": "2023-06-04T09:53:46.501Z"
      },
      {
        "duration": 16,
        "start_time": "2023-06-04T09:53:46.671Z"
      },
      {
        "duration": 23,
        "start_time": "2023-06-04T09:53:46.689Z"
      },
      {
        "duration": 42,
        "start_time": "2023-06-04T09:53:46.742Z"
      },
      {
        "duration": 61,
        "start_time": "2023-06-04T09:53:46.786Z"
      },
      {
        "duration": 20,
        "start_time": "2023-06-04T09:53:46.849Z"
      },
      {
        "duration": 94,
        "start_time": "2023-06-04T09:53:46.871Z"
      },
      {
        "duration": 10,
        "start_time": "2023-06-04T09:53:46.968Z"
      },
      {
        "duration": 21,
        "start_time": "2023-06-04T09:53:46.979Z"
      },
      {
        "duration": 25,
        "start_time": "2023-06-04T09:53:47.002Z"
      },
      {
        "duration": 25,
        "start_time": "2023-06-04T09:53:47.043Z"
      },
      {
        "duration": 12,
        "start_time": "2023-06-04T09:53:47.069Z"
      },
      {
        "duration": 12,
        "start_time": "2023-06-04T09:53:47.083Z"
      },
      {
        "duration": 50,
        "start_time": "2023-06-04T09:53:47.096Z"
      },
      {
        "duration": 12,
        "start_time": "2023-06-04T09:53:47.148Z"
      },
      {
        "duration": 16,
        "start_time": "2023-06-04T09:53:47.161Z"
      },
      {
        "duration": 92,
        "start_time": "2023-06-04T09:53:47.178Z"
      },
      {
        "duration": 187,
        "start_time": "2023-06-04T09:53:47.271Z"
      },
      {
        "duration": 19,
        "start_time": "2023-06-04T09:53:47.460Z"
      },
      {
        "duration": 397,
        "start_time": "2023-06-04T09:53:47.480Z"
      },
      {
        "duration": 328,
        "start_time": "2023-06-04T09:53:47.879Z"
      },
      {
        "duration": 33,
        "start_time": "2023-06-04T09:53:48.209Z"
      },
      {
        "duration": 181,
        "start_time": "2023-06-04T09:53:48.244Z"
      },
      {
        "duration": 165,
        "start_time": "2023-06-04T09:53:48.427Z"
      },
      {
        "duration": 254,
        "start_time": "2023-06-04T09:53:48.594Z"
      },
      {
        "duration": 16,
        "start_time": "2023-06-04T09:53:48.850Z"
      },
      {
        "duration": 78,
        "start_time": "2023-06-04T09:53:48.868Z"
      },
      {
        "duration": 19,
        "start_time": "2023-06-04T09:53:48.948Z"
      },
      {
        "duration": 48,
        "start_time": "2023-06-04T09:53:48.968Z"
      },
      {
        "duration": 41,
        "start_time": "2023-06-04T09:53:49.017Z"
      },
      {
        "duration": 114,
        "start_time": "2023-06-04T09:53:49.060Z"
      },
      {
        "duration": 41,
        "start_time": "2023-06-04T09:53:49.176Z"
      },
      {
        "duration": 55,
        "start_time": "2023-06-04T09:53:49.220Z"
      },
      {
        "duration": 1177,
        "start_time": "2023-06-04T09:53:49.277Z"
      },
      {
        "duration": 15,
        "start_time": "2023-06-04T09:53:50.458Z"
      },
      {
        "duration": 73,
        "start_time": "2023-06-04T09:53:50.475Z"
      },
      {
        "duration": 37,
        "start_time": "2023-06-04T09:53:50.550Z"
      },
      {
        "duration": 7571,
        "start_time": "2023-06-04T09:53:50.589Z"
      },
      {
        "duration": 265,
        "start_time": "2023-06-04T09:53:58.162Z"
      },
      {
        "duration": 41,
        "start_time": "2023-06-04T09:53:58.429Z"
      },
      {
        "duration": 48,
        "start_time": "2023-06-04T09:53:58.471Z"
      },
      {
        "duration": 66,
        "start_time": "2023-06-04T09:53:58.520Z"
      },
      {
        "duration": 14,
        "start_time": "2023-06-04T09:53:58.588Z"
      },
      {
        "duration": 64,
        "start_time": "2023-06-04T09:53:58.603Z"
      },
      {
        "duration": 49,
        "start_time": "2023-06-04T09:53:58.669Z"
      },
      {
        "duration": 60,
        "start_time": "2023-06-04T09:53:58.720Z"
      },
      {
        "duration": 13,
        "start_time": "2023-06-04T09:53:58.781Z"
      },
      {
        "duration": 8,
        "start_time": "2023-06-04T09:53:58.796Z"
      },
      {
        "duration": 5,
        "start_time": "2023-06-04T09:53:58.805Z"
      },
      {
        "duration": 33,
        "start_time": "2023-06-04T09:53:58.812Z"
      },
      {
        "duration": 521,
        "start_time": "2023-06-04T09:53:58.847Z"
      },
      {
        "duration": 7,
        "start_time": "2023-06-04T09:53:59.369Z"
      },
      {
        "duration": 9,
        "start_time": "2023-06-04T09:53:59.378Z"
      },
      {
        "duration": 6,
        "start_time": "2023-06-04T09:53:59.388Z"
      },
      {
        "duration": 17,
        "start_time": "2023-06-04T09:53:59.396Z"
      },
      {
        "duration": 45,
        "start_time": "2023-06-04T09:53:59.414Z"
      },
      {
        "duration": 71,
        "start_time": "2023-06-04T09:53:59.460Z"
      },
      {
        "duration": 51,
        "start_time": "2023-06-04T10:02:51.288Z"
      },
      {
        "duration": 54,
        "start_time": "2023-06-04T10:05:07.009Z"
      },
      {
        "duration": 46,
        "start_time": "2023-06-04T10:06:33.330Z"
      },
      {
        "duration": 173,
        "start_time": "2023-06-04T10:08:31.643Z"
      },
      {
        "duration": 66,
        "start_time": "2023-06-04T10:10:21.326Z"
      },
      {
        "duration": 79,
        "start_time": "2023-06-04T10:12:47.543Z"
      },
      {
        "duration": 16,
        "start_time": "2023-06-04T10:18:19.894Z"
      },
      {
        "duration": 16,
        "start_time": "2023-06-04T10:18:51.648Z"
      },
      {
        "duration": 4,
        "start_time": "2023-06-04T10:29:54.817Z"
      },
      {
        "duration": 1401,
        "start_time": "2023-06-04T11:23:45.524Z"
      },
      {
        "duration": 269,
        "start_time": "2023-06-04T11:23:46.927Z"
      },
      {
        "duration": 6,
        "start_time": "2023-06-04T11:23:47.198Z"
      },
      {
        "duration": 23,
        "start_time": "2023-06-04T11:23:47.206Z"
      },
      {
        "duration": 14,
        "start_time": "2023-06-04T11:23:47.232Z"
      },
      {
        "duration": 13,
        "start_time": "2023-06-04T11:23:47.249Z"
      },
      {
        "duration": 179,
        "start_time": "2023-06-04T11:23:47.264Z"
      },
      {
        "duration": 23,
        "start_time": "2023-06-04T11:23:47.445Z"
      },
      {
        "duration": 32,
        "start_time": "2023-06-04T11:23:47.470Z"
      },
      {
        "duration": 92,
        "start_time": "2023-06-04T11:23:47.504Z"
      },
      {
        "duration": 84,
        "start_time": "2023-06-04T11:23:47.598Z"
      },
      {
        "duration": 30,
        "start_time": "2023-06-04T11:23:47.684Z"
      },
      {
        "duration": 144,
        "start_time": "2023-06-04T11:23:47.717Z"
      },
      {
        "duration": 12,
        "start_time": "2023-06-04T11:23:47.865Z"
      },
      {
        "duration": 14,
        "start_time": "2023-06-04T11:23:47.879Z"
      },
      {
        "duration": 56,
        "start_time": "2023-06-04T11:23:47.895Z"
      },
      {
        "duration": 26,
        "start_time": "2023-06-04T11:23:47.952Z"
      },
      {
        "duration": 9,
        "start_time": "2023-06-04T11:23:47.980Z"
      },
      {
        "duration": 27,
        "start_time": "2023-06-04T11:23:47.991Z"
      },
      {
        "duration": 41,
        "start_time": "2023-06-04T11:23:48.020Z"
      },
      {
        "duration": 13,
        "start_time": "2023-06-04T11:23:48.063Z"
      },
      {
        "duration": 25,
        "start_time": "2023-06-04T11:23:48.078Z"
      },
      {
        "duration": 110,
        "start_time": "2023-06-04T11:23:48.106Z"
      },
      {
        "duration": 174,
        "start_time": "2023-06-04T11:23:48.219Z"
      },
      {
        "duration": 18,
        "start_time": "2023-06-04T11:23:48.395Z"
      },
      {
        "duration": 437,
        "start_time": "2023-06-04T11:23:48.414Z"
      },
      {
        "duration": 409,
        "start_time": "2023-06-04T11:23:48.853Z"
      },
      {
        "duration": 20,
        "start_time": "2023-06-04T11:23:49.265Z"
      },
      {
        "duration": 166,
        "start_time": "2023-06-04T11:23:49.287Z"
      },
      {
        "duration": 167,
        "start_time": "2023-06-04T11:23:49.454Z"
      },
      {
        "duration": 262,
        "start_time": "2023-06-04T11:23:49.622Z"
      },
      {
        "duration": 18,
        "start_time": "2023-06-04T11:23:49.886Z"
      },
      {
        "duration": 82,
        "start_time": "2023-06-04T11:23:49.906Z"
      },
      {
        "duration": 30,
        "start_time": "2023-06-04T11:23:49.991Z"
      },
      {
        "duration": 76,
        "start_time": "2023-06-04T11:23:50.023Z"
      },
      {
        "duration": 19,
        "start_time": "2023-06-04T11:23:50.100Z"
      },
      {
        "duration": 72,
        "start_time": "2023-06-04T11:23:50.122Z"
      },
      {
        "duration": 9,
        "start_time": "2023-06-04T11:23:50.197Z"
      },
      {
        "duration": 11,
        "start_time": "2023-06-04T11:23:50.207Z"
      },
      {
        "duration": 1094,
        "start_time": "2023-06-04T11:23:50.220Z"
      },
      {
        "duration": 23,
        "start_time": "2023-06-04T11:23:51.319Z"
      },
      {
        "duration": 63,
        "start_time": "2023-06-04T11:23:51.344Z"
      },
      {
        "duration": 52,
        "start_time": "2023-06-04T11:23:51.409Z"
      },
      {
        "duration": 7789,
        "start_time": "2023-06-04T11:23:51.463Z"
      },
      {
        "duration": 242,
        "start_time": "2023-06-04T11:23:59.253Z"
      },
      {
        "duration": 30,
        "start_time": "2023-06-04T11:23:59.497Z"
      },
      {
        "duration": 51,
        "start_time": "2023-06-04T11:23:59.541Z"
      },
      {
        "duration": 75,
        "start_time": "2023-06-04T11:23:59.594Z"
      },
      {
        "duration": 17,
        "start_time": "2023-06-04T11:23:59.671Z"
      },
      {
        "duration": 78,
        "start_time": "2023-06-04T11:23:59.690Z"
      },
      {
        "duration": 57,
        "start_time": "2023-06-04T11:23:59.769Z"
      },
      {
        "duration": 56,
        "start_time": "2023-06-04T11:23:59.828Z"
      },
      {
        "duration": 16,
        "start_time": "2023-06-04T11:23:59.886Z"
      },
      {
        "duration": 9,
        "start_time": "2023-06-04T11:23:59.904Z"
      },
      {
        "duration": 30,
        "start_time": "2023-06-04T11:23:59.915Z"
      },
      {
        "duration": 28,
        "start_time": "2023-06-04T11:23:59.946Z"
      },
      {
        "duration": 587,
        "start_time": "2023-06-04T11:23:59.976Z"
      },
      {
        "duration": 9,
        "start_time": "2023-06-04T11:24:00.566Z"
      },
      {
        "duration": 38,
        "start_time": "2023-06-04T11:24:00.577Z"
      },
      {
        "duration": 41,
        "start_time": "2023-06-04T11:24:00.618Z"
      },
      {
        "duration": 40,
        "start_time": "2023-06-04T11:24:00.661Z"
      },
      {
        "duration": 40,
        "start_time": "2023-06-04T11:24:00.703Z"
      },
      {
        "duration": 41,
        "start_time": "2023-06-04T11:24:00.745Z"
      },
      {
        "duration": 10,
        "start_time": "2023-06-04T12:58:42.001Z"
      },
      {
        "duration": 12,
        "start_time": "2023-06-04T13:00:56.811Z"
      },
      {
        "duration": 9,
        "start_time": "2023-06-04T13:07:16.746Z"
      },
      {
        "duration": 1288,
        "start_time": "2023-06-04T13:45:14.623Z"
      },
      {
        "duration": 280,
        "start_time": "2023-06-04T13:45:15.913Z"
      },
      {
        "duration": 4,
        "start_time": "2023-06-04T13:45:16.194Z"
      },
      {
        "duration": 22,
        "start_time": "2023-06-04T13:45:16.200Z"
      },
      {
        "duration": 10,
        "start_time": "2023-06-04T13:45:16.223Z"
      },
      {
        "duration": 10,
        "start_time": "2023-06-04T13:45:16.234Z"
      },
      {
        "duration": 154,
        "start_time": "2023-06-04T13:45:16.246Z"
      },
      {
        "duration": 16,
        "start_time": "2023-06-04T13:45:16.402Z"
      },
      {
        "duration": 42,
        "start_time": "2023-06-04T13:45:16.419Z"
      },
      {
        "duration": 40,
        "start_time": "2023-06-04T13:45:16.465Z"
      },
      {
        "duration": 65,
        "start_time": "2023-06-04T13:45:16.507Z"
      },
      {
        "duration": 19,
        "start_time": "2023-06-04T13:45:16.574Z"
      },
      {
        "duration": 90,
        "start_time": "2023-06-04T13:45:16.594Z"
      },
      {
        "duration": 9,
        "start_time": "2023-06-04T13:45:16.686Z"
      },
      {
        "duration": 9,
        "start_time": "2023-06-04T13:45:16.697Z"
      },
      {
        "duration": 42,
        "start_time": "2023-06-04T13:45:16.707Z"
      },
      {
        "duration": 24,
        "start_time": "2023-06-04T13:45:16.750Z"
      },
      {
        "duration": 11,
        "start_time": "2023-06-04T13:45:16.775Z"
      },
      {
        "duration": 10,
        "start_time": "2023-06-04T13:45:16.788Z"
      },
      {
        "duration": 56,
        "start_time": "2023-06-04T13:45:16.800Z"
      },
      {
        "duration": 13,
        "start_time": "2023-06-04T13:45:16.857Z"
      },
      {
        "duration": 18,
        "start_time": "2023-06-04T13:45:16.872Z"
      },
      {
        "duration": 86,
        "start_time": "2023-06-04T13:45:16.892Z"
      },
      {
        "duration": 181,
        "start_time": "2023-06-04T13:45:16.980Z"
      },
      {
        "duration": 18,
        "start_time": "2023-06-04T13:45:17.162Z"
      },
      {
        "duration": 373,
        "start_time": "2023-06-04T13:45:17.181Z"
      },
      {
        "duration": 358,
        "start_time": "2023-06-04T13:45:17.556Z"
      },
      {
        "duration": 132,
        "start_time": "2023-06-04T13:45:17.918Z"
      },
      {
        "duration": 90,
        "start_time": "2023-06-04T13:45:18.051Z"
      },
      {
        "duration": 169,
        "start_time": "2023-06-04T13:45:18.144Z"
      },
      {
        "duration": 288,
        "start_time": "2023-06-04T13:45:18.315Z"
      },
      {
        "duration": 21,
        "start_time": "2023-06-04T13:45:18.605Z"
      },
      {
        "duration": 89,
        "start_time": "2023-06-04T13:45:18.628Z"
      },
      {
        "duration": 43,
        "start_time": "2023-06-04T13:45:18.718Z"
      },
      {
        "duration": 51,
        "start_time": "2023-06-04T13:45:18.762Z"
      },
      {
        "duration": 31,
        "start_time": "2023-06-04T13:45:18.814Z"
      },
      {
        "duration": 49,
        "start_time": "2023-06-04T13:45:18.847Z"
      },
      {
        "duration": 10,
        "start_time": "2023-06-04T13:45:18.898Z"
      },
      {
        "duration": 3,
        "start_time": "2023-06-04T13:45:18.910Z"
      },
      {
        "duration": 1216,
        "start_time": "2023-06-04T13:45:18.943Z"
      },
      {
        "duration": 17,
        "start_time": "2023-06-04T13:45:20.161Z"
      },
      {
        "duration": 86,
        "start_time": "2023-06-04T13:45:20.180Z"
      },
      {
        "duration": 44,
        "start_time": "2023-06-04T13:45:20.268Z"
      },
      {
        "duration": 8348,
        "start_time": "2023-06-04T13:45:20.315Z"
      },
      {
        "duration": 246,
        "start_time": "2023-06-04T13:45:28.665Z"
      },
      {
        "duration": 39,
        "start_time": "2023-06-04T13:45:28.913Z"
      },
      {
        "duration": 58,
        "start_time": "2023-06-04T13:45:28.953Z"
      },
      {
        "duration": 82,
        "start_time": "2023-06-04T13:45:29.012Z"
      },
      {
        "duration": 18,
        "start_time": "2023-06-04T13:45:29.096Z"
      },
      {
        "duration": 158,
        "start_time": "2023-06-04T13:45:29.116Z"
      },
      {
        "duration": 94,
        "start_time": "2023-06-04T13:45:29.276Z"
      },
      {
        "duration": 79,
        "start_time": "2023-06-04T13:45:29.372Z"
      },
      {
        "duration": 76,
        "start_time": "2023-06-04T13:45:29.453Z"
      },
      {
        "duration": 25,
        "start_time": "2023-06-04T13:45:29.531Z"
      },
      {
        "duration": 39,
        "start_time": "2023-06-04T13:45:29.558Z"
      },
      {
        "duration": 10,
        "start_time": "2023-06-04T13:45:29.600Z"
      },
      {
        "duration": 17,
        "start_time": "2023-06-04T13:45:29.612Z"
      },
      {
        "duration": 636,
        "start_time": "2023-06-04T13:45:29.631Z"
      },
      {
        "duration": 9,
        "start_time": "2023-06-04T13:45:30.268Z"
      },
      {
        "duration": 43,
        "start_time": "2023-06-04T13:45:30.278Z"
      },
      {
        "duration": 22,
        "start_time": "2023-06-04T13:45:30.322Z"
      },
      {
        "duration": 29,
        "start_time": "2023-06-04T13:45:30.345Z"
      },
      {
        "duration": 25,
        "start_time": "2023-06-04T13:45:30.376Z"
      },
      {
        "duration": 45,
        "start_time": "2023-06-04T13:45:30.403Z"
      },
      {
        "duration": 1330,
        "start_time": "2023-06-04T14:59:16.891Z"
      },
      {
        "duration": 282,
        "start_time": "2023-06-04T14:59:18.223Z"
      },
      {
        "duration": 4,
        "start_time": "2023-06-04T14:59:18.508Z"
      },
      {
        "duration": 24,
        "start_time": "2023-06-04T14:59:18.515Z"
      },
      {
        "duration": 25,
        "start_time": "2023-06-04T14:59:18.542Z"
      },
      {
        "duration": 7,
        "start_time": "2023-06-04T14:59:18.569Z"
      },
      {
        "duration": 145,
        "start_time": "2023-06-04T14:59:18.578Z"
      },
      {
        "duration": 34,
        "start_time": "2023-06-04T14:59:18.724Z"
      },
      {
        "duration": 24,
        "start_time": "2023-06-04T14:59:18.759Z"
      },
      {
        "duration": 38,
        "start_time": "2023-06-04T14:59:18.785Z"
      },
      {
        "duration": 64,
        "start_time": "2023-06-04T14:59:18.825Z"
      },
      {
        "duration": 17,
        "start_time": "2023-06-04T14:59:18.890Z"
      },
      {
        "duration": 97,
        "start_time": "2023-06-04T14:59:18.908Z"
      },
      {
        "duration": 9,
        "start_time": "2023-06-04T14:59:19.006Z"
      },
      {
        "duration": 8,
        "start_time": "2023-06-04T14:59:19.016Z"
      },
      {
        "duration": 47,
        "start_time": "2023-06-04T14:59:19.026Z"
      },
      {
        "duration": 21,
        "start_time": "2023-06-04T14:59:19.075Z"
      },
      {
        "duration": 10,
        "start_time": "2023-06-04T14:59:19.098Z"
      },
      {
        "duration": 10,
        "start_time": "2023-06-04T14:59:19.110Z"
      },
      {
        "duration": 51,
        "start_time": "2023-06-04T14:59:19.122Z"
      },
      {
        "duration": 13,
        "start_time": "2023-06-04T14:59:19.175Z"
      },
      {
        "duration": 16,
        "start_time": "2023-06-04T14:59:19.190Z"
      },
      {
        "duration": 89,
        "start_time": "2023-06-04T14:59:19.208Z"
      },
      {
        "duration": 179,
        "start_time": "2023-06-04T14:59:19.298Z"
      },
      {
        "duration": 18,
        "start_time": "2023-06-04T14:59:19.478Z"
      },
      {
        "duration": 520,
        "start_time": "2023-06-04T14:59:19.497Z"
      },
      {
        "duration": 399,
        "start_time": "2023-06-04T14:59:20.018Z"
      },
      {
        "duration": 131,
        "start_time": "2023-06-04T14:59:20.422Z"
      },
      {
        "duration": 78,
        "start_time": "2023-06-04T14:59:20.555Z"
      },
      {
        "duration": 175,
        "start_time": "2023-06-04T14:59:20.635Z"
      },
      {
        "duration": 261,
        "start_time": "2023-06-04T14:59:20.812Z"
      },
      {
        "duration": 18,
        "start_time": "2023-06-04T14:59:21.075Z"
      },
      {
        "duration": 84,
        "start_time": "2023-06-04T14:59:21.094Z"
      },
      {
        "duration": 32,
        "start_time": "2023-06-04T14:59:21.180Z"
      },
      {
        "duration": 66,
        "start_time": "2023-06-04T14:59:21.214Z"
      },
      {
        "duration": 21,
        "start_time": "2023-06-04T14:59:21.284Z"
      },
      {
        "duration": 80,
        "start_time": "2023-06-04T14:59:21.307Z"
      },
      {
        "duration": 10,
        "start_time": "2023-06-04T14:59:21.388Z"
      },
      {
        "duration": 4,
        "start_time": "2023-06-04T14:59:21.401Z"
      },
      {
        "duration": 1361,
        "start_time": "2023-06-04T14:59:21.406Z"
      },
      {
        "duration": 16,
        "start_time": "2023-06-04T14:59:22.772Z"
      },
      {
        "duration": 85,
        "start_time": "2023-06-04T14:59:22.790Z"
      },
      {
        "duration": 59,
        "start_time": "2023-06-04T14:59:22.877Z"
      },
      {
        "duration": 8574,
        "start_time": "2023-06-04T14:59:22.938Z"
      },
      {
        "duration": 276,
        "start_time": "2023-06-04T14:59:31.513Z"
      },
      {
        "duration": 33,
        "start_time": "2023-06-04T14:59:31.791Z"
      },
      {
        "duration": 93,
        "start_time": "2023-06-04T14:59:31.826Z"
      },
      {
        "duration": 71,
        "start_time": "2023-06-04T14:59:31.921Z"
      },
      {
        "duration": 19,
        "start_time": "2023-06-04T14:59:31.994Z"
      },
      {
        "duration": 8,
        "start_time": "2023-06-04T14:59:32.015Z"
      },
      {
        "duration": 76,
        "start_time": "2023-06-04T14:59:32.025Z"
      },
      {
        "duration": 66,
        "start_time": "2023-06-04T14:59:32.103Z"
      },
      {
        "duration": 47,
        "start_time": "2023-06-04T14:59:32.171Z"
      },
      {
        "duration": 45,
        "start_time": "2023-06-04T14:59:32.220Z"
      },
      {
        "duration": 11,
        "start_time": "2023-06-04T14:59:32.267Z"
      },
      {
        "duration": 6,
        "start_time": "2023-06-04T14:59:32.279Z"
      },
      {
        "duration": 10,
        "start_time": "2023-06-04T14:59:32.287Z"
      },
      {
        "duration": 602,
        "start_time": "2023-06-04T14:59:32.298Z"
      },
      {
        "duration": 10,
        "start_time": "2023-06-04T14:59:32.902Z"
      },
      {
        "duration": 14,
        "start_time": "2023-06-04T14:59:32.913Z"
      },
      {
        "duration": 7,
        "start_time": "2023-06-04T14:59:32.929Z"
      },
      {
        "duration": 24,
        "start_time": "2023-06-04T14:59:32.952Z"
      },
      {
        "duration": 29,
        "start_time": "2023-06-04T14:59:32.978Z"
      },
      {
        "duration": 52,
        "start_time": "2023-06-04T14:59:33.009Z"
      },
      {
        "duration": 1366,
        "start_time": "2023-06-05T04:16:55.748Z"
      },
      {
        "duration": 929,
        "start_time": "2023-06-05T04:16:57.123Z"
      },
      {
        "duration": 3,
        "start_time": "2023-06-05T04:16:58.054Z"
      },
      {
        "duration": 15,
        "start_time": "2023-06-05T04:16:58.058Z"
      },
      {
        "duration": 8,
        "start_time": "2023-06-05T04:16:58.075Z"
      },
      {
        "duration": 52,
        "start_time": "2023-06-05T04:16:58.084Z"
      },
      {
        "duration": 125,
        "start_time": "2023-06-05T04:16:58.138Z"
      },
      {
        "duration": 13,
        "start_time": "2023-06-05T04:16:58.264Z"
      },
      {
        "duration": 24,
        "start_time": "2023-06-05T04:16:58.290Z"
      },
      {
        "duration": 49,
        "start_time": "2023-06-05T04:16:58.315Z"
      },
      {
        "duration": 53,
        "start_time": "2023-06-05T04:16:58.366Z"
      },
      {
        "duration": 30,
        "start_time": "2023-06-05T04:16:58.420Z"
      },
      {
        "duration": 72,
        "start_time": "2023-06-05T04:16:58.453Z"
      },
      {
        "duration": 7,
        "start_time": "2023-06-05T04:16:58.530Z"
      },
      {
        "duration": 6,
        "start_time": "2023-06-05T04:16:58.539Z"
      },
      {
        "duration": 22,
        "start_time": "2023-06-05T04:16:58.546Z"
      },
      {
        "duration": 45,
        "start_time": "2023-06-05T04:16:58.569Z"
      },
      {
        "duration": 13,
        "start_time": "2023-06-05T04:16:58.615Z"
      },
      {
        "duration": 8,
        "start_time": "2023-06-05T04:16:58.630Z"
      },
      {
        "duration": 19,
        "start_time": "2023-06-05T04:16:58.639Z"
      },
      {
        "duration": 9,
        "start_time": "2023-06-05T04:16:58.659Z"
      },
      {
        "duration": 48,
        "start_time": "2023-06-05T04:16:58.670Z"
      },
      {
        "duration": 63,
        "start_time": "2023-06-05T04:16:58.719Z"
      },
      {
        "duration": 159,
        "start_time": "2023-06-05T04:16:58.783Z"
      },
      {
        "duration": 14,
        "start_time": "2023-06-05T04:16:58.943Z"
      },
      {
        "duration": 401,
        "start_time": "2023-06-05T04:16:58.958Z"
      },
      {
        "duration": 383,
        "start_time": "2023-06-05T04:16:59.360Z"
      },
      {
        "duration": 12,
        "start_time": "2023-06-05T04:16:59.745Z"
      },
      {
        "duration": 69,
        "start_time": "2023-06-05T04:16:59.758Z"
      },
      {
        "duration": 137,
        "start_time": "2023-06-05T04:16:59.828Z"
      },
      {
        "duration": 223,
        "start_time": "2023-06-05T04:16:59.966Z"
      },
      {
        "duration": 19,
        "start_time": "2023-06-05T04:17:00.203Z"
      },
      {
        "duration": 98,
        "start_time": "2023-06-05T04:17:00.224Z"
      },
      {
        "duration": 39,
        "start_time": "2023-06-05T04:17:00.328Z"
      },
      {
        "duration": 99,
        "start_time": "2023-06-05T04:17:00.368Z"
      },
      {
        "duration": 42,
        "start_time": "2023-06-05T04:17:00.468Z"
      },
      {
        "duration": 96,
        "start_time": "2023-06-05T04:17:00.527Z"
      },
      {
        "duration": 39,
        "start_time": "2023-06-05T04:17:00.624Z"
      },
      {
        "duration": 60,
        "start_time": "2023-06-05T04:17:00.664Z"
      },
      {
        "duration": 1107,
        "start_time": "2023-06-05T04:17:00.725Z"
      },
      {
        "duration": 16,
        "start_time": "2023-06-05T04:17:01.836Z"
      },
      {
        "duration": 125,
        "start_time": "2023-06-05T04:17:01.854Z"
      },
      {
        "duration": 51,
        "start_time": "2023-06-05T04:17:01.980Z"
      },
      {
        "duration": 8390,
        "start_time": "2023-06-05T04:17:02.032Z"
      },
      {
        "duration": 381,
        "start_time": "2023-06-05T04:17:10.423Z"
      },
      {
        "duration": 29,
        "start_time": "2023-06-05T04:17:10.805Z"
      },
      {
        "duration": 44,
        "start_time": "2023-06-05T04:17:10.835Z"
      },
      {
        "duration": 62,
        "start_time": "2023-06-05T04:17:10.880Z"
      },
      {
        "duration": 50,
        "start_time": "2023-06-05T04:17:10.952Z"
      },
      {
        "duration": 11,
        "start_time": "2023-06-05T04:17:11.003Z"
      },
      {
        "duration": 105,
        "start_time": "2023-06-05T04:17:11.015Z"
      },
      {
        "duration": 51,
        "start_time": "2023-06-05T04:17:11.127Z"
      },
      {
        "duration": 47,
        "start_time": "2023-06-05T04:17:11.195Z"
      },
      {
        "duration": 11,
        "start_time": "2023-06-05T04:17:11.244Z"
      },
      {
        "duration": 21,
        "start_time": "2023-06-05T04:17:11.257Z"
      },
      {
        "duration": 21,
        "start_time": "2023-06-05T04:17:11.279Z"
      },
      {
        "duration": 30,
        "start_time": "2023-06-05T04:17:11.301Z"
      },
      {
        "duration": 571,
        "start_time": "2023-06-05T04:17:11.332Z"
      },
      {
        "duration": 16,
        "start_time": "2023-06-05T04:17:11.904Z"
      },
      {
        "duration": 13,
        "start_time": "2023-06-05T04:17:11.921Z"
      },
      {
        "duration": 7,
        "start_time": "2023-06-05T04:17:11.935Z"
      },
      {
        "duration": 15,
        "start_time": "2023-06-05T04:17:11.943Z"
      },
      {
        "duration": 23,
        "start_time": "2023-06-05T04:17:11.960Z"
      },
      {
        "duration": 35,
        "start_time": "2023-06-05T04:17:11.998Z"
      },
      {
        "duration": 14,
        "start_time": "2023-06-05T04:17:53.403Z"
      },
      {
        "duration": 34,
        "start_time": "2023-06-05T04:18:09.588Z"
      },
      {
        "duration": 1434,
        "start_time": "2023-06-05T11:36:51.043Z"
      },
      {
        "duration": 874,
        "start_time": "2023-06-05T11:36:52.479Z"
      },
      {
        "duration": 3,
        "start_time": "2023-06-05T11:36:53.355Z"
      },
      {
        "duration": 23,
        "start_time": "2023-06-05T11:36:53.360Z"
      },
      {
        "duration": 9,
        "start_time": "2023-06-05T11:36:53.385Z"
      },
      {
        "duration": 8,
        "start_time": "2023-06-05T11:36:53.396Z"
      },
      {
        "duration": 165,
        "start_time": "2023-06-05T11:36:53.406Z"
      },
      {
        "duration": 17,
        "start_time": "2023-06-05T11:36:53.575Z"
      },
      {
        "duration": 22,
        "start_time": "2023-06-05T11:36:53.593Z"
      },
      {
        "duration": 69,
        "start_time": "2023-06-05T11:36:53.616Z"
      },
      {
        "duration": 45,
        "start_time": "2023-06-05T11:36:53.686Z"
      },
      {
        "duration": 17,
        "start_time": "2023-06-05T11:36:53.732Z"
      },
      {
        "duration": 91,
        "start_time": "2023-06-05T11:36:53.751Z"
      },
      {
        "duration": 9,
        "start_time": "2023-06-05T11:36:53.845Z"
      },
      {
        "duration": 22,
        "start_time": "2023-06-05T11:36:53.856Z"
      },
      {
        "duration": 22,
        "start_time": "2023-06-05T11:36:53.880Z"
      },
      {
        "duration": 21,
        "start_time": "2023-06-05T11:36:53.904Z"
      },
      {
        "duration": 10,
        "start_time": "2023-06-05T11:36:53.926Z"
      },
      {
        "duration": 42,
        "start_time": "2023-06-05T11:36:53.937Z"
      },
      {
        "duration": 31,
        "start_time": "2023-06-05T11:36:53.981Z"
      },
      {
        "duration": 17,
        "start_time": "2023-06-05T11:36:54.014Z"
      },
      {
        "duration": 43,
        "start_time": "2023-06-05T11:36:54.033Z"
      },
      {
        "duration": 77,
        "start_time": "2023-06-05T11:36:54.078Z"
      },
      {
        "duration": 184,
        "start_time": "2023-06-05T11:36:54.158Z"
      },
      {
        "duration": 16,
        "start_time": "2023-06-05T11:36:54.343Z"
      },
      {
        "duration": 357,
        "start_time": "2023-06-05T11:36:54.361Z"
      },
      {
        "duration": 330,
        "start_time": "2023-06-05T11:36:54.720Z"
      },
      {
        "duration": 24,
        "start_time": "2023-06-05T11:36:55.052Z"
      },
      {
        "duration": 124,
        "start_time": "2023-06-05T11:36:55.077Z"
      },
      {
        "duration": 149,
        "start_time": "2023-06-05T11:36:55.203Z"
      },
      {
        "duration": 231,
        "start_time": "2023-06-05T11:36:55.354Z"
      },
      {
        "duration": 16,
        "start_time": "2023-06-05T11:36:55.586Z"
      },
      {
        "duration": 48,
        "start_time": "2023-06-05T11:36:55.604Z"
      },
      {
        "duration": 39,
        "start_time": "2023-06-05T11:36:55.653Z"
      },
      {
        "duration": 44,
        "start_time": "2023-06-05T11:36:55.694Z"
      },
      {
        "duration": 36,
        "start_time": "2023-06-05T11:36:55.740Z"
      },
      {
        "duration": 46,
        "start_time": "2023-06-05T11:36:55.777Z"
      },
      {
        "duration": 10,
        "start_time": "2023-06-05T11:36:55.824Z"
      },
      {
        "duration": 3,
        "start_time": "2023-06-05T11:36:55.835Z"
      },
      {
        "duration": 1079,
        "start_time": "2023-06-05T11:36:55.839Z"
      },
      {
        "duration": 14,
        "start_time": "2023-06-05T11:36:56.921Z"
      },
      {
        "duration": 69,
        "start_time": "2023-06-05T11:36:56.937Z"
      },
      {
        "duration": 35,
        "start_time": "2023-06-05T11:36:57.007Z"
      },
      {
        "duration": 8486,
        "start_time": "2023-06-05T11:36:57.044Z"
      },
      {
        "duration": 228,
        "start_time": "2023-06-05T11:37:05.533Z"
      },
      {
        "duration": 33,
        "start_time": "2023-06-05T11:37:05.762Z"
      },
      {
        "duration": 50,
        "start_time": "2023-06-05T11:37:05.797Z"
      },
      {
        "duration": 73,
        "start_time": "2023-06-05T11:37:05.849Z"
      },
      {
        "duration": 15,
        "start_time": "2023-06-05T11:37:05.923Z"
      },
      {
        "duration": 8,
        "start_time": "2023-06-05T11:37:05.939Z"
      },
      {
        "duration": 64,
        "start_time": "2023-06-05T11:37:05.948Z"
      },
      {
        "duration": 62,
        "start_time": "2023-06-05T11:37:06.014Z"
      },
      {
        "duration": 46,
        "start_time": "2023-06-05T11:37:06.078Z"
      },
      {
        "duration": 13,
        "start_time": "2023-06-05T11:37:06.126Z"
      },
      {
        "duration": 34,
        "start_time": "2023-06-05T11:37:06.141Z"
      },
      {
        "duration": 5,
        "start_time": "2023-06-05T11:37:06.177Z"
      },
      {
        "duration": 20,
        "start_time": "2023-06-05T11:37:06.184Z"
      },
      {
        "duration": 563,
        "start_time": "2023-06-05T11:37:06.205Z"
      },
      {
        "duration": 11,
        "start_time": "2023-06-05T11:37:06.770Z"
      },
      {
        "duration": 9,
        "start_time": "2023-06-05T11:37:06.782Z"
      },
      {
        "duration": 16,
        "start_time": "2023-06-05T11:37:06.792Z"
      },
      {
        "duration": 17,
        "start_time": "2023-06-05T11:37:06.810Z"
      },
      {
        "duration": 20,
        "start_time": "2023-06-05T11:37:06.829Z"
      },
      {
        "duration": 39,
        "start_time": "2023-06-05T11:37:06.850Z"
      },
      {
        "duration": 2335,
        "start_time": "2023-07-02T13:20:08.208Z"
      }
    ],
    "kernelspec": {
      "display_name": "Python 3 (ipykernel)",
      "language": "python",
      "name": "python3"
    },
    "language_info": {
      "codemirror_mode": {
        "name": "ipython",
        "version": 3
      },
      "file_extension": ".py",
      "mimetype": "text/x-python",
      "name": "python",
      "nbconvert_exporter": "python",
      "pygments_lexer": "ipython3",
      "version": "3.9.5"
    },
    "toc": {
      "base_numbering": 1,
      "nav_menu": {
        "height": "228px",
        "width": "576px"
      },
      "number_sections": true,
      "sideBar": true,
      "skip_h1_title": true,
      "title_cell": "Table of Contents",
      "title_sidebar": "Contents",
      "toc_cell": false,
      "toc_position": {},
      "toc_section_display": true,
      "toc_window_display": false
    },
    "colab": {
      "provenance": []
    }
  },
  "nbformat": 4,
  "nbformat_minor": 0
}